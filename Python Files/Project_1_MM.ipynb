{
 "cells": [
  {
   "cell_type": "code",
   "execution_count": 140,
   "metadata": {},
   "outputs": [],
   "source": [
    "# Importing Libraries Required to import API's and Graph/Interface with Data:\n",
    "import os\n",
    "import numpy as np\n",
    "import pandas as pd\n",
    "import json as js\n",
    "import requests\n",
    "import http.client\n",
    "from dotenv import load_dotenv\n",
    "from MCForecastTools import MCSimulation\n",
    "from pathlib import Path\n",
    "from SplitTool import splitDataFrameList\n",
    "\n",
    "%matplotlib inline"
   ]
  },
  {
   "cell_type": "code",
   "execution_count": 141,
   "metadata": {},
   "outputs": [
    {
     "data": {
      "text/plain": [
       "True"
      ]
     },
     "execution_count": 141,
     "metadata": {},
     "output_type": "execute_result"
    }
   ],
   "source": [
    "# Loading .env environment variable:\n",
    "load_dotenv()"
   ]
  },
  {
   "cell_type": "code",
   "execution_count": 142,
   "metadata": {},
   "outputs": [
    {
     "name": "stdout",
     "output_type": "stream",
     "text": [
      "Attom Key type: <class 'str'>\n"
     ]
    }
   ],
   "source": [
    "# Setting API key for Attom Property Snapshot API:\n",
    "attom_api_key = os.getenv('ATTOM_API_KEY')\n",
    "\n",
    "# Verifying that key was passed through accurately:\n",
    "print(f\"Attom Key type: {type(attom_api_key)}\")"
   ]
  },
  {
   "cell_type": "code",
   "execution_count": 143,
   "metadata": {},
   "outputs": [
    {
     "data": {
      "text/html": [
       "<div>\n",
       "<style scoped>\n",
       "    .dataframe tbody tr th:only-of-type {\n",
       "        vertical-align: middle;\n",
       "    }\n",
       "\n",
       "    .dataframe tbody tr th {\n",
       "        vertical-align: top;\n",
       "    }\n",
       "\n",
       "    .dataframe thead th {\n",
       "        text-align: right;\n",
       "    }\n",
       "</style>\n",
       "<table border=\"1\" class=\"dataframe\">\n",
       "  <thead>\n",
       "    <tr style=\"text-align: right;\">\n",
       "      <th></th>\n",
       "      <th>city</th>\n",
       "      <th>zips</th>\n",
       "    </tr>\n",
       "  </thead>\n",
       "  <tbody>\n",
       "    <tr>\n",
       "      <th>0</th>\n",
       "      <td>New York</td>\n",
       "      <td>11229</td>\n",
       "    </tr>\n",
       "    <tr>\n",
       "      <th>1</th>\n",
       "      <td>New York</td>\n",
       "      <td>11226</td>\n",
       "    </tr>\n",
       "    <tr>\n",
       "      <th>2</th>\n",
       "      <td>New York</td>\n",
       "      <td>11225</td>\n",
       "    </tr>\n",
       "    <tr>\n",
       "      <th>3</th>\n",
       "      <td>New York</td>\n",
       "      <td>11224</td>\n",
       "    </tr>\n",
       "    <tr>\n",
       "      <th>4</th>\n",
       "      <td>New York</td>\n",
       "      <td>11222</td>\n",
       "    </tr>\n",
       "    <tr>\n",
       "      <th>...</th>\n",
       "      <td>...</td>\n",
       "      <td>...</td>\n",
       "    </tr>\n",
       "    <tr>\n",
       "      <th>46276</th>\n",
       "      <td>Caputa</td>\n",
       "      <td>57703</td>\n",
       "    </tr>\n",
       "    <tr>\n",
       "      <th>46277</th>\n",
       "      <td>Hamill</td>\n",
       "      <td>57534</td>\n",
       "    </tr>\n",
       "    <tr>\n",
       "      <th>46278</th>\n",
       "      <td>Loomis</td>\n",
       "      <td>57301</td>\n",
       "    </tr>\n",
       "    <tr>\n",
       "      <th>46279</th>\n",
       "      <td>Bijou Hills</td>\n",
       "      <td>57369</td>\n",
       "    </tr>\n",
       "    <tr>\n",
       "      <th>46280</th>\n",
       "      <td>Ola</td>\n",
       "      <td>57325</td>\n",
       "    </tr>\n",
       "  </tbody>\n",
       "</table>\n",
       "<p>46281 rows × 2 columns</p>\n",
       "</div>"
      ],
      "text/plain": [
       "              city   zips\n",
       "0         New York  11229\n",
       "1         New York  11226\n",
       "2         New York  11225\n",
       "3         New York  11224\n",
       "4         New York  11222\n",
       "...            ...    ...\n",
       "46276       Caputa  57703\n",
       "46277       Hamill  57534\n",
       "46278       Loomis  57301\n",
       "46279  Bijou Hills  57369\n",
       "46280          Ola  57325\n",
       "\n",
       "[46281 rows x 2 columns]"
      ]
     },
     "execution_count": 143,
     "metadata": {},
     "output_type": "execute_result"
    }
   ],
   "source": [
    "# Defining csv path to read us cities data csv which includes zip code data:\n",
    "uscities_csv = Path(\"../Data/uscities.csv\")\n",
    "\n",
    "# imorting uscities.csv and extracting zip code data to utilize in API, data selections:\n",
    "read_df = pd.read_csv(uscities_csv)\n",
    "\n",
    "# isolating the city and zip columns from read_df and assigning to new df:\n",
    "zip_df = read_df[{'zips', 'city'}]\n",
    "\n",
    "# Breaking out multiple zips in single cell to individual row while keeping city element:\n",
    "zip_df_new = (zip_df.set_index('city')\n",
    "   .apply(lambda x: x.str.split(' ').explode())\n",
    "   .reset_index())\n",
    "\n",
    "zip_df_new"
   ]
  },
  {
   "cell_type": "code",
   "execution_count": 155,
   "metadata": {},
   "outputs": [],
   "source": [
    "# Connecting ATTOM API to my python code:\n",
    "conn = http.client.HTTPSConnection(\"api.gateway.attomdata.com\")\n",
    "\n",
    "# Accepting headers as per the ATTOM API documentation:\n",
    "headers = { \n",
    "    'accept': \"application/json\", \n",
    "    'apikey': attom_api_key, \n",
    "}"
   ]
  },
  {
   "cell_type": "code",
   "execution_count": 157,
   "metadata": {},
   "outputs": [],
   "source": [
    "# Initiating API request to pull property data from Attom API:\n",
    "\n",
    "# Requst for proprety detail as it pertains to New York:\n",
    "conn.request(\"GET\", \"/propertyapi/v1.0.0/property/detail?postalcode=10004&page=1&pagesize=100\", headers=headers)\n",
    "\n",
    "# Request for listing of properties within a specific zip code:\n",
    "#conn.request(\"GET\", f\"/propertyapi/v1.0.0/property/address?postalcode={api_zip}&page=1&pagesize=100\", headers=headers)\n",
    "\n",
    "# assigning response to variable \"res\" and reading the data and assigning to variable \"data\":\n",
    "res = conn.getresponse() \n",
    "data = res.read()"
   ]
  },
  {
   "cell_type": "code",
   "execution_count": null,
   "metadata": {},
   "outputs": [],
   "source": []
  }
 ],
 "metadata": {
  "kernelspec": {
   "display_name": "alpacaenv",
   "language": "python",
   "name": "alpacaenv"
  },
  "language_info": {
   "codemirror_mode": {
    "name": "ipython",
    "version": 3
   },
   "file_extension": ".py",
   "mimetype": "text/x-python",
   "name": "python",
   "nbconvert_exporter": "python",
   "pygments_lexer": "ipython3",
   "version": "3.7.7"
  }
 },
 "nbformat": 4,
 "nbformat_minor": 4
}
