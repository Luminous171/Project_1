{
 "cells": [
  {
   "cell_type": "code",
   "execution_count": 19,
   "metadata": {},
   "outputs": [],
   "source": [
    "# This is Eli's Python File\n",
    "# Import statements\n",
    "import plotly.express as px\n",
    "import plotly.graph_objects as go\n",
    "import numpy as np\n",
    "import pandas as pd\n",
    "from pathlib import Path\n",
    "from MCForecastTools import MCSimulation\n",
    "import matplotlib.pyplot as plt\n",
    "from matplotlib.ticker import FuncFormatter\n",
    "import os\n",
    "from dotenv import load_dotenv"
   ]
  },
  {
   "cell_type": "code",
   "execution_count": 46,
   "metadata": {},
   "outputs": [
    {
     "data": {
      "text/html": [
       "<div>\n",
       "<style scoped>\n",
       "    .dataframe tbody tr th:only-of-type {\n",
       "        vertical-align: middle;\n",
       "    }\n",
       "\n",
       "    .dataframe tbody tr th {\n",
       "        vertical-align: top;\n",
       "    }\n",
       "\n",
       "    .dataframe thead th {\n",
       "        text-align: right;\n",
       "    }\n",
       "</style>\n",
       "<table border=\"1\" class=\"dataframe\">\n",
       "  <thead>\n",
       "    <tr style=\"text-align: right;\">\n",
       "      <th>Label</th>\n",
       "      <th>Median income (dollars)</th>\n",
       "      <th>Mean income (dollars)</th>\n",
       "      <th>Primary MSA</th>\n",
       "      <th>Secondary MSA</th>\n",
       "      <th>Primary State</th>\n",
       "      <th>Secondary State</th>\n",
       "    </tr>\n",
       "  </thead>\n",
       "  <tbody>\n",
       "    <tr>\n",
       "      <th>0</th>\n",
       "      <td>61,026</td>\n",
       "      <td>77,948</td>\n",
       "      <td>Aberdeen</td>\n",
       "      <td>None</td>\n",
       "      <td>WA</td>\n",
       "      <td>None</td>\n",
       "    </tr>\n",
       "    <tr>\n",
       "      <th>8</th>\n",
       "      <td>54,808</td>\n",
       "      <td>71,517</td>\n",
       "      <td>Abilene</td>\n",
       "      <td>None</td>\n",
       "      <td>TX</td>\n",
       "      <td>None</td>\n",
       "    </tr>\n",
       "    <tr>\n",
       "      <th>16</th>\n",
       "      <td>53,865</td>\n",
       "      <td>69,443</td>\n",
       "      <td>Adrian</td>\n",
       "      <td>None</td>\n",
       "      <td>MI</td>\n",
       "      <td>None</td>\n",
       "    </tr>\n",
       "    <tr>\n",
       "      <th>24</th>\n",
       "      <td>16,311</td>\n",
       "      <td>25,781</td>\n",
       "      <td>Aguadilla</td>\n",
       "      <td>Isabela</td>\n",
       "      <td>PR</td>\n",
       "      <td>None</td>\n",
       "    </tr>\n",
       "    <tr>\n",
       "      <th>32</th>\n",
       "      <td>57,158</td>\n",
       "      <td>80,800</td>\n",
       "      <td>Akron</td>\n",
       "      <td>None</td>\n",
       "      <td>OH</td>\n",
       "      <td>None</td>\n",
       "    </tr>\n",
       "  </tbody>\n",
       "</table>\n",
       "</div>"
      ],
      "text/plain": [
       "Label Median income (dollars) Mean income (dollars) Primary MSA Secondary MSA  \\\n",
       "0                      61,026                77,948    Aberdeen          None   \n",
       "8                      54,808                71,517     Abilene          None   \n",
       "16                     53,865                69,443      Adrian          None   \n",
       "24                     16,311                25,781   Aguadilla       Isabela   \n",
       "32                     57,158                80,800       Akron          None   \n",
       "\n",
       "Label Primary State Secondary State  \n",
       "0                WA            None  \n",
       "8                TX            None  \n",
       "16               MI            None  \n",
       "24               PR            None  \n",
       "32               OH            None  "
      ]
     },
     "execution_count": 46,
     "metadata": {},
     "output_type": "execute_result"
    }
   ],
   "source": [
    "# Read the affordability data\n",
    "median_income_csv = Path(\"../Data/household_income_msa_2019.csv\")\n",
    "median_income_df = pd.read_csv(median_income_csv)\n",
    "# Clean the affordability data\n",
    "median_income_df = median_income_df.transpose() # Transpose the column/headers\n",
    "new_header = median_income_df.iloc[0] #grab the first row for the header\n",
    "median_income_df = median_income_df[1:] #take the data less the header row\n",
    "median_income_df.columns = new_header #set the header row as the df header\n",
    "median_income_df = median_income_df[['Median income (dollars)','Mean income (dollars)']] # Use only median and mean income data columns\n",
    "median_income_df.reset_index(inplace=True)\n",
    "median_income_df[['MSA','extra']] = median_income_df['index'].str.split(\",\", n = 1, expand=True) # Split MSA from text string\n",
    "median_income_df[['State','extra2']] = median_income_df['extra'].str.split(n = 1, expand=True) # Split State from remaining text string\n",
    "median_income_df[['Primary MSA','Secondary MSA']] = median_income_df['MSA'].str.split(\"-\", n = 1, expand=True) # Split primary MSA from first text string\n",
    "median_income_df[['Primary State','Secondary State']] = median_income_df['State'].str.split(\"-\", n = 1, expand=True) # Split primary State from first text string\n",
    "median_income_df.drop(columns=['index','extra','extra2','MSA','State'],inplace=True) # Drop unnecessary columns\n",
    "median_income_df.drop_duplicates(subset=['Primary MSA','Primary State'], inplace=True) # Drop duplicates -- first instance is the median and mean income by MSA\n",
    "median_income_df.head()"
   ]
  },
  {
   "cell_type": "code",
   "execution_count": 47,
   "metadata": {},
   "outputs": [
    {
     "data": {
      "text/html": [
       "<div>\n",
       "<style scoped>\n",
       "    .dataframe tbody tr th:only-of-type {\n",
       "        vertical-align: middle;\n",
       "    }\n",
       "\n",
       "    .dataframe tbody tr th {\n",
       "        vertical-align: top;\n",
       "    }\n",
       "\n",
       "    .dataframe thead th {\n",
       "        text-align: right;\n",
       "    }\n",
       "</style>\n",
       "<table border=\"1\" class=\"dataframe\">\n",
       "  <thead>\n",
       "    <tr style=\"text-align: right;\">\n",
       "      <th></th>\n",
       "      <th>city</th>\n",
       "      <th>state_id</th>\n",
       "      <th>state_name</th>\n",
       "      <th>county_fips</th>\n",
       "      <th>county_name</th>\n",
       "      <th>lat</th>\n",
       "      <th>lng</th>\n",
       "      <th>population</th>\n",
       "      <th>density</th>\n",
       "      <th>ranking</th>\n",
       "      <th>id</th>\n",
       "      <th>firstzip</th>\n",
       "    </tr>\n",
       "  </thead>\n",
       "  <tbody>\n",
       "    <tr>\n",
       "      <th>0</th>\n",
       "      <td>New York</td>\n",
       "      <td>NY</td>\n",
       "      <td>New York</td>\n",
       "      <td>36061</td>\n",
       "      <td>New York</td>\n",
       "      <td>40.6943</td>\n",
       "      <td>-73.9249</td>\n",
       "      <td>18713220.0</td>\n",
       "      <td>10715.0</td>\n",
       "      <td>1</td>\n",
       "      <td>1840034016</td>\n",
       "      <td>11229</td>\n",
       "    </tr>\n",
       "    <tr>\n",
       "      <th>1</th>\n",
       "      <td>Los Angeles</td>\n",
       "      <td>CA</td>\n",
       "      <td>California</td>\n",
       "      <td>6037</td>\n",
       "      <td>Los Angeles</td>\n",
       "      <td>34.1139</td>\n",
       "      <td>-118.4068</td>\n",
       "      <td>12750807.0</td>\n",
       "      <td>3276.0</td>\n",
       "      <td>1</td>\n",
       "      <td>1840020491</td>\n",
       "      <td>90291</td>\n",
       "    </tr>\n",
       "    <tr>\n",
       "      <th>2</th>\n",
       "      <td>Chicago</td>\n",
       "      <td>IL</td>\n",
       "      <td>Illinois</td>\n",
       "      <td>17031</td>\n",
       "      <td>Cook</td>\n",
       "      <td>41.8373</td>\n",
       "      <td>-87.6862</td>\n",
       "      <td>8604203.0</td>\n",
       "      <td>4574.0</td>\n",
       "      <td>1</td>\n",
       "      <td>1840000494</td>\n",
       "      <td>60018</td>\n",
       "    </tr>\n",
       "    <tr>\n",
       "      <th>3</th>\n",
       "      <td>Miami</td>\n",
       "      <td>FL</td>\n",
       "      <td>Florida</td>\n",
       "      <td>12086</td>\n",
       "      <td>Miami-Dade</td>\n",
       "      <td>25.7839</td>\n",
       "      <td>-80.2102</td>\n",
       "      <td>6445545.0</td>\n",
       "      <td>5019.0</td>\n",
       "      <td>1</td>\n",
       "      <td>1840015149</td>\n",
       "      <td>33129</td>\n",
       "    </tr>\n",
       "    <tr>\n",
       "      <th>4</th>\n",
       "      <td>Dallas</td>\n",
       "      <td>TX</td>\n",
       "      <td>Texas</td>\n",
       "      <td>48113</td>\n",
       "      <td>Dallas</td>\n",
       "      <td>32.7936</td>\n",
       "      <td>-96.7662</td>\n",
       "      <td>5743938.0</td>\n",
       "      <td>1526.0</td>\n",
       "      <td>1</td>\n",
       "      <td>1840019440</td>\n",
       "      <td>75287</td>\n",
       "    </tr>\n",
       "    <tr>\n",
       "      <th>...</th>\n",
       "      <td>...</td>\n",
       "      <td>...</td>\n",
       "      <td>...</td>\n",
       "      <td>...</td>\n",
       "      <td>...</td>\n",
       "      <td>...</td>\n",
       "      <td>...</td>\n",
       "      <td>...</td>\n",
       "      <td>...</td>\n",
       "      <td>...</td>\n",
       "      <td>...</td>\n",
       "      <td>...</td>\n",
       "    </tr>\n",
       "    <tr>\n",
       "      <th>29483</th>\n",
       "      <td>Caputa</td>\n",
       "      <td>SD</td>\n",
       "      <td>South Dakota</td>\n",
       "      <td>46103</td>\n",
       "      <td>Pennington</td>\n",
       "      <td>43.9960</td>\n",
       "      <td>-102.9847</td>\n",
       "      <td>0.0</td>\n",
       "      <td>0.0</td>\n",
       "      <td>3</td>\n",
       "      <td>1840035951</td>\n",
       "      <td>57703</td>\n",
       "    </tr>\n",
       "    <tr>\n",
       "      <th>29484</th>\n",
       "      <td>Hamill</td>\n",
       "      <td>SD</td>\n",
       "      <td>South Dakota</td>\n",
       "      <td>46123</td>\n",
       "      <td>Tripp</td>\n",
       "      <td>43.5939</td>\n",
       "      <td>-99.6907</td>\n",
       "      <td>0.0</td>\n",
       "      <td>0.0</td>\n",
       "      <td>3</td>\n",
       "      <td>1840004186</td>\n",
       "      <td>57534</td>\n",
       "    </tr>\n",
       "    <tr>\n",
       "      <th>29485</th>\n",
       "      <td>Loomis</td>\n",
       "      <td>SD</td>\n",
       "      <td>South Dakota</td>\n",
       "      <td>46035</td>\n",
       "      <td>Davison</td>\n",
       "      <td>43.7931</td>\n",
       "      <td>-98.1036</td>\n",
       "      <td>0.0</td>\n",
       "      <td>0.0</td>\n",
       "      <td>3</td>\n",
       "      <td>1840004170</td>\n",
       "      <td>57301</td>\n",
       "    </tr>\n",
       "    <tr>\n",
       "      <th>29486</th>\n",
       "      <td>Bijou Hills</td>\n",
       "      <td>SD</td>\n",
       "      <td>South Dakota</td>\n",
       "      <td>46015</td>\n",
       "      <td>Brule</td>\n",
       "      <td>43.5285</td>\n",
       "      <td>-99.1439</td>\n",
       "      <td>0.0</td>\n",
       "      <td>0.0</td>\n",
       "      <td>3</td>\n",
       "      <td>1840024011</td>\n",
       "      <td>57369</td>\n",
       "    </tr>\n",
       "    <tr>\n",
       "      <th>29487</th>\n",
       "      <td>Ola</td>\n",
       "      <td>SD</td>\n",
       "      <td>South Dakota</td>\n",
       "      <td>46015</td>\n",
       "      <td>Brule</td>\n",
       "      <td>43.6005</td>\n",
       "      <td>-99.2114</td>\n",
       "      <td>0.0</td>\n",
       "      <td>0.0</td>\n",
       "      <td>3</td>\n",
       "      <td>1840024012</td>\n",
       "      <td>57325</td>\n",
       "    </tr>\n",
       "  </tbody>\n",
       "</table>\n",
       "<p>29488 rows × 12 columns</p>\n",
       "</div>"
      ],
      "text/plain": [
       "              city state_id    state_name  county_fips  county_name      lat  \\\n",
       "0         New York       NY      New York        36061     New York  40.6943   \n",
       "1      Los Angeles       CA    California         6037  Los Angeles  34.1139   \n",
       "2          Chicago       IL      Illinois        17031         Cook  41.8373   \n",
       "3            Miami       FL       Florida        12086   Miami-Dade  25.7839   \n",
       "4           Dallas       TX         Texas        48113       Dallas  32.7936   \n",
       "...            ...      ...           ...          ...          ...      ...   \n",
       "29483       Caputa       SD  South Dakota        46103   Pennington  43.9960   \n",
       "29484       Hamill       SD  South Dakota        46123        Tripp  43.5939   \n",
       "29485       Loomis       SD  South Dakota        46035      Davison  43.7931   \n",
       "29486  Bijou Hills       SD  South Dakota        46015        Brule  43.5285   \n",
       "29487          Ola       SD  South Dakota        46015        Brule  43.6005   \n",
       "\n",
       "            lng  population  density  ranking          id firstzip  \n",
       "0      -73.9249  18713220.0  10715.0        1  1840034016    11229  \n",
       "1     -118.4068  12750807.0   3276.0        1  1840020491    90291  \n",
       "2      -87.6862   8604203.0   4574.0        1  1840000494    60018  \n",
       "3      -80.2102   6445545.0   5019.0        1  1840015149    33129  \n",
       "4      -96.7662   5743938.0   1526.0        1  1840019440    75287  \n",
       "...         ...         ...      ...      ...         ...      ...  \n",
       "29483 -102.9847         0.0      0.0        3  1840035951    57703  \n",
       "29484  -99.6907         0.0      0.0        3  1840004186    57534  \n",
       "29485  -98.1036         0.0      0.0        3  1840004170    57301  \n",
       "29486  -99.1439         0.0      0.0        3  1840024011    57369  \n",
       "29487  -99.2114         0.0      0.0        3  1840024012    57325  \n",
       "\n",
       "[29488 rows x 12 columns]"
      ]
     },
     "execution_count": 47,
     "metadata": {},
     "output_type": "execute_result"
    }
   ],
   "source": [
    "# read the uscities csv. this file will be used for the longitude and latitude, as well as the density stats.\n",
    "longlatdensity_csv = Path(\"../Data/uscities.csv\")\n",
    "longlatdensity_df = pd.read_csv(longlatdensity_csv)\n",
    "longlatdensity_df.head(5)\n",
    "\n",
    "#getting first zipcode from list of zipcodes\n",
    "longlatdensity_df[['firstzip']] = longlatdensity_df['zips'].str.split(\",\", n = 1, expand=True)\n",
    "longlatdensity_df[['firstzip']] = longlatdensity_df['zips'].str[:5]\n",
    "\n",
    "#dropping unnecessary columns\n",
    "longlatdensity_df.drop(columns=['source','military','incorporated','timezone','city_ascii',\"zips\"],inplace=True)\n",
    "longlatdensity_df.drop_duplicates()\n",
    "longlatdensity_df"
   ]
  },
  {
   "cell_type": "code",
   "execution_count": 4,
   "metadata": {},
   "outputs": [],
   "source": [
    "# # Testing Monte Carlo Simulation\n",
    "# # Read in test CSV\n",
    "# test_csv = Path(\"../Data/sim_test_data.csv\")\n",
    "# test_df = pd.read_csv(test_csv)\n",
    "# test_df.set_index('Date', inplace=True)\n",
    "# test_df.columns = [test_df.columns,['Ticker'] * len(test_df.columns), ['close'] * len(test_df.columns)]\n",
    "# test_df.head()\n",
    "\n",
    "# MC_oneyear = MCSimulation(\n",
    "#     portfolio_data = test_df['Test_MSA'],\n",
    "#     weights = [1],\n",
    "#     num_simulation = 10,\n",
    "#     num_trading_days = 12*1\n",
    "# )\n",
    "\n",
    "# # Running a Monte Carlo simulation to forecast cumulative returns\n",
    "# sim_df = MC_oneyear.calc_cumulative_return() - 1\n",
    "# end_return = pd.DataFrame(index=['Average Cumulative Return'])\n",
    "# end_return['Test_MSA'] = sim_df.iloc[-1,:].mean()\n"
   ]
  },
  {
   "cell_type": "code",
   "execution_count": 40,
   "metadata": {},
   "outputs": [
    {
     "name": "stderr",
     "output_type": "stream",
     "text": [
      "C:\\Users\\Eli\\anaconda3\\lib\\site-packages\\pandas\\core\\generic.py:3936: PerformanceWarning: dropping on a non-lexsorted multi-index without a level parameter may impact performance.\n",
      "  obj = obj._drop_axis(labels, axis, level=level, errors=errors)\n"
     ]
    },
    {
     "data": {
      "text/html": [
       "<div>\n",
       "<style scoped>\n",
       "    .dataframe tbody tr th:only-of-type {\n",
       "        vertical-align: middle;\n",
       "    }\n",
       "\n",
       "    .dataframe tbody tr th {\n",
       "        vertical-align: top;\n",
       "    }\n",
       "\n",
       "    .dataframe thead tr th {\n",
       "        text-align: left;\n",
       "    }\n",
       "\n",
       "    .dataframe thead tr:last-of-type th {\n",
       "        text-align: right;\n",
       "    }\n",
       "</style>\n",
       "<table border=\"1\" class=\"dataframe\">\n",
       "  <thead>\n",
       "    <tr>\n",
       "      <th></th>\n",
       "      <th>New York, NY</th>\n",
       "      <th>Los Angeles, CA</th>\n",
       "      <th>Chicago, IL</th>\n",
       "      <th>Dallas, TX</th>\n",
       "      <th>Philadelphia, PA</th>\n",
       "      <th>Houston, TX</th>\n",
       "      <th>Washington, DC</th>\n",
       "      <th>Miami, FL</th>\n",
       "      <th>Atlanta, GA</th>\n",
       "      <th>Boston, MA</th>\n",
       "      <th>...</th>\n",
       "      <th>Winnemucca, NV</th>\n",
       "      <th>Sweetwater, TX</th>\n",
       "      <th>Andrews, TX</th>\n",
       "      <th>Zapata, TX</th>\n",
       "      <th>Vermillion, SD</th>\n",
       "      <th>Lamesa, TX</th>\n",
       "      <th>Craig, CO</th>\n",
       "      <th>Pecos, TX</th>\n",
       "      <th>Vernon, TX</th>\n",
       "      <th>Ketchikan, AK</th>\n",
       "    </tr>\n",
       "    <tr>\n",
       "      <th></th>\n",
       "      <th>Ticker</th>\n",
       "      <th>Ticker</th>\n",
       "      <th>Ticker</th>\n",
       "      <th>Ticker</th>\n",
       "      <th>Ticker</th>\n",
       "      <th>Ticker</th>\n",
       "      <th>Ticker</th>\n",
       "      <th>Ticker</th>\n",
       "      <th>Ticker</th>\n",
       "      <th>Ticker</th>\n",
       "      <th>...</th>\n",
       "      <th>Ticker</th>\n",
       "      <th>Ticker</th>\n",
       "      <th>Ticker</th>\n",
       "      <th>Ticker</th>\n",
       "      <th>Ticker</th>\n",
       "      <th>Ticker</th>\n",
       "      <th>Ticker</th>\n",
       "      <th>Ticker</th>\n",
       "      <th>Ticker</th>\n",
       "      <th>Ticker</th>\n",
       "    </tr>\n",
       "    <tr>\n",
       "      <th></th>\n",
       "      <th>close</th>\n",
       "      <th>close</th>\n",
       "      <th>close</th>\n",
       "      <th>close</th>\n",
       "      <th>close</th>\n",
       "      <th>close</th>\n",
       "      <th>close</th>\n",
       "      <th>close</th>\n",
       "      <th>close</th>\n",
       "      <th>close</th>\n",
       "      <th>...</th>\n",
       "      <th>close</th>\n",
       "      <th>close</th>\n",
       "      <th>close</th>\n",
       "      <th>close</th>\n",
       "      <th>close</th>\n",
       "      <th>close</th>\n",
       "      <th>close</th>\n",
       "      <th>close</th>\n",
       "      <th>close</th>\n",
       "      <th>close</th>\n",
       "    </tr>\n",
       "    <tr>\n",
       "      <th>Date</th>\n",
       "      <th></th>\n",
       "      <th></th>\n",
       "      <th></th>\n",
       "      <th></th>\n",
       "      <th></th>\n",
       "      <th></th>\n",
       "      <th></th>\n",
       "      <th></th>\n",
       "      <th></th>\n",
       "      <th></th>\n",
       "      <th></th>\n",
       "      <th></th>\n",
       "      <th></th>\n",
       "      <th></th>\n",
       "      <th></th>\n",
       "      <th></th>\n",
       "      <th></th>\n",
       "      <th></th>\n",
       "      <th></th>\n",
       "      <th></th>\n",
       "      <th></th>\n",
       "    </tr>\n",
       "  </thead>\n",
       "  <tbody>\n",
       "    <tr>\n",
       "      <th>1/31/1996</th>\n",
       "      <td>187842.0</td>\n",
       "      <td>183929.0</td>\n",
       "      <td>164647.0</td>\n",
       "      <td>114406.0</td>\n",
       "      <td>121233.0</td>\n",
       "      <td>110773.0</td>\n",
       "      <td>178034.0</td>\n",
       "      <td>109403.0</td>\n",
       "      <td>120291.0</td>\n",
       "      <td>168008.0</td>\n",
       "      <td>...</td>\n",
       "      <td>NaN</td>\n",
       "      <td>NaN</td>\n",
       "      <td>NaN</td>\n",
       "      <td>NaN</td>\n",
       "      <td>NaN</td>\n",
       "      <td>NaN</td>\n",
       "      <td>60501.0</td>\n",
       "      <td>NaN</td>\n",
       "      <td>NaN</td>\n",
       "      <td>NaN</td>\n",
       "    </tr>\n",
       "    <tr>\n",
       "      <th>2/29/1996</th>\n",
       "      <td>187403.0</td>\n",
       "      <td>184185.0</td>\n",
       "      <td>164345.0</td>\n",
       "      <td>114471.0</td>\n",
       "      <td>121078.0</td>\n",
       "      <td>110849.0</td>\n",
       "      <td>177811.0</td>\n",
       "      <td>109533.0</td>\n",
       "      <td>120519.0</td>\n",
       "      <td>168003.0</td>\n",
       "      <td>...</td>\n",
       "      <td>NaN</td>\n",
       "      <td>NaN</td>\n",
       "      <td>NaN</td>\n",
       "      <td>NaN</td>\n",
       "      <td>NaN</td>\n",
       "      <td>NaN</td>\n",
       "      <td>60725.0</td>\n",
       "      <td>NaN</td>\n",
       "      <td>NaN</td>\n",
       "      <td>NaN</td>\n",
       "    </tr>\n",
       "    <tr>\n",
       "      <th>3/31/1996</th>\n",
       "      <td>187125.0</td>\n",
       "      <td>184205.0</td>\n",
       "      <td>163946.0</td>\n",
       "      <td>114634.0</td>\n",
       "      <td>120937.0</td>\n",
       "      <td>110858.0</td>\n",
       "      <td>177681.0</td>\n",
       "      <td>109670.0</td>\n",
       "      <td>120740.0</td>\n",
       "      <td>168176.0</td>\n",
       "      <td>...</td>\n",
       "      <td>NaN</td>\n",
       "      <td>NaN</td>\n",
       "      <td>NaN</td>\n",
       "      <td>NaN</td>\n",
       "      <td>NaN</td>\n",
       "      <td>NaN</td>\n",
       "      <td>60961.0</td>\n",
       "      <td>NaN</td>\n",
       "      <td>NaN</td>\n",
       "      <td>NaN</td>\n",
       "    </tr>\n",
       "    <tr>\n",
       "      <th>4/30/1996</th>\n",
       "      <td>186592.0</td>\n",
       "      <td>184312.0</td>\n",
       "      <td>163493.0</td>\n",
       "      <td>114962.0</td>\n",
       "      <td>120693.0</td>\n",
       "      <td>111007.0</td>\n",
       "      <td>177407.0</td>\n",
       "      <td>109917.0</td>\n",
       "      <td>121229.0</td>\n",
       "      <td>168453.0</td>\n",
       "      <td>...</td>\n",
       "      <td>NaN</td>\n",
       "      <td>NaN</td>\n",
       "      <td>NaN</td>\n",
       "      <td>NaN</td>\n",
       "      <td>NaN</td>\n",
       "      <td>NaN</td>\n",
       "      <td>61420.0</td>\n",
       "      <td>NaN</td>\n",
       "      <td>NaN</td>\n",
       "      <td>NaN</td>\n",
       "    </tr>\n",
       "    <tr>\n",
       "      <th>5/31/1996</th>\n",
       "      <td>186274.0</td>\n",
       "      <td>184286.0</td>\n",
       "      <td>162886.0</td>\n",
       "      <td>115314.0</td>\n",
       "      <td>120527.0</td>\n",
       "      <td>111148.0</td>\n",
       "      <td>177288.0</td>\n",
       "      <td>110132.0</td>\n",
       "      <td>121711.0</td>\n",
       "      <td>168821.0</td>\n",
       "      <td>...</td>\n",
       "      <td>NaN</td>\n",
       "      <td>NaN</td>\n",
       "      <td>NaN</td>\n",
       "      <td>NaN</td>\n",
       "      <td>NaN</td>\n",
       "      <td>NaN</td>\n",
       "      <td>61747.0</td>\n",
       "      <td>NaN</td>\n",
       "      <td>NaN</td>\n",
       "      <td>NaN</td>\n",
       "    </tr>\n",
       "  </tbody>\n",
       "</table>\n",
       "<p>5 rows × 913 columns</p>\n",
       "</div>"
      ],
      "text/plain": [
       "          New York, NY Los Angeles, CA Chicago, IL Dallas, TX  \\\n",
       "                Ticker          Ticker      Ticker     Ticker   \n",
       "                 close           close       close      close   \n",
       "Date                                                            \n",
       "1/31/1996     187842.0        183929.0    164647.0   114406.0   \n",
       "2/29/1996     187403.0        184185.0    164345.0   114471.0   \n",
       "3/31/1996     187125.0        184205.0    163946.0   114634.0   \n",
       "4/30/1996     186592.0        184312.0    163493.0   114962.0   \n",
       "5/31/1996     186274.0        184286.0    162886.0   115314.0   \n",
       "\n",
       "          Philadelphia, PA Houston, TX Washington, DC Miami, FL Atlanta, GA  \\\n",
       "                    Ticker      Ticker         Ticker    Ticker      Ticker   \n",
       "                     close       close          close     close       close   \n",
       "Date                                                                          \n",
       "1/31/1996         121233.0    110773.0       178034.0  109403.0    120291.0   \n",
       "2/29/1996         121078.0    110849.0       177811.0  109533.0    120519.0   \n",
       "3/31/1996         120937.0    110858.0       177681.0  109670.0    120740.0   \n",
       "4/30/1996         120693.0    111007.0       177407.0  109917.0    121229.0   \n",
       "5/31/1996         120527.0    111148.0       177288.0  110132.0    121711.0   \n",
       "\n",
       "          Boston, MA  ... Winnemucca, NV Sweetwater, TX Andrews, TX  \\\n",
       "              Ticker  ...         Ticker         Ticker      Ticker   \n",
       "               close  ...          close          close       close   \n",
       "Date                  ...                                             \n",
       "1/31/1996   168008.0  ...            NaN            NaN         NaN   \n",
       "2/29/1996   168003.0  ...            NaN            NaN         NaN   \n",
       "3/31/1996   168176.0  ...            NaN            NaN         NaN   \n",
       "4/30/1996   168453.0  ...            NaN            NaN         NaN   \n",
       "5/31/1996   168821.0  ...            NaN            NaN         NaN   \n",
       "\n",
       "          Zapata, TX Vermillion, SD Lamesa, TX Craig, CO Pecos, TX Vernon, TX  \\\n",
       "              Ticker         Ticker     Ticker    Ticker    Ticker     Ticker   \n",
       "               close          close      close     close     close      close   \n",
       "Date                                                                            \n",
       "1/31/1996        NaN            NaN        NaN   60501.0       NaN        NaN   \n",
       "2/29/1996        NaN            NaN        NaN   60725.0       NaN        NaN   \n",
       "3/31/1996        NaN            NaN        NaN   60961.0       NaN        NaN   \n",
       "4/30/1996        NaN            NaN        NaN   61420.0       NaN        NaN   \n",
       "5/31/1996        NaN            NaN        NaN   61747.0       NaN        NaN   \n",
       "\n",
       "          Ketchikan, AK  \n",
       "                 Ticker  \n",
       "                  close  \n",
       "Date                     \n",
       "1/31/1996           NaN  \n",
       "2/29/1996           NaN  \n",
       "3/31/1996           NaN  \n",
       "4/30/1996           NaN  \n",
       "5/31/1996           NaN  \n",
       "\n",
       "[5 rows x 913 columns]"
      ]
     },
     "execution_count": 40,
     "metadata": {},
     "output_type": "execute_result"
    }
   ],
   "source": [
    "# Read in house price data\n",
    "file_name='house_price_df.csv'\n",
    "csv_file=Path(f\"../Data/Clean/{file_name}\")\n",
    "\n",
    "# Clean data\n",
    "house_price_df= pd.read_csv(csv_file)\n",
    "house_price_df.head()\n",
    "\n",
    "house_price_df.set_index(house_price_df['Unnamed: 0'],inplace=True)\n",
    "house_price_df.index.names = ['Date']\n",
    "# house_price_df=house_price_df.transpose()\n",
    "# house_price_df.columns.name = None\n",
    "house_price_df.columns = [house_price_df.columns,['Ticker'] * len(house_price_df.columns), ['close'] * len(house_price_df.columns)]\n",
    "house_price_df.drop(columns=['Unnamed: 0','United States'],inplace=True)\n",
    "house_price_df.head()"
   ]
  },
  {
   "cell_type": "code",
   "execution_count": null,
   "metadata": {},
   "outputs": [],
   "source": [
    "# Configuring a Monte Carlo simulation to forecast housing market returns\n",
    "returns = pd.DataFrame(index=['1 Year Avg Return', '3 Year Avg Return', '5 Year Avg Return'])\n",
    "for msa in house_price_df.columns.get_level_values(0):\n",
    "\n",
    "    MC = MCSimulation(\n",
    "        portfolio_data = house_price_df[msa],\n",
    "        weights = [1],\n",
    "        num_simulation = 1000,\n",
    "        num_trading_days = 12*5\n",
    "    )\n",
    "\n",
    "    # Running a Monte Carlo simulation to forecast cumulative returns\n",
    "    sim_df = MC.calc_cumulative_return() - 1\n",
    "    returns.loc['5 Year Avg Return',msa] = ((1 + sim_df.iloc[-1,:].mean()) ** (1/5)) - 1 \n",
    "    returns.loc['3 Year Avg Return',msa] = ((1 + sim_df.iloc[35,:].mean()) ** (1/3)) - 1\n",
    "    returns.loc['1 Year Avg Return',msa] = ((1 + sim_df.iloc[11,:].mean()) ** (1/1)) - 1"
   ]
  },
  {
   "cell_type": "code",
   "execution_count": 42,
   "metadata": {},
   "outputs": [
    {
     "data": {
      "text/html": [
       "<div>\n",
       "<style scoped>\n",
       "    .dataframe tbody tr th:only-of-type {\n",
       "        vertical-align: middle;\n",
       "    }\n",
       "\n",
       "    .dataframe tbody tr th {\n",
       "        vertical-align: top;\n",
       "    }\n",
       "\n",
       "    .dataframe thead th {\n",
       "        text-align: right;\n",
       "    }\n",
       "</style>\n",
       "<table border=\"1\" class=\"dataframe\">\n",
       "  <thead>\n",
       "    <tr style=\"text-align: right;\">\n",
       "      <th></th>\n",
       "      <th>1 Year Avg Return</th>\n",
       "      <th>3 Year Avg Return</th>\n",
       "      <th>5 Year Avg Return</th>\n",
       "    </tr>\n",
       "  </thead>\n",
       "  <tbody>\n",
       "    <tr>\n",
       "      <th>Pecos, TX</th>\n",
       "      <td>0.102517</td>\n",
       "      <td>0.109088</td>\n",
       "      <td>0.112390</td>\n",
       "    </tr>\n",
       "    <tr>\n",
       "      <th>Grenada, MS</th>\n",
       "      <td>0.090191</td>\n",
       "      <td>0.096231</td>\n",
       "      <td>0.098996</td>\n",
       "    </tr>\n",
       "    <tr>\n",
       "      <th>Winnemucca, NV</th>\n",
       "      <td>0.079808</td>\n",
       "      <td>0.085549</td>\n",
       "      <td>0.088096</td>\n",
       "    </tr>\n",
       "    <tr>\n",
       "      <th>Williston, ND</th>\n",
       "      <td>0.069708</td>\n",
       "      <td>0.074843</td>\n",
       "      <td>0.076888</td>\n",
       "    </tr>\n",
       "    <tr>\n",
       "      <th>Klamath Falls, OR</th>\n",
       "      <td>0.066540</td>\n",
       "      <td>0.070972</td>\n",
       "      <td>0.073121</td>\n",
       "    </tr>\n",
       "    <tr>\n",
       "      <th>...</th>\n",
       "      <td>...</td>\n",
       "      <td>...</td>\n",
       "      <td>...</td>\n",
       "    </tr>\n",
       "    <tr>\n",
       "      <th>Decatur, IL</th>\n",
       "      <td>-0.002301</td>\n",
       "      <td>-0.001799</td>\n",
       "      <td>-0.001862</td>\n",
       "    </tr>\n",
       "    <tr>\n",
       "      <th>Espa±ola, NM</th>\n",
       "      <td>-0.006707</td>\n",
       "      <td>-0.007444</td>\n",
       "      <td>-0.007541</td>\n",
       "    </tr>\n",
       "    <tr>\n",
       "      <th>Deming, NM</th>\n",
       "      <td>-0.014710</td>\n",
       "      <td>-0.015592</td>\n",
       "      <td>-0.015886</td>\n",
       "    </tr>\n",
       "    <tr>\n",
       "      <th>Cambridge, MD</th>\n",
       "      <td>-0.018200</td>\n",
       "      <td>-0.019024</td>\n",
       "      <td>-0.019406</td>\n",
       "    </tr>\n",
       "    <tr>\n",
       "      <th>Sulphur Springs, TX</th>\n",
       "      <td>-0.018846</td>\n",
       "      <td>-0.019798</td>\n",
       "      <td>-0.020144</td>\n",
       "    </tr>\n",
       "  </tbody>\n",
       "</table>\n",
       "<p>913 rows × 3 columns</p>\n",
       "</div>"
      ],
      "text/plain": [
       "                     1 Year Avg Return  3 Year Avg Return  5 Year Avg Return\n",
       "Pecos, TX                     0.102517           0.109088           0.112390\n",
       "Grenada, MS                   0.090191           0.096231           0.098996\n",
       "Winnemucca, NV                0.079808           0.085549           0.088096\n",
       "Williston, ND                 0.069708           0.074843           0.076888\n",
       "Klamath Falls, OR             0.066540           0.070972           0.073121\n",
       "...                                ...                ...                ...\n",
       "Decatur, IL                  -0.002301          -0.001799          -0.001862\n",
       "Espa±ola, NM                 -0.006707          -0.007444          -0.007541\n",
       "Deming, NM                   -0.014710          -0.015592          -0.015886\n",
       "Cambridge, MD                -0.018200          -0.019024          -0.019406\n",
       "Sulphur Springs, TX          -0.018846          -0.019798          -0.020144\n",
       "\n",
       "[913 rows x 3 columns]"
      ]
     },
     "execution_count": 42,
     "metadata": {},
     "output_type": "execute_result"
    }
   ],
   "source": [
    "# Sort values and reformat table\n",
    "house_price_forecast = returns.sort_values(by='5 Year Avg Return', axis=1,ascending=False)\n",
    "house_price_forecast = house_price_forecast.transpose()\n",
    "house_price_forecast"
   ]
  },
  {
   "cell_type": "code",
   "execution_count": 43,
   "metadata": {},
   "outputs": [
    {
     "data": {
      "text/plain": [
       "<matplotlib.axes._subplots.AxesSubplot at 0x227883c0970>"
      ]
     },
     "execution_count": 43,
     "metadata": {},
     "output_type": "execute_result"
    },
    {
     "data": {
      "image/png": "[encoded data removed]",
      "text/plain": [
       "<Figure size 432x288 with 1 Axes>"
      ]
     },
     "metadata": {
      "needs_background": "light"
     },
     "output_type": "display_data"
    }
   ],
   "source": [
    "# Sample plot of data\n",
    "plot_data = house_price_forecast.iloc[-10:-1,:]\n",
    "plot_data.plot(kind='bar')"
   ]
  },
  {
   "cell_type": "code",
   "execution_count": 44,
   "metadata": {},
   "outputs": [
    {
     "data": {
      "text/html": [
       "<div>\n",
       "<style scoped>\n",
       "    .dataframe tbody tr th:only-of-type {\n",
       "        vertical-align: middle;\n",
       "    }\n",
       "\n",
       "    .dataframe tbody tr th {\n",
       "        vertical-align: top;\n",
       "    }\n",
       "\n",
       "    .dataframe thead th {\n",
       "        text-align: right;\n",
       "    }\n",
       "</style>\n",
       "<table border=\"1\" class=\"dataframe\">\n",
       "  <thead>\n",
       "    <tr style=\"text-align: right;\">\n",
       "      <th></th>\n",
       "      <th></th>\n",
       "      <th>1 Year Avg Return</th>\n",
       "      <th>3 Year Avg Return</th>\n",
       "      <th>5 Year Avg Return</th>\n",
       "    </tr>\n",
       "    <tr>\n",
       "      <th>city</th>\n",
       "      <th>state</th>\n",
       "      <th></th>\n",
       "      <th></th>\n",
       "      <th></th>\n",
       "    </tr>\n",
       "  </thead>\n",
       "  <tbody>\n",
       "    <tr>\n",
       "      <th>Pecos</th>\n",
       "      <th>TX</th>\n",
       "      <td>0.102517</td>\n",
       "      <td>0.109088</td>\n",
       "      <td>0.112390</td>\n",
       "    </tr>\n",
       "    <tr>\n",
       "      <th>Grenada</th>\n",
       "      <th>MS</th>\n",
       "      <td>0.090191</td>\n",
       "      <td>0.096231</td>\n",
       "      <td>0.098996</td>\n",
       "    </tr>\n",
       "    <tr>\n",
       "      <th>Winnemucca</th>\n",
       "      <th>NV</th>\n",
       "      <td>0.079808</td>\n",
       "      <td>0.085549</td>\n",
       "      <td>0.088096</td>\n",
       "    </tr>\n",
       "    <tr>\n",
       "      <th>Williston</th>\n",
       "      <th>ND</th>\n",
       "      <td>0.069708</td>\n",
       "      <td>0.074843</td>\n",
       "      <td>0.076888</td>\n",
       "    </tr>\n",
       "    <tr>\n",
       "      <th>Klamath Falls</th>\n",
       "      <th>OR</th>\n",
       "      <td>0.066540</td>\n",
       "      <td>0.070972</td>\n",
       "      <td>0.073121</td>\n",
       "    </tr>\n",
       "    <tr>\n",
       "      <th>...</th>\n",
       "      <th>...</th>\n",
       "      <td>...</td>\n",
       "      <td>...</td>\n",
       "      <td>...</td>\n",
       "    </tr>\n",
       "    <tr>\n",
       "      <th>Decatur</th>\n",
       "      <th>IL</th>\n",
       "      <td>-0.002301</td>\n",
       "      <td>-0.001799</td>\n",
       "      <td>-0.001862</td>\n",
       "    </tr>\n",
       "    <tr>\n",
       "      <th>Espa±ola</th>\n",
       "      <th>NM</th>\n",
       "      <td>-0.006707</td>\n",
       "      <td>-0.007444</td>\n",
       "      <td>-0.007541</td>\n",
       "    </tr>\n",
       "    <tr>\n",
       "      <th>Deming</th>\n",
       "      <th>NM</th>\n",
       "      <td>-0.014710</td>\n",
       "      <td>-0.015592</td>\n",
       "      <td>-0.015886</td>\n",
       "    </tr>\n",
       "    <tr>\n",
       "      <th>Cambridge</th>\n",
       "      <th>MD</th>\n",
       "      <td>-0.018200</td>\n",
       "      <td>-0.019024</td>\n",
       "      <td>-0.019406</td>\n",
       "    </tr>\n",
       "    <tr>\n",
       "      <th>Sulphur Springs</th>\n",
       "      <th>TX</th>\n",
       "      <td>-0.018846</td>\n",
       "      <td>-0.019798</td>\n",
       "      <td>-0.020144</td>\n",
       "    </tr>\n",
       "  </tbody>\n",
       "</table>\n",
       "<p>913 rows × 3 columns</p>\n",
       "</div>"
      ],
      "text/plain": [
       "                       1 Year Avg Return  3 Year Avg Return  5 Year Avg Return\n",
       "city            state                                                         \n",
       "Pecos           TX              0.102517           0.109088           0.112390\n",
       "Grenada         MS              0.090191           0.096231           0.098996\n",
       "Winnemucca      NV              0.079808           0.085549           0.088096\n",
       "Williston       ND              0.069708           0.074843           0.076888\n",
       "Klamath Falls   OR              0.066540           0.070972           0.073121\n",
       "...                                  ...                ...                ...\n",
       "Decatur         IL             -0.002301          -0.001799          -0.001862\n",
       "Espa±ola        NM             -0.006707          -0.007444          -0.007541\n",
       "Deming          NM             -0.014710          -0.015592          -0.015886\n",
       "Cambridge       MD             -0.018200          -0.019024          -0.019406\n",
       "Sulphur Springs TX             -0.018846          -0.019798          -0.020144\n",
       "\n",
       "[913 rows x 3 columns]"
      ]
     },
     "execution_count": 44,
     "metadata": {},
     "output_type": "execute_result"
    }
   ],
   "source": [
    "# Reformat table for joining with coordinates data\n",
    "house_price_forecast.reset_index(inplace=True)\n",
    "house_price_forecast[['city','state']] = house_price_forecast['index'].str.split(\", \", n = 1, expand=True)\n",
    "house_price_forecast.drop(columns=['index'],inplace=True)\n",
    "house_price_forecast.set_index(['city','state'],inplace=True)\n",
    "house_price_forecast"
   ]
  },
  {
   "cell_type": "code",
   "execution_count": 48,
   "metadata": {},
   "outputs": [
    {
     "data": {
      "text/html": [
       "<div>\n",
       "<style scoped>\n",
       "    .dataframe tbody tr th:only-of-type {\n",
       "        vertical-align: middle;\n",
       "    }\n",
       "\n",
       "    .dataframe tbody tr th {\n",
       "        vertical-align: top;\n",
       "    }\n",
       "\n",
       "    .dataframe thead th {\n",
       "        text-align: right;\n",
       "    }\n",
       "</style>\n",
       "<table border=\"1\" class=\"dataframe\">\n",
       "  <thead>\n",
       "    <tr style=\"text-align: right;\">\n",
       "      <th></th>\n",
       "      <th></th>\n",
       "      <th>1 Year Avg Return</th>\n",
       "      <th>3 Year Avg Return</th>\n",
       "      <th>5 Year Avg Return</th>\n",
       "      <th>lat</th>\n",
       "      <th>lng</th>\n",
       "      <th>population</th>\n",
       "      <th>firstzip</th>\n",
       "    </tr>\n",
       "  </thead>\n",
       "  <tbody>\n",
       "    <tr>\n",
       "      <th>Albany</th>\n",
       "      <th>GA</th>\n",
       "      <td>0.020838</td>\n",
       "      <td>0.021972</td>\n",
       "      <td>0.022676</td>\n",
       "      <td>31.5776</td>\n",
       "      <td>-84.1762</td>\n",
       "      <td>89217.0</td>\n",
       "      <td>31721</td>\n",
       "    </tr>\n",
       "    <tr>\n",
       "      <th>Forrest City</th>\n",
       "      <th>AR</th>\n",
       "      <td>0.012267</td>\n",
       "      <td>0.012868</td>\n",
       "      <td>0.013272</td>\n",
       "      <td>35.0135</td>\n",
       "      <td>-90.7931</td>\n",
       "      <td>12309.0</td>\n",
       "      <td>72322</td>\n",
       "    </tr>\n",
       "    <tr>\n",
       "      <th>Hannibal</th>\n",
       "      <th>MO</th>\n",
       "      <td>0.022298</td>\n",
       "      <td>0.023627</td>\n",
       "      <td>0.024375</td>\n",
       "      <td>39.7097</td>\n",
       "      <td>-91.3939</td>\n",
       "      <td>17884.0</td>\n",
       "      <td>63401</td>\n",
       "    </tr>\n",
       "    <tr>\n",
       "      <th>Shelton</th>\n",
       "      <th>WA</th>\n",
       "      <td>0.052263</td>\n",
       "      <td>0.055535</td>\n",
       "      <td>0.056912</td>\n",
       "      <td>47.2186</td>\n",
       "      <td>-123.1120</td>\n",
       "      <td>20264.0</td>\n",
       "      <td>98584</td>\n",
       "    </tr>\n",
       "    <tr>\n",
       "      <th>Hereford</th>\n",
       "      <th>TX</th>\n",
       "      <td>0.049562</td>\n",
       "      <td>0.052332</td>\n",
       "      <td>0.054101</td>\n",
       "      <td>34.8232</td>\n",
       "      <td>-102.4001</td>\n",
       "      <td>15164.0</td>\n",
       "      <td>79045</td>\n",
       "    </tr>\n",
       "  </tbody>\n",
       "</table>\n",
       "</div>"
      ],
      "text/plain": [
       "                 1 Year Avg Return  3 Year Avg Return  5 Year Avg Return  \\\n",
       "Albany       GA           0.020838           0.021972           0.022676   \n",
       "Forrest City AR           0.012267           0.012868           0.013272   \n",
       "Hannibal     MO           0.022298           0.023627           0.024375   \n",
       "Shelton      WA           0.052263           0.055535           0.056912   \n",
       "Hereford     TX           0.049562           0.052332           0.054101   \n",
       "\n",
       "                     lat       lng  population firstzip  \n",
       "Albany       GA  31.5776  -84.1762     89217.0    31721  \n",
       "Forrest City AR  35.0135  -90.7931     12309.0    72322  \n",
       "Hannibal     MO  39.7097  -91.3939     17884.0    63401  \n",
       "Shelton      WA  47.2186 -123.1120     20264.0    98584  \n",
       "Hereford     TX  34.8232 -102.4001     15164.0    79045  "
      ]
     },
     "execution_count": 48,
     "metadata": {},
     "output_type": "execute_result"
    }
   ],
   "source": [
    "# Join coordinates data with forecasted prices for final dataframe\n",
    "coordinates_df = longlatdensity_df.loc[:,['city','lat','lng','population','firstzip','state_id']] \n",
    "coordinates_df.drop_duplicates(subset=['city','state_id'],inplace=True)\n",
    "coordinates_df.set_index(['city','state_id'],inplace=True)\n",
    "combined_forecast_df = pd.concat([house_price_forecast,coordinates_df], axis='columns', join='inner')\n",
    "combined_forecast_df.head()"
   ]
  },
  {
   "cell_type": "code",
   "execution_count": 49,
   "metadata": {},
   "outputs": [],
   "source": [
    "# Output montecarlo simulation end product\n",
    "mc_output_csv = Path(\"../Data/mc_output.csv\")\n",
    "combined_forecast_df.to_csv(mc_output_csv)"
   ]
  },
  {
   "cell_type": "code",
   "execution_count": 68,
   "metadata": {},
   "outputs": [],
   "source": [
    "# Read the montecarlo data csv\n",
    "mc_output_csv = Path(\"../Data/mc_output.csv\")\n",
    "mc_output = pd.read_csv(mc_output_csv)\n",
    "mc_output[['1 Year Avg Return','3 Year Avg Return','5 Year Avg Return']] = mc_output[['1 Year Avg Return','3 Year Avg Return','5 Year Avg Return']]*100"
   ]
  },
  {
   "cell_type": "code",
   "execution_count": 69,
   "metadata": {},
   "outputs": [
    {
     "data": {
      "text/html": [
       "<div>\n",
       "<style scoped>\n",
       "    .dataframe tbody tr th:only-of-type {\n",
       "        vertical-align: middle;\n",
       "    }\n",
       "\n",
       "    .dataframe tbody tr th {\n",
       "        vertical-align: top;\n",
       "    }\n",
       "\n",
       "    .dataframe thead th {\n",
       "        text-align: right;\n",
       "    }\n",
       "</style>\n",
       "<table border=\"1\" class=\"dataframe\">\n",
       "  <thead>\n",
       "    <tr style=\"text-align: right;\">\n",
       "      <th></th>\n",
       "      <th>Unnamed: 0</th>\n",
       "      <th>Unnamed: 1</th>\n",
       "      <th>1 Year Avg Return</th>\n",
       "      <th>3 Year Avg Return</th>\n",
       "      <th>5 Year Avg Return</th>\n",
       "      <th>lat</th>\n",
       "      <th>lng</th>\n",
       "      <th>population</th>\n",
       "      <th>firstzip</th>\n",
       "    </tr>\n",
       "  </thead>\n",
       "  <tbody>\n",
       "    <tr>\n",
       "      <th>0</th>\n",
       "      <td>Cullman</td>\n",
       "      <td>AL</td>\n",
       "      <td>2.973927</td>\n",
       "      <td>3.206215</td>\n",
       "      <td>3.307670</td>\n",
       "      <td>34.1777</td>\n",
       "      <td>-86.8407</td>\n",
       "      <td>19920.0</td>\n",
       "      <td>35058</td>\n",
       "    </tr>\n",
       "    <tr>\n",
       "      <th>1</th>\n",
       "      <td>Gallup</td>\n",
       "      <td>NM</td>\n",
       "      <td>0.383775</td>\n",
       "      <td>0.425795</td>\n",
       "      <td>0.445561</td>\n",
       "      <td>35.5183</td>\n",
       "      <td>-108.7423</td>\n",
       "      <td>22917.0</td>\n",
       "      <td>87301</td>\n",
       "    </tr>\n",
       "    <tr>\n",
       "      <th>2</th>\n",
       "      <td>Niles</td>\n",
       "      <td>MI</td>\n",
       "      <td>2.345951</td>\n",
       "      <td>2.540427</td>\n",
       "      <td>2.632331</td>\n",
       "      <td>41.8346</td>\n",
       "      <td>-86.2473</td>\n",
       "      <td>11149.0</td>\n",
       "      <td>49120</td>\n",
       "    </tr>\n",
       "    <tr>\n",
       "      <th>3</th>\n",
       "      <td>Dodge City</td>\n",
       "      <td>KS</td>\n",
       "      <td>1.878296</td>\n",
       "      <td>2.016130</td>\n",
       "      <td>2.085382</td>\n",
       "      <td>37.7610</td>\n",
       "      <td>-100.0183</td>\n",
       "      <td>27080.0</td>\n",
       "      <td>67801</td>\n",
       "    </tr>\n",
       "    <tr>\n",
       "      <th>4</th>\n",
       "      <td>Coffeyville</td>\n",
       "      <td>KS</td>\n",
       "      <td>-0.247255</td>\n",
       "      <td>-0.181866</td>\n",
       "      <td>-0.161729</td>\n",
       "      <td>37.0518</td>\n",
       "      <td>-95.6180</td>\n",
       "      <td>9827.0</td>\n",
       "      <td>67337</td>\n",
       "    </tr>\n",
       "  </tbody>\n",
       "</table>\n",
       "</div>"
      ],
      "text/plain": [
       "    Unnamed: 0 Unnamed: 1  1 Year Avg Return  3 Year Avg Return  \\\n",
       "0      Cullman         AL           2.973927           3.206215   \n",
       "1       Gallup         NM           0.383775           0.425795   \n",
       "2        Niles         MI           2.345951           2.540427   \n",
       "3   Dodge City         KS           1.878296           2.016130   \n",
       "4  Coffeyville         KS          -0.247255          -0.181866   \n",
       "\n",
       "   5 Year Avg Return      lat       lng  population  firstzip  \n",
       "0           3.307670  34.1777  -86.8407     19920.0     35058  \n",
       "1           0.445561  35.5183 -108.7423     22917.0     87301  \n",
       "2           2.632331  41.8346  -86.2473     11149.0     49120  \n",
       "3           2.085382  37.7610 -100.0183     27080.0     67801  \n",
       "4          -0.161729  37.0518  -95.6180      9827.0     67337  "
      ]
     },
     "execution_count": 69,
     "metadata": {},
     "output_type": "execute_result"
    }
   ],
   "source": [
    "mc_output.head()"
   ]
  },
  {
   "cell_type": "code",
   "execution_count": 78,
   "metadata": {},
   "outputs": [
    {
     "data": {
      "text/html": [
       "<style  type=\"text/css\" >\n",
       "</style><table id=\"T_8f11e542_23d7_11eb_8b9f_9cb6d0189b36\" ><thead>    <tr>        <th class=\"blank level0\" ></th>        <th class=\"col_heading level0 col0\" >1 Year Avg Return</th>        <th class=\"col_heading level0 col1\" >3 Year Avg Return</th>        <th class=\"col_heading level0 col2\" >5 Year Avg Return</th>        <th class=\"col_heading level0 col3\" >population</th>    </tr></thead><tbody>\n",
       "                <tr>\n",
       "                        <th id=\"T_8f11e542_23d7_11eb_8b9f_9cb6d0189b36level0_row0\" class=\"row_heading level0 row0\" >count</th>\n",
       "                        <td id=\"T_8f11e542_23d7_11eb_8b9f_9cb6d0189b36row0_col0\" class=\"data row0 col0\" >353.00</td>\n",
       "                        <td id=\"T_8f11e542_23d7_11eb_8b9f_9cb6d0189b36row0_col1\" class=\"data row0 col1\" >353.00</td>\n",
       "                        <td id=\"T_8f11e542_23d7_11eb_8b9f_9cb6d0189b36row0_col2\" class=\"data row0 col2\" >353.00</td>\n",
       "                        <td id=\"T_8f11e542_23d7_11eb_8b9f_9cb6d0189b36row0_col3\" class=\"data row0 col3\" >                 353</td>\n",
       "            </tr>\n",
       "            <tr>\n",
       "                        <th id=\"T_8f11e542_23d7_11eb_8b9f_9cb6d0189b36level0_row1\" class=\"row_heading level0 row1\" >mean</th>\n",
       "                        <td id=\"T_8f11e542_23d7_11eb_8b9f_9cb6d0189b36row1_col0\" class=\"data row1 col0\" >2.84</td>\n",
       "                        <td id=\"T_8f11e542_23d7_11eb_8b9f_9cb6d0189b36row1_col1\" class=\"data row1 col1\" >3.01</td>\n",
       "                        <td id=\"T_8f11e542_23d7_11eb_8b9f_9cb6d0189b36row1_col2\" class=\"data row1 col2\" >3.09</td>\n",
       "                        <td id=\"T_8f11e542_23d7_11eb_8b9f_9cb6d0189b36row1_col3\" class=\"data row1 col3\" >             521,585</td>\n",
       "            </tr>\n",
       "            <tr>\n",
       "                        <th id=\"T_8f11e542_23d7_11eb_8b9f_9cb6d0189b36level0_row2\" class=\"row_heading level0 row2\" >std</th>\n",
       "                        <td id=\"T_8f11e542_23d7_11eb_8b9f_9cb6d0189b36row2_col0\" class=\"data row2 col0\" >1.07</td>\n",
       "                        <td id=\"T_8f11e542_23d7_11eb_8b9f_9cb6d0189b36row2_col1\" class=\"data row2 col1\" >1.13</td>\n",
       "                        <td id=\"T_8f11e542_23d7_11eb_8b9f_9cb6d0189b36row2_col2\" class=\"data row2 col2\" >1.16</td>\n",
       "                        <td id=\"T_8f11e542_23d7_11eb_8b9f_9cb6d0189b36row2_col3\" class=\"data row2 col3\" >           1,359,038</td>\n",
       "            </tr>\n",
       "            <tr>\n",
       "                        <th id=\"T_8f11e542_23d7_11eb_8b9f_9cb6d0189b36level0_row3\" class=\"row_heading level0 row3\" >min</th>\n",
       "                        <td id=\"T_8f11e542_23d7_11eb_8b9f_9cb6d0189b36row3_col0\" class=\"data row3 col0\" >-0.23</td>\n",
       "                        <td id=\"T_8f11e542_23d7_11eb_8b9f_9cb6d0189b36row3_col1\" class=\"data row3 col1\" >-0.20</td>\n",
       "                        <td id=\"T_8f11e542_23d7_11eb_8b9f_9cb6d0189b36row3_col2\" class=\"data row3 col2\" >-0.20</td>\n",
       "                        <td id=\"T_8f11e542_23d7_11eb_8b9f_9cb6d0189b36row3_col3\" class=\"data row3 col3\" >              50,408</td>\n",
       "            </tr>\n",
       "            <tr>\n",
       "                        <th id=\"T_8f11e542_23d7_11eb_8b9f_9cb6d0189b36level0_row4\" class=\"row_heading level0 row4\" >25%</th>\n",
       "                        <td id=\"T_8f11e542_23d7_11eb_8b9f_9cb6d0189b36row4_col0\" class=\"data row4 col0\" >2.19</td>\n",
       "                        <td id=\"T_8f11e542_23d7_11eb_8b9f_9cb6d0189b36row4_col1\" class=\"data row4 col1\" >2.31</td>\n",
       "                        <td id=\"T_8f11e542_23d7_11eb_8b9f_9cb6d0189b36row4_col2\" class=\"data row4 col2\" >2.39</td>\n",
       "                        <td id=\"T_8f11e542_23d7_11eb_8b9f_9cb6d0189b36row4_col3\" class=\"data row4 col3\" >              77,609</td>\n",
       "            </tr>\n",
       "            <tr>\n",
       "                        <th id=\"T_8f11e542_23d7_11eb_8b9f_9cb6d0189b36level0_row5\" class=\"row_heading level0 row5\" >50%</th>\n",
       "                        <td id=\"T_8f11e542_23d7_11eb_8b9f_9cb6d0189b36row5_col0\" class=\"data row5 col0\" >2.74</td>\n",
       "                        <td id=\"T_8f11e542_23d7_11eb_8b9f_9cb6d0189b36row5_col1\" class=\"data row5 col1\" >2.95</td>\n",
       "                        <td id=\"T_8f11e542_23d7_11eb_8b9f_9cb6d0189b36row5_col2\" class=\"data row5 col2\" >3.05</td>\n",
       "                        <td id=\"T_8f11e542_23d7_11eb_8b9f_9cb6d0189b36row5_col3\" class=\"data row5 col3\" >             142,847</td>\n",
       "            </tr>\n",
       "            <tr>\n",
       "                        <th id=\"T_8f11e542_23d7_11eb_8b9f_9cb6d0189b36level0_row6\" class=\"row_heading level0 row6\" >75%</th>\n",
       "                        <td id=\"T_8f11e542_23d7_11eb_8b9f_9cb6d0189b36row6_col0\" class=\"data row6 col0\" >3.48</td>\n",
       "                        <td id=\"T_8f11e542_23d7_11eb_8b9f_9cb6d0189b36row6_col1\" class=\"data row6 col1\" >3.67</td>\n",
       "                        <td id=\"T_8f11e542_23d7_11eb_8b9f_9cb6d0189b36row6_col2\" class=\"data row6 col2\" >3.77</td>\n",
       "                        <td id=\"T_8f11e542_23d7_11eb_8b9f_9cb6d0189b36row6_col3\" class=\"data row6 col3\" >             378,732</td>\n",
       "            </tr>\n",
       "            <tr>\n",
       "                        <th id=\"T_8f11e542_23d7_11eb_8b9f_9cb6d0189b36level0_row7\" class=\"row_heading level0 row7\" >max</th>\n",
       "                        <td id=\"T_8f11e542_23d7_11eb_8b9f_9cb6d0189b36row7_col0\" class=\"data row7 col0\" >6.22</td>\n",
       "                        <td id=\"T_8f11e542_23d7_11eb_8b9f_9cb6d0189b36row7_col1\" class=\"data row7 col1\" >6.65</td>\n",
       "                        <td id=\"T_8f11e542_23d7_11eb_8b9f_9cb6d0189b36row7_col2\" class=\"data row7 col2\" >6.87</td>\n",
       "                        <td id=\"T_8f11e542_23d7_11eb_8b9f_9cb6d0189b36row7_col3\" class=\"data row7 col3\" >          18,713,220</td>\n",
       "            </tr>\n",
       "    </tbody></table>"
      ],
      "text/plain": [
       "<pandas.io.formats.style.Styler at 0x26d41c3c2b0>"
      ]
     },
     "execution_count": 78,
     "metadata": {},
     "output_type": "execute_result"
    }
   ],
   "source": [
    "# Formatting final data table for monte carlo statistical summary\n",
    "higher_pop_output = mc_output.loc[mc_output['population'] > 50000]\n",
    "mc_analysis = higher_pop_output.describe()\n",
    "mc_analysis.drop(columns=['lat','lng','firstzip'],inplace=True)\n",
    "mc_analysis.style.format({\"1 Year Avg Return\": \"{:.2f}\", \n",
    "                          \"3 Year Avg Return\": \"{:.2f}\", \n",
    "                          \"5 Year Avg Return\": \"{:.2f}\",\n",
    "                          \"population\":\"{:20,.0f}\"})"
   ]
  },
  {
   "cell_type": "code",
   "execution_count": 91,
   "metadata": {},
   "outputs": [],
   "source": [
    "# Read the inflation data csv\n",
    "inflation_csv = Path(\"../Data/inflation_data.csv\")\n",
    "inflation_df = pd.read_csv(inflation_csv)\n",
    "inflation_df.set_index(\"Year\", inplace=True)\n",
    "inflation_df = inflation_df.pct_change()\n",
    "avg_inflation = inflation_df.mean()"
   ]
  },
  {
   "cell_type": "code",
   "execution_count": 98,
   "metadata": {},
   "outputs": [
    {
     "data": {
      "text/plain": [
       "Large Cities     0.018949\n",
       "Medium Cities    0.016217\n",
       "Small Cities     0.012668\n",
       "dtype: float64"
      ]
     },
     "execution_count": 98,
     "metadata": {},
     "output_type": "execute_result"
    }
   ],
   "source": [
    "avg_inflation"
   ]
  },
  {
   "cell_type": "code",
   "execution_count": 116,
   "metadata": {},
   "outputs": [
    {
     "data": {
      "image/png": "[encoded data removed]",
      "text/plain": [
       "<Figure size 432x288 with 1 Axes>"
      ]
     },
     "metadata": {
      "needs_background": "light"
     },
     "output_type": "display_data"
    }
   ],
   "source": [
    "# create a figure and axes\n",
    "fig, ax = plt.subplots()\n",
    "\n",
    "# setting title to graph \n",
    "ax.set_title('Average Annual Inflation by City Size') \n",
    "  \n",
    "# label x-axis and y-axis \n",
    "ax.set_ylabel('Annual % Change in Inflation') \n",
    "\n",
    "# Set format of y-axis\n",
    "ax.yaxis.set_major_formatter(FuncFormatter('{:.1%}'.format))\n",
    "ax.set_ylim([0,.025])\n",
    "\n",
    "# function to plot and show graph \n",
    "ax.bar(avg_inflation.index,avg_inflation)\n",
    "\n",
    "def add_value_labels(ax, spacing=5):\n",
    "    \"\"\"Add labels to the end of each bar in a bar chart.\n",
    "### https://stackoverflow.com/questions/28931224/adding-value-labels-on-a-matplotlib-bar-chart\n",
    "    Arguments:\n",
    "        ax (matplotlib.axes.Axes): The matplotlib object containing the axes\n",
    "            of the plot to annotate.\n",
    "        spacing (int): The distance between the labels and the bars.\n",
    "    \"\"\"\n",
    "\n",
    "    # For each bar: Place a label\n",
    "    for rect in ax.patches:\n",
    "        # Get X and Y placement of label from rect.\n",
    "        y_value = rect.get_height()\n",
    "        x_value = rect.get_x() + rect.get_width() / 2\n",
    "\n",
    "        # Number of points between bar and label. Change to your liking.\n",
    "        space = spacing\n",
    "        # Vertical alignment for positive values\n",
    "        va = 'bottom'\n",
    "\n",
    "        # If value of bar is negative: Place label below bar\n",
    "        if y_value < 0:\n",
    "            # Invert space to place label below\n",
    "            space *= -1\n",
    "            # Vertically align label at top\n",
    "            va = 'top'\n",
    "\n",
    "        # Use Y value as label and format number with one decimal place\n",
    "        label = \"{:.2%}\".format(y_value)\n",
    "\n",
    "        # Create annotation\n",
    "        ax.annotate(\n",
    "            label,                      # Use `label` as label\n",
    "            (x_value, y_value),         # Place label at end of the bar\n",
    "            xytext=(0, space),          # Vertically shift label by `space`\n",
    "            textcoords=\"offset points\", # Interpret `xytext` as offset in points\n",
    "            ha='center',                # Horizontally center label\n",
    "            va=va)                      # Vertically align label differently for\n",
    "                                        # positive and negative values.\n",
    "\n",
    "\n",
    "# Call the function above. All the magic happens there.\n",
    "add_value_labels(ax)\n",
    "plt.show() "
   ]
  },
  {
   "cell_type": "code",
   "execution_count": 30,
   "metadata": {},
   "outputs": [
    {
     "data": {
      "text/html": [
       "<div>\n",
       "<style scoped>\n",
       "    .dataframe tbody tr th:only-of-type {\n",
       "        vertical-align: middle;\n",
       "    }\n",
       "\n",
       "    .dataframe tbody tr th {\n",
       "        vertical-align: top;\n",
       "    }\n",
       "\n",
       "    .dataframe thead th {\n",
       "        text-align: right;\n",
       "    }\n",
       "</style>\n",
       "<table border=\"1\" class=\"dataframe\">\n",
       "  <thead>\n",
       "    <tr style=\"text-align: right;\">\n",
       "      <th></th>\n",
       "      <th>House Price Appreciation Rank</th>\n",
       "      <th>lat</th>\n",
       "      <th>lon</th>\n",
       "      <th>size</th>\n",
       "    </tr>\n",
       "    <tr>\n",
       "      <th>MSA</th>\n",
       "      <th></th>\n",
       "      <th></th>\n",
       "      <th></th>\n",
       "      <th></th>\n",
       "    </tr>\n",
       "  </thead>\n",
       "  <tbody>\n",
       "    <tr>\n",
       "      <th>Oklahoma City, OK</th>\n",
       "      <td>10.650</td>\n",
       "      <td>35.4676</td>\n",
       "      <td>-97.5136</td>\n",
       "      <td>8</td>\n",
       "    </tr>\n",
       "    <tr>\n",
       "      <th>Seattle, WA</th>\n",
       "      <td>8.925</td>\n",
       "      <td>47.6211</td>\n",
       "      <td>-122.3244</td>\n",
       "      <td>8</td>\n",
       "    </tr>\n",
       "    <tr>\n",
       "      <th>Tampa, FL</th>\n",
       "      <td>8.300</td>\n",
       "      <td>27.9942</td>\n",
       "      <td>-82.4451</td>\n",
       "      <td>8</td>\n",
       "    </tr>\n",
       "    <tr>\n",
       "      <th>Austin, TX</th>\n",
       "      <td>7.725</td>\n",
       "      <td>30.3004</td>\n",
       "      <td>-97.7522</td>\n",
       "      <td>8</td>\n",
       "    </tr>\n",
       "    <tr>\n",
       "      <th>Denver, CO</th>\n",
       "      <td>7.725</td>\n",
       "      <td>39.7621</td>\n",
       "      <td>-104.8759</td>\n",
       "      <td>8</td>\n",
       "    </tr>\n",
       "  </tbody>\n",
       "</table>\n",
       "</div>"
      ],
      "text/plain": [
       "                   House Price Appreciation Rank      lat       lon  size\n",
       "MSA                                                                      \n",
       "Oklahoma City, OK                         10.650  35.4676  -97.5136     8\n",
       "Seattle, WA                                8.925  47.6211 -122.3244     8\n",
       "Tampa, FL                                  8.300  27.9942  -82.4451     8\n",
       "Austin, TX                                 7.725  30.3004  -97.7522     8\n",
       "Denver, CO                                 7.725  39.7621 -104.8759     8"
      ]
     },
     "execution_count": 30,
     "metadata": {},
     "output_type": "execute_result"
    }
   ],
   "source": [
    "# read the clean df csv which is the master df\n",
    "file_name='combined_df.csv'\n",
    "csv_file=Path(f\"../Data/Clean/{file_name}\")\n",
    "combined_df= pd.read_csv(csv_file)\n",
    "\n",
    "# Pulling a subset of data from combined df\n",
    "# Min Population - leave equal to 0 if no conditions\n",
    "min_population=50000\n",
    "columns_needed=['MSA','Murder Rate','Murder','Violent Crime','% Rent Change Since Feb','5 Year Avg Return','Affordability Rent/Median Inc','Capitalization Rate Last','Population','Population 10 year CAGR']\n",
    "data_frame=combined_df[columns_needed].dropna(subset=columns_needed)\n",
    "data_frame=data_frame[data_frame['Population']>min_population]\n",
    "data_frame.set_index('MSA',inplace=True)\n",
    "data_frame.drop(columns=['Population'],inplace=True)\n",
    "\n",
    "# Creating Housing Price Ranks\n",
    "data_frame = data_frame.rank()\n",
    "weights = [-0.05, -0.05, -0.05, -0.1, 0.25, -0.2, 0.2, 0.1]\n",
    "data_frame = data_frame * weights\n",
    "data_frame['House Price Appreciation Rank'] = data_frame.sum(axis='columns')\n",
    "# data_frame.sort_values(by='House Price Appreciation Rank',axis='index',ascending=False,inplace=True)\n",
    "\n",
    "# Combining with Lat/Lon Data\n",
    "coordinates_df = combined_df[['MSA','lat', 'lon']]\n",
    "coordinates_df.set_index('MSA',inplace=True)\n",
    "data_frame = data_frame.join(coordinates_df)\n",
    "data_frame.sort_values(by='House Price Appreciation Rank',axis='index',ascending=False,inplace=True)\n",
    "graph_data = data_frame.loc[:,['House Price Appreciation Rank', 'lat','lon']]\n",
    "graph_data['size'] = 8\n",
    "graph_data.head()\n"
   ]
  },
  {
   "cell_type": "code",
   "execution_count": 31,
   "metadata": {},
   "outputs": [
    {
     "data": {
      "text/html": [
       "<div>\n",
       "<style scoped>\n",
       "    .dataframe tbody tr th:only-of-type {\n",
       "        vertical-align: middle;\n",
       "    }\n",
       "\n",
       "    .dataframe tbody tr th {\n",
       "        vertical-align: top;\n",
       "    }\n",
       "\n",
       "    .dataframe thead th {\n",
       "        text-align: right;\n",
       "    }\n",
       "</style>\n",
       "<table border=\"1\" class=\"dataframe\">\n",
       "  <thead>\n",
       "    <tr style=\"text-align: right;\">\n",
       "      <th></th>\n",
       "      <th>House Price Appreciation Rank</th>\n",
       "      <th>lat</th>\n",
       "      <th>lon</th>\n",
       "      <th>size</th>\n",
       "    </tr>\n",
       "  </thead>\n",
       "  <tbody>\n",
       "    <tr>\n",
       "      <th>count</th>\n",
       "      <td>51.000000</td>\n",
       "      <td>51.000000</td>\n",
       "      <td>51.000000</td>\n",
       "      <td>51.0</td>\n",
       "    </tr>\n",
       "    <tr>\n",
       "      <th>mean</th>\n",
       "      <td>2.600000</td>\n",
       "      <td>36.793063</td>\n",
       "      <td>-95.801614</td>\n",
       "      <td>8.0</td>\n",
       "    </tr>\n",
       "    <tr>\n",
       "      <th>std</th>\n",
       "      <td>3.718118</td>\n",
       "      <td>4.577426</td>\n",
       "      <td>15.879062</td>\n",
       "      <td>0.0</td>\n",
       "    </tr>\n",
       "    <tr>\n",
       "      <th>min</th>\n",
       "      <td>-7.050000</td>\n",
       "      <td>25.783900</td>\n",
       "      <td>-122.443000</td>\n",
       "      <td>8.0</td>\n",
       "    </tr>\n",
       "    <tr>\n",
       "      <th>25%</th>\n",
       "      <td>0.775000</td>\n",
       "      <td>33.850400</td>\n",
       "      <td>-108.762300</td>\n",
       "      <td>8.0</td>\n",
       "    </tr>\n",
       "    <tr>\n",
       "      <th>50%</th>\n",
       "      <td>3.000000</td>\n",
       "      <td>36.783100</td>\n",
       "      <td>-94.554100</td>\n",
       "      <td>8.0</td>\n",
       "    </tr>\n",
       "    <tr>\n",
       "      <th>75%</th>\n",
       "      <td>4.950000</td>\n",
       "      <td>39.881650</td>\n",
       "      <td>-82.715050</td>\n",
       "      <td>8.0</td>\n",
       "    </tr>\n",
       "    <tr>\n",
       "      <th>max</th>\n",
       "      <td>10.650000</td>\n",
       "      <td>47.621100</td>\n",
       "      <td>-71.084600</td>\n",
       "      <td>8.0</td>\n",
       "    </tr>\n",
       "  </tbody>\n",
       "</table>\n",
       "</div>"
      ],
      "text/plain": [
       "       House Price Appreciation Rank        lat         lon  size\n",
       "count                      51.000000  51.000000   51.000000  51.0\n",
       "mean                        2.600000  36.793063  -95.801614   8.0\n",
       "std                         3.718118   4.577426   15.879062   0.0\n",
       "min                        -7.050000  25.783900 -122.443000   8.0\n",
       "25%                         0.775000  33.850400 -108.762300   8.0\n",
       "50%                         3.000000  36.783100  -94.554100   8.0\n",
       "75%                         4.950000  39.881650  -82.715050   8.0\n",
       "max                        10.650000  47.621100  -71.084600   8.0"
      ]
     },
     "execution_count": 31,
     "metadata": {},
     "output_type": "execute_result"
    }
   ],
   "source": [
    "graph_data.describe()"
   ]
  },
  {
   "cell_type": "code",
   "execution_count": 3,
   "metadata": {},
   "outputs": [],
   "source": [
    "# Read the Mapbox API key\n",
    "load_dotenv()\n",
    "mapbox_token = os.getenv(\"MAPBOX_API_KEY\")\n",
    "px.set_mapbox_access_token(mapbox_token)"
   ]
  },
  {
   "cell_type": "code",
   "execution_count": 32,
   "metadata": {},
   "outputs": [
    {
     "data": {
      "application/vnd.plotly.v1+json": {
       "config": {
        "plotlyServerURL": "https://plot.ly"
       },
       "data": [
        {
         "hovertemplate": "<b>%{hovertext}</b><br><br>size=%{marker.size}<br>lat=%{lat}<br>lon=%{lon}<br>House Price Appreciation Rank=%{marker.color}<extra></extra>",
         "hovertext": [
          "Oklahoma City, OK",
          "Seattle, WA",
          "Tampa, FL",
          "Austin, TX",
          "Denver, CO",
          "Pittsburgh, PA",
          "Minneapolis, MN",
          "Omaha, NE",
          "Jacksonville, FL",
          "San Jose, CA",
          "Dallas, TX",
          "Virginia Beach, VA",
          "Miami, FL",
          "Colorado Springs, CO",
          "Tulsa, OK",
          "Nashville, TN",
          "Kansas City, MO",
          "San Antonio, TX",
          "Charlotte, NC",
          "Toledo, OH",
          "Houston, TX",
          "Columbus, OH",
          "Riverside, CA",
          "Washington, DC",
          "Phoenix, AZ",
          "Boston, MA",
          "New Orleans, LA",
          "San Francisco, CA",
          "Wichita, KS",
          "Atlanta, GA",
          "Cincinnati, OH",
          "San Diego, CA",
          "Sacramento, CA",
          "Buffalo, NY",
          "Fresno, CA",
          "Philadelphia, PA",
          "Stockton, CA",
          "Greensboro, NC",
          "El Paso, TX",
          "Milwaukee, WI",
          "Baltimore, MD",
          "Tucson, AZ",
          "Detroit, MI",
          "Indianapolis, IN",
          "Bakersfield, CA",
          "New York, NY",
          "Los Angeles, CA",
          "Albuquerque, NM",
          "Las Vegas, NV",
          "Chicago, IL",
          "Memphis, TN"
         ],
         "lat": [
          35.4676,
          47.6211,
          27.9942,
          30.3004,
          39.7621,
          40.4396,
          44.9635,
          41.2627,
          30.3322,
          37.3019,
          32.7936,
          36.7335,
          25.7839,
          38.8674,
          36.1284,
          36.1715,
          39.1239,
          29.4658,
          35.208,
          41.6639,
          29.7863,
          39.9862,
          33.9381,
          38.9047,
          33.5722,
          42.3188,
          30.0687,
          37.7562,
          37.6896,
          33.7627,
          39.1413,
          32.8312,
          38.5667,
          42.9016,
          36.7831,
          40.0077,
          37.9765,
          36.0956,
          31.8479,
          43.0642,
          39.3051,
          32.1545,
          42.3834,
          39.7771,
          35.3529,
          40.6943,
          34.1139,
          35.1053,
          36.2333,
          41.8373,
          35.1046
         ],
         "legendgroup": "",
         "lon": [
          -97.5136,
          -122.3244,
          -82.4451,
          -97.7522,
          -104.8759,
          -79.9762,
          -93.2678,
          -96.0522,
          -81.6749,
          -121.8486,
          -96.7662,
          -76.0435,
          -80.2102,
          -104.7606,
          -95.9042,
          -86.7843,
          -94.5541,
          -98.5253,
          -80.8304,
          -83.5822,
          -95.3889,
          -82.985,
          -117.3948,
          -77.0163,
          -112.0891,
          -71.0846,
          -89.9288,
          -122.443,
          -97.3442,
          -84.4224,
          -84.5061,
          -117.1225,
          -121.4683,
          -78.8487,
          -119.7941,
          -75.1339,
          -121.3109,
          -79.8269,
          -106.4309,
          -87.9673,
          -76.6144,
          -110.8782,
          -83.1024,
          -86.1458,
          -119.0359,
          -73.9249,
          -118.4068,
          -106.6464,
          -115.2654,
          -87.6862,
          -89.9773
         ],
         "marker": {
          "color": [
           10.65,
           8.925,
           8.3,
           7.7250000000000005,
           7.725,
           7.6,
           7.5,
           6.3,
           6.2,
           5.800000000000001,
           5.8,
           5.549999999999999,
           5.1,
           4.799999999999999,
           4.35,
           4.299999999999999,
           4.149999999999999,
           4.125000000000001,
           4,
           3.8,
           3.6500000000000004,
           3.5,
           3.299999999999999,
           3.25,
           3.049999999999999,
           3,
           2.5999999999999996,
           2.224999999999998,
           2.2,
           1.875,
           1.6499999999999986,
           1.5999999999999996,
           1.2749999999999995,
           1.0500000000000007,
           1,
           0.8499999999999979,
           0.8000000000000007,
           0.8000000000000007,
           0.7499999999999982,
           0.24999999999999822,
           0.09999999999999964,
           -1.200000000000001,
           -1.299999999999999,
           -1.5500000000000007,
           -1.75,
           -1.9500000000000002,
           -2.6000000000000014,
           -2.975,
           -3.1500000000000012,
           -5.350000000000001,
           -7.05
          ],
          "coloraxis": "coloraxis",
          "size": [
           8,
           8,
           8,
           8,
           8,
           8,
           8,
           8,
           8,
           8,
           8,
           8,
           8,
           8,
           8,
           8,
           8,
           8,
           8,
           8,
           8,
           8,
           8,
           8,
           8,
           8,
           8,
           8,
           8,
           8,
           8,
           8,
           8,
           8,
           8,
           8,
           8,
           8,
           8,
           8,
           8,
           8,
           8,
           8,
           8,
           8,
           8,
           8,
           8,
           8,
           8
          ],
          "sizemode": "area",
          "sizeref": 0.02
         },
         "mode": "markers",
         "name": "",
         "showlegend": false,
         "subplot": "mapbox",
         "type": "scattermapbox"
        }
       ],
       "layout": {
        "coloraxis": {
         "colorbar": {
          "title": {
           "text": "House Price Appreciation Rank"
          }
         },
         "colorscale": [
          [
           0,
           "rgb(165,0,38)"
          ],
          [
           0.1,
           "rgb(215,48,39)"
          ],
          [
           0.2,
           "rgb(244,109,67)"
          ],
          [
           0.3,
           "rgb(253,174,97)"
          ],
          [
           0.4,
           "rgb(254,224,139)"
          ],
          [
           0.5,
           "rgb(255,255,191)"
          ],
          [
           0.6,
           "rgb(217,239,139)"
          ],
          [
           0.7,
           "rgb(166,217,106)"
          ],
          [
           0.8,
           "rgb(102,189,99)"
          ],
          [
           0.9,
           "rgb(26,152,80)"
          ],
          [
           1,
           "rgb(0,104,55)"
          ]
         ]
        },
        "legend": {
         "itemsizing": "constant",
         "tracegroupgap": 0
        },
        "mapbox": {
         "accesstoken": "pk.eyJ1IjoiaW50aWNlbmMiLCJhIjoiY2tnZWZmZXA1MGg2YzJ4cGQ4NTg0bjBrYSJ9.pKoJ0spieI5bz8aApTMLbQ",
         "center": {
          "lat": 36.79306274509805,
          "lon": -95.8016137254902
         },
         "domain": {
          "x": [
           0,
           1
          ],
          "y": [
           0,
           1
          ]
         },
         "zoom": 3
        },
        "margin": {
         "t": 60
        },
        "template": {
         "data": {
          "bar": [
           {
            "error_x": {
             "color": "#2a3f5f"
            },
            "error_y": {
             "color": "#2a3f5f"
            },
            "marker": {
             "line": {
              "color": "#E5ECF6",
              "width": 0.5
             }
            },
            "type": "bar"
           }
          ],
          "barpolar": [
           {
            "marker": {
             "line": {
              "color": "#E5ECF6",
              "width": 0.5
             }
            },
            "type": "barpolar"
           }
          ],
          "carpet": [
           {
            "aaxis": {
             "endlinecolor": "#2a3f5f",
             "gridcolor": "white",
             "linecolor": "white",
             "minorgridcolor": "white",
             "startlinecolor": "#2a3f5f"
            },
            "baxis": {
             "endlinecolor": "#2a3f5f",
             "gridcolor": "white",
             "linecolor": "white",
             "minorgridcolor": "white",
             "startlinecolor": "#2a3f5f"
            },
            "type": "carpet"
           }
          ],
          "choropleth": [
           {
            "colorbar": {
             "outlinewidth": 0,
             "ticks": ""
            },
            "type": "choropleth"
           }
          ],
          "contour": [
           {
            "colorbar": {
             "outlinewidth": 0,
             "ticks": ""
            },
            "colorscale": [
             [
              0,
              "#0d0887"
             ],
             [
              0.1111111111111111,
              "#46039f"
             ],
             [
              0.2222222222222222,
              "#7201a8"
             ],
             [
              0.3333333333333333,
              "#9c179e"
             ],
             [
              0.4444444444444444,
              "#bd3786"
             ],
             [
              0.5555555555555556,
              "#d8576b"
             ],
             [
              0.6666666666666666,
              "#ed7953"
             ],
             [
              0.7777777777777778,
              "#fb9f3a"
             ],
             [
              0.8888888888888888,
              "#fdca26"
             ],
             [
              1,
              "#f0f921"
             ]
            ],
            "type": "contour"
           }
          ],
          "contourcarpet": [
           {
            "colorbar": {
             "outlinewidth": 0,
             "ticks": ""
            },
            "type": "contourcarpet"
           }
          ],
          "heatmap": [
           {
            "colorbar": {
             "outlinewidth": 0,
             "ticks": ""
            },
            "colorscale": [
             [
              0,
              "#0d0887"
             ],
             [
              0.1111111111111111,
              "#46039f"
             ],
             [
              0.2222222222222222,
              "#7201a8"
             ],
             [
              0.3333333333333333,
              "#9c179e"
             ],
             [
              0.4444444444444444,
              "#bd3786"
             ],
             [
              0.5555555555555556,
              "#d8576b"
             ],
             [
              0.6666666666666666,
              "#ed7953"
             ],
             [
              0.7777777777777778,
              "#fb9f3a"
             ],
             [
              0.8888888888888888,
              "#fdca26"
             ],
             [
              1,
              "#f0f921"
             ]
            ],
            "type": "heatmap"
           }
          ],
          "heatmapgl": [
           {
            "colorbar": {
             "outlinewidth": 0,
             "ticks": ""
            },
            "colorscale": [
             [
              0,
              "#0d0887"
             ],
             [
              0.1111111111111111,
              "#46039f"
             ],
             [
              0.2222222222222222,
              "#7201a8"
             ],
             [
              0.3333333333333333,
              "#9c179e"
             ],
             [
              0.4444444444444444,
              "#bd3786"
             ],
             [
              0.5555555555555556,
              "#d8576b"
             ],
             [
              0.6666666666666666,
              "#ed7953"
             ],
             [
              0.7777777777777778,
              "#fb9f3a"
             ],
             [
              0.8888888888888888,
              "#fdca26"
             ],
             [
              1,
              "#f0f921"
             ]
            ],
            "type": "heatmapgl"
           }
          ],
          "histogram": [
           {
            "marker": {
             "colorbar": {
              "outlinewidth": 0,
              "ticks": ""
             }
            },
            "type": "histogram"
           }
          ],
          "histogram2d": [
           {
            "colorbar": {
             "outlinewidth": 0,
             "ticks": ""
            },
            "colorscale": [
             [
              0,
              "#0d0887"
             ],
             [
              0.1111111111111111,
              "#46039f"
             ],
             [
              0.2222222222222222,
              "#7201a8"
             ],
             [
              0.3333333333333333,
              "#9c179e"
             ],
             [
              0.4444444444444444,
              "#bd3786"
             ],
             [
              0.5555555555555556,
              "#d8576b"
             ],
             [
              0.6666666666666666,
              "#ed7953"
             ],
             [
              0.7777777777777778,
              "#fb9f3a"
             ],
             [
              0.8888888888888888,
              "#fdca26"
             ],
             [
              1,
              "#f0f921"
             ]
            ],
            "type": "histogram2d"
           }
          ],
          "histogram2dcontour": [
           {
            "colorbar": {
             "outlinewidth": 0,
             "ticks": ""
            },
            "colorscale": [
             [
              0,
              "#0d0887"
             ],
             [
              0.1111111111111111,
              "#46039f"
             ],
             [
              0.2222222222222222,
              "#7201a8"
             ],
             [
              0.3333333333333333,
              "#9c179e"
             ],
             [
              0.4444444444444444,
              "#bd3786"
             ],
             [
              0.5555555555555556,
              "#d8576b"
             ],
             [
              0.6666666666666666,
              "#ed7953"
             ],
             [
              0.7777777777777778,
              "#fb9f3a"
             ],
             [
              0.8888888888888888,
              "#fdca26"
             ],
             [
              1,
              "#f0f921"
             ]
            ],
            "type": "histogram2dcontour"
           }
          ],
          "mesh3d": [
           {
            "colorbar": {
             "outlinewidth": 0,
             "ticks": ""
            },
            "type": "mesh3d"
           }
          ],
          "parcoords": [
           {
            "line": {
             "colorbar": {
              "outlinewidth": 0,
              "ticks": ""
             }
            },
            "type": "parcoords"
           }
          ],
          "pie": [
           {
            "automargin": true,
            "type": "pie"
           }
          ],
          "scatter": [
           {
            "marker": {
             "colorbar": {
              "outlinewidth": 0,
              "ticks": ""
             }
            },
            "type": "scatter"
           }
          ],
          "scatter3d": [
           {
            "line": {
             "colorbar": {
              "outlinewidth": 0,
              "ticks": ""
             }
            },
            "marker": {
             "colorbar": {
              "outlinewidth": 0,
              "ticks": ""
             }
            },
            "type": "scatter3d"
           }
          ],
          "scattercarpet": [
           {
            "marker": {
             "colorbar": {
              "outlinewidth": 0,
              "ticks": ""
             }
            },
            "type": "scattercarpet"
           }
          ],
          "scattergeo": [
           {
            "marker": {
             "colorbar": {
              "outlinewidth": 0,
              "ticks": ""
             }
            },
            "type": "scattergeo"
           }
          ],
          "scattergl": [
           {
            "marker": {
             "colorbar": {
              "outlinewidth": 0,
              "ticks": ""
             }
            },
            "type": "scattergl"
           }
          ],
          "scattermapbox": [
           {
            "marker": {
             "colorbar": {
              "outlinewidth": 0,
              "ticks": ""
             }
            },
            "type": "scattermapbox"
           }
          ],
          "scatterpolar": [
           {
            "marker": {
             "colorbar": {
              "outlinewidth": 0,
              "ticks": ""
             }
            },
            "type": "scatterpolar"
           }
          ],
          "scatterpolargl": [
           {
            "marker": {
             "colorbar": {
              "outlinewidth": 0,
              "ticks": ""
             }
            },
            "type": "scatterpolargl"
           }
          ],
          "scatterternary": [
           {
            "marker": {
             "colorbar": {
              "outlinewidth": 0,
              "ticks": ""
             }
            },
            "type": "scatterternary"
           }
          ],
          "surface": [
           {
            "colorbar": {
             "outlinewidth": 0,
             "ticks": ""
            },
            "colorscale": [
             [
              0,
              "#0d0887"
             ],
             [
              0.1111111111111111,
              "#46039f"
             ],
             [
              0.2222222222222222,
              "#7201a8"
             ],
             [
              0.3333333333333333,
              "#9c179e"
             ],
             [
              0.4444444444444444,
              "#bd3786"
             ],
             [
              0.5555555555555556,
              "#d8576b"
             ],
             [
              0.6666666666666666,
              "#ed7953"
             ],
             [
              0.7777777777777778,
              "#fb9f3a"
             ],
             [
              0.8888888888888888,
              "#fdca26"
             ],
             [
              1,
              "#f0f921"
             ]
            ],
            "type": "surface"
           }
          ],
          "table": [
           {
            "cells": {
             "fill": {
              "color": "#EBF0F8"
             },
             "line": {
              "color": "white"
             }
            },
            "header": {
             "fill": {
              "color": "#C8D4E3"
             },
             "line": {
              "color": "white"
             }
            },
            "type": "table"
           }
          ]
         },
         "layout": {
          "annotationdefaults": {
           "arrowcolor": "#2a3f5f",
           "arrowhead": 0,
           "arrowwidth": 1
          },
          "coloraxis": {
           "colorbar": {
            "outlinewidth": 0,
            "ticks": ""
           }
          },
          "colorscale": {
           "diverging": [
            [
             0,
             "#8e0152"
            ],
            [
             0.1,
             "#c51b7d"
            ],
            [
             0.2,
             "#de77ae"
            ],
            [
             0.3,
             "#f1b6da"
            ],
            [
             0.4,
             "#fde0ef"
            ],
            [
             0.5,
             "#f7f7f7"
            ],
            [
             0.6,
             "#e6f5d0"
            ],
            [
             0.7,
             "#b8e186"
            ],
            [
             0.8,
             "#7fbc41"
            ],
            [
             0.9,
             "#4d9221"
            ],
            [
             1,
             "#276419"
            ]
           ],
           "sequential": [
            [
             0,
             "#0d0887"
            ],
            [
             0.1111111111111111,
             "#46039f"
            ],
            [
             0.2222222222222222,
             "#7201a8"
            ],
            [
             0.3333333333333333,
             "#9c179e"
            ],
            [
             0.4444444444444444,
             "#bd3786"
            ],
            [
             0.5555555555555556,
             "#d8576b"
            ],
            [
             0.6666666666666666,
             "#ed7953"
            ],
            [
             0.7777777777777778,
             "#fb9f3a"
            ],
            [
             0.8888888888888888,
             "#fdca26"
            ],
            [
             1,
             "#f0f921"
            ]
           ],
           "sequentialminus": [
            [
             0,
             "#0d0887"
            ],
            [
             0.1111111111111111,
             "#46039f"
            ],
            [
             0.2222222222222222,
             "#7201a8"
            ],
            [
             0.3333333333333333,
             "#9c179e"
            ],
            [
             0.4444444444444444,
             "#bd3786"
            ],
            [
             0.5555555555555556,
             "#d8576b"
            ],
            [
             0.6666666666666666,
             "#ed7953"
            ],
            [
             0.7777777777777778,
             "#fb9f3a"
            ],
            [
             0.8888888888888888,
             "#fdca26"
            ],
            [
             1,
             "#f0f921"
            ]
           ]
          },
          "colorway": [
           "#636efa",
           "#EF553B",
           "#00cc96",
           "#ab63fa",
           "#FFA15A",
           "#19d3f3",
           "#FF6692",
           "#B6E880",
           "#FF97FF",
           "#FECB52"
          ],
          "font": {
           "color": "#2a3f5f"
          },
          "geo": {
           "bgcolor": "white",
           "lakecolor": "white",
           "landcolor": "#E5ECF6",
           "showlakes": true,
           "showland": true,
           "subunitcolor": "white"
          },
          "hoverlabel": {
           "align": "left"
          },
          "hovermode": "closest",
          "mapbox": {
           "style": "light"
          },
          "paper_bgcolor": "white",
          "plot_bgcolor": "#E5ECF6",
          "polar": {
           "angularaxis": {
            "gridcolor": "white",
            "linecolor": "white",
            "ticks": ""
           },
           "bgcolor": "#E5ECF6",
           "radialaxis": {
            "gridcolor": "white",
            "linecolor": "white",
            "ticks": ""
           }
          },
          "scene": {
           "xaxis": {
            "backgroundcolor": "#E5ECF6",
            "gridcolor": "white",
            "gridwidth": 2,
            "linecolor": "white",
            "showbackground": true,
            "ticks": "",
            "zerolinecolor": "white"
           },
           "yaxis": {
            "backgroundcolor": "#E5ECF6",
            "gridcolor": "white",
            "gridwidth": 2,
            "linecolor": "white",
            "showbackground": true,
            "ticks": "",
            "zerolinecolor": "white"
           },
           "zaxis": {
            "backgroundcolor": "#E5ECF6",
            "gridcolor": "white",
            "gridwidth": 2,
            "linecolor": "white",
            "showbackground": true,
            "ticks": "",
            "zerolinecolor": "white"
           }
          },
          "shapedefaults": {
           "line": {
            "color": "#2a3f5f"
           }
          },
          "ternary": {
           "aaxis": {
            "gridcolor": "white",
            "linecolor": "white",
            "ticks": ""
           },
           "baxis": {
            "gridcolor": "white",
            "linecolor": "white",
            "ticks": ""
           },
           "bgcolor": "#E5ECF6",
           "caxis": {
            "gridcolor": "white",
            "linecolor": "white",
            "ticks": ""
           }
          },
          "title": {
           "x": 0.05
          },
          "xaxis": {
           "automargin": true,
           "gridcolor": "white",
           "linecolor": "white",
           "ticks": "",
           "title": {
            "standoff": 15
           },
           "zerolinecolor": "white",
           "zerolinewidth": 2
          },
          "yaxis": {
           "automargin": true,
           "gridcolor": "white",
           "linecolor": "white",
           "ticks": "",
           "title": {
            "standoff": 15
           },
           "zerolinecolor": "white",
           "zerolinewidth": 2
          }
         }
        },
        "title": {
         "text": "House Price Appreciation Rank"
        }
       }
      },
      "text/html": [
       "<div>                            <div id=\"c79f86cb-bd09-42fb-a863-36df64cc1ea8\" class=\"plotly-graph-div\" style=\"height:525px; width:100%;\"></div>            <script type=\"text/javascript\">                require([\"plotly\"], function(Plotly) {                    window.PLOTLYENV=window.PLOTLYENV || {};                                    if (document.getElementById(\"c79f86cb-bd09-42fb-a863-36df64cc1ea8\")) {                    Plotly.newPlot(                        \"c79f86cb-bd09-42fb-a863-36df64cc1ea8\",                        [{\"hovertemplate\": \"<b>%{hovertext}</b><br><br>size=%{marker.size}<br>lat=%{lat}<br>lon=%{lon}<br>House Price Appreciation Rank=%{marker.color}<extra></extra>\", \"hovertext\": [\"Oklahoma City, OK\", \"Seattle, WA\", \"Tampa, FL\", \"Austin, TX\", \"Denver, CO\", \"Pittsburgh, PA\", \"Minneapolis, MN\", \"Omaha, NE\", \"Jacksonville, FL\", \"San Jose, CA\", \"Dallas, TX\", \"Virginia Beach, VA\", \"Miami, FL\", \"Colorado Springs, CO\", \"Tulsa, OK\", \"Nashville, TN\", \"Kansas City, MO\", \"San Antonio, TX\", \"Charlotte, NC\", \"Toledo, OH\", \"Houston, TX\", \"Columbus, OH\", \"Riverside, CA\", \"Washington, DC\", \"Phoenix, AZ\", \"Boston, MA\", \"New Orleans, LA\", \"San Francisco, CA\", \"Wichita, KS\", \"Atlanta, GA\", \"Cincinnati, OH\", \"San Diego, CA\", \"Sacramento, CA\", \"Buffalo, NY\", \"Fresno, CA\", \"Philadelphia, PA\", \"Stockton, CA\", \"Greensboro, NC\", \"El Paso, TX\", \"Milwaukee, WI\", \"Baltimore, MD\", \"Tucson, AZ\", \"Detroit, MI\", \"Indianapolis, IN\", \"Bakersfield, CA\", \"New York, NY\", \"Los Angeles, CA\", \"Albuquerque, NM\", \"Las Vegas, NV\", \"Chicago, IL\", \"Memphis, TN\"], \"lat\": [35.4676, 47.6211, 27.9942, 30.3004, 39.7621, 40.4396, 44.9635, 41.2627, 30.3322, 37.3019, 32.7936, 36.7335, 25.7839, 38.8674, 36.1284, 36.1715, 39.1239, 29.4658, 35.208, 41.6639, 29.7863, 39.9862, 33.9381, 38.9047, 33.5722, 42.3188, 30.0687, 37.7562, 37.6896, 33.7627, 39.1413, 32.8312, 38.5667, 42.9016, 36.7831, 40.0077, 37.9765, 36.0956, 31.8479, 43.0642, 39.3051, 32.1545, 42.3834, 39.7771, 35.3529, 40.6943, 34.1139, 35.1053, 36.2333, 41.8373, 35.1046], \"legendgroup\": \"\", \"lon\": [-97.5136, -122.3244, -82.4451, -97.7522, -104.8759, -79.9762, -93.2678, -96.0522, -81.6749, -121.8486, -96.7662, -76.0435, -80.2102, -104.7606, -95.9042, -86.7843, -94.5541, -98.5253, -80.8304, -83.5822, -95.3889, -82.985, -117.3948, -77.0163, -112.0891, -71.0846, -89.9288, -122.443, -97.3442, -84.4224, -84.5061, -117.1225, -121.4683, -78.8487, -119.7941, -75.1339, -121.3109, -79.8269, -106.4309, -87.9673, -76.6144, -110.8782, -83.1024, -86.1458, -119.0359, -73.9249, -118.4068, -106.6464, -115.2654, -87.6862, -89.9773], \"marker\": {\"color\": [10.65, 8.925, 8.3, 7.7250000000000005, 7.725, 7.6, 7.5, 6.3, 6.2, 5.800000000000001, 5.8, 5.549999999999999, 5.1, 4.799999999999999, 4.35, 4.299999999999999, 4.149999999999999, 4.125000000000001, 4.0, 3.8, 3.6500000000000004, 3.5, 3.299999999999999, 3.25, 3.049999999999999, 3.0, 2.5999999999999996, 2.224999999999998, 2.2, 1.875, 1.6499999999999986, 1.5999999999999996, 1.2749999999999995, 1.0500000000000007, 1.0, 0.8499999999999979, 0.8000000000000007, 0.8000000000000007, 0.7499999999999982, 0.24999999999999822, 0.09999999999999964, -1.200000000000001, -1.299999999999999, -1.5500000000000007, -1.75, -1.9500000000000002, -2.6000000000000014, -2.975, -3.1500000000000012, -5.350000000000001, -7.05], \"coloraxis\": \"coloraxis\", \"size\": [8, 8, 8, 8, 8, 8, 8, 8, 8, 8, 8, 8, 8, 8, 8, 8, 8, 8, 8, 8, 8, 8, 8, 8, 8, 8, 8, 8, 8, 8, 8, 8, 8, 8, 8, 8, 8, 8, 8, 8, 8, 8, 8, 8, 8, 8, 8, 8, 8, 8, 8], \"sizemode\": \"area\", \"sizeref\": 0.02}, \"mode\": \"markers\", \"name\": \"\", \"showlegend\": false, \"subplot\": \"mapbox\", \"type\": \"scattermapbox\"}],                        {\"coloraxis\": {\"colorbar\": {\"title\": {\"text\": \"House Price Appreciation Rank\"}}, \"colorscale\": [[0.0, \"rgb(165,0,38)\"], [0.1, \"rgb(215,48,39)\"], [0.2, \"rgb(244,109,67)\"], [0.3, \"rgb(253,174,97)\"], [0.4, \"rgb(254,224,139)\"], [0.5, \"rgb(255,255,191)\"], [0.6, \"rgb(217,239,139)\"], [0.7, \"rgb(166,217,106)\"], [0.8, \"rgb(102,189,99)\"], [0.9, \"rgb(26,152,80)\"], [1.0, \"rgb(0,104,55)\"]]}, \"legend\": {\"itemsizing\": \"constant\", \"tracegroupgap\": 0}, \"mapbox\": {\"accesstoken\": \"pk.eyJ1IjoiaW50aWNlbmMiLCJhIjoiY2tnZWZmZXA1MGg2YzJ4cGQ4NTg0bjBrYSJ9.pKoJ0spieI5bz8aApTMLbQ\", \"center\": {\"lat\": 36.79306274509805, \"lon\": -95.8016137254902}, \"domain\": {\"x\": [0.0, 1.0], \"y\": [0.0, 1.0]}, \"zoom\": 3}, \"margin\": {\"t\": 60}, \"template\": {\"data\": {\"bar\": [{\"error_x\": {\"color\": \"#2a3f5f\"}, \"error_y\": {\"color\": \"#2a3f5f\"}, \"marker\": {\"line\": {\"color\": \"#E5ECF6\", \"width\": 0.5}}, \"type\": \"bar\"}], \"barpolar\": [{\"marker\": {\"line\": {\"color\": \"#E5ECF6\", \"width\": 0.5}}, \"type\": \"barpolar\"}], \"carpet\": [{\"aaxis\": {\"endlinecolor\": \"#2a3f5f\", \"gridcolor\": \"white\", \"linecolor\": \"white\", \"minorgridcolor\": \"white\", \"startlinecolor\": \"#2a3f5f\"}, \"baxis\": {\"endlinecolor\": \"#2a3f5f\", \"gridcolor\": \"white\", \"linecolor\": \"white\", \"minorgridcolor\": \"white\", \"startlinecolor\": \"#2a3f5f\"}, \"type\": \"carpet\"}], \"choropleth\": [{\"colorbar\": {\"outlinewidth\": 0, \"ticks\": \"\"}, \"type\": \"choropleth\"}], \"contour\": [{\"colorbar\": {\"outlinewidth\": 0, \"ticks\": \"\"}, \"colorscale\": [[0.0, \"#0d0887\"], [0.1111111111111111, \"#46039f\"], [0.2222222222222222, \"#7201a8\"], [0.3333333333333333, \"#9c179e\"], [0.4444444444444444, \"#bd3786\"], [0.5555555555555556, \"#d8576b\"], [0.6666666666666666, \"#ed7953\"], [0.7777777777777778, \"#fb9f3a\"], [0.8888888888888888, \"#fdca26\"], [1.0, \"#f0f921\"]], \"type\": \"contour\"}], \"contourcarpet\": [{\"colorbar\": {\"outlinewidth\": 0, \"ticks\": \"\"}, \"type\": \"contourcarpet\"}], \"heatmap\": [{\"colorbar\": {\"outlinewidth\": 0, \"ticks\": \"\"}, \"colorscale\": [[0.0, \"#0d0887\"], [0.1111111111111111, \"#46039f\"], [0.2222222222222222, \"#7201a8\"], [0.3333333333333333, \"#9c179e\"], [0.4444444444444444, \"#bd3786\"], [0.5555555555555556, \"#d8576b\"], [0.6666666666666666, \"#ed7953\"], [0.7777777777777778, \"#fb9f3a\"], [0.8888888888888888, \"#fdca26\"], [1.0, \"#f0f921\"]], \"type\": \"heatmap\"}], \"heatmapgl\": [{\"colorbar\": {\"outlinewidth\": 0, \"ticks\": \"\"}, \"colorscale\": [[0.0, \"#0d0887\"], [0.1111111111111111, \"#46039f\"], [0.2222222222222222, \"#7201a8\"], [0.3333333333333333, \"#9c179e\"], [0.4444444444444444, \"#bd3786\"], [0.5555555555555556, \"#d8576b\"], [0.6666666666666666, \"#ed7953\"], [0.7777777777777778, \"#fb9f3a\"], [0.8888888888888888, \"#fdca26\"], [1.0, \"#f0f921\"]], \"type\": \"heatmapgl\"}], \"histogram\": [{\"marker\": {\"colorbar\": {\"outlinewidth\": 0, \"ticks\": \"\"}}, \"type\": \"histogram\"}], \"histogram2d\": [{\"colorbar\": {\"outlinewidth\": 0, \"ticks\": \"\"}, \"colorscale\": [[0.0, \"#0d0887\"], [0.1111111111111111, \"#46039f\"], [0.2222222222222222, \"#7201a8\"], [0.3333333333333333, \"#9c179e\"], [0.4444444444444444, \"#bd3786\"], [0.5555555555555556, \"#d8576b\"], [0.6666666666666666, \"#ed7953\"], [0.7777777777777778, \"#fb9f3a\"], [0.8888888888888888, \"#fdca26\"], [1.0, \"#f0f921\"]], \"type\": \"histogram2d\"}], \"histogram2dcontour\": [{\"colorbar\": {\"outlinewidth\": 0, \"ticks\": \"\"}, \"colorscale\": [[0.0, \"#0d0887\"], [0.1111111111111111, \"#46039f\"], [0.2222222222222222, \"#7201a8\"], [0.3333333333333333, \"#9c179e\"], [0.4444444444444444, \"#bd3786\"], [0.5555555555555556, \"#d8576b\"], [0.6666666666666666, \"#ed7953\"], [0.7777777777777778, \"#fb9f3a\"], [0.8888888888888888, \"#fdca26\"], [1.0, \"#f0f921\"]], \"type\": \"histogram2dcontour\"}], \"mesh3d\": [{\"colorbar\": {\"outlinewidth\": 0, \"ticks\": \"\"}, \"type\": \"mesh3d\"}], \"parcoords\": [{\"line\": {\"colorbar\": {\"outlinewidth\": 0, \"ticks\": \"\"}}, \"type\": \"parcoords\"}], \"pie\": [{\"automargin\": true, \"type\": \"pie\"}], \"scatter\": [{\"marker\": {\"colorbar\": {\"outlinewidth\": 0, \"ticks\": \"\"}}, \"type\": \"scatter\"}], \"scatter3d\": [{\"line\": {\"colorbar\": {\"outlinewidth\": 0, \"ticks\": \"\"}}, \"marker\": {\"colorbar\": {\"outlinewidth\": 0, \"ticks\": \"\"}}, \"type\": \"scatter3d\"}], \"scattercarpet\": [{\"marker\": {\"colorbar\": {\"outlinewidth\": 0, \"ticks\": \"\"}}, \"type\": \"scattercarpet\"}], \"scattergeo\": [{\"marker\": {\"colorbar\": {\"outlinewidth\": 0, \"ticks\": \"\"}}, \"type\": \"scattergeo\"}], \"scattergl\": [{\"marker\": {\"colorbar\": {\"outlinewidth\": 0, \"ticks\": \"\"}}, \"type\": \"scattergl\"}], \"scattermapbox\": [{\"marker\": {\"colorbar\": {\"outlinewidth\": 0, \"ticks\": \"\"}}, \"type\": \"scattermapbox\"}], \"scatterpolar\": [{\"marker\": {\"colorbar\": {\"outlinewidth\": 0, \"ticks\": \"\"}}, \"type\": \"scatterpolar\"}], \"scatterpolargl\": [{\"marker\": {\"colorbar\": {\"outlinewidth\": 0, \"ticks\": \"\"}}, \"type\": \"scatterpolargl\"}], \"scatterternary\": [{\"marker\": {\"colorbar\": {\"outlinewidth\": 0, \"ticks\": \"\"}}, \"type\": \"scatterternary\"}], \"surface\": [{\"colorbar\": {\"outlinewidth\": 0, \"ticks\": \"\"}, \"colorscale\": [[0.0, \"#0d0887\"], [0.1111111111111111, \"#46039f\"], [0.2222222222222222, \"#7201a8\"], [0.3333333333333333, \"#9c179e\"], [0.4444444444444444, \"#bd3786\"], [0.5555555555555556, \"#d8576b\"], [0.6666666666666666, \"#ed7953\"], [0.7777777777777778, \"#fb9f3a\"], [0.8888888888888888, \"#fdca26\"], [1.0, \"#f0f921\"]], \"type\": \"surface\"}], \"table\": [{\"cells\": {\"fill\": {\"color\": \"#EBF0F8\"}, \"line\": {\"color\": \"white\"}}, \"header\": {\"fill\": {\"color\": \"#C8D4E3\"}, \"line\": {\"color\": \"white\"}}, \"type\": \"table\"}]}, \"layout\": {\"annotationdefaults\": {\"arrowcolor\": \"#2a3f5f\", \"arrowhead\": 0, \"arrowwidth\": 1}, \"coloraxis\": {\"colorbar\": {\"outlinewidth\": 0, \"ticks\": \"\"}}, \"colorscale\": {\"diverging\": [[0, \"#8e0152\"], [0.1, \"#c51b7d\"], [0.2, \"#de77ae\"], [0.3, \"#f1b6da\"], [0.4, \"#fde0ef\"], [0.5, \"#f7f7f7\"], [0.6, \"#e6f5d0\"], [0.7, \"#b8e186\"], [0.8, \"#7fbc41\"], [0.9, \"#4d9221\"], [1, \"#276419\"]], \"sequential\": [[0.0, \"#0d0887\"], [0.1111111111111111, \"#46039f\"], [0.2222222222222222, \"#7201a8\"], [0.3333333333333333, \"#9c179e\"], [0.4444444444444444, \"#bd3786\"], [0.5555555555555556, \"#d8576b\"], [0.6666666666666666, \"#ed7953\"], [0.7777777777777778, \"#fb9f3a\"], [0.8888888888888888, \"#fdca26\"], [1.0, \"#f0f921\"]], \"sequentialminus\": [[0.0, \"#0d0887\"], [0.1111111111111111, \"#46039f\"], [0.2222222222222222, \"#7201a8\"], [0.3333333333333333, \"#9c179e\"], [0.4444444444444444, \"#bd3786\"], [0.5555555555555556, \"#d8576b\"], [0.6666666666666666, \"#ed7953\"], [0.7777777777777778, \"#fb9f3a\"], [0.8888888888888888, \"#fdca26\"], [1.0, \"#f0f921\"]]}, \"colorway\": [\"#636efa\", \"#EF553B\", \"#00cc96\", \"#ab63fa\", \"#FFA15A\", \"#19d3f3\", \"#FF6692\", \"#B6E880\", \"#FF97FF\", \"#FECB52\"], \"font\": {\"color\": \"#2a3f5f\"}, \"geo\": {\"bgcolor\": \"white\", \"lakecolor\": \"white\", \"landcolor\": \"#E5ECF6\", \"showlakes\": true, \"showland\": true, \"subunitcolor\": \"white\"}, \"hoverlabel\": {\"align\": \"left\"}, \"hovermode\": \"closest\", \"mapbox\": {\"style\": \"light\"}, \"paper_bgcolor\": \"white\", \"plot_bgcolor\": \"#E5ECF6\", \"polar\": {\"angularaxis\": {\"gridcolor\": \"white\", \"linecolor\": \"white\", \"ticks\": \"\"}, \"bgcolor\": \"#E5ECF6\", \"radialaxis\": {\"gridcolor\": \"white\", \"linecolor\": \"white\", \"ticks\": \"\"}}, \"scene\": {\"xaxis\": {\"backgroundcolor\": \"#E5ECF6\", \"gridcolor\": \"white\", \"gridwidth\": 2, \"linecolor\": \"white\", \"showbackground\": true, \"ticks\": \"\", \"zerolinecolor\": \"white\"}, \"yaxis\": {\"backgroundcolor\": \"#E5ECF6\", \"gridcolor\": \"white\", \"gridwidth\": 2, \"linecolor\": \"white\", \"showbackground\": true, \"ticks\": \"\", \"zerolinecolor\": \"white\"}, \"zaxis\": {\"backgroundcolor\": \"#E5ECF6\", \"gridcolor\": \"white\", \"gridwidth\": 2, \"linecolor\": \"white\", \"showbackground\": true, \"ticks\": \"\", \"zerolinecolor\": \"white\"}}, \"shapedefaults\": {\"line\": {\"color\": \"#2a3f5f\"}}, \"ternary\": {\"aaxis\": {\"gridcolor\": \"white\", \"linecolor\": \"white\", \"ticks\": \"\"}, \"baxis\": {\"gridcolor\": \"white\", \"linecolor\": \"white\", \"ticks\": \"\"}, \"bgcolor\": \"#E5ECF6\", \"caxis\": {\"gridcolor\": \"white\", \"linecolor\": \"white\", \"ticks\": \"\"}}, \"title\": {\"x\": 0.05}, \"xaxis\": {\"automargin\": true, \"gridcolor\": \"white\", \"linecolor\": \"white\", \"ticks\": \"\", \"title\": {\"standoff\": 15}, \"zerolinecolor\": \"white\", \"zerolinewidth\": 2}, \"yaxis\": {\"automargin\": true, \"gridcolor\": \"white\", \"linecolor\": \"white\", \"ticks\": \"\", \"title\": {\"standoff\": 15}, \"zerolinecolor\": \"white\", \"zerolinewidth\": 2}}}, \"title\": {\"text\": \"House Price Appreciation Rank\"}},                        {\"responsive\": true}                    ).then(function(){\n",
       "                            \n",
       "var gd = document.getElementById('c79f86cb-bd09-42fb-a863-36df64cc1ea8');\n",
       "var x = new MutationObserver(function (mutations, observer) {{\n",
       "        var display = window.getComputedStyle(gd).display;\n",
       "        if (!display || display === 'none') {{\n",
       "            console.log([gd, 'removed!']);\n",
       "            Plotly.purge(gd);\n",
       "            observer.disconnect();\n",
       "        }}\n",
       "}});\n",
       "\n",
       "// Listen for the removal of the full notebook cells\n",
       "var notebookContainer = gd.closest('#notebook-container');\n",
       "if (notebookContainer) {{\n",
       "    x.observe(notebookContainer, {childList: true});\n",
       "}}\n",
       "\n",
       "// Listen for the clearing of the current output cell\n",
       "var outputEl = gd.closest('.output');\n",
       "if (outputEl) {{\n",
       "    x.observe(outputEl, {childList: true});\n",
       "}}\n",
       "\n",
       "                        })                };                });            </script>        </div>"
      ]
     },
     "metadata": {},
     "output_type": "display_data"
    }
   ],
   "source": [
    "# Create Mapbox of House Price Appreciation Rank\n",
    "graph_data.reset_index(inplace=True)\n",
    "\n",
    "map = px.scatter_mapbox(\n",
    "    graph_data,\n",
    "    lat=\"lat\",\n",
    "    lon=\"lon\",\n",
    "    size=\"size\",\n",
    "    color=\"House Price Appreciation Rank\",\n",
    "    hover_name=\"MSA\",\n",
    "    zoom=3,\n",
    "    color_continuous_scale=px.colors.diverging.RdYlGn)\n",
    "\n",
    "map.update_layout(title='House Price Appreciation Rank')\n",
    "map.show()"
   ]
  },
  {
   "cell_type": "code",
   "execution_count": 15,
   "metadata": {},
   "outputs": [
    {
     "data": {
      "text/plain": [
       "[0.2, 0.2, 0.2, 0.2, 0.2]"
      ]
     },
     "execution_count": 15,
     "metadata": {},
     "output_type": "execute_result"
    }
   ],
   "source": [
    "weights"
   ]
  },
  {
   "cell_type": "code",
   "execution_count": 5,
   "metadata": {},
   "outputs": [
    {
     "data": {
      "text/plain": [
       "Index(['MSA', 'Violent Crime', 'Murder', 'Murder Rate',\n",
       "       'Population 2019 (DO NOT USE)', 'Population 2010 (DO NOT USE)',\n",
       "       'Population 10 year CAGR', 'Median income (dollars)',\n",
       "       'Mean income (dollars)', 'City', 'State', 'Population', 'Density',\n",
       "       'Zip Code', 'lat', 'lon', '% Sale Price Change Since Feb',\n",
       "       '% Sale Price Change Since Feb 2019', 'Avg Sale Price Last 12M',\n",
       "       'Sale Price Last', 'Sale Pr CAGR GFC', 'Sale Pr Standard Deviation',\n",
       "       '1 Year Avg Return', '3 Year Avg Return', '5 Year Avg Return',\n",
       "       '% Rent Change Since Feb', '% Rent Change Since Feb 2019',\n",
       "       '2019 Annualized Rent', 'Avg Monthly Rent 2019',\n",
       "       'Avg Monthly Rent Last 12M', 'Last 12M Annualized Rent',\n",
       "       'Monthly Rent Last', 'Rent CAGR since 2014-01',\n",
       "       'Rent Standard Deviation', 'Affordability Rent/Median Inc',\n",
       "       'Affordability Rent/Avg Inc', 'Capitalization Rate Last'],\n",
       "      dtype='object')"
      ]
     },
     "execution_count": 5,
     "metadata": {},
     "output_type": "execute_result"
    }
   ],
   "source": [
    "combined_df.columns"
   ]
  },
  {
   "cell_type": "code",
   "execution_count": null,
   "metadata": {},
   "outputs": [],
   "source": []
  }
 ],
 "metadata": {
  "kernelspec": {
   "display_name": "pyvizenv",
   "language": "python",
   "name": "pyvizenv"
  },
  "language_info": {
   "codemirror_mode": {
    "name": "ipython",
    "version": 3
   },
   "file_extension": ".py",
   "mimetype": "text/x-python",
   "name": "python",
   "nbconvert_exporter": "python",
   "pygments_lexer": "ipython3",
   "version": "3.7.7"
  }
 },
 "nbformat": 4,
 "nbformat_minor": 4
}
