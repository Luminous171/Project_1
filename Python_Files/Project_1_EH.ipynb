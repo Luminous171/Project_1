{
 "cells": [
  {
   "cell_type": "code",
   "execution_count": 67,
   "metadata": {},
   "outputs": [],
   "source": [
    "# This is Eli's Python File\n",
    "# Import statements\n",
    "import numpy as np\n",
    "import pandas as pd\n",
    "from pathlib import Path\n",
    "from MCForecastTools import MCSimulation\n",
    "%matplotlib inline"
   ]
  },
  {
   "cell_type": "code",
   "execution_count": 11,
   "metadata": {},
   "outputs": [
    {
     "data": {
      "text/html": [
       "<div>\n",
       "<style scoped>\n",
       "    .dataframe tbody tr th:only-of-type {\n",
       "        vertical-align: middle;\n",
       "    }\n",
       "\n",
       "    .dataframe tbody tr th {\n",
       "        vertical-align: top;\n",
       "    }\n",
       "\n",
       "    .dataframe thead th {\n",
       "        text-align: right;\n",
       "    }\n",
       "</style>\n",
       "<table border=\"1\" class=\"dataframe\">\n",
       "  <thead>\n",
       "    <tr style=\"text-align: right;\">\n",
       "      <th>Label</th>\n",
       "      <th>Median income (dollars)</th>\n",
       "      <th>Mean income (dollars)</th>\n",
       "      <th>Primary MSA</th>\n",
       "      <th>Secondary MSA</th>\n",
       "      <th>Primary State</th>\n",
       "      <th>Secondary State</th>\n",
       "    </tr>\n",
       "  </thead>\n",
       "  <tbody>\n",
       "    <tr>\n",
       "      <th>0</th>\n",
       "      <td>61,026</td>\n",
       "      <td>77,948</td>\n",
       "      <td>Aberdeen</td>\n",
       "      <td>None</td>\n",
       "      <td>WA</td>\n",
       "      <td>None</td>\n",
       "    </tr>\n",
       "    <tr>\n",
       "      <th>8</th>\n",
       "      <td>54,808</td>\n",
       "      <td>71,517</td>\n",
       "      <td>Abilene</td>\n",
       "      <td>None</td>\n",
       "      <td>TX</td>\n",
       "      <td>None</td>\n",
       "    </tr>\n",
       "    <tr>\n",
       "      <th>16</th>\n",
       "      <td>53,865</td>\n",
       "      <td>69,443</td>\n",
       "      <td>Adrian</td>\n",
       "      <td>None</td>\n",
       "      <td>MI</td>\n",
       "      <td>None</td>\n",
       "    </tr>\n",
       "    <tr>\n",
       "      <th>24</th>\n",
       "      <td>16,311</td>\n",
       "      <td>25,781</td>\n",
       "      <td>Aguadilla</td>\n",
       "      <td>Isabela</td>\n",
       "      <td>PR</td>\n",
       "      <td>None</td>\n",
       "    </tr>\n",
       "    <tr>\n",
       "      <th>32</th>\n",
       "      <td>57,158</td>\n",
       "      <td>80,800</td>\n",
       "      <td>Akron</td>\n",
       "      <td>None</td>\n",
       "      <td>OH</td>\n",
       "      <td>None</td>\n",
       "    </tr>\n",
       "  </tbody>\n",
       "</table>\n",
       "</div>"
      ],
      "text/plain": [
       "Label Median income (dollars) Mean income (dollars) Primary MSA Secondary MSA  \\\n",
       "0                      61,026                77,948    Aberdeen          None   \n",
       "8                      54,808                71,517     Abilene          None   \n",
       "16                     53,865                69,443      Adrian          None   \n",
       "24                     16,311                25,781   Aguadilla       Isabela   \n",
       "32                     57,158                80,800       Akron          None   \n",
       "\n",
       "Label Primary State Secondary State  \n",
       "0                WA            None  \n",
       "8                TX            None  \n",
       "16               MI            None  \n",
       "24               PR            None  \n",
       "32               OH            None  "
      ]
     },
     "execution_count": 11,
     "metadata": {},
     "output_type": "execute_result"
    }
   ],
   "source": [
    "# Read the affordability data\n",
    "median_income_csv = Path(\"../Data/household_income_msa_2019.csv\")\n",
    "median_income_df = pd.read_csv(median_income_csv)\n",
    "# Clean the affordability data\n",
    "median_income_df = median_income_df.transpose() # Transpose the column/headers\n",
    "new_header = median_income_df.iloc[0] #grab the first row for the header\n",
    "median_income_df = median_income_df[1:] #take the data less the header row\n",
    "median_income_df.columns = new_header #set the header row as the df header\n",
    "median_income_df = median_income_df[['Median income (dollars)','Mean income (dollars)']] # Use only median and mean income data columns\n",
    "median_income_df.reset_index(inplace=True)\n",
    "median_income_df[['MSA','extra']] = median_income_df['index'].str.split(\",\", n = 1, expand=True) # Split MSA from text string\n",
    "median_income_df[['State','extra2']] = median_income_df['extra'].str.split(n = 1, expand=True) # Split State from remaining text string\n",
    "median_income_df[['Primary MSA','Secondary MSA']] = median_income_df['MSA'].str.split(\"-\", n = 1, expand=True) # Split primary MSA from first text string\n",
    "median_income_df[['Primary State','Secondary State']] = median_income_df['State'].str.split(\"-\", n = 1, expand=True) # Split primary State from first text string\n",
    "median_income_df.drop(columns=['index','extra','extra2','MSA','State'],inplace=True) # Drop unnecessary columns\n",
    "median_income_df.drop_duplicates(subset=['Primary MSA','Primary State'], inplace=True) # Drop duplicates -- first instance is the median and mean income by MSA\n",
    "median_income_df.head()"
   ]
  },
  {
   "cell_type": "code",
   "execution_count": 88,
   "metadata": {},
   "outputs": [
    {
     "data": {
      "text/html": [
       "<div>\n",
       "<style scoped>\n",
       "    .dataframe tbody tr th:only-of-type {\n",
       "        vertical-align: middle;\n",
       "    }\n",
       "\n",
       "    .dataframe tbody tr th {\n",
       "        vertical-align: top;\n",
       "    }\n",
       "\n",
       "    .dataframe thead tr th {\n",
       "        text-align: left;\n",
       "    }\n",
       "\n",
       "    .dataframe thead tr:last-of-type th {\n",
       "        text-align: right;\n",
       "    }\n",
       "</style>\n",
       "<table border=\"1\" class=\"dataframe\">\n",
       "  <thead>\n",
       "    <tr>\n",
       "      <th></th>\n",
       "      <th>Test_MSA</th>\n",
       "      <th>Test_MSA2</th>\n",
       "    </tr>\n",
       "    <tr>\n",
       "      <th></th>\n",
       "      <th>Ticker</th>\n",
       "      <th>Ticker</th>\n",
       "    </tr>\n",
       "    <tr>\n",
       "      <th></th>\n",
       "      <th>close</th>\n",
       "      <th>close</th>\n",
       "    </tr>\n",
       "    <tr>\n",
       "      <th>Date</th>\n",
       "      <th></th>\n",
       "      <th></th>\n",
       "    </tr>\n",
       "  </thead>\n",
       "  <tbody>\n",
       "    <tr>\n",
       "      <th>12/31/2019</th>\n",
       "      <td>100</td>\n",
       "      <td>100</td>\n",
       "    </tr>\n",
       "    <tr>\n",
       "      <th>1/31/2020</th>\n",
       "      <td>105</td>\n",
       "      <td>104</td>\n",
       "    </tr>\n",
       "    <tr>\n",
       "      <th>2/29/2020</th>\n",
       "      <td>102</td>\n",
       "      <td>103</td>\n",
       "    </tr>\n",
       "    <tr>\n",
       "      <th>3/31/2020</th>\n",
       "      <td>106</td>\n",
       "      <td>101</td>\n",
       "    </tr>\n",
       "    <tr>\n",
       "      <th>4/30/2020</th>\n",
       "      <td>110</td>\n",
       "      <td>99</td>\n",
       "    </tr>\n",
       "  </tbody>\n",
       "</table>\n",
       "</div>"
      ],
      "text/plain": [
       "           Test_MSA Test_MSA2\n",
       "             Ticker    Ticker\n",
       "              close     close\n",
       "Date                         \n",
       "12/31/2019      100       100\n",
       "1/31/2020       105       104\n",
       "2/29/2020       102       103\n",
       "3/31/2020       106       101\n",
       "4/30/2020       110        99"
      ]
     },
     "execution_count": 88,
     "metadata": {},
     "output_type": "execute_result"
    }
   ],
   "source": [
    "# Testing Monte Carlo Simulation\n",
    "# Read in test CSV\n",
    "test_csv = Path(\"../Data/sim_test_data.csv\")\n",
    "test_df = pd.read_csv(test_csv)\n",
    "test_df.set_index('Date', inplace=True)\n",
    "test_df.columns = [test_df.columns,['Ticker'] * len(test_df.columns), ['close'] * len(test_df.columns)]\n",
    "test_df.head()"
   ]
  },
  {
   "cell_type": "code",
   "execution_count": 120,
   "metadata": {},
   "outputs": [
    {
     "name": "stdout",
     "output_type": "stream",
     "text": [
      "Running Monte Carlo simulation number 0.\n"
     ]
    }
   ],
   "source": [
    "MC_oneyear = MCSimulation(\n",
    "    portfolio_data = test_df['Test_MSA'],\n",
    "    weights = [1],\n",
    "    num_simulation = 10,\n",
    "    num_trading_days = 12*1\n",
    ")\n",
    "\n",
    "# Running a Monte Carlo simulation to forecast cumulative returns\n",
    "sim_df = MC_oneyear.calc_cumulative_return() - 1\n",
    "end_return = pd.DataFrame(index=['Average Cumulative Return'])\n",
    "end_return['Test_MSA'] = sim_df.iloc[-1,:].mean()"
   ]
  },
  {
   "cell_type": "code",
   "execution_count": 121,
   "metadata": {},
   "outputs": [
    {
     "data": {
      "text/html": [
       "<div>\n",
       "<style scoped>\n",
       "    .dataframe tbody tr th:only-of-type {\n",
       "        vertical-align: middle;\n",
       "    }\n",
       "\n",
       "    .dataframe tbody tr th {\n",
       "        vertical-align: top;\n",
       "    }\n",
       "\n",
       "    .dataframe thead th {\n",
       "        text-align: right;\n",
       "    }\n",
       "</style>\n",
       "<table border=\"1\" class=\"dataframe\">\n",
       "  <thead>\n",
       "    <tr style=\"text-align: right;\">\n",
       "      <th></th>\n",
       "      <th>Test_MSA</th>\n",
       "    </tr>\n",
       "  </thead>\n",
       "  <tbody>\n",
       "    <tr>\n",
       "      <th>Average Cumulative Return</th>\n",
       "      <td>0.439731</td>\n",
       "    </tr>\n",
       "  </tbody>\n",
       "</table>\n",
       "</div>"
      ],
      "text/plain": [
       "                           Test_MSA\n",
       "Average Cumulative Return  0.439731"
      ]
     },
     "execution_count": 121,
     "metadata": {},
     "output_type": "execute_result"
    }
   ],
   "source": [
    "end_return"
   ]
  },
  {
   "cell_type": "code",
   "execution_count": 124,
   "metadata": {},
   "outputs": [
    {
     "name": "stdout",
     "output_type": "stream",
     "text": [
      "Running Monte Carlo simulation number 0.\n",
      "Running Monte Carlo simulation number 0.\n"
     ]
    }
   ],
   "source": [
    "# Configuring a Monte Carlo simulation to forecast five years cumulative returns\n",
    "end_return = pd.DataFrame(index=['Average Cumulative Return'])\n",
    "for msa in test_df.columns.get_level_values(0):\n",
    "\n",
    "    MC_oneyear = MCSimulation(\n",
    "        portfolio_data = test_df[msa],\n",
    "        weights = [1],\n",
    "        num_simulation = 10,\n",
    "        num_trading_days = 12*1\n",
    "    )\n",
    "\n",
    "    # Running a Monte Carlo simulation to forecast cumulative returns\n",
    "    sim_df = MC_oneyear.calc_cumulative_return() - 1\n",
    "    end_return[msa] = sim_df.iloc[-1,:].mean()"
   ]
  },
  {
   "cell_type": "code",
   "execution_count": 125,
   "metadata": {},
   "outputs": [
    {
     "data": {
      "text/html": [
       "<div>\n",
       "<style scoped>\n",
       "    .dataframe tbody tr th:only-of-type {\n",
       "        vertical-align: middle;\n",
       "    }\n",
       "\n",
       "    .dataframe tbody tr th {\n",
       "        vertical-align: top;\n",
       "    }\n",
       "\n",
       "    .dataframe thead th {\n",
       "        text-align: right;\n",
       "    }\n",
       "</style>\n",
       "<table border=\"1\" class=\"dataframe\">\n",
       "  <thead>\n",
       "    <tr style=\"text-align: right;\">\n",
       "      <th></th>\n",
       "      <th>Test_MSA</th>\n",
       "      <th>Test_MSA2</th>\n",
       "    </tr>\n",
       "  </thead>\n",
       "  <tbody>\n",
       "    <tr>\n",
       "      <th>Average Cumulative Return</th>\n",
       "      <td>0.29773</td>\n",
       "      <td>0.205301</td>\n",
       "    </tr>\n",
       "  </tbody>\n",
       "</table>\n",
       "</div>"
      ],
      "text/plain": [
       "                           Test_MSA  Test_MSA2\n",
       "Average Cumulative Return   0.29773   0.205301"
      ]
     },
     "execution_count": 125,
     "metadata": {},
     "output_type": "execute_result"
    }
   ],
   "source": [
    "end_return"
   ]
  },
  {
   "cell_type": "code",
   "execution_count": null,
   "metadata": {},
   "outputs": [],
   "source": []
  }
 ],
 "metadata": {
  "kernelspec": {
   "display_name": "Python 3",
   "language": "python",
   "name": "python3"
  },
  "language_info": {
   "codemirror_mode": {
    "name": "ipython",
    "version": 3
   },
   "file_extension": ".py",
   "mimetype": "text/x-python",
   "name": "python",
   "nbconvert_exporter": "python",
   "pygments_lexer": "ipython3",
   "version": "3.8.3"
  }
 },
 "nbformat": 4,
 "nbformat_minor": 4
}
