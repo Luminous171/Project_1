{
 "cells": [
  {
   "cell_type": "code",
   "execution_count": 186,
   "metadata": {
    "scrolled": false
   },
   "outputs": [],
   "source": [
    "# Nika's notebook\n",
    "\n",
    "# Import statements\n",
    "import numpy as np\n",
    "import pandas as pd\n",
    "from pathlib import Path\n",
    "%matplotlib inline\n",
    "\n",
    "#visualizations import statements\n",
    "import panel as pn\n",
    "pn.extension('plotly')\n",
    "import plotly.express as px\n",
    "import hvplot.pandas\n",
    "import matplotlib.pyplot as plt\n",
    "import holoviews as hv\n",
    "import os\n",
    "from dotenv import load_dotenv"
   ]
  },
  {
   "cell_type": "code",
   "execution_count": 187,
   "metadata": {
    "scrolled": false
   },
   "outputs": [
    {
     "data": {
      "text/html": [
       "<div>\n",
       "<style scoped>\n",
       "    .dataframe tbody tr th:only-of-type {\n",
       "        vertical-align: middle;\n",
       "    }\n",
       "\n",
       "    .dataframe tbody tr th {\n",
       "        vertical-align: top;\n",
       "    }\n",
       "\n",
       "    .dataframe thead th {\n",
       "        text-align: right;\n",
       "    }\n",
       "</style>\n",
       "<table border=\"1\" class=\"dataframe\">\n",
       "  <thead>\n",
       "    <tr style=\"text-align: right;\">\n",
       "      <th></th>\n",
       "      <th>lat</th>\n",
       "      <th>lng</th>\n",
       "      <th>population</th>\n",
       "      <th>density</th>\n",
       "      <th>ranking</th>\n",
       "      <th>firstzip</th>\n",
       "    </tr>\n",
       "    <tr>\n",
       "      <th>Primary MSA</th>\n",
       "      <th></th>\n",
       "      <th></th>\n",
       "      <th></th>\n",
       "      <th></th>\n",
       "      <th></th>\n",
       "      <th></th>\n",
       "    </tr>\n",
       "  </thead>\n",
       "  <tbody>\n",
       "    <tr>\n",
       "      <th>New York_NY</th>\n",
       "      <td>40.6943</td>\n",
       "      <td>-73.9249</td>\n",
       "      <td>18713220.0</td>\n",
       "      <td>10715.0</td>\n",
       "      <td>1</td>\n",
       "      <td>11229</td>\n",
       "    </tr>\n",
       "    <tr>\n",
       "      <th>Los Angeles_CA</th>\n",
       "      <td>34.1139</td>\n",
       "      <td>-118.4068</td>\n",
       "      <td>12750807.0</td>\n",
       "      <td>3276.0</td>\n",
       "      <td>1</td>\n",
       "      <td>90291</td>\n",
       "    </tr>\n",
       "    <tr>\n",
       "      <th>Chicago_IL</th>\n",
       "      <td>41.8373</td>\n",
       "      <td>-87.6862</td>\n",
       "      <td>8604203.0</td>\n",
       "      <td>4574.0</td>\n",
       "      <td>1</td>\n",
       "      <td>60018</td>\n",
       "    </tr>\n",
       "    <tr>\n",
       "      <th>Miami_FL</th>\n",
       "      <td>25.7839</td>\n",
       "      <td>-80.2102</td>\n",
       "      <td>6445545.0</td>\n",
       "      <td>5019.0</td>\n",
       "      <td>1</td>\n",
       "      <td>33129</td>\n",
       "    </tr>\n",
       "    <tr>\n",
       "      <th>Dallas_TX</th>\n",
       "      <td>32.7936</td>\n",
       "      <td>-96.7662</td>\n",
       "      <td>5743938.0</td>\n",
       "      <td>1526.0</td>\n",
       "      <td>1</td>\n",
       "      <td>75287</td>\n",
       "    </tr>\n",
       "  </tbody>\n",
       "</table>\n",
       "</div>"
      ],
      "text/plain": [
       "                    lat       lng  population  density  ranking firstzip\n",
       "Primary MSA                                                             \n",
       "New York_NY     40.6943  -73.9249  18713220.0  10715.0        1    11229\n",
       "Los Angeles_CA  34.1139 -118.4068  12750807.0   3276.0        1    90291\n",
       "Chicago_IL      41.8373  -87.6862   8604203.0   4574.0        1    60018\n",
       "Miami_FL        25.7839  -80.2102   6445545.0   5019.0        1    33129\n",
       "Dallas_TX       32.7936  -96.7662   5743938.0   1526.0        1    75287"
      ]
     },
     "execution_count": 187,
     "metadata": {},
     "output_type": "execute_result"
    }
   ],
   "source": [
    "# read the uscities csv. this file will be used for the longitude and latitude, as well as the density stats.\n",
    "longlatdensity_csv = Path(\"../Data/uscities.csv\")\n",
    "longlatdensity_df = pd.read_csv(longlatdensity_csv)\n",
    "longlatdensity_df.head()\n",
    "\n",
    "#getting first zipcode from list of zipcodes and create primary MSA from stateid and city\n",
    "longlatdensity_df[['firstzip']] = longlatdensity_df['zips'].str.split(\",\", n = 1, expand=True)\n",
    "longlatdensity_df[['firstzip']] = longlatdensity_df['zips'].str[:5]\n",
    "longlatdensity_df[['Primary MSA']]= longlatdensity_df['city']+\"_\"+longlatdensity_df['state_id']\n",
    "\n",
    "#dropping unnecessary columns, reording columns and setting index\n",
    "longlatdensity_df.drop(columns=['source','military','incorporated','timezone','city_ascii',\"zips\",\"id\",\"county_fips\",\"county_name\",\"state_name\",\"city\",\"state_id\"],inplace=True)\n",
    "longlatdensity_df = longlatdensity_df[[\"Primary MSA\", \"lat\", \"lng\",\"population\",\"density\",\"ranking\",\"firstzip\"]]\n",
    "longlatdensity_df.drop_duplicates()\n",
    "longlatdensity_df=longlatdensity_df.set_index(\"Primary MSA\")\n",
    "longlatdensity_df.head()"
   ]
  },
  {
   "cell_type": "code",
   "execution_count": 188,
   "metadata": {
    "scrolled": false
   },
   "outputs": [
    {
     "data": {
      "text/html": [
       "<div>\n",
       "<style scoped>\n",
       "    .dataframe tbody tr th:only-of-type {\n",
       "        vertical-align: middle;\n",
       "    }\n",
       "\n",
       "    .dataframe tbody tr th {\n",
       "        vertical-align: top;\n",
       "    }\n",
       "\n",
       "    .dataframe thead th {\n",
       "        text-align: right;\n",
       "    }\n",
       "</style>\n",
       "<table border=\"1\" class=\"dataframe\">\n",
       "  <thead>\n",
       "    <tr style=\"text-align: right;\">\n",
       "      <th>Label</th>\n",
       "      <th>Median income (dollars)</th>\n",
       "      <th>Mean income (dollars)</th>\n",
       "    </tr>\n",
       "    <tr>\n",
       "      <th>Primary MSA</th>\n",
       "      <th></th>\n",
       "      <th></th>\n",
       "    </tr>\n",
       "  </thead>\n",
       "  <tbody>\n",
       "    <tr>\n",
       "      <th>Aberdeen_WA</th>\n",
       "      <td>61,026</td>\n",
       "      <td>77,948</td>\n",
       "    </tr>\n",
       "    <tr>\n",
       "      <th>Abilene_TX</th>\n",
       "      <td>54,808</td>\n",
       "      <td>71,517</td>\n",
       "    </tr>\n",
       "    <tr>\n",
       "      <th>Adrian_MI</th>\n",
       "      <td>53,865</td>\n",
       "      <td>69,443</td>\n",
       "    </tr>\n",
       "    <tr>\n",
       "      <th>Aguadilla_PR</th>\n",
       "      <td>16,311</td>\n",
       "      <td>25,781</td>\n",
       "    </tr>\n",
       "    <tr>\n",
       "      <th>Akron_OH</th>\n",
       "      <td>57,158</td>\n",
       "      <td>80,800</td>\n",
       "    </tr>\n",
       "  </tbody>\n",
       "</table>\n",
       "</div>"
      ],
      "text/plain": [
       "Label        Median income (dollars) Mean income (dollars)\n",
       "Primary MSA                                               \n",
       "Aberdeen_WA                   61,026                77,948\n",
       "Abilene_TX                    54,808                71,517\n",
       "Adrian_MI                     53,865                69,443\n",
       "Aguadilla_PR                  16,311                25,781\n",
       "Akron_OH                      57,158                80,800"
      ]
     },
     "execution_count": 188,
     "metadata": {},
     "output_type": "execute_result"
    }
   ],
   "source": [
    "# Using median income CSV files from EH notebook. \n",
    "# data cleanup using EH notebook. Differences are: (created new medican_income_affdf for affordability df calc)\n",
    "\n",
    "median_income_csv = Path(\"../Data/household_income_msa_2019.csv\")\n",
    "median_income_df = pd.read_csv(median_income_csv)\n",
    "median_income_df = median_income_df.transpose() # Transpose the column/headers\n",
    "new_header = median_income_df.iloc[0] #grab the first row for the header\n",
    "median_income_df = median_income_df[1:] #take the data less the header row\n",
    "median_income_df.columns = new_header #set the header row as the df header\n",
    "median_income_df = median_income_df[['Median income (dollars)','Mean income (dollars)']] # Use only median and mean income data columns\n",
    "median_income_df.reset_index(inplace=True)\n",
    "median_income_df[['MSA','extra']] = median_income_df['index'].str.split(\",\", n = 1, expand=True) # Split MSA from text string\n",
    "median_income_df[['State','extra2']] = median_income_df['extra'].str.split(n = 1, expand=True) # Split State from remaining text string\n",
    "median_income_df[['Primary MSA1','Secondary MSA']] = median_income_df['MSA'].str.split(\"-\", n = 1, expand=True) # Split Primary MSA from first text string\n",
    "median_income_df[['Primary State','Secondary State']] = median_income_df['State'].str.split(\"-\", n = 1, expand=True) # Split Primary MSA from first text string\n",
    "median_income_df.drop(columns=['index','extra','extra2','MSA','State'],inplace=True) # Drop unnecessary columns\n",
    "median_income_df.drop_duplicates(subset=['Primary MSA1','Primary State'], inplace=True) # Drop duplicates -- first instance is the median and mean income by MSA\n",
    "median_income_df.head()\n",
    "\n",
    "median_income_df[['Primary MSA']]= median_income_df['Primary MSA1']+\"_\"+median_income_df['Primary State']\n",
    "median_income_df = median_income_df[[\"Primary MSA\", \"Median income (dollars)\", \"Mean income (dollars)\"]]\n",
    "median_income_df.head()\n",
    "\n",
    "#creating filtered dataframe for affordability calc\n",
    "\n",
    "median_income_affdf=median_income_df.filter(['Primary MSA','Median income (dollars)','Mean income (dollars)'], axis=1)\n",
    "median_income_affdf=median_income_affdf.set_index(\"Primary MSA\")\n",
    "median_income_affdf.head(5)\n"
   ]
  },
  {
   "cell_type": "code",
   "execution_count": 189,
   "metadata": {
    "scrolled": false
   },
   "outputs": [
    {
     "data": {
      "text/html": [
       "<div>\n",
       "<style scoped>\n",
       "    .dataframe tbody tr th:only-of-type {\n",
       "        vertical-align: middle;\n",
       "    }\n",
       "\n",
       "    .dataframe tbody tr th {\n",
       "        vertical-align: top;\n",
       "    }\n",
       "\n",
       "    .dataframe thead th {\n",
       "        text-align: right;\n",
       "    }\n",
       "</style>\n",
       "<table border=\"1\" class=\"dataframe\">\n",
       "  <thead>\n",
       "    <tr style=\"text-align: right;\">\n",
       "      <th></th>\n",
       "      <th>Annual_Rent</th>\n",
       "    </tr>\n",
       "    <tr>\n",
       "      <th>Primary MSA</th>\n",
       "      <th></th>\n",
       "    </tr>\n",
       "  </thead>\n",
       "  <tbody>\n",
       "    <tr>\n",
       "      <th>New York_NY</th>\n",
       "      <td>32189</td>\n",
       "    </tr>\n",
       "    <tr>\n",
       "      <th>Los Angeles_CA</th>\n",
       "      <td>30186</td>\n",
       "    </tr>\n",
       "    <tr>\n",
       "      <th>Chicago_IL</th>\n",
       "      <td>21155</td>\n",
       "    </tr>\n",
       "    <tr>\n",
       "      <th>Dallas_TX</th>\n",
       "      <td>18506</td>\n",
       "    </tr>\n",
       "    <tr>\n",
       "      <th>Philadelphia_PA</th>\n",
       "      <td>18942</td>\n",
       "    </tr>\n",
       "  </tbody>\n",
       "</table>\n",
       "</div>"
      ],
      "text/plain": [
       "                 Annual_Rent\n",
       "Primary MSA                 \n",
       "New York_NY            32189\n",
       "Los Angeles_CA         30186\n",
       "Chicago_IL             21155\n",
       "Dallas_TX              18506\n",
       "Philadelphia_PA        18942"
      ]
     },
     "execution_count": 189,
     "metadata": {},
     "output_type": "execute_result"
    }
   ],
   "source": [
    "# Getting 2019 rental prices to compare to the 2019 median income prices from above\n",
    "\n",
    "#Data cleanup using AH notebook. \n",
    "#Differences are: (1.used the same EH primary MSA split from City,  2. did not transpose data, 3. created newdf for affordability calc)\n",
    "\n",
    "csv_path_2 = Path(\"../Data/rental_prices_msa.csv\")\n",
    "rental_price_2019 = pd.read_csv(csv_path_2, usecols=['RegionName','2019-01',\n",
    " '2019-02',\n",
    " '2019-03',\n",
    " '2019-04',\n",
    " '2019-05',\n",
    " '2019-06',\n",
    " '2019-07',\n",
    " '2019-08',\n",
    " '2019-09',\n",
    " '2019-10',\n",
    " '2019-11',\n",
    " '2019-12',]) # used rental_price_raw.columns.tolist() to get the list of 2019 columns\n",
    "\n",
    "\n",
    "#splitting City and State\n",
    "rental_price_2019[['City','State']] = rental_price_2019.RegionName.str.split(\",\",expand=True)\n",
    "rental_price_2019[['State']] = rental_price_2019['State'].str.strip()\n",
    "rental_price_2019[['Primary MSA1','Secondary MSA']] = rental_price_2019['City'].str.split(\"-\",n=1,expand=True)\n",
    "rental_price_2019[['Primary MSA']]= rental_price_2019['Primary MSA1']+\"_\"+rental_price_2019['State']\n",
    "rental_price_2019.drop([\"RegionName\",\"City\",\"State\",\"Primary MSA1\", \"Secondary MSA\"], axis = 1, inplace = True)\n",
    "rental_price_2019['Annual_Rent']= rental_price_2019.iloc[:, :-1].sum(axis=1)\n",
    "rental_price_2019\n",
    "\n",
    "#pd.set_option('display.max_rows', None)\n",
    "\n",
    "#creating new to use for affordability calc\n",
    "\n",
    "rental_price_2019_affdf=rental_price_2019.filter(['Primary MSA','Annual_Rent'], axis=1)\n",
    "rental_price_2019_affdf.dropna(subset = [\"Primary MSA\"], inplace=True)\n",
    "\n",
    "#rental_price_2019_affdf[\"Primary_MSA\"]=rental_price_2019_affdf[\"Primary_MSA\"].astype(str)\n",
    "rental_price_2019_affdf=rental_price_2019_affdf.set_index(\"Primary MSA\")\n",
    "\n",
    "#rental_price_2019_affdf['Primary_MSA'] = rental_price_2019_affdf['Primary_MSA'].str.strip()\n",
    "#rental_price_2019_affdf.dtypes()\n",
    "\n",
    "rental_price_2019_affdf.head(5)\n"
   ]
  },
  {
   "cell_type": "code",
   "execution_count": 190,
   "metadata": {
    "scrolled": false
   },
   "outputs": [
    {
     "data": {
      "text/html": [
       "<div>\n",
       "<style scoped>\n",
       "    .dataframe tbody tr th:only-of-type {\n",
       "        vertical-align: middle;\n",
       "    }\n",
       "\n",
       "    .dataframe tbody tr th {\n",
       "        vertical-align: top;\n",
       "    }\n",
       "\n",
       "    .dataframe thead th {\n",
       "        text-align: right;\n",
       "    }\n",
       "</style>\n",
       "<table border=\"1\" class=\"dataframe\">\n",
       "  <thead>\n",
       "    <tr style=\"text-align: right;\">\n",
       "      <th></th>\n",
       "      <th>lat</th>\n",
       "      <th>lng</th>\n",
       "      <th>population</th>\n",
       "      <th>density</th>\n",
       "      <th>ranking</th>\n",
       "      <th>firstzip</th>\n",
       "      <th>Median income (dollars)</th>\n",
       "      <th>Mean income (dollars)</th>\n",
       "      <th>Annual_Rent</th>\n",
       "    </tr>\n",
       "    <tr>\n",
       "      <th>Primary MSA</th>\n",
       "      <th></th>\n",
       "      <th></th>\n",
       "      <th></th>\n",
       "      <th></th>\n",
       "      <th></th>\n",
       "      <th></th>\n",
       "      <th></th>\n",
       "      <th></th>\n",
       "      <th></th>\n",
       "    </tr>\n",
       "  </thead>\n",
       "  <tbody>\n",
       "    <tr>\n",
       "      <th>New York_NY</th>\n",
       "      <td>40.6943</td>\n",
       "      <td>-73.9249</td>\n",
       "      <td>18713220.0</td>\n",
       "      <td>10715.0</td>\n",
       "      <td>1</td>\n",
       "      <td>11229</td>\n",
       "      <td>83,160</td>\n",
       "      <td>122,967</td>\n",
       "      <td>32189</td>\n",
       "    </tr>\n",
       "    <tr>\n",
       "      <th>Los Angeles_CA</th>\n",
       "      <td>34.1139</td>\n",
       "      <td>-118.4068</td>\n",
       "      <td>12750807.0</td>\n",
       "      <td>3276.0</td>\n",
       "      <td>1</td>\n",
       "      <td>90291</td>\n",
       "      <td>77,774</td>\n",
       "      <td>109,583</td>\n",
       "      <td>30186</td>\n",
       "    </tr>\n",
       "    <tr>\n",
       "      <th>Chicago_IL</th>\n",
       "      <td>41.8373</td>\n",
       "      <td>-87.6862</td>\n",
       "      <td>8604203.0</td>\n",
       "      <td>4574.0</td>\n",
       "      <td>1</td>\n",
       "      <td>60018</td>\n",
       "      <td>75,379</td>\n",
       "      <td>104,357</td>\n",
       "      <td>21155</td>\n",
       "    </tr>\n",
       "    <tr>\n",
       "      <th>Miami_FL</th>\n",
       "      <td>25.7839</td>\n",
       "      <td>-80.2102</td>\n",
       "      <td>6445545.0</td>\n",
       "      <td>5019.0</td>\n",
       "      <td>1</td>\n",
       "      <td>33129</td>\n",
       "      <td>60,141</td>\n",
       "      <td>89,694</td>\n",
       "      <td>22838</td>\n",
       "    </tr>\n",
       "    <tr>\n",
       "      <th>Dallas_TX</th>\n",
       "      <td>32.7936</td>\n",
       "      <td>-96.7662</td>\n",
       "      <td>5743938.0</td>\n",
       "      <td>1526.0</td>\n",
       "      <td>1</td>\n",
       "      <td>75287</td>\n",
       "      <td>72,265</td>\n",
       "      <td>100,213</td>\n",
       "      <td>18506</td>\n",
       "    </tr>\n",
       "  </tbody>\n",
       "</table>\n",
       "</div>"
      ],
      "text/plain": [
       "                    lat       lng  population  density  ranking firstzip  \\\n",
       "Primary MSA                                                                \n",
       "New York_NY     40.6943  -73.9249  18713220.0  10715.0        1    11229   \n",
       "Los Angeles_CA  34.1139 -118.4068  12750807.0   3276.0        1    90291   \n",
       "Chicago_IL      41.8373  -87.6862   8604203.0   4574.0        1    60018   \n",
       "Miami_FL        25.7839  -80.2102   6445545.0   5019.0        1    33129   \n",
       "Dallas_TX       32.7936  -96.7662   5743938.0   1526.0        1    75287   \n",
       "\n",
       "               Median income (dollars) Mean income (dollars)  Annual_Rent  \n",
       "Primary MSA                                                                \n",
       "New York_NY                     83,160               122,967        32189  \n",
       "Los Angeles_CA                  77,774               109,583        30186  \n",
       "Chicago_IL                      75,379               104,357        21155  \n",
       "Miami_FL                        60,141                89,694        22838  \n",
       "Dallas_TX                       72,265               100,213        18506  "
      ]
     },
     "execution_count": 190,
     "metadata": {},
     "output_type": "execute_result"
    }
   ],
   "source": [
    "# Merge 3 datasets (uscities, rentalprice, median income)\n",
    "\n",
    "firstmerge = pd.merge(longlatdensity_df,median_income_affdf,on='Primary MSA')\n",
    "firstmerge\n",
    "affordability_df= pd.merge(firstmerge, rental_price_2019_affdf,on='Primary MSA')\n",
    "affordability_df.head(5)"
   ]
  },
  {
   "cell_type": "code",
   "execution_count": 191,
   "metadata": {
    "scrolled": false
   },
   "outputs": [
    {
     "data": {
      "text/html": [
       "<div>\n",
       "<style scoped>\n",
       "    .dataframe tbody tr th:only-of-type {\n",
       "        vertical-align: middle;\n",
       "    }\n",
       "\n",
       "    .dataframe tbody tr th {\n",
       "        vertical-align: top;\n",
       "    }\n",
       "\n",
       "    .dataframe thead th {\n",
       "        text-align: right;\n",
       "    }\n",
       "</style>\n",
       "<table border=\"1\" class=\"dataframe\">\n",
       "  <thead>\n",
       "    <tr style=\"text-align: right;\">\n",
       "      <th></th>\n",
       "      <th>lat</th>\n",
       "      <th>lng</th>\n",
       "      <th>population</th>\n",
       "      <th>density</th>\n",
       "      <th>ranking</th>\n",
       "      <th>Median income (dollars)</th>\n",
       "      <th>Mean income (dollars)</th>\n",
       "      <th>Annual_Rent</th>\n",
       "      <th>rent_divby_medianinc</th>\n",
       "      <th>rent_divby_avginc</th>\n",
       "    </tr>\n",
       "  </thead>\n",
       "  <tbody>\n",
       "    <tr>\n",
       "      <th>count</th>\n",
       "      <td>96.000000</td>\n",
       "      <td>96.000000</td>\n",
       "      <td>9.600000e+01</td>\n",
       "      <td>96.000000</td>\n",
       "      <td>96.000000</td>\n",
       "      <td>96.000000</td>\n",
       "      <td>96.00000</td>\n",
       "      <td>96.000000</td>\n",
       "      <td>96.000000</td>\n",
       "      <td>96.000000</td>\n",
       "    </tr>\n",
       "    <tr>\n",
       "      <th>mean</th>\n",
       "      <td>37.443917</td>\n",
       "      <td>-91.460821</td>\n",
       "      <td>1.832584e+06</td>\n",
       "      <td>1728.697917</td>\n",
       "      <td>1.531250</td>\n",
       "      <td>68519.197917</td>\n",
       "      <td>92491.18750</td>\n",
       "      <td>17079.072917</td>\n",
       "      <td>0.247589</td>\n",
       "      <td>0.182851</td>\n",
       "    </tr>\n",
       "    <tr>\n",
       "      <th>std</th>\n",
       "      <td>4.819247</td>\n",
       "      <td>15.297699</td>\n",
       "      <td>2.640527e+06</td>\n",
       "      <td>1524.096586</td>\n",
       "      <td>0.501642</td>\n",
       "      <td>13446.525928</td>\n",
       "      <td>17954.89092</td>\n",
       "      <td>5263.860269</td>\n",
       "      <td>0.045459</td>\n",
       "      <td>0.030667</td>\n",
       "    </tr>\n",
       "    <tr>\n",
       "      <th>min</th>\n",
       "      <td>25.783900</td>\n",
       "      <td>-122.650000</td>\n",
       "      <td>1.243450e+05</td>\n",
       "      <td>252.000000</td>\n",
       "      <td>1.000000</td>\n",
       "      <td>48558.000000</td>\n",
       "      <td>62615.00000</td>\n",
       "      <td>8236.000000</td>\n",
       "      <td>0.160842</td>\n",
       "      <td>0.123006</td>\n",
       "    </tr>\n",
       "    <tr>\n",
       "      <th>25%</th>\n",
       "      <td>34.094825</td>\n",
       "      <td>-104.763100</td>\n",
       "      <td>4.948622e+05</td>\n",
       "      <td>889.000000</td>\n",
       "      <td>1.000000</td>\n",
       "      <td>58593.750000</td>\n",
       "      <td>80959.75000</td>\n",
       "      <td>13895.250000</td>\n",
       "      <td>0.214327</td>\n",
       "      <td>0.160660</td>\n",
       "    </tr>\n",
       "    <tr>\n",
       "      <th>50%</th>\n",
       "      <td>38.271600</td>\n",
       "      <td>-85.901000</td>\n",
       "      <td>8.968190e+05</td>\n",
       "      <td>1258.500000</td>\n",
       "      <td>2.000000</td>\n",
       "      <td>66621.000000</td>\n",
       "      <td>90398.50000</td>\n",
       "      <td>16059.000000</td>\n",
       "      <td>0.243906</td>\n",
       "      <td>0.180835</td>\n",
       "    </tr>\n",
       "    <tr>\n",
       "      <th>75%</th>\n",
       "      <td>41.236525</td>\n",
       "      <td>-80.151700</td>\n",
       "      <td>1.929533e+06</td>\n",
       "      <td>1922.250000</td>\n",
       "      <td>2.000000</td>\n",
       "      <td>75234.250000</td>\n",
       "      <td>98789.50000</td>\n",
       "      <td>18783.250000</td>\n",
       "      <td>0.267709</td>\n",
       "      <td>0.194906</td>\n",
       "    </tr>\n",
       "    <tr>\n",
       "      <th>max</th>\n",
       "      <td>47.667100</td>\n",
       "      <td>-71.084600</td>\n",
       "      <td>1.871322e+07</td>\n",
       "      <td>10715.000000</td>\n",
       "      <td>2.000000</td>\n",
       "      <td>130865.000000</td>\n",
       "      <td>178600.00000</td>\n",
       "      <td>38071.000000</td>\n",
       "      <td>0.388125</td>\n",
       "      <td>0.275462</td>\n",
       "    </tr>\n",
       "  </tbody>\n",
       "</table>\n",
       "</div>"
      ],
      "text/plain": [
       "             lat         lng    population       density    ranking  \\\n",
       "count  96.000000   96.000000  9.600000e+01     96.000000  96.000000   \n",
       "mean   37.443917  -91.460821  1.832584e+06   1728.697917   1.531250   \n",
       "std     4.819247   15.297699  2.640527e+06   1524.096586   0.501642   \n",
       "min    25.783900 -122.650000  1.243450e+05    252.000000   1.000000   \n",
       "25%    34.094825 -104.763100  4.948622e+05    889.000000   1.000000   \n",
       "50%    38.271600  -85.901000  8.968190e+05   1258.500000   2.000000   \n",
       "75%    41.236525  -80.151700  1.929533e+06   1922.250000   2.000000   \n",
       "max    47.667100  -71.084600  1.871322e+07  10715.000000   2.000000   \n",
       "\n",
       "       Median income (dollars)  Mean income (dollars)   Annual_Rent  \\\n",
       "count                96.000000               96.00000     96.000000   \n",
       "mean              68519.197917            92491.18750  17079.072917   \n",
       "std               13446.525928            17954.89092   5263.860269   \n",
       "min               48558.000000            62615.00000   8236.000000   \n",
       "25%               58593.750000            80959.75000  13895.250000   \n",
       "50%               66621.000000            90398.50000  16059.000000   \n",
       "75%               75234.250000            98789.50000  18783.250000   \n",
       "max              130865.000000           178600.00000  38071.000000   \n",
       "\n",
       "       rent_divby_medianinc  rent_divby_avginc  \n",
       "count             96.000000          96.000000  \n",
       "mean               0.247589           0.182851  \n",
       "std                0.045459           0.030667  \n",
       "min                0.160842           0.123006  \n",
       "25%                0.214327           0.160660  \n",
       "50%                0.243906           0.180835  \n",
       "75%                0.267709           0.194906  \n",
       "max                0.388125           0.275462  "
      ]
     },
     "execution_count": 191,
     "metadata": {},
     "output_type": "execute_result"
    }
   ],
   "source": [
    "#Calculating affordability\n",
    "\n",
    "affordability_df['Median income (dollars)'] =affordability_df['Median income (dollars)'].apply(lambda x: float(x.split()[0].replace(',', '')))\n",
    "affordability_df['Mean income (dollars)']=affordability_df['Mean income (dollars)'].apply(lambda x: float(x.split()[0].replace(',', '')))\n",
    "\n",
    "affordability_df['Median income (dollars)']=affordability_df['Median income (dollars)'].astype(str).astype(float)\n",
    "affordability_df['Mean income (dollars)']=affordability_df['Mean income (dollars)'].astype(str).astype(float)\n",
    "\n",
    "affordability_df['rent_divby_medianinc']=affordability_df['Annual_Rent']/affordability_df['Median income (dollars)']\n",
    "affordability_df['rent_divby_avginc']=affordability_df['Annual_Rent']/affordability_df['Mean income (dollars)']\n",
    "affordability_df=affordability_df.sort_values(by=['rent_divby_medianinc'],ascending=False)\n",
    "affordability_df.head(5)\n",
    "\n",
    "affordability_df.describe()"
   ]
  },
  {
   "cell_type": "code",
   "execution_count": 192,
   "metadata": {
    "scrolled": true
   },
   "outputs": [
    {
     "data": {
      "text/html": [
       "<style  type=\"text/css\" >\n",
       "</style><table id=\"T_bb8a3ee3_25ef_11eb_bdbd_34e6ad4876e0\" ><thead>    <tr>        <th class=\"blank level0\" ></th>        <th class=\"col_heading level0 col0\" >lat</th>        <th class=\"col_heading level0 col1\" >lng</th>        <th class=\"col_heading level0 col2\" >population</th>        <th class=\"col_heading level0 col3\" >density</th>        <th class=\"col_heading level0 col4\" >ranking</th>        <th class=\"col_heading level0 col5\" >firstzip</th>        <th class=\"col_heading level0 col6\" >Median income (dollars)</th>        <th class=\"col_heading level0 col7\" >Mean income (dollars)</th>        <th class=\"col_heading level0 col8\" >Annual_Rent</th>        <th class=\"col_heading level0 col9\" >rent_divby_medianinc</th>        <th class=\"col_heading level0 col10\" >rent_divby_avginc</th>    </tr>    <tr>        <th class=\"index_name level0\" >Primary MSA</th>        <th class=\"blank\" ></th>        <th class=\"blank\" ></th>        <th class=\"blank\" ></th>        <th class=\"blank\" ></th>        <th class=\"blank\" ></th>        <th class=\"blank\" ></th>        <th class=\"blank\" ></th>        <th class=\"blank\" ></th>        <th class=\"blank\" ></th>        <th class=\"blank\" ></th>        <th class=\"blank\" ></th>    </tr></thead><tbody>\n",
       "                <tr>\n",
       "                        <th id=\"T_bb8a3ee3_25ef_11eb_bdbd_34e6ad4876e0level0_row0\" class=\"row_heading level0 row0\" >Los Angeles_CA</th>\n",
       "                        <td id=\"T_bb8a3ee3_25ef_11eb_bdbd_34e6ad4876e0row0_col0\" class=\"data row0 col0\" >34.113900</td>\n",
       "                        <td id=\"T_bb8a3ee3_25ef_11eb_bdbd_34e6ad4876e0row0_col1\" class=\"data row0 col1\" >-118.406800</td>\n",
       "                        <td id=\"T_bb8a3ee3_25ef_11eb_bdbd_34e6ad4876e0row0_col2\" class=\"data row0 col2\" >12750807.000000</td>\n",
       "                        <td id=\"T_bb8a3ee3_25ef_11eb_bdbd_34e6ad4876e0row0_col3\" class=\"data row0 col3\" >3276.000000</td>\n",
       "                        <td id=\"T_bb8a3ee3_25ef_11eb_bdbd_34e6ad4876e0row0_col4\" class=\"data row0 col4\" >1</td>\n",
       "                        <td id=\"T_bb8a3ee3_25ef_11eb_bdbd_34e6ad4876e0row0_col5\" class=\"data row0 col5\" >90291</td>\n",
       "                        <td id=\"T_bb8a3ee3_25ef_11eb_bdbd_34e6ad4876e0row0_col6\" class=\"data row0 col6\" >77774.000000</td>\n",
       "                        <td id=\"T_bb8a3ee3_25ef_11eb_bdbd_34e6ad4876e0row0_col7\" class=\"data row0 col7\" >109583.000000</td>\n",
       "                        <td id=\"T_bb8a3ee3_25ef_11eb_bdbd_34e6ad4876e0row0_col8\" class=\"data row0 col8\" >30186</td>\n",
       "                        <td id=\"T_bb8a3ee3_25ef_11eb_bdbd_34e6ad4876e0row0_col9\" class=\"data row0 col9\" >38.81%</td>\n",
       "                        <td id=\"T_bb8a3ee3_25ef_11eb_bdbd_34e6ad4876e0row0_col10\" class=\"data row0 col10\" >27.55%</td>\n",
       "            </tr>\n",
       "            <tr>\n",
       "                        <th id=\"T_bb8a3ee3_25ef_11eb_bdbd_34e6ad4876e0level0_row1\" class=\"row_heading level0 row1\" >New York_NY</th>\n",
       "                        <td id=\"T_bb8a3ee3_25ef_11eb_bdbd_34e6ad4876e0row1_col0\" class=\"data row1 col0\" >40.694300</td>\n",
       "                        <td id=\"T_bb8a3ee3_25ef_11eb_bdbd_34e6ad4876e0row1_col1\" class=\"data row1 col1\" >-73.924900</td>\n",
       "                        <td id=\"T_bb8a3ee3_25ef_11eb_bdbd_34e6ad4876e0row1_col2\" class=\"data row1 col2\" >18713220.000000</td>\n",
       "                        <td id=\"T_bb8a3ee3_25ef_11eb_bdbd_34e6ad4876e0row1_col3\" class=\"data row1 col3\" >10715.000000</td>\n",
       "                        <td id=\"T_bb8a3ee3_25ef_11eb_bdbd_34e6ad4876e0row1_col4\" class=\"data row1 col4\" >1</td>\n",
       "                        <td id=\"T_bb8a3ee3_25ef_11eb_bdbd_34e6ad4876e0row1_col5\" class=\"data row1 col5\" >11229</td>\n",
       "                        <td id=\"T_bb8a3ee3_25ef_11eb_bdbd_34e6ad4876e0row1_col6\" class=\"data row1 col6\" >83160.000000</td>\n",
       "                        <td id=\"T_bb8a3ee3_25ef_11eb_bdbd_34e6ad4876e0row1_col7\" class=\"data row1 col7\" >122967.000000</td>\n",
       "                        <td id=\"T_bb8a3ee3_25ef_11eb_bdbd_34e6ad4876e0row1_col8\" class=\"data row1 col8\" >32189</td>\n",
       "                        <td id=\"T_bb8a3ee3_25ef_11eb_bdbd_34e6ad4876e0row1_col9\" class=\"data row1 col9\" >38.71%</td>\n",
       "                        <td id=\"T_bb8a3ee3_25ef_11eb_bdbd_34e6ad4876e0row1_col10\" class=\"data row1 col10\" >26.18%</td>\n",
       "            </tr>\n",
       "            <tr>\n",
       "                        <th id=\"T_bb8a3ee3_25ef_11eb_bdbd_34e6ad4876e0level0_row2\" class=\"row_heading level0 row2\" >Miami_FL</th>\n",
       "                        <td id=\"T_bb8a3ee3_25ef_11eb_bdbd_34e6ad4876e0row2_col0\" class=\"data row2 col0\" >25.783900</td>\n",
       "                        <td id=\"T_bb8a3ee3_25ef_11eb_bdbd_34e6ad4876e0row2_col1\" class=\"data row2 col1\" >-80.210200</td>\n",
       "                        <td id=\"T_bb8a3ee3_25ef_11eb_bdbd_34e6ad4876e0row2_col2\" class=\"data row2 col2\" >6445545.000000</td>\n",
       "                        <td id=\"T_bb8a3ee3_25ef_11eb_bdbd_34e6ad4876e0row2_col3\" class=\"data row2 col3\" >5019.000000</td>\n",
       "                        <td id=\"T_bb8a3ee3_25ef_11eb_bdbd_34e6ad4876e0row2_col4\" class=\"data row2 col4\" >1</td>\n",
       "                        <td id=\"T_bb8a3ee3_25ef_11eb_bdbd_34e6ad4876e0row2_col5\" class=\"data row2 col5\" >33129</td>\n",
       "                        <td id=\"T_bb8a3ee3_25ef_11eb_bdbd_34e6ad4876e0row2_col6\" class=\"data row2 col6\" >60141.000000</td>\n",
       "                        <td id=\"T_bb8a3ee3_25ef_11eb_bdbd_34e6ad4876e0row2_col7\" class=\"data row2 col7\" >89694.000000</td>\n",
       "                        <td id=\"T_bb8a3ee3_25ef_11eb_bdbd_34e6ad4876e0row2_col8\" class=\"data row2 col8\" >22838</td>\n",
       "                        <td id=\"T_bb8a3ee3_25ef_11eb_bdbd_34e6ad4876e0row2_col9\" class=\"data row2 col9\" >37.97%</td>\n",
       "                        <td id=\"T_bb8a3ee3_25ef_11eb_bdbd_34e6ad4876e0row2_col10\" class=\"data row2 col10\" >25.46%</td>\n",
       "            </tr>\n",
       "            <tr>\n",
       "                        <th id=\"T_bb8a3ee3_25ef_11eb_bdbd_34e6ad4876e0level0_row3\" class=\"row_heading level0 row3\" >San Francisco_CA</th>\n",
       "                        <td id=\"T_bb8a3ee3_25ef_11eb_bdbd_34e6ad4876e0row3_col0\" class=\"data row3 col0\" >37.756200</td>\n",
       "                        <td id=\"T_bb8a3ee3_25ef_11eb_bdbd_34e6ad4876e0row3_col1\" class=\"data row3 col1\" >-122.443000</td>\n",
       "                        <td id=\"T_bb8a3ee3_25ef_11eb_bdbd_34e6ad4876e0row3_col2\" class=\"data row3 col2\" >3592294.000000</td>\n",
       "                        <td id=\"T_bb8a3ee3_25ef_11eb_bdbd_34e6ad4876e0row3_col3\" class=\"data row3 col3\" >7256.000000</td>\n",
       "                        <td id=\"T_bb8a3ee3_25ef_11eb_bdbd_34e6ad4876e0row3_col4\" class=\"data row3 col4\" >1</td>\n",
       "                        <td id=\"T_bb8a3ee3_25ef_11eb_bdbd_34e6ad4876e0row3_col5\" class=\"data row3 col5\" >94130</td>\n",
       "                        <td id=\"T_bb8a3ee3_25ef_11eb_bdbd_34e6ad4876e0row3_col6\" class=\"data row3 col6\" >114696.000000</td>\n",
       "                        <td id=\"T_bb8a3ee3_25ef_11eb_bdbd_34e6ad4876e0row3_col7\" class=\"data row3 col7\" >159893.000000</td>\n",
       "                        <td id=\"T_bb8a3ee3_25ef_11eb_bdbd_34e6ad4876e0row3_col8\" class=\"data row3 col8\" >38071</td>\n",
       "                        <td id=\"T_bb8a3ee3_25ef_11eb_bdbd_34e6ad4876e0row3_col9\" class=\"data row3 col9\" >33.19%</td>\n",
       "                        <td id=\"T_bb8a3ee3_25ef_11eb_bdbd_34e6ad4876e0row3_col10\" class=\"data row3 col10\" >23.81%</td>\n",
       "            </tr>\n",
       "            <tr>\n",
       "                        <th id=\"T_bb8a3ee3_25ef_11eb_bdbd_34e6ad4876e0level0_row4\" class=\"row_heading level0 row4\" >San Diego_CA</th>\n",
       "                        <td id=\"T_bb8a3ee3_25ef_11eb_bdbd_34e6ad4876e0row4_col0\" class=\"data row4 col0\" >32.831200</td>\n",
       "                        <td id=\"T_bb8a3ee3_25ef_11eb_bdbd_34e6ad4876e0row4_col1\" class=\"data row4 col1\" >-117.122500</td>\n",
       "                        <td id=\"T_bb8a3ee3_25ef_11eb_bdbd_34e6ad4876e0row4_col2\" class=\"data row4 col2\" >3220118.000000</td>\n",
       "                        <td id=\"T_bb8a3ee3_25ef_11eb_bdbd_34e6ad4876e0row4_col3\" class=\"data row4 col3\" >1686.000000</td>\n",
       "                        <td id=\"T_bb8a3ee3_25ef_11eb_bdbd_34e6ad4876e0row4_col4\" class=\"data row4 col4\" >1</td>\n",
       "                        <td id=\"T_bb8a3ee3_25ef_11eb_bdbd_34e6ad4876e0row4_col5\" class=\"data row4 col5\" >92109</td>\n",
       "                        <td id=\"T_bb8a3ee3_25ef_11eb_bdbd_34e6ad4876e0row4_col6\" class=\"data row4 col6\" >83985.000000</td>\n",
       "                        <td id=\"T_bb8a3ee3_25ef_11eb_bdbd_34e6ad4876e0row4_col7\" class=\"data row4 col7\" >112786.000000</td>\n",
       "                        <td id=\"T_bb8a3ee3_25ef_11eb_bdbd_34e6ad4876e0row4_col8\" class=\"data row4 col8\" >27524</td>\n",
       "                        <td id=\"T_bb8a3ee3_25ef_11eb_bdbd_34e6ad4876e0row4_col9\" class=\"data row4 col9\" >32.77%</td>\n",
       "                        <td id=\"T_bb8a3ee3_25ef_11eb_bdbd_34e6ad4876e0row4_col10\" class=\"data row4 col10\" >24.40%</td>\n",
       "            </tr>\n",
       "            <tr>\n",
       "                        <th id=\"T_bb8a3ee3_25ef_11eb_bdbd_34e6ad4876e0level0_row5\" class=\"row_heading level0 row5\" >Riverside_CA</th>\n",
       "                        <td id=\"T_bb8a3ee3_25ef_11eb_bdbd_34e6ad4876e0row5_col0\" class=\"data row5 col0\" >33.938100</td>\n",
       "                        <td id=\"T_bb8a3ee3_25ef_11eb_bdbd_34e6ad4876e0row5_col1\" class=\"data row5 col1\" >-117.394800</td>\n",
       "                        <td id=\"T_bb8a3ee3_25ef_11eb_bdbd_34e6ad4876e0row5_col2\" class=\"data row5 col2\" >2107852.000000</td>\n",
       "                        <td id=\"T_bb8a3ee3_25ef_11eb_bdbd_34e6ad4876e0row5_col3\" class=\"data row5 col3\" >1574.000000</td>\n",
       "                        <td id=\"T_bb8a3ee3_25ef_11eb_bdbd_34e6ad4876e0row5_col4\" class=\"data row5 col4\" >1</td>\n",
       "                        <td id=\"T_bb8a3ee3_25ef_11eb_bdbd_34e6ad4876e0row5_col5\" class=\"data row5 col5\" >92508</td>\n",
       "                        <td id=\"T_bb8a3ee3_25ef_11eb_bdbd_34e6ad4876e0row5_col6\" class=\"data row5 col6\" >70954.000000</td>\n",
       "                        <td id=\"T_bb8a3ee3_25ef_11eb_bdbd_34e6ad4876e0row5_col7\" class=\"data row5 col7\" >91251.000000</td>\n",
       "                        <td id=\"T_bb8a3ee3_25ef_11eb_bdbd_34e6ad4876e0row5_col8\" class=\"data row5 col8\" >23117</td>\n",
       "                        <td id=\"T_bb8a3ee3_25ef_11eb_bdbd_34e6ad4876e0row5_col9\" class=\"data row5 col9\" >32.58%</td>\n",
       "                        <td id=\"T_bb8a3ee3_25ef_11eb_bdbd_34e6ad4876e0row5_col10\" class=\"data row5 col10\" >25.33%</td>\n",
       "            </tr>\n",
       "            <tr>\n",
       "                        <th id=\"T_bb8a3ee3_25ef_11eb_bdbd_34e6ad4876e0level0_row6\" class=\"row_heading level0 row6\" >Boston_MA</th>\n",
       "                        <td id=\"T_bb8a3ee3_25ef_11eb_bdbd_34e6ad4876e0row6_col0\" class=\"data row6 col0\" >42.318800</td>\n",
       "                        <td id=\"T_bb8a3ee3_25ef_11eb_bdbd_34e6ad4876e0row6_col1\" class=\"data row6 col1\" >-71.084600</td>\n",
       "                        <td id=\"T_bb8a3ee3_25ef_11eb_bdbd_34e6ad4876e0row6_col2\" class=\"data row6 col2\" >4688346.000000</td>\n",
       "                        <td id=\"T_bb8a3ee3_25ef_11eb_bdbd_34e6ad4876e0row6_col3\" class=\"data row6 col3\" >5532.000000</td>\n",
       "                        <td id=\"T_bb8a3ee3_25ef_11eb_bdbd_34e6ad4876e0row6_col4\" class=\"data row6 col4\" >1</td>\n",
       "                        <td id=\"T_bb8a3ee3_25ef_11eb_bdbd_34e6ad4876e0row6_col5\" class=\"data row6 col5\" >02120</td>\n",
       "                        <td id=\"T_bb8a3ee3_25ef_11eb_bdbd_34e6ad4876e0row6_col6\" class=\"data row6 col6\" >94430.000000</td>\n",
       "                        <td id=\"T_bb8a3ee3_25ef_11eb_bdbd_34e6ad4876e0row6_col7\" class=\"data row6 col7\" >129070.000000</td>\n",
       "                        <td id=\"T_bb8a3ee3_25ef_11eb_bdbd_34e6ad4876e0row6_col8\" class=\"data row6 col8\" >30409</td>\n",
       "                        <td id=\"T_bb8a3ee3_25ef_11eb_bdbd_34e6ad4876e0row6_col9\" class=\"data row6 col9\" >32.20%</td>\n",
       "                        <td id=\"T_bb8a3ee3_25ef_11eb_bdbd_34e6ad4876e0row6_col10\" class=\"data row6 col10\" >23.56%</td>\n",
       "            </tr>\n",
       "            <tr>\n",
       "                        <th id=\"T_bb8a3ee3_25ef_11eb_bdbd_34e6ad4876e0level0_row7\" class=\"row_heading level0 row7\" >Stockton_CA</th>\n",
       "                        <td id=\"T_bb8a3ee3_25ef_11eb_bdbd_34e6ad4876e0row7_col0\" class=\"data row7 col0\" >37.976500</td>\n",
       "                        <td id=\"T_bb8a3ee3_25ef_11eb_bdbd_34e6ad4876e0row7_col1\" class=\"data row7 col1\" >-121.310900</td>\n",
       "                        <td id=\"T_bb8a3ee3_25ef_11eb_bdbd_34e6ad4876e0row7_col2\" class=\"data row7 col2\" >397264.000000</td>\n",
       "                        <td id=\"T_bb8a3ee3_25ef_11eb_bdbd_34e6ad4876e0row7_col3\" class=\"data row7 col3\" >1941.000000</td>\n",
       "                        <td id=\"T_bb8a3ee3_25ef_11eb_bdbd_34e6ad4876e0row7_col4\" class=\"data row7 col4\" >2</td>\n",
       "                        <td id=\"T_bb8a3ee3_25ef_11eb_bdbd_34e6ad4876e0row7_col5\" class=\"data row7 col5\" >95219</td>\n",
       "                        <td id=\"T_bb8a3ee3_25ef_11eb_bdbd_34e6ad4876e0row7_col6\" class=\"data row7 col6\" >68997.000000</td>\n",
       "                        <td id=\"T_bb8a3ee3_25ef_11eb_bdbd_34e6ad4876e0row7_col7\" class=\"data row7 col7\" >92484.000000</td>\n",
       "                        <td id=\"T_bb8a3ee3_25ef_11eb_bdbd_34e6ad4876e0row7_col8\" class=\"data row7 col8\" >22099</td>\n",
       "                        <td id=\"T_bb8a3ee3_25ef_11eb_bdbd_34e6ad4876e0row7_col9\" class=\"data row7 col9\" >32.03%</td>\n",
       "                        <td id=\"T_bb8a3ee3_25ef_11eb_bdbd_34e6ad4876e0row7_col10\" class=\"data row7 col10\" >23.89%</td>\n",
       "            </tr>\n",
       "            <tr>\n",
       "                        <th id=\"T_bb8a3ee3_25ef_11eb_bdbd_34e6ad4876e0level0_row8\" class=\"row_heading level0 row8\" >Lakeland_FL</th>\n",
       "                        <td id=\"T_bb8a3ee3_25ef_11eb_bdbd_34e6ad4876e0row8_col0\" class=\"data row8 col0\" >28.055600</td>\n",
       "                        <td id=\"T_bb8a3ee3_25ef_11eb_bdbd_34e6ad4876e0row8_col1\" class=\"data row8 col1\" >-81.954500</td>\n",
       "                        <td id=\"T_bb8a3ee3_25ef_11eb_bdbd_34e6ad4876e0row8_col2\" class=\"data row8 col2\" >302284.000000</td>\n",
       "                        <td id=\"T_bb8a3ee3_25ef_11eb_bdbd_34e6ad4876e0row8_col3\" class=\"data row8 col3\" >654.000000</td>\n",
       "                        <td id=\"T_bb8a3ee3_25ef_11eb_bdbd_34e6ad4876e0row8_col4\" class=\"data row8 col4\" >2</td>\n",
       "                        <td id=\"T_bb8a3ee3_25ef_11eb_bdbd_34e6ad4876e0row8_col5\" class=\"data row8 col5\" >33813</td>\n",
       "                        <td id=\"T_bb8a3ee3_25ef_11eb_bdbd_34e6ad4876e0row8_col6\" class=\"data row8 col6\" >51833.000000</td>\n",
       "                        <td id=\"T_bb8a3ee3_25ef_11eb_bdbd_34e6ad4876e0row8_col7\" class=\"data row8 col7\" >67906.000000</td>\n",
       "                        <td id=\"T_bb8a3ee3_25ef_11eb_bdbd_34e6ad4876e0row8_col8\" class=\"data row8 col8\" >16132</td>\n",
       "                        <td id=\"T_bb8a3ee3_25ef_11eb_bdbd_34e6ad4876e0row8_col9\" class=\"data row8 col9\" >31.12%</td>\n",
       "                        <td id=\"T_bb8a3ee3_25ef_11eb_bdbd_34e6ad4876e0row8_col10\" class=\"data row8 col10\" >23.76%</td>\n",
       "            </tr>\n",
       "            <tr>\n",
       "                        <th id=\"T_bb8a3ee3_25ef_11eb_bdbd_34e6ad4876e0level0_row9\" class=\"row_heading level0 row9\" >Tampa_FL</th>\n",
       "                        <td id=\"T_bb8a3ee3_25ef_11eb_bdbd_34e6ad4876e0row9_col0\" class=\"data row9 col0\" >27.994200</td>\n",
       "                        <td id=\"T_bb8a3ee3_25ef_11eb_bdbd_34e6ad4876e0row9_col1\" class=\"data row9 col1\" >-82.445100</td>\n",
       "                        <td id=\"T_bb8a3ee3_25ef_11eb_bdbd_34e6ad4876e0row9_col2\" class=\"data row9 col2\" >2908063.000000</td>\n",
       "                        <td id=\"T_bb8a3ee3_25ef_11eb_bdbd_34e6ad4876e0row9_col3\" class=\"data row9 col3\" >1353.000000</td>\n",
       "                        <td id=\"T_bb8a3ee3_25ef_11eb_bdbd_34e6ad4876e0row9_col4\" class=\"data row9 col4\" >1</td>\n",
       "                        <td id=\"T_bb8a3ee3_25ef_11eb_bdbd_34e6ad4876e0row9_col5\" class=\"data row9 col5\" >33637</td>\n",
       "                        <td id=\"T_bb8a3ee3_25ef_11eb_bdbd_34e6ad4876e0row9_col6\" class=\"data row9 col6\" >57906.000000</td>\n",
       "                        <td id=\"T_bb8a3ee3_25ef_11eb_bdbd_34e6ad4876e0row9_col7\" class=\"data row9 col7\" >81013.000000</td>\n",
       "                        <td id=\"T_bb8a3ee3_25ef_11eb_bdbd_34e6ad4876e0row9_col8\" class=\"data row9 col8\" >17968</td>\n",
       "                        <td id=\"T_bb8a3ee3_25ef_11eb_bdbd_34e6ad4876e0row9_col9\" class=\"data row9 col9\" >31.03%</td>\n",
       "                        <td id=\"T_bb8a3ee3_25ef_11eb_bdbd_34e6ad4876e0row9_col10\" class=\"data row9 col10\" >22.18%</td>\n",
       "            </tr>\n",
       "            <tr>\n",
       "                        <th id=\"T_bb8a3ee3_25ef_11eb_bdbd_34e6ad4876e0level0_row10\" class=\"row_heading level0 row10\" >North Port_FL</th>\n",
       "                        <td id=\"T_bb8a3ee3_25ef_11eb_bdbd_34e6ad4876e0row10_col0\" class=\"data row10 col0\" >27.057700</td>\n",
       "                        <td id=\"T_bb8a3ee3_25ef_11eb_bdbd_34e6ad4876e0row10_col1\" class=\"data row10 col1\" >-82.197500</td>\n",
       "                        <td id=\"T_bb8a3ee3_25ef_11eb_bdbd_34e6ad4876e0row10_col2\" class=\"data row10 col2\" >209070.000000</td>\n",
       "                        <td id=\"T_bb8a3ee3_25ef_11eb_bdbd_34e6ad4876e0row10_col3\" class=\"data row10 col3\" >274.000000</td>\n",
       "                        <td id=\"T_bb8a3ee3_25ef_11eb_bdbd_34e6ad4876e0row10_col4\" class=\"data row10 col4\" >2</td>\n",
       "                        <td id=\"T_bb8a3ee3_25ef_11eb_bdbd_34e6ad4876e0row10_col5\" class=\"data row10 col5\" >34286</td>\n",
       "                        <td id=\"T_bb8a3ee3_25ef_11eb_bdbd_34e6ad4876e0row10_col6\" class=\"data row10 col6\" >65526.000000</td>\n",
       "                        <td id=\"T_bb8a3ee3_25ef_11eb_bdbd_34e6ad4876e0row10_col7\" class=\"data row10 col7\" >93544.000000</td>\n",
       "                        <td id=\"T_bb8a3ee3_25ef_11eb_bdbd_34e6ad4876e0row10_col8\" class=\"data row10 col8\" >20192</td>\n",
       "                        <td id=\"T_bb8a3ee3_25ef_11eb_bdbd_34e6ad4876e0row10_col9\" class=\"data row10 col9\" >30.82%</td>\n",
       "                        <td id=\"T_bb8a3ee3_25ef_11eb_bdbd_34e6ad4876e0row10_col10\" class=\"data row10 col10\" >21.59%</td>\n",
       "            </tr>\n",
       "            <tr>\n",
       "                        <th id=\"T_bb8a3ee3_25ef_11eb_bdbd_34e6ad4876e0level0_row11\" class=\"row_heading level0 row11\" >Port St. Lucie_FL</th>\n",
       "                        <td id=\"T_bb8a3ee3_25ef_11eb_bdbd_34e6ad4876e0row11_col0\" class=\"data row11 col0\" >27.279600</td>\n",
       "                        <td id=\"T_bb8a3ee3_25ef_11eb_bdbd_34e6ad4876e0row11_col1\" class=\"data row11 col1\" >-80.388300</td>\n",
       "                        <td id=\"T_bb8a3ee3_25ef_11eb_bdbd_34e6ad4876e0row11_col2\" class=\"data row11 col2\" >461152.000000</td>\n",
       "                        <td id=\"T_bb8a3ee3_25ef_11eb_bdbd_34e6ad4876e0row11_col3\" class=\"data row11 col3\" >653.000000</td>\n",
       "                        <td id=\"T_bb8a3ee3_25ef_11eb_bdbd_34e6ad4876e0row11_col4\" class=\"data row11 col4\" >2</td>\n",
       "                        <td id=\"T_bb8a3ee3_25ef_11eb_bdbd_34e6ad4876e0row11_col5\" class=\"data row11 col5\" >34986</td>\n",
       "                        <td id=\"T_bb8a3ee3_25ef_11eb_bdbd_34e6ad4876e0row11_col6\" class=\"data row11 col6\" >62608.000000</td>\n",
       "                        <td id=\"T_bb8a3ee3_25ef_11eb_bdbd_34e6ad4876e0row11_col7\" class=\"data row11 col7\" >86108.000000</td>\n",
       "                        <td id=\"T_bb8a3ee3_25ef_11eb_bdbd_34e6ad4876e0row11_col8\" class=\"data row11 col8\" >19227</td>\n",
       "                        <td id=\"T_bb8a3ee3_25ef_11eb_bdbd_34e6ad4876e0row11_col9\" class=\"data row11 col9\" >30.71%</td>\n",
       "                        <td id=\"T_bb8a3ee3_25ef_11eb_bdbd_34e6ad4876e0row11_col10\" class=\"data row11 col10\" >22.33%</td>\n",
       "            </tr>\n",
       "            <tr>\n",
       "                        <th id=\"T_bb8a3ee3_25ef_11eb_bdbd_34e6ad4876e0level0_row12\" class=\"row_heading level0 row12\" >Orlando_FL</th>\n",
       "                        <td id=\"T_bb8a3ee3_25ef_11eb_bdbd_34e6ad4876e0row12_col0\" class=\"data row12 col0\" >28.477200</td>\n",
       "                        <td id=\"T_bb8a3ee3_25ef_11eb_bdbd_34e6ad4876e0row12_col1\" class=\"data row12 col1\" >-81.336900</td>\n",
       "                        <td id=\"T_bb8a3ee3_25ef_11eb_bdbd_34e6ad4876e0row12_col2\" class=\"data row12 col2\" >1822394.000000</td>\n",
       "                        <td id=\"T_bb8a3ee3_25ef_11eb_bdbd_34e6ad4876e0row12_col3\" class=\"data row12 col3\" >1003.000000</td>\n",
       "                        <td id=\"T_bb8a3ee3_25ef_11eb_bdbd_34e6ad4876e0row12_col4\" class=\"data row12 col4\" >1</td>\n",
       "                        <td id=\"T_bb8a3ee3_25ef_11eb_bdbd_34e6ad4876e0row12_col5\" class=\"data row12 col5\" >32829</td>\n",
       "                        <td id=\"T_bb8a3ee3_25ef_11eb_bdbd_34e6ad4876e0row12_col6\" class=\"data row12 col6\" >61876.000000</td>\n",
       "                        <td id=\"T_bb8a3ee3_25ef_11eb_bdbd_34e6ad4876e0row12_col7\" class=\"data row12 col7\" >85246.000000</td>\n",
       "                        <td id=\"T_bb8a3ee3_25ef_11eb_bdbd_34e6ad4876e0row12_col8\" class=\"data row12 col8\" >18833</td>\n",
       "                        <td id=\"T_bb8a3ee3_25ef_11eb_bdbd_34e6ad4876e0row12_col9\" class=\"data row12 col9\" >30.44%</td>\n",
       "                        <td id=\"T_bb8a3ee3_25ef_11eb_bdbd_34e6ad4876e0row12_col10\" class=\"data row12 col10\" >22.09%</td>\n",
       "            </tr>\n",
       "            <tr>\n",
       "                        <th id=\"T_bb8a3ee3_25ef_11eb_bdbd_34e6ad4876e0level0_row13\" class=\"row_heading level0 row13\" >New Orleans_LA</th>\n",
       "                        <td id=\"T_bb8a3ee3_25ef_11eb_bdbd_34e6ad4876e0row13_col0\" class=\"data row13 col0\" >30.068700</td>\n",
       "                        <td id=\"T_bb8a3ee3_25ef_11eb_bdbd_34e6ad4876e0row13_col1\" class=\"data row13 col1\" >-89.928800</td>\n",
       "                        <td id=\"T_bb8a3ee3_25ef_11eb_bdbd_34e6ad4876e0row13_col2\" class=\"data row13 col2\" >1020886.000000</td>\n",
       "                        <td id=\"T_bb8a3ee3_25ef_11eb_bdbd_34e6ad4876e0row13_col3\" class=\"data row13 col3\" >889.000000</td>\n",
       "                        <td id=\"T_bb8a3ee3_25ef_11eb_bdbd_34e6ad4876e0row13_col4\" class=\"data row13 col4\" >1</td>\n",
       "                        <td id=\"T_bb8a3ee3_25ef_11eb_bdbd_34e6ad4876e0row13_col5\" class=\"data row13 col5\" >70139</td>\n",
       "                        <td id=\"T_bb8a3ee3_25ef_11eb_bdbd_34e6ad4876e0row13_col6\" class=\"data row13 col6\" >55710.000000</td>\n",
       "                        <td id=\"T_bb8a3ee3_25ef_11eb_bdbd_34e6ad4876e0row13_col7\" class=\"data row13 col7\" >78752.000000</td>\n",
       "                        <td id=\"T_bb8a3ee3_25ef_11eb_bdbd_34e6ad4876e0row13_col8\" class=\"data row13 col8\" >16734</td>\n",
       "                        <td id=\"T_bb8a3ee3_25ef_11eb_bdbd_34e6ad4876e0row13_col9\" class=\"data row13 col9\" >30.04%</td>\n",
       "                        <td id=\"T_bb8a3ee3_25ef_11eb_bdbd_34e6ad4876e0row13_col10\" class=\"data row13 col10\" >21.25%</td>\n",
       "            </tr>\n",
       "            <tr>\n",
       "                        <th id=\"T_bb8a3ee3_25ef_11eb_bdbd_34e6ad4876e0level0_row14\" class=\"row_heading level0 row14\" >Fresno_CA</th>\n",
       "                        <td id=\"T_bb8a3ee3_25ef_11eb_bdbd_34e6ad4876e0row14_col0\" class=\"data row14 col0\" >36.783100</td>\n",
       "                        <td id=\"T_bb8a3ee3_25ef_11eb_bdbd_34e6ad4876e0row14_col1\" class=\"data row14 col1\" >-119.794100</td>\n",
       "                        <td id=\"T_bb8a3ee3_25ef_11eb_bdbd_34e6ad4876e0row14_col2\" class=\"data row14 col2\" >703498.000000</td>\n",
       "                        <td id=\"T_bb8a3ee3_25ef_11eb_bdbd_34e6ad4876e0row14_col3\" class=\"data row14 col3\" >1789.000000</td>\n",
       "                        <td id=\"T_bb8a3ee3_25ef_11eb_bdbd_34e6ad4876e0row14_col4\" class=\"data row14 col4\" >2</td>\n",
       "                        <td id=\"T_bb8a3ee3_25ef_11eb_bdbd_34e6ad4876e0row14_col5\" class=\"data row14 col5\" >93730</td>\n",
       "                        <td id=\"T_bb8a3ee3_25ef_11eb_bdbd_34e6ad4876e0row14_col6\" class=\"data row14 col6\" >57518.000000</td>\n",
       "                        <td id=\"T_bb8a3ee3_25ef_11eb_bdbd_34e6ad4876e0row14_col7\" class=\"data row14 col7\" >76573.000000</td>\n",
       "                        <td id=\"T_bb8a3ee3_25ef_11eb_bdbd_34e6ad4876e0row14_col8\" class=\"data row14 col8\" >17051</td>\n",
       "                        <td id=\"T_bb8a3ee3_25ef_11eb_bdbd_34e6ad4876e0row14_col9\" class=\"data row14 col9\" >29.64%</td>\n",
       "                        <td id=\"T_bb8a3ee3_25ef_11eb_bdbd_34e6ad4876e0row14_col10\" class=\"data row14 col10\" >22.27%</td>\n",
       "            </tr>\n",
       "            <tr>\n",
       "                        <th id=\"T_bb8a3ee3_25ef_11eb_bdbd_34e6ad4876e0level0_row15\" class=\"row_heading level0 row15\" >San Jose_CA</th>\n",
       "                        <td id=\"T_bb8a3ee3_25ef_11eb_bdbd_34e6ad4876e0row15_col0\" class=\"data row15 col0\" >37.301900</td>\n",
       "                        <td id=\"T_bb8a3ee3_25ef_11eb_bdbd_34e6ad4876e0row15_col1\" class=\"data row15 col1\" >-121.848600</td>\n",
       "                        <td id=\"T_bb8a3ee3_25ef_11eb_bdbd_34e6ad4876e0row15_col2\" class=\"data row15 col2\" >1798103.000000</td>\n",
       "                        <td id=\"T_bb8a3ee3_25ef_11eb_bdbd_34e6ad4876e0row15_col3\" class=\"data row15 col3\" >2218.000000</td>\n",
       "                        <td id=\"T_bb8a3ee3_25ef_11eb_bdbd_34e6ad4876e0row15_col4\" class=\"data row15 col4\" >1</td>\n",
       "                        <td id=\"T_bb8a3ee3_25ef_11eb_bdbd_34e6ad4876e0row15_col5\" class=\"data row15 col5\" >95118</td>\n",
       "                        <td id=\"T_bb8a3ee3_25ef_11eb_bdbd_34e6ad4876e0row15_col6\" class=\"data row15 col6\" >130865.000000</td>\n",
       "                        <td id=\"T_bb8a3ee3_25ef_11eb_bdbd_34e6ad4876e0row15_col7\" class=\"data row15 col7\" >178600.000000</td>\n",
       "                        <td id=\"T_bb8a3ee3_25ef_11eb_bdbd_34e6ad4876e0row15_col8\" class=\"data row15 col8\" >37157</td>\n",
       "                        <td id=\"T_bb8a3ee3_25ef_11eb_bdbd_34e6ad4876e0row15_col9\" class=\"data row15 col9\" >28.39%</td>\n",
       "                        <td id=\"T_bb8a3ee3_25ef_11eb_bdbd_34e6ad4876e0row15_col10\" class=\"data row15 col10\" >20.80%</td>\n",
       "            </tr>\n",
       "            <tr>\n",
       "                        <th id=\"T_bb8a3ee3_25ef_11eb_bdbd_34e6ad4876e0level0_row16\" class=\"row_heading level0 row16\" >Chicago_IL</th>\n",
       "                        <td id=\"T_bb8a3ee3_25ef_11eb_bdbd_34e6ad4876e0row16_col0\" class=\"data row16 col0\" >41.837300</td>\n",
       "                        <td id=\"T_bb8a3ee3_25ef_11eb_bdbd_34e6ad4876e0row16_col1\" class=\"data row16 col1\" >-87.686200</td>\n",
       "                        <td id=\"T_bb8a3ee3_25ef_11eb_bdbd_34e6ad4876e0row16_col2\" class=\"data row16 col2\" >8604203.000000</td>\n",
       "                        <td id=\"T_bb8a3ee3_25ef_11eb_bdbd_34e6ad4876e0row16_col3\" class=\"data row16 col3\" >4574.000000</td>\n",
       "                        <td id=\"T_bb8a3ee3_25ef_11eb_bdbd_34e6ad4876e0row16_col4\" class=\"data row16 col4\" >1</td>\n",
       "                        <td id=\"T_bb8a3ee3_25ef_11eb_bdbd_34e6ad4876e0row16_col5\" class=\"data row16 col5\" >60018</td>\n",
       "                        <td id=\"T_bb8a3ee3_25ef_11eb_bdbd_34e6ad4876e0row16_col6\" class=\"data row16 col6\" >75379.000000</td>\n",
       "                        <td id=\"T_bb8a3ee3_25ef_11eb_bdbd_34e6ad4876e0row16_col7\" class=\"data row16 col7\" >104357.000000</td>\n",
       "                        <td id=\"T_bb8a3ee3_25ef_11eb_bdbd_34e6ad4876e0row16_col8\" class=\"data row16 col8\" >21155</td>\n",
       "                        <td id=\"T_bb8a3ee3_25ef_11eb_bdbd_34e6ad4876e0row16_col9\" class=\"data row16 col9\" >28.06%</td>\n",
       "                        <td id=\"T_bb8a3ee3_25ef_11eb_bdbd_34e6ad4876e0row16_col10\" class=\"data row16 col10\" >20.27%</td>\n",
       "            </tr>\n",
       "            <tr>\n",
       "                        <th id=\"T_bb8a3ee3_25ef_11eb_bdbd_34e6ad4876e0level0_row17\" class=\"row_heading level0 row17\" >Memphis_TN</th>\n",
       "                        <td id=\"T_bb8a3ee3_25ef_11eb_bdbd_34e6ad4876e0row17_col0\" class=\"data row17 col0\" >35.104600</td>\n",
       "                        <td id=\"T_bb8a3ee3_25ef_11eb_bdbd_34e6ad4876e0row17_col1\" class=\"data row17 col1\" >-89.977300</td>\n",
       "                        <td id=\"T_bb8a3ee3_25ef_11eb_bdbd_34e6ad4876e0row17_col2\" class=\"data row17 col2\" >1066967.000000</td>\n",
       "                        <td id=\"T_bb8a3ee3_25ef_11eb_bdbd_34e6ad4876e0row17_col3\" class=\"data row17 col3\" >792.000000</td>\n",
       "                        <td id=\"T_bb8a3ee3_25ef_11eb_bdbd_34e6ad4876e0row17_col4\" class=\"data row17 col4\" >1</td>\n",
       "                        <td id=\"T_bb8a3ee3_25ef_11eb_bdbd_34e6ad4876e0row17_col5\" class=\"data row17 col5\" >38120</td>\n",
       "                        <td id=\"T_bb8a3ee3_25ef_11eb_bdbd_34e6ad4876e0row17_col6\" class=\"data row17 col6\" >54859.000000</td>\n",
       "                        <td id=\"T_bb8a3ee3_25ef_11eb_bdbd_34e6ad4876e0row17_col7\" class=\"data row17 col7\" >78640.000000</td>\n",
       "                        <td id=\"T_bb8a3ee3_25ef_11eb_bdbd_34e6ad4876e0row17_col8\" class=\"data row17 col8\" >15264</td>\n",
       "                        <td id=\"T_bb8a3ee3_25ef_11eb_bdbd_34e6ad4876e0row17_col9\" class=\"data row17 col9\" >27.82%</td>\n",
       "                        <td id=\"T_bb8a3ee3_25ef_11eb_bdbd_34e6ad4876e0row17_col10\" class=\"data row17 col10\" >19.41%</td>\n",
       "            </tr>\n",
       "            <tr>\n",
       "                        <th id=\"T_bb8a3ee3_25ef_11eb_bdbd_34e6ad4876e0level0_row18\" class=\"row_heading level0 row18\" >Sacramento_CA</th>\n",
       "                        <td id=\"T_bb8a3ee3_25ef_11eb_bdbd_34e6ad4876e0row18_col0\" class=\"data row18 col0\" >38.566700</td>\n",
       "                        <td id=\"T_bb8a3ee3_25ef_11eb_bdbd_34e6ad4876e0row18_col1\" class=\"data row18 col1\" >-121.468300</td>\n",
       "                        <td id=\"T_bb8a3ee3_25ef_11eb_bdbd_34e6ad4876e0row18_col2\" class=\"data row18 col2\" >1898019.000000</td>\n",
       "                        <td id=\"T_bb8a3ee3_25ef_11eb_bdbd_34e6ad4876e0row18_col3\" class=\"data row18 col3\" >2029.000000</td>\n",
       "                        <td id=\"T_bb8a3ee3_25ef_11eb_bdbd_34e6ad4876e0row18_col4\" class=\"data row18 col4\" >1</td>\n",
       "                        <td id=\"T_bb8a3ee3_25ef_11eb_bdbd_34e6ad4876e0row18_col5\" class=\"data row18 col5\" >95820</td>\n",
       "                        <td id=\"T_bb8a3ee3_25ef_11eb_bdbd_34e6ad4876e0row18_col6\" class=\"data row18 col6\" >76706.000000</td>\n",
       "                        <td id=\"T_bb8a3ee3_25ef_11eb_bdbd_34e6ad4876e0row18_col7\" class=\"data row18 col7\" >102207.000000</td>\n",
       "                        <td id=\"T_bb8a3ee3_25ef_11eb_bdbd_34e6ad4876e0row18_col8\" class=\"data row18 col8\" >21241</td>\n",
       "                        <td id=\"T_bb8a3ee3_25ef_11eb_bdbd_34e6ad4876e0row18_col9\" class=\"data row18 col9\" >27.69%</td>\n",
       "                        <td id=\"T_bb8a3ee3_25ef_11eb_bdbd_34e6ad4876e0row18_col10\" class=\"data row18 col10\" >20.78%</td>\n",
       "            </tr>\n",
       "            <tr>\n",
       "                        <th id=\"T_bb8a3ee3_25ef_11eb_bdbd_34e6ad4876e0level0_row19\" class=\"row_heading level0 row19\" >Bakersfield_CA</th>\n",
       "                        <td id=\"T_bb8a3ee3_25ef_11eb_bdbd_34e6ad4876e0row19_col0\" class=\"data row19 col0\" >35.352900</td>\n",
       "                        <td id=\"T_bb8a3ee3_25ef_11eb_bdbd_34e6ad4876e0row19_col1\" class=\"data row19 col1\" >-119.035900</td>\n",
       "                        <td id=\"T_bb8a3ee3_25ef_11eb_bdbd_34e6ad4876e0row19_col2\" class=\"data row19 col2\" >579295.000000</td>\n",
       "                        <td id=\"T_bb8a3ee3_25ef_11eb_bdbd_34e6ad4876e0row19_col3\" class=\"data row19 col3\" >990.000000</td>\n",
       "                        <td id=\"T_bb8a3ee3_25ef_11eb_bdbd_34e6ad4876e0row19_col4\" class=\"data row19 col4\" >2</td>\n",
       "                        <td id=\"T_bb8a3ee3_25ef_11eb_bdbd_34e6ad4876e0row19_col5\" class=\"data row19 col5\" >93306</td>\n",
       "                        <td id=\"T_bb8a3ee3_25ef_11eb_bdbd_34e6ad4876e0row19_col6\" class=\"data row19 col6\" >53067.000000</td>\n",
       "                        <td id=\"T_bb8a3ee3_25ef_11eb_bdbd_34e6ad4876e0row19_col7\" class=\"data row19 col7\" >75669.000000</td>\n",
       "                        <td id=\"T_bb8a3ee3_25ef_11eb_bdbd_34e6ad4876e0row19_col8\" class=\"data row19 col8\" >14607</td>\n",
       "                        <td id=\"T_bb8a3ee3_25ef_11eb_bdbd_34e6ad4876e0row19_col9\" class=\"data row19 col9\" >27.53%</td>\n",
       "                        <td id=\"T_bb8a3ee3_25ef_11eb_bdbd_34e6ad4876e0row19_col10\" class=\"data row19 col10\" >19.30%</td>\n",
       "            </tr>\n",
       "            <tr>\n",
       "                        <th id=\"T_bb8a3ee3_25ef_11eb_bdbd_34e6ad4876e0level0_row20\" class=\"row_heading level0 row20\" >Greensboro_NC</th>\n",
       "                        <td id=\"T_bb8a3ee3_25ef_11eb_bdbd_34e6ad4876e0row20_col0\" class=\"data row20 col0\" >36.095600</td>\n",
       "                        <td id=\"T_bb8a3ee3_25ef_11eb_bdbd_34e6ad4876e0row20_col1\" class=\"data row20 col1\" >-79.826900</td>\n",
       "                        <td id=\"T_bb8a3ee3_25ef_11eb_bdbd_34e6ad4876e0row20_col2\" class=\"data row20 col2\" >343090.000000</td>\n",
       "                        <td id=\"T_bb8a3ee3_25ef_11eb_bdbd_34e6ad4876e0row20_col3\" class=\"data row20 col3\" >887.000000</td>\n",
       "                        <td id=\"T_bb8a3ee3_25ef_11eb_bdbd_34e6ad4876e0row20_col4\" class=\"data row20 col4\" >2</td>\n",
       "                        <td id=\"T_bb8a3ee3_25ef_11eb_bdbd_34e6ad4876e0row20_col5\" class=\"data row20 col5\" >27410</td>\n",
       "                        <td id=\"T_bb8a3ee3_25ef_11eb_bdbd_34e6ad4876e0row20_col6\" class=\"data row20 col6\" >51770.000000</td>\n",
       "                        <td id=\"T_bb8a3ee3_25ef_11eb_bdbd_34e6ad4876e0row20_col7\" class=\"data row20 col7\" >71474.000000</td>\n",
       "                        <td id=\"T_bb8a3ee3_25ef_11eb_bdbd_34e6ad4876e0row20_col8\" class=\"data row20 col8\" >14241</td>\n",
       "                        <td id=\"T_bb8a3ee3_25ef_11eb_bdbd_34e6ad4876e0row20_col9\" class=\"data row20 col9\" >27.51%</td>\n",
       "                        <td id=\"T_bb8a3ee3_25ef_11eb_bdbd_34e6ad4876e0row20_col10\" class=\"data row20 col10\" >19.92%</td>\n",
       "            </tr>\n",
       "            <tr>\n",
       "                        <th id=\"T_bb8a3ee3_25ef_11eb_bdbd_34e6ad4876e0level0_row21\" class=\"row_heading level0 row21\" >Jackson_MS</th>\n",
       "                        <td id=\"T_bb8a3ee3_25ef_11eb_bdbd_34e6ad4876e0row21_col0\" class=\"data row21 col0\" >32.316300</td>\n",
       "                        <td id=\"T_bb8a3ee3_25ef_11eb_bdbd_34e6ad4876e0row21_col1\" class=\"data row21 col1\" >-90.212400</td>\n",
       "                        <td id=\"T_bb8a3ee3_25ef_11eb_bdbd_34e6ad4876e0row21_col2\" class=\"data row21 col2\" >325350.000000</td>\n",
       "                        <td id=\"T_bb8a3ee3_25ef_11eb_bdbd_34e6ad4876e0row21_col3\" class=\"data row21 col3\" >558.000000</td>\n",
       "                        <td id=\"T_bb8a3ee3_25ef_11eb_bdbd_34e6ad4876e0row21_col4\" class=\"data row21 col4\" >2</td>\n",
       "                        <td id=\"T_bb8a3ee3_25ef_11eb_bdbd_34e6ad4876e0row21_col5\" class=\"data row21 col5\" >39272</td>\n",
       "                        <td id=\"T_bb8a3ee3_25ef_11eb_bdbd_34e6ad4876e0row21_col6\" class=\"data row21 col6\" >52426.000000</td>\n",
       "                        <td id=\"T_bb8a3ee3_25ef_11eb_bdbd_34e6ad4876e0row21_col7\" class=\"data row21 col7\" >74050.000000</td>\n",
       "                        <td id=\"T_bb8a3ee3_25ef_11eb_bdbd_34e6ad4876e0row21_col8\" class=\"data row21 col8\" >14313</td>\n",
       "                        <td id=\"T_bb8a3ee3_25ef_11eb_bdbd_34e6ad4876e0row21_col9\" class=\"data row21 col9\" >27.30%</td>\n",
       "                        <td id=\"T_bb8a3ee3_25ef_11eb_bdbd_34e6ad4876e0row21_col10\" class=\"data row21 col10\" >19.33%</td>\n",
       "            </tr>\n",
       "            <tr>\n",
       "                        <th id=\"T_bb8a3ee3_25ef_11eb_bdbd_34e6ad4876e0level0_row22\" class=\"row_heading level0 row22\" >El Paso_TX</th>\n",
       "                        <td id=\"T_bb8a3ee3_25ef_11eb_bdbd_34e6ad4876e0row22_col0\" class=\"data row22 col0\" >31.847900</td>\n",
       "                        <td id=\"T_bb8a3ee3_25ef_11eb_bdbd_34e6ad4876e0row22_col1\" class=\"data row22 col1\" >-106.430900</td>\n",
       "                        <td id=\"T_bb8a3ee3_25ef_11eb_bdbd_34e6ad4876e0row22_col2\" class=\"data row22 col2\" >843386.000000</td>\n",
       "                        <td id=\"T_bb8a3ee3_25ef_11eb_bdbd_34e6ad4876e0row22_col3\" class=\"data row22 col3\" >1022.000000</td>\n",
       "                        <td id=\"T_bb8a3ee3_25ef_11eb_bdbd_34e6ad4876e0row22_col4\" class=\"data row22 col4\" >2</td>\n",
       "                        <td id=\"T_bb8a3ee3_25ef_11eb_bdbd_34e6ad4876e0row22_col5\" class=\"data row22 col5\" >79901</td>\n",
       "                        <td id=\"T_bb8a3ee3_25ef_11eb_bdbd_34e6ad4876e0row22_col6\" class=\"data row22 col6\" >48823.000000</td>\n",
       "                        <td id=\"T_bb8a3ee3_25ef_11eb_bdbd_34e6ad4876e0row22_col7\" class=\"data row22 col7\" >62615.000000</td>\n",
       "                        <td id=\"T_bb8a3ee3_25ef_11eb_bdbd_34e6ad4876e0row22_col8\" class=\"data row22 col8\" >13204</td>\n",
       "                        <td id=\"T_bb8a3ee3_25ef_11eb_bdbd_34e6ad4876e0row22_col9\" class=\"data row22 col9\" >27.04%</td>\n",
       "                        <td id=\"T_bb8a3ee3_25ef_11eb_bdbd_34e6ad4876e0row22_col10\" class=\"data row22 col10\" >21.09%</td>\n",
       "            </tr>\n",
       "            <tr>\n",
       "                        <th id=\"T_bb8a3ee3_25ef_11eb_bdbd_34e6ad4876e0level0_row23\" class=\"row_heading level0 row23\" >Las Vegas_NV</th>\n",
       "                        <td id=\"T_bb8a3ee3_25ef_11eb_bdbd_34e6ad4876e0row23_col0\" class=\"data row23 col0\" >36.233300</td>\n",
       "                        <td id=\"T_bb8a3ee3_25ef_11eb_bdbd_34e6ad4876e0row23_col1\" class=\"data row23 col1\" >-115.265400</td>\n",
       "                        <td id=\"T_bb8a3ee3_25ef_11eb_bdbd_34e6ad4876e0row23_col2\" class=\"data row23 col2\" >2104198.000000</td>\n",
       "                        <td id=\"T_bb8a3ee3_25ef_11eb_bdbd_34e6ad4876e0row23_col3\" class=\"data row23 col3\" >1773.000000</td>\n",
       "                        <td id=\"T_bb8a3ee3_25ef_11eb_bdbd_34e6ad4876e0row23_col4\" class=\"data row23 col4\" >1</td>\n",
       "                        <td id=\"T_bb8a3ee3_25ef_11eb_bdbd_34e6ad4876e0row23_col5\" class=\"data row23 col5\" >89107</td>\n",
       "                        <td id=\"T_bb8a3ee3_25ef_11eb_bdbd_34e6ad4876e0row23_col6\" class=\"data row23 col6\" >62107.000000</td>\n",
       "                        <td id=\"T_bb8a3ee3_25ef_11eb_bdbd_34e6ad4876e0row23_col7\" class=\"data row23 col7\" >85925.000000</td>\n",
       "                        <td id=\"T_bb8a3ee3_25ef_11eb_bdbd_34e6ad4876e0row23_col8\" class=\"data row23 col8\" >16695</td>\n",
       "                        <td id=\"T_bb8a3ee3_25ef_11eb_bdbd_34e6ad4876e0row23_col9\" class=\"data row23 col9\" >26.88%</td>\n",
       "                        <td id=\"T_bb8a3ee3_25ef_11eb_bdbd_34e6ad4876e0row23_col10\" class=\"data row23 col10\" >19.43%</td>\n",
       "            </tr>\n",
       "            <tr>\n",
       "                        <th id=\"T_bb8a3ee3_25ef_11eb_bdbd_34e6ad4876e0level0_row24\" class=\"row_heading level0 row24\" >Nashville_TN</th>\n",
       "                        <td id=\"T_bb8a3ee3_25ef_11eb_bdbd_34e6ad4876e0row24_col0\" class=\"data row24 col0\" >36.171500</td>\n",
       "                        <td id=\"T_bb8a3ee3_25ef_11eb_bdbd_34e6ad4876e0row24_col1\" class=\"data row24 col1\" >-86.784300</td>\n",
       "                        <td id=\"T_bb8a3ee3_25ef_11eb_bdbd_34e6ad4876e0row24_col2\" class=\"data row24 col2\" >1081903.000000</td>\n",
       "                        <td id=\"T_bb8a3ee3_25ef_11eb_bdbd_34e6ad4876e0row24_col3\" class=\"data row24 col3\" >544.000000</td>\n",
       "                        <td id=\"T_bb8a3ee3_25ef_11eb_bdbd_34e6ad4876e0row24_col4\" class=\"data row24 col4\" >1</td>\n",
       "                        <td id=\"T_bb8a3ee3_25ef_11eb_bdbd_34e6ad4876e0row24_col5\" class=\"data row24 col5\" >37027</td>\n",
       "                        <td id=\"T_bb8a3ee3_25ef_11eb_bdbd_34e6ad4876e0row24_col6\" class=\"data row24 col6\" >70262.000000</td>\n",
       "                        <td id=\"T_bb8a3ee3_25ef_11eb_bdbd_34e6ad4876e0row24_col7\" class=\"data row24 col7\" >96579.000000</td>\n",
       "                        <td id=\"T_bb8a3ee3_25ef_11eb_bdbd_34e6ad4876e0row24_col8\" class=\"data row24 col8\" >18784</td>\n",
       "                        <td id=\"T_bb8a3ee3_25ef_11eb_bdbd_34e6ad4876e0row24_col9\" class=\"data row24 col9\" >26.73%</td>\n",
       "                        <td id=\"T_bb8a3ee3_25ef_11eb_bdbd_34e6ad4876e0row24_col10\" class=\"data row24 col10\" >19.45%</td>\n",
       "            </tr>\n",
       "            <tr>\n",
       "                        <th id=\"T_bb8a3ee3_25ef_11eb_bdbd_34e6ad4876e0level0_row25\" class=\"row_heading level0 row25\" >Boulder_CO</th>\n",
       "                        <td id=\"T_bb8a3ee3_25ef_11eb_bdbd_34e6ad4876e0row25_col0\" class=\"data row25 col0\" >40.024900</td>\n",
       "                        <td id=\"T_bb8a3ee3_25ef_11eb_bdbd_34e6ad4876e0row25_col1\" class=\"data row25 col1\" >-105.252300</td>\n",
       "                        <td id=\"T_bb8a3ee3_25ef_11eb_bdbd_34e6ad4876e0row25_col2\" class=\"data row25 col2\" >124345.000000</td>\n",
       "                        <td id=\"T_bb8a3ee3_25ef_11eb_bdbd_34e6ad4876e0row25_col3\" class=\"data row25 col3\" >1551.000000</td>\n",
       "                        <td id=\"T_bb8a3ee3_25ef_11eb_bdbd_34e6ad4876e0row25_col4\" class=\"data row25 col4\" >2</td>\n",
       "                        <td id=\"T_bb8a3ee3_25ef_11eb_bdbd_34e6ad4876e0row25_col5\" class=\"data row25 col5\" >80310</td>\n",
       "                        <td id=\"T_bb8a3ee3_25ef_11eb_bdbd_34e6ad4876e0row25_col6\" class=\"data row25 col6\" >88535.000000</td>\n",
       "                        <td id=\"T_bb8a3ee3_25ef_11eb_bdbd_34e6ad4876e0row25_col7\" class=\"data row25 col7\" >125894.000000</td>\n",
       "                        <td id=\"T_bb8a3ee3_25ef_11eb_bdbd_34e6ad4876e0row25_col8\" class=\"data row25 col8\" >23649</td>\n",
       "                        <td id=\"T_bb8a3ee3_25ef_11eb_bdbd_34e6ad4876e0row25_col9\" class=\"data row25 col9\" >26.71%</td>\n",
       "                        <td id=\"T_bb8a3ee3_25ef_11eb_bdbd_34e6ad4876e0row25_col10\" class=\"data row25 col10\" >18.78%</td>\n",
       "            </tr>\n",
       "            <tr>\n",
       "                        <th id=\"T_bb8a3ee3_25ef_11eb_bdbd_34e6ad4876e0level0_row26\" class=\"row_heading level0 row26\" >Providence_RI</th>\n",
       "                        <td id=\"T_bb8a3ee3_25ef_11eb_bdbd_34e6ad4876e0row26_col0\" class=\"data row26 col0\" >41.823000</td>\n",
       "                        <td id=\"T_bb8a3ee3_25ef_11eb_bdbd_34e6ad4876e0row26_col1\" class=\"data row26 col1\" >-71.418700</td>\n",
       "                        <td id=\"T_bb8a3ee3_25ef_11eb_bdbd_34e6ad4876e0row26_col2\" class=\"data row26 col2\" >1203230.000000</td>\n",
       "                        <td id=\"T_bb8a3ee3_25ef_11eb_bdbd_34e6ad4876e0row26_col3\" class=\"data row26 col3\" >3773.000000</td>\n",
       "                        <td id=\"T_bb8a3ee3_25ef_11eb_bdbd_34e6ad4876e0row26_col4\" class=\"data row26 col4\" >1</td>\n",
       "                        <td id=\"T_bb8a3ee3_25ef_11eb_bdbd_34e6ad4876e0row26_col5\" class=\"data row26 col5\" >02903</td>\n",
       "                        <td id=\"T_bb8a3ee3_25ef_11eb_bdbd_34e6ad4876e0row26_col6\" class=\"data row26 col6\" >70967.000000</td>\n",
       "                        <td id=\"T_bb8a3ee3_25ef_11eb_bdbd_34e6ad4876e0row26_col7\" class=\"data row26 col7\" >92191.000000</td>\n",
       "                        <td id=\"T_bb8a3ee3_25ef_11eb_bdbd_34e6ad4876e0row26_col8\" class=\"data row26 col8\" >18783</td>\n",
       "                        <td id=\"T_bb8a3ee3_25ef_11eb_bdbd_34e6ad4876e0row26_col9\" class=\"data row26 col9\" >26.47%</td>\n",
       "                        <td id=\"T_bb8a3ee3_25ef_11eb_bdbd_34e6ad4876e0row26_col10\" class=\"data row26 col10\" >20.37%</td>\n",
       "            </tr>\n",
       "            <tr>\n",
       "                        <th id=\"T_bb8a3ee3_25ef_11eb_bdbd_34e6ad4876e0level0_row27\" class=\"row_heading level0 row27\" >Springfield_MA</th>\n",
       "                        <td id=\"T_bb8a3ee3_25ef_11eb_bdbd_34e6ad4876e0row27_col0\" class=\"data row27 col0\" >42.115500</td>\n",
       "                        <td id=\"T_bb8a3ee3_25ef_11eb_bdbd_34e6ad4876e0row27_col1\" class=\"data row27 col1\" >-72.539500</td>\n",
       "                        <td id=\"T_bb8a3ee3_25ef_11eb_bdbd_34e6ad4876e0row27_col2\" class=\"data row27 col2\" >623401.000000</td>\n",
       "                        <td id=\"T_bb8a3ee3_25ef_11eb_bdbd_34e6ad4876e0row27_col3\" class=\"data row27 col3\" >1860.000000</td>\n",
       "                        <td id=\"T_bb8a3ee3_25ef_11eb_bdbd_34e6ad4876e0row27_col4\" class=\"data row27 col4\" >2</td>\n",
       "                        <td id=\"T_bb8a3ee3_25ef_11eb_bdbd_34e6ad4876e0row27_col5\" class=\"data row27 col5\" >01151</td>\n",
       "                        <td id=\"T_bb8a3ee3_25ef_11eb_bdbd_34e6ad4876e0row27_col6\" class=\"data row27 col6\" >62346.000000</td>\n",
       "                        <td id=\"T_bb8a3ee3_25ef_11eb_bdbd_34e6ad4876e0row27_col7\" class=\"data row27 col7\" >83898.000000</td>\n",
       "                        <td id=\"T_bb8a3ee3_25ef_11eb_bdbd_34e6ad4876e0row27_col8\" class=\"data row27 col8\" >16456</td>\n",
       "                        <td id=\"T_bb8a3ee3_25ef_11eb_bdbd_34e6ad4876e0row27_col9\" class=\"data row27 col9\" >26.39%</td>\n",
       "                        <td id=\"T_bb8a3ee3_25ef_11eb_bdbd_34e6ad4876e0row27_col10\" class=\"data row27 col10\" >19.61%</td>\n",
       "            </tr>\n",
       "            <tr>\n",
       "                        <th id=\"T_bb8a3ee3_25ef_11eb_bdbd_34e6ad4876e0level0_row28\" class=\"row_heading level0 row28\" >Charlotte_NC</th>\n",
       "                        <td id=\"T_bb8a3ee3_25ef_11eb_bdbd_34e6ad4876e0row28_col0\" class=\"data row28 col0\" >35.208000</td>\n",
       "                        <td id=\"T_bb8a3ee3_25ef_11eb_bdbd_34e6ad4876e0row28_col1\" class=\"data row28 col1\" >-80.830400</td>\n",
       "                        <td id=\"T_bb8a3ee3_25ef_11eb_bdbd_34e6ad4876e0row28_col2\" class=\"data row28 col2\" >1512923.000000</td>\n",
       "                        <td id=\"T_bb8a3ee3_25ef_11eb_bdbd_34e6ad4876e0row28_col3\" class=\"data row28 col3\" >1113.000000</td>\n",
       "                        <td id=\"T_bb8a3ee3_25ef_11eb_bdbd_34e6ad4876e0row28_col4\" class=\"data row28 col4\" >1</td>\n",
       "                        <td id=\"T_bb8a3ee3_25ef_11eb_bdbd_34e6ad4876e0row28_col5\" class=\"data row28 col5\" >28269</td>\n",
       "                        <td id=\"T_bb8a3ee3_25ef_11eb_bdbd_34e6ad4876e0row28_col6\" class=\"data row28 col6\" >66399.000000</td>\n",
       "                        <td id=\"T_bb8a3ee3_25ef_11eb_bdbd_34e6ad4876e0row28_col7\" class=\"data row28 col7\" >94069.000000</td>\n",
       "                        <td id=\"T_bb8a3ee3_25ef_11eb_bdbd_34e6ad4876e0row28_col8\" class=\"data row28 col8\" >17494</td>\n",
       "                        <td id=\"T_bb8a3ee3_25ef_11eb_bdbd_34e6ad4876e0row28_col9\" class=\"data row28 col9\" >26.35%</td>\n",
       "                        <td id=\"T_bb8a3ee3_25ef_11eb_bdbd_34e6ad4876e0row28_col10\" class=\"data row28 col10\" >18.60%</td>\n",
       "            </tr>\n",
       "            <tr>\n",
       "                        <th id=\"T_bb8a3ee3_25ef_11eb_bdbd_34e6ad4876e0level0_row29\" class=\"row_heading level0 row29\" >Knoxville_TN</th>\n",
       "                        <td id=\"T_bb8a3ee3_25ef_11eb_bdbd_34e6ad4876e0row29_col0\" class=\"data row29 col0\" >35.969200</td>\n",
       "                        <td id=\"T_bb8a3ee3_25ef_11eb_bdbd_34e6ad4876e0row29_col1\" class=\"data row29 col1\" >-83.949600</td>\n",
       "                        <td id=\"T_bb8a3ee3_25ef_11eb_bdbd_34e6ad4876e0row29_col2\" class=\"data row29 col2\" >586048.000000</td>\n",
       "                        <td id=\"T_bb8a3ee3_25ef_11eb_bdbd_34e6ad4876e0row29_col3\" class=\"data row29 col3\" >733.000000</td>\n",
       "                        <td id=\"T_bb8a3ee3_25ef_11eb_bdbd_34e6ad4876e0row29_col4\" class=\"data row29 col4\" >2</td>\n",
       "                        <td id=\"T_bb8a3ee3_25ef_11eb_bdbd_34e6ad4876e0row29_col5\" class=\"data row29 col5\" >37918</td>\n",
       "                        <td id=\"T_bb8a3ee3_25ef_11eb_bdbd_34e6ad4876e0row29_col6\" class=\"data row29 col6\" >56623.000000</td>\n",
       "                        <td id=\"T_bb8a3ee3_25ef_11eb_bdbd_34e6ad4876e0row29_col7\" class=\"data row29 col7\" >77459.000000</td>\n",
       "                        <td id=\"T_bb8a3ee3_25ef_11eb_bdbd_34e6ad4876e0row29_col8\" class=\"data row29 col8\" >14903</td>\n",
       "                        <td id=\"T_bb8a3ee3_25ef_11eb_bdbd_34e6ad4876e0row29_col9\" class=\"data row29 col9\" >26.32%</td>\n",
       "                        <td id=\"T_bb8a3ee3_25ef_11eb_bdbd_34e6ad4876e0row29_col10\" class=\"data row29 col10\" >19.24%</td>\n",
       "            </tr>\n",
       "            <tr>\n",
       "                        <th id=\"T_bb8a3ee3_25ef_11eb_bdbd_34e6ad4876e0level0_row30\" class=\"row_heading level0 row30\" >Charleston_SC</th>\n",
       "                        <td id=\"T_bb8a3ee3_25ef_11eb_bdbd_34e6ad4876e0row30_col0\" class=\"data row30 col0\" >32.815300</td>\n",
       "                        <td id=\"T_bb8a3ee3_25ef_11eb_bdbd_34e6ad4876e0row30_col1\" class=\"data row30 col1\" >-79.962800</td>\n",
       "                        <td id=\"T_bb8a3ee3_25ef_11eb_bdbd_34e6ad4876e0row30_col2\" class=\"data row30 col2\" >628377.000000</td>\n",
       "                        <td id=\"T_bb8a3ee3_25ef_11eb_bdbd_34e6ad4876e0row30_col3\" class=\"data row30 col3\" >480.000000</td>\n",
       "                        <td id=\"T_bb8a3ee3_25ef_11eb_bdbd_34e6ad4876e0row30_col4\" class=\"data row30 col4\" >2</td>\n",
       "                        <td id=\"T_bb8a3ee3_25ef_11eb_bdbd_34e6ad4876e0row30_col5\" class=\"data row30 col5\" >29414</td>\n",
       "                        <td id=\"T_bb8a3ee3_25ef_11eb_bdbd_34e6ad4876e0row30_col6\" class=\"data row30 col6\" >70505.000000</td>\n",
       "                        <td id=\"T_bb8a3ee3_25ef_11eb_bdbd_34e6ad4876e0row30_col7\" class=\"data row30 col7\" >95931.000000</td>\n",
       "                        <td id=\"T_bb8a3ee3_25ef_11eb_bdbd_34e6ad4876e0row30_col8\" class=\"data row30 col8\" >18297</td>\n",
       "                        <td id=\"T_bb8a3ee3_25ef_11eb_bdbd_34e6ad4876e0row30_col9\" class=\"data row30 col9\" >25.95%</td>\n",
       "                        <td id=\"T_bb8a3ee3_25ef_11eb_bdbd_34e6ad4876e0row30_col10\" class=\"data row30 col10\" >19.07%</td>\n",
       "            </tr>\n",
       "            <tr>\n",
       "                        <th id=\"T_bb8a3ee3_25ef_11eb_bdbd_34e6ad4876e0level0_row31\" class=\"row_heading level0 row31\" >Durham_NC</th>\n",
       "                        <td id=\"T_bb8a3ee3_25ef_11eb_bdbd_34e6ad4876e0row31_col0\" class=\"data row31 col0\" >35.979400</td>\n",
       "                        <td id=\"T_bb8a3ee3_25ef_11eb_bdbd_34e6ad4876e0row31_col1\" class=\"data row31 col1\" >-78.903100</td>\n",
       "                        <td id=\"T_bb8a3ee3_25ef_11eb_bdbd_34e6ad4876e0row31_col2\" class=\"data row31 col2\" >424700.000000</td>\n",
       "                        <td id=\"T_bb8a3ee3_25ef_11eb_bdbd_34e6ad4876e0row31_col3\" class=\"data row31 col3\" >959.000000</td>\n",
       "                        <td id=\"T_bb8a3ee3_25ef_11eb_bdbd_34e6ad4876e0row31_col4\" class=\"data row31 col4\" >2</td>\n",
       "                        <td id=\"T_bb8a3ee3_25ef_11eb_bdbd_34e6ad4876e0row31_col5\" class=\"data row31 col5\" >27703</td>\n",
       "                        <td id=\"T_bb8a3ee3_25ef_11eb_bdbd_34e6ad4876e0row31_col6\" class=\"data row31 col6\" >65303.000000</td>\n",
       "                        <td id=\"T_bb8a3ee3_25ef_11eb_bdbd_34e6ad4876e0row31_col7\" class=\"data row31 col7\" >90699.000000</td>\n",
       "                        <td id=\"T_bb8a3ee3_25ef_11eb_bdbd_34e6ad4876e0row31_col8\" class=\"data row31 col8\" >16942</td>\n",
       "                        <td id=\"T_bb8a3ee3_25ef_11eb_bdbd_34e6ad4876e0row31_col9\" class=\"data row31 col9\" >25.94%</td>\n",
       "                        <td id=\"T_bb8a3ee3_25ef_11eb_bdbd_34e6ad4876e0row31_col10\" class=\"data row31 col10\" >18.68%</td>\n",
       "            </tr>\n",
       "            <tr>\n",
       "                        <th id=\"T_bb8a3ee3_25ef_11eb_bdbd_34e6ad4876e0level0_row32\" class=\"row_heading level0 row32\" >Fort Collins_CO</th>\n",
       "                        <td id=\"T_bb8a3ee3_25ef_11eb_bdbd_34e6ad4876e0row32_col0\" class=\"data row32 col0\" >40.547800</td>\n",
       "                        <td id=\"T_bb8a3ee3_25ef_11eb_bdbd_34e6ad4876e0row32_col1\" class=\"data row32 col1\" >-105.065600</td>\n",
       "                        <td id=\"T_bb8a3ee3_25ef_11eb_bdbd_34e6ad4876e0row32_col2\" class=\"data row32 col2\" >312666.000000</td>\n",
       "                        <td id=\"T_bb8a3ee3_25ef_11eb_bdbd_34e6ad4876e0row32_col3\" class=\"data row32 col3\" >1149.000000</td>\n",
       "                        <td id=\"T_bb8a3ee3_25ef_11eb_bdbd_34e6ad4876e0row32_col4\" class=\"data row32 col4\" >2</td>\n",
       "                        <td id=\"T_bb8a3ee3_25ef_11eb_bdbd_34e6ad4876e0row32_col5\" class=\"data row32 col5\" >80521</td>\n",
       "                        <td id=\"T_bb8a3ee3_25ef_11eb_bdbd_34e6ad4876e0row32_col6\" class=\"data row32 col6\" >75186.000000</td>\n",
       "                        <td id=\"T_bb8a3ee3_25ef_11eb_bdbd_34e6ad4876e0row32_col7\" class=\"data row32 col7\" >98731.000000</td>\n",
       "                        <td id=\"T_bb8a3ee3_25ef_11eb_bdbd_34e6ad4876e0row32_col8\" class=\"data row32 col8\" >19430</td>\n",
       "                        <td id=\"T_bb8a3ee3_25ef_11eb_bdbd_34e6ad4876e0row32_col9\" class=\"data row32 col9\" >25.84%</td>\n",
       "                        <td id=\"T_bb8a3ee3_25ef_11eb_bdbd_34e6ad4876e0row32_col10\" class=\"data row32 col10\" >19.68%</td>\n",
       "            </tr>\n",
       "            <tr>\n",
       "                        <th id=\"T_bb8a3ee3_25ef_11eb_bdbd_34e6ad4876e0level0_row33\" class=\"row_heading level0 row33\" >Houston_TX</th>\n",
       "                        <td id=\"T_bb8a3ee3_25ef_11eb_bdbd_34e6ad4876e0row33_col0\" class=\"data row33 col0\" >29.786300</td>\n",
       "                        <td id=\"T_bb8a3ee3_25ef_11eb_bdbd_34e6ad4876e0row33_col1\" class=\"data row33 col1\" >-95.388900</td>\n",
       "                        <td id=\"T_bb8a3ee3_25ef_11eb_bdbd_34e6ad4876e0row33_col2\" class=\"data row33 col2\" >5464251.000000</td>\n",
       "                        <td id=\"T_bb8a3ee3_25ef_11eb_bdbd_34e6ad4876e0row33_col3\" class=\"data row33 col3\" >1399.000000</td>\n",
       "                        <td id=\"T_bb8a3ee3_25ef_11eb_bdbd_34e6ad4876e0row33_col4\" class=\"data row33 col4\" >1</td>\n",
       "                        <td id=\"T_bb8a3ee3_25ef_11eb_bdbd_34e6ad4876e0row33_col5\" class=\"data row33 col5\" >77069</td>\n",
       "                        <td id=\"T_bb8a3ee3_25ef_11eb_bdbd_34e6ad4876e0row33_col6\" class=\"data row33 col6\" >69193.000000</td>\n",
       "                        <td id=\"T_bb8a3ee3_25ef_11eb_bdbd_34e6ad4876e0row33_col7\" class=\"data row33 col7\" >99137.000000</td>\n",
       "                        <td id=\"T_bb8a3ee3_25ef_11eb_bdbd_34e6ad4876e0row33_col8\" class=\"data row33 col8\" >17720</td>\n",
       "                        <td id=\"T_bb8a3ee3_25ef_11eb_bdbd_34e6ad4876e0row33_col9\" class=\"data row33 col9\" >25.61%</td>\n",
       "                        <td id=\"T_bb8a3ee3_25ef_11eb_bdbd_34e6ad4876e0row33_col10\" class=\"data row33 col10\" >17.87%</td>\n",
       "            </tr>\n",
       "            <tr>\n",
       "                        <th id=\"T_bb8a3ee3_25ef_11eb_bdbd_34e6ad4876e0level0_row34\" class=\"row_heading level0 row34\" >Dallas_TX</th>\n",
       "                        <td id=\"T_bb8a3ee3_25ef_11eb_bdbd_34e6ad4876e0row34_col0\" class=\"data row34 col0\" >32.793600</td>\n",
       "                        <td id=\"T_bb8a3ee3_25ef_11eb_bdbd_34e6ad4876e0row34_col1\" class=\"data row34 col1\" >-96.766200</td>\n",
       "                        <td id=\"T_bb8a3ee3_25ef_11eb_bdbd_34e6ad4876e0row34_col2\" class=\"data row34 col2\" >5743938.000000</td>\n",
       "                        <td id=\"T_bb8a3ee3_25ef_11eb_bdbd_34e6ad4876e0row34_col3\" class=\"data row34 col3\" >1526.000000</td>\n",
       "                        <td id=\"T_bb8a3ee3_25ef_11eb_bdbd_34e6ad4876e0row34_col4\" class=\"data row34 col4\" >1</td>\n",
       "                        <td id=\"T_bb8a3ee3_25ef_11eb_bdbd_34e6ad4876e0row34_col5\" class=\"data row34 col5\" >75287</td>\n",
       "                        <td id=\"T_bb8a3ee3_25ef_11eb_bdbd_34e6ad4876e0row34_col6\" class=\"data row34 col6\" >72265.000000</td>\n",
       "                        <td id=\"T_bb8a3ee3_25ef_11eb_bdbd_34e6ad4876e0row34_col7\" class=\"data row34 col7\" >100213.000000</td>\n",
       "                        <td id=\"T_bb8a3ee3_25ef_11eb_bdbd_34e6ad4876e0row34_col8\" class=\"data row34 col8\" >18506</td>\n",
       "                        <td id=\"T_bb8a3ee3_25ef_11eb_bdbd_34e6ad4876e0row34_col9\" class=\"data row34 col9\" >25.61%</td>\n",
       "                        <td id=\"T_bb8a3ee3_25ef_11eb_bdbd_34e6ad4876e0row34_col10\" class=\"data row34 col10\" >18.47%</td>\n",
       "            </tr>\n",
       "            <tr>\n",
       "                        <th id=\"T_bb8a3ee3_25ef_11eb_bdbd_34e6ad4876e0level0_row35\" class=\"row_heading level0 row35\" >Chattanooga_TN</th>\n",
       "                        <td id=\"T_bb8a3ee3_25ef_11eb_bdbd_34e6ad4876e0row35_col0\" class=\"data row35 col0\" >35.065700</td>\n",
       "                        <td id=\"T_bb8a3ee3_25ef_11eb_bdbd_34e6ad4876e0row35_col1\" class=\"data row35 col1\" >-85.248800</td>\n",
       "                        <td id=\"T_bb8a3ee3_25ef_11eb_bdbd_34e6ad4876e0row35_col2\" class=\"data row35 col2\" >415501.000000</td>\n",
       "                        <td id=\"T_bb8a3ee3_25ef_11eb_bdbd_34e6ad4876e0row35_col3\" class=\"data row35 col3\" >493.000000</td>\n",
       "                        <td id=\"T_bb8a3ee3_25ef_11eb_bdbd_34e6ad4876e0row35_col4\" class=\"data row35 col4\" >2</td>\n",
       "                        <td id=\"T_bb8a3ee3_25ef_11eb_bdbd_34e6ad4876e0row35_col5\" class=\"data row35 col5\" >37415</td>\n",
       "                        <td id=\"T_bb8a3ee3_25ef_11eb_bdbd_34e6ad4876e0row35_col6\" class=\"data row35 col6\" >55366.000000</td>\n",
       "                        <td id=\"T_bb8a3ee3_25ef_11eb_bdbd_34e6ad4876e0row35_col7\" class=\"data row35 col7\" >75556.000000</td>\n",
       "                        <td id=\"T_bb8a3ee3_25ef_11eb_bdbd_34e6ad4876e0row35_col8\" class=\"data row35 col8\" >14177</td>\n",
       "                        <td id=\"T_bb8a3ee3_25ef_11eb_bdbd_34e6ad4876e0row35_col9\" class=\"data row35 col9\" >25.61%</td>\n",
       "                        <td id=\"T_bb8a3ee3_25ef_11eb_bdbd_34e6ad4876e0row35_col10\" class=\"data row35 col10\" >18.76%</td>\n",
       "            </tr>\n",
       "            <tr>\n",
       "                        <th id=\"T_bb8a3ee3_25ef_11eb_bdbd_34e6ad4876e0level0_row36\" class=\"row_heading level0 row36\" >Tucson_AZ</th>\n",
       "                        <td id=\"T_bb8a3ee3_25ef_11eb_bdbd_34e6ad4876e0row36_col0\" class=\"data row36 col0\" >32.154500</td>\n",
       "                        <td id=\"T_bb8a3ee3_25ef_11eb_bdbd_34e6ad4876e0row36_col1\" class=\"data row36 col1\" >-110.878200</td>\n",
       "                        <td id=\"T_bb8a3ee3_25ef_11eb_bdbd_34e6ad4876e0row36_col2\" class=\"data row36 col2\" >888486.000000</td>\n",
       "                        <td id=\"T_bb8a3ee3_25ef_11eb_bdbd_34e6ad4876e0row36_col3\" class=\"data row36 col3\" >889.000000</td>\n",
       "                        <td id=\"T_bb8a3ee3_25ef_11eb_bdbd_34e6ad4876e0row36_col4\" class=\"data row36 col4\" >2</td>\n",
       "                        <td id=\"T_bb8a3ee3_25ef_11eb_bdbd_34e6ad4876e0row36_col5\" class=\"data row36 col5\" >85705</td>\n",
       "                        <td id=\"T_bb8a3ee3_25ef_11eb_bdbd_34e6ad4876e0row36_col6\" class=\"data row36 col6\" >56169.000000</td>\n",
       "                        <td id=\"T_bb8a3ee3_25ef_11eb_bdbd_34e6ad4876e0row36_col7\" class=\"data row36 col7\" >76892.000000</td>\n",
       "                        <td id=\"T_bb8a3ee3_25ef_11eb_bdbd_34e6ad4876e0row36_col8\" class=\"data row36 col8\" >14369</td>\n",
       "                        <td id=\"T_bb8a3ee3_25ef_11eb_bdbd_34e6ad4876e0row36_col9\" class=\"data row36 col9\" >25.58%</td>\n",
       "                        <td id=\"T_bb8a3ee3_25ef_11eb_bdbd_34e6ad4876e0row36_col10\" class=\"data row36 col10\" >18.69%</td>\n",
       "            </tr>\n",
       "            <tr>\n",
       "                        <th id=\"T_bb8a3ee3_25ef_11eb_bdbd_34e6ad4876e0level0_row37\" class=\"row_heading level0 row37\" >Atlanta_GA</th>\n",
       "                        <td id=\"T_bb8a3ee3_25ef_11eb_bdbd_34e6ad4876e0row37_col0\" class=\"data row37 col0\" >33.762700</td>\n",
       "                        <td id=\"T_bb8a3ee3_25ef_11eb_bdbd_34e6ad4876e0row37_col1\" class=\"data row37 col1\" >-84.422400</td>\n",
       "                        <td id=\"T_bb8a3ee3_25ef_11eb_bdbd_34e6ad4876e0row37_col2\" class=\"data row37 col2\" >5449398.000000</td>\n",
       "                        <td id=\"T_bb8a3ee3_25ef_11eb_bdbd_34e6ad4876e0row37_col3\" class=\"data row37 col3\" >1441.000000</td>\n",
       "                        <td id=\"T_bb8a3ee3_25ef_11eb_bdbd_34e6ad4876e0row37_col4\" class=\"data row37 col4\" >1</td>\n",
       "                        <td id=\"T_bb8a3ee3_25ef_11eb_bdbd_34e6ad4876e0row37_col5\" class=\"data row37 col5\" >30334</td>\n",
       "                        <td id=\"T_bb8a3ee3_25ef_11eb_bdbd_34e6ad4876e0row37_col6\" class=\"data row37 col6\" >71742.000000</td>\n",
       "                        <td id=\"T_bb8a3ee3_25ef_11eb_bdbd_34e6ad4876e0row37_col7\" class=\"data row37 col7\" >99456.000000</td>\n",
       "                        <td id=\"T_bb8a3ee3_25ef_11eb_bdbd_34e6ad4876e0row37_col8\" class=\"data row37 col8\" >18247</td>\n",
       "                        <td id=\"T_bb8a3ee3_25ef_11eb_bdbd_34e6ad4876e0row37_col9\" class=\"data row37 col9\" >25.43%</td>\n",
       "                        <td id=\"T_bb8a3ee3_25ef_11eb_bdbd_34e6ad4876e0row37_col10\" class=\"data row37 col10\" >18.35%</td>\n",
       "            </tr>\n",
       "            <tr>\n",
       "                        <th id=\"T_bb8a3ee3_25ef_11eb_bdbd_34e6ad4876e0level0_row38\" class=\"row_heading level0 row38\" >Philadelphia_PA</th>\n",
       "                        <td id=\"T_bb8a3ee3_25ef_11eb_bdbd_34e6ad4876e0row38_col0\" class=\"data row38 col0\" >40.007700</td>\n",
       "                        <td id=\"T_bb8a3ee3_25ef_11eb_bdbd_34e6ad4876e0row38_col1\" class=\"data row38 col1\" >-75.133900</td>\n",
       "                        <td id=\"T_bb8a3ee3_25ef_11eb_bdbd_34e6ad4876e0row38_col2\" class=\"data row38 col2\" >5649300.000000</td>\n",
       "                        <td id=\"T_bb8a3ee3_25ef_11eb_bdbd_34e6ad4876e0row38_col3\" class=\"data row38 col3\" >4554.000000</td>\n",
       "                        <td id=\"T_bb8a3ee3_25ef_11eb_bdbd_34e6ad4876e0row38_col4\" class=\"data row38 col4\" >1</td>\n",
       "                        <td id=\"T_bb8a3ee3_25ef_11eb_bdbd_34e6ad4876e0row38_col5\" class=\"data row38 col5\" >19154</td>\n",
       "                        <td id=\"T_bb8a3ee3_25ef_11eb_bdbd_34e6ad4876e0row38_col6\" class=\"data row38 col6\" >74533.000000</td>\n",
       "                        <td id=\"T_bb8a3ee3_25ef_11eb_bdbd_34e6ad4876e0row38_col7\" class=\"data row38 col7\" >104703.000000</td>\n",
       "                        <td id=\"T_bb8a3ee3_25ef_11eb_bdbd_34e6ad4876e0row38_col8\" class=\"data row38 col8\" >18942</td>\n",
       "                        <td id=\"T_bb8a3ee3_25ef_11eb_bdbd_34e6ad4876e0row38_col9\" class=\"data row38 col9\" >25.41%</td>\n",
       "                        <td id=\"T_bb8a3ee3_25ef_11eb_bdbd_34e6ad4876e0row38_col10\" class=\"data row38 col10\" >18.09%</td>\n",
       "            </tr>\n",
       "            <tr>\n",
       "                        <th id=\"T_bb8a3ee3_25ef_11eb_bdbd_34e6ad4876e0level0_row39\" class=\"row_heading level0 row39\" >Greeley_CO</th>\n",
       "                        <td id=\"T_bb8a3ee3_25ef_11eb_bdbd_34e6ad4876e0row39_col0\" class=\"data row39 col0\" >40.415100</td>\n",
       "                        <td id=\"T_bb8a3ee3_25ef_11eb_bdbd_34e6ad4876e0row39_col1\" class=\"data row39 col1\" >-104.770600</td>\n",
       "                        <td id=\"T_bb8a3ee3_25ef_11eb_bdbd_34e6ad4876e0row39_col2\" class=\"data row39 col2\" >137810.000000</td>\n",
       "                        <td id=\"T_bb8a3ee3_25ef_11eb_bdbd_34e6ad4876e0row39_col3\" class=\"data row39 col3\" >858.000000</td>\n",
       "                        <td id=\"T_bb8a3ee3_25ef_11eb_bdbd_34e6ad4876e0row39_col4\" class=\"data row39 col4\" >2</td>\n",
       "                        <td id=\"T_bb8a3ee3_25ef_11eb_bdbd_34e6ad4876e0row39_col5\" class=\"data row39 col5\" >80634</td>\n",
       "                        <td id=\"T_bb8a3ee3_25ef_11eb_bdbd_34e6ad4876e0row39_col6\" class=\"data row39 col6\" >78615.000000</td>\n",
       "                        <td id=\"T_bb8a3ee3_25ef_11eb_bdbd_34e6ad4876e0row39_col7\" class=\"data row39 col7\" >95567.000000</td>\n",
       "                        <td id=\"T_bb8a3ee3_25ef_11eb_bdbd_34e6ad4876e0row39_col8\" class=\"data row39 col8\" >19956</td>\n",
       "                        <td id=\"T_bb8a3ee3_25ef_11eb_bdbd_34e6ad4876e0row39_col9\" class=\"data row39 col9\" >25.38%</td>\n",
       "                        <td id=\"T_bb8a3ee3_25ef_11eb_bdbd_34e6ad4876e0row39_col10\" class=\"data row39 col10\" >20.88%</td>\n",
       "            </tr>\n",
       "            <tr>\n",
       "                        <th id=\"T_bb8a3ee3_25ef_11eb_bdbd_34e6ad4876e0level0_row40\" class=\"row_heading level0 row40\" >San Antonio_TX</th>\n",
       "                        <td id=\"T_bb8a3ee3_25ef_11eb_bdbd_34e6ad4876e0row40_col0\" class=\"data row40 col0\" >29.465800</td>\n",
       "                        <td id=\"T_bb8a3ee3_25ef_11eb_bdbd_34e6ad4876e0row40_col1\" class=\"data row40 col1\" >-98.525300</td>\n",
       "                        <td id=\"T_bb8a3ee3_25ef_11eb_bdbd_34e6ad4876e0row40_col2\" class=\"data row40 col2\" >2049293.000000</td>\n",
       "                        <td id=\"T_bb8a3ee3_25ef_11eb_bdbd_34e6ad4876e0row40_col3\" class=\"data row40 col3\" >1231.000000</td>\n",
       "                        <td id=\"T_bb8a3ee3_25ef_11eb_bdbd_34e6ad4876e0row40_col4\" class=\"data row40 col4\" >1</td>\n",
       "                        <td id=\"T_bb8a3ee3_25ef_11eb_bdbd_34e6ad4876e0row40_col5\" class=\"data row40 col5\" >78112</td>\n",
       "                        <td id=\"T_bb8a3ee3_25ef_11eb_bdbd_34e6ad4876e0row40_col6\" class=\"data row40 col6\" >62355.000000</td>\n",
       "                        <td id=\"T_bb8a3ee3_25ef_11eb_bdbd_34e6ad4876e0row40_col7\" class=\"data row40 col7\" >84202.000000</td>\n",
       "                        <td id=\"T_bb8a3ee3_25ef_11eb_bdbd_34e6ad4876e0row40_col8\" class=\"data row40 col8\" >15761</td>\n",
       "                        <td id=\"T_bb8a3ee3_25ef_11eb_bdbd_34e6ad4876e0row40_col9\" class=\"data row40 col9\" >25.28%</td>\n",
       "                        <td id=\"T_bb8a3ee3_25ef_11eb_bdbd_34e6ad4876e0row40_col10\" class=\"data row40 col10\" >18.72%</td>\n",
       "            </tr>\n",
       "            <tr>\n",
       "                        <th id=\"T_bb8a3ee3_25ef_11eb_bdbd_34e6ad4876e0level0_row41\" class=\"row_heading level0 row41\" >Greenville_SC</th>\n",
       "                        <td id=\"T_bb8a3ee3_25ef_11eb_bdbd_34e6ad4876e0row41_col0\" class=\"data row41 col0\" >34.835300</td>\n",
       "                        <td id=\"T_bb8a3ee3_25ef_11eb_bdbd_34e6ad4876e0row41_col1\" class=\"data row41 col1\" >-82.364700</td>\n",
       "                        <td id=\"T_bb8a3ee3_25ef_11eb_bdbd_34e6ad4876e0row41_col2\" class=\"data row41 col2\" >484465.000000</td>\n",
       "                        <td id=\"T_bb8a3ee3_25ef_11eb_bdbd_34e6ad4876e0row41_col3\" class=\"data row41 col3\" >920.000000</td>\n",
       "                        <td id=\"T_bb8a3ee3_25ef_11eb_bdbd_34e6ad4876e0row41_col4\" class=\"data row41 col4\" >2</td>\n",
       "                        <td id=\"T_bb8a3ee3_25ef_11eb_bdbd_34e6ad4876e0row41_col5\" class=\"data row41 col5\" >29614</td>\n",
       "                        <td id=\"T_bb8a3ee3_25ef_11eb_bdbd_34e6ad4876e0row41_col6\" class=\"data row41 col6\" >58621.000000</td>\n",
       "                        <td id=\"T_bb8a3ee3_25ef_11eb_bdbd_34e6ad4876e0row41_col7\" class=\"data row41 col7\" >81396.000000</td>\n",
       "                        <td id=\"T_bb8a3ee3_25ef_11eb_bdbd_34e6ad4876e0row41_col8\" class=\"data row41 col8\" >14713</td>\n",
       "                        <td id=\"T_bb8a3ee3_25ef_11eb_bdbd_34e6ad4876e0row41_col9\" class=\"data row41 col9\" >25.10%</td>\n",
       "                        <td id=\"T_bb8a3ee3_25ef_11eb_bdbd_34e6ad4876e0row41_col10\" class=\"data row41 col10\" >18.08%</td>\n",
       "            </tr>\n",
       "            <tr>\n",
       "                        <th id=\"T_bb8a3ee3_25ef_11eb_bdbd_34e6ad4876e0level0_row42\" class=\"row_heading level0 row42\" >Colorado Springs_CO</th>\n",
       "                        <td id=\"T_bb8a3ee3_25ef_11eb_bdbd_34e6ad4876e0row42_col0\" class=\"data row42 col0\" >38.867400</td>\n",
       "                        <td id=\"T_bb8a3ee3_25ef_11eb_bdbd_34e6ad4876e0row42_col1\" class=\"data row42 col1\" >-104.760600</td>\n",
       "                        <td id=\"T_bb8a3ee3_25ef_11eb_bdbd_34e6ad4876e0row42_col2\" class=\"data row42 col2\" >642413.000000</td>\n",
       "                        <td id=\"T_bb8a3ee3_25ef_11eb_bdbd_34e6ad4876e0row42_col3\" class=\"data row42 col3\" >946.000000</td>\n",
       "                        <td id=\"T_bb8a3ee3_25ef_11eb_bdbd_34e6ad4876e0row42_col4\" class=\"data row42 col4\" >2</td>\n",
       "                        <td id=\"T_bb8a3ee3_25ef_11eb_bdbd_34e6ad4876e0row42_col5\" class=\"data row42 col5\" >80951</td>\n",
       "                        <td id=\"T_bb8a3ee3_25ef_11eb_bdbd_34e6ad4876e0row42_col6\" class=\"data row42 col6\" >72633.000000</td>\n",
       "                        <td id=\"T_bb8a3ee3_25ef_11eb_bdbd_34e6ad4876e0row42_col7\" class=\"data row42 col7\" >93254.000000</td>\n",
       "                        <td id=\"T_bb8a3ee3_25ef_11eb_bdbd_34e6ad4876e0row42_col8\" class=\"data row42 col8\" >18087</td>\n",
       "                        <td id=\"T_bb8a3ee3_25ef_11eb_bdbd_34e6ad4876e0row42_col9\" class=\"data row42 col9\" >24.90%</td>\n",
       "                        <td id=\"T_bb8a3ee3_25ef_11eb_bdbd_34e6ad4876e0row42_col10\" class=\"data row42 col10\" >19.40%</td>\n",
       "            </tr>\n",
       "            <tr>\n",
       "                        <th id=\"T_bb8a3ee3_25ef_11eb_bdbd_34e6ad4876e0level0_row43\" class=\"row_heading level0 row43\" >Phoenix_AZ</th>\n",
       "                        <td id=\"T_bb8a3ee3_25ef_11eb_bdbd_34e6ad4876e0row43_col0\" class=\"data row43 col0\" >33.572200</td>\n",
       "                        <td id=\"T_bb8a3ee3_25ef_11eb_bdbd_34e6ad4876e0row43_col1\" class=\"data row43 col1\" >-112.089100</td>\n",
       "                        <td id=\"T_bb8a3ee3_25ef_11eb_bdbd_34e6ad4876e0row43_col2\" class=\"data row43 col2\" >4219697.000000</td>\n",
       "                        <td id=\"T_bb8a3ee3_25ef_11eb_bdbd_34e6ad4876e0row43_col3\" class=\"data row43 col3\" >1253.000000</td>\n",
       "                        <td id=\"T_bb8a3ee3_25ef_11eb_bdbd_34e6ad4876e0row43_col4\" class=\"data row43 col4\" >1</td>\n",
       "                        <td id=\"T_bb8a3ee3_25ef_11eb_bdbd_34e6ad4876e0row43_col5\" class=\"data row43 col5\" >85008</td>\n",
       "                        <td id=\"T_bb8a3ee3_25ef_11eb_bdbd_34e6ad4876e0row43_col6\" class=\"data row43 col6\" >67896.000000</td>\n",
       "                        <td id=\"T_bb8a3ee3_25ef_11eb_bdbd_34e6ad4876e0row43_col7\" class=\"data row43 col7\" >91755.000000</td>\n",
       "                        <td id=\"T_bb8a3ee3_25ef_11eb_bdbd_34e6ad4876e0row43_col8\" class=\"data row43 col8\" >16823</td>\n",
       "                        <td id=\"T_bb8a3ee3_25ef_11eb_bdbd_34e6ad4876e0row43_col9\" class=\"data row43 col9\" >24.78%</td>\n",
       "                        <td id=\"T_bb8a3ee3_25ef_11eb_bdbd_34e6ad4876e0row43_col10\" class=\"data row43 col10\" >18.33%</td>\n",
       "            </tr>\n",
       "            <tr>\n",
       "                        <th id=\"T_bb8a3ee3_25ef_11eb_bdbd_34e6ad4876e0level0_row44\" class=\"row_heading level0 row44\" >Portland_OR</th>\n",
       "                        <td id=\"T_bb8a3ee3_25ef_11eb_bdbd_34e6ad4876e0row44_col0\" class=\"data row44 col0\" >45.537200</td>\n",
       "                        <td id=\"T_bb8a3ee3_25ef_11eb_bdbd_34e6ad4876e0row44_col1\" class=\"data row44 col1\" >-122.650000</td>\n",
       "                        <td id=\"T_bb8a3ee3_25ef_11eb_bdbd_34e6ad4876e0row44_col2\" class=\"data row44 col2\" >2074775.000000</td>\n",
       "                        <td id=\"T_bb8a3ee3_25ef_11eb_bdbd_34e6ad4876e0row44_col3\" class=\"data row44 col3\" >1894.000000</td>\n",
       "                        <td id=\"T_bb8a3ee3_25ef_11eb_bdbd_34e6ad4876e0row44_col4\" class=\"data row44 col4\" >1</td>\n",
       "                        <td id=\"T_bb8a3ee3_25ef_11eb_bdbd_34e6ad4876e0row44_col5\" class=\"data row44 col5\" >97227</td>\n",
       "                        <td id=\"T_bb8a3ee3_25ef_11eb_bdbd_34e6ad4876e0row44_col6\" class=\"data row44 col6\" >78439.000000</td>\n",
       "                        <td id=\"T_bb8a3ee3_25ef_11eb_bdbd_34e6ad4876e0row44_col7\" class=\"data row44 col7\" >102007.000000</td>\n",
       "                        <td id=\"T_bb8a3ee3_25ef_11eb_bdbd_34e6ad4876e0row44_col8\" class=\"data row44 col8\" >19425</td>\n",
       "                        <td id=\"T_bb8a3ee3_25ef_11eb_bdbd_34e6ad4876e0row44_col9\" class=\"data row44 col9\" >24.76%</td>\n",
       "                        <td id=\"T_bb8a3ee3_25ef_11eb_bdbd_34e6ad4876e0row44_col10\" class=\"data row44 col10\" >19.04%</td>\n",
       "            </tr>\n",
       "            <tr>\n",
       "                        <th id=\"T_bb8a3ee3_25ef_11eb_bdbd_34e6ad4876e0level0_row45\" class=\"row_heading level0 row45\" >Denver_CO</th>\n",
       "                        <td id=\"T_bb8a3ee3_25ef_11eb_bdbd_34e6ad4876e0row45_col0\" class=\"data row45 col0\" >39.762100</td>\n",
       "                        <td id=\"T_bb8a3ee3_25ef_11eb_bdbd_34e6ad4876e0row45_col1\" class=\"data row45 col1\" >-104.875900</td>\n",
       "                        <td id=\"T_bb8a3ee3_25ef_11eb_bdbd_34e6ad4876e0row45_col2\" class=\"data row45 col2\" >2876625.000000</td>\n",
       "                        <td id=\"T_bb8a3ee3_25ef_11eb_bdbd_34e6ad4876e0row45_col3\" class=\"data row45 col3\" >1831.000000</td>\n",
       "                        <td id=\"T_bb8a3ee3_25ef_11eb_bdbd_34e6ad4876e0row45_col4\" class=\"data row45 col4\" >1</td>\n",
       "                        <td id=\"T_bb8a3ee3_25ef_11eb_bdbd_34e6ad4876e0row45_col5\" class=\"data row45 col5\" >80264</td>\n",
       "                        <td id=\"T_bb8a3ee3_25ef_11eb_bdbd_34e6ad4876e0row45_col6\" class=\"data row45 col6\" >85641.000000</td>\n",
       "                        <td id=\"T_bb8a3ee3_25ef_11eb_bdbd_34e6ad4876e0row45_col7\" class=\"data row45 col7\" >112940.000000</td>\n",
       "                        <td id=\"T_bb8a3ee3_25ef_11eb_bdbd_34e6ad4876e0row45_col8\" class=\"data row45 col8\" >20984</td>\n",
       "                        <td id=\"T_bb8a3ee3_25ef_11eb_bdbd_34e6ad4876e0row45_col9\" class=\"data row45 col9\" >24.50%</td>\n",
       "                        <td id=\"T_bb8a3ee3_25ef_11eb_bdbd_34e6ad4876e0row45_col10\" class=\"data row45 col10\" >18.58%</td>\n",
       "            </tr>\n",
       "            <tr>\n",
       "                        <th id=\"T_bb8a3ee3_25ef_11eb_bdbd_34e6ad4876e0level0_row46\" class=\"row_heading level0 row46\" >Seattle_WA</th>\n",
       "                        <td id=\"T_bb8a3ee3_25ef_11eb_bdbd_34e6ad4876e0row46_col0\" class=\"data row46 col0\" >47.621100</td>\n",
       "                        <td id=\"T_bb8a3ee3_25ef_11eb_bdbd_34e6ad4876e0row46_col1\" class=\"data row46 col1\" >-122.324400</td>\n",
       "                        <td id=\"T_bb8a3ee3_25ef_11eb_bdbd_34e6ad4876e0row46_col2\" class=\"data row46 col2\" >3789215.000000</td>\n",
       "                        <td id=\"T_bb8a3ee3_25ef_11eb_bdbd_34e6ad4876e0row46_col3\" class=\"data row46 col3\" >3469.000000</td>\n",
       "                        <td id=\"T_bb8a3ee3_25ef_11eb_bdbd_34e6ad4876e0row46_col4\" class=\"data row46 col4\" >1</td>\n",
       "                        <td id=\"T_bb8a3ee3_25ef_11eb_bdbd_34e6ad4876e0row46_col5\" class=\"data row46 col5\" >98109</td>\n",
       "                        <td id=\"T_bb8a3ee3_25ef_11eb_bdbd_34e6ad4876e0row46_col6\" class=\"data row46 col6\" >94027.000000</td>\n",
       "                        <td id=\"T_bb8a3ee3_25ef_11eb_bdbd_34e6ad4876e0row46_col7\" class=\"data row46 col7\" >124501.000000</td>\n",
       "                        <td id=\"T_bb8a3ee3_25ef_11eb_bdbd_34e6ad4876e0row46_col8\" class=\"data row46 col8\" >23007</td>\n",
       "                        <td id=\"T_bb8a3ee3_25ef_11eb_bdbd_34e6ad4876e0row46_col9\" class=\"data row46 col9\" >24.47%</td>\n",
       "                        <td id=\"T_bb8a3ee3_25ef_11eb_bdbd_34e6ad4876e0row46_col10\" class=\"data row46 col10\" >18.48%</td>\n",
       "            </tr>\n",
       "            <tr>\n",
       "                        <th id=\"T_bb8a3ee3_25ef_11eb_bdbd_34e6ad4876e0level0_row47\" class=\"row_heading level0 row47\" >Jacksonville_FL</th>\n",
       "                        <td id=\"T_bb8a3ee3_25ef_11eb_bdbd_34e6ad4876e0row47_col0\" class=\"data row47 col0\" >30.332200</td>\n",
       "                        <td id=\"T_bb8a3ee3_25ef_11eb_bdbd_34e6ad4876e0row47_col1\" class=\"data row47 col1\" >-81.674900</td>\n",
       "                        <td id=\"T_bb8a3ee3_25ef_11eb_bdbd_34e6ad4876e0row47_col2\" class=\"data row47 col2\" >1181496.000000</td>\n",
       "                        <td id=\"T_bb8a3ee3_25ef_11eb_bdbd_34e6ad4876e0row47_col3\" class=\"data row47 col3\" >470.000000</td>\n",
       "                        <td id=\"T_bb8a3ee3_25ef_11eb_bdbd_34e6ad4876e0row47_col4\" class=\"data row47 col4\" >1</td>\n",
       "                        <td id=\"T_bb8a3ee3_25ef_11eb_bdbd_34e6ad4876e0row47_col5\" class=\"data row47 col5\" >32224</td>\n",
       "                        <td id=\"T_bb8a3ee3_25ef_11eb_bdbd_34e6ad4876e0row47_col6\" class=\"data row47 col6\" >65880.000000</td>\n",
       "                        <td id=\"T_bb8a3ee3_25ef_11eb_bdbd_34e6ad4876e0row47_col7\" class=\"data row47 col7\" >88458.000000</td>\n",
       "                        <td id=\"T_bb8a3ee3_25ef_11eb_bdbd_34e6ad4876e0row47_col8\" class=\"data row47 col8\" >16080</td>\n",
       "                        <td id=\"T_bb8a3ee3_25ef_11eb_bdbd_34e6ad4876e0row47_col9\" class=\"data row47 col9\" >24.41%</td>\n",
       "                        <td id=\"T_bb8a3ee3_25ef_11eb_bdbd_34e6ad4876e0row47_col10\" class=\"data row47 col10\" >18.18%</td>\n",
       "            </tr>\n",
       "            <tr>\n",
       "                        <th id=\"T_bb8a3ee3_25ef_11eb_bdbd_34e6ad4876e0level0_row48\" class=\"row_heading level0 row48\" >Columbia_SC</th>\n",
       "                        <td id=\"T_bb8a3ee3_25ef_11eb_bdbd_34e6ad4876e0row48_col0\" class=\"data row48 col0\" >34.037600</td>\n",
       "                        <td id=\"T_bb8a3ee3_25ef_11eb_bdbd_34e6ad4876e0row48_col1\" class=\"data row48 col1\" >-80.903700</td>\n",
       "                        <td id=\"T_bb8a3ee3_25ef_11eb_bdbd_34e6ad4876e0row48_col2\" class=\"data row48 col2\" >560041.000000</td>\n",
       "                        <td id=\"T_bb8a3ee3_25ef_11eb_bdbd_34e6ad4876e0row48_col3\" class=\"data row48 col3\" >373.000000</td>\n",
       "                        <td id=\"T_bb8a3ee3_25ef_11eb_bdbd_34e6ad4876e0row48_col4\" class=\"data row48 col4\" >2</td>\n",
       "                        <td id=\"T_bb8a3ee3_25ef_11eb_bdbd_34e6ad4876e0row48_col5\" class=\"data row48 col5\" >29202</td>\n",
       "                        <td id=\"T_bb8a3ee3_25ef_11eb_bdbd_34e6ad4876e0row48_col6\" class=\"data row48 col6\" >55725.000000</td>\n",
       "                        <td id=\"T_bb8a3ee3_25ef_11eb_bdbd_34e6ad4876e0row48_col7\" class=\"data row48 col7\" >78022.000000</td>\n",
       "                        <td id=\"T_bb8a3ee3_25ef_11eb_bdbd_34e6ad4876e0row48_col8\" class=\"data row48 col8\" >13582</td>\n",
       "                        <td id=\"T_bb8a3ee3_25ef_11eb_bdbd_34e6ad4876e0row48_col9\" class=\"data row48 col9\" >24.37%</td>\n",
       "                        <td id=\"T_bb8a3ee3_25ef_11eb_bdbd_34e6ad4876e0row48_col10\" class=\"data row48 col10\" >17.41%</td>\n",
       "            </tr>\n",
       "            <tr>\n",
       "                        <th id=\"T_bb8a3ee3_25ef_11eb_bdbd_34e6ad4876e0level0_row49\" class=\"row_heading level0 row49\" >Gainesville_GA</th>\n",
       "                        <td id=\"T_bb8a3ee3_25ef_11eb_bdbd_34e6ad4876e0row49_col0\" class=\"data row49 col0\" >34.290300</td>\n",
       "                        <td id=\"T_bb8a3ee3_25ef_11eb_bdbd_34e6ad4876e0row49_col1\" class=\"data row49 col1\" >-83.830100</td>\n",
       "                        <td id=\"T_bb8a3ee3_25ef_11eb_bdbd_34e6ad4876e0row49_col2\" class=\"data row49 col2\" >167371.000000</td>\n",
       "                        <td id=\"T_bb8a3ee3_25ef_11eb_bdbd_34e6ad4876e0row49_col3\" class=\"data row49 col3\" >506.000000</td>\n",
       "                        <td id=\"T_bb8a3ee3_25ef_11eb_bdbd_34e6ad4876e0row49_col4\" class=\"data row49 col4\" >2</td>\n",
       "                        <td id=\"T_bb8a3ee3_25ef_11eb_bdbd_34e6ad4876e0row49_col5\" class=\"data row49 col5\" >30501</td>\n",
       "                        <td id=\"T_bb8a3ee3_25ef_11eb_bdbd_34e6ad4876e0row49_col6\" class=\"data row49 col6\" >67467.000000</td>\n",
       "                        <td id=\"T_bb8a3ee3_25ef_11eb_bdbd_34e6ad4876e0row49_col7\" class=\"data row49 col7\" >96366.000000</td>\n",
       "                        <td id=\"T_bb8a3ee3_25ef_11eb_bdbd_34e6ad4876e0row49_col8\" class=\"data row49 col8\" >16375</td>\n",
       "                        <td id=\"T_bb8a3ee3_25ef_11eb_bdbd_34e6ad4876e0row49_col9\" class=\"data row49 col9\" >24.27%</td>\n",
       "                        <td id=\"T_bb8a3ee3_25ef_11eb_bdbd_34e6ad4876e0row49_col10\" class=\"data row49 col10\" >16.99%</td>\n",
       "            </tr>\n",
       "            <tr>\n",
       "                        <th id=\"T_bb8a3ee3_25ef_11eb_bdbd_34e6ad4876e0level0_row50\" class=\"row_heading level0 row50\" >New Haven_CT</th>\n",
       "                        <td id=\"T_bb8a3ee3_25ef_11eb_bdbd_34e6ad4876e0row50_col0\" class=\"data row50 col0\" >41.311200</td>\n",
       "                        <td id=\"T_bb8a3ee3_25ef_11eb_bdbd_34e6ad4876e0row50_col1\" class=\"data row50 col1\" >-72.924600</td>\n",
       "                        <td id=\"T_bb8a3ee3_25ef_11eb_bdbd_34e6ad4876e0row50_col2\" class=\"data row50 col2\" >564830.000000</td>\n",
       "                        <td id=\"T_bb8a3ee3_25ef_11eb_bdbd_34e6ad4876e0row50_col3\" class=\"data row50 col3\" >2690.000000</td>\n",
       "                        <td id=\"T_bb8a3ee3_25ef_11eb_bdbd_34e6ad4876e0row50_col4\" class=\"data row50 col4\" >2</td>\n",
       "                        <td id=\"T_bb8a3ee3_25ef_11eb_bdbd_34e6ad4876e0row50_col5\" class=\"data row50 col5\" >06519</td>\n",
       "                        <td id=\"T_bb8a3ee3_25ef_11eb_bdbd_34e6ad4876e0row50_col6\" class=\"data row50 col6\" >69751.000000</td>\n",
       "                        <td id=\"T_bb8a3ee3_25ef_11eb_bdbd_34e6ad4876e0row50_col7\" class=\"data row50 col7\" >94695.000000</td>\n",
       "                        <td id=\"T_bb8a3ee3_25ef_11eb_bdbd_34e6ad4876e0row50_col8\" class=\"data row50 col8\" >16894</td>\n",
       "                        <td id=\"T_bb8a3ee3_25ef_11eb_bdbd_34e6ad4876e0row50_col9\" class=\"data row50 col9\" >24.22%</td>\n",
       "                        <td id=\"T_bb8a3ee3_25ef_11eb_bdbd_34e6ad4876e0row50_col10\" class=\"data row50 col10\" >17.84%</td>\n",
       "            </tr>\n",
       "            <tr>\n",
       "                        <th id=\"T_bb8a3ee3_25ef_11eb_bdbd_34e6ad4876e0level0_row51\" class=\"row_heading level0 row51\" >Augusta_GA</th>\n",
       "                        <td id=\"T_bb8a3ee3_25ef_11eb_bdbd_34e6ad4876e0row51_col0\" class=\"data row51 col0\" >33.364500</td>\n",
       "                        <td id=\"T_bb8a3ee3_25ef_11eb_bdbd_34e6ad4876e0row51_col1\" class=\"data row51 col1\" >-82.070800</td>\n",
       "                        <td id=\"T_bb8a3ee3_25ef_11eb_bdbd_34e6ad4876e0row51_col2\" class=\"data row51 col2\" >390809.000000</td>\n",
       "                        <td id=\"T_bb8a3ee3_25ef_11eb_bdbd_34e6ad4876e0row51_col3\" class=\"data row51 col3\" >252.000000</td>\n",
       "                        <td id=\"T_bb8a3ee3_25ef_11eb_bdbd_34e6ad4876e0row51_col4\" class=\"data row51 col4\" >2</td>\n",
       "                        <td id=\"T_bb8a3ee3_25ef_11eb_bdbd_34e6ad4876e0row51_col5\" class=\"data row51 col5\" >30912</td>\n",
       "                        <td id=\"T_bb8a3ee3_25ef_11eb_bdbd_34e6ad4876e0row51_col6\" class=\"data row51 col6\" >55143.000000</td>\n",
       "                        <td id=\"T_bb8a3ee3_25ef_11eb_bdbd_34e6ad4876e0row51_col7\" class=\"data row51 col7\" >74359.000000</td>\n",
       "                        <td id=\"T_bb8a3ee3_25ef_11eb_bdbd_34e6ad4876e0row51_col8\" class=\"data row51 col8\" >13300</td>\n",
       "                        <td id=\"T_bb8a3ee3_25ef_11eb_bdbd_34e6ad4876e0row51_col9\" class=\"data row51 col9\" >24.12%</td>\n",
       "                        <td id=\"T_bb8a3ee3_25ef_11eb_bdbd_34e6ad4876e0row51_col10\" class=\"data row51 col10\" >17.89%</td>\n",
       "            </tr>\n",
       "            <tr>\n",
       "                        <th id=\"T_bb8a3ee3_25ef_11eb_bdbd_34e6ad4876e0level0_row52\" class=\"row_heading level0 row52\" >Washington_DC</th>\n",
       "                        <td id=\"T_bb8a3ee3_25ef_11eb_bdbd_34e6ad4876e0row52_col0\" class=\"data row52 col0\" >38.904700</td>\n",
       "                        <td id=\"T_bb8a3ee3_25ef_11eb_bdbd_34e6ad4876e0row52_col1\" class=\"data row52 col1\" >-77.016300</td>\n",
       "                        <td id=\"T_bb8a3ee3_25ef_11eb_bdbd_34e6ad4876e0row52_col2\" class=\"data row52 col2\" >5379184.000000</td>\n",
       "                        <td id=\"T_bb8a3ee3_25ef_11eb_bdbd_34e6ad4876e0row52_col3\" class=\"data row52 col3\" >4457.000000</td>\n",
       "                        <td id=\"T_bb8a3ee3_25ef_11eb_bdbd_34e6ad4876e0row52_col4\" class=\"data row52 col4\" >1</td>\n",
       "                        <td id=\"T_bb8a3ee3_25ef_11eb_bdbd_34e6ad4876e0row52_col5\" class=\"data row52 col5\" >20010</td>\n",
       "                        <td id=\"T_bb8a3ee3_25ef_11eb_bdbd_34e6ad4876e0row52_col6\" class=\"data row52 col6\" >105659.000000</td>\n",
       "                        <td id=\"T_bb8a3ee3_25ef_11eb_bdbd_34e6ad4876e0row52_col7\" class=\"data row52 col7\" >138388.000000</td>\n",
       "                        <td id=\"T_bb8a3ee3_25ef_11eb_bdbd_34e6ad4876e0row52_col8\" class=\"data row52 col8\" >25314</td>\n",
       "                        <td id=\"T_bb8a3ee3_25ef_11eb_bdbd_34e6ad4876e0row52_col9\" class=\"data row52 col9\" >23.96%</td>\n",
       "                        <td id=\"T_bb8a3ee3_25ef_11eb_bdbd_34e6ad4876e0row52_col10\" class=\"data row52 col10\" >18.29%</td>\n",
       "            </tr>\n",
       "            <tr>\n",
       "                        <th id=\"T_bb8a3ee3_25ef_11eb_bdbd_34e6ad4876e0level0_row53\" class=\"row_heading level0 row53\" >Baltimore_MD</th>\n",
       "                        <td id=\"T_bb8a3ee3_25ef_11eb_bdbd_34e6ad4876e0row53_col0\" class=\"data row53 col0\" >39.305100</td>\n",
       "                        <td id=\"T_bb8a3ee3_25ef_11eb_bdbd_34e6ad4876e0row53_col1\" class=\"data row53 col1\" >-76.614400</td>\n",
       "                        <td id=\"T_bb8a3ee3_25ef_11eb_bdbd_34e6ad4876e0row53_col2\" class=\"data row53 col2\" >2106068.000000</td>\n",
       "                        <td id=\"T_bb8a3ee3_25ef_11eb_bdbd_34e6ad4876e0row53_col3\" class=\"data row53 col3\" >2830.000000</td>\n",
       "                        <td id=\"T_bb8a3ee3_25ef_11eb_bdbd_34e6ad4876e0row53_col4\" class=\"data row53 col4\" >1</td>\n",
       "                        <td id=\"T_bb8a3ee3_25ef_11eb_bdbd_34e6ad4876e0row53_col5\" class=\"data row53 col5\" >21218</td>\n",
       "                        <td id=\"T_bb8a3ee3_25ef_11eb_bdbd_34e6ad4876e0row53_col6\" class=\"data row53 col6\" >83160.000000</td>\n",
       "                        <td id=\"T_bb8a3ee3_25ef_11eb_bdbd_34e6ad4876e0row53_col7\" class=\"data row53 col7\" >110712.000000</td>\n",
       "                        <td id=\"T_bb8a3ee3_25ef_11eb_bdbd_34e6ad4876e0row53_col8\" class=\"data row53 col8\" >19856</td>\n",
       "                        <td id=\"T_bb8a3ee3_25ef_11eb_bdbd_34e6ad4876e0row53_col9\" class=\"data row53 col9\" >23.88%</td>\n",
       "                        <td id=\"T_bb8a3ee3_25ef_11eb_bdbd_34e6ad4876e0row53_col10\" class=\"data row53 col10\" >17.93%</td>\n",
       "            </tr>\n",
       "            <tr>\n",
       "                        <th id=\"T_bb8a3ee3_25ef_11eb_bdbd_34e6ad4876e0level0_row54\" class=\"row_heading level0 row54\" >Baton Rouge_LA</th>\n",
       "                        <td id=\"T_bb8a3ee3_25ef_11eb_bdbd_34e6ad4876e0row54_col0\" class=\"data row54 col0\" >30.441800</td>\n",
       "                        <td id=\"T_bb8a3ee3_25ef_11eb_bdbd_34e6ad4876e0row54_col1\" class=\"data row54 col1\" >-91.131000</td>\n",
       "                        <td id=\"T_bb8a3ee3_25ef_11eb_bdbd_34e6ad4876e0row54_col2\" class=\"data row54 col2\" >570308.000000</td>\n",
       "                        <td id=\"T_bb8a3ee3_25ef_11eb_bdbd_34e6ad4876e0row54_col3\" class=\"data row54 col3\" >983.000000</td>\n",
       "                        <td id=\"T_bb8a3ee3_25ef_11eb_bdbd_34e6ad4876e0row54_col4\" class=\"data row54 col4\" >2</td>\n",
       "                        <td id=\"T_bb8a3ee3_25ef_11eb_bdbd_34e6ad4876e0row54_col5\" class=\"data row54 col5\" >70836</td>\n",
       "                        <td id=\"T_bb8a3ee3_25ef_11eb_bdbd_34e6ad4876e0row54_col6\" class=\"data row54 col6\" >60746.000000</td>\n",
       "                        <td id=\"T_bb8a3ee3_25ef_11eb_bdbd_34e6ad4876e0row54_col7\" class=\"data row54 col7\" >83103.000000</td>\n",
       "                        <td id=\"T_bb8a3ee3_25ef_11eb_bdbd_34e6ad4876e0row54_col8\" class=\"data row54 col8\" >14254</td>\n",
       "                        <td id=\"T_bb8a3ee3_25ef_11eb_bdbd_34e6ad4876e0row54_col9\" class=\"data row54 col9\" >23.46%</td>\n",
       "                        <td id=\"T_bb8a3ee3_25ef_11eb_bdbd_34e6ad4876e0row54_col10\" class=\"data row54 col10\" >17.15%</td>\n",
       "            </tr>\n",
       "            <tr>\n",
       "                        <th id=\"T_bb8a3ee3_25ef_11eb_bdbd_34e6ad4876e0level0_row55\" class=\"row_heading level0 row55\" >Austin_TX</th>\n",
       "                        <td id=\"T_bb8a3ee3_25ef_11eb_bdbd_34e6ad4876e0row55_col0\" class=\"data row55 col0\" >30.300400</td>\n",
       "                        <td id=\"T_bb8a3ee3_25ef_11eb_bdbd_34e6ad4876e0row55_col1\" class=\"data row55 col1\" >-97.752200</td>\n",
       "                        <td id=\"T_bb8a3ee3_25ef_11eb_bdbd_34e6ad4876e0row55_col2\" class=\"data row55 col2\" >1687311.000000</td>\n",
       "                        <td id=\"T_bb8a3ee3_25ef_11eb_bdbd_34e6ad4876e0row55_col3\" class=\"data row55 col3\" >1181.000000</td>\n",
       "                        <td id=\"T_bb8a3ee3_25ef_11eb_bdbd_34e6ad4876e0row55_col4\" class=\"data row55 col4\" >1</td>\n",
       "                        <td id=\"T_bb8a3ee3_25ef_11eb_bdbd_34e6ad4876e0row55_col5\" class=\"data row55 col5\" >78749</td>\n",
       "                        <td id=\"T_bb8a3ee3_25ef_11eb_bdbd_34e6ad4876e0row55_col6\" class=\"data row55 col6\" >80954.000000</td>\n",
       "                        <td id=\"T_bb8a3ee3_25ef_11eb_bdbd_34e6ad4876e0row55_col7\" class=\"data row55 col7\" >109564.000000</td>\n",
       "                        <td id=\"T_bb8a3ee3_25ef_11eb_bdbd_34e6ad4876e0row55_col8\" class=\"data row55 col8\" >18651</td>\n",
       "                        <td id=\"T_bb8a3ee3_25ef_11eb_bdbd_34e6ad4876e0row55_col9\" class=\"data row55 col9\" >23.04%</td>\n",
       "                        <td id=\"T_bb8a3ee3_25ef_11eb_bdbd_34e6ad4876e0row55_col10\" class=\"data row55 col10\" >17.02%</td>\n",
       "            </tr>\n",
       "            <tr>\n",
       "                        <th id=\"T_bb8a3ee3_25ef_11eb_bdbd_34e6ad4876e0level0_row56\" class=\"row_heading level0 row56\" >Virginia Beach_VA</th>\n",
       "                        <td id=\"T_bb8a3ee3_25ef_11eb_bdbd_34e6ad4876e0row56_col0\" class=\"data row56 col0\" >36.733500</td>\n",
       "                        <td id=\"T_bb8a3ee3_25ef_11eb_bdbd_34e6ad4876e0row56_col1\" class=\"data row56 col1\" >-76.043500</td>\n",
       "                        <td id=\"T_bb8a3ee3_25ef_11eb_bdbd_34e6ad4876e0row56_col2\" class=\"data row56 col2\" >1478868.000000</td>\n",
       "                        <td id=\"T_bb8a3ee3_25ef_11eb_bdbd_34e6ad4876e0row56_col3\" class=\"data row56 col3\" >709.000000</td>\n",
       "                        <td id=\"T_bb8a3ee3_25ef_11eb_bdbd_34e6ad4876e0row56_col4\" class=\"data row56 col4\" >1</td>\n",
       "                        <td id=\"T_bb8a3ee3_25ef_11eb_bdbd_34e6ad4876e0row56_col5\" class=\"data row56 col5\" >23459</td>\n",
       "                        <td id=\"T_bb8a3ee3_25ef_11eb_bdbd_34e6ad4876e0row56_col6\" class=\"data row56 col6\" >69329.000000</td>\n",
       "                        <td id=\"T_bb8a3ee3_25ef_11eb_bdbd_34e6ad4876e0row56_col7\" class=\"data row56 col7\" >88024.000000</td>\n",
       "                        <td id=\"T_bb8a3ee3_25ef_11eb_bdbd_34e6ad4876e0row56_col8\" class=\"data row56 col8\" >15969</td>\n",
       "                        <td id=\"T_bb8a3ee3_25ef_11eb_bdbd_34e6ad4876e0row56_col9\" class=\"data row56 col9\" >23.03%</td>\n",
       "                        <td id=\"T_bb8a3ee3_25ef_11eb_bdbd_34e6ad4876e0row56_col10\" class=\"data row56 col10\" >18.14%</td>\n",
       "            </tr>\n",
       "            <tr>\n",
       "                        <th id=\"T_bb8a3ee3_25ef_11eb_bdbd_34e6ad4876e0level0_row57\" class=\"row_heading level0 row57\" >Detroit_MI</th>\n",
       "                        <td id=\"T_bb8a3ee3_25ef_11eb_bdbd_34e6ad4876e0row57_col0\" class=\"data row57 col0\" >42.383400</td>\n",
       "                        <td id=\"T_bb8a3ee3_25ef_11eb_bdbd_34e6ad4876e0row57_col1\" class=\"data row57 col1\" >-83.102400</td>\n",
       "                        <td id=\"T_bb8a3ee3_25ef_11eb_bdbd_34e6ad4876e0row57_col2\" class=\"data row57 col2\" >3506126.000000</td>\n",
       "                        <td id=\"T_bb8a3ee3_25ef_11eb_bdbd_34e6ad4876e0row57_col3\" class=\"data row57 col3\" >1864.000000</td>\n",
       "                        <td id=\"T_bb8a3ee3_25ef_11eb_bdbd_34e6ad4876e0row57_col4\" class=\"data row57 col4\" >1</td>\n",
       "                        <td id=\"T_bb8a3ee3_25ef_11eb_bdbd_34e6ad4876e0row57_col5\" class=\"data row57 col5\" >48209</td>\n",
       "                        <td id=\"T_bb8a3ee3_25ef_11eb_bdbd_34e6ad4876e0row57_col6\" class=\"data row57 col6\" >63474.000000</td>\n",
       "                        <td id=\"T_bb8a3ee3_25ef_11eb_bdbd_34e6ad4876e0row57_col7\" class=\"data row57 col7\" >86808.000000</td>\n",
       "                        <td id=\"T_bb8a3ee3_25ef_11eb_bdbd_34e6ad4876e0row57_col8\" class=\"data row57 col8\" >14619</td>\n",
       "                        <td id=\"T_bb8a3ee3_25ef_11eb_bdbd_34e6ad4876e0row57_col9\" class=\"data row57 col9\" >23.03%</td>\n",
       "                        <td id=\"T_bb8a3ee3_25ef_11eb_bdbd_34e6ad4876e0row57_col10\" class=\"data row57 col10\" >16.84%</td>\n",
       "            </tr>\n",
       "            <tr>\n",
       "                        <th id=\"T_bb8a3ee3_25ef_11eb_bdbd_34e6ad4876e0level0_row58\" class=\"row_heading level0 row58\" >Spokane_WA</th>\n",
       "                        <td id=\"T_bb8a3ee3_25ef_11eb_bdbd_34e6ad4876e0row58_col0\" class=\"data row58 col0\" >47.667100</td>\n",
       "                        <td id=\"T_bb8a3ee3_25ef_11eb_bdbd_34e6ad4876e0row58_col1\" class=\"data row58 col1\" >-117.433000</td>\n",
       "                        <td id=\"T_bb8a3ee3_25ef_11eb_bdbd_34e6ad4876e0row58_col2\" class=\"data row58 col2\" >412275.000000</td>\n",
       "                        <td id=\"T_bb8a3ee3_25ef_11eb_bdbd_34e6ad4876e0row58_col3\" class=\"data row58 col3\" >1247.000000</td>\n",
       "                        <td id=\"T_bb8a3ee3_25ef_11eb_bdbd_34e6ad4876e0row58_col4\" class=\"data row58 col4\" >2</td>\n",
       "                        <td id=\"T_bb8a3ee3_25ef_11eb_bdbd_34e6ad4876e0row58_col5\" class=\"data row58 col5\" >99201</td>\n",
       "                        <td id=\"T_bb8a3ee3_25ef_11eb_bdbd_34e6ad4876e0row58_col6\" class=\"data row58 col6\" >59646.000000</td>\n",
       "                        <td id=\"T_bb8a3ee3_25ef_11eb_bdbd_34e6ad4876e0row58_col7\" class=\"data row58 col7\" >80075.000000</td>\n",
       "                        <td id=\"T_bb8a3ee3_25ef_11eb_bdbd_34e6ad4876e0row58_col8\" class=\"data row58 col8\" >13725</td>\n",
       "                        <td id=\"T_bb8a3ee3_25ef_11eb_bdbd_34e6ad4876e0row58_col9\" class=\"data row58 col9\" >23.01%</td>\n",
       "                        <td id=\"T_bb8a3ee3_25ef_11eb_bdbd_34e6ad4876e0row58_col10\" class=\"data row58 col10\" >17.14%</td>\n",
       "            </tr>\n",
       "            <tr>\n",
       "                        <th id=\"T_bb8a3ee3_25ef_11eb_bdbd_34e6ad4876e0level0_row59\" class=\"row_heading level0 row59\" >Albuquerque_NM</th>\n",
       "                        <td id=\"T_bb8a3ee3_25ef_11eb_bdbd_34e6ad4876e0row59_col0\" class=\"data row59 col0\" >35.105300</td>\n",
       "                        <td id=\"T_bb8a3ee3_25ef_11eb_bdbd_34e6ad4876e0row59_col1\" class=\"data row59 col1\" >-106.646400</td>\n",
       "                        <td id=\"T_bb8a3ee3_25ef_11eb_bdbd_34e6ad4876e0row59_col2\" class=\"data row59 col2\" >761195.000000</td>\n",
       "                        <td id=\"T_bb8a3ee3_25ef_11eb_bdbd_34e6ad4876e0row59_col3\" class=\"data row59 col3\" >1155.000000</td>\n",
       "                        <td id=\"T_bb8a3ee3_25ef_11eb_bdbd_34e6ad4876e0row59_col4\" class=\"data row59 col4\" >2</td>\n",
       "                        <td id=\"T_bb8a3ee3_25ef_11eb_bdbd_34e6ad4876e0row59_col5\" class=\"data row59 col5\" >87121</td>\n",
       "                        <td id=\"T_bb8a3ee3_25ef_11eb_bdbd_34e6ad4876e0row59_col6\" class=\"data row59 col6\" >58512.000000</td>\n",
       "                        <td id=\"T_bb8a3ee3_25ef_11eb_bdbd_34e6ad4876e0row59_col7\" class=\"data row59 col7\" >79305.000000</td>\n",
       "                        <td id=\"T_bb8a3ee3_25ef_11eb_bdbd_34e6ad4876e0row59_col8\" class=\"data row59 col8\" >13464</td>\n",
       "                        <td id=\"T_bb8a3ee3_25ef_11eb_bdbd_34e6ad4876e0row59_col9\" class=\"data row59 col9\" >23.01%</td>\n",
       "                        <td id=\"T_bb8a3ee3_25ef_11eb_bdbd_34e6ad4876e0row59_col10\" class=\"data row59 col10\" >16.98%</td>\n",
       "            </tr>\n",
       "            <tr>\n",
       "                        <th id=\"T_bb8a3ee3_25ef_11eb_bdbd_34e6ad4876e0level0_row60\" class=\"row_heading level0 row60\" >Indianapolis_IN</th>\n",
       "                        <td id=\"T_bb8a3ee3_25ef_11eb_bdbd_34e6ad4876e0row60_col0\" class=\"data row60 col0\" >39.777100</td>\n",
       "                        <td id=\"T_bb8a3ee3_25ef_11eb_bdbd_34e6ad4876e0row60_col1\" class=\"data row60 col1\" >-86.145800</td>\n",
       "                        <td id=\"T_bb8a3ee3_25ef_11eb_bdbd_34e6ad4876e0row60_col2\" class=\"data row60 col2\" >1588961.000000</td>\n",
       "                        <td id=\"T_bb8a3ee3_25ef_11eb_bdbd_34e6ad4876e0row60_col3\" class=\"data row60 col3\" >935.000000</td>\n",
       "                        <td id=\"T_bb8a3ee3_25ef_11eb_bdbd_34e6ad4876e0row60_col4\" class=\"data row60 col4\" >1</td>\n",
       "                        <td id=\"T_bb8a3ee3_25ef_11eb_bdbd_34e6ad4876e0row60_col5\" class=\"data row60 col5\" >46218</td>\n",
       "                        <td id=\"T_bb8a3ee3_25ef_11eb_bdbd_34e6ad4876e0row60_col6\" class=\"data row60 col6\" >62502.000000</td>\n",
       "                        <td id=\"T_bb8a3ee3_25ef_11eb_bdbd_34e6ad4876e0row60_col7\" class=\"data row60 col7\" >89360.000000</td>\n",
       "                        <td id=\"T_bb8a3ee3_25ef_11eb_bdbd_34e6ad4876e0row60_col8\" class=\"data row60 col8\" >14351</td>\n",
       "                        <td id=\"T_bb8a3ee3_25ef_11eb_bdbd_34e6ad4876e0row60_col9\" class=\"data row60 col9\" >22.96%</td>\n",
       "                        <td id=\"T_bb8a3ee3_25ef_11eb_bdbd_34e6ad4876e0row60_col10\" class=\"data row60 col10\" >16.06%</td>\n",
       "            </tr>\n",
       "            <tr>\n",
       "                        <th id=\"T_bb8a3ee3_25ef_11eb_bdbd_34e6ad4876e0level0_row61\" class=\"row_heading level0 row61\" >Birmingham_AL</th>\n",
       "                        <td id=\"T_bb8a3ee3_25ef_11eb_bdbd_34e6ad4876e0row61_col0\" class=\"data row61 col0\" >33.527700</td>\n",
       "                        <td id=\"T_bb8a3ee3_25ef_11eb_bdbd_34e6ad4876e0row61_col1\" class=\"data row61 col1\" >-86.798700</td>\n",
       "                        <td id=\"T_bb8a3ee3_25ef_11eb_bdbd_34e6ad4876e0row61_col2\" class=\"data row61 col2\" >739573.000000</td>\n",
       "                        <td id=\"T_bb8a3ee3_25ef_11eb_bdbd_34e6ad4876e0row61_col3\" class=\"data row61 col3\" >553.000000</td>\n",
       "                        <td id=\"T_bb8a3ee3_25ef_11eb_bdbd_34e6ad4876e0row61_col4\" class=\"data row61 col4\" >2</td>\n",
       "                        <td id=\"T_bb8a3ee3_25ef_11eb_bdbd_34e6ad4876e0row61_col5\" class=\"data row61 col5\" >35218</td>\n",
       "                        <td id=\"T_bb8a3ee3_25ef_11eb_bdbd_34e6ad4876e0row61_col6\" class=\"data row61 col6\" >58366.000000</td>\n",
       "                        <td id=\"T_bb8a3ee3_25ef_11eb_bdbd_34e6ad4876e0row61_col7\" class=\"data row61 col7\" >82631.000000</td>\n",
       "                        <td id=\"T_bb8a3ee3_25ef_11eb_bdbd_34e6ad4876e0row61_col8\" class=\"data row61 col8\" >13310</td>\n",
       "                        <td id=\"T_bb8a3ee3_25ef_11eb_bdbd_34e6ad4876e0row61_col9\" class=\"data row61 col9\" >22.80%</td>\n",
       "                        <td id=\"T_bb8a3ee3_25ef_11eb_bdbd_34e6ad4876e0row61_col10\" class=\"data row61 col10\" >16.11%</td>\n",
       "            </tr>\n",
       "            <tr>\n",
       "                        <th id=\"T_bb8a3ee3_25ef_11eb_bdbd_34e6ad4876e0level0_row62\" class=\"row_heading level0 row62\" >Allentown_PA</th>\n",
       "                        <td id=\"T_bb8a3ee3_25ef_11eb_bdbd_34e6ad4876e0row62_col0\" class=\"data row62 col0\" >40.596100</td>\n",
       "                        <td id=\"T_bb8a3ee3_25ef_11eb_bdbd_34e6ad4876e0row62_col1\" class=\"data row62 col1\" >-75.475600</td>\n",
       "                        <td id=\"T_bb8a3ee3_25ef_11eb_bdbd_34e6ad4876e0row62_col2\" class=\"data row62 col2\" >683794.000000</td>\n",
       "                        <td id=\"T_bb8a3ee3_25ef_11eb_bdbd_34e6ad4876e0row62_col3\" class=\"data row62 col3\" >2672.000000</td>\n",
       "                        <td id=\"T_bb8a3ee3_25ef_11eb_bdbd_34e6ad4876e0row62_col4\" class=\"data row62 col4\" >2</td>\n",
       "                        <td id=\"T_bb8a3ee3_25ef_11eb_bdbd_34e6ad4876e0row62_col5\" class=\"data row62 col5\" >18105</td>\n",
       "                        <td id=\"T_bb8a3ee3_25ef_11eb_bdbd_34e6ad4876e0row62_col6\" class=\"data row62 col6\" >70793.000000</td>\n",
       "                        <td id=\"T_bb8a3ee3_25ef_11eb_bdbd_34e6ad4876e0row62_col7\" class=\"data row62 col7\" >90785.000000</td>\n",
       "                        <td id=\"T_bb8a3ee3_25ef_11eb_bdbd_34e6ad4876e0row62_col8\" class=\"data row62 col8\" >16038</td>\n",
       "                        <td id=\"T_bb8a3ee3_25ef_11eb_bdbd_34e6ad4876e0row62_col9\" class=\"data row62 col9\" >22.65%</td>\n",
       "                        <td id=\"T_bb8a3ee3_25ef_11eb_bdbd_34e6ad4876e0row62_col10\" class=\"data row62 col10\" >17.67%</td>\n",
       "            </tr>\n",
       "            <tr>\n",
       "                        <th id=\"T_bb8a3ee3_25ef_11eb_bdbd_34e6ad4876e0level0_row63\" class=\"row_heading level0 row63\" >Tulsa_OK</th>\n",
       "                        <td id=\"T_bb8a3ee3_25ef_11eb_bdbd_34e6ad4876e0row63_col0\" class=\"data row63 col0\" >36.128400</td>\n",
       "                        <td id=\"T_bb8a3ee3_25ef_11eb_bdbd_34e6ad4876e0row63_col1\" class=\"data row63 col1\" >-95.904200</td>\n",
       "                        <td id=\"T_bb8a3ee3_25ef_11eb_bdbd_34e6ad4876e0row63_col2\" class=\"data row63 col2\" >671033.000000</td>\n",
       "                        <td id=\"T_bb8a3ee3_25ef_11eb_bdbd_34e6ad4876e0row63_col3\" class=\"data row63 col3\" >784.000000</td>\n",
       "                        <td id=\"T_bb8a3ee3_25ef_11eb_bdbd_34e6ad4876e0row63_col4\" class=\"data row63 col4\" >2</td>\n",
       "                        <td id=\"T_bb8a3ee3_25ef_11eb_bdbd_34e6ad4876e0row63_col5\" class=\"data row63 col5\" >74133</td>\n",
       "                        <td id=\"T_bb8a3ee3_25ef_11eb_bdbd_34e6ad4876e0row63_col6\" class=\"data row63 col6\" >57859.000000</td>\n",
       "                        <td id=\"T_bb8a3ee3_25ef_11eb_bdbd_34e6ad4876e0row63_col7\" class=\"data row63 col7\" >81130.000000</td>\n",
       "                        <td id=\"T_bb8a3ee3_25ef_11eb_bdbd_34e6ad4876e0row63_col8\" class=\"data row63 col8\" >13036</td>\n",
       "                        <td id=\"T_bb8a3ee3_25ef_11eb_bdbd_34e6ad4876e0row63_col9\" class=\"data row63 col9\" >22.53%</td>\n",
       "                        <td id=\"T_bb8a3ee3_25ef_11eb_bdbd_34e6ad4876e0row63_col10\" class=\"data row63 col10\" >16.07%</td>\n",
       "            </tr>\n",
       "            <tr>\n",
       "                        <th id=\"T_bb8a3ee3_25ef_11eb_bdbd_34e6ad4876e0level0_row64\" class=\"row_heading level0 row64\" >Cleveland_OH</th>\n",
       "                        <td id=\"T_bb8a3ee3_25ef_11eb_bdbd_34e6ad4876e0row64_col0\" class=\"data row64 col0\" >41.476700</td>\n",
       "                        <td id=\"T_bb8a3ee3_25ef_11eb_bdbd_34e6ad4876e0row64_col1\" class=\"data row64 col1\" >-81.680400</td>\n",
       "                        <td id=\"T_bb8a3ee3_25ef_11eb_bdbd_34e6ad4876e0row64_col2\" class=\"data row64 col2\" >1710093.000000</td>\n",
       "                        <td id=\"T_bb8a3ee3_25ef_11eb_bdbd_34e6ad4876e0row64_col3\" class=\"data row64 col3\" >1893.000000</td>\n",
       "                        <td id=\"T_bb8a3ee3_25ef_11eb_bdbd_34e6ad4876e0row64_col4\" class=\"data row64 col4\" >1</td>\n",
       "                        <td id=\"T_bb8a3ee3_25ef_11eb_bdbd_34e6ad4876e0row64_col5\" class=\"data row64 col5\" >44135</td>\n",
       "                        <td id=\"T_bb8a3ee3_25ef_11eb_bdbd_34e6ad4876e0row64_col6\" class=\"data row64 col6\" >57228.000000</td>\n",
       "                        <td id=\"T_bb8a3ee3_25ef_11eb_bdbd_34e6ad4876e0row64_col7\" class=\"data row64 col7\" >79096.000000</td>\n",
       "                        <td id=\"T_bb8a3ee3_25ef_11eb_bdbd_34e6ad4876e0row64_col8\" class=\"data row64 col8\" >12850</td>\n",
       "                        <td id=\"T_bb8a3ee3_25ef_11eb_bdbd_34e6ad4876e0row64_col9\" class=\"data row64 col9\" >22.45%</td>\n",
       "                        <td id=\"T_bb8a3ee3_25ef_11eb_bdbd_34e6ad4876e0row64_col10\" class=\"data row64 col10\" >16.25%</td>\n",
       "            </tr>\n",
       "            <tr>\n",
       "                        <th id=\"T_bb8a3ee3_25ef_11eb_bdbd_34e6ad4876e0level0_row65\" class=\"row_heading level0 row65\" >Richmond_VA</th>\n",
       "                        <td id=\"T_bb8a3ee3_25ef_11eb_bdbd_34e6ad4876e0row65_col0\" class=\"data row65 col0\" >37.529500</td>\n",
       "                        <td id=\"T_bb8a3ee3_25ef_11eb_bdbd_34e6ad4876e0row65_col1\" class=\"data row65 col1\" >-77.475600</td>\n",
       "                        <td id=\"T_bb8a3ee3_25ef_11eb_bdbd_34e6ad4876e0row65_col2\" class=\"data row65 col2\" >1075798.000000</td>\n",
       "                        <td id=\"T_bb8a3ee3_25ef_11eb_bdbd_34e6ad4876e0row65_col3\" class=\"data row65 col3\" >1484.000000</td>\n",
       "                        <td id=\"T_bb8a3ee3_25ef_11eb_bdbd_34e6ad4876e0row65_col4\" class=\"data row65 col4\" >1</td>\n",
       "                        <td id=\"T_bb8a3ee3_25ef_11eb_bdbd_34e6ad4876e0row65_col5\" class=\"data row65 col5\" >23222</td>\n",
       "                        <td id=\"T_bb8a3ee3_25ef_11eb_bdbd_34e6ad4876e0row65_col6\" class=\"data row65 col6\" >68324.000000</td>\n",
       "                        <td id=\"T_bb8a3ee3_25ef_11eb_bdbd_34e6ad4876e0row65_col7\" class=\"data row65 col7\" >94725.000000</td>\n",
       "                        <td id=\"T_bb8a3ee3_25ef_11eb_bdbd_34e6ad4876e0row65_col8\" class=\"data row65 col8\" >15322</td>\n",
       "                        <td id=\"T_bb8a3ee3_25ef_11eb_bdbd_34e6ad4876e0row65_col9\" class=\"data row65 col9\" >22.43%</td>\n",
       "                        <td id=\"T_bb8a3ee3_25ef_11eb_bdbd_34e6ad4876e0row65_col10\" class=\"data row65 col10\" >16.18%</td>\n",
       "            </tr>\n",
       "            <tr>\n",
       "                        <th id=\"T_bb8a3ee3_25ef_11eb_bdbd_34e6ad4876e0level0_row66\" class=\"row_heading level0 row66\" >Columbus_OH</th>\n",
       "                        <td id=\"T_bb8a3ee3_25ef_11eb_bdbd_34e6ad4876e0row66_col0\" class=\"data row66 col0\" >39.986200</td>\n",
       "                        <td id=\"T_bb8a3ee3_25ef_11eb_bdbd_34e6ad4876e0row66_col1\" class=\"data row66 col1\" >-82.985000</td>\n",
       "                        <td id=\"T_bb8a3ee3_25ef_11eb_bdbd_34e6ad4876e0row66_col2\" class=\"data row66 col2\" >1562009.000000</td>\n",
       "                        <td id=\"T_bb8a3ee3_25ef_11eb_bdbd_34e6ad4876e0row66_col3\" class=\"data row66 col3\" >1582.000000</td>\n",
       "                        <td id=\"T_bb8a3ee3_25ef_11eb_bdbd_34e6ad4876e0row66_col4\" class=\"data row66 col4\" >1</td>\n",
       "                        <td id=\"T_bb8a3ee3_25ef_11eb_bdbd_34e6ad4876e0row66_col5\" class=\"data row66 col5\" >43026</td>\n",
       "                        <td id=\"T_bb8a3ee3_25ef_11eb_bdbd_34e6ad4876e0row66_col6\" class=\"data row66 col6\" >67207.000000</td>\n",
       "                        <td id=\"T_bb8a3ee3_25ef_11eb_bdbd_34e6ad4876e0row66_col7\" class=\"data row66 col7\" >91444.000000</td>\n",
       "                        <td id=\"T_bb8a3ee3_25ef_11eb_bdbd_34e6ad4876e0row66_col8\" class=\"data row66 col8\" >15057</td>\n",
       "                        <td id=\"T_bb8a3ee3_25ef_11eb_bdbd_34e6ad4876e0row66_col9\" class=\"data row66 col9\" >22.40%</td>\n",
       "                        <td id=\"T_bb8a3ee3_25ef_11eb_bdbd_34e6ad4876e0row66_col10\" class=\"data row66 col10\" >16.47%</td>\n",
       "            </tr>\n",
       "            <tr>\n",
       "                        <th id=\"T_bb8a3ee3_25ef_11eb_bdbd_34e6ad4876e0level0_row67\" class=\"row_heading level0 row67\" >Minneapolis_MN</th>\n",
       "                        <td id=\"T_bb8a3ee3_25ef_11eb_bdbd_34e6ad4876e0row67_col0\" class=\"data row67 col0\" >44.963500</td>\n",
       "                        <td id=\"T_bb8a3ee3_25ef_11eb_bdbd_34e6ad4876e0row67_col1\" class=\"data row67 col1\" >-93.267800</td>\n",
       "                        <td id=\"T_bb8a3ee3_25ef_11eb_bdbd_34e6ad4876e0row67_col2\" class=\"data row67 col2\" >2977172.000000</td>\n",
       "                        <td id=\"T_bb8a3ee3_25ef_11eb_bdbd_34e6ad4876e0row67_col3\" class=\"data row67 col3\" >3071.000000</td>\n",
       "                        <td id=\"T_bb8a3ee3_25ef_11eb_bdbd_34e6ad4876e0row67_col4\" class=\"data row67 col4\" >1</td>\n",
       "                        <td id=\"T_bb8a3ee3_25ef_11eb_bdbd_34e6ad4876e0row67_col5\" class=\"data row67 col5\" >55403</td>\n",
       "                        <td id=\"T_bb8a3ee3_25ef_11eb_bdbd_34e6ad4876e0row67_col6\" class=\"data row67 col6\" >83698.000000</td>\n",
       "                        <td id=\"T_bb8a3ee3_25ef_11eb_bdbd_34e6ad4876e0row67_col7\" class=\"data row67 col7\" >108523.000000</td>\n",
       "                        <td id=\"T_bb8a3ee3_25ef_11eb_bdbd_34e6ad4876e0row67_col8\" class=\"data row67 col8\" >18667</td>\n",
       "                        <td id=\"T_bb8a3ee3_25ef_11eb_bdbd_34e6ad4876e0row67_col9\" class=\"data row67 col9\" >22.30%</td>\n",
       "                        <td id=\"T_bb8a3ee3_25ef_11eb_bdbd_34e6ad4876e0row67_col10\" class=\"data row67 col10\" >17.20%</td>\n",
       "            </tr>\n",
       "            <tr>\n",
       "                        <th id=\"T_bb8a3ee3_25ef_11eb_bdbd_34e6ad4876e0level0_row68\" class=\"row_heading level0 row68\" >Raleigh_NC</th>\n",
       "                        <td id=\"T_bb8a3ee3_25ef_11eb_bdbd_34e6ad4876e0row68_col0\" class=\"data row68 col0\" >35.832500</td>\n",
       "                        <td id=\"T_bb8a3ee3_25ef_11eb_bdbd_34e6ad4876e0row68_col1\" class=\"data row68 col1\" >-78.643500</td>\n",
       "                        <td id=\"T_bb8a3ee3_25ef_11eb_bdbd_34e6ad4876e0row68_col2\" class=\"data row68 col2\" >1038738.000000</td>\n",
       "                        <td id=\"T_bb8a3ee3_25ef_11eb_bdbd_34e6ad4876e0row68_col3\" class=\"data row68 col3\" >1254.000000</td>\n",
       "                        <td id=\"T_bb8a3ee3_25ef_11eb_bdbd_34e6ad4876e0row68_col4\" class=\"data row68 col4\" >1</td>\n",
       "                        <td id=\"T_bb8a3ee3_25ef_11eb_bdbd_34e6ad4876e0row68_col5\" class=\"data row68 col5\" >27617</td>\n",
       "                        <td id=\"T_bb8a3ee3_25ef_11eb_bdbd_34e6ad4876e0row68_col6\" class=\"data row68 col6\" >80096.000000</td>\n",
       "                        <td id=\"T_bb8a3ee3_25ef_11eb_bdbd_34e6ad4876e0row68_col7\" class=\"data row68 col7\" >104962.000000</td>\n",
       "                        <td id=\"T_bb8a3ee3_25ef_11eb_bdbd_34e6ad4876e0row68_col8\" class=\"data row68 col8\" >17807</td>\n",
       "                        <td id=\"T_bb8a3ee3_25ef_11eb_bdbd_34e6ad4876e0row68_col9\" class=\"data row68 col9\" >22.23%</td>\n",
       "                        <td id=\"T_bb8a3ee3_25ef_11eb_bdbd_34e6ad4876e0row68_col10\" class=\"data row68 col10\" >16.97%</td>\n",
       "            </tr>\n",
       "            <tr>\n",
       "                        <th id=\"T_bb8a3ee3_25ef_11eb_bdbd_34e6ad4876e0level0_row69\" class=\"row_heading level0 row69\" >Worcester_MA</th>\n",
       "                        <td id=\"T_bb8a3ee3_25ef_11eb_bdbd_34e6ad4876e0row69_col0\" class=\"data row69 col0\" >42.270500</td>\n",
       "                        <td id=\"T_bb8a3ee3_25ef_11eb_bdbd_34e6ad4876e0row69_col1\" class=\"data row69 col1\" >-71.807900</td>\n",
       "                        <td id=\"T_bb8a3ee3_25ef_11eb_bdbd_34e6ad4876e0row69_col2\" class=\"data row69 col2\" >498328.000000</td>\n",
       "                        <td id=\"T_bb8a3ee3_25ef_11eb_bdbd_34e6ad4876e0row69_col3\" class=\"data row69 col3\" >1916.000000</td>\n",
       "                        <td id=\"T_bb8a3ee3_25ef_11eb_bdbd_34e6ad4876e0row69_col4\" class=\"data row69 col4\" >2</td>\n",
       "                        <td id=\"T_bb8a3ee3_25ef_11eb_bdbd_34e6ad4876e0row69_col5\" class=\"data row69 col5\" >01610</td>\n",
       "                        <td id=\"T_bb8a3ee3_25ef_11eb_bdbd_34e6ad4876e0row69_col6\" class=\"data row69 col6\" >76348.000000</td>\n",
       "                        <td id=\"T_bb8a3ee3_25ef_11eb_bdbd_34e6ad4876e0row69_col7\" class=\"data row69 col7\" >98878.000000</td>\n",
       "                        <td id=\"T_bb8a3ee3_25ef_11eb_bdbd_34e6ad4876e0row69_col8\" class=\"data row69 col8\" >16693</td>\n",
       "                        <td id=\"T_bb8a3ee3_25ef_11eb_bdbd_34e6ad4876e0row69_col9\" class=\"data row69 col9\" >21.86%</td>\n",
       "                        <td id=\"T_bb8a3ee3_25ef_11eb_bdbd_34e6ad4876e0row69_col10\" class=\"data row69 col10\" >16.88%</td>\n",
       "            </tr>\n",
       "            <tr>\n",
       "                        <th id=\"T_bb8a3ee3_25ef_11eb_bdbd_34e6ad4876e0level0_row70\" class=\"row_heading level0 row70\" >Grand Rapids_MI</th>\n",
       "                        <td id=\"T_bb8a3ee3_25ef_11eb_bdbd_34e6ad4876e0row70_col0\" class=\"data row70 col0\" >42.962000</td>\n",
       "                        <td id=\"T_bb8a3ee3_25ef_11eb_bdbd_34e6ad4876e0row70_col1\" class=\"data row70 col1\" >-85.656200</td>\n",
       "                        <td id=\"T_bb8a3ee3_25ef_11eb_bdbd_34e6ad4876e0row70_col2\" class=\"data row70 col2\" >609314.000000</td>\n",
       "                        <td id=\"T_bb8a3ee3_25ef_11eb_bdbd_34e6ad4876e0row70_col3\" class=\"data row70 col3\" >1734.000000</td>\n",
       "                        <td id=\"T_bb8a3ee3_25ef_11eb_bdbd_34e6ad4876e0row70_col4\" class=\"data row70 col4\" >2</td>\n",
       "                        <td id=\"T_bb8a3ee3_25ef_11eb_bdbd_34e6ad4876e0row70_col5\" class=\"data row70 col5\" >49546</td>\n",
       "                        <td id=\"T_bb8a3ee3_25ef_11eb_bdbd_34e6ad4876e0row70_col6\" class=\"data row70 col6\" >65739.000000</td>\n",
       "                        <td id=\"T_bb8a3ee3_25ef_11eb_bdbd_34e6ad4876e0row70_col7\" class=\"data row70 col7\" >85686.000000</td>\n",
       "                        <td id=\"T_bb8a3ee3_25ef_11eb_bdbd_34e6ad4876e0row70_col8\" class=\"data row70 col8\" >14164</td>\n",
       "                        <td id=\"T_bb8a3ee3_25ef_11eb_bdbd_34e6ad4876e0row70_col9\" class=\"data row70 col9\" >21.55%</td>\n",
       "                        <td id=\"T_bb8a3ee3_25ef_11eb_bdbd_34e6ad4876e0row70_col10\" class=\"data row70 col10\" >16.53%</td>\n",
       "            </tr>\n",
       "            <tr>\n",
       "                        <th id=\"T_bb8a3ee3_25ef_11eb_bdbd_34e6ad4876e0level0_row71\" class=\"row_heading level0 row71\" >Cincinnati_OH</th>\n",
       "                        <td id=\"T_bb8a3ee3_25ef_11eb_bdbd_34e6ad4876e0row71_col0\" class=\"data row71 col0\" >39.141300</td>\n",
       "                        <td id=\"T_bb8a3ee3_25ef_11eb_bdbd_34e6ad4876e0row71_col1\" class=\"data row71 col1\" >-84.506100</td>\n",
       "                        <td id=\"T_bb8a3ee3_25ef_11eb_bdbd_34e6ad4876e0row71_col2\" class=\"data row71 col2\" >1662691.000000</td>\n",
       "                        <td id=\"T_bb8a3ee3_25ef_11eb_bdbd_34e6ad4876e0row71_col3\" class=\"data row71 col3\" >1507.000000</td>\n",
       "                        <td id=\"T_bb8a3ee3_25ef_11eb_bdbd_34e6ad4876e0row71_col4\" class=\"data row71 col4\" >1</td>\n",
       "                        <td id=\"T_bb8a3ee3_25ef_11eb_bdbd_34e6ad4876e0row71_col5\" class=\"data row71 col5\" >45219</td>\n",
       "                        <td id=\"T_bb8a3ee3_25ef_11eb_bdbd_34e6ad4876e0row71_col6\" class=\"data row71 col6\" >66825.000000</td>\n",
       "                        <td id=\"T_bb8a3ee3_25ef_11eb_bdbd_34e6ad4876e0row71_col7\" class=\"data row71 col7\" >92064.000000</td>\n",
       "                        <td id=\"T_bb8a3ee3_25ef_11eb_bdbd_34e6ad4876e0row71_col8\" class=\"data row71 col8\" >14326</td>\n",
       "                        <td id=\"T_bb8a3ee3_25ef_11eb_bdbd_34e6ad4876e0row71_col9\" class=\"data row71 col9\" >21.44%</td>\n",
       "                        <td id=\"T_bb8a3ee3_25ef_11eb_bdbd_34e6ad4876e0row71_col10\" class=\"data row71 col10\" >15.56%</td>\n",
       "            </tr>\n",
       "            <tr>\n",
       "                        <th id=\"T_bb8a3ee3_25ef_11eb_bdbd_34e6ad4876e0level0_row72\" class=\"row_heading level0 row72\" >Pittsburgh_PA</th>\n",
       "                        <td id=\"T_bb8a3ee3_25ef_11eb_bdbd_34e6ad4876e0row72_col0\" class=\"data row72 col0\" >40.439600</td>\n",
       "                        <td id=\"T_bb8a3ee3_25ef_11eb_bdbd_34e6ad4876e0row72_col1\" class=\"data row72 col1\" >-79.976200</td>\n",
       "                        <td id=\"T_bb8a3ee3_25ef_11eb_bdbd_34e6ad4876e0row72_col2\" class=\"data row72 col2\" >1703266.000000</td>\n",
       "                        <td id=\"T_bb8a3ee3_25ef_11eb_bdbd_34e6ad4876e0row72_col3\" class=\"data row72 col3\" >2093.000000</td>\n",
       "                        <td id=\"T_bb8a3ee3_25ef_11eb_bdbd_34e6ad4876e0row72_col4\" class=\"data row72 col4\" >1</td>\n",
       "                        <td id=\"T_bb8a3ee3_25ef_11eb_bdbd_34e6ad4876e0row72_col5\" class=\"data row72 col5\" >15216</td>\n",
       "                        <td id=\"T_bb8a3ee3_25ef_11eb_bdbd_34e6ad4876e0row72_col6\" class=\"data row72 col6\" >62638.000000</td>\n",
       "                        <td id=\"T_bb8a3ee3_25ef_11eb_bdbd_34e6ad4876e0row72_col7\" class=\"data row72 col7\" >86458.000000</td>\n",
       "                        <td id=\"T_bb8a3ee3_25ef_11eb_bdbd_34e6ad4876e0row72_col8\" class=\"data row72 col8\" >13415</td>\n",
       "                        <td id=\"T_bb8a3ee3_25ef_11eb_bdbd_34e6ad4876e0row72_col9\" class=\"data row72 col9\" >21.42%</td>\n",
       "                        <td id=\"T_bb8a3ee3_25ef_11eb_bdbd_34e6ad4876e0row72_col10\" class=\"data row72 col10\" >15.52%</td>\n",
       "            </tr>\n",
       "            <tr>\n",
       "                        <th id=\"T_bb8a3ee3_25ef_11eb_bdbd_34e6ad4876e0level0_row73\" class=\"row_heading level0 row73\" >Hartford_CT</th>\n",
       "                        <td id=\"T_bb8a3ee3_25ef_11eb_bdbd_34e6ad4876e0row73_col0\" class=\"data row73 col0\" >41.766100</td>\n",
       "                        <td id=\"T_bb8a3ee3_25ef_11eb_bdbd_34e6ad4876e0row73_col1\" class=\"data row73 col1\" >-72.683400</td>\n",
       "                        <td id=\"T_bb8a3ee3_25ef_11eb_bdbd_34e6ad4876e0row73_col2\" class=\"data row73 col2\" >905152.000000</td>\n",
       "                        <td id=\"T_bb8a3ee3_25ef_11eb_bdbd_34e6ad4876e0row73_col3\" class=\"data row73 col3\" >2712.000000</td>\n",
       "                        <td id=\"T_bb8a3ee3_25ef_11eb_bdbd_34e6ad4876e0row73_col4\" class=\"data row73 col4\" >2</td>\n",
       "                        <td id=\"T_bb8a3ee3_25ef_11eb_bdbd_34e6ad4876e0row73_col5\" class=\"data row73 col5\" >06106</td>\n",
       "                        <td id=\"T_bb8a3ee3_25ef_11eb_bdbd_34e6ad4876e0row73_col6\" class=\"data row73 col6\" >77005.000000</td>\n",
       "                        <td id=\"T_bb8a3ee3_25ef_11eb_bdbd_34e6ad4876e0row73_col7\" class=\"data row73 col7\" >103730.000000</td>\n",
       "                        <td id=\"T_bb8a3ee3_25ef_11eb_bdbd_34e6ad4876e0row73_col8\" class=\"data row73 col8\" >16289</td>\n",
       "                        <td id=\"T_bb8a3ee3_25ef_11eb_bdbd_34e6ad4876e0row73_col9\" class=\"data row73 col9\" >21.15%</td>\n",
       "                        <td id=\"T_bb8a3ee3_25ef_11eb_bdbd_34e6ad4876e0row73_col10\" class=\"data row73 col10\" >15.70%</td>\n",
       "            </tr>\n",
       "            <tr>\n",
       "                        <th id=\"T_bb8a3ee3_25ef_11eb_bdbd_34e6ad4876e0level0_row74\" class=\"row_heading level0 row74\" >Albany_NY</th>\n",
       "                        <td id=\"T_bb8a3ee3_25ef_11eb_bdbd_34e6ad4876e0row74_col0\" class=\"data row74 col0\" >42.666400</td>\n",
       "                        <td id=\"T_bb8a3ee3_25ef_11eb_bdbd_34e6ad4876e0row74_col1\" class=\"data row74 col1\" >-73.798700</td>\n",
       "                        <td id=\"T_bb8a3ee3_25ef_11eb_bdbd_34e6ad4876e0row74_col2\" class=\"data row74 col2\" >586383.000000</td>\n",
       "                        <td id=\"T_bb8a3ee3_25ef_11eb_bdbd_34e6ad4876e0row74_col3\" class=\"data row74 col3\" >1740.000000</td>\n",
       "                        <td id=\"T_bb8a3ee3_25ef_11eb_bdbd_34e6ad4876e0row74_col4\" class=\"data row74 col4\" >2</td>\n",
       "                        <td id=\"T_bb8a3ee3_25ef_11eb_bdbd_34e6ad4876e0row74_col5\" class=\"data row74 col5\" >12208</td>\n",
       "                        <td id=\"T_bb8a3ee3_25ef_11eb_bdbd_34e6ad4876e0row74_col6\" class=\"data row74 col6\" >73398.000000</td>\n",
       "                        <td id=\"T_bb8a3ee3_25ef_11eb_bdbd_34e6ad4876e0row74_col7\" class=\"data row74 col7\" >92433.000000</td>\n",
       "                        <td id=\"T_bb8a3ee3_25ef_11eb_bdbd_34e6ad4876e0row74_col8\" class=\"data row74 col8\" >15492</td>\n",
       "                        <td id=\"T_bb8a3ee3_25ef_11eb_bdbd_34e6ad4876e0row74_col9\" class=\"data row74 col9\" >21.11%</td>\n",
       "                        <td id=\"T_bb8a3ee3_25ef_11eb_bdbd_34e6ad4876e0row74_col10\" class=\"data row74 col10\" >16.76%</td>\n",
       "            </tr>\n",
       "            <tr>\n",
       "                        <th id=\"T_bb8a3ee3_25ef_11eb_bdbd_34e6ad4876e0level0_row75\" class=\"row_heading level0 row75\" >Oklahoma City_OK</th>\n",
       "                        <td id=\"T_bb8a3ee3_25ef_11eb_bdbd_34e6ad4876e0row75_col0\" class=\"data row75 col0\" >35.467600</td>\n",
       "                        <td id=\"T_bb8a3ee3_25ef_11eb_bdbd_34e6ad4876e0row75_col1\" class=\"data row75 col1\" >-97.513600</td>\n",
       "                        <td id=\"T_bb8a3ee3_25ef_11eb_bdbd_34e6ad4876e0row75_col2\" class=\"data row75 col2\" >972943.000000</td>\n",
       "                        <td id=\"T_bb8a3ee3_25ef_11eb_bdbd_34e6ad4876e0row75_col3\" class=\"data row75 col3\" >417.000000</td>\n",
       "                        <td id=\"T_bb8a3ee3_25ef_11eb_bdbd_34e6ad4876e0row75_col4\" class=\"data row75 col4\" >2</td>\n",
       "                        <td id=\"T_bb8a3ee3_25ef_11eb_bdbd_34e6ad4876e0row75_col5\" class=\"data row75 col5\" >73012</td>\n",
       "                        <td id=\"T_bb8a3ee3_25ef_11eb_bdbd_34e6ad4876e0row75_col6\" class=\"data row75 col6\" >60605.000000</td>\n",
       "                        <td id=\"T_bb8a3ee3_25ef_11eb_bdbd_34e6ad4876e0row75_col7\" class=\"data row75 col7\" >83830.000000</td>\n",
       "                        <td id=\"T_bb8a3ee3_25ef_11eb_bdbd_34e6ad4876e0row75_col8\" class=\"data row75 col8\" >12645</td>\n",
       "                        <td id=\"T_bb8a3ee3_25ef_11eb_bdbd_34e6ad4876e0row75_col9\" class=\"data row75 col9\" >20.86%</td>\n",
       "                        <td id=\"T_bb8a3ee3_25ef_11eb_bdbd_34e6ad4876e0row75_col10\" class=\"data row75 col10\" >15.08%</td>\n",
       "            </tr>\n",
       "            <tr>\n",
       "                        <th id=\"T_bb8a3ee3_25ef_11eb_bdbd_34e6ad4876e0level0_row76\" class=\"row_heading level0 row76\" >Buffalo_NY</th>\n",
       "                        <td id=\"T_bb8a3ee3_25ef_11eb_bdbd_34e6ad4876e0row76_col0\" class=\"data row76 col0\" >42.901600</td>\n",
       "                        <td id=\"T_bb8a3ee3_25ef_11eb_bdbd_34e6ad4876e0row76_col1\" class=\"data row76 col1\" >-78.848700</td>\n",
       "                        <td id=\"T_bb8a3ee3_25ef_11eb_bdbd_34e6ad4876e0row76_col2\" class=\"data row76 col2\" >914341.000000</td>\n",
       "                        <td id=\"T_bb8a3ee3_25ef_11eb_bdbd_34e6ad4876e0row76_col3\" class=\"data row76 col3\" >2441.000000</td>\n",
       "                        <td id=\"T_bb8a3ee3_25ef_11eb_bdbd_34e6ad4876e0row76_col4\" class=\"data row76 col4\" >2</td>\n",
       "                        <td id=\"T_bb8a3ee3_25ef_11eb_bdbd_34e6ad4876e0row76_col5\" class=\"data row76 col5\" >14208</td>\n",
       "                        <td id=\"T_bb8a3ee3_25ef_11eb_bdbd_34e6ad4876e0row76_col6\" class=\"data row76 col6\" >60105.000000</td>\n",
       "                        <td id=\"T_bb8a3ee3_25ef_11eb_bdbd_34e6ad4876e0row76_col7\" class=\"data row76 col7\" >78749.000000</td>\n",
       "                        <td id=\"T_bb8a3ee3_25ef_11eb_bdbd_34e6ad4876e0row76_col8\" class=\"data row76 col8\" >12434</td>\n",
       "                        <td id=\"T_bb8a3ee3_25ef_11eb_bdbd_34e6ad4876e0row76_col9\" class=\"data row76 col9\" >20.69%</td>\n",
       "                        <td id=\"T_bb8a3ee3_25ef_11eb_bdbd_34e6ad4876e0row76_col10\" class=\"data row76 col10\" >15.79%</td>\n",
       "            </tr>\n",
       "            <tr>\n",
       "                        <th id=\"T_bb8a3ee3_25ef_11eb_bdbd_34e6ad4876e0level0_row77\" class=\"row_heading level0 row77\" >Rochester_NY</th>\n",
       "                        <td id=\"T_bb8a3ee3_25ef_11eb_bdbd_34e6ad4876e0row77_col0\" class=\"data row77 col0\" >43.168000</td>\n",
       "                        <td id=\"T_bb8a3ee3_25ef_11eb_bdbd_34e6ad4876e0row77_col1\" class=\"data row77 col1\" >-77.616200</td>\n",
       "                        <td id=\"T_bb8a3ee3_25ef_11eb_bdbd_34e6ad4876e0row77_col2\" class=\"data row77 col2\" >703952.000000</td>\n",
       "                        <td id=\"T_bb8a3ee3_25ef_11eb_bdbd_34e6ad4876e0row77_col3\" class=\"data row77 col3\" >2220.000000</td>\n",
       "                        <td id=\"T_bb8a3ee3_25ef_11eb_bdbd_34e6ad4876e0row77_col4\" class=\"data row77 col4\" >2</td>\n",
       "                        <td id=\"T_bb8a3ee3_25ef_11eb_bdbd_34e6ad4876e0row77_col5\" class=\"data row77 col5\" >14608</td>\n",
       "                        <td id=\"T_bb8a3ee3_25ef_11eb_bdbd_34e6ad4876e0row77_col6\" class=\"data row77 col6\" >62104.000000</td>\n",
       "                        <td id=\"T_bb8a3ee3_25ef_11eb_bdbd_34e6ad4876e0row77_col7\" class=\"data row77 col7\" >83768.000000</td>\n",
       "                        <td id=\"T_bb8a3ee3_25ef_11eb_bdbd_34e6ad4876e0row77_col8\" class=\"data row77 col8\" >12822</td>\n",
       "                        <td id=\"T_bb8a3ee3_25ef_11eb_bdbd_34e6ad4876e0row77_col9\" class=\"data row77 col9\" >20.65%</td>\n",
       "                        <td id=\"T_bb8a3ee3_25ef_11eb_bdbd_34e6ad4876e0row77_col10\" class=\"data row77 col10\" >15.31%</td>\n",
       "            </tr>\n",
       "            <tr>\n",
       "                        <th id=\"T_bb8a3ee3_25ef_11eb_bdbd_34e6ad4876e0level0_row78\" class=\"row_heading level0 row78\" >Salt Lake City_UT</th>\n",
       "                        <td id=\"T_bb8a3ee3_25ef_11eb_bdbd_34e6ad4876e0row78_col0\" class=\"data row78 col0\" >40.777700</td>\n",
       "                        <td id=\"T_bb8a3ee3_25ef_11eb_bdbd_34e6ad4876e0row78_col1\" class=\"data row78 col1\" >-111.930600</td>\n",
       "                        <td id=\"T_bb8a3ee3_25ef_11eb_bdbd_34e6ad4876e0row78_col2\" class=\"data row78 col2\" >1098526.000000</td>\n",
       "                        <td id=\"T_bb8a3ee3_25ef_11eb_bdbd_34e6ad4876e0row78_col3\" class=\"data row78 col3\" >699.000000</td>\n",
       "                        <td id=\"T_bb8a3ee3_25ef_11eb_bdbd_34e6ad4876e0row78_col4\" class=\"data row78 col4\" >1</td>\n",
       "                        <td id=\"T_bb8a3ee3_25ef_11eb_bdbd_34e6ad4876e0row78_col5\" class=\"data row78 col5\" >84116</td>\n",
       "                        <td id=\"T_bb8a3ee3_25ef_11eb_bdbd_34e6ad4876e0row78_col6\" class=\"data row78 col6\" >80196.000000</td>\n",
       "                        <td id=\"T_bb8a3ee3_25ef_11eb_bdbd_34e6ad4876e0row78_col7\" class=\"data row78 col7\" >101130.000000</td>\n",
       "                        <td id=\"T_bb8a3ee3_25ef_11eb_bdbd_34e6ad4876e0row78_col8\" class=\"data row78 col8\" >16448</td>\n",
       "                        <td id=\"T_bb8a3ee3_25ef_11eb_bdbd_34e6ad4876e0row78_col9\" class=\"data row78 col9\" >20.51%</td>\n",
       "                        <td id=\"T_bb8a3ee3_25ef_11eb_bdbd_34e6ad4876e0row78_col10\" class=\"data row78 col10\" >16.26%</td>\n",
       "            </tr>\n",
       "            <tr>\n",
       "                        <th id=\"T_bb8a3ee3_25ef_11eb_bdbd_34e6ad4876e0level0_row79\" class=\"row_heading level0 row79\" >Madison_WI</th>\n",
       "                        <td id=\"T_bb8a3ee3_25ef_11eb_bdbd_34e6ad4876e0row79_col0\" class=\"data row79 col0\" >43.082600</td>\n",
       "                        <td id=\"T_bb8a3ee3_25ef_11eb_bdbd_34e6ad4876e0row79_col1\" class=\"data row79 col1\" >-89.393100</td>\n",
       "                        <td id=\"T_bb8a3ee3_25ef_11eb_bdbd_34e6ad4876e0row79_col2\" class=\"data row79 col2\" >447245.000000</td>\n",
       "                        <td id=\"T_bb8a3ee3_25ef_11eb_bdbd_34e6ad4876e0row79_col3\" class=\"data row79 col3\" >1263.000000</td>\n",
       "                        <td id=\"T_bb8a3ee3_25ef_11eb_bdbd_34e6ad4876e0row79_col4\" class=\"data row79 col4\" >2</td>\n",
       "                        <td id=\"T_bb8a3ee3_25ef_11eb_bdbd_34e6ad4876e0row79_col5\" class=\"data row79 col5\" >53706</td>\n",
       "                        <td id=\"T_bb8a3ee3_25ef_11eb_bdbd_34e6ad4876e0row79_col6\" class=\"data row79 col6\" >75545.000000</td>\n",
       "                        <td id=\"T_bb8a3ee3_25ef_11eb_bdbd_34e6ad4876e0row79_col7\" class=\"data row79 col7\" >96813.000000</td>\n",
       "                        <td id=\"T_bb8a3ee3_25ef_11eb_bdbd_34e6ad4876e0row79_col8\" class=\"data row79 col8\" >15272</td>\n",
       "                        <td id=\"T_bb8a3ee3_25ef_11eb_bdbd_34e6ad4876e0row79_col9\" class=\"data row79 col9\" >20.22%</td>\n",
       "                        <td id=\"T_bb8a3ee3_25ef_11eb_bdbd_34e6ad4876e0row79_col10\" class=\"data row79 col10\" >15.77%</td>\n",
       "            </tr>\n",
       "            <tr>\n",
       "                        <th id=\"T_bb8a3ee3_25ef_11eb_bdbd_34e6ad4876e0level0_row80\" class=\"row_heading level0 row80\" >Harrisburg_PA</th>\n",
       "                        <td id=\"T_bb8a3ee3_25ef_11eb_bdbd_34e6ad4876e0row80_col0\" class=\"data row80 col0\" >40.275200</td>\n",
       "                        <td id=\"T_bb8a3ee3_25ef_11eb_bdbd_34e6ad4876e0row80_col1\" class=\"data row80 col1\" >-76.884300</td>\n",
       "                        <td id=\"T_bb8a3ee3_25ef_11eb_bdbd_34e6ad4876e0row80_col2\" class=\"data row80 col2\" >442289.000000</td>\n",
       "                        <td id=\"T_bb8a3ee3_25ef_11eb_bdbd_34e6ad4876e0row80_col3\" class=\"data row80 col3\" >2343.000000</td>\n",
       "                        <td id=\"T_bb8a3ee3_25ef_11eb_bdbd_34e6ad4876e0row80_col4\" class=\"data row80 col4\" >2</td>\n",
       "                        <td id=\"T_bb8a3ee3_25ef_11eb_bdbd_34e6ad4876e0row80_col5\" class=\"data row80 col5\" >17101</td>\n",
       "                        <td id=\"T_bb8a3ee3_25ef_11eb_bdbd_34e6ad4876e0row80_col6\" class=\"data row80 col6\" >67069.000000</td>\n",
       "                        <td id=\"T_bb8a3ee3_25ef_11eb_bdbd_34e6ad4876e0row80_col7\" class=\"data row80 col7\" >86785.000000</td>\n",
       "                        <td id=\"T_bb8a3ee3_25ef_11eb_bdbd_34e6ad4876e0row80_col8\" class=\"data row80 col8\" >13541</td>\n",
       "                        <td id=\"T_bb8a3ee3_25ef_11eb_bdbd_34e6ad4876e0row80_col9\" class=\"data row80 col9\" >20.19%</td>\n",
       "                        <td id=\"T_bb8a3ee3_25ef_11eb_bdbd_34e6ad4876e0row80_col10\" class=\"data row80 col10\" >15.60%</td>\n",
       "            </tr>\n",
       "            <tr>\n",
       "                        <th id=\"T_bb8a3ee3_25ef_11eb_bdbd_34e6ad4876e0level0_row81\" class=\"row_heading level0 row81\" >Dayton_OH</th>\n",
       "                        <td id=\"T_bb8a3ee3_25ef_11eb_bdbd_34e6ad4876e0row81_col0\" class=\"data row81 col0\" >39.779700</td>\n",
       "                        <td id=\"T_bb8a3ee3_25ef_11eb_bdbd_34e6ad4876e0row81_col1\" class=\"data row81 col1\" >-84.199800</td>\n",
       "                        <td id=\"T_bb8a3ee3_25ef_11eb_bdbd_34e6ad4876e0row81_col2\" class=\"data row81 col2\" >718353.000000</td>\n",
       "                        <td id=\"T_bb8a3ee3_25ef_11eb_bdbd_34e6ad4876e0row81_col3\" class=\"data row81 col3\" >978.000000</td>\n",
       "                        <td id=\"T_bb8a3ee3_25ef_11eb_bdbd_34e6ad4876e0row81_col4\" class=\"data row81 col4\" >2</td>\n",
       "                        <td id=\"T_bb8a3ee3_25ef_11eb_bdbd_34e6ad4876e0row81_col5\" class=\"data row81 col5\" >45432</td>\n",
       "                        <td id=\"T_bb8a3ee3_25ef_11eb_bdbd_34e6ad4876e0row81_col6\" class=\"data row81 col6\" >58169.000000</td>\n",
       "                        <td id=\"T_bb8a3ee3_25ef_11eb_bdbd_34e6ad4876e0row81_col7\" class=\"data row81 col7\" >77110.000000</td>\n",
       "                        <td id=\"T_bb8a3ee3_25ef_11eb_bdbd_34e6ad4876e0row81_col8\" class=\"data row81 col8\" >11638</td>\n",
       "                        <td id=\"T_bb8a3ee3_25ef_11eb_bdbd_34e6ad4876e0row81_col9\" class=\"data row81 col9\" >20.01%</td>\n",
       "                        <td id=\"T_bb8a3ee3_25ef_11eb_bdbd_34e6ad4876e0row81_col10\" class=\"data row81 col10\" >15.09%</td>\n",
       "            </tr>\n",
       "            <tr>\n",
       "                        <th id=\"T_bb8a3ee3_25ef_11eb_bdbd_34e6ad4876e0level0_row82\" class=\"row_heading level0 row82\" >Kansas City_MO</th>\n",
       "                        <td id=\"T_bb8a3ee3_25ef_11eb_bdbd_34e6ad4876e0row82_col0\" class=\"data row82 col0\" >39.123900</td>\n",
       "                        <td id=\"T_bb8a3ee3_25ef_11eb_bdbd_34e6ad4876e0row82_col1\" class=\"data row82 col1\" >-94.554100</td>\n",
       "                        <td id=\"T_bb8a3ee3_25ef_11eb_bdbd_34e6ad4876e0row82_col2\" class=\"data row82 col2\" >1636715.000000</td>\n",
       "                        <td id=\"T_bb8a3ee3_25ef_11eb_bdbd_34e6ad4876e0row82_col3\" class=\"data row82 col3\" >607.000000</td>\n",
       "                        <td id=\"T_bb8a3ee3_25ef_11eb_bdbd_34e6ad4876e0row82_col4\" class=\"data row82 col4\" >1</td>\n",
       "                        <td id=\"T_bb8a3ee3_25ef_11eb_bdbd_34e6ad4876e0row82_col5\" class=\"data row82 col5\" >64161</td>\n",
       "                        <td id=\"T_bb8a3ee3_25ef_11eb_bdbd_34e6ad4876e0row82_col6\" class=\"data row82 col6\" >70215.000000</td>\n",
       "                        <td id=\"T_bb8a3ee3_25ef_11eb_bdbd_34e6ad4876e0row82_col7\" class=\"data row82 col7\" >90852.000000</td>\n",
       "                        <td id=\"T_bb8a3ee3_25ef_11eb_bdbd_34e6ad4876e0row82_col8\" class=\"data row82 col8\" >13995</td>\n",
       "                        <td id=\"T_bb8a3ee3_25ef_11eb_bdbd_34e6ad4876e0row82_col9\" class=\"data row82 col9\" >19.93%</td>\n",
       "                        <td id=\"T_bb8a3ee3_25ef_11eb_bdbd_34e6ad4876e0row82_col10\" class=\"data row82 col10\" >15.40%</td>\n",
       "            </tr>\n",
       "            <tr>\n",
       "                        <th id=\"T_bb8a3ee3_25ef_11eb_bdbd_34e6ad4876e0level0_row83\" class=\"row_heading level0 row83\" >Milwaukee_WI</th>\n",
       "                        <td id=\"T_bb8a3ee3_25ef_11eb_bdbd_34e6ad4876e0row83_col0\" class=\"data row83 col0\" >43.064200</td>\n",
       "                        <td id=\"T_bb8a3ee3_25ef_11eb_bdbd_34e6ad4876e0row83_col1\" class=\"data row83 col1\" >-87.967300</td>\n",
       "                        <td id=\"T_bb8a3ee3_25ef_11eb_bdbd_34e6ad4876e0row83_col2\" class=\"data row83 col2\" >1365787.000000</td>\n",
       "                        <td id=\"T_bb8a3ee3_25ef_11eb_bdbd_34e6ad4876e0row83_col3\" class=\"data row83 col3\" >2369.000000</td>\n",
       "                        <td id=\"T_bb8a3ee3_25ef_11eb_bdbd_34e6ad4876e0row83_col4\" class=\"data row83 col4\" >1</td>\n",
       "                        <td id=\"T_bb8a3ee3_25ef_11eb_bdbd_34e6ad4876e0row83_col5\" class=\"data row83 col5\" >53203</td>\n",
       "                        <td id=\"T_bb8a3ee3_25ef_11eb_bdbd_34e6ad4876e0row83_col6\" class=\"data row83 col6\" >65845.000000</td>\n",
       "                        <td id=\"T_bb8a3ee3_25ef_11eb_bdbd_34e6ad4876e0row83_col7\" class=\"data row83 col7\" >88389.000000</td>\n",
       "                        <td id=\"T_bb8a3ee3_25ef_11eb_bdbd_34e6ad4876e0row83_col8\" class=\"data row83 col8\" >13120</td>\n",
       "                        <td id=\"T_bb8a3ee3_25ef_11eb_bdbd_34e6ad4876e0row83_col9\" class=\"data row83 col9\" >19.93%</td>\n",
       "                        <td id=\"T_bb8a3ee3_25ef_11eb_bdbd_34e6ad4876e0row83_col10\" class=\"data row83 col10\" >14.84%</td>\n",
       "            </tr>\n",
       "            <tr>\n",
       "                        <th id=\"T_bb8a3ee3_25ef_11eb_bdbd_34e6ad4876e0level0_row84\" class=\"row_heading level0 row84\" >Syracuse_NY</th>\n",
       "                        <td id=\"T_bb8a3ee3_25ef_11eb_bdbd_34e6ad4876e0row84_col0\" class=\"data row84 col0\" >43.040900</td>\n",
       "                        <td id=\"T_bb8a3ee3_25ef_11eb_bdbd_34e6ad4876e0row84_col1\" class=\"data row84 col1\" >-76.143800</td>\n",
       "                        <td id=\"T_bb8a3ee3_25ef_11eb_bdbd_34e6ad4876e0row84_col2\" class=\"data row84 col2\" >404223.000000</td>\n",
       "                        <td id=\"T_bb8a3ee3_25ef_11eb_bdbd_34e6ad4876e0row84_col3\" class=\"data row84 col3\" >2195.000000</td>\n",
       "                        <td id=\"T_bb8a3ee3_25ef_11eb_bdbd_34e6ad4876e0row84_col4\" class=\"data row84 col4\" >2</td>\n",
       "                        <td id=\"T_bb8a3ee3_25ef_11eb_bdbd_34e6ad4876e0row84_col5\" class=\"data row84 col5\" >13210</td>\n",
       "                        <td id=\"T_bb8a3ee3_25ef_11eb_bdbd_34e6ad4876e0row84_col6\" class=\"data row84 col6\" >61213.000000</td>\n",
       "                        <td id=\"T_bb8a3ee3_25ef_11eb_bdbd_34e6ad4876e0row84_col7\" class=\"data row84 col7\" >82572.000000</td>\n",
       "                        <td id=\"T_bb8a3ee3_25ef_11eb_bdbd_34e6ad4876e0row84_col8\" class=\"data row84 col8\" >12168</td>\n",
       "                        <td id=\"T_bb8a3ee3_25ef_11eb_bdbd_34e6ad4876e0row84_col9\" class=\"data row84 col9\" >19.88%</td>\n",
       "                        <td id=\"T_bb8a3ee3_25ef_11eb_bdbd_34e6ad4876e0row84_col10\" class=\"data row84 col10\" >14.74%</td>\n",
       "            </tr>\n",
       "            <tr>\n",
       "                        <th id=\"T_bb8a3ee3_25ef_11eb_bdbd_34e6ad4876e0level0_row85\" class=\"row_heading level0 row85\" >Omaha_NE</th>\n",
       "                        <td id=\"T_bb8a3ee3_25ef_11eb_bdbd_34e6ad4876e0row85_col0\" class=\"data row85 col0\" >41.262700</td>\n",
       "                        <td id=\"T_bb8a3ee3_25ef_11eb_bdbd_34e6ad4876e0row85_col1\" class=\"data row85 col1\" >-96.052200</td>\n",
       "                        <td id=\"T_bb8a3ee3_25ef_11eb_bdbd_34e6ad4876e0row85_col2\" class=\"data row85 col2\" >847819.000000</td>\n",
       "                        <td id=\"T_bb8a3ee3_25ef_11eb_bdbd_34e6ad4876e0row85_col3\" class=\"data row85 col3\" >1309.000000</td>\n",
       "                        <td id=\"T_bb8a3ee3_25ef_11eb_bdbd_34e6ad4876e0row85_col4\" class=\"data row85 col4\" >2</td>\n",
       "                        <td id=\"T_bb8a3ee3_25ef_11eb_bdbd_34e6ad4876e0row85_col5\" class=\"data row85 col5\" >68112</td>\n",
       "                        <td id=\"T_bb8a3ee3_25ef_11eb_bdbd_34e6ad4876e0row85_col6\" class=\"data row85 col6\" >70373.000000</td>\n",
       "                        <td id=\"T_bb8a3ee3_25ef_11eb_bdbd_34e6ad4876e0row85_col7\" class=\"data row85 col7\" >89617.000000</td>\n",
       "                        <td id=\"T_bb8a3ee3_25ef_11eb_bdbd_34e6ad4876e0row85_col8\" class=\"data row85 col8\" >13952</td>\n",
       "                        <td id=\"T_bb8a3ee3_25ef_11eb_bdbd_34e6ad4876e0row85_col9\" class=\"data row85 col9\" >19.83%</td>\n",
       "                        <td id=\"T_bb8a3ee3_25ef_11eb_bdbd_34e6ad4876e0row85_col10\" class=\"data row85 col10\" >15.57%</td>\n",
       "            </tr>\n",
       "            <tr>\n",
       "                        <th id=\"T_bb8a3ee3_25ef_11eb_bdbd_34e6ad4876e0level0_row86\" class=\"row_heading level0 row86\" >St. Louis_MO</th>\n",
       "                        <td id=\"T_bb8a3ee3_25ef_11eb_bdbd_34e6ad4876e0row86_col0\" class=\"data row86 col0\" >38.635800</td>\n",
       "                        <td id=\"T_bb8a3ee3_25ef_11eb_bdbd_34e6ad4876e0row86_col1\" class=\"data row86 col1\" >-90.245100</td>\n",
       "                        <td id=\"T_bb8a3ee3_25ef_11eb_bdbd_34e6ad4876e0row86_col2\" class=\"data row86 col2\" >2024074.000000</td>\n",
       "                        <td id=\"T_bb8a3ee3_25ef_11eb_bdbd_34e6ad4876e0row86_col3\" class=\"data row86 col3\" >1879.000000</td>\n",
       "                        <td id=\"T_bb8a3ee3_25ef_11eb_bdbd_34e6ad4876e0row86_col4\" class=\"data row86 col4\" >1</td>\n",
       "                        <td id=\"T_bb8a3ee3_25ef_11eb_bdbd_34e6ad4876e0row86_col5\" class=\"data row86 col5\" >63110</td>\n",
       "                        <td id=\"T_bb8a3ee3_25ef_11eb_bdbd_34e6ad4876e0row86_col6\" class=\"data row86 col6\" >66417.000000</td>\n",
       "                        <td id=\"T_bb8a3ee3_25ef_11eb_bdbd_34e6ad4876e0row86_col7\" class=\"data row86 col7\" >90098.000000</td>\n",
       "                        <td id=\"T_bb8a3ee3_25ef_11eb_bdbd_34e6ad4876e0row86_col8\" class=\"data row86 col8\" >13102</td>\n",
       "                        <td id=\"T_bb8a3ee3_25ef_11eb_bdbd_34e6ad4876e0row86_col9\" class=\"data row86 col9\" >19.73%</td>\n",
       "                        <td id=\"T_bb8a3ee3_25ef_11eb_bdbd_34e6ad4876e0row86_col10\" class=\"data row86 col10\" >14.54%</td>\n",
       "            </tr>\n",
       "            <tr>\n",
       "                        <th id=\"T_bb8a3ee3_25ef_11eb_bdbd_34e6ad4876e0level0_row87\" class=\"row_heading level0 row87\" >Provo_UT</th>\n",
       "                        <td id=\"T_bb8a3ee3_25ef_11eb_bdbd_34e6ad4876e0row87_col0\" class=\"data row87 col0\" >40.245700</td>\n",
       "                        <td id=\"T_bb8a3ee3_25ef_11eb_bdbd_34e6ad4876e0row87_col1\" class=\"data row87 col1\" >-111.645700</td>\n",
       "                        <td id=\"T_bb8a3ee3_25ef_11eb_bdbd_34e6ad4876e0row87_col2\" class=\"data row87 col2\" >500617.000000</td>\n",
       "                        <td id=\"T_bb8a3ee3_25ef_11eb_bdbd_34e6ad4876e0row87_col3\" class=\"data row87 col3\" >1080.000000</td>\n",
       "                        <td id=\"T_bb8a3ee3_25ef_11eb_bdbd_34e6ad4876e0row87_col4\" class=\"data row87 col4\" >2</td>\n",
       "                        <td id=\"T_bb8a3ee3_25ef_11eb_bdbd_34e6ad4876e0row87_col5\" class=\"data row87 col5\" >84604</td>\n",
       "                        <td id=\"T_bb8a3ee3_25ef_11eb_bdbd_34e6ad4876e0row87_col6\" class=\"data row87 col6\" >79152.000000</td>\n",
       "                        <td id=\"T_bb8a3ee3_25ef_11eb_bdbd_34e6ad4876e0row87_col7\" class=\"data row87 col7\" >98760.000000</td>\n",
       "                        <td id=\"T_bb8a3ee3_25ef_11eb_bdbd_34e6ad4876e0row87_col8\" class=\"data row87 col8\" >15606</td>\n",
       "                        <td id=\"T_bb8a3ee3_25ef_11eb_bdbd_34e6ad4876e0row87_col9\" class=\"data row87 col9\" >19.72%</td>\n",
       "                        <td id=\"T_bb8a3ee3_25ef_11eb_bdbd_34e6ad4876e0row87_col10\" class=\"data row87 col10\" >15.80%</td>\n",
       "            </tr>\n",
       "            <tr>\n",
       "                        <th id=\"T_bb8a3ee3_25ef_11eb_bdbd_34e6ad4876e0level0_row88\" class=\"row_heading level0 row88\" >Scranton_PA</th>\n",
       "                        <td id=\"T_bb8a3ee3_25ef_11eb_bdbd_34e6ad4876e0row88_col0\" class=\"data row88 col0\" >41.404400</td>\n",
       "                        <td id=\"T_bb8a3ee3_25ef_11eb_bdbd_34e6ad4876e0row88_col1\" class=\"data row88 col1\" >-75.664900</td>\n",
       "                        <td id=\"T_bb8a3ee3_25ef_11eb_bdbd_34e6ad4876e0row88_col2\" class=\"data row88 col2\" >384250.000000</td>\n",
       "                        <td id=\"T_bb8a3ee3_25ef_11eb_bdbd_34e6ad4876e0row88_col3\" class=\"data row88 col3\" >1169.000000</td>\n",
       "                        <td id=\"T_bb8a3ee3_25ef_11eb_bdbd_34e6ad4876e0row88_col4\" class=\"data row88 col4\" >2</td>\n",
       "                        <td id=\"T_bb8a3ee3_25ef_11eb_bdbd_34e6ad4876e0row88_col5\" class=\"data row88 col5\" >18509</td>\n",
       "                        <td id=\"T_bb8a3ee3_25ef_11eb_bdbd_34e6ad4876e0row88_col6\" class=\"data row88 col6\" >54304.000000</td>\n",
       "                        <td id=\"T_bb8a3ee3_25ef_11eb_bdbd_34e6ad4876e0row88_col7\" class=\"data row88 col7\" >70836.000000</td>\n",
       "                        <td id=\"T_bb8a3ee3_25ef_11eb_bdbd_34e6ad4876e0row88_col8\" class=\"data row88 col8\" >10590</td>\n",
       "                        <td id=\"T_bb8a3ee3_25ef_11eb_bdbd_34e6ad4876e0row88_col9\" class=\"data row88 col9\" >19.50%</td>\n",
       "                        <td id=\"T_bb8a3ee3_25ef_11eb_bdbd_34e6ad4876e0row88_col10\" class=\"data row88 col10\" >14.95%</td>\n",
       "            </tr>\n",
       "            <tr>\n",
       "                        <th id=\"T_bb8a3ee3_25ef_11eb_bdbd_34e6ad4876e0level0_row89\" class=\"row_heading level0 row89\" >Toledo_OH</th>\n",
       "                        <td id=\"T_bb8a3ee3_25ef_11eb_bdbd_34e6ad4876e0row89_col0\" class=\"data row89 col0\" >41.663900</td>\n",
       "                        <td id=\"T_bb8a3ee3_25ef_11eb_bdbd_34e6ad4876e0row89_col1\" class=\"data row89 col1\" >-83.582200</td>\n",
       "                        <td id=\"T_bb8a3ee3_25ef_11eb_bdbd_34e6ad4876e0row89_col2\" class=\"data row89 col2\" >482111.000000</td>\n",
       "                        <td id=\"T_bb8a3ee3_25ef_11eb_bdbd_34e6ad4876e0row89_col3\" class=\"data row89 col3\" >1308.000000</td>\n",
       "                        <td id=\"T_bb8a3ee3_25ef_11eb_bdbd_34e6ad4876e0row89_col4\" class=\"data row89 col4\" >2</td>\n",
       "                        <td id=\"T_bb8a3ee3_25ef_11eb_bdbd_34e6ad4876e0row89_col5\" class=\"data row89 col5\" >43615</td>\n",
       "                        <td id=\"T_bb8a3ee3_25ef_11eb_bdbd_34e6ad4876e0row89_col6\" class=\"data row89 col6\" >53563.000000</td>\n",
       "                        <td id=\"T_bb8a3ee3_25ef_11eb_bdbd_34e6ad4876e0row89_col7\" class=\"data row89 col7\" >74113.000000</td>\n",
       "                        <td id=\"T_bb8a3ee3_25ef_11eb_bdbd_34e6ad4876e0row89_col8\" class=\"data row89 col8\" >10369</td>\n",
       "                        <td id=\"T_bb8a3ee3_25ef_11eb_bdbd_34e6ad4876e0row89_col9\" class=\"data row89 col9\" >19.36%</td>\n",
       "                        <td id=\"T_bb8a3ee3_25ef_11eb_bdbd_34e6ad4876e0row89_col10\" class=\"data row89 col10\" >13.99%</td>\n",
       "            </tr>\n",
       "            <tr>\n",
       "                        <th id=\"T_bb8a3ee3_25ef_11eb_bdbd_34e6ad4876e0level0_row90\" class=\"row_heading level0 row90\" >Ogden_UT</th>\n",
       "                        <td id=\"T_bb8a3ee3_25ef_11eb_bdbd_34e6ad4876e0row90_col0\" class=\"data row90 col0\" >41.227800</td>\n",
       "                        <td id=\"T_bb8a3ee3_25ef_11eb_bdbd_34e6ad4876e0row90_col1\" class=\"data row90 col1\" >-111.968200</td>\n",
       "                        <td id=\"T_bb8a3ee3_25ef_11eb_bdbd_34e6ad4876e0row90_col2\" class=\"data row90 col2\" >578523.000000</td>\n",
       "                        <td id=\"T_bb8a3ee3_25ef_11eb_bdbd_34e6ad4876e0row90_col3\" class=\"data row90 col3\" >1230.000000</td>\n",
       "                        <td id=\"T_bb8a3ee3_25ef_11eb_bdbd_34e6ad4876e0row90_col4\" class=\"data row90 col4\" >2</td>\n",
       "                        <td id=\"T_bb8a3ee3_25ef_11eb_bdbd_34e6ad4876e0row90_col5\" class=\"data row90 col5\" >84404</td>\n",
       "                        <td id=\"T_bb8a3ee3_25ef_11eb_bdbd_34e6ad4876e0row90_col6\" class=\"data row90 col6\" >79251.000000</td>\n",
       "                        <td id=\"T_bb8a3ee3_25ef_11eb_bdbd_34e6ad4876e0row90_col7\" class=\"data row90 col7\" >96150.000000</td>\n",
       "                        <td id=\"T_bb8a3ee3_25ef_11eb_bdbd_34e6ad4876e0row90_col8\" class=\"data row90 col8\" >15203</td>\n",
       "                        <td id=\"T_bb8a3ee3_25ef_11eb_bdbd_34e6ad4876e0row90_col9\" class=\"data row90 col9\" >19.18%</td>\n",
       "                        <td id=\"T_bb8a3ee3_25ef_11eb_bdbd_34e6ad4876e0row90_col10\" class=\"data row90 col10\" >15.81%</td>\n",
       "            </tr>\n",
       "            <tr>\n",
       "                        <th id=\"T_bb8a3ee3_25ef_11eb_bdbd_34e6ad4876e0level0_row91\" class=\"row_heading level0 row91\" >Little Rock_AR</th>\n",
       "                        <td id=\"T_bb8a3ee3_25ef_11eb_bdbd_34e6ad4876e0row91_col0\" class=\"data row91 col0\" >34.725600</td>\n",
       "                        <td id=\"T_bb8a3ee3_25ef_11eb_bdbd_34e6ad4876e0row91_col1\" class=\"data row91 col1\" >-92.357600</td>\n",
       "                        <td id=\"T_bb8a3ee3_25ef_11eb_bdbd_34e6ad4876e0row91_col2\" class=\"data row91 col2\" >439815.000000</td>\n",
       "                        <td id=\"T_bb8a3ee3_25ef_11eb_bdbd_34e6ad4876e0row91_col3\" class=\"data row91 col3\" >634.000000</td>\n",
       "                        <td id=\"T_bb8a3ee3_25ef_11eb_bdbd_34e6ad4876e0row91_col4\" class=\"data row91 col4\" >2</td>\n",
       "                        <td id=\"T_bb8a3ee3_25ef_11eb_bdbd_34e6ad4876e0row91_col5\" class=\"data row91 col5\" >72211</td>\n",
       "                        <td id=\"T_bb8a3ee3_25ef_11eb_bdbd_34e6ad4876e0row91_col6\" class=\"data row91 col6\" >56849.000000</td>\n",
       "                        <td id=\"T_bb8a3ee3_25ef_11eb_bdbd_34e6ad4876e0row91_col7\" class=\"data row91 col7\" >76753.000000</td>\n",
       "                        <td id=\"T_bb8a3ee3_25ef_11eb_bdbd_34e6ad4876e0row91_col8\" class=\"data row91 col8\" >10654</td>\n",
       "                        <td id=\"T_bb8a3ee3_25ef_11eb_bdbd_34e6ad4876e0row91_col9\" class=\"data row91 col9\" >18.74%</td>\n",
       "                        <td id=\"T_bb8a3ee3_25ef_11eb_bdbd_34e6ad4876e0row91_col10\" class=\"data row91 col10\" >13.88%</td>\n",
       "            </tr>\n",
       "            <tr>\n",
       "                        <th id=\"T_bb8a3ee3_25ef_11eb_bdbd_34e6ad4876e0level0_row92\" class=\"row_heading level0 row92\" >Des Moines_IA</th>\n",
       "                        <td id=\"T_bb8a3ee3_25ef_11eb_bdbd_34e6ad4876e0row92_col0\" class=\"data row92 col0\" >41.572500</td>\n",
       "                        <td id=\"T_bb8a3ee3_25ef_11eb_bdbd_34e6ad4876e0row92_col1\" class=\"data row92 col1\" >-93.610500</td>\n",
       "                        <td id=\"T_bb8a3ee3_25ef_11eb_bdbd_34e6ad4876e0row92_col2\" class=\"data row92 col2\" >473957.000000</td>\n",
       "                        <td id=\"T_bb8a3ee3_25ef_11eb_bdbd_34e6ad4876e0row92_col3\" class=\"data row92 col3\" >938.000000</td>\n",
       "                        <td id=\"T_bb8a3ee3_25ef_11eb_bdbd_34e6ad4876e0row92_col4\" class=\"data row92 col4\" >2</td>\n",
       "                        <td id=\"T_bb8a3ee3_25ef_11eb_bdbd_34e6ad4876e0row92_col5\" class=\"data row92 col5\" >50309</td>\n",
       "                        <td id=\"T_bb8a3ee3_25ef_11eb_bdbd_34e6ad4876e0row92_col6\" class=\"data row92 col6\" >71164.000000</td>\n",
       "                        <td id=\"T_bb8a3ee3_25ef_11eb_bdbd_34e6ad4876e0row92_col7\" class=\"data row92 col7\" >92232.000000</td>\n",
       "                        <td id=\"T_bb8a3ee3_25ef_11eb_bdbd_34e6ad4876e0row92_col8\" class=\"data row92 col8\" >13222</td>\n",
       "                        <td id=\"T_bb8a3ee3_25ef_11eb_bdbd_34e6ad4876e0row92_col9\" class=\"data row92 col9\" >18.58%</td>\n",
       "                        <td id=\"T_bb8a3ee3_25ef_11eb_bdbd_34e6ad4876e0row92_col10\" class=\"data row92 col10\" >14.34%</td>\n",
       "            </tr>\n",
       "            <tr>\n",
       "                        <th id=\"T_bb8a3ee3_25ef_11eb_bdbd_34e6ad4876e0level0_row93\" class=\"row_heading level0 row93\" >Akron_OH</th>\n",
       "                        <td id=\"T_bb8a3ee3_25ef_11eb_bdbd_34e6ad4876e0row93_col0\" class=\"data row93 col0\" >41.079800</td>\n",
       "                        <td id=\"T_bb8a3ee3_25ef_11eb_bdbd_34e6ad4876e0row93_col1\" class=\"data row93 col1\" >-81.521900</td>\n",
       "                        <td id=\"T_bb8a3ee3_25ef_11eb_bdbd_34e6ad4876e0row93_col2\" class=\"data row93 col2\" >565208.000000</td>\n",
       "                        <td id=\"T_bb8a3ee3_25ef_11eb_bdbd_34e6ad4876e0row93_col3\" class=\"data row93 col3\" >1231.000000</td>\n",
       "                        <td id=\"T_bb8a3ee3_25ef_11eb_bdbd_34e6ad4876e0row93_col4\" class=\"data row93 col4\" >2</td>\n",
       "                        <td id=\"T_bb8a3ee3_25ef_11eb_bdbd_34e6ad4876e0row93_col5\" class=\"data row93 col5\" >44306</td>\n",
       "                        <td id=\"T_bb8a3ee3_25ef_11eb_bdbd_34e6ad4876e0row93_col6\" class=\"data row93 col6\" >57158.000000</td>\n",
       "                        <td id=\"T_bb8a3ee3_25ef_11eb_bdbd_34e6ad4876e0row93_col7\" class=\"data row93 col7\" >80800.000000</td>\n",
       "                        <td id=\"T_bb8a3ee3_25ef_11eb_bdbd_34e6ad4876e0row93_col8\" class=\"data row93 col8\" >10157</td>\n",
       "                        <td id=\"T_bb8a3ee3_25ef_11eb_bdbd_34e6ad4876e0row93_col9\" class=\"data row93 col9\" >17.77%</td>\n",
       "                        <td id=\"T_bb8a3ee3_25ef_11eb_bdbd_34e6ad4876e0row93_col10\" class=\"data row93 col10\" >12.57%</td>\n",
       "            </tr>\n",
       "            <tr>\n",
       "                        <th id=\"T_bb8a3ee3_25ef_11eb_bdbd_34e6ad4876e0level0_row94\" class=\"row_heading level0 row94\" >Youngstown_OH</th>\n",
       "                        <td id=\"T_bb8a3ee3_25ef_11eb_bdbd_34e6ad4876e0row94_col0\" class=\"data row94 col0\" >41.099300</td>\n",
       "                        <td id=\"T_bb8a3ee3_25ef_11eb_bdbd_34e6ad4876e0row94_col1\" class=\"data row94 col1\" >-80.646300</td>\n",
       "                        <td id=\"T_bb8a3ee3_25ef_11eb_bdbd_34e6ad4876e0row94_col2\" class=\"data row94 col2\" >378732.000000</td>\n",
       "                        <td id=\"T_bb8a3ee3_25ef_11eb_bdbd_34e6ad4876e0row94_col3\" class=\"data row94 col3\" >744.000000</td>\n",
       "                        <td id=\"T_bb8a3ee3_25ef_11eb_bdbd_34e6ad4876e0row94_col4\" class=\"data row94 col4\" >2</td>\n",
       "                        <td id=\"T_bb8a3ee3_25ef_11eb_bdbd_34e6ad4876e0row94_col5\" class=\"data row94 col5\" >44502</td>\n",
       "                        <td id=\"T_bb8a3ee3_25ef_11eb_bdbd_34e6ad4876e0row94_col6\" class=\"data row94 col6\" >48558.000000</td>\n",
       "                        <td id=\"T_bb8a3ee3_25ef_11eb_bdbd_34e6ad4876e0row94_col7\" class=\"data row94 col7\" >64409.000000</td>\n",
       "                        <td id=\"T_bb8a3ee3_25ef_11eb_bdbd_34e6ad4876e0row94_col8\" class=\"data row94 col8\" >8236</td>\n",
       "                        <td id=\"T_bb8a3ee3_25ef_11eb_bdbd_34e6ad4876e0row94_col9\" class=\"data row94 col9\" >16.96%</td>\n",
       "                        <td id=\"T_bb8a3ee3_25ef_11eb_bdbd_34e6ad4876e0row94_col10\" class=\"data row94 col10\" >12.79%</td>\n",
       "            </tr>\n",
       "            <tr>\n",
       "                        <th id=\"T_bb8a3ee3_25ef_11eb_bdbd_34e6ad4876e0level0_row95\" class=\"row_heading level0 row95\" >Wichita_KS</th>\n",
       "                        <td id=\"T_bb8a3ee3_25ef_11eb_bdbd_34e6ad4876e0row95_col0\" class=\"data row95 col0\" >37.689600</td>\n",
       "                        <td id=\"T_bb8a3ee3_25ef_11eb_bdbd_34e6ad4876e0row95_col1\" class=\"data row95 col1\" >-97.344200</td>\n",
       "                        <td id=\"T_bb8a3ee3_25ef_11eb_bdbd_34e6ad4876e0row95_col2\" class=\"data row95 col2\" >482249.000000</td>\n",
       "                        <td id=\"T_bb8a3ee3_25ef_11eb_bdbd_34e6ad4876e0row95_col3\" class=\"data row95 col3\" >931.000000</td>\n",
       "                        <td id=\"T_bb8a3ee3_25ef_11eb_bdbd_34e6ad4876e0row95_col4\" class=\"data row95 col4\" >2</td>\n",
       "                        <td id=\"T_bb8a3ee3_25ef_11eb_bdbd_34e6ad4876e0row95_col5\" class=\"data row95 col5\" >67230</td>\n",
       "                        <td id=\"T_bb8a3ee3_25ef_11eb_bdbd_34e6ad4876e0row95_col6\" class=\"data row95 col6\" >59779.000000</td>\n",
       "                        <td id=\"T_bb8a3ee3_25ef_11eb_bdbd_34e6ad4876e0row95_col7\" class=\"data row95 col7\" >78167.000000</td>\n",
       "                        <td id=\"T_bb8a3ee3_25ef_11eb_bdbd_34e6ad4876e0row95_col8\" class=\"data row95 col8\" >9615</td>\n",
       "                        <td id=\"T_bb8a3ee3_25ef_11eb_bdbd_34e6ad4876e0row95_col9\" class=\"data row95 col9\" >16.08%</td>\n",
       "                        <td id=\"T_bb8a3ee3_25ef_11eb_bdbd_34e6ad4876e0row95_col10\" class=\"data row95 col10\" >12.30%</td>\n",
       "            </tr>\n",
       "    </tbody></table>"
      ],
      "text/plain": [
       "<pandas.io.formats.style.Styler at 0x2470ae5c460>"
      ]
     },
     "execution_count": 192,
     "metadata": {},
     "output_type": "execute_result"
    }
   ],
   "source": [
    "# formatting table\n",
    "\n",
    "formatted_affordabilitydf=affordability_df.style.format({\n",
    "    'rent_divby_medianinc': '{:,.2%}'.format,\n",
    "    'rent_divby_avginc': '{:,.2%}'.format,\n",
    "})\n",
    "\n",
    "formatted_affordabilitydf # Note that \"style\" has no head function"
   ]
  },
  {
   "cell_type": "code",
   "execution_count": 195,
   "metadata": {
    "scrolled": false
   },
   "outputs": [
    {
     "data": {
      "application/vnd.plotly.v1+json": {
       "config": {
        "plotlyServerURL": "https://plot.ly"
       },
       "data": [
        {
         "alignmentgroup": "True",
         "hovertemplate": "Primary MSA=%{x}<br>rent_divby_medianinc=%{y}<br>density=%{marker.color}<extra></extra>",
         "legendgroup": "",
         "marker": {
          "color": [
           3276,
           10715,
           5019,
           7256,
           1686,
           1574,
           5532,
           1941,
           654,
           1353,
           274,
           653,
           1003,
           889,
           1789,
           2218,
           4574,
           792,
           2029,
           990,
           887,
           558,
           1022,
           1773,
           544,
           1551,
           3773,
           1860,
           1113,
           733,
           480,
           959,
           1149,
           1399,
           1526,
           493,
           889,
           1441,
           4554,
           858,
           1231,
           920,
           946,
           1253,
           1894,
           1831,
           3469,
           470,
           373,
           506,
           2690,
           252,
           4457,
           2830,
           983,
           1181,
           709,
           1864,
           1247,
           1155,
           935,
           553,
           2672,
           784,
           1893,
           1484,
           1582,
           3071,
           1254,
           1916,
           1734,
           1507,
           2093,
           2712,
           1740,
           417,
           2441,
           2220,
           699,
           1263,
           2343,
           978,
           607,
           2369,
           2195,
           1309,
           1879,
           1080,
           1169,
           1308,
           1230,
           634,
           938,
           1231,
           744,
           931
          ],
          "coloraxis": "coloraxis"
         },
         "name": "",
         "offsetgroup": "",
         "orientation": "v",
         "showlegend": false,
         "textposition": "auto",
         "type": "bar",
         "x": [
          "Los Angeles_CA",
          "New York_NY",
          "Miami_FL",
          "San Francisco_CA",
          "San Diego_CA",
          "Riverside_CA",
          "Boston_MA",
          "Stockton_CA",
          "Lakeland_FL",
          "Tampa_FL",
          "North Port_FL",
          "Port St. Lucie_FL",
          "Orlando_FL",
          "New Orleans_LA",
          "Fresno_CA",
          "San Jose_CA",
          "Chicago_IL",
          "Memphis_TN",
          "Sacramento_CA",
          "Bakersfield_CA",
          "Greensboro_NC",
          "Jackson_MS",
          "El Paso_TX",
          "Las Vegas_NV",
          "Nashville_TN",
          "Boulder_CO",
          "Providence_RI",
          "Springfield_MA",
          "Charlotte_NC",
          "Knoxville_TN",
          "Charleston_SC",
          "Durham_NC",
          "Fort Collins_CO",
          "Houston_TX",
          "Dallas_TX",
          "Chattanooga_TN",
          "Tucson_AZ",
          "Atlanta_GA",
          "Philadelphia_PA",
          "Greeley_CO",
          "San Antonio_TX",
          "Greenville_SC",
          "Colorado Springs_CO",
          "Phoenix_AZ",
          "Portland_OR",
          "Denver_CO",
          "Seattle_WA",
          "Jacksonville_FL",
          "Columbia_SC",
          "Gainesville_GA",
          "New Haven_CT",
          "Augusta_GA",
          "Washington_DC",
          "Baltimore_MD",
          "Baton Rouge_LA",
          "Austin_TX",
          "Virginia Beach_VA",
          "Detroit_MI",
          "Spokane_WA",
          "Albuquerque_NM",
          "Indianapolis_IN",
          "Birmingham_AL",
          "Allentown_PA",
          "Tulsa_OK",
          "Cleveland_OH",
          "Richmond_VA",
          "Columbus_OH",
          "Minneapolis_MN",
          "Raleigh_NC",
          "Worcester_MA",
          "Grand Rapids_MI",
          "Cincinnati_OH",
          "Pittsburgh_PA",
          "Hartford_CT",
          "Albany_NY",
          "Oklahoma City_OK",
          "Buffalo_NY",
          "Rochester_NY",
          "Salt Lake City_UT",
          "Madison_WI",
          "Harrisburg_PA",
          "Dayton_OH",
          "Kansas City_MO",
          "Milwaukee_WI",
          "Syracuse_NY",
          "Omaha_NE",
          "St. Louis_MO",
          "Provo_UT",
          "Scranton_PA",
          "Toledo_OH",
          "Ogden_UT",
          "Little Rock_AR",
          "Des Moines_IA",
          "Akron_OH",
          "Youngstown_OH",
          "Wichita_KS"
         ],
         "xaxis": "x",
         "y": [
          0.388124566050351,
          0.38707311207311207,
          0.37974094211935283,
          0.33192962265466974,
          0.32772518902184916,
          0.32580263269160303,
          0.3220268982314942,
          0.32028928794005534,
          0.31123029730094726,
          0.3102959969605913,
          0.30815248908830084,
          0.3071013289036545,
          0.30436679811235373,
          0.3003769520732364,
          0.2964463298445704,
          0.28393382493409236,
          0.28064845646665515,
          0.2782405803970178,
          0.2769144525851954,
          0.275255808694669,
          0.2750820938767626,
          0.27301339030252164,
          0.2704463060442824,
          0.2688102790345694,
          0.2673422333551564,
          0.26711470040097135,
          0.2646723124832669,
          0.263946363840503,
          0.26346782331059204,
          0.26319693410804795,
          0.2595135096801645,
          0.2594367793210113,
          0.2584257707551938,
          0.2560952697527207,
          0.2560852418183076,
          0.2560596756131922,
          0.25581726575157115,
          0.25434194753421985,
          0.2541424603866744,
          0.2538446861286014,
          0.25276240878838907,
          0.25098514184336673,
          0.24901904093180785,
          0.24777601036879934,
          0.24764466655617742,
          0.24502282785114607,
          0.24468503727652696,
          0.24408014571949,
          0.2437326155226559,
          0.2427112514266234,
          0.24220441283995928,
          0.24119108499718914,
          0.23958205169460245,
          0.23876863876863877,
          0.23464919500872486,
          0.23039009808039132,
          0.23033651141657893,
          0.23031477455336044,
          0.23010763504677598,
          0.23010664479081214,
          0.22960865252311927,
          0.22804372408594045,
          0.2265478225248259,
          0.22530634819129264,
          0.2245404347522192,
          0.22425502019788068,
          0.2240391625872305,
          0.22302802934359245,
          0.2223207151418298,
          0.21864357939959134,
          0.21545809945390104,
          0.2143808454919566,
          0.21416711900124524,
          0.21153171871956367,
          0.2110684214828742,
          0.20864615130764788,
          0.20687130854338243,
          0.2064601313925029,
          0.20509751109781035,
          0.2021576543781852,
          0.2018965542948307,
          0.2000722034073132,
          0.19931638538773766,
          0.19925582808109954,
          0.1987813046248346,
          0.198257854574908,
          0.1972687715494527,
          0.19716494845360824,
          0.19501325869180908,
          0.1935851240595187,
          0.19183354153259896,
          0.1874087494942743,
          0.1857961890843685,
          0.17770040939151124,
          0.16961159850076196,
          0.16084243630706435
         ],
         "yaxis": "y"
        }
       ],
       "layout": {
        "barmode": "relative",
        "coloraxis": {
         "colorbar": {
          "title": {
           "text": "density"
          }
         },
         "colorscale": [
          [
           0,
           "rgb(230, 240, 240)"
          ],
          [
           0.09090909090909091,
           "rgb(191, 221, 229)"
          ],
          [
           0.18181818181818182,
           "rgb(156, 201, 226)"
          ],
          [
           0.2727272727272727,
           "rgb(129, 180, 227)"
          ],
          [
           0.36363636363636365,
           "rgb(115, 154, 228)"
          ],
          [
           0.45454545454545453,
           "rgb(117, 127, 221)"
          ],
          [
           0.5454545454545454,
           "rgb(120, 100, 202)"
          ],
          [
           0.6363636363636364,
           "rgb(119, 74, 175)"
          ],
          [
           0.7272727272727273,
           "rgb(113, 50, 141)"
          ],
          [
           0.8181818181818182,
           "rgb(100, 31, 104)"
          ],
          [
           0.9090909090909091,
           "rgb(80, 20, 66)"
          ],
          [
           1,
           "rgb(54, 14, 36)"
          ]
         ]
        },
        "height": 600,
        "legend": {
         "tracegroupgap": 0
        },
        "template": {
         "data": {
          "bar": [
           {
            "error_x": {
             "color": "#2a3f5f"
            },
            "error_y": {
             "color": "#2a3f5f"
            },
            "marker": {
             "line": {
              "color": "#E5ECF6",
              "width": 0.5
             }
            },
            "type": "bar"
           }
          ],
          "barpolar": [
           {
            "marker": {
             "line": {
              "color": "#E5ECF6",
              "width": 0.5
             }
            },
            "type": "barpolar"
           }
          ],
          "carpet": [
           {
            "aaxis": {
             "endlinecolor": "#2a3f5f",
             "gridcolor": "white",
             "linecolor": "white",
             "minorgridcolor": "white",
             "startlinecolor": "#2a3f5f"
            },
            "baxis": {
             "endlinecolor": "#2a3f5f",
             "gridcolor": "white",
             "linecolor": "white",
             "minorgridcolor": "white",
             "startlinecolor": "#2a3f5f"
            },
            "type": "carpet"
           }
          ],
          "choropleth": [
           {
            "colorbar": {
             "outlinewidth": 0,
             "ticks": ""
            },
            "type": "choropleth"
           }
          ],
          "contour": [
           {
            "colorbar": {
             "outlinewidth": 0,
             "ticks": ""
            },
            "colorscale": [
             [
              0,
              "#0d0887"
             ],
             [
              0.1111111111111111,
              "#46039f"
             ],
             [
              0.2222222222222222,
              "#7201a8"
             ],
             [
              0.3333333333333333,
              "#9c179e"
             ],
             [
              0.4444444444444444,
              "#bd3786"
             ],
             [
              0.5555555555555556,
              "#d8576b"
             ],
             [
              0.6666666666666666,
              "#ed7953"
             ],
             [
              0.7777777777777778,
              "#fb9f3a"
             ],
             [
              0.8888888888888888,
              "#fdca26"
             ],
             [
              1,
              "#f0f921"
             ]
            ],
            "type": "contour"
           }
          ],
          "contourcarpet": [
           {
            "colorbar": {
             "outlinewidth": 0,
             "ticks": ""
            },
            "type": "contourcarpet"
           }
          ],
          "heatmap": [
           {
            "colorbar": {
             "outlinewidth": 0,
             "ticks": ""
            },
            "colorscale": [
             [
              0,
              "#0d0887"
             ],
             [
              0.1111111111111111,
              "#46039f"
             ],
             [
              0.2222222222222222,
              "#7201a8"
             ],
             [
              0.3333333333333333,
              "#9c179e"
             ],
             [
              0.4444444444444444,
              "#bd3786"
             ],
             [
              0.5555555555555556,
              "#d8576b"
             ],
             [
              0.6666666666666666,
              "#ed7953"
             ],
             [
              0.7777777777777778,
              "#fb9f3a"
             ],
             [
              0.8888888888888888,
              "#fdca26"
             ],
             [
              1,
              "#f0f921"
             ]
            ],
            "type": "heatmap"
           }
          ],
          "heatmapgl": [
           {
            "colorbar": {
             "outlinewidth": 0,
             "ticks": ""
            },
            "colorscale": [
             [
              0,
              "#0d0887"
             ],
             [
              0.1111111111111111,
              "#46039f"
             ],
             [
              0.2222222222222222,
              "#7201a8"
             ],
             [
              0.3333333333333333,
              "#9c179e"
             ],
             [
              0.4444444444444444,
              "#bd3786"
             ],
             [
              0.5555555555555556,
              "#d8576b"
             ],
             [
              0.6666666666666666,
              "#ed7953"
             ],
             [
              0.7777777777777778,
              "#fb9f3a"
             ],
             [
              0.8888888888888888,
              "#fdca26"
             ],
             [
              1,
              "#f0f921"
             ]
            ],
            "type": "heatmapgl"
           }
          ],
          "histogram": [
           {
            "marker": {
             "colorbar": {
              "outlinewidth": 0,
              "ticks": ""
             }
            },
            "type": "histogram"
           }
          ],
          "histogram2d": [
           {
            "colorbar": {
             "outlinewidth": 0,
             "ticks": ""
            },
            "colorscale": [
             [
              0,
              "#0d0887"
             ],
             [
              0.1111111111111111,
              "#46039f"
             ],
             [
              0.2222222222222222,
              "#7201a8"
             ],
             [
              0.3333333333333333,
              "#9c179e"
             ],
             [
              0.4444444444444444,
              "#bd3786"
             ],
             [
              0.5555555555555556,
              "#d8576b"
             ],
             [
              0.6666666666666666,
              "#ed7953"
             ],
             [
              0.7777777777777778,
              "#fb9f3a"
             ],
             [
              0.8888888888888888,
              "#fdca26"
             ],
             [
              1,
              "#f0f921"
             ]
            ],
            "type": "histogram2d"
           }
          ],
          "histogram2dcontour": [
           {
            "colorbar": {
             "outlinewidth": 0,
             "ticks": ""
            },
            "colorscale": [
             [
              0,
              "#0d0887"
             ],
             [
              0.1111111111111111,
              "#46039f"
             ],
             [
              0.2222222222222222,
              "#7201a8"
             ],
             [
              0.3333333333333333,
              "#9c179e"
             ],
             [
              0.4444444444444444,
              "#bd3786"
             ],
             [
              0.5555555555555556,
              "#d8576b"
             ],
             [
              0.6666666666666666,
              "#ed7953"
             ],
             [
              0.7777777777777778,
              "#fb9f3a"
             ],
             [
              0.8888888888888888,
              "#fdca26"
             ],
             [
              1,
              "#f0f921"
             ]
            ],
            "type": "histogram2dcontour"
           }
          ],
          "mesh3d": [
           {
            "colorbar": {
             "outlinewidth": 0,
             "ticks": ""
            },
            "type": "mesh3d"
           }
          ],
          "parcoords": [
           {
            "line": {
             "colorbar": {
              "outlinewidth": 0,
              "ticks": ""
             }
            },
            "type": "parcoords"
           }
          ],
          "pie": [
           {
            "automargin": true,
            "type": "pie"
           }
          ],
          "scatter": [
           {
            "marker": {
             "colorbar": {
              "outlinewidth": 0,
              "ticks": ""
             }
            },
            "type": "scatter"
           }
          ],
          "scatter3d": [
           {
            "line": {
             "colorbar": {
              "outlinewidth": 0,
              "ticks": ""
             }
            },
            "marker": {
             "colorbar": {
              "outlinewidth": 0,
              "ticks": ""
             }
            },
            "type": "scatter3d"
           }
          ],
          "scattercarpet": [
           {
            "marker": {
             "colorbar": {
              "outlinewidth": 0,
              "ticks": ""
             }
            },
            "type": "scattercarpet"
           }
          ],
          "scattergeo": [
           {
            "marker": {
             "colorbar": {
              "outlinewidth": 0,
              "ticks": ""
             }
            },
            "type": "scattergeo"
           }
          ],
          "scattergl": [
           {
            "marker": {
             "colorbar": {
              "outlinewidth": 0,
              "ticks": ""
             }
            },
            "type": "scattergl"
           }
          ],
          "scattermapbox": [
           {
            "marker": {
             "colorbar": {
              "outlinewidth": 0,
              "ticks": ""
             }
            },
            "type": "scattermapbox"
           }
          ],
          "scatterpolar": [
           {
            "marker": {
             "colorbar": {
              "outlinewidth": 0,
              "ticks": ""
             }
            },
            "type": "scatterpolar"
           }
          ],
          "scatterpolargl": [
           {
            "marker": {
             "colorbar": {
              "outlinewidth": 0,
              "ticks": ""
             }
            },
            "type": "scatterpolargl"
           }
          ],
          "scatterternary": [
           {
            "marker": {
             "colorbar": {
              "outlinewidth": 0,
              "ticks": ""
             }
            },
            "type": "scatterternary"
           }
          ],
          "surface": [
           {
            "colorbar": {
             "outlinewidth": 0,
             "ticks": ""
            },
            "colorscale": [
             [
              0,
              "#0d0887"
             ],
             [
              0.1111111111111111,
              "#46039f"
             ],
             [
              0.2222222222222222,
              "#7201a8"
             ],
             [
              0.3333333333333333,
              "#9c179e"
             ],
             [
              0.4444444444444444,
              "#bd3786"
             ],
             [
              0.5555555555555556,
              "#d8576b"
             ],
             [
              0.6666666666666666,
              "#ed7953"
             ],
             [
              0.7777777777777778,
              "#fb9f3a"
             ],
             [
              0.8888888888888888,
              "#fdca26"
             ],
             [
              1,
              "#f0f921"
             ]
            ],
            "type": "surface"
           }
          ],
          "table": [
           {
            "cells": {
             "fill": {
              "color": "#EBF0F8"
             },
             "line": {
              "color": "white"
             }
            },
            "header": {
             "fill": {
              "color": "#C8D4E3"
             },
             "line": {
              "color": "white"
             }
            },
            "type": "table"
           }
          ]
         },
         "layout": {
          "annotationdefaults": {
           "arrowcolor": "#2a3f5f",
           "arrowhead": 0,
           "arrowwidth": 1
          },
          "coloraxis": {
           "colorbar": {
            "outlinewidth": 0,
            "ticks": ""
           }
          },
          "colorscale": {
           "diverging": [
            [
             0,
             "#8e0152"
            ],
            [
             0.1,
             "#c51b7d"
            ],
            [
             0.2,
             "#de77ae"
            ],
            [
             0.3,
             "#f1b6da"
            ],
            [
             0.4,
             "#fde0ef"
            ],
            [
             0.5,
             "#f7f7f7"
            ],
            [
             0.6,
             "#e6f5d0"
            ],
            [
             0.7,
             "#b8e186"
            ],
            [
             0.8,
             "#7fbc41"
            ],
            [
             0.9,
             "#4d9221"
            ],
            [
             1,
             "#276419"
            ]
           ],
           "sequential": [
            [
             0,
             "#0d0887"
            ],
            [
             0.1111111111111111,
             "#46039f"
            ],
            [
             0.2222222222222222,
             "#7201a8"
            ],
            [
             0.3333333333333333,
             "#9c179e"
            ],
            [
             0.4444444444444444,
             "#bd3786"
            ],
            [
             0.5555555555555556,
             "#d8576b"
            ],
            [
             0.6666666666666666,
             "#ed7953"
            ],
            [
             0.7777777777777778,
             "#fb9f3a"
            ],
            [
             0.8888888888888888,
             "#fdca26"
            ],
            [
             1,
             "#f0f921"
            ]
           ],
           "sequentialminus": [
            [
             0,
             "#0d0887"
            ],
            [
             0.1111111111111111,
             "#46039f"
            ],
            [
             0.2222222222222222,
             "#7201a8"
            ],
            [
             0.3333333333333333,
             "#9c179e"
            ],
            [
             0.4444444444444444,
             "#bd3786"
            ],
            [
             0.5555555555555556,
             "#d8576b"
            ],
            [
             0.6666666666666666,
             "#ed7953"
            ],
            [
             0.7777777777777778,
             "#fb9f3a"
            ],
            [
             0.8888888888888888,
             "#fdca26"
            ],
            [
             1,
             "#f0f921"
            ]
           ]
          },
          "colorway": [
           "#636efa",
           "#EF553B",
           "#00cc96",
           "#ab63fa",
           "#FFA15A",
           "#19d3f3",
           "#FF6692",
           "#B6E880",
           "#FF97FF",
           "#FECB52"
          ],
          "font": {
           "color": "#2a3f5f"
          },
          "geo": {
           "bgcolor": "white",
           "lakecolor": "white",
           "landcolor": "#E5ECF6",
           "showlakes": true,
           "showland": true,
           "subunitcolor": "white"
          },
          "hoverlabel": {
           "align": "left"
          },
          "hovermode": "closest",
          "mapbox": {
           "style": "light"
          },
          "paper_bgcolor": "white",
          "plot_bgcolor": "#E5ECF6",
          "polar": {
           "angularaxis": {
            "gridcolor": "white",
            "linecolor": "white",
            "ticks": ""
           },
           "bgcolor": "#E5ECF6",
           "radialaxis": {
            "gridcolor": "white",
            "linecolor": "white",
            "ticks": ""
           }
          },
          "scene": {
           "xaxis": {
            "backgroundcolor": "#E5ECF6",
            "gridcolor": "white",
            "gridwidth": 2,
            "linecolor": "white",
            "showbackground": true,
            "ticks": "",
            "zerolinecolor": "white"
           },
           "yaxis": {
            "backgroundcolor": "#E5ECF6",
            "gridcolor": "white",
            "gridwidth": 2,
            "linecolor": "white",
            "showbackground": true,
            "ticks": "",
            "zerolinecolor": "white"
           },
           "zaxis": {
            "backgroundcolor": "#E5ECF6",
            "gridcolor": "white",
            "gridwidth": 2,
            "linecolor": "white",
            "showbackground": true,
            "ticks": "",
            "zerolinecolor": "white"
           }
          },
          "shapedefaults": {
           "line": {
            "color": "#2a3f5f"
           }
          },
          "ternary": {
           "aaxis": {
            "gridcolor": "white",
            "linecolor": "white",
            "ticks": ""
           },
           "baxis": {
            "gridcolor": "white",
            "linecolor": "white",
            "ticks": ""
           },
           "bgcolor": "#E5ECF6",
           "caxis": {
            "gridcolor": "white",
            "linecolor": "white",
            "ticks": ""
           }
          },
          "title": {
           "x": 0.05
          },
          "xaxis": {
           "automargin": true,
           "gridcolor": "white",
           "linecolor": "white",
           "ticks": "",
           "title": {
            "standoff": 15
           },
           "zerolinecolor": "white",
           "zerolinewidth": 2
          },
          "yaxis": {
           "automargin": true,
           "gridcolor": "white",
           "linecolor": "white",
           "ticks": "",
           "title": {
            "standoff": 15
           },
           "zerolinecolor": "white",
           "zerolinewidth": 2
          }
         }
        },
        "title": {
         "text": "<b>Percentage of Income spent on Rent</b>"
        },
        "xaxis": {
         "anchor": "y",
         "domain": [
          0,
          1
         ],
         "dtick": 1,
         "tickfont": {
          "size": 11
         },
         "tickmode": "linear",
         "title": {
          "text": "Primary MSA"
         }
        },
        "yaxis": {
         "anchor": "x",
         "domain": [
          0,
          1
         ],
         "range": [
          0,
          0.45
         ],
         "tickformat": ",.0%",
         "title": {
          "text": ""
         }
        }
       }
      },
      "text/html": [
       "<div>                            <div id=\"15039191-be19-400d-b3b7-b5d889355428\" class=\"plotly-graph-div\" style=\"height:600px; width:100%;\"></div>            <script type=\"text/javascript\">                require([\"plotly\"], function(Plotly) {                    window.PLOTLYENV=window.PLOTLYENV || {};                                    if (document.getElementById(\"15039191-be19-400d-b3b7-b5d889355428\")) {                    Plotly.newPlot(                        \"15039191-be19-400d-b3b7-b5d889355428\",                        [{\"alignmentgroup\": \"True\", \"hovertemplate\": \"Primary MSA=%{x}<br>rent_divby_medianinc=%{y}<br>density=%{marker.color}<extra></extra>\", \"legendgroup\": \"\", \"marker\": {\"color\": [3276.0, 10715.0, 5019.0, 7256.0, 1686.0, 1574.0, 5532.0, 1941.0, 654.0, 1353.0, 274.0, 653.0, 1003.0, 889.0, 1789.0, 2218.0, 4574.0, 792.0, 2029.0, 990.0, 887.0, 558.0, 1022.0, 1773.0, 544.0, 1551.0, 3773.0, 1860.0, 1113.0, 733.0, 480.0, 959.0, 1149.0, 1399.0, 1526.0, 493.0, 889.0, 1441.0, 4554.0, 858.0, 1231.0, 920.0, 946.0, 1253.0, 1894.0, 1831.0, 3469.0, 470.0, 373.0, 506.0, 2690.0, 252.0, 4457.0, 2830.0, 983.0, 1181.0, 709.0, 1864.0, 1247.0, 1155.0, 935.0, 553.0, 2672.0, 784.0, 1893.0, 1484.0, 1582.0, 3071.0, 1254.0, 1916.0, 1734.0, 1507.0, 2093.0, 2712.0, 1740.0, 417.0, 2441.0, 2220.0, 699.0, 1263.0, 2343.0, 978.0, 607.0, 2369.0, 2195.0, 1309.0, 1879.0, 1080.0, 1169.0, 1308.0, 1230.0, 634.0, 938.0, 1231.0, 744.0, 931.0], \"coloraxis\": \"coloraxis\"}, \"name\": \"\", \"offsetgroup\": \"\", \"orientation\": \"v\", \"showlegend\": false, \"textposition\": \"auto\", \"type\": \"bar\", \"x\": [\"Los Angeles_CA\", \"New York_NY\", \"Miami_FL\", \"San Francisco_CA\", \"San Diego_CA\", \"Riverside_CA\", \"Boston_MA\", \"Stockton_CA\", \"Lakeland_FL\", \"Tampa_FL\", \"North Port_FL\", \"Port St. Lucie_FL\", \"Orlando_FL\", \"New Orleans_LA\", \"Fresno_CA\", \"San Jose_CA\", \"Chicago_IL\", \"Memphis_TN\", \"Sacramento_CA\", \"Bakersfield_CA\", \"Greensboro_NC\", \"Jackson_MS\", \"El Paso_TX\", \"Las Vegas_NV\", \"Nashville_TN\", \"Boulder_CO\", \"Providence_RI\", \"Springfield_MA\", \"Charlotte_NC\", \"Knoxville_TN\", \"Charleston_SC\", \"Durham_NC\", \"Fort Collins_CO\", \"Houston_TX\", \"Dallas_TX\", \"Chattanooga_TN\", \"Tucson_AZ\", \"Atlanta_GA\", \"Philadelphia_PA\", \"Greeley_CO\", \"San Antonio_TX\", \"Greenville_SC\", \"Colorado Springs_CO\", \"Phoenix_AZ\", \"Portland_OR\", \"Denver_CO\", \"Seattle_WA\", \"Jacksonville_FL\", \"Columbia_SC\", \"Gainesville_GA\", \"New Haven_CT\", \"Augusta_GA\", \"Washington_DC\", \"Baltimore_MD\", \"Baton Rouge_LA\", \"Austin_TX\", \"Virginia Beach_VA\", \"Detroit_MI\", \"Spokane_WA\", \"Albuquerque_NM\", \"Indianapolis_IN\", \"Birmingham_AL\", \"Allentown_PA\", \"Tulsa_OK\", \"Cleveland_OH\", \"Richmond_VA\", \"Columbus_OH\", \"Minneapolis_MN\", \"Raleigh_NC\", \"Worcester_MA\", \"Grand Rapids_MI\", \"Cincinnati_OH\", \"Pittsburgh_PA\", \"Hartford_CT\", \"Albany_NY\", \"Oklahoma City_OK\", \"Buffalo_NY\", \"Rochester_NY\", \"Salt Lake City_UT\", \"Madison_WI\", \"Harrisburg_PA\", \"Dayton_OH\", \"Kansas City_MO\", \"Milwaukee_WI\", \"Syracuse_NY\", \"Omaha_NE\", \"St. Louis_MO\", \"Provo_UT\", \"Scranton_PA\", \"Toledo_OH\", \"Ogden_UT\", \"Little Rock_AR\", \"Des Moines_IA\", \"Akron_OH\", \"Youngstown_OH\", \"Wichita_KS\"], \"xaxis\": \"x\", \"y\": [0.388124566050351, 0.38707311207311207, 0.37974094211935283, 0.33192962265466974, 0.32772518902184916, 0.32580263269160303, 0.3220268982314942, 0.32028928794005534, 0.31123029730094726, 0.3102959969605913, 0.30815248908830084, 0.3071013289036545, 0.30436679811235373, 0.3003769520732364, 0.2964463298445704, 0.28393382493409236, 0.28064845646665515, 0.2782405803970178, 0.2769144525851954, 0.275255808694669, 0.2750820938767626, 0.27301339030252164, 0.2704463060442824, 0.2688102790345694, 0.2673422333551564, 0.26711470040097135, 0.2646723124832669, 0.263946363840503, 0.26346782331059204, 0.26319693410804795, 0.2595135096801645, 0.2594367793210113, 0.2584257707551938, 0.2560952697527207, 0.2560852418183076, 0.2560596756131922, 0.25581726575157115, 0.25434194753421985, 0.2541424603866744, 0.2538446861286014, 0.25276240878838907, 0.25098514184336673, 0.24901904093180785, 0.24777601036879934, 0.24764466655617742, 0.24502282785114607, 0.24468503727652696, 0.24408014571949, 0.2437326155226559, 0.2427112514266234, 0.24220441283995928, 0.24119108499718914, 0.23958205169460245, 0.23876863876863877, 0.23464919500872486, 0.23039009808039132, 0.23033651141657893, 0.23031477455336044, 0.23010763504677598, 0.23010664479081214, 0.22960865252311927, 0.22804372408594045, 0.2265478225248259, 0.22530634819129264, 0.2245404347522192, 0.22425502019788068, 0.2240391625872305, 0.22302802934359245, 0.2223207151418298, 0.21864357939959134, 0.21545809945390104, 0.2143808454919566, 0.21416711900124524, 0.21153171871956367, 0.2110684214828742, 0.20864615130764788, 0.20687130854338243, 0.2064601313925029, 0.20509751109781035, 0.2021576543781852, 0.2018965542948307, 0.2000722034073132, 0.19931638538773766, 0.19925582808109954, 0.1987813046248346, 0.198257854574908, 0.1972687715494527, 0.19716494845360824, 0.19501325869180908, 0.1935851240595187, 0.19183354153259896, 0.1874087494942743, 0.1857961890843685, 0.17770040939151124, 0.16961159850076196, 0.16084243630706435], \"yaxis\": \"y\"}],                        {\"barmode\": \"relative\", \"coloraxis\": {\"colorbar\": {\"title\": {\"text\": \"density\"}}, \"colorscale\": [[0.0, \"rgb(230, 240, 240)\"], [0.09090909090909091, \"rgb(191, 221, 229)\"], [0.18181818181818182, \"rgb(156, 201, 226)\"], [0.2727272727272727, \"rgb(129, 180, 227)\"], [0.36363636363636365, \"rgb(115, 154, 228)\"], [0.45454545454545453, \"rgb(117, 127, 221)\"], [0.5454545454545454, \"rgb(120, 100, 202)\"], [0.6363636363636364, \"rgb(119, 74, 175)\"], [0.7272727272727273, \"rgb(113, 50, 141)\"], [0.8181818181818182, \"rgb(100, 31, 104)\"], [0.9090909090909091, \"rgb(80, 20, 66)\"], [1.0, \"rgb(54, 14, 36)\"]]}, \"height\": 600, \"legend\": {\"tracegroupgap\": 0}, \"template\": {\"data\": {\"bar\": [{\"error_x\": {\"color\": \"#2a3f5f\"}, \"error_y\": {\"color\": \"#2a3f5f\"}, \"marker\": {\"line\": {\"color\": \"#E5ECF6\", \"width\": 0.5}}, \"type\": \"bar\"}], \"barpolar\": [{\"marker\": {\"line\": {\"color\": \"#E5ECF6\", \"width\": 0.5}}, \"type\": \"barpolar\"}], \"carpet\": [{\"aaxis\": {\"endlinecolor\": \"#2a3f5f\", \"gridcolor\": \"white\", \"linecolor\": \"white\", \"minorgridcolor\": \"white\", \"startlinecolor\": \"#2a3f5f\"}, \"baxis\": {\"endlinecolor\": \"#2a3f5f\", \"gridcolor\": \"white\", \"linecolor\": \"white\", \"minorgridcolor\": \"white\", \"startlinecolor\": \"#2a3f5f\"}, \"type\": \"carpet\"}], \"choropleth\": [{\"colorbar\": {\"outlinewidth\": 0, \"ticks\": \"\"}, \"type\": \"choropleth\"}], \"contour\": [{\"colorbar\": {\"outlinewidth\": 0, \"ticks\": \"\"}, \"colorscale\": [[0.0, \"#0d0887\"], [0.1111111111111111, \"#46039f\"], [0.2222222222222222, \"#7201a8\"], [0.3333333333333333, \"#9c179e\"], [0.4444444444444444, \"#bd3786\"], [0.5555555555555556, \"#d8576b\"], [0.6666666666666666, \"#ed7953\"], [0.7777777777777778, \"#fb9f3a\"], [0.8888888888888888, \"#fdca26\"], [1.0, \"#f0f921\"]], \"type\": \"contour\"}], \"contourcarpet\": [{\"colorbar\": {\"outlinewidth\": 0, \"ticks\": \"\"}, \"type\": \"contourcarpet\"}], \"heatmap\": [{\"colorbar\": {\"outlinewidth\": 0, \"ticks\": \"\"}, \"colorscale\": [[0.0, \"#0d0887\"], [0.1111111111111111, \"#46039f\"], [0.2222222222222222, \"#7201a8\"], [0.3333333333333333, \"#9c179e\"], [0.4444444444444444, \"#bd3786\"], [0.5555555555555556, \"#d8576b\"], [0.6666666666666666, \"#ed7953\"], [0.7777777777777778, \"#fb9f3a\"], [0.8888888888888888, \"#fdca26\"], [1.0, \"#f0f921\"]], \"type\": \"heatmap\"}], \"heatmapgl\": [{\"colorbar\": {\"outlinewidth\": 0, \"ticks\": \"\"}, \"colorscale\": [[0.0, \"#0d0887\"], [0.1111111111111111, \"#46039f\"], [0.2222222222222222, \"#7201a8\"], [0.3333333333333333, \"#9c179e\"], [0.4444444444444444, \"#bd3786\"], [0.5555555555555556, \"#d8576b\"], [0.6666666666666666, \"#ed7953\"], [0.7777777777777778, \"#fb9f3a\"], [0.8888888888888888, \"#fdca26\"], [1.0, \"#f0f921\"]], \"type\": \"heatmapgl\"}], \"histogram\": [{\"marker\": {\"colorbar\": {\"outlinewidth\": 0, \"ticks\": \"\"}}, \"type\": \"histogram\"}], \"histogram2d\": [{\"colorbar\": {\"outlinewidth\": 0, \"ticks\": \"\"}, \"colorscale\": [[0.0, \"#0d0887\"], [0.1111111111111111, \"#46039f\"], [0.2222222222222222, \"#7201a8\"], [0.3333333333333333, \"#9c179e\"], [0.4444444444444444, \"#bd3786\"], [0.5555555555555556, \"#d8576b\"], [0.6666666666666666, \"#ed7953\"], [0.7777777777777778, \"#fb9f3a\"], [0.8888888888888888, \"#fdca26\"], [1.0, \"#f0f921\"]], \"type\": \"histogram2d\"}], \"histogram2dcontour\": [{\"colorbar\": {\"outlinewidth\": 0, \"ticks\": \"\"}, \"colorscale\": [[0.0, \"#0d0887\"], [0.1111111111111111, \"#46039f\"], [0.2222222222222222, \"#7201a8\"], [0.3333333333333333, \"#9c179e\"], [0.4444444444444444, \"#bd3786\"], [0.5555555555555556, \"#d8576b\"], [0.6666666666666666, \"#ed7953\"], [0.7777777777777778, \"#fb9f3a\"], [0.8888888888888888, \"#fdca26\"], [1.0, \"#f0f921\"]], \"type\": \"histogram2dcontour\"}], \"mesh3d\": [{\"colorbar\": {\"outlinewidth\": 0, \"ticks\": \"\"}, \"type\": \"mesh3d\"}], \"parcoords\": [{\"line\": {\"colorbar\": {\"outlinewidth\": 0, \"ticks\": \"\"}}, \"type\": \"parcoords\"}], \"pie\": [{\"automargin\": true, \"type\": \"pie\"}], \"scatter\": [{\"marker\": {\"colorbar\": {\"outlinewidth\": 0, \"ticks\": \"\"}}, \"type\": \"scatter\"}], \"scatter3d\": [{\"line\": {\"colorbar\": {\"outlinewidth\": 0, \"ticks\": \"\"}}, \"marker\": {\"colorbar\": {\"outlinewidth\": 0, \"ticks\": \"\"}}, \"type\": \"scatter3d\"}], \"scattercarpet\": [{\"marker\": {\"colorbar\": {\"outlinewidth\": 0, \"ticks\": \"\"}}, \"type\": \"scattercarpet\"}], \"scattergeo\": [{\"marker\": {\"colorbar\": {\"outlinewidth\": 0, \"ticks\": \"\"}}, \"type\": \"scattergeo\"}], \"scattergl\": [{\"marker\": {\"colorbar\": {\"outlinewidth\": 0, \"ticks\": \"\"}}, \"type\": \"scattergl\"}], \"scattermapbox\": [{\"marker\": {\"colorbar\": {\"outlinewidth\": 0, \"ticks\": \"\"}}, \"type\": \"scattermapbox\"}], \"scatterpolar\": [{\"marker\": {\"colorbar\": {\"outlinewidth\": 0, \"ticks\": \"\"}}, \"type\": \"scatterpolar\"}], \"scatterpolargl\": [{\"marker\": {\"colorbar\": {\"outlinewidth\": 0, \"ticks\": \"\"}}, \"type\": \"scatterpolargl\"}], \"scatterternary\": [{\"marker\": {\"colorbar\": {\"outlinewidth\": 0, \"ticks\": \"\"}}, \"type\": \"scatterternary\"}], \"surface\": [{\"colorbar\": {\"outlinewidth\": 0, \"ticks\": \"\"}, \"colorscale\": [[0.0, \"#0d0887\"], [0.1111111111111111, \"#46039f\"], [0.2222222222222222, \"#7201a8\"], [0.3333333333333333, \"#9c179e\"], [0.4444444444444444, \"#bd3786\"], [0.5555555555555556, \"#d8576b\"], [0.6666666666666666, \"#ed7953\"], [0.7777777777777778, \"#fb9f3a\"], [0.8888888888888888, \"#fdca26\"], [1.0, \"#f0f921\"]], \"type\": \"surface\"}], \"table\": [{\"cells\": {\"fill\": {\"color\": \"#EBF0F8\"}, \"line\": {\"color\": \"white\"}}, \"header\": {\"fill\": {\"color\": \"#C8D4E3\"}, \"line\": {\"color\": \"white\"}}, \"type\": \"table\"}]}, \"layout\": {\"annotationdefaults\": {\"arrowcolor\": \"#2a3f5f\", \"arrowhead\": 0, \"arrowwidth\": 1}, \"coloraxis\": {\"colorbar\": {\"outlinewidth\": 0, \"ticks\": \"\"}}, \"colorscale\": {\"diverging\": [[0, \"#8e0152\"], [0.1, \"#c51b7d\"], [0.2, \"#de77ae\"], [0.3, \"#f1b6da\"], [0.4, \"#fde0ef\"], [0.5, \"#f7f7f7\"], [0.6, \"#e6f5d0\"], [0.7, \"#b8e186\"], [0.8, \"#7fbc41\"], [0.9, \"#4d9221\"], [1, \"#276419\"]], \"sequential\": [[0.0, \"#0d0887\"], [0.1111111111111111, \"#46039f\"], [0.2222222222222222, \"#7201a8\"], [0.3333333333333333, \"#9c179e\"], [0.4444444444444444, \"#bd3786\"], [0.5555555555555556, \"#d8576b\"], [0.6666666666666666, \"#ed7953\"], [0.7777777777777778, \"#fb9f3a\"], [0.8888888888888888, \"#fdca26\"], [1.0, \"#f0f921\"]], \"sequentialminus\": [[0.0, \"#0d0887\"], [0.1111111111111111, \"#46039f\"], [0.2222222222222222, \"#7201a8\"], [0.3333333333333333, \"#9c179e\"], [0.4444444444444444, \"#bd3786\"], [0.5555555555555556, \"#d8576b\"], [0.6666666666666666, \"#ed7953\"], [0.7777777777777778, \"#fb9f3a\"], [0.8888888888888888, \"#fdca26\"], [1.0, \"#f0f921\"]]}, \"colorway\": [\"#636efa\", \"#EF553B\", \"#00cc96\", \"#ab63fa\", \"#FFA15A\", \"#19d3f3\", \"#FF6692\", \"#B6E880\", \"#FF97FF\", \"#FECB52\"], \"font\": {\"color\": \"#2a3f5f\"}, \"geo\": {\"bgcolor\": \"white\", \"lakecolor\": \"white\", \"landcolor\": \"#E5ECF6\", \"showlakes\": true, \"showland\": true, \"subunitcolor\": \"white\"}, \"hoverlabel\": {\"align\": \"left\"}, \"hovermode\": \"closest\", \"mapbox\": {\"style\": \"light\"}, \"paper_bgcolor\": \"white\", \"plot_bgcolor\": \"#E5ECF6\", \"polar\": {\"angularaxis\": {\"gridcolor\": \"white\", \"linecolor\": \"white\", \"ticks\": \"\"}, \"bgcolor\": \"#E5ECF6\", \"radialaxis\": {\"gridcolor\": \"white\", \"linecolor\": \"white\", \"ticks\": \"\"}}, \"scene\": {\"xaxis\": {\"backgroundcolor\": \"#E5ECF6\", \"gridcolor\": \"white\", \"gridwidth\": 2, \"linecolor\": \"white\", \"showbackground\": true, \"ticks\": \"\", \"zerolinecolor\": \"white\"}, \"yaxis\": {\"backgroundcolor\": \"#E5ECF6\", \"gridcolor\": \"white\", \"gridwidth\": 2, \"linecolor\": \"white\", \"showbackground\": true, \"ticks\": \"\", \"zerolinecolor\": \"white\"}, \"zaxis\": {\"backgroundcolor\": \"#E5ECF6\", \"gridcolor\": \"white\", \"gridwidth\": 2, \"linecolor\": \"white\", \"showbackground\": true, \"ticks\": \"\", \"zerolinecolor\": \"white\"}}, \"shapedefaults\": {\"line\": {\"color\": \"#2a3f5f\"}}, \"ternary\": {\"aaxis\": {\"gridcolor\": \"white\", \"linecolor\": \"white\", \"ticks\": \"\"}, \"baxis\": {\"gridcolor\": \"white\", \"linecolor\": \"white\", \"ticks\": \"\"}, \"bgcolor\": \"#E5ECF6\", \"caxis\": {\"gridcolor\": \"white\", \"linecolor\": \"white\", \"ticks\": \"\"}}, \"title\": {\"x\": 0.05}, \"xaxis\": {\"automargin\": true, \"gridcolor\": \"white\", \"linecolor\": \"white\", \"ticks\": \"\", \"title\": {\"standoff\": 15}, \"zerolinecolor\": \"white\", \"zerolinewidth\": 2}, \"yaxis\": {\"automargin\": true, \"gridcolor\": \"white\", \"linecolor\": \"white\", \"ticks\": \"\", \"title\": {\"standoff\": 15}, \"zerolinecolor\": \"white\", \"zerolinewidth\": 2}}}, \"title\": {\"text\": \"<b>Percentage of Income spent on Rent</b>\"}, \"xaxis\": {\"anchor\": \"y\", \"domain\": [0.0, 1.0], \"dtick\": 1, \"tickfont\": {\"size\": 11}, \"tickmode\": \"linear\", \"title\": {\"text\": \"Primary MSA\"}}, \"yaxis\": {\"anchor\": \"x\", \"domain\": [0.0, 1.0], \"range\": [0, 0.45], \"tickformat\": \",.0%\", \"title\": {\"text\": \"\"}}},                        {\"responsive\": true}                    ).then(function(){\n",
       "                            \n",
       "var gd = document.getElementById('15039191-be19-400d-b3b7-b5d889355428');\n",
       "var x = new MutationObserver(function (mutations, observer) {{\n",
       "        var display = window.getComputedStyle(gd).display;\n",
       "        if (!display || display === 'none') {{\n",
       "            console.log([gd, 'removed!']);\n",
       "            Plotly.purge(gd);\n",
       "            observer.disconnect();\n",
       "        }}\n",
       "}});\n",
       "\n",
       "// Listen for the removal of the full notebook cells\n",
       "var notebookContainer = gd.closest('#notebook-container');\n",
       "if (notebookContainer) {{\n",
       "    x.observe(notebookContainer, {childList: true});\n",
       "}}\n",
       "\n",
       "// Listen for the clearing of the current output cell\n",
       "var outputEl = gd.closest('.output');\n",
       "if (outputEl) {{\n",
       "    x.observe(outputEl, {childList: true});\n",
       "}}\n",
       "\n",
       "                        })                };                });            </script>        </div>"
      ]
     },
     "metadata": {},
     "output_type": "display_data"
    }
   ],
   "source": [
    "# PLOTLY BAR CHART OF US CITIES BASED ON RENT/MEDIAN INC \n",
    "\n",
    "affordability_df.reset_index(inplace=True)\n",
    "affordability_df=affordability_df.sort_values('rent_divby_medianinc', ascending=False)\n",
    "\n",
    "plotlybar = px.bar(affordability_df,\n",
    "                   x=\"Primary MSA\",\n",
    "                   y=\"rent_divby_medianinc\",\n",
    "                   color=\"density\",\n",
    "                   color_continuous_scale='dense',\n",
    "                   title= \"<b>Percentage of Income spent on Rent</b>\",\n",
    "                   height=600\n",
    "                   )\n",
    "\n",
    "\n",
    "plotlybar.update_layout(\n",
    "    xaxis_tickfont_size=11,\n",
    "    xaxis = dict(\n",
    "        tickmode = 'linear',\n",
    "        dtick = 1,\n",
    "    ),\n",
    "    yaxis= dict(\n",
    "    tickformat=',.0%',\n",
    "    range= [0,.45],\n",
    "    title=''\n",
    "    )\n",
    ")                        \n",
    "                                                \n",
    "plotlybar\n"
   ]
  },
  {
   "cell_type": "code",
   "execution_count": 196,
   "metadata": {
    "scrolled": false
   },
   "outputs": [
    {
     "data": {},
     "metadata": {},
     "output_type": "display_data"
    },
    {
     "data": {
      "application/vnd.holoviews_exec.v0+json": "",
      "text/html": [
       "<div id='7034'>\n",
       "\n",
       "\n",
       "\n",
       "\n",
       "\n",
       "  <div class=\"bk-root\" id=\"4a76758a-995b-46b2-9d69-8496c7b55c96\" data-root-id=\"7034\"></div>\n",
       "</div>\n",
       "<script type=\"application/javascript\">(function(root) {\n",
       "  function embed_document(root) {\n",
       "  var docs_json = {\"5d5bd434-8c49-4919-927f-543e96594d53\":{\"roots\":{\"references\":[{\"attributes\":{\"gradient\":0.3135297848487707,\"level\":\"glyph\",\"line_color\":\"#30a2da\",\"line_width\":3,\"y_intercept\":-4403.7364641561735},\"id\":\"7094\",\"type\":\"Slope\"},{\"attributes\":{\"axis_label\":\"Annual_Rent\",\"bounds\":\"auto\",\"formatter\":{\"id\":\"7077\"},\"major_label_orientation\":\"horizontal\",\"ticker\":{\"id\":\"7053\"}},\"id\":\"7052\",\"type\":\"LinearAxis\"},{\"attributes\":{\"fill_alpha\":{\"value\":0.2},\"fill_color\":{\"field\":\"color\",\"transform\":{\"id\":\"7078\"}},\"line_alpha\":{\"value\":0.2},\"line_color\":{\"field\":\"color\",\"transform\":{\"id\":\"7078\"}},\"size\":{\"units\":\"screen\",\"value\":10},\"x\":{\"field\":\"Median income (dollars)\"},\"y\":{\"field\":\"Annual_Rent\"}},\"id\":\"7086\",\"type\":\"Scatter\"},{\"attributes\":{\"fill_color\":{\"field\":\"color\",\"transform\":{\"id\":\"7078\"}},\"line_color\":{\"field\":\"color\",\"transform\":{\"id\":\"7078\"}},\"size\":{\"units\":\"screen\",\"value\":10},\"x\":{\"field\":\"Median income (dollars)\"},\"y\":{\"field\":\"Annual_Rent\"}},\"id\":\"7085\",\"type\":\"Scatter\"},{\"attributes\":{\"overlay\":{\"id\":\"7061\"}},\"id\":\"7059\",\"type\":\"BoxZoomTool\"},{\"attributes\":{},\"id\":\"7057\",\"type\":\"PanTool\"},{\"attributes\":{},\"id\":\"7077\",\"type\":\"BasicTickFormatter\"},{\"attributes\":{\"align\":null,\"below\":[{\"id\":\"7048\"}],\"center\":[{\"id\":\"7051\"},{\"id\":\"7055\"},{\"id\":\"7094\"}],\"left\":[{\"id\":\"7052\"}],\"margin\":null,\"min_border_bottom\":10,\"min_border_left\":10,\"min_border_right\":10,\"min_border_top\":10,\"plot_height\":300,\"plot_width\":700,\"renderers\":[{\"id\":\"7087\"}],\"right\":[{\"id\":\"7090\"}],\"sizing_mode\":\"fixed\",\"title\":{\"id\":\"7040\"},\"toolbar\":{\"id\":\"7062\"},\"x_range\":{\"id\":\"7036\"},\"x_scale\":{\"id\":\"7044\"},\"y_range\":{\"id\":\"7037\"},\"y_scale\":{\"id\":\"7046\"}},\"id\":\"7039\",\"subtype\":\"Figure\",\"type\":\"Plot\"},{\"attributes\":{\"fill_alpha\":{\"value\":0.1},\"fill_color\":{\"field\":\"color\",\"transform\":{\"id\":\"7078\"}},\"line_alpha\":{\"value\":0.1},\"line_color\":{\"field\":\"color\",\"transform\":{\"id\":\"7078\"}},\"size\":{\"units\":\"screen\",\"value\":10},\"x\":{\"field\":\"Median income (dollars)\"},\"y\":{\"field\":\"Annual_Rent\"}},\"id\":\"7083\",\"type\":\"Scatter\"},{\"attributes\":{},\"id\":\"7053\",\"type\":\"BasicTicker\"},{\"attributes\":{\"desired_num_ticks\":10,\"mantissas\":[1,2,5]},\"id\":\"7049\",\"type\":\"BasicTicker\"},{\"attributes\":{\"bottom_units\":\"screen\",\"fill_alpha\":0.5,\"fill_color\":\"lightgrey\",\"left_units\":\"screen\",\"level\":\"overlay\",\"line_alpha\":1.0,\"line_color\":\"black\",\"line_dash\":[4,4],\"line_width\":2,\"right_units\":\"screen\",\"top_units\":\"screen\"},\"id\":\"7061\",\"type\":\"BoxAnnotation\"},{\"attributes\":{\"axis\":{\"id\":\"7048\"},\"grid_line_color\":null,\"ticker\":null},\"id\":\"7051\",\"type\":\"Grid\"},{\"attributes\":{},\"id\":\"7046\",\"type\":\"LinearScale\"},{\"attributes\":{},\"id\":\"7058\",\"type\":\"WheelZoomTool\"},{\"attributes\":{\"active_drag\":\"auto\",\"active_inspect\":\"auto\",\"active_multi\":null,\"active_scroll\":\"auto\",\"active_tap\":\"auto\",\"tools\":[{\"id\":\"7038\"},{\"id\":\"7056\"},{\"id\":\"7057\"},{\"id\":\"7058\"},{\"id\":\"7059\"},{\"id\":\"7060\"}]},\"id\":\"7062\",\"type\":\"Toolbar\"},{\"attributes\":{\"end\":41054.5,\"reset_end\":41054.5,\"reset_start\":5252.5,\"start\":5252.5,\"tags\":[[[\"Annual_Rent\",\"Annual_Rent\",null]]]},\"id\":\"7037\",\"type\":\"Range1d\"},{\"attributes\":{\"margin\":[5,5,5,5],\"name\":\"HSpacer20264\",\"sizing_mode\":\"stretch_width\"},\"id\":\"7167\",\"type\":\"Spacer\"},{\"attributes\":{\"callback\":null,\"renderers\":[{\"id\":\"7087\"}],\"tags\":[\"hv_created\"],\"tooltips\":[[\"Median income (dollars)\",\"@{Median_income_left_parenthesis_dollars_right_parenthesis}\"],[\"Annual_Rent\",\"@{Annual_Rent}\"],[\"density\",\"@{density}\"],[\"Primary MSA\",\"@{Primary_MSA}\"],[\"rent_divby_medianinc\",\"@{rent_divby_medianinc}\"]]},\"id\":\"7038\",\"type\":\"HoverTool\"},{\"attributes\":{},\"id\":\"7080\",\"type\":\"Selection\"},{\"attributes\":{\"high\":10715.0,\"low\":252.0,\"palette\":[\"#b3fef5\",\"#b0fef5\",\"#adfdf5\",\"#a9fcf5\",\"#a6fbf6\",\"#a3faf6\",\"#a0faf6\",\"#9df9f6\",\"#9af8f6\",\"#97f7f6\",\"#93f7f6\",\"#90f6f6\",\"#8df5f6\",\"#8af4f7\",\"#87f3f7\",\"#83f2f7\",\"#80f2f7\",\"#7df1f7\",\"#79f0f7\",\"#76eff7\",\"#73eef7\",\"#6fedf8\",\"#6cecf8\",\"#68ecf8\",\"#65ebf8\",\"#61eaf8\",\"#5ee9f8\",\"#5ae8f8\",\"#57e7f8\",\"#53e6f8\",\"#50e5f9\",\"#4ce4f9\",\"#49e3f9\",\"#45e2f9\",\"#42e1f9\",\"#3ee0f9\",\"#3bdff9\",\"#38def9\",\"#35ddf9\",\"#32dcf9\",\"#30dbfa\",\"#2ed9fa\",\"#2dd8fa\",\"#2cd7fa\",\"#2bd6fa\",\"#2bd5fa\",\"#2ad3fa\",\"#2ad2fa\",\"#29d1fa\",\"#29d0fb\",\"#29cffb\",\"#28cdfb\",\"#28ccfb\",\"#28cbfb\",\"#28cafb\",\"#28c8fb\",\"#28c7fb\",\"#29c6fb\",\"#29c5fb\",\"#29c4fb\",\"#29c2fb\",\"#2ac1fb\",\"#2ac0fb\",\"#2bbffb\",\"#2bbdfc\",\"#2cbcfc\",\"#2dbbfc\",\"#2db9fc\",\"#2eb8fc\",\"#2fb7fc\",\"#2fb6fc\",\"#30b4fc\",\"#31b3fc\",\"#32b2fc\",\"#32b0fc\",\"#33affc\",\"#33aefc\",\"#34adfc\",\"#34abfc\",\"#34aafc\",\"#35a9fc\",\"#35a8fc\",\"#35a6fc\",\"#35a5fc\",\"#35a4fc\",\"#35a3fc\",\"#35a1fc\",\"#35a0fc\",\"#359ffc\",\"#359dfc\",\"#359cfc\",\"#359bfc\",\"#349afd\",\"#3498fd\",\"#3497fd\",\"#3396fd\",\"#3395fd\",\"#3293fd\",\"#3292fd\",\"#3191fd\",\"#3090fd\",\"#308ffd\",\"#2f8dfd\",\"#2f8cfd\",\"#2e8bfd\",\"#2e8afd\",\"#2d88fd\",\"#2d87fd\",\"#2c86fd\",\"#2c84fd\",\"#2c83fd\",\"#2c82fd\",\"#2b81fd\",\"#2b7ffd\",\"#2b7efd\",\"#2b7dfd\",\"#2b7bfd\",\"#2b7afd\",\"#2b79fd\",\"#2b77fd\",\"#2b76fd\",\"#2b75fd\",\"#2b73fd\",\"#2c72fd\",\"#2c71fd\",\"#2c6ffd\",\"#2c6efd\",\"#2d6cfd\",\"#2d6bfd\",\"#2d6afc\",\"#2e68fc\",\"#2e67fc\",\"#2e65fc\",\"#2e64fc\",\"#2f62fc\",\"#2f61fc\",\"#2f5ffc\",\"#2f5efc\",\"#2f5dfc\",\"#2f5bfc\",\"#2f5afc\",\"#2f58fb\",\"#2f57fb\",\"#2f55fb\",\"#2f53fb\",\"#2f52fb\",\"#2f50fb\",\"#2f4ffb\",\"#2f4dfb\",\"#2e4cfb\",\"#2e4afb\",\"#2e48fb\",\"#2e47fa\",\"#2d45fa\",\"#2d43fa\",\"#2d42fa\",\"#2d40fa\",\"#2c3efa\",\"#2c3dfa\",\"#2b3bf9\",\"#2b39f9\",\"#2a37f9\",\"#2a36f8\",\"#2934f8\",\"#2832f7\",\"#2831f7\",\"#272ff6\",\"#262ef5\",\"#252cf5\",\"#252af4\",\"#2429f3\",\"#2327f2\",\"#2226f1\",\"#2124f0\",\"#2023ef\",\"#1f22ee\",\"#1e20ed\",\"#1d1feb\",\"#1c1eea\",\"#1b1ce9\",\"#1a1be7\",\"#181ae6\",\"#1719e5\",\"#1618e3\",\"#1417e1\",\"#1316e0\",\"#1215de\",\"#1014dc\",\"#0f13db\",\"#0e12d9\",\"#0d11d7\",\"#0c10d5\",\"#0b0fd3\",\"#0a0ed1\",\"#090dd0\",\"#080dce\",\"#080ccc\",\"#070bca\",\"#070ac8\",\"#0709c6\",\"#0708c4\",\"#0707c2\",\"#0707bf\",\"#0806bd\",\"#0806bb\",\"#0905b9\",\"#0904b7\",\"#0a04b5\",\"#0a04b2\",\"#0b03b0\",\"#0c03ae\",\"#0d02ab\",\"#0e02a9\",\"#0e02a7\",\"#0f02a4\",\"#0f01a2\",\"#1001a0\",\"#10019d\",\"#10019b\",\"#100199\",\"#100197\",\"#100194\",\"#0f0192\",\"#0f0190\",\"#0f018e\",\"#0e018b\",\"#0e0189\",\"#0d0187\",\"#0d0185\",\"#0c0183\",\"#0b0181\",\"#0b017e\",\"#0a017c\",\"#09017a\",\"#090178\",\"#080276\",\"#070274\",\"#060272\",\"#060270\",\"#05026e\",\"#04026c\",\"#030269\",\"#030267\",\"#020265\",\"#010263\",\"#010261\",\"#00025f\",\"#00025d\",\"#00025b\",\"#000259\",\"#000257\",\"#000255\",\"#000154\",\"#000152\",\"#000150\",\"#00004e\"]},\"id\":\"7078\",\"type\":\"LinearColorMapper\"},{\"attributes\":{},\"id\":\"7089\",\"type\":\"BasicTicker\"},{\"attributes\":{},\"id\":\"7060\",\"type\":\"ResetTool\"},{\"attributes\":{\"text\":\"US cities: Rent, Median Income and Population Density\",\"text_color\":{\"value\":\"black\"},\"text_font_size\":{\"value\":\"12pt\"}},\"id\":\"7040\",\"type\":\"Title\"},{\"attributes\":{\"source\":{\"id\":\"7079\"}},\"id\":\"7088\",\"type\":\"CDSView\"},{\"attributes\":{\"children\":[{\"id\":\"7035\"},{\"id\":\"7039\"},{\"id\":\"7167\"}],\"margin\":[0,0,0,0],\"name\":\"Row20259\",\"tags\":[\"embedded\"]},\"id\":\"7034\",\"type\":\"Row\"},{\"attributes\":{\"fill_color\":{\"field\":\"color\",\"transform\":{\"id\":\"7078\"}},\"line_color\":{\"field\":\"color\",\"transform\":{\"id\":\"7078\"}},\"size\":{\"units\":\"screen\",\"value\":10},\"x\":{\"field\":\"Median income (dollars)\"},\"y\":{\"field\":\"Annual_Rent\"}},\"id\":\"7082\",\"type\":\"Scatter\"},{\"attributes\":{\"axis_label\":\"Median income (dollars)\",\"bounds\":\"auto\",\"formatter\":{\"id\":\"7070\"},\"major_label_orientation\":\"horizontal\",\"ticker\":{\"id\":\"7049\"}},\"id\":\"7048\",\"type\":\"LinearAxis\"},{\"attributes\":{\"fill_color\":{\"field\":\"color\",\"transform\":{\"id\":\"7078\"}},\"line_color\":{\"field\":\"color\",\"transform\":{\"id\":\"7078\"}},\"size\":{\"units\":\"screen\",\"value\":10},\"x\":{\"field\":\"Median income (dollars)\"},\"y\":{\"field\":\"Annual_Rent\"}},\"id\":\"7084\",\"type\":\"Scatter\"},{\"attributes\":{},\"id\":\"7100\",\"type\":\"UnionRenderers\"},{\"attributes\":{\"format\":\"%.0f\"},\"id\":\"7070\",\"type\":\"PrintfTickFormatter\"},{\"attributes\":{\"bar_line_color\":\"black\",\"color_mapper\":{\"id\":\"7078\"},\"formatter\":{\"id\":\"7097\"},\"label_standoff\":8,\"location\":[0,0],\"major_tick_line_color\":\"black\",\"ticker\":{\"id\":\"7089\"},\"title\":\"Density\"},\"id\":\"7090\",\"type\":\"ColorBar\"},{\"attributes\":{},\"id\":\"7044\",\"type\":\"LinearScale\"},{\"attributes\":{},\"id\":\"7097\",\"type\":\"BasicTickFormatter\"},{\"attributes\":{},\"id\":\"7056\",\"type\":\"SaveTool\"},{\"attributes\":{\"data\":{\"Annual_Rent\":[30186,32189,22838,38071,27524,23117,30409,22099,16132,17968,20192,19227,18833,16734,17051,37157,21155,15264,21241,14607,14241,14313,13204,16695,18784,23649,18783,16456,17494,14903,18297,16942,19430,17720,18506,14177,14369,18247,18942,19956,15761,14713,18087,16823,19425,20984,23007,16080,13582,16375,16894,13300,25314,19856,14254,18651,15969,14619,13725,13464,14351,13310,16038,13036,12850,15322,15057,18667,17807,16693,14164,14326,13415,16289,15492,12645,12434,12822,16448,15272,13541,11638,13995,13120,12168,13952,13102,15606,10590,10369,15203,10654,13222,10157,8236,9615],\"Median income (dollars)\":{\"__ndarray__\":\"AAAAAOD88kAAAAAAgE30QAAAAACgXe1AAAAAAIAA/EAAAAAAEIH0QAAAAACgUvFAAAAAAOAN90AAAAAAUNjwQAAAAAAgT+lAAAAAAEBG7EAAAAAAwP7vQAAAAAAAku5AAAAAAIA27kAAAAAAwDPrQAAAAADAFexAAAAAABDz/0AAAAAAMGfyQAAAAABgyepAAAAAACC68kAAAAAAYOnpQAAAAABAR+lAAAAAAECZ6UAAAAAA4NbnQAAAAABgU+5AAAAAAGAn8UAAAAAAcJ31QAAAAABwU/FAAAAAAEBx7kAAAAAA8DXwQAAAAADgpetAAAAAAJA28UAAAAAA4OLvQAAAAAAgW/JAAAAAAJDk8EAAAAAAkKTxQAAAAADACOtAAAAAACBt60AAAAAA4IPxQAAAAABQMvJAAAAAAHAx80AAAAAAYHLuQAAAAACgn+xAAAAAAJC78UAAAAAAgJPwQAAAAABwJvNAAAAAAJDo9EAAAAAAsPT2QAAAAACAFfBAAAAAAKA160AAAAAAsHjwQAAAAABwB/FAAAAAAODs6kAAAAAAsMv5QAAAAACATfRAAAAAAECp7UAAAAAAoMPzQAAAAAAQ7fBAAAAAAED+7kAAAAAAwB/tQAAAAAAAkuxAAAAAAMCE7kAAAAAAwH/sQAAAAACQSPFAAAAAAGBA7EAAAAAAgPHrQAAAAABArvBAAAAAAHBo8EAAAAAAIG/0QAAAAAAAjvNAAAAAAMCj8kAAAAAAsAzwQAAAAACQUPBAAAAAAMCV7kAAAAAA0MzyQAAAAABg6/FAAAAAAKCX7UAAAAAAIFntQAAAAAAAU+5AAAAAAECU80AAAAAAkHHyQAAAAADQX/BAAAAAACBn7EAAAAAAcCTxQAAAAABQE/BAAAAAAKDj7UAAAAAAUC7xQAAAAAAQN/BAAAAAAABT80AAAAAAAITqQAAAAABgJ+pAAAAAADBZ80AAAAAAIMLrQAAAAADAX/FAAAAAAMDo60AAAAAAwLXnQAAAAABgMO1A\",\"dtype\":\"float64\",\"order\":\"little\",\"shape\":[96]},\"Median_income_left_parenthesis_dollars_right_parenthesis\":{\"__ndarray__\":\"AAAAAOD88kAAAAAAgE30QAAAAACgXe1AAAAAAIAA/EAAAAAAEIH0QAAAAACgUvFAAAAAAOAN90AAAAAAUNjwQAAAAAAgT+lAAAAAAEBG7EAAAAAAwP7vQAAAAAAAku5AAAAAAIA27kAAAAAAwDPrQAAAAADAFexAAAAAABDz/0AAAAAAMGfyQAAAAABgyepAAAAAACC68kAAAAAAYOnpQAAAAABAR+lAAAAAAECZ6UAAAAAA4NbnQAAAAABgU+5AAAAAAGAn8UAAAAAAcJ31QAAAAABwU/FAAAAAAEBx7kAAAAAA8DXwQAAAAADgpetAAAAAAJA28UAAAAAA4OLvQAAAAAAgW/JAAAAAAJDk8EAAAAAAkKTxQAAAAADACOtAAAAAACBt60AAAAAA4IPxQAAAAABQMvJAAAAAAHAx80AAAAAAYHLuQAAAAACgn+xAAAAAAJC78UAAAAAAgJPwQAAAAABwJvNAAAAAAJDo9EAAAAAAsPT2QAAAAACAFfBAAAAAAKA160AAAAAAsHjwQAAAAABwB/FAAAAAAODs6kAAAAAAsMv5QAAAAACATfRAAAAAAECp7UAAAAAAoMPzQAAAAAAQ7fBAAAAAAED+7kAAAAAAwB/tQAAAAAAAkuxAAAAAAMCE7kAAAAAAwH/sQAAAAACQSPFAAAAAAGBA7EAAAAAAgPHrQAAAAABArvBAAAAAAHBo8EAAAAAAIG/0QAAAAAAAjvNAAAAAAMCj8kAAAAAAsAzwQAAAAACQUPBAAAAAAMCV7kAAAAAA0MzyQAAAAABg6/FAAAAAAKCX7UAAAAAAIFntQAAAAAAAU+5AAAAAAECU80AAAAAAkHHyQAAAAADQX/BAAAAAACBn7EAAAAAAcCTxQAAAAABQE/BAAAAAAKDj7UAAAAAAUC7xQAAAAAAQN/BAAAAAAABT80AAAAAAAITqQAAAAABgJ+pAAAAAADBZ80AAAAAAIMLrQAAAAADAX/FAAAAAAMDo60AAAAAAwLXnQAAAAABgMO1A\",\"dtype\":\"float64\",\"order\":\"little\",\"shape\":[96]},\"Primary_MSA\":[\"Los Angeles_CA\",\"New York_NY\",\"Miami_FL\",\"San Francisco_CA\",\"San Diego_CA\",\"Riverside_CA\",\"Boston_MA\",\"Stockton_CA\",\"Lakeland_FL\",\"Tampa_FL\",\"North Port_FL\",\"Port St. Lucie_FL\",\"Orlando_FL\",\"New Orleans_LA\",\"Fresno_CA\",\"San Jose_CA\",\"Chicago_IL\",\"Memphis_TN\",\"Sacramento_CA\",\"Bakersfield_CA\",\"Greensboro_NC\",\"Jackson_MS\",\"El Paso_TX\",\"Las Vegas_NV\",\"Nashville_TN\",\"Boulder_CO\",\"Providence_RI\",\"Springfield_MA\",\"Charlotte_NC\",\"Knoxville_TN\",\"Charleston_SC\",\"Durham_NC\",\"Fort Collins_CO\",\"Houston_TX\",\"Dallas_TX\",\"Chattanooga_TN\",\"Tucson_AZ\",\"Atlanta_GA\",\"Philadelphia_PA\",\"Greeley_CO\",\"San Antonio_TX\",\"Greenville_SC\",\"Colorado Springs_CO\",\"Phoenix_AZ\",\"Portland_OR\",\"Denver_CO\",\"Seattle_WA\",\"Jacksonville_FL\",\"Columbia_SC\",\"Gainesville_GA\",\"New Haven_CT\",\"Augusta_GA\",\"Washington_DC\",\"Baltimore_MD\",\"Baton Rouge_LA\",\"Austin_TX\",\"Virginia Beach_VA\",\"Detroit_MI\",\"Spokane_WA\",\"Albuquerque_NM\",\"Indianapolis_IN\",\"Birmingham_AL\",\"Allentown_PA\",\"Tulsa_OK\",\"Cleveland_OH\",\"Richmond_VA\",\"Columbus_OH\",\"Minneapolis_MN\",\"Raleigh_NC\",\"Worcester_MA\",\"Grand Rapids_MI\",\"Cincinnati_OH\",\"Pittsburgh_PA\",\"Hartford_CT\",\"Albany_NY\",\"Oklahoma City_OK\",\"Buffalo_NY\",\"Rochester_NY\",\"Salt Lake City_UT\",\"Madison_WI\",\"Harrisburg_PA\",\"Dayton_OH\",\"Kansas City_MO\",\"Milwaukee_WI\",\"Syracuse_NY\",\"Omaha_NE\",\"St. Louis_MO\",\"Provo_UT\",\"Scranton_PA\",\"Toledo_OH\",\"Ogden_UT\",\"Little Rock_AR\",\"Des Moines_IA\",\"Akron_OH\",\"Youngstown_OH\",\"Wichita_KS\"],\"color\":{\"__ndarray__\":\"AAAAAACYqUAAAAAAgO3EQAAAAAAAm7NAAAAAAABYvEAAAAAAAFiaQAAAAAAAmJhAAAAAAACctUAAAAAAAFSeQAAAAAAAcIRAAAAAAAAklUAAAAAAACBxQAAAAAAAaIRAAAAAAABYj0AAAAAAAMiLQAAAAAAA9JtAAAAAAABUoUAAAAAAAN6xQAAAAAAAwIhAAAAAAAC0n0AAAAAAAPCOQAAAAAAAuItAAAAAAABwgUAAAAAAAPCPQAAAAAAAtJtAAAAAAAAAgUAAAAAAADyYQAAAAAAAeq1AAAAAAAAQnUAAAAAAAGSRQAAAAAAA6IZAAAAAAAAAfkAAAAAAAPiNQAAAAAAA9JFAAAAAAADclUAAAAAAANiXQAAAAAAA0H5AAAAAAADIi0AAAAAAAISWQAAAAAAAyrFAAAAAAADQikAAAAAAADyTQAAAAAAAwIxAAAAAAACQjUAAAAAAAJSTQAAAAAAAmJ1AAAAAAACcnEAAAAAAABqrQAAAAAAAYH1AAAAAAABQd0AAAAAAAKB/QAAAAAAABKVAAAAAAACAb0AAAAAAAGmxQAAAAAAAHKZAAAAAAAC4jkAAAAAAAHSSQAAAAAAAKIZAAAAAAAAgnUAAAAAAAHyTQAAAAAAADJJAAAAAAAA4jUAAAAAAAEiBQAAAAAAA4KRAAAAAAACAiEAAAAAAAJSdQAAAAAAAMJdAAAAAAAC4mEAAAAAAAP6nQAAAAAAAmJNAAAAAAADwnUAAAAAAABibQAAAAAAAjJdAAAAAAABaoEAAAAAAADClQAAAAAAAMJtAAAAAAAAQekAAAAAAABKjQAAAAAAAWKFAAAAAAADYhUAAAAAAALyTQAAAAAAATqJAAAAAAACQjkAAAAAAAPiCQAAAAAAAgqJAAAAAAAAmoUAAAAAAAHSUQAAAAAAAXJ1AAAAAAADgkEAAAAAAAESSQAAAAAAAcJRAAAAAAAA4k0AAAAAAANCDQAAAAAAAUI1AAAAAAAA8k0AAAAAAAECHQAAAAAAAGI1A\",\"dtype\":\"float64\",\"order\":\"little\",\"shape\":[96]},\"density\":{\"__ndarray__\":\"AAAAAACYqUAAAAAAgO3EQAAAAAAAm7NAAAAAAABYvEAAAAAAAFiaQAAAAAAAmJhAAAAAAACctUAAAAAAAFSeQAAAAAAAcIRAAAAAAAAklUAAAAAAACBxQAAAAAAAaIRAAAAAAABYj0AAAAAAAMiLQAAAAAAA9JtAAAAAAABUoUAAAAAAAN6xQAAAAAAAwIhAAAAAAAC0n0AAAAAAAPCOQAAAAAAAuItAAAAAAABwgUAAAAAAAPCPQAAAAAAAtJtAAAAAAAAAgUAAAAAAADyYQAAAAAAAeq1AAAAAAAAQnUAAAAAAAGSRQAAAAAAA6IZAAAAAAAAAfkAAAAAAAPiNQAAAAAAA9JFAAAAAAADclUAAAAAAANiXQAAAAAAA0H5AAAAAAADIi0AAAAAAAISWQAAAAAAAyrFAAAAAAADQikAAAAAAADyTQAAAAAAAwIxAAAAAAACQjUAAAAAAAJSTQAAAAAAAmJ1AAAAAAACcnEAAAAAAABqrQAAAAAAAYH1AAAAAAABQd0AAAAAAAKB/QAAAAAAABKVAAAAAAACAb0AAAAAAAGmxQAAAAAAAHKZAAAAAAAC4jkAAAAAAAHSSQAAAAAAAKIZAAAAAAAAgnUAAAAAAAHyTQAAAAAAADJJAAAAAAAA4jUAAAAAAAEiBQAAAAAAA4KRAAAAAAACAiEAAAAAAAJSdQAAAAAAAMJdAAAAAAAC4mEAAAAAAAP6nQAAAAAAAmJNAAAAAAADwnUAAAAAAABibQAAAAAAAjJdAAAAAAABaoEAAAAAAADClQAAAAAAAMJtAAAAAAAAQekAAAAAAABKjQAAAAAAAWKFAAAAAAADYhUAAAAAAALyTQAAAAAAATqJAAAAAAACQjkAAAAAAAPiCQAAAAAAAgqJAAAAAAAAmoUAAAAAAAHSUQAAAAAAAXJ1AAAAAAADgkEAAAAAAAESSQAAAAAAAcJRAAAAAAAA4k0AAAAAAANCDQAAAAAAAUI1AAAAAAAA8k0AAAAAAAECHQAAAAAAAGI1A\",\"dtype\":\"float64\",\"order\":\"little\",\"shape\":[96]},\"rent_divby_medianinc\":{\"__ndarray__\":\"AXh9awjX2D8X9WBNzsXYP9q11vOsTdg/AAd4vlU+1T8VJzsSc/nUP9gcF0nz2dQ/qIoVtRac1D/riz2knn/UP6ukG3sy69M/DqHBvePb0z8KLbQ3xbjTP+rBDFWMp9M/7V744L560z8DHGhAYDnTP/rn7Ab6+NI/yHwUx/gr0j9UnozxJPbRP4BqTpSxztE/fClpZfe40T8vKxiKyp3RPw+eOu3xmtE/4QquJw150T9VMPIF/k7RPxcOUgcwNNE/WmZGmSIc0T9RMaBBaBjRP8FtkSNk8NA/+/QlSn/k0D8ItSolqNzQP7eyGfQ32NA/OpM8jd6b0D9QDaS4nJrQP+CTdT4MitA/DuMPat1j0D+2Q6Zas2PQP1pQJR9IY9A/zO2JYU9f0D9bRKpyI0fQP/+v+LzeQ9A/9+JLyP0+0D9I4NlhQi3QP5by//sjENA/QRNxHtvfzz+HOKLSH7fPPxud8QfSss8/NXIydOhczz82LHbc1lHPP3zru6kEPs8/bLVRXqEyzz9/0Z+LKRHPP9MYDOCNAM8/1SgTd1nfzj+0Ul7qn6rOP9EuaYP4j84/gS9MHfwIzj/z60k4bH3NP6fxzbOqe80/jwM/XPR6zT+z+4q/KnTNP4UC/HAidM0/DZO7+tBjzT+t6oBoiTDNP5mwXOCE/8w/hgmIotbWzD+8+PGvvb3MPxRb23RjtMw/yu0qtlCtzD+Ynw+2LozMP3f1YFQBdcw/ODWAR4P8yz+ACmiJIZTLP51tI+DUcMs/5pP+AdRpyz8czfuqeBPLP3hfvj9KBMs/Gbwmxuq0yj/AV1ZQwnrKP94bIRxJbco/1/pTn6JAyj9DXhhRTeDJP5WJ7wy/18k/jo08SfebyT/MDGYGM4PJP/ymkgg3gck/kb41capxyT9thMlsg2DJP/XaKWUaQMk/iUzDdrM8yT8MES/IMfbIPz3zabhlx8g/ekWUYQCOyD8D9QeJAv3HP6Jd62UryMc/1UJpE+O+xj+OoUo21bXFPw643yV8lsQ/\",\"dtype\":\"float64\",\"order\":\"little\",\"shape\":[96]}},\"selected\":{\"id\":\"7080\"},\"selection_policy\":{\"id\":\"7100\"}},\"id\":\"7079\",\"type\":\"ColumnDataSource\"},{\"attributes\":{\"data_source\":{\"id\":\"7079\"},\"glyph\":{\"id\":\"7082\"},\"hover_glyph\":{\"id\":\"7085\"},\"muted_glyph\":{\"id\":\"7086\"},\"nonselection_glyph\":{\"id\":\"7083\"},\"selection_glyph\":{\"id\":\"7084\"},\"view\":{\"id\":\"7088\"}},\"id\":\"7087\",\"type\":\"GlyphRenderer\"},{\"attributes\":{\"axis\":{\"id\":\"7052\"},\"dimension\":1,\"grid_line_color\":null,\"ticker\":null},\"id\":\"7055\",\"type\":\"Grid\"},{\"attributes\":{\"end\":134392.44285714286,\"reset_end\":134392.44285714286,\"reset_start\":45030.55714285714,\"start\":45030.55714285714,\"tags\":[[[\"Median income (dollars)\",\"Median income (dollars)\",null]]]},\"id\":\"7036\",\"type\":\"Range1d\"},{\"attributes\":{\"margin\":[5,5,5,5],\"name\":\"HSpacer20263\",\"sizing_mode\":\"stretch_width\"},\"id\":\"7035\",\"type\":\"Spacer\"}],\"root_ids\":[\"7034\"]},\"title\":\"Bokeh Application\",\"version\":\"2.2.1\"}};\n",
       "  var render_items = [{\"docid\":\"5d5bd434-8c49-4919-927f-543e96594d53\",\"root_ids\":[\"7034\"],\"roots\":{\"7034\":\"4a76758a-995b-46b2-9d69-8496c7b55c96\"}}];\n",
       "  root.Bokeh.embed.embed_items_notebook(docs_json, render_items);\n",
       "  }\n",
       "if (root.Bokeh !== undefined) {\n",
       "    embed_document(root);\n",
       "  } else {\n",
       "    var attempts = 0;\n",
       "    var timer = setInterval(function(root) {\n",
       "      if (root.Bokeh !== undefined) {\n",
       "        clearInterval(timer);\n",
       "        embed_document(root);\n",
       "      } else if (document.readyState == \"complete\") {\n",
       "        attempts++;\n",
       "        if (attempts > 100) {\n",
       "          clearInterval(timer);\n",
       "          console.log(\"Bokeh: ERROR: Unable to run BokehJS code because BokehJS library is missing\");\n",
       "        }\n",
       "      }\n",
       "    }, 10, root)\n",
       "  }\n",
       "})(window);</script>"
      ],
      "text/plain": [
       ":Overlay\n",
       "   .Scatter.I    :Scatter   [Median income (dollars)]   (Annual_Rent,density,Primary MSA,rent_divby_medianinc)\n",
       "   .Annotation.I :Slope   [x,y]"
      ]
     },
     "execution_count": 196,
     "metadata": {
      "application/vnd.holoviews_exec.v0+json": {
       "id": "7034"
      }
     },
     "output_type": "execute_result"
    }
   ],
   "source": [
    "# AFFORDABILITY SCATTER PLOT WITH TRENDLINE USING HVPLOT. \n",
    "\n",
    "affordability_scatterplot=affordability_df.hvplot.scatter(y='Annual_Rent',\n",
    "                                     x='Median income (dollars)',\n",
    "                                     c='density', \n",
    "                                     colorbar=True, \n",
    "                                     hover_cols=[\"Primary MSA\", \"Annual_Rent\", \"rent_divby_medianinc\"], \n",
    "                                     width=700,\n",
    "                                     height=300,\n",
    "                                     clabel=\"Density\",\n",
    "                                     title= \"US cities: Rent, Median Income and Population Density\",\n",
    "                                     xticks=10).opts(xformatter=\"%.0f\")\n",
    "\n",
    "affordability_scatterplot.opts(size=10)*hv.Slope.from_scatter(affordability_scatterplot)"
   ]
  },
  {
   "cell_type": "code",
   "execution_count": 197,
   "metadata": {
    "scrolled": true
   },
   "outputs": [
    {
     "data": {
      "application/vnd.plotly.v1+json": {
       "config": {
        "plotlyServerURL": "https://plot.ly"
       },
       "data": [
        {
         "customdata": [
          [
           0.388124566050351
          ],
          [
           0.38707311207311207
          ],
          [
           0.37974094211935283
          ],
          [
           0.33192962265466974
          ],
          [
           0.32772518902184916
          ],
          [
           0.32580263269160303
          ],
          [
           0.3220268982314942
          ],
          [
           0.32028928794005534
          ],
          [
           0.31123029730094726
          ],
          [
           0.3102959969605913
          ],
          [
           0.30815248908830084
          ],
          [
           0.3071013289036545
          ],
          [
           0.30436679811235373
          ],
          [
           0.3003769520732364
          ],
          [
           0.2964463298445704
          ],
          [
           0.28393382493409236
          ],
          [
           0.28064845646665515
          ],
          [
           0.2782405803970178
          ],
          [
           0.2769144525851954
          ],
          [
           0.275255808694669
          ],
          [
           0.2750820938767626
          ],
          [
           0.27301339030252164
          ],
          [
           0.2704463060442824
          ],
          [
           0.2688102790345694
          ],
          [
           0.2673422333551564
          ],
          [
           0.26711470040097135
          ],
          [
           0.2646723124832669
          ],
          [
           0.263946363840503
          ],
          [
           0.26346782331059204
          ],
          [
           0.26319693410804795
          ],
          [
           0.2595135096801645
          ],
          [
           0.2594367793210113
          ],
          [
           0.2584257707551938
          ],
          [
           0.2560952697527207
          ],
          [
           0.2560852418183076
          ],
          [
           0.2560596756131922
          ],
          [
           0.25581726575157115
          ],
          [
           0.25434194753421985
          ],
          [
           0.2541424603866744
          ],
          [
           0.2538446861286014
          ],
          [
           0.25276240878838907
          ],
          [
           0.25098514184336673
          ],
          [
           0.24901904093180785
          ],
          [
           0.24777601036879934
          ],
          [
           0.24764466655617742
          ],
          [
           0.24502282785114607
          ],
          [
           0.24468503727652696
          ],
          [
           0.24408014571949
          ],
          [
           0.2437326155226559
          ],
          [
           0.2427112514266234
          ],
          [
           0.24220441283995928
          ],
          [
           0.24119108499718914
          ],
          [
           0.23958205169460245
          ],
          [
           0.23876863876863877
          ],
          [
           0.23464919500872486
          ],
          [
           0.23039009808039132
          ],
          [
           0.23033651141657893
          ],
          [
           0.23031477455336044
          ],
          [
           0.23010763504677598
          ],
          [
           0.23010664479081214
          ],
          [
           0.22960865252311927
          ],
          [
           0.22804372408594045
          ],
          [
           0.2265478225248259
          ],
          [
           0.22530634819129264
          ],
          [
           0.2245404347522192
          ],
          [
           0.22425502019788068
          ],
          [
           0.2240391625872305
          ],
          [
           0.22302802934359245
          ],
          [
           0.2223207151418298
          ],
          [
           0.21864357939959134
          ],
          [
           0.21545809945390104
          ],
          [
           0.2143808454919566
          ],
          [
           0.21416711900124524
          ],
          [
           0.21153171871956367
          ],
          [
           0.2110684214828742
          ],
          [
           0.20864615130764788
          ],
          [
           0.20687130854338243
          ],
          [
           0.2064601313925029
          ],
          [
           0.20509751109781035
          ],
          [
           0.2021576543781852
          ],
          [
           0.2018965542948307
          ],
          [
           0.2000722034073132
          ],
          [
           0.19931638538773766
          ],
          [
           0.19925582808109954
          ],
          [
           0.1987813046248346
          ],
          [
           0.198257854574908
          ],
          [
           0.1972687715494527
          ],
          [
           0.19716494845360824
          ],
          [
           0.19501325869180908
          ],
          [
           0.1935851240595187
          ],
          [
           0.19183354153259896
          ],
          [
           0.1874087494942743
          ],
          [
           0.1857961890843685
          ],
          [
           0.17770040939151124
          ],
          [
           0.16961159850076196
          ],
          [
           0.16084243630706435
          ]
         ],
         "hovertemplate": "<b>%{hovertext}</b><br><br>Median income (dollars)=%{x}<br>Annual_Rent=%{y}<br>rent_divby_medianinc=%{customdata[0]}<br>density=%{marker.color}<extra></extra>",
         "hovertext": [
          "Los Angeles_CA",
          "New York_NY",
          "Miami_FL",
          "San Francisco_CA",
          "San Diego_CA",
          "Riverside_CA",
          "Boston_MA",
          "Stockton_CA",
          "Lakeland_FL",
          "Tampa_FL",
          "North Port_FL",
          "Port St. Lucie_FL",
          "Orlando_FL",
          "New Orleans_LA",
          "Fresno_CA",
          "San Jose_CA",
          "Chicago_IL",
          "Memphis_TN",
          "Sacramento_CA",
          "Bakersfield_CA",
          "Greensboro_NC",
          "Jackson_MS",
          "El Paso_TX",
          "Las Vegas_NV",
          "Nashville_TN",
          "Boulder_CO",
          "Providence_RI",
          "Springfield_MA",
          "Charlotte_NC",
          "Knoxville_TN",
          "Charleston_SC",
          "Durham_NC",
          "Fort Collins_CO",
          "Houston_TX",
          "Dallas_TX",
          "Chattanooga_TN",
          "Tucson_AZ",
          "Atlanta_GA",
          "Philadelphia_PA",
          "Greeley_CO",
          "San Antonio_TX",
          "Greenville_SC",
          "Colorado Springs_CO",
          "Phoenix_AZ",
          "Portland_OR",
          "Denver_CO",
          "Seattle_WA",
          "Jacksonville_FL",
          "Columbia_SC",
          "Gainesville_GA",
          "New Haven_CT",
          "Augusta_GA",
          "Washington_DC",
          "Baltimore_MD",
          "Baton Rouge_LA",
          "Austin_TX",
          "Virginia Beach_VA",
          "Detroit_MI",
          "Spokane_WA",
          "Albuquerque_NM",
          "Indianapolis_IN",
          "Birmingham_AL",
          "Allentown_PA",
          "Tulsa_OK",
          "Cleveland_OH",
          "Richmond_VA",
          "Columbus_OH",
          "Minneapolis_MN",
          "Raleigh_NC",
          "Worcester_MA",
          "Grand Rapids_MI",
          "Cincinnati_OH",
          "Pittsburgh_PA",
          "Hartford_CT",
          "Albany_NY",
          "Oklahoma City_OK",
          "Buffalo_NY",
          "Rochester_NY",
          "Salt Lake City_UT",
          "Madison_WI",
          "Harrisburg_PA",
          "Dayton_OH",
          "Kansas City_MO",
          "Milwaukee_WI",
          "Syracuse_NY",
          "Omaha_NE",
          "St. Louis_MO",
          "Provo_UT",
          "Scranton_PA",
          "Toledo_OH",
          "Ogden_UT",
          "Little Rock_AR",
          "Des Moines_IA",
          "Akron_OH",
          "Youngstown_OH",
          "Wichita_KS"
         ],
         "legendgroup": "",
         "marker": {
          "color": [
           3276,
           10715,
           5019,
           7256,
           1686,
           1574,
           5532,
           1941,
           654,
           1353,
           274,
           653,
           1003,
           889,
           1789,
           2218,
           4574,
           792,
           2029,
           990,
           887,
           558,
           1022,
           1773,
           544,
           1551,
           3773,
           1860,
           1113,
           733,
           480,
           959,
           1149,
           1399,
           1526,
           493,
           889,
           1441,
           4554,
           858,
           1231,
           920,
           946,
           1253,
           1894,
           1831,
           3469,
           470,
           373,
           506,
           2690,
           252,
           4457,
           2830,
           983,
           1181,
           709,
           1864,
           1247,
           1155,
           935,
           553,
           2672,
           784,
           1893,
           1484,
           1582,
           3071,
           1254,
           1916,
           1734,
           1507,
           2093,
           2712,
           1740,
           417,
           2441,
           2220,
           699,
           1263,
           2343,
           978,
           607,
           2369,
           2195,
           1309,
           1879,
           1080,
           1169,
           1308,
           1230,
           634,
           938,
           1231,
           744,
           931
          ],
          "coloraxis": "coloraxis",
          "size": 12,
          "symbol": "circle"
         },
         "mode": "markers",
         "name": "",
         "orientation": "v",
         "showlegend": false,
         "type": "scatter",
         "x": [
          77774,
          83160,
          60141,
          114696,
          83985,
          70954,
          94430,
          68997,
          51833,
          57906,
          65526,
          62608,
          61876,
          55710,
          57518,
          130865,
          75379,
          54859,
          76706,
          53067,
          51770,
          52426,
          48823,
          62107,
          70262,
          88535,
          70967,
          62346,
          66399,
          56623,
          70505,
          65303,
          75186,
          69193,
          72265,
          55366,
          56169,
          71742,
          74533,
          78615,
          62355,
          58621,
          72633,
          67896,
          78439,
          85641,
          94027,
          65880,
          55725,
          67467,
          69751,
          55143,
          105659,
          83160,
          60746,
          80954,
          69329,
          63474,
          59646,
          58512,
          62502,
          58366,
          70793,
          57859,
          57228,
          68324,
          67207,
          83698,
          80096,
          76348,
          65739,
          66825,
          62638,
          77005,
          73398,
          60605,
          60105,
          62104,
          80196,
          75545,
          67069,
          58169,
          70215,
          65845,
          61213,
          70373,
          66417,
          79152,
          54304,
          53563,
          79251,
          56849,
          71164,
          57158,
          48558,
          59779
         ],
         "xaxis": "x",
         "y": [
          30186,
          32189,
          22838,
          38071,
          27524,
          23117,
          30409,
          22099,
          16132,
          17968,
          20192,
          19227,
          18833,
          16734,
          17051,
          37157,
          21155,
          15264,
          21241,
          14607,
          14241,
          14313,
          13204,
          16695,
          18784,
          23649,
          18783,
          16456,
          17494,
          14903,
          18297,
          16942,
          19430,
          17720,
          18506,
          14177,
          14369,
          18247,
          18942,
          19956,
          15761,
          14713,
          18087,
          16823,
          19425,
          20984,
          23007,
          16080,
          13582,
          16375,
          16894,
          13300,
          25314,
          19856,
          14254,
          18651,
          15969,
          14619,
          13725,
          13464,
          14351,
          13310,
          16038,
          13036,
          12850,
          15322,
          15057,
          18667,
          17807,
          16693,
          14164,
          14326,
          13415,
          16289,
          15492,
          12645,
          12434,
          12822,
          16448,
          15272,
          13541,
          11638,
          13995,
          13120,
          12168,
          13952,
          13102,
          15606,
          10590,
          10369,
          15203,
          10654,
          13222,
          10157,
          8236,
          9615
         ],
         "yaxis": "y"
        },
        {
         "hovertemplate": "<b>OLS trendline</b><br>Annual_Rent = 0.31353 * Median income (dollars) + -4403.74<br>R<sup>2</sup>=0.641459<br><br>Median income (dollars)=%{x}<br>Annual_Rent=%{y} <b>(trend)</b><extra></extra>",
         "legendgroup": "",
         "line": {
          "color": "blue"
         },
         "marker": {
          "size": 12,
          "symbol": "circle"
         },
         "mode": "lines",
         "name": "",
         "showlegend": false,
         "type": "scatter",
         "x": [
          48558,
          48823,
          51770,
          51833,
          52426,
          53067,
          53563,
          54304,
          54859,
          55143,
          55366,
          55710,
          55725,
          56169,
          56623,
          56849,
          57158,
          57228,
          57518,
          57859,
          57906,
          58169,
          58366,
          58512,
          58621,
          59646,
          59779,
          60105,
          60141,
          60605,
          60746,
          61213,
          61876,
          62104,
          62107,
          62346,
          62355,
          62502,
          62608,
          62638,
          63474,
          65303,
          65526,
          65739,
          65845,
          65880,
          66399,
          66417,
          66825,
          67069,
          67207,
          67467,
          67896,
          68324,
          68997,
          69193,
          69329,
          69751,
          70215,
          70262,
          70373,
          70505,
          70793,
          70954,
          70967,
          71164,
          71742,
          72265,
          72633,
          73398,
          74533,
          75186,
          75379,
          75545,
          76348,
          76706,
          77005,
          77774,
          78439,
          78615,
          79152,
          79251,
          80096,
          80196,
          80954,
          83160,
          83160,
          83698,
          83985,
          85641,
          88535,
          94027,
          94430,
          105659,
          114696,
          130865
         ],
         "xaxis": "x",
         "y": [
          10820.642828530425,
          10903.72822151535,
          11827.700497464677,
          11847.452873910148,
          12033.37603632547,
          12234.348628413532,
          12389.859401698523,
          12622.184972271461,
          12796.194002862532,
          12885.236461759581,
          12955.153603780858,
          13063.007849768834,
          13067.710796541567,
          13206.918021014422,
          13349.260543335764,
          13420.118274711585,
          13516.998978229854,
          13538.946063169267,
          13629.869700775413,
          13736.783357408844,
          13751.519257296735,
          13833.977590711962,
          13895.74295832717,
          13941.518306915092,
          13975.693053463605,
          14297.061082933596,
          14338.760544318484,
          14440.971254179181,
          14452.258326433737,
          14597.736146603569,
          14641.943846267244,
          14788.36225579162,
          14996.232503146355,
          15067.717294091875,
          15068.65788344642,
          15143.591502025276,
          15146.413270088917,
          15192.502148461685,
          15225.736305655657,
          15235.14219920112,
          15497.253099334692,
          16070.699075823093,
          16140.61621784437,
          16207.398062017157,
          16240.632219211126,
          16251.605761680832,
          16414.327720017347,
          16419.971256144625,
          16547.89140836292,
          16624.392675866024,
          16667.659786175154,
          16749.177530235833,
          16883.681807935955,
          17017.87255585123,
          17228.87810105445,
          17290.32993888481,
          17332.969989624245,
          17465.279558830425,
          17610.757379000257,
          17625.49327888815,
          17660.29508500636,
          17701.6810166064,
          17791.977594642845,
          17842.455890003497,
          17846.531777206532,
          17908.29714482174,
          18089.517360464328,
          18253.493437940237,
          18368.872398764583,
          18608.722684173892,
          18964.578989977246,
          19169.313939483494,
          19229.825187959308,
          19281.871132244203,
          19533.635549477767,
          19645.879212453627,
          19739.62461812341,
          19980.729022672112,
          20189.226329596546,
          20244.40757172993,
          20412.77306619372,
          20443.812514893747,
          20708.74518309096,
          20740.098161575836,
          20977.753738491207,
          21669.400443867595,
          21669.400443867595,
          21838.079468116233,
          21928.06251636783,
          22447.267840077395,
          23354.623037429737,
          25076.528615819185,
          25202.88111911324,
          28723.507073180088,
          31556.875738858427,
          36626.3388300782
         ],
         "yaxis": "y"
        }
       ],
       "layout": {
        "coloraxis": {
         "colorbar": {
          "title": {
           "text": "density"
          }
         },
         "colorscale": [
          [
           0,
           "rgb(230, 240, 240)"
          ],
          [
           0.09090909090909091,
           "rgb(191, 221, 229)"
          ],
          [
           0.18181818181818182,
           "rgb(156, 201, 226)"
          ],
          [
           0.2727272727272727,
           "rgb(129, 180, 227)"
          ],
          [
           0.36363636363636365,
           "rgb(115, 154, 228)"
          ],
          [
           0.45454545454545453,
           "rgb(117, 127, 221)"
          ],
          [
           0.5454545454545454,
           "rgb(120, 100, 202)"
          ],
          [
           0.6363636363636364,
           "rgb(119, 74, 175)"
          ],
          [
           0.7272727272727273,
           "rgb(113, 50, 141)"
          ],
          [
           0.8181818181818182,
           "rgb(100, 31, 104)"
          ],
          [
           0.9090909090909091,
           "rgb(80, 20, 66)"
          ],
          [
           1,
           "rgb(54, 14, 36)"
          ]
         ]
        },
        "height": 500,
        "legend": {
         "tracegroupgap": 0
        },
        "template": {
         "data": {
          "bar": [
           {
            "error_x": {
             "color": "#2a3f5f"
            },
            "error_y": {
             "color": "#2a3f5f"
            },
            "marker": {
             "line": {
              "color": "#E5ECF6",
              "width": 0.5
             }
            },
            "type": "bar"
           }
          ],
          "barpolar": [
           {
            "marker": {
             "line": {
              "color": "#E5ECF6",
              "width": 0.5
             }
            },
            "type": "barpolar"
           }
          ],
          "carpet": [
           {
            "aaxis": {
             "endlinecolor": "#2a3f5f",
             "gridcolor": "white",
             "linecolor": "white",
             "minorgridcolor": "white",
             "startlinecolor": "#2a3f5f"
            },
            "baxis": {
             "endlinecolor": "#2a3f5f",
             "gridcolor": "white",
             "linecolor": "white",
             "minorgridcolor": "white",
             "startlinecolor": "#2a3f5f"
            },
            "type": "carpet"
           }
          ],
          "choropleth": [
           {
            "colorbar": {
             "outlinewidth": 0,
             "ticks": ""
            },
            "type": "choropleth"
           }
          ],
          "contour": [
           {
            "colorbar": {
             "outlinewidth": 0,
             "ticks": ""
            },
            "colorscale": [
             [
              0,
              "#0d0887"
             ],
             [
              0.1111111111111111,
              "#46039f"
             ],
             [
              0.2222222222222222,
              "#7201a8"
             ],
             [
              0.3333333333333333,
              "#9c179e"
             ],
             [
              0.4444444444444444,
              "#bd3786"
             ],
             [
              0.5555555555555556,
              "#d8576b"
             ],
             [
              0.6666666666666666,
              "#ed7953"
             ],
             [
              0.7777777777777778,
              "#fb9f3a"
             ],
             [
              0.8888888888888888,
              "#fdca26"
             ],
             [
              1,
              "#f0f921"
             ]
            ],
            "type": "contour"
           }
          ],
          "contourcarpet": [
           {
            "colorbar": {
             "outlinewidth": 0,
             "ticks": ""
            },
            "type": "contourcarpet"
           }
          ],
          "heatmap": [
           {
            "colorbar": {
             "outlinewidth": 0,
             "ticks": ""
            },
            "colorscale": [
             [
              0,
              "#0d0887"
             ],
             [
              0.1111111111111111,
              "#46039f"
             ],
             [
              0.2222222222222222,
              "#7201a8"
             ],
             [
              0.3333333333333333,
              "#9c179e"
             ],
             [
              0.4444444444444444,
              "#bd3786"
             ],
             [
              0.5555555555555556,
              "#d8576b"
             ],
             [
              0.6666666666666666,
              "#ed7953"
             ],
             [
              0.7777777777777778,
              "#fb9f3a"
             ],
             [
              0.8888888888888888,
              "#fdca26"
             ],
             [
              1,
              "#f0f921"
             ]
            ],
            "type": "heatmap"
           }
          ],
          "heatmapgl": [
           {
            "colorbar": {
             "outlinewidth": 0,
             "ticks": ""
            },
            "colorscale": [
             [
              0,
              "#0d0887"
             ],
             [
              0.1111111111111111,
              "#46039f"
             ],
             [
              0.2222222222222222,
              "#7201a8"
             ],
             [
              0.3333333333333333,
              "#9c179e"
             ],
             [
              0.4444444444444444,
              "#bd3786"
             ],
             [
              0.5555555555555556,
              "#d8576b"
             ],
             [
              0.6666666666666666,
              "#ed7953"
             ],
             [
              0.7777777777777778,
              "#fb9f3a"
             ],
             [
              0.8888888888888888,
              "#fdca26"
             ],
             [
              1,
              "#f0f921"
             ]
            ],
            "type": "heatmapgl"
           }
          ],
          "histogram": [
           {
            "marker": {
             "colorbar": {
              "outlinewidth": 0,
              "ticks": ""
             }
            },
            "type": "histogram"
           }
          ],
          "histogram2d": [
           {
            "colorbar": {
             "outlinewidth": 0,
             "ticks": ""
            },
            "colorscale": [
             [
              0,
              "#0d0887"
             ],
             [
              0.1111111111111111,
              "#46039f"
             ],
             [
              0.2222222222222222,
              "#7201a8"
             ],
             [
              0.3333333333333333,
              "#9c179e"
             ],
             [
              0.4444444444444444,
              "#bd3786"
             ],
             [
              0.5555555555555556,
              "#d8576b"
             ],
             [
              0.6666666666666666,
              "#ed7953"
             ],
             [
              0.7777777777777778,
              "#fb9f3a"
             ],
             [
              0.8888888888888888,
              "#fdca26"
             ],
             [
              1,
              "#f0f921"
             ]
            ],
            "type": "histogram2d"
           }
          ],
          "histogram2dcontour": [
           {
            "colorbar": {
             "outlinewidth": 0,
             "ticks": ""
            },
            "colorscale": [
             [
              0,
              "#0d0887"
             ],
             [
              0.1111111111111111,
              "#46039f"
             ],
             [
              0.2222222222222222,
              "#7201a8"
             ],
             [
              0.3333333333333333,
              "#9c179e"
             ],
             [
              0.4444444444444444,
              "#bd3786"
             ],
             [
              0.5555555555555556,
              "#d8576b"
             ],
             [
              0.6666666666666666,
              "#ed7953"
             ],
             [
              0.7777777777777778,
              "#fb9f3a"
             ],
             [
              0.8888888888888888,
              "#fdca26"
             ],
             [
              1,
              "#f0f921"
             ]
            ],
            "type": "histogram2dcontour"
           }
          ],
          "mesh3d": [
           {
            "colorbar": {
             "outlinewidth": 0,
             "ticks": ""
            },
            "type": "mesh3d"
           }
          ],
          "parcoords": [
           {
            "line": {
             "colorbar": {
              "outlinewidth": 0,
              "ticks": ""
             }
            },
            "type": "parcoords"
           }
          ],
          "pie": [
           {
            "automargin": true,
            "type": "pie"
           }
          ],
          "scatter": [
           {
            "marker": {
             "colorbar": {
              "outlinewidth": 0,
              "ticks": ""
             }
            },
            "type": "scatter"
           }
          ],
          "scatter3d": [
           {
            "line": {
             "colorbar": {
              "outlinewidth": 0,
              "ticks": ""
             }
            },
            "marker": {
             "colorbar": {
              "outlinewidth": 0,
              "ticks": ""
             }
            },
            "type": "scatter3d"
           }
          ],
          "scattercarpet": [
           {
            "marker": {
             "colorbar": {
              "outlinewidth": 0,
              "ticks": ""
             }
            },
            "type": "scattercarpet"
           }
          ],
          "scattergeo": [
           {
            "marker": {
             "colorbar": {
              "outlinewidth": 0,
              "ticks": ""
             }
            },
            "type": "scattergeo"
           }
          ],
          "scattergl": [
           {
            "marker": {
             "colorbar": {
              "outlinewidth": 0,
              "ticks": ""
             }
            },
            "type": "scattergl"
           }
          ],
          "scattermapbox": [
           {
            "marker": {
             "colorbar": {
              "outlinewidth": 0,
              "ticks": ""
             }
            },
            "type": "scattermapbox"
           }
          ],
          "scatterpolar": [
           {
            "marker": {
             "colorbar": {
              "outlinewidth": 0,
              "ticks": ""
             }
            },
            "type": "scatterpolar"
           }
          ],
          "scatterpolargl": [
           {
            "marker": {
             "colorbar": {
              "outlinewidth": 0,
              "ticks": ""
             }
            },
            "type": "scatterpolargl"
           }
          ],
          "scatterternary": [
           {
            "marker": {
             "colorbar": {
              "outlinewidth": 0,
              "ticks": ""
             }
            },
            "type": "scatterternary"
           }
          ],
          "surface": [
           {
            "colorbar": {
             "outlinewidth": 0,
             "ticks": ""
            },
            "colorscale": [
             [
              0,
              "#0d0887"
             ],
             [
              0.1111111111111111,
              "#46039f"
             ],
             [
              0.2222222222222222,
              "#7201a8"
             ],
             [
              0.3333333333333333,
              "#9c179e"
             ],
             [
              0.4444444444444444,
              "#bd3786"
             ],
             [
              0.5555555555555556,
              "#d8576b"
             ],
             [
              0.6666666666666666,
              "#ed7953"
             ],
             [
              0.7777777777777778,
              "#fb9f3a"
             ],
             [
              0.8888888888888888,
              "#fdca26"
             ],
             [
              1,
              "#f0f921"
             ]
            ],
            "type": "surface"
           }
          ],
          "table": [
           {
            "cells": {
             "fill": {
              "color": "#EBF0F8"
             },
             "line": {
              "color": "white"
             }
            },
            "header": {
             "fill": {
              "color": "#C8D4E3"
             },
             "line": {
              "color": "white"
             }
            },
            "type": "table"
           }
          ]
         },
         "layout": {
          "annotationdefaults": {
           "arrowcolor": "#2a3f5f",
           "arrowhead": 0,
           "arrowwidth": 1
          },
          "coloraxis": {
           "colorbar": {
            "outlinewidth": 0,
            "ticks": ""
           }
          },
          "colorscale": {
           "diverging": [
            [
             0,
             "#8e0152"
            ],
            [
             0.1,
             "#c51b7d"
            ],
            [
             0.2,
             "#de77ae"
            ],
            [
             0.3,
             "#f1b6da"
            ],
            [
             0.4,
             "#fde0ef"
            ],
            [
             0.5,
             "#f7f7f7"
            ],
            [
             0.6,
             "#e6f5d0"
            ],
            [
             0.7,
             "#b8e186"
            ],
            [
             0.8,
             "#7fbc41"
            ],
            [
             0.9,
             "#4d9221"
            ],
            [
             1,
             "#276419"
            ]
           ],
           "sequential": [
            [
             0,
             "#0d0887"
            ],
            [
             0.1111111111111111,
             "#46039f"
            ],
            [
             0.2222222222222222,
             "#7201a8"
            ],
            [
             0.3333333333333333,
             "#9c179e"
            ],
            [
             0.4444444444444444,
             "#bd3786"
            ],
            [
             0.5555555555555556,
             "#d8576b"
            ],
            [
             0.6666666666666666,
             "#ed7953"
            ],
            [
             0.7777777777777778,
             "#fb9f3a"
            ],
            [
             0.8888888888888888,
             "#fdca26"
            ],
            [
             1,
             "#f0f921"
            ]
           ],
           "sequentialminus": [
            [
             0,
             "#0d0887"
            ],
            [
             0.1111111111111111,
             "#46039f"
            ],
            [
             0.2222222222222222,
             "#7201a8"
            ],
            [
             0.3333333333333333,
             "#9c179e"
            ],
            [
             0.4444444444444444,
             "#bd3786"
            ],
            [
             0.5555555555555556,
             "#d8576b"
            ],
            [
             0.6666666666666666,
             "#ed7953"
            ],
            [
             0.7777777777777778,
             "#fb9f3a"
            ],
            [
             0.8888888888888888,
             "#fdca26"
            ],
            [
             1,
             "#f0f921"
            ]
           ]
          },
          "colorway": [
           "#636efa",
           "#EF553B",
           "#00cc96",
           "#ab63fa",
           "#FFA15A",
           "#19d3f3",
           "#FF6692",
           "#B6E880",
           "#FF97FF",
           "#FECB52"
          ],
          "font": {
           "color": "#2a3f5f"
          },
          "geo": {
           "bgcolor": "white",
           "lakecolor": "white",
           "landcolor": "#E5ECF6",
           "showlakes": true,
           "showland": true,
           "subunitcolor": "white"
          },
          "hoverlabel": {
           "align": "left"
          },
          "hovermode": "closest",
          "mapbox": {
           "style": "light"
          },
          "paper_bgcolor": "white",
          "plot_bgcolor": "#E5ECF6",
          "polar": {
           "angularaxis": {
            "gridcolor": "white",
            "linecolor": "white",
            "ticks": ""
           },
           "bgcolor": "#E5ECF6",
           "radialaxis": {
            "gridcolor": "white",
            "linecolor": "white",
            "ticks": ""
           }
          },
          "scene": {
           "xaxis": {
            "backgroundcolor": "#E5ECF6",
            "gridcolor": "white",
            "gridwidth": 2,
            "linecolor": "white",
            "showbackground": true,
            "ticks": "",
            "zerolinecolor": "white"
           },
           "yaxis": {
            "backgroundcolor": "#E5ECF6",
            "gridcolor": "white",
            "gridwidth": 2,
            "linecolor": "white",
            "showbackground": true,
            "ticks": "",
            "zerolinecolor": "white"
           },
           "zaxis": {
            "backgroundcolor": "#E5ECF6",
            "gridcolor": "white",
            "gridwidth": 2,
            "linecolor": "white",
            "showbackground": true,
            "ticks": "",
            "zerolinecolor": "white"
           }
          },
          "shapedefaults": {
           "line": {
            "color": "#2a3f5f"
           }
          },
          "ternary": {
           "aaxis": {
            "gridcolor": "white",
            "linecolor": "white",
            "ticks": ""
           },
           "baxis": {
            "gridcolor": "white",
            "linecolor": "white",
            "ticks": ""
           },
           "bgcolor": "#E5ECF6",
           "caxis": {
            "gridcolor": "white",
            "linecolor": "white",
            "ticks": ""
           }
          },
          "title": {
           "x": 0.05
          },
          "xaxis": {
           "automargin": true,
           "gridcolor": "white",
           "linecolor": "white",
           "ticks": "",
           "title": {
            "standoff": 15
           },
           "zerolinecolor": "white",
           "zerolinewidth": 2
          },
          "yaxis": {
           "automargin": true,
           "gridcolor": "white",
           "linecolor": "white",
           "ticks": "",
           "title": {
            "standoff": 15
           },
           "zerolinecolor": "white",
           "zerolinewidth": 2
          }
         }
        },
        "title": {
         "text": "<b>US cities: Rent, Median Income and Population Density</b>"
        },
        "width": 600,
        "xaxis": {
         "anchor": "y",
         "domain": [
          0,
          1
         ],
         "title": {
          "text": "Median income (dollars)"
         }
        },
        "yaxis": {
         "anchor": "x",
         "domain": [
          0,
          1
         ],
         "title": {
          "text": "Annual_Rent"
         }
        }
       }
      },
      "text/html": [
       "<div>                            <div id=\"f28c8006-852d-4c83-a0fd-1d10ba0ab04a\" class=\"plotly-graph-div\" style=\"height:500px; width:600px;\"></div>            <script type=\"text/javascript\">                require([\"plotly\"], function(Plotly) {                    window.PLOTLYENV=window.PLOTLYENV || {};                                    if (document.getElementById(\"f28c8006-852d-4c83-a0fd-1d10ba0ab04a\")) {                    Plotly.newPlot(                        \"f28c8006-852d-4c83-a0fd-1d10ba0ab04a\",                        [{\"customdata\": [[0.388124566050351], [0.38707311207311207], [0.37974094211935283], [0.33192962265466974], [0.32772518902184916], [0.32580263269160303], [0.3220268982314942], [0.32028928794005534], [0.31123029730094726], [0.3102959969605913], [0.30815248908830084], [0.3071013289036545], [0.30436679811235373], [0.3003769520732364], [0.2964463298445704], [0.28393382493409236], [0.28064845646665515], [0.2782405803970178], [0.2769144525851954], [0.275255808694669], [0.2750820938767626], [0.27301339030252164], [0.2704463060442824], [0.2688102790345694], [0.2673422333551564], [0.26711470040097135], [0.2646723124832669], [0.263946363840503], [0.26346782331059204], [0.26319693410804795], [0.2595135096801645], [0.2594367793210113], [0.2584257707551938], [0.2560952697527207], [0.2560852418183076], [0.2560596756131922], [0.25581726575157115], [0.25434194753421985], [0.2541424603866744], [0.2538446861286014], [0.25276240878838907], [0.25098514184336673], [0.24901904093180785], [0.24777601036879934], [0.24764466655617742], [0.24502282785114607], [0.24468503727652696], [0.24408014571949], [0.2437326155226559], [0.2427112514266234], [0.24220441283995928], [0.24119108499718914], [0.23958205169460245], [0.23876863876863877], [0.23464919500872486], [0.23039009808039132], [0.23033651141657893], [0.23031477455336044], [0.23010763504677598], [0.23010664479081214], [0.22960865252311927], [0.22804372408594045], [0.2265478225248259], [0.22530634819129264], [0.2245404347522192], [0.22425502019788068], [0.2240391625872305], [0.22302802934359245], [0.2223207151418298], [0.21864357939959134], [0.21545809945390104], [0.2143808454919566], [0.21416711900124524], [0.21153171871956367], [0.2110684214828742], [0.20864615130764788], [0.20687130854338243], [0.2064601313925029], [0.20509751109781035], [0.2021576543781852], [0.2018965542948307], [0.2000722034073132], [0.19931638538773766], [0.19925582808109954], [0.1987813046248346], [0.198257854574908], [0.1972687715494527], [0.19716494845360824], [0.19501325869180908], [0.1935851240595187], [0.19183354153259896], [0.1874087494942743], [0.1857961890843685], [0.17770040939151124], [0.16961159850076196], [0.16084243630706435]], \"hovertemplate\": \"<b>%{hovertext}</b><br><br>Median income (dollars)=%{x}<br>Annual_Rent=%{y}<br>rent_divby_medianinc=%{customdata[0]}<br>density=%{marker.color}<extra></extra>\", \"hovertext\": [\"Los Angeles_CA\", \"New York_NY\", \"Miami_FL\", \"San Francisco_CA\", \"San Diego_CA\", \"Riverside_CA\", \"Boston_MA\", \"Stockton_CA\", \"Lakeland_FL\", \"Tampa_FL\", \"North Port_FL\", \"Port St. Lucie_FL\", \"Orlando_FL\", \"New Orleans_LA\", \"Fresno_CA\", \"San Jose_CA\", \"Chicago_IL\", \"Memphis_TN\", \"Sacramento_CA\", \"Bakersfield_CA\", \"Greensboro_NC\", \"Jackson_MS\", \"El Paso_TX\", \"Las Vegas_NV\", \"Nashville_TN\", \"Boulder_CO\", \"Providence_RI\", \"Springfield_MA\", \"Charlotte_NC\", \"Knoxville_TN\", \"Charleston_SC\", \"Durham_NC\", \"Fort Collins_CO\", \"Houston_TX\", \"Dallas_TX\", \"Chattanooga_TN\", \"Tucson_AZ\", \"Atlanta_GA\", \"Philadelphia_PA\", \"Greeley_CO\", \"San Antonio_TX\", \"Greenville_SC\", \"Colorado Springs_CO\", \"Phoenix_AZ\", \"Portland_OR\", \"Denver_CO\", \"Seattle_WA\", \"Jacksonville_FL\", \"Columbia_SC\", \"Gainesville_GA\", \"New Haven_CT\", \"Augusta_GA\", \"Washington_DC\", \"Baltimore_MD\", \"Baton Rouge_LA\", \"Austin_TX\", \"Virginia Beach_VA\", \"Detroit_MI\", \"Spokane_WA\", \"Albuquerque_NM\", \"Indianapolis_IN\", \"Birmingham_AL\", \"Allentown_PA\", \"Tulsa_OK\", \"Cleveland_OH\", \"Richmond_VA\", \"Columbus_OH\", \"Minneapolis_MN\", \"Raleigh_NC\", \"Worcester_MA\", \"Grand Rapids_MI\", \"Cincinnati_OH\", \"Pittsburgh_PA\", \"Hartford_CT\", \"Albany_NY\", \"Oklahoma City_OK\", \"Buffalo_NY\", \"Rochester_NY\", \"Salt Lake City_UT\", \"Madison_WI\", \"Harrisburg_PA\", \"Dayton_OH\", \"Kansas City_MO\", \"Milwaukee_WI\", \"Syracuse_NY\", \"Omaha_NE\", \"St. Louis_MO\", \"Provo_UT\", \"Scranton_PA\", \"Toledo_OH\", \"Ogden_UT\", \"Little Rock_AR\", \"Des Moines_IA\", \"Akron_OH\", \"Youngstown_OH\", \"Wichita_KS\"], \"legendgroup\": \"\", \"marker\": {\"color\": [3276.0, 10715.0, 5019.0, 7256.0, 1686.0, 1574.0, 5532.0, 1941.0, 654.0, 1353.0, 274.0, 653.0, 1003.0, 889.0, 1789.0, 2218.0, 4574.0, 792.0, 2029.0, 990.0, 887.0, 558.0, 1022.0, 1773.0, 544.0, 1551.0, 3773.0, 1860.0, 1113.0, 733.0, 480.0, 959.0, 1149.0, 1399.0, 1526.0, 493.0, 889.0, 1441.0, 4554.0, 858.0, 1231.0, 920.0, 946.0, 1253.0, 1894.0, 1831.0, 3469.0, 470.0, 373.0, 506.0, 2690.0, 252.0, 4457.0, 2830.0, 983.0, 1181.0, 709.0, 1864.0, 1247.0, 1155.0, 935.0, 553.0, 2672.0, 784.0, 1893.0, 1484.0, 1582.0, 3071.0, 1254.0, 1916.0, 1734.0, 1507.0, 2093.0, 2712.0, 1740.0, 417.0, 2441.0, 2220.0, 699.0, 1263.0, 2343.0, 978.0, 607.0, 2369.0, 2195.0, 1309.0, 1879.0, 1080.0, 1169.0, 1308.0, 1230.0, 634.0, 938.0, 1231.0, 744.0, 931.0], \"coloraxis\": \"coloraxis\", \"size\": 12, \"symbol\": \"circle\"}, \"mode\": \"markers\", \"name\": \"\", \"orientation\": \"v\", \"showlegend\": false, \"type\": \"scatter\", \"x\": [77774.0, 83160.0, 60141.0, 114696.0, 83985.0, 70954.0, 94430.0, 68997.0, 51833.0, 57906.0, 65526.0, 62608.0, 61876.0, 55710.0, 57518.0, 130865.0, 75379.0, 54859.0, 76706.0, 53067.0, 51770.0, 52426.0, 48823.0, 62107.0, 70262.0, 88535.0, 70967.0, 62346.0, 66399.0, 56623.0, 70505.0, 65303.0, 75186.0, 69193.0, 72265.0, 55366.0, 56169.0, 71742.0, 74533.0, 78615.0, 62355.0, 58621.0, 72633.0, 67896.0, 78439.0, 85641.0, 94027.0, 65880.0, 55725.0, 67467.0, 69751.0, 55143.0, 105659.0, 83160.0, 60746.0, 80954.0, 69329.0, 63474.0, 59646.0, 58512.0, 62502.0, 58366.0, 70793.0, 57859.0, 57228.0, 68324.0, 67207.0, 83698.0, 80096.0, 76348.0, 65739.0, 66825.0, 62638.0, 77005.0, 73398.0, 60605.0, 60105.0, 62104.0, 80196.0, 75545.0, 67069.0, 58169.0, 70215.0, 65845.0, 61213.0, 70373.0, 66417.0, 79152.0, 54304.0, 53563.0, 79251.0, 56849.0, 71164.0, 57158.0, 48558.0, 59779.0], \"xaxis\": \"x\", \"y\": [30186, 32189, 22838, 38071, 27524, 23117, 30409, 22099, 16132, 17968, 20192, 19227, 18833, 16734, 17051, 37157, 21155, 15264, 21241, 14607, 14241, 14313, 13204, 16695, 18784, 23649, 18783, 16456, 17494, 14903, 18297, 16942, 19430, 17720, 18506, 14177, 14369, 18247, 18942, 19956, 15761, 14713, 18087, 16823, 19425, 20984, 23007, 16080, 13582, 16375, 16894, 13300, 25314, 19856, 14254, 18651, 15969, 14619, 13725, 13464, 14351, 13310, 16038, 13036, 12850, 15322, 15057, 18667, 17807, 16693, 14164, 14326, 13415, 16289, 15492, 12645, 12434, 12822, 16448, 15272, 13541, 11638, 13995, 13120, 12168, 13952, 13102, 15606, 10590, 10369, 15203, 10654, 13222, 10157, 8236, 9615], \"yaxis\": \"y\"}, {\"hovertemplate\": \"<b>OLS trendline</b><br>Annual_Rent = 0.31353 * Median income (dollars) + -4403.74<br>R<sup>2</sup>=0.641459<br><br>Median income (dollars)=%{x}<br>Annual_Rent=%{y} <b>(trend)</b><extra></extra>\", \"legendgroup\": \"\", \"line\": {\"color\": \"blue\"}, \"marker\": {\"size\": 12, \"symbol\": \"circle\"}, \"mode\": \"lines\", \"name\": \"\", \"showlegend\": false, \"type\": \"scatter\", \"x\": [48558.0, 48823.0, 51770.0, 51833.0, 52426.0, 53067.0, 53563.0, 54304.0, 54859.0, 55143.0, 55366.0, 55710.0, 55725.0, 56169.0, 56623.0, 56849.0, 57158.0, 57228.0, 57518.0, 57859.0, 57906.0, 58169.0, 58366.0, 58512.0, 58621.0, 59646.0, 59779.0, 60105.0, 60141.0, 60605.0, 60746.0, 61213.0, 61876.0, 62104.0, 62107.0, 62346.0, 62355.0, 62502.0, 62608.0, 62638.0, 63474.0, 65303.0, 65526.0, 65739.0, 65845.0, 65880.0, 66399.0, 66417.0, 66825.0, 67069.0, 67207.0, 67467.0, 67896.0, 68324.0, 68997.0, 69193.0, 69329.0, 69751.0, 70215.0, 70262.0, 70373.0, 70505.0, 70793.0, 70954.0, 70967.0, 71164.0, 71742.0, 72265.0, 72633.0, 73398.0, 74533.0, 75186.0, 75379.0, 75545.0, 76348.0, 76706.0, 77005.0, 77774.0, 78439.0, 78615.0, 79152.0, 79251.0, 80096.0, 80196.0, 80954.0, 83160.0, 83160.0, 83698.0, 83985.0, 85641.0, 88535.0, 94027.0, 94430.0, 105659.0, 114696.0, 130865.0], \"xaxis\": \"x\", \"y\": [10820.642828530425, 10903.72822151535, 11827.700497464677, 11847.452873910148, 12033.37603632547, 12234.348628413532, 12389.859401698523, 12622.184972271461, 12796.194002862532, 12885.236461759581, 12955.153603780858, 13063.007849768834, 13067.710796541567, 13206.918021014422, 13349.260543335764, 13420.118274711585, 13516.998978229854, 13538.946063169267, 13629.869700775413, 13736.783357408844, 13751.519257296735, 13833.977590711962, 13895.74295832717, 13941.518306915092, 13975.693053463605, 14297.061082933596, 14338.760544318484, 14440.971254179181, 14452.258326433737, 14597.736146603569, 14641.943846267244, 14788.36225579162, 14996.232503146355, 15067.717294091875, 15068.65788344642, 15143.591502025276, 15146.413270088917, 15192.502148461685, 15225.736305655657, 15235.14219920112, 15497.253099334692, 16070.699075823093, 16140.61621784437, 16207.398062017157, 16240.632219211126, 16251.605761680832, 16414.327720017347, 16419.971256144625, 16547.89140836292, 16624.392675866024, 16667.659786175154, 16749.177530235833, 16883.681807935955, 17017.87255585123, 17228.87810105445, 17290.32993888481, 17332.969989624245, 17465.279558830425, 17610.757379000257, 17625.49327888815, 17660.29508500636, 17701.6810166064, 17791.977594642845, 17842.455890003497, 17846.531777206532, 17908.29714482174, 18089.517360464328, 18253.493437940237, 18368.872398764583, 18608.722684173892, 18964.578989977246, 19169.313939483494, 19229.825187959308, 19281.871132244203, 19533.635549477767, 19645.879212453627, 19739.62461812341, 19980.729022672112, 20189.226329596546, 20244.40757172993, 20412.77306619372, 20443.812514893747, 20708.74518309096, 20740.098161575836, 20977.753738491207, 21669.400443867595, 21669.400443867595, 21838.079468116233, 21928.06251636783, 22447.267840077395, 23354.623037429737, 25076.528615819185, 25202.88111911324, 28723.507073180088, 31556.875738858427, 36626.3388300782], \"yaxis\": \"y\"}],                        {\"coloraxis\": {\"colorbar\": {\"title\": {\"text\": \"density\"}}, \"colorscale\": [[0.0, \"rgb(230, 240, 240)\"], [0.09090909090909091, \"rgb(191, 221, 229)\"], [0.18181818181818182, \"rgb(156, 201, 226)\"], [0.2727272727272727, \"rgb(129, 180, 227)\"], [0.36363636363636365, \"rgb(115, 154, 228)\"], [0.45454545454545453, \"rgb(117, 127, 221)\"], [0.5454545454545454, \"rgb(120, 100, 202)\"], [0.6363636363636364, \"rgb(119, 74, 175)\"], [0.7272727272727273, \"rgb(113, 50, 141)\"], [0.8181818181818182, \"rgb(100, 31, 104)\"], [0.9090909090909091, \"rgb(80, 20, 66)\"], [1.0, \"rgb(54, 14, 36)\"]]}, \"height\": 500, \"legend\": {\"tracegroupgap\": 0}, \"template\": {\"data\": {\"bar\": [{\"error_x\": {\"color\": \"#2a3f5f\"}, \"error_y\": {\"color\": \"#2a3f5f\"}, \"marker\": {\"line\": {\"color\": \"#E5ECF6\", \"width\": 0.5}}, \"type\": \"bar\"}], \"barpolar\": [{\"marker\": {\"line\": {\"color\": \"#E5ECF6\", \"width\": 0.5}}, \"type\": \"barpolar\"}], \"carpet\": [{\"aaxis\": {\"endlinecolor\": \"#2a3f5f\", \"gridcolor\": \"white\", \"linecolor\": \"white\", \"minorgridcolor\": \"white\", \"startlinecolor\": \"#2a3f5f\"}, \"baxis\": {\"endlinecolor\": \"#2a3f5f\", \"gridcolor\": \"white\", \"linecolor\": \"white\", \"minorgridcolor\": \"white\", \"startlinecolor\": \"#2a3f5f\"}, \"type\": \"carpet\"}], \"choropleth\": [{\"colorbar\": {\"outlinewidth\": 0, \"ticks\": \"\"}, \"type\": \"choropleth\"}], \"contour\": [{\"colorbar\": {\"outlinewidth\": 0, \"ticks\": \"\"}, \"colorscale\": [[0.0, \"#0d0887\"], [0.1111111111111111, \"#46039f\"], [0.2222222222222222, \"#7201a8\"], [0.3333333333333333, \"#9c179e\"], [0.4444444444444444, \"#bd3786\"], [0.5555555555555556, \"#d8576b\"], [0.6666666666666666, \"#ed7953\"], [0.7777777777777778, \"#fb9f3a\"], [0.8888888888888888, \"#fdca26\"], [1.0, \"#f0f921\"]], \"type\": \"contour\"}], \"contourcarpet\": [{\"colorbar\": {\"outlinewidth\": 0, \"ticks\": \"\"}, \"type\": \"contourcarpet\"}], \"heatmap\": [{\"colorbar\": {\"outlinewidth\": 0, \"ticks\": \"\"}, \"colorscale\": [[0.0, \"#0d0887\"], [0.1111111111111111, \"#46039f\"], [0.2222222222222222, \"#7201a8\"], [0.3333333333333333, \"#9c179e\"], [0.4444444444444444, \"#bd3786\"], [0.5555555555555556, \"#d8576b\"], [0.6666666666666666, \"#ed7953\"], [0.7777777777777778, \"#fb9f3a\"], [0.8888888888888888, \"#fdca26\"], [1.0, \"#f0f921\"]], \"type\": \"heatmap\"}], \"heatmapgl\": [{\"colorbar\": {\"outlinewidth\": 0, \"ticks\": \"\"}, \"colorscale\": [[0.0, \"#0d0887\"], [0.1111111111111111, \"#46039f\"], [0.2222222222222222, \"#7201a8\"], [0.3333333333333333, \"#9c179e\"], [0.4444444444444444, \"#bd3786\"], [0.5555555555555556, \"#d8576b\"], [0.6666666666666666, \"#ed7953\"], [0.7777777777777778, \"#fb9f3a\"], [0.8888888888888888, \"#fdca26\"], [1.0, \"#f0f921\"]], \"type\": \"heatmapgl\"}], \"histogram\": [{\"marker\": {\"colorbar\": {\"outlinewidth\": 0, \"ticks\": \"\"}}, \"type\": \"histogram\"}], \"histogram2d\": [{\"colorbar\": {\"outlinewidth\": 0, \"ticks\": \"\"}, \"colorscale\": [[0.0, \"#0d0887\"], [0.1111111111111111, \"#46039f\"], [0.2222222222222222, \"#7201a8\"], [0.3333333333333333, \"#9c179e\"], [0.4444444444444444, \"#bd3786\"], [0.5555555555555556, \"#d8576b\"], [0.6666666666666666, \"#ed7953\"], [0.7777777777777778, \"#fb9f3a\"], [0.8888888888888888, \"#fdca26\"], [1.0, \"#f0f921\"]], \"type\": \"histogram2d\"}], \"histogram2dcontour\": [{\"colorbar\": {\"outlinewidth\": 0, \"ticks\": \"\"}, \"colorscale\": [[0.0, \"#0d0887\"], [0.1111111111111111, \"#46039f\"], [0.2222222222222222, \"#7201a8\"], [0.3333333333333333, \"#9c179e\"], [0.4444444444444444, \"#bd3786\"], [0.5555555555555556, \"#d8576b\"], [0.6666666666666666, \"#ed7953\"], [0.7777777777777778, \"#fb9f3a\"], [0.8888888888888888, \"#fdca26\"], [1.0, \"#f0f921\"]], \"type\": \"histogram2dcontour\"}], \"mesh3d\": [{\"colorbar\": {\"outlinewidth\": 0, \"ticks\": \"\"}, \"type\": \"mesh3d\"}], \"parcoords\": [{\"line\": {\"colorbar\": {\"outlinewidth\": 0, \"ticks\": \"\"}}, \"type\": \"parcoords\"}], \"pie\": [{\"automargin\": true, \"type\": \"pie\"}], \"scatter\": [{\"marker\": {\"colorbar\": {\"outlinewidth\": 0, \"ticks\": \"\"}}, \"type\": \"scatter\"}], \"scatter3d\": [{\"line\": {\"colorbar\": {\"outlinewidth\": 0, \"ticks\": \"\"}}, \"marker\": {\"colorbar\": {\"outlinewidth\": 0, \"ticks\": \"\"}}, \"type\": \"scatter3d\"}], \"scattercarpet\": [{\"marker\": {\"colorbar\": {\"outlinewidth\": 0, \"ticks\": \"\"}}, \"type\": \"scattercarpet\"}], \"scattergeo\": [{\"marker\": {\"colorbar\": {\"outlinewidth\": 0, \"ticks\": \"\"}}, \"type\": \"scattergeo\"}], \"scattergl\": [{\"marker\": {\"colorbar\": {\"outlinewidth\": 0, \"ticks\": \"\"}}, \"type\": \"scattergl\"}], \"scattermapbox\": [{\"marker\": {\"colorbar\": {\"outlinewidth\": 0, \"ticks\": \"\"}}, \"type\": \"scattermapbox\"}], \"scatterpolar\": [{\"marker\": {\"colorbar\": {\"outlinewidth\": 0, \"ticks\": \"\"}}, \"type\": \"scatterpolar\"}], \"scatterpolargl\": [{\"marker\": {\"colorbar\": {\"outlinewidth\": 0, \"ticks\": \"\"}}, \"type\": \"scatterpolargl\"}], \"scatterternary\": [{\"marker\": {\"colorbar\": {\"outlinewidth\": 0, \"ticks\": \"\"}}, \"type\": \"scatterternary\"}], \"surface\": [{\"colorbar\": {\"outlinewidth\": 0, \"ticks\": \"\"}, \"colorscale\": [[0.0, \"#0d0887\"], [0.1111111111111111, \"#46039f\"], [0.2222222222222222, \"#7201a8\"], [0.3333333333333333, \"#9c179e\"], [0.4444444444444444, \"#bd3786\"], [0.5555555555555556, \"#d8576b\"], [0.6666666666666666, \"#ed7953\"], [0.7777777777777778, \"#fb9f3a\"], [0.8888888888888888, \"#fdca26\"], [1.0, \"#f0f921\"]], \"type\": \"surface\"}], \"table\": [{\"cells\": {\"fill\": {\"color\": \"#EBF0F8\"}, \"line\": {\"color\": \"white\"}}, \"header\": {\"fill\": {\"color\": \"#C8D4E3\"}, \"line\": {\"color\": \"white\"}}, \"type\": \"table\"}]}, \"layout\": {\"annotationdefaults\": {\"arrowcolor\": \"#2a3f5f\", \"arrowhead\": 0, \"arrowwidth\": 1}, \"coloraxis\": {\"colorbar\": {\"outlinewidth\": 0, \"ticks\": \"\"}}, \"colorscale\": {\"diverging\": [[0, \"#8e0152\"], [0.1, \"#c51b7d\"], [0.2, \"#de77ae\"], [0.3, \"#f1b6da\"], [0.4, \"#fde0ef\"], [0.5, \"#f7f7f7\"], [0.6, \"#e6f5d0\"], [0.7, \"#b8e186\"], [0.8, \"#7fbc41\"], [0.9, \"#4d9221\"], [1, \"#276419\"]], \"sequential\": [[0.0, \"#0d0887\"], [0.1111111111111111, \"#46039f\"], [0.2222222222222222, \"#7201a8\"], [0.3333333333333333, \"#9c179e\"], [0.4444444444444444, \"#bd3786\"], [0.5555555555555556, \"#d8576b\"], [0.6666666666666666, \"#ed7953\"], [0.7777777777777778, \"#fb9f3a\"], [0.8888888888888888, \"#fdca26\"], [1.0, \"#f0f921\"]], \"sequentialminus\": [[0.0, \"#0d0887\"], [0.1111111111111111, \"#46039f\"], [0.2222222222222222, \"#7201a8\"], [0.3333333333333333, \"#9c179e\"], [0.4444444444444444, \"#bd3786\"], [0.5555555555555556, \"#d8576b\"], [0.6666666666666666, \"#ed7953\"], [0.7777777777777778, \"#fb9f3a\"], [0.8888888888888888, \"#fdca26\"], [1.0, \"#f0f921\"]]}, \"colorway\": [\"#636efa\", \"#EF553B\", \"#00cc96\", \"#ab63fa\", \"#FFA15A\", \"#19d3f3\", \"#FF6692\", \"#B6E880\", \"#FF97FF\", \"#FECB52\"], \"font\": {\"color\": \"#2a3f5f\"}, \"geo\": {\"bgcolor\": \"white\", \"lakecolor\": \"white\", \"landcolor\": \"#E5ECF6\", \"showlakes\": true, \"showland\": true, \"subunitcolor\": \"white\"}, \"hoverlabel\": {\"align\": \"left\"}, \"hovermode\": \"closest\", \"mapbox\": {\"style\": \"light\"}, \"paper_bgcolor\": \"white\", \"plot_bgcolor\": \"#E5ECF6\", \"polar\": {\"angularaxis\": {\"gridcolor\": \"white\", \"linecolor\": \"white\", \"ticks\": \"\"}, \"bgcolor\": \"#E5ECF6\", \"radialaxis\": {\"gridcolor\": \"white\", \"linecolor\": \"white\", \"ticks\": \"\"}}, \"scene\": {\"xaxis\": {\"backgroundcolor\": \"#E5ECF6\", \"gridcolor\": \"white\", \"gridwidth\": 2, \"linecolor\": \"white\", \"showbackground\": true, \"ticks\": \"\", \"zerolinecolor\": \"white\"}, \"yaxis\": {\"backgroundcolor\": \"#E5ECF6\", \"gridcolor\": \"white\", \"gridwidth\": 2, \"linecolor\": \"white\", \"showbackground\": true, \"ticks\": \"\", \"zerolinecolor\": \"white\"}, \"zaxis\": {\"backgroundcolor\": \"#E5ECF6\", \"gridcolor\": \"white\", \"gridwidth\": 2, \"linecolor\": \"white\", \"showbackground\": true, \"ticks\": \"\", \"zerolinecolor\": \"white\"}}, \"shapedefaults\": {\"line\": {\"color\": \"#2a3f5f\"}}, \"ternary\": {\"aaxis\": {\"gridcolor\": \"white\", \"linecolor\": \"white\", \"ticks\": \"\"}, \"baxis\": {\"gridcolor\": \"white\", \"linecolor\": \"white\", \"ticks\": \"\"}, \"bgcolor\": \"#E5ECF6\", \"caxis\": {\"gridcolor\": \"white\", \"linecolor\": \"white\", \"ticks\": \"\"}}, \"title\": {\"x\": 0.05}, \"xaxis\": {\"automargin\": true, \"gridcolor\": \"white\", \"linecolor\": \"white\", \"ticks\": \"\", \"title\": {\"standoff\": 15}, \"zerolinecolor\": \"white\", \"zerolinewidth\": 2}, \"yaxis\": {\"automargin\": true, \"gridcolor\": \"white\", \"linecolor\": \"white\", \"ticks\": \"\", \"title\": {\"standoff\": 15}, \"zerolinecolor\": \"white\", \"zerolinewidth\": 2}}}, \"title\": {\"text\": \"<b>US cities: Rent, Median Income and Population Density</b>\"}, \"width\": 600, \"xaxis\": {\"anchor\": \"y\", \"domain\": [0.0, 1.0], \"title\": {\"text\": \"Median income (dollars)\"}}, \"yaxis\": {\"anchor\": \"x\", \"domain\": [0.0, 1.0], \"title\": {\"text\": \"Annual_Rent\"}}},                        {\"responsive\": true}                    ).then(function(){\n",
       "                            \n",
       "var gd = document.getElementById('f28c8006-852d-4c83-a0fd-1d10ba0ab04a');\n",
       "var x = new MutationObserver(function (mutations, observer) {{\n",
       "        var display = window.getComputedStyle(gd).display;\n",
       "        if (!display || display === 'none') {{\n",
       "            console.log([gd, 'removed!']);\n",
       "            Plotly.purge(gd);\n",
       "            observer.disconnect();\n",
       "        }}\n",
       "}});\n",
       "\n",
       "// Listen for the removal of the full notebook cells\n",
       "var notebookContainer = gd.closest('#notebook-container');\n",
       "if (notebookContainer) {{\n",
       "    x.observe(notebookContainer, {childList: true});\n",
       "}}\n",
       "\n",
       "// Listen for the clearing of the current output cell\n",
       "var outputEl = gd.closest('.output');\n",
       "if (outputEl) {{\n",
       "    x.observe(outputEl, {childList: true});\n",
       "}}\n",
       "\n",
       "                        })                };                });            </script>        </div>"
      ]
     },
     "metadata": {},
     "output_type": "display_data"
    }
   ],
   "source": [
    "# SAME PLOT AS ABOVE BUT USING PLOTLY EXPRESS FOR BETTER FORMATTING FOR GOOGLE SLIDE PRESENTATION\n",
    "#affordability_df.reset_index(inplace=True)\n",
    "\n",
    "affordability_scatterplot2 = px.scatter(affordability_df,y='Annual_Rent',\n",
    "                                     x='Median income (dollars)',\n",
    "                                     color='density',   \n",
    "                                     width=600,\n",
    "                                     height=500,\n",
    "                                     trendline=\"ols\",\n",
    "                                     trendline_color_override=\"blue\",\n",
    "                                     title= \"<b>US cities: Rent, Median Income and Population Density</b>\",\n",
    "                                     hover_name=\"Primary MSA\",\n",
    "                                     color_continuous_scale='dense',\n",
    "                                     hover_data=[\"rent_divby_medianinc\"])\n",
    "\n",
    "#removing bg color\n",
    "#affordability_scatterplot2.update_layout({\n",
    "#'plot_bgcolor': 'rgba(0, 0, 0, 0)',\n",
    "#'paper_bgcolor': 'rgba(0, 0, 0, 0)',\n",
    "#})\n",
    "\n",
    "#changing dot size\n",
    "affordability_scatterplot2.update_traces(marker=dict(size=12))\n",
    "\n",
    "#showing plot\n",
    "affordability_scatterplot2"
   ]
  },
  {
   "cell_type": "code",
   "execution_count": 199,
   "metadata": {
    "scrolled": true
   },
   "outputs": [
    {
     "data": {
      "application/vnd.plotly.v1+json": {
       "config": {
        "plotlyServerURL": "https://plot.ly"
       },
       "data": [
        {
         "customdata": [
          [
           0.388124566050351
          ],
          [
           0.38707311207311207
          ],
          [
           0.37974094211935283
          ],
          [
           0.33192962265466974
          ],
          [
           0.32772518902184916
          ],
          [
           0.32580263269160303
          ],
          [
           0.3220268982314942
          ],
          [
           0.32028928794005534
          ],
          [
           0.31123029730094726
          ],
          [
           0.3102959969605913
          ],
          [
           0.30815248908830084
          ],
          [
           0.3071013289036545
          ],
          [
           0.30436679811235373
          ],
          [
           0.3003769520732364
          ],
          [
           0.2964463298445704
          ],
          [
           0.28393382493409236
          ],
          [
           0.28064845646665515
          ],
          [
           0.2782405803970178
          ],
          [
           0.2769144525851954
          ],
          [
           0.275255808694669
          ],
          [
           0.2750820938767626
          ],
          [
           0.27301339030252164
          ],
          [
           0.2704463060442824
          ],
          [
           0.2688102790345694
          ],
          [
           0.2673422333551564
          ],
          [
           0.26711470040097135
          ],
          [
           0.2646723124832669
          ],
          [
           0.263946363840503
          ],
          [
           0.26346782331059204
          ],
          [
           0.26319693410804795
          ],
          [
           0.2595135096801645
          ],
          [
           0.2594367793210113
          ],
          [
           0.2584257707551938
          ],
          [
           0.2560952697527207
          ],
          [
           0.2560852418183076
          ],
          [
           0.2560596756131922
          ],
          [
           0.25581726575157115
          ],
          [
           0.25434194753421985
          ],
          [
           0.2541424603866744
          ],
          [
           0.2538446861286014
          ],
          [
           0.25276240878838907
          ],
          [
           0.25098514184336673
          ],
          [
           0.24901904093180785
          ],
          [
           0.24777601036879934
          ],
          [
           0.24764466655617742
          ],
          [
           0.24502282785114607
          ],
          [
           0.24468503727652696
          ],
          [
           0.24408014571949
          ],
          [
           0.2437326155226559
          ],
          [
           0.2427112514266234
          ],
          [
           0.24220441283995928
          ],
          [
           0.24119108499718914
          ],
          [
           0.23958205169460245
          ],
          [
           0.23876863876863877
          ],
          [
           0.23464919500872486
          ],
          [
           0.23039009808039132
          ],
          [
           0.23033651141657893
          ],
          [
           0.23031477455336044
          ],
          [
           0.23010763504677598
          ],
          [
           0.23010664479081214
          ],
          [
           0.22960865252311927
          ],
          [
           0.22804372408594045
          ],
          [
           0.2265478225248259
          ],
          [
           0.22530634819129264
          ],
          [
           0.2245404347522192
          ],
          [
           0.22425502019788068
          ],
          [
           0.2240391625872305
          ],
          [
           0.22302802934359245
          ],
          [
           0.2223207151418298
          ],
          [
           0.21864357939959134
          ],
          [
           0.21545809945390104
          ],
          [
           0.2143808454919566
          ],
          [
           0.21416711900124524
          ],
          [
           0.21153171871956367
          ],
          [
           0.2110684214828742
          ],
          [
           0.20864615130764788
          ],
          [
           0.20687130854338243
          ],
          [
           0.2064601313925029
          ],
          [
           0.20509751109781035
          ],
          [
           0.2021576543781852
          ],
          [
           0.2018965542948307
          ],
          [
           0.2000722034073132
          ],
          [
           0.19931638538773766
          ],
          [
           0.19925582808109954
          ],
          [
           0.1987813046248346
          ],
          [
           0.198257854574908
          ],
          [
           0.1972687715494527
          ],
          [
           0.19716494845360824
          ],
          [
           0.19501325869180908
          ],
          [
           0.1935851240595187
          ],
          [
           0.19183354153259896
          ],
          [
           0.1874087494942743
          ],
          [
           0.1857961890843685
          ],
          [
           0.17770040939151124
          ],
          [
           0.16961159850076196
          ],
          [
           0.16084243630706435
          ]
         ],
         "hovertemplate": "<b>%{hovertext}</b><br><br>Annual_Rent=%{marker.size}<br>lat=%{lat}<br>lng=%{lon}<br>rent_divby_medianinc=%{customdata[0]}<br>Median income (dollars)=%{marker.color}<extra></extra>",
         "hovertext": [
          "Los Angeles_CA",
          "New York_NY",
          "Miami_FL",
          "San Francisco_CA",
          "San Diego_CA",
          "Riverside_CA",
          "Boston_MA",
          "Stockton_CA",
          "Lakeland_FL",
          "Tampa_FL",
          "North Port_FL",
          "Port St. Lucie_FL",
          "Orlando_FL",
          "New Orleans_LA",
          "Fresno_CA",
          "San Jose_CA",
          "Chicago_IL",
          "Memphis_TN",
          "Sacramento_CA",
          "Bakersfield_CA",
          "Greensboro_NC",
          "Jackson_MS",
          "El Paso_TX",
          "Las Vegas_NV",
          "Nashville_TN",
          "Boulder_CO",
          "Providence_RI",
          "Springfield_MA",
          "Charlotte_NC",
          "Knoxville_TN",
          "Charleston_SC",
          "Durham_NC",
          "Fort Collins_CO",
          "Houston_TX",
          "Dallas_TX",
          "Chattanooga_TN",
          "Tucson_AZ",
          "Atlanta_GA",
          "Philadelphia_PA",
          "Greeley_CO",
          "San Antonio_TX",
          "Greenville_SC",
          "Colorado Springs_CO",
          "Phoenix_AZ",
          "Portland_OR",
          "Denver_CO",
          "Seattle_WA",
          "Jacksonville_FL",
          "Columbia_SC",
          "Gainesville_GA",
          "New Haven_CT",
          "Augusta_GA",
          "Washington_DC",
          "Baltimore_MD",
          "Baton Rouge_LA",
          "Austin_TX",
          "Virginia Beach_VA",
          "Detroit_MI",
          "Spokane_WA",
          "Albuquerque_NM",
          "Indianapolis_IN",
          "Birmingham_AL",
          "Allentown_PA",
          "Tulsa_OK",
          "Cleveland_OH",
          "Richmond_VA",
          "Columbus_OH",
          "Minneapolis_MN",
          "Raleigh_NC",
          "Worcester_MA",
          "Grand Rapids_MI",
          "Cincinnati_OH",
          "Pittsburgh_PA",
          "Hartford_CT",
          "Albany_NY",
          "Oklahoma City_OK",
          "Buffalo_NY",
          "Rochester_NY",
          "Salt Lake City_UT",
          "Madison_WI",
          "Harrisburg_PA",
          "Dayton_OH",
          "Kansas City_MO",
          "Milwaukee_WI",
          "Syracuse_NY",
          "Omaha_NE",
          "St. Louis_MO",
          "Provo_UT",
          "Scranton_PA",
          "Toledo_OH",
          "Ogden_UT",
          "Little Rock_AR",
          "Des Moines_IA",
          "Akron_OH",
          "Youngstown_OH",
          "Wichita_KS"
         ],
         "lat": [
          34.1139,
          40.6943,
          25.7839,
          37.7562,
          32.8312,
          33.9381,
          42.3188,
          37.9765,
          28.0556,
          27.9942,
          27.0577,
          27.2796,
          28.4772,
          30.0687,
          36.7831,
          37.3019,
          41.8373,
          35.1046,
          38.5667,
          35.3529,
          36.0956,
          32.3163,
          31.8479,
          36.2333,
          36.1715,
          40.0249,
          41.823,
          42.1155,
          35.208,
          35.9692,
          32.8153,
          35.9794,
          40.5478,
          29.7863,
          32.7936,
          35.0657,
          32.1545,
          33.7627,
          40.0077,
          40.4151,
          29.4658,
          34.8353,
          38.8674,
          33.5722,
          45.5372,
          39.7621,
          47.6211,
          30.3322,
          34.0376,
          34.2903,
          41.3112,
          33.3645,
          38.9047,
          39.3051,
          30.4418,
          30.3004,
          36.7335,
          42.3834,
          47.6671,
          35.1053,
          39.7771,
          33.5277,
          40.5961,
          36.1284,
          41.4767,
          37.5295,
          39.9862,
          44.9635,
          35.8325,
          42.2705,
          42.962,
          39.1413,
          40.4396,
          41.7661,
          42.6664,
          35.4676,
          42.9016,
          43.168,
          40.7777,
          43.0826,
          40.2752,
          39.7797,
          39.1239,
          43.0642,
          43.0409,
          41.2627,
          38.6358,
          40.2457,
          41.4044,
          41.6639,
          41.2278,
          34.7256,
          41.5725,
          41.0798,
          41.0993,
          37.6896
         ],
         "legendgroup": "",
         "lon": [
          -118.4068,
          -73.9249,
          -80.2102,
          -122.443,
          -117.1225,
          -117.3948,
          -71.0846,
          -121.3109,
          -81.9545,
          -82.4451,
          -82.1975,
          -80.3883,
          -81.3369,
          -89.9288,
          -119.7941,
          -121.8486,
          -87.6862,
          -89.9773,
          -121.4683,
          -119.0359,
          -79.8269,
          -90.2124,
          -106.4309,
          -115.2654,
          -86.7843,
          -105.2523,
          -71.4187,
          -72.5395,
          -80.8304,
          -83.9496,
          -79.9628,
          -78.9031,
          -105.0656,
          -95.3889,
          -96.7662,
          -85.2488,
          -110.8782,
          -84.4224,
          -75.1339,
          -104.7706,
          -98.5253,
          -82.3647,
          -104.7606,
          -112.0891,
          -122.65,
          -104.8759,
          -122.3244,
          -81.6749,
          -80.9037,
          -83.8301,
          -72.9246,
          -82.0708,
          -77.0163,
          -76.6144,
          -91.131,
          -97.7522,
          -76.0435,
          -83.1024,
          -117.433,
          -106.6464,
          -86.1458,
          -86.7987,
          -75.4756,
          -95.9042,
          -81.6804,
          -77.4756,
          -82.985,
          -93.2678,
          -78.6435,
          -71.8079,
          -85.6562,
          -84.5061,
          -79.9762,
          -72.6834,
          -73.7987,
          -97.5136,
          -78.8487,
          -77.6162,
          -111.9306,
          -89.3931,
          -76.8843,
          -84.1998,
          -94.5541,
          -87.9673,
          -76.1438,
          -96.0522,
          -90.2451,
          -111.6457,
          -75.6649,
          -83.5822,
          -111.9682,
          -92.3576,
          -93.6105,
          -81.5219,
          -80.6463,
          -97.3442
         ],
         "marker": {
          "color": [
           77774,
           83160,
           60141,
           114696,
           83985,
           70954,
           94430,
           68997,
           51833,
           57906,
           65526,
           62608,
           61876,
           55710,
           57518,
           130865,
           75379,
           54859,
           76706,
           53067,
           51770,
           52426,
           48823,
           62107,
           70262,
           88535,
           70967,
           62346,
           66399,
           56623,
           70505,
           65303,
           75186,
           69193,
           72265,
           55366,
           56169,
           71742,
           74533,
           78615,
           62355,
           58621,
           72633,
           67896,
           78439,
           85641,
           94027,
           65880,
           55725,
           67467,
           69751,
           55143,
           105659,
           83160,
           60746,
           80954,
           69329,
           63474,
           59646,
           58512,
           62502,
           58366,
           70793,
           57859,
           57228,
           68324,
           67207,
           83698,
           80096,
           76348,
           65739,
           66825,
           62638,
           77005,
           73398,
           60605,
           60105,
           62104,
           80196,
           75545,
           67069,
           58169,
           70215,
           65845,
           61213,
           70373,
           66417,
           79152,
           54304,
           53563,
           79251,
           56849,
           71164,
           57158,
           48558,
           59779
          ],
          "coloraxis": "coloraxis",
          "size": [
           30186,
           32189,
           22838,
           38071,
           27524,
           23117,
           30409,
           22099,
           16132,
           17968,
           20192,
           19227,
           18833,
           16734,
           17051,
           37157,
           21155,
           15264,
           21241,
           14607,
           14241,
           14313,
           13204,
           16695,
           18784,
           23649,
           18783,
           16456,
           17494,
           14903,
           18297,
           16942,
           19430,
           17720,
           18506,
           14177,
           14369,
           18247,
           18942,
           19956,
           15761,
           14713,
           18087,
           16823,
           19425,
           20984,
           23007,
           16080,
           13582,
           16375,
           16894,
           13300,
           25314,
           19856,
           14254,
           18651,
           15969,
           14619,
           13725,
           13464,
           14351,
           13310,
           16038,
           13036,
           12850,
           15322,
           15057,
           18667,
           17807,
           16693,
           14164,
           14326,
           13415,
           16289,
           15492,
           12645,
           12434,
           12822,
           16448,
           15272,
           13541,
           11638,
           13995,
           13120,
           12168,
           13952,
           13102,
           15606,
           10590,
           10369,
           15203,
           10654,
           13222,
           10157,
           8236,
           9615
          ],
          "sizemode": "area",
          "sizeref": 95.1775
         },
         "mode": "markers",
         "name": "",
         "showlegend": false,
         "subplot": "mapbox",
         "type": "scattermapbox"
        }
       ],
       "layout": {
        "coloraxis": {
         "colorbar": {
          "title": {
           "text": "Median income (dollars)"
          }
         },
         "colorscale": [
          [
           0,
           "rgb(12,51,131)"
          ],
          [
           0.25,
           "rgb(10,136,186)"
          ],
          [
           0.5,
           "rgb(242,211,56)"
          ],
          [
           0.75,
           "rgb(242,143,56)"
          ],
          [
           1,
           "rgb(217,30,30)"
          ]
         ]
        },
        "legend": {
         "itemsizing": "constant",
         "tracegroupgap": 0
        },
        "mapbox": {
         "accesstoken": "pk.eyJ1IjoibmlrYWNoYW4iLCJhIjoiY2tnZG9yZnl6MDl3OTJ4cGRvMXlibzVzZiJ9.lhMRMm3gcW5n3seXOlHhiw",
         "center": {
          "lat": 37.44391666666669,
          "lon": -91.46082083333333
         },
         "domain": {
          "x": [
           0,
           1
          ],
          "y": [
           0,
           1
          ]
         },
         "zoom": 3
        },
        "margin": {
         "t": 60
        },
        "template": {
         "data": {
          "bar": [
           {
            "error_x": {
             "color": "#2a3f5f"
            },
            "error_y": {
             "color": "#2a3f5f"
            },
            "marker": {
             "line": {
              "color": "#E5ECF6",
              "width": 0.5
             }
            },
            "type": "bar"
           }
          ],
          "barpolar": [
           {
            "marker": {
             "line": {
              "color": "#E5ECF6",
              "width": 0.5
             }
            },
            "type": "barpolar"
           }
          ],
          "carpet": [
           {
            "aaxis": {
             "endlinecolor": "#2a3f5f",
             "gridcolor": "white",
             "linecolor": "white",
             "minorgridcolor": "white",
             "startlinecolor": "#2a3f5f"
            },
            "baxis": {
             "endlinecolor": "#2a3f5f",
             "gridcolor": "white",
             "linecolor": "white",
             "minorgridcolor": "white",
             "startlinecolor": "#2a3f5f"
            },
            "type": "carpet"
           }
          ],
          "choropleth": [
           {
            "colorbar": {
             "outlinewidth": 0,
             "ticks": ""
            },
            "type": "choropleth"
           }
          ],
          "contour": [
           {
            "colorbar": {
             "outlinewidth": 0,
             "ticks": ""
            },
            "colorscale": [
             [
              0,
              "#0d0887"
             ],
             [
              0.1111111111111111,
              "#46039f"
             ],
             [
              0.2222222222222222,
              "#7201a8"
             ],
             [
              0.3333333333333333,
              "#9c179e"
             ],
             [
              0.4444444444444444,
              "#bd3786"
             ],
             [
              0.5555555555555556,
              "#d8576b"
             ],
             [
              0.6666666666666666,
              "#ed7953"
             ],
             [
              0.7777777777777778,
              "#fb9f3a"
             ],
             [
              0.8888888888888888,
              "#fdca26"
             ],
             [
              1,
              "#f0f921"
             ]
            ],
            "type": "contour"
           }
          ],
          "contourcarpet": [
           {
            "colorbar": {
             "outlinewidth": 0,
             "ticks": ""
            },
            "type": "contourcarpet"
           }
          ],
          "heatmap": [
           {
            "colorbar": {
             "outlinewidth": 0,
             "ticks": ""
            },
            "colorscale": [
             [
              0,
              "#0d0887"
             ],
             [
              0.1111111111111111,
              "#46039f"
             ],
             [
              0.2222222222222222,
              "#7201a8"
             ],
             [
              0.3333333333333333,
              "#9c179e"
             ],
             [
              0.4444444444444444,
              "#bd3786"
             ],
             [
              0.5555555555555556,
              "#d8576b"
             ],
             [
              0.6666666666666666,
              "#ed7953"
             ],
             [
              0.7777777777777778,
              "#fb9f3a"
             ],
             [
              0.8888888888888888,
              "#fdca26"
             ],
             [
              1,
              "#f0f921"
             ]
            ],
            "type": "heatmap"
           }
          ],
          "heatmapgl": [
           {
            "colorbar": {
             "outlinewidth": 0,
             "ticks": ""
            },
            "colorscale": [
             [
              0,
              "#0d0887"
             ],
             [
              0.1111111111111111,
              "#46039f"
             ],
             [
              0.2222222222222222,
              "#7201a8"
             ],
             [
              0.3333333333333333,
              "#9c179e"
             ],
             [
              0.4444444444444444,
              "#bd3786"
             ],
             [
              0.5555555555555556,
              "#d8576b"
             ],
             [
              0.6666666666666666,
              "#ed7953"
             ],
             [
              0.7777777777777778,
              "#fb9f3a"
             ],
             [
              0.8888888888888888,
              "#fdca26"
             ],
             [
              1,
              "#f0f921"
             ]
            ],
            "type": "heatmapgl"
           }
          ],
          "histogram": [
           {
            "marker": {
             "colorbar": {
              "outlinewidth": 0,
              "ticks": ""
             }
            },
            "type": "histogram"
           }
          ],
          "histogram2d": [
           {
            "colorbar": {
             "outlinewidth": 0,
             "ticks": ""
            },
            "colorscale": [
             [
              0,
              "#0d0887"
             ],
             [
              0.1111111111111111,
              "#46039f"
             ],
             [
              0.2222222222222222,
              "#7201a8"
             ],
             [
              0.3333333333333333,
              "#9c179e"
             ],
             [
              0.4444444444444444,
              "#bd3786"
             ],
             [
              0.5555555555555556,
              "#d8576b"
             ],
             [
              0.6666666666666666,
              "#ed7953"
             ],
             [
              0.7777777777777778,
              "#fb9f3a"
             ],
             [
              0.8888888888888888,
              "#fdca26"
             ],
             [
              1,
              "#f0f921"
             ]
            ],
            "type": "histogram2d"
           }
          ],
          "histogram2dcontour": [
           {
            "colorbar": {
             "outlinewidth": 0,
             "ticks": ""
            },
            "colorscale": [
             [
              0,
              "#0d0887"
             ],
             [
              0.1111111111111111,
              "#46039f"
             ],
             [
              0.2222222222222222,
              "#7201a8"
             ],
             [
              0.3333333333333333,
              "#9c179e"
             ],
             [
              0.4444444444444444,
              "#bd3786"
             ],
             [
              0.5555555555555556,
              "#d8576b"
             ],
             [
              0.6666666666666666,
              "#ed7953"
             ],
             [
              0.7777777777777778,
              "#fb9f3a"
             ],
             [
              0.8888888888888888,
              "#fdca26"
             ],
             [
              1,
              "#f0f921"
             ]
            ],
            "type": "histogram2dcontour"
           }
          ],
          "mesh3d": [
           {
            "colorbar": {
             "outlinewidth": 0,
             "ticks": ""
            },
            "type": "mesh3d"
           }
          ],
          "parcoords": [
           {
            "line": {
             "colorbar": {
              "outlinewidth": 0,
              "ticks": ""
             }
            },
            "type": "parcoords"
           }
          ],
          "pie": [
           {
            "automargin": true,
            "type": "pie"
           }
          ],
          "scatter": [
           {
            "marker": {
             "colorbar": {
              "outlinewidth": 0,
              "ticks": ""
             }
            },
            "type": "scatter"
           }
          ],
          "scatter3d": [
           {
            "line": {
             "colorbar": {
              "outlinewidth": 0,
              "ticks": ""
             }
            },
            "marker": {
             "colorbar": {
              "outlinewidth": 0,
              "ticks": ""
             }
            },
            "type": "scatter3d"
           }
          ],
          "scattercarpet": [
           {
            "marker": {
             "colorbar": {
              "outlinewidth": 0,
              "ticks": ""
             }
            },
            "type": "scattercarpet"
           }
          ],
          "scattergeo": [
           {
            "marker": {
             "colorbar": {
              "outlinewidth": 0,
              "ticks": ""
             }
            },
            "type": "scattergeo"
           }
          ],
          "scattergl": [
           {
            "marker": {
             "colorbar": {
              "outlinewidth": 0,
              "ticks": ""
             }
            },
            "type": "scattergl"
           }
          ],
          "scattermapbox": [
           {
            "marker": {
             "colorbar": {
              "outlinewidth": 0,
              "ticks": ""
             }
            },
            "type": "scattermapbox"
           }
          ],
          "scatterpolar": [
           {
            "marker": {
             "colorbar": {
              "outlinewidth": 0,
              "ticks": ""
             }
            },
            "type": "scatterpolar"
           }
          ],
          "scatterpolargl": [
           {
            "marker": {
             "colorbar": {
              "outlinewidth": 0,
              "ticks": ""
             }
            },
            "type": "scatterpolargl"
           }
          ],
          "scatterternary": [
           {
            "marker": {
             "colorbar": {
              "outlinewidth": 0,
              "ticks": ""
             }
            },
            "type": "scatterternary"
           }
          ],
          "surface": [
           {
            "colorbar": {
             "outlinewidth": 0,
             "ticks": ""
            },
            "colorscale": [
             [
              0,
              "#0d0887"
             ],
             [
              0.1111111111111111,
              "#46039f"
             ],
             [
              0.2222222222222222,
              "#7201a8"
             ],
             [
              0.3333333333333333,
              "#9c179e"
             ],
             [
              0.4444444444444444,
              "#bd3786"
             ],
             [
              0.5555555555555556,
              "#d8576b"
             ],
             [
              0.6666666666666666,
              "#ed7953"
             ],
             [
              0.7777777777777778,
              "#fb9f3a"
             ],
             [
              0.8888888888888888,
              "#fdca26"
             ],
             [
              1,
              "#f0f921"
             ]
            ],
            "type": "surface"
           }
          ],
          "table": [
           {
            "cells": {
             "fill": {
              "color": "#EBF0F8"
             },
             "line": {
              "color": "white"
             }
            },
            "header": {
             "fill": {
              "color": "#C8D4E3"
             },
             "line": {
              "color": "white"
             }
            },
            "type": "table"
           }
          ]
         },
         "layout": {
          "annotationdefaults": {
           "arrowcolor": "#2a3f5f",
           "arrowhead": 0,
           "arrowwidth": 1
          },
          "coloraxis": {
           "colorbar": {
            "outlinewidth": 0,
            "ticks": ""
           }
          },
          "colorscale": {
           "diverging": [
            [
             0,
             "#8e0152"
            ],
            [
             0.1,
             "#c51b7d"
            ],
            [
             0.2,
             "#de77ae"
            ],
            [
             0.3,
             "#f1b6da"
            ],
            [
             0.4,
             "#fde0ef"
            ],
            [
             0.5,
             "#f7f7f7"
            ],
            [
             0.6,
             "#e6f5d0"
            ],
            [
             0.7,
             "#b8e186"
            ],
            [
             0.8,
             "#7fbc41"
            ],
            [
             0.9,
             "#4d9221"
            ],
            [
             1,
             "#276419"
            ]
           ],
           "sequential": [
            [
             0,
             "#0d0887"
            ],
            [
             0.1111111111111111,
             "#46039f"
            ],
            [
             0.2222222222222222,
             "#7201a8"
            ],
            [
             0.3333333333333333,
             "#9c179e"
            ],
            [
             0.4444444444444444,
             "#bd3786"
            ],
            [
             0.5555555555555556,
             "#d8576b"
            ],
            [
             0.6666666666666666,
             "#ed7953"
            ],
            [
             0.7777777777777778,
             "#fb9f3a"
            ],
            [
             0.8888888888888888,
             "#fdca26"
            ],
            [
             1,
             "#f0f921"
            ]
           ],
           "sequentialminus": [
            [
             0,
             "#0d0887"
            ],
            [
             0.1111111111111111,
             "#46039f"
            ],
            [
             0.2222222222222222,
             "#7201a8"
            ],
            [
             0.3333333333333333,
             "#9c179e"
            ],
            [
             0.4444444444444444,
             "#bd3786"
            ],
            [
             0.5555555555555556,
             "#d8576b"
            ],
            [
             0.6666666666666666,
             "#ed7953"
            ],
            [
             0.7777777777777778,
             "#fb9f3a"
            ],
            [
             0.8888888888888888,
             "#fdca26"
            ],
            [
             1,
             "#f0f921"
            ]
           ]
          },
          "colorway": [
           "#636efa",
           "#EF553B",
           "#00cc96",
           "#ab63fa",
           "#FFA15A",
           "#19d3f3",
           "#FF6692",
           "#B6E880",
           "#FF97FF",
           "#FECB52"
          ],
          "font": {
           "color": "#2a3f5f"
          },
          "geo": {
           "bgcolor": "white",
           "lakecolor": "white",
           "landcolor": "#E5ECF6",
           "showlakes": true,
           "showland": true,
           "subunitcolor": "white"
          },
          "hoverlabel": {
           "align": "left"
          },
          "hovermode": "closest",
          "mapbox": {
           "style": "light"
          },
          "paper_bgcolor": "white",
          "plot_bgcolor": "#E5ECF6",
          "polar": {
           "angularaxis": {
            "gridcolor": "white",
            "linecolor": "white",
            "ticks": ""
           },
           "bgcolor": "#E5ECF6",
           "radialaxis": {
            "gridcolor": "white",
            "linecolor": "white",
            "ticks": ""
           }
          },
          "scene": {
           "xaxis": {
            "backgroundcolor": "#E5ECF6",
            "gridcolor": "white",
            "gridwidth": 2,
            "linecolor": "white",
            "showbackground": true,
            "ticks": "",
            "zerolinecolor": "white"
           },
           "yaxis": {
            "backgroundcolor": "#E5ECF6",
            "gridcolor": "white",
            "gridwidth": 2,
            "linecolor": "white",
            "showbackground": true,
            "ticks": "",
            "zerolinecolor": "white"
           },
           "zaxis": {
            "backgroundcolor": "#E5ECF6",
            "gridcolor": "white",
            "gridwidth": 2,
            "linecolor": "white",
            "showbackground": true,
            "ticks": "",
            "zerolinecolor": "white"
           }
          },
          "shapedefaults": {
           "line": {
            "color": "#2a3f5f"
           }
          },
          "ternary": {
           "aaxis": {
            "gridcolor": "white",
            "linecolor": "white",
            "ticks": ""
           },
           "baxis": {
            "gridcolor": "white",
            "linecolor": "white",
            "ticks": ""
           },
           "bgcolor": "#E5ECF6",
           "caxis": {
            "gridcolor": "white",
            "linecolor": "white",
            "ticks": ""
           }
          },
          "title": {
           "x": 0.05
          },
          "xaxis": {
           "automargin": true,
           "gridcolor": "white",
           "linecolor": "white",
           "ticks": "",
           "title": {
            "standoff": 15
           },
           "zerolinecolor": "white",
           "zerolinewidth": 2
          },
          "yaxis": {
           "automargin": true,
           "gridcolor": "white",
           "linecolor": "white",
           "ticks": "",
           "title": {
            "standoff": 15
           },
           "zerolinecolor": "white",
           "zerolinewidth": 2
          }
         }
        },
        "title": {
         "text": "Affordability of US cities based on Median Income and Rent"
        }
       }
      },
      "text/html": [
       "<div>                            <div id=\"81f9d284-b0a7-46b9-ab68-9133b6e5e823\" class=\"plotly-graph-div\" style=\"height:525px; width:100%;\"></div>            <script type=\"text/javascript\">                require([\"plotly\"], function(Plotly) {                    window.PLOTLYENV=window.PLOTLYENV || {};                                    if (document.getElementById(\"81f9d284-b0a7-46b9-ab68-9133b6e5e823\")) {                    Plotly.newPlot(                        \"81f9d284-b0a7-46b9-ab68-9133b6e5e823\",                        [{\"customdata\": [[0.388124566050351], [0.38707311207311207], [0.37974094211935283], [0.33192962265466974], [0.32772518902184916], [0.32580263269160303], [0.3220268982314942], [0.32028928794005534], [0.31123029730094726], [0.3102959969605913], [0.30815248908830084], [0.3071013289036545], [0.30436679811235373], [0.3003769520732364], [0.2964463298445704], [0.28393382493409236], [0.28064845646665515], [0.2782405803970178], [0.2769144525851954], [0.275255808694669], [0.2750820938767626], [0.27301339030252164], [0.2704463060442824], [0.2688102790345694], [0.2673422333551564], [0.26711470040097135], [0.2646723124832669], [0.263946363840503], [0.26346782331059204], [0.26319693410804795], [0.2595135096801645], [0.2594367793210113], [0.2584257707551938], [0.2560952697527207], [0.2560852418183076], [0.2560596756131922], [0.25581726575157115], [0.25434194753421985], [0.2541424603866744], [0.2538446861286014], [0.25276240878838907], [0.25098514184336673], [0.24901904093180785], [0.24777601036879934], [0.24764466655617742], [0.24502282785114607], [0.24468503727652696], [0.24408014571949], [0.2437326155226559], [0.2427112514266234], [0.24220441283995928], [0.24119108499718914], [0.23958205169460245], [0.23876863876863877], [0.23464919500872486], [0.23039009808039132], [0.23033651141657893], [0.23031477455336044], [0.23010763504677598], [0.23010664479081214], [0.22960865252311927], [0.22804372408594045], [0.2265478225248259], [0.22530634819129264], [0.2245404347522192], [0.22425502019788068], [0.2240391625872305], [0.22302802934359245], [0.2223207151418298], [0.21864357939959134], [0.21545809945390104], [0.2143808454919566], [0.21416711900124524], [0.21153171871956367], [0.2110684214828742], [0.20864615130764788], [0.20687130854338243], [0.2064601313925029], [0.20509751109781035], [0.2021576543781852], [0.2018965542948307], [0.2000722034073132], [0.19931638538773766], [0.19925582808109954], [0.1987813046248346], [0.198257854574908], [0.1972687715494527], [0.19716494845360824], [0.19501325869180908], [0.1935851240595187], [0.19183354153259896], [0.1874087494942743], [0.1857961890843685], [0.17770040939151124], [0.16961159850076196], [0.16084243630706435]], \"hovertemplate\": \"<b>%{hovertext}</b><br><br>Annual_Rent=%{marker.size}<br>lat=%{lat}<br>lng=%{lon}<br>rent_divby_medianinc=%{customdata[0]}<br>Median income (dollars)=%{marker.color}<extra></extra>\", \"hovertext\": [\"Los Angeles_CA\", \"New York_NY\", \"Miami_FL\", \"San Francisco_CA\", \"San Diego_CA\", \"Riverside_CA\", \"Boston_MA\", \"Stockton_CA\", \"Lakeland_FL\", \"Tampa_FL\", \"North Port_FL\", \"Port St. Lucie_FL\", \"Orlando_FL\", \"New Orleans_LA\", \"Fresno_CA\", \"San Jose_CA\", \"Chicago_IL\", \"Memphis_TN\", \"Sacramento_CA\", \"Bakersfield_CA\", \"Greensboro_NC\", \"Jackson_MS\", \"El Paso_TX\", \"Las Vegas_NV\", \"Nashville_TN\", \"Boulder_CO\", \"Providence_RI\", \"Springfield_MA\", \"Charlotte_NC\", \"Knoxville_TN\", \"Charleston_SC\", \"Durham_NC\", \"Fort Collins_CO\", \"Houston_TX\", \"Dallas_TX\", \"Chattanooga_TN\", \"Tucson_AZ\", \"Atlanta_GA\", \"Philadelphia_PA\", \"Greeley_CO\", \"San Antonio_TX\", \"Greenville_SC\", \"Colorado Springs_CO\", \"Phoenix_AZ\", \"Portland_OR\", \"Denver_CO\", \"Seattle_WA\", \"Jacksonville_FL\", \"Columbia_SC\", \"Gainesville_GA\", \"New Haven_CT\", \"Augusta_GA\", \"Washington_DC\", \"Baltimore_MD\", \"Baton Rouge_LA\", \"Austin_TX\", \"Virginia Beach_VA\", \"Detroit_MI\", \"Spokane_WA\", \"Albuquerque_NM\", \"Indianapolis_IN\", \"Birmingham_AL\", \"Allentown_PA\", \"Tulsa_OK\", \"Cleveland_OH\", \"Richmond_VA\", \"Columbus_OH\", \"Minneapolis_MN\", \"Raleigh_NC\", \"Worcester_MA\", \"Grand Rapids_MI\", \"Cincinnati_OH\", \"Pittsburgh_PA\", \"Hartford_CT\", \"Albany_NY\", \"Oklahoma City_OK\", \"Buffalo_NY\", \"Rochester_NY\", \"Salt Lake City_UT\", \"Madison_WI\", \"Harrisburg_PA\", \"Dayton_OH\", \"Kansas City_MO\", \"Milwaukee_WI\", \"Syracuse_NY\", \"Omaha_NE\", \"St. Louis_MO\", \"Provo_UT\", \"Scranton_PA\", \"Toledo_OH\", \"Ogden_UT\", \"Little Rock_AR\", \"Des Moines_IA\", \"Akron_OH\", \"Youngstown_OH\", \"Wichita_KS\"], \"lat\": [34.1139, 40.6943, 25.7839, 37.7562, 32.8312, 33.9381, 42.3188, 37.9765, 28.0556, 27.9942, 27.0577, 27.2796, 28.4772, 30.0687, 36.7831, 37.3019, 41.8373, 35.1046, 38.5667, 35.3529, 36.0956, 32.3163, 31.8479, 36.2333, 36.1715, 40.0249, 41.823, 42.1155, 35.208, 35.9692, 32.8153, 35.9794, 40.5478, 29.7863, 32.7936, 35.0657, 32.1545, 33.7627, 40.0077, 40.4151, 29.4658, 34.8353, 38.8674, 33.5722, 45.5372, 39.7621, 47.6211, 30.3322, 34.0376, 34.2903, 41.3112, 33.3645, 38.9047, 39.3051, 30.4418, 30.3004, 36.7335, 42.3834, 47.6671, 35.1053, 39.7771, 33.5277, 40.5961, 36.1284, 41.4767, 37.5295, 39.9862, 44.9635, 35.8325, 42.2705, 42.962, 39.1413, 40.4396, 41.7661, 42.6664, 35.4676, 42.9016, 43.168, 40.7777, 43.0826, 40.2752, 39.7797, 39.1239, 43.0642, 43.0409, 41.2627, 38.6358, 40.2457, 41.4044, 41.6639, 41.2278, 34.7256, 41.5725, 41.0798, 41.0993, 37.6896], \"legendgroup\": \"\", \"lon\": [-118.4068, -73.9249, -80.2102, -122.443, -117.1225, -117.3948, -71.0846, -121.3109, -81.9545, -82.4451, -82.1975, -80.3883, -81.3369, -89.9288, -119.7941, -121.8486, -87.6862, -89.9773, -121.4683, -119.0359, -79.8269, -90.2124, -106.4309, -115.2654, -86.7843, -105.2523, -71.4187, -72.5395, -80.8304, -83.9496, -79.9628, -78.9031, -105.0656, -95.3889, -96.7662, -85.2488, -110.8782, -84.4224, -75.1339, -104.7706, -98.5253, -82.3647, -104.7606, -112.0891, -122.65, -104.8759, -122.3244, -81.6749, -80.9037, -83.8301, -72.9246, -82.0708, -77.0163, -76.6144, -91.131, -97.7522, -76.0435, -83.1024, -117.433, -106.6464, -86.1458, -86.7987, -75.4756, -95.9042, -81.6804, -77.4756, -82.985, -93.2678, -78.6435, -71.8079, -85.6562, -84.5061, -79.9762, -72.6834, -73.7987, -97.5136, -78.8487, -77.6162, -111.9306, -89.3931, -76.8843, -84.1998, -94.5541, -87.9673, -76.1438, -96.0522, -90.2451, -111.6457, -75.6649, -83.5822, -111.9682, -92.3576, -93.6105, -81.5219, -80.6463, -97.3442], \"marker\": {\"color\": [77774.0, 83160.0, 60141.0, 114696.0, 83985.0, 70954.0, 94430.0, 68997.0, 51833.0, 57906.0, 65526.0, 62608.0, 61876.0, 55710.0, 57518.0, 130865.0, 75379.0, 54859.0, 76706.0, 53067.0, 51770.0, 52426.0, 48823.0, 62107.0, 70262.0, 88535.0, 70967.0, 62346.0, 66399.0, 56623.0, 70505.0, 65303.0, 75186.0, 69193.0, 72265.0, 55366.0, 56169.0, 71742.0, 74533.0, 78615.0, 62355.0, 58621.0, 72633.0, 67896.0, 78439.0, 85641.0, 94027.0, 65880.0, 55725.0, 67467.0, 69751.0, 55143.0, 105659.0, 83160.0, 60746.0, 80954.0, 69329.0, 63474.0, 59646.0, 58512.0, 62502.0, 58366.0, 70793.0, 57859.0, 57228.0, 68324.0, 67207.0, 83698.0, 80096.0, 76348.0, 65739.0, 66825.0, 62638.0, 77005.0, 73398.0, 60605.0, 60105.0, 62104.0, 80196.0, 75545.0, 67069.0, 58169.0, 70215.0, 65845.0, 61213.0, 70373.0, 66417.0, 79152.0, 54304.0, 53563.0, 79251.0, 56849.0, 71164.0, 57158.0, 48558.0, 59779.0], \"coloraxis\": \"coloraxis\", \"size\": [30186, 32189, 22838, 38071, 27524, 23117, 30409, 22099, 16132, 17968, 20192, 19227, 18833, 16734, 17051, 37157, 21155, 15264, 21241, 14607, 14241, 14313, 13204, 16695, 18784, 23649, 18783, 16456, 17494, 14903, 18297, 16942, 19430, 17720, 18506, 14177, 14369, 18247, 18942, 19956, 15761, 14713, 18087, 16823, 19425, 20984, 23007, 16080, 13582, 16375, 16894, 13300, 25314, 19856, 14254, 18651, 15969, 14619, 13725, 13464, 14351, 13310, 16038, 13036, 12850, 15322, 15057, 18667, 17807, 16693, 14164, 14326, 13415, 16289, 15492, 12645, 12434, 12822, 16448, 15272, 13541, 11638, 13995, 13120, 12168, 13952, 13102, 15606, 10590, 10369, 15203, 10654, 13222, 10157, 8236, 9615], \"sizemode\": \"area\", \"sizeref\": 95.1775}, \"mode\": \"markers\", \"name\": \"\", \"showlegend\": false, \"subplot\": \"mapbox\", \"type\": \"scattermapbox\"}],                        {\"coloraxis\": {\"colorbar\": {\"title\": {\"text\": \"Median income (dollars)\"}}, \"colorscale\": [[0.0, \"rgb(12,51,131)\"], [0.25, \"rgb(10,136,186)\"], [0.5, \"rgb(242,211,56)\"], [0.75, \"rgb(242,143,56)\"], [1.0, \"rgb(217,30,30)\"]]}, \"legend\": {\"itemsizing\": \"constant\", \"tracegroupgap\": 0}, \"mapbox\": {\"accesstoken\": \"pk.eyJ1IjoibmlrYWNoYW4iLCJhIjoiY2tnZG9yZnl6MDl3OTJ4cGRvMXlibzVzZiJ9.lhMRMm3gcW5n3seXOlHhiw\", \"center\": {\"lat\": 37.44391666666669, \"lon\": -91.46082083333333}, \"domain\": {\"x\": [0.0, 1.0], \"y\": [0.0, 1.0]}, \"zoom\": 3}, \"margin\": {\"t\": 60}, \"template\": {\"data\": {\"bar\": [{\"error_x\": {\"color\": \"#2a3f5f\"}, \"error_y\": {\"color\": \"#2a3f5f\"}, \"marker\": {\"line\": {\"color\": \"#E5ECF6\", \"width\": 0.5}}, \"type\": \"bar\"}], \"barpolar\": [{\"marker\": {\"line\": {\"color\": \"#E5ECF6\", \"width\": 0.5}}, \"type\": \"barpolar\"}], \"carpet\": [{\"aaxis\": {\"endlinecolor\": \"#2a3f5f\", \"gridcolor\": \"white\", \"linecolor\": \"white\", \"minorgridcolor\": \"white\", \"startlinecolor\": \"#2a3f5f\"}, \"baxis\": {\"endlinecolor\": \"#2a3f5f\", \"gridcolor\": \"white\", \"linecolor\": \"white\", \"minorgridcolor\": \"white\", \"startlinecolor\": \"#2a3f5f\"}, \"type\": \"carpet\"}], \"choropleth\": [{\"colorbar\": {\"outlinewidth\": 0, \"ticks\": \"\"}, \"type\": \"choropleth\"}], \"contour\": [{\"colorbar\": {\"outlinewidth\": 0, \"ticks\": \"\"}, \"colorscale\": [[0.0, \"#0d0887\"], [0.1111111111111111, \"#46039f\"], [0.2222222222222222, \"#7201a8\"], [0.3333333333333333, \"#9c179e\"], [0.4444444444444444, \"#bd3786\"], [0.5555555555555556, \"#d8576b\"], [0.6666666666666666, \"#ed7953\"], [0.7777777777777778, \"#fb9f3a\"], [0.8888888888888888, \"#fdca26\"], [1.0, \"#f0f921\"]], \"type\": \"contour\"}], \"contourcarpet\": [{\"colorbar\": {\"outlinewidth\": 0, \"ticks\": \"\"}, \"type\": \"contourcarpet\"}], \"heatmap\": [{\"colorbar\": {\"outlinewidth\": 0, \"ticks\": \"\"}, \"colorscale\": [[0.0, \"#0d0887\"], [0.1111111111111111, \"#46039f\"], [0.2222222222222222, \"#7201a8\"], [0.3333333333333333, \"#9c179e\"], [0.4444444444444444, \"#bd3786\"], [0.5555555555555556, \"#d8576b\"], [0.6666666666666666, \"#ed7953\"], [0.7777777777777778, \"#fb9f3a\"], [0.8888888888888888, \"#fdca26\"], [1.0, \"#f0f921\"]], \"type\": \"heatmap\"}], \"heatmapgl\": [{\"colorbar\": {\"outlinewidth\": 0, \"ticks\": \"\"}, \"colorscale\": [[0.0, \"#0d0887\"], [0.1111111111111111, \"#46039f\"], [0.2222222222222222, \"#7201a8\"], [0.3333333333333333, \"#9c179e\"], [0.4444444444444444, \"#bd3786\"], [0.5555555555555556, \"#d8576b\"], [0.6666666666666666, \"#ed7953\"], [0.7777777777777778, \"#fb9f3a\"], [0.8888888888888888, \"#fdca26\"], [1.0, \"#f0f921\"]], \"type\": \"heatmapgl\"}], \"histogram\": [{\"marker\": {\"colorbar\": {\"outlinewidth\": 0, \"ticks\": \"\"}}, \"type\": \"histogram\"}], \"histogram2d\": [{\"colorbar\": {\"outlinewidth\": 0, \"ticks\": \"\"}, \"colorscale\": [[0.0, \"#0d0887\"], [0.1111111111111111, \"#46039f\"], [0.2222222222222222, \"#7201a8\"], [0.3333333333333333, \"#9c179e\"], [0.4444444444444444, \"#bd3786\"], [0.5555555555555556, \"#d8576b\"], [0.6666666666666666, \"#ed7953\"], [0.7777777777777778, \"#fb9f3a\"], [0.8888888888888888, \"#fdca26\"], [1.0, \"#f0f921\"]], \"type\": \"histogram2d\"}], \"histogram2dcontour\": [{\"colorbar\": {\"outlinewidth\": 0, \"ticks\": \"\"}, \"colorscale\": [[0.0, \"#0d0887\"], [0.1111111111111111, \"#46039f\"], [0.2222222222222222, \"#7201a8\"], [0.3333333333333333, \"#9c179e\"], [0.4444444444444444, \"#bd3786\"], [0.5555555555555556, \"#d8576b\"], [0.6666666666666666, \"#ed7953\"], [0.7777777777777778, \"#fb9f3a\"], [0.8888888888888888, \"#fdca26\"], [1.0, \"#f0f921\"]], \"type\": \"histogram2dcontour\"}], \"mesh3d\": [{\"colorbar\": {\"outlinewidth\": 0, \"ticks\": \"\"}, \"type\": \"mesh3d\"}], \"parcoords\": [{\"line\": {\"colorbar\": {\"outlinewidth\": 0, \"ticks\": \"\"}}, \"type\": \"parcoords\"}], \"pie\": [{\"automargin\": true, \"type\": \"pie\"}], \"scatter\": [{\"marker\": {\"colorbar\": {\"outlinewidth\": 0, \"ticks\": \"\"}}, \"type\": \"scatter\"}], \"scatter3d\": [{\"line\": {\"colorbar\": {\"outlinewidth\": 0, \"ticks\": \"\"}}, \"marker\": {\"colorbar\": {\"outlinewidth\": 0, \"ticks\": \"\"}}, \"type\": \"scatter3d\"}], \"scattercarpet\": [{\"marker\": {\"colorbar\": {\"outlinewidth\": 0, \"ticks\": \"\"}}, \"type\": \"scattercarpet\"}], \"scattergeo\": [{\"marker\": {\"colorbar\": {\"outlinewidth\": 0, \"ticks\": \"\"}}, \"type\": \"scattergeo\"}], \"scattergl\": [{\"marker\": {\"colorbar\": {\"outlinewidth\": 0, \"ticks\": \"\"}}, \"type\": \"scattergl\"}], \"scattermapbox\": [{\"marker\": {\"colorbar\": {\"outlinewidth\": 0, \"ticks\": \"\"}}, \"type\": \"scattermapbox\"}], \"scatterpolar\": [{\"marker\": {\"colorbar\": {\"outlinewidth\": 0, \"ticks\": \"\"}}, \"type\": \"scatterpolar\"}], \"scatterpolargl\": [{\"marker\": {\"colorbar\": {\"outlinewidth\": 0, \"ticks\": \"\"}}, \"type\": \"scatterpolargl\"}], \"scatterternary\": [{\"marker\": {\"colorbar\": {\"outlinewidth\": 0, \"ticks\": \"\"}}, \"type\": \"scatterternary\"}], \"surface\": [{\"colorbar\": {\"outlinewidth\": 0, \"ticks\": \"\"}, \"colorscale\": [[0.0, \"#0d0887\"], [0.1111111111111111, \"#46039f\"], [0.2222222222222222, \"#7201a8\"], [0.3333333333333333, \"#9c179e\"], [0.4444444444444444, \"#bd3786\"], [0.5555555555555556, \"#d8576b\"], [0.6666666666666666, \"#ed7953\"], [0.7777777777777778, \"#fb9f3a\"], [0.8888888888888888, \"#fdca26\"], [1.0, \"#f0f921\"]], \"type\": \"surface\"}], \"table\": [{\"cells\": {\"fill\": {\"color\": \"#EBF0F8\"}, \"line\": {\"color\": \"white\"}}, \"header\": {\"fill\": {\"color\": \"#C8D4E3\"}, \"line\": {\"color\": \"white\"}}, \"type\": \"table\"}]}, \"layout\": {\"annotationdefaults\": {\"arrowcolor\": \"#2a3f5f\", \"arrowhead\": 0, \"arrowwidth\": 1}, \"coloraxis\": {\"colorbar\": {\"outlinewidth\": 0, \"ticks\": \"\"}}, \"colorscale\": {\"diverging\": [[0, \"#8e0152\"], [0.1, \"#c51b7d\"], [0.2, \"#de77ae\"], [0.3, \"#f1b6da\"], [0.4, \"#fde0ef\"], [0.5, \"#f7f7f7\"], [0.6, \"#e6f5d0\"], [0.7, \"#b8e186\"], [0.8, \"#7fbc41\"], [0.9, \"#4d9221\"], [1, \"#276419\"]], \"sequential\": [[0.0, \"#0d0887\"], [0.1111111111111111, \"#46039f\"], [0.2222222222222222, \"#7201a8\"], [0.3333333333333333, \"#9c179e\"], [0.4444444444444444, \"#bd3786\"], [0.5555555555555556, \"#d8576b\"], [0.6666666666666666, \"#ed7953\"], [0.7777777777777778, \"#fb9f3a\"], [0.8888888888888888, \"#fdca26\"], [1.0, \"#f0f921\"]], \"sequentialminus\": [[0.0, \"#0d0887\"], [0.1111111111111111, \"#46039f\"], [0.2222222222222222, \"#7201a8\"], [0.3333333333333333, \"#9c179e\"], [0.4444444444444444, \"#bd3786\"], [0.5555555555555556, \"#d8576b\"], [0.6666666666666666, \"#ed7953\"], [0.7777777777777778, \"#fb9f3a\"], [0.8888888888888888, \"#fdca26\"], [1.0, \"#f0f921\"]]}, \"colorway\": [\"#636efa\", \"#EF553B\", \"#00cc96\", \"#ab63fa\", \"#FFA15A\", \"#19d3f3\", \"#FF6692\", \"#B6E880\", \"#FF97FF\", \"#FECB52\"], \"font\": {\"color\": \"#2a3f5f\"}, \"geo\": {\"bgcolor\": \"white\", \"lakecolor\": \"white\", \"landcolor\": \"#E5ECF6\", \"showlakes\": true, \"showland\": true, \"subunitcolor\": \"white\"}, \"hoverlabel\": {\"align\": \"left\"}, \"hovermode\": \"closest\", \"mapbox\": {\"style\": \"light\"}, \"paper_bgcolor\": \"white\", \"plot_bgcolor\": \"#E5ECF6\", \"polar\": {\"angularaxis\": {\"gridcolor\": \"white\", \"linecolor\": \"white\", \"ticks\": \"\"}, \"bgcolor\": \"#E5ECF6\", \"radialaxis\": {\"gridcolor\": \"white\", \"linecolor\": \"white\", \"ticks\": \"\"}}, \"scene\": {\"xaxis\": {\"backgroundcolor\": \"#E5ECF6\", \"gridcolor\": \"white\", \"gridwidth\": 2, \"linecolor\": \"white\", \"showbackground\": true, \"ticks\": \"\", \"zerolinecolor\": \"white\"}, \"yaxis\": {\"backgroundcolor\": \"#E5ECF6\", \"gridcolor\": \"white\", \"gridwidth\": 2, \"linecolor\": \"white\", \"showbackground\": true, \"ticks\": \"\", \"zerolinecolor\": \"white\"}, \"zaxis\": {\"backgroundcolor\": \"#E5ECF6\", \"gridcolor\": \"white\", \"gridwidth\": 2, \"linecolor\": \"white\", \"showbackground\": true, \"ticks\": \"\", \"zerolinecolor\": \"white\"}}, \"shapedefaults\": {\"line\": {\"color\": \"#2a3f5f\"}}, \"ternary\": {\"aaxis\": {\"gridcolor\": \"white\", \"linecolor\": \"white\", \"ticks\": \"\"}, \"baxis\": {\"gridcolor\": \"white\", \"linecolor\": \"white\", \"ticks\": \"\"}, \"bgcolor\": \"#E5ECF6\", \"caxis\": {\"gridcolor\": \"white\", \"linecolor\": \"white\", \"ticks\": \"\"}}, \"title\": {\"x\": 0.05}, \"xaxis\": {\"automargin\": true, \"gridcolor\": \"white\", \"linecolor\": \"white\", \"ticks\": \"\", \"title\": {\"standoff\": 15}, \"zerolinecolor\": \"white\", \"zerolinewidth\": 2}, \"yaxis\": {\"automargin\": true, \"gridcolor\": \"white\", \"linecolor\": \"white\", \"ticks\": \"\", \"title\": {\"standoff\": 15}, \"zerolinecolor\": \"white\", \"zerolinewidth\": 2}}}, \"title\": {\"text\": \"Affordability of US cities based on Median Income and Rent\"}},                        {\"responsive\": true}                    ).then(function(){\n",
       "                            \n",
       "var gd = document.getElementById('81f9d284-b0a7-46b9-ab68-9133b6e5e823');\n",
       "var x = new MutationObserver(function (mutations, observer) {{\n",
       "        var display = window.getComputedStyle(gd).display;\n",
       "        if (!display || display === 'none') {{\n",
       "            console.log([gd, 'removed!']);\n",
       "            Plotly.purge(gd);\n",
       "            observer.disconnect();\n",
       "        }}\n",
       "}});\n",
       "\n",
       "// Listen for the removal of the full notebook cells\n",
       "var notebookContainer = gd.closest('#notebook-container');\n",
       "if (notebookContainer) {{\n",
       "    x.observe(notebookContainer, {childList: true});\n",
       "}}\n",
       "\n",
       "// Listen for the clearing of the current output cell\n",
       "var outputEl = gd.closest('.output');\n",
       "if (outputEl) {{\n",
       "    x.observe(outputEl, {childList: true});\n",
       "}}\n",
       "\n",
       "                        })                };                });            </script>        </div>"
      ]
     },
     "metadata": {},
     "output_type": "display_data"
    }
   ],
   "source": [
    "# Read the Mapbox API key\n",
    "load_dotenv()\n",
    "mapbox_token = os.getenv(\"MAPBOX_NC_KEY\")\n",
    "\n",
    "px.set_mapbox_access_token(mapbox_token)\n",
    "\n",
    "affordability_df.reset_index()\n",
    "\n",
    "map = px.scatter_mapbox(\n",
    "    affordability_df,\n",
    "    lat=\"lat\",\n",
    "    lon=\"lng\",\n",
    "    size=\"Annual_Rent\",\n",
    "    color=\"Median income (dollars)\",\n",
    "    hover_name=\"Primary MSA\",\n",
    "    hover_data=[\"rent_divby_medianinc\"],\n",
    "    zoom=3,\n",
    "    color_continuous_scale=px.colors.diverging.Portland)\n",
    "\n",
    "\n",
    "map.update_layout(title='Affordability of US cities based on Median Income and Rent')\n",
    "map.show()"
   ]
  },
  {
   "cell_type": "code",
   "execution_count": null,
   "metadata": {
    "scrolled": false
   },
   "outputs": [],
   "source": []
  }
 ],
 "metadata": {
  "kernelspec": {
   "display_name": "pyvizenv",
   "language": "python",
   "name": "pyvizenv"
  },
  "language_info": {
   "codemirror_mode": {
    "name": "ipython",
    "version": 3
   },
   "file_extension": ".py",
   "mimetype": "text/x-python",
   "name": "python",
   "nbconvert_exporter": "python",
   "pygments_lexer": "ipython3",
   "version": "3.8.3"
  }
 },
 "nbformat": 4,
 "nbformat_minor": 4
}
