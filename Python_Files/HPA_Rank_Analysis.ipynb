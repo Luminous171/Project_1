{
 "cells": [
  {
   "cell_type": "code",
   "execution_count": null,
   "metadata": {},
   "outputs": [],
   "source": [
    "# Import statements\n",
    "import plotly.express as px\n",
    "import plotly.graph_objects as go\n",
    "import numpy as np\n",
    "import pandas as pd\n",
    "from pathlib import Path\n",
    "from MCForecastTools import MCSimulation\n",
    "import matplotlib.pyplot as plt\n",
    "from matplotlib.ticker import FuncFormatter\n",
    "import os\n",
    "from dotenv import load_dotenv"
   ]
  },
  {
   "cell_type": "code",
   "execution_count": null,
   "metadata": {},
   "outputs": [],
   "source": [
    "# read the clean df csv which is the master df\n",
    "file_name='combined_df.csv'\n",
    "csv_file=Path(f\"../Data/Clean/{file_name}\")\n",
    "combined_df= pd.read_csv(csv_file)\n",
    "\n",
    "# Pulling a subset of data from combined df\n",
    "# Min Population - leave equal to 0 if no conditions\n",
    "min_population=50000\n",
    "columns_needed=['MSA','Murder Rate','Murder','Violent Crime','% Rent Change Since Feb','5 Year Avg Return','Affordability Rent/Median Inc','Capitalization Rate Last','Population','Population 10 year CAGR']\n",
    "data_frame=combined_df[columns_needed].dropna(subset=columns_needed)\n",
    "data_frame=data_frame[data_frame['Population']>min_population]\n",
    "data_frame.set_index('MSA',inplace=True)\n",
    "data_frame.drop(columns=['Population'],inplace=True)\n",
    "\n",
    "# Creating Housing Price Ranks\n",
    "data_frame = data_frame.rank()\n",
    "# Set custom weights if needed\n",
    "weights = [-0.05, -0.05, -0.05, -0.1, 0.25, -0.2, 0.2, 0.1]\n",
    "data_frame = data_frame * weights\n",
    "data_frame['House Price Appreciation Rank'] = data_frame.sum(axis='columns')\n",
    "\n",
    "# Combining with Lat/Lon Data\n",
    "coordinates_df = combined_df[['MSA','lat', 'lon']]\n",
    "coordinates_df.set_index('MSA',inplace=True)\n",
    "data_frame = data_frame.join(coordinates_df)\n",
    "data_frame.sort_values(by='House Price Appreciation Rank',axis='index',ascending=False,inplace=True)\n",
    "graph_data = data_frame.loc[:,['House Price Appreciation Rank', 'lat','lon']]\n",
    "graph_data['size'] = 8\n",
    "graph_data.head()\n"
   ]
  },
  {
   "cell_type": "code",
   "execution_count": null,
   "metadata": {},
   "outputs": [],
   "source": [
    "# Read the Mapbox API key\n",
    "load_dotenv()\n",
    "mapbox_token = os.getenv(\"MAPBOX_API_KEY\")\n",
    "px.set_mapbox_access_token(mapbox_token)"
   ]
  },
  {
   "cell_type": "code",
   "execution_count": null,
   "metadata": {},
   "outputs": [],
   "source": [
    "# Create Mapbox of House Price Appreciation Rank\n",
    "graph_data.reset_index(inplace=True)\n",
    "\n",
    "map = px.scatter_mapbox(\n",
    "    graph_data,\n",
    "    lat=\"lat\",\n",
    "    lon=\"lon\",\n",
    "    size=\"size\",\n",
    "    color=\"House Price Appreciation Rank\",\n",
    "    hover_name=\"MSA\",\n",
    "    zoom=3,\n",
    "    color_continuous_scale=px.colors.diverging.RdYlGn)\n",
    "\n",
    "map.update_layout(title='House Price Appreciation Rank')\n",
    "map.show()"
   ]
  }
 ],
 "metadata": {
  "kernelspec": {
   "display_name": "Python 3",
   "language": "python",
   "name": "python3"
  },
  "language_info": {
   "codemirror_mode": {
    "name": "ipython",
    "version": 3
   },
   "file_extension": ".py",
   "mimetype": "text/x-python",
   "name": "python",
   "nbconvert_exporter": "python",
   "pygments_lexer": "ipython3",
   "version": "3.8.3"
  }
 },
 "nbformat": 4,
 "nbformat_minor": 4
}
