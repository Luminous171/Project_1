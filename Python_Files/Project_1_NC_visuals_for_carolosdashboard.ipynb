{
 "cells": [
  {
   "cell_type": "markdown",
   "metadata": {},
   "source": [
    "### Nika's notebook for  final submission: \n",
    "- **Includes Visuals for Affordability and Visuals for Monte Carlo**"
   ]
  },
  {
   "cell_type": "code",
   "execution_count": 39,
   "metadata": {},
   "outputs": [],
   "source": [
    "# Import statements\n",
    "import numpy as np\n",
    "import pandas as pd\n",
    "from pathlib import Path\n",
    "%matplotlib inline\n",
    "\n",
    "#visualizations import statements. Note that not everything was used for the final output\n",
    "import panel as pn\n",
    "pn.extension('plotly')\n",
    "import plotly.express as px\n",
    "import hvplot.pandas\n",
    "import matplotlib.pyplot as plt\n",
    "import holoviews as hv\n",
    "import os\n",
    "from dotenv import load_dotenv"
   ]
  },
  {
   "cell_type": "code",
   "execution_count": 40,
   "metadata": {},
   "outputs": [],
   "source": [
    "#Reading csv files for the cleaned data\n",
    "\n",
    "combined_csv = Path(\"../Data/Clean/combined_df.csv\")\n",
    "combined_df = pd.read_csv(combined_csv)"
   ]
  },
  {
   "cell_type": "markdown",
   "metadata": {},
   "source": [
    "### Plots for housing affordability"
   ]
  },
  {
   "cell_type": "code",
   "execution_count": 41,
   "metadata": {},
   "outputs": [
    {
     "data": {
      "application/vnd.plotly.v1+json": {
       "config": {
        "plotlyServerURL": "https://plot.ly"
       },
       "data": [
        {
         "alignmentgroup": "True",
         "hovertemplate": "MSA=%{x}<br>Affordability Rent/Median Inc=%{y}<br>Density=%{marker.color}<extra></extra>",
         "legendgroup": "",
         "marker": {
          "color": [
           3276,
           10715,
           5019,
           7256,
           1686,
           1574,
           5532,
           1941,
           1353,
           889,
           1789,
           2218,
           4574,
           792,
           2029,
           990,
           887,
           1022,
           1773,
           544,
           1113,
           1399,
           1526,
           889,
           1441,
           4554,
           1231,
           946,
           1253,
           1831,
           3469,
           470,
           4457,
           2830,
           1181,
           709,
           1864,
           1155,
           935,
           784,
           1582,
           3071,
           1507,
           417,
           2441,
           607,
           2369,
           1309,
           1308
          ],
          "coloraxis": "coloraxis"
         },
         "name": "",
         "offsetgroup": "",
         "orientation": "v",
         "showlegend": false,
         "textposition": "auto",
         "type": "bar",
         "x": [
          "Los Angeles, CA",
          "New York, NY",
          "Miami, FL",
          "San Francisco, CA",
          "San Diego, CA",
          "Riverside, CA",
          "Boston, MA",
          "Stockton, CA",
          "Tampa, FL",
          "New Orleans, LA",
          "Fresno, CA",
          "San Jose, CA",
          "Chicago, IL",
          "Memphis, TN",
          "Sacramento, CA",
          "Bakersfield, CA",
          "Greensboro, NC",
          "El Paso, TX",
          "Las Vegas, NV",
          "Nashville, TN",
          "Charlotte, NC",
          "Houston, TX",
          "Dallas, TX",
          "Tucson, AZ",
          "Atlanta, GA",
          "Philadelphia, PA",
          "San Antonio, TX",
          "Colorado Springs, CO",
          "Phoenix, AZ",
          "Denver, CO",
          "Seattle, WA",
          "Jacksonville, FL",
          "Washington, DC",
          "Baltimore, MD",
          "Austin, TX",
          "Virginia Beach, VA",
          "Detroit, MI",
          "Albuquerque, NM",
          "Indianapolis, IN",
          "Tulsa, OK",
          "Columbus, OH",
          "Minneapolis, MN",
          "Cincinnati, OH",
          "Oklahoma City, OK",
          "Buffalo, NY",
          "Kansas City, MO",
          "Milwaukee, WI",
          "Omaha, NE",
          "Toledo, OH"
         ],
         "xaxis": "x",
         "y": [
          0.38812456605035106,
          0.3870731120731121,
          0.3797409421193528,
          0.3319296226546697,
          0.3277251890218492,
          0.32580263269160303,
          0.3220268982314942,
          0.3202892879400553,
          0.3102959969605913,
          0.3003769520732364,
          0.2964463298445704,
          0.2839338249340924,
          0.28064845646665515,
          0.2782405803970178,
          0.2769144525851954,
          0.27525580869466904,
          0.2750820938767626,
          0.2704463060442824,
          0.2688102790345694,
          0.2673422333551564,
          0.26346782331059204,
          0.2560952697527207,
          0.2560852418183076,
          0.25581726575157115,
          0.25434194753421985,
          0.2541424603866744,
          0.2527624087883891,
          0.24901904093180785,
          0.2477760103687993,
          0.2450228278511461,
          0.24468503727652696,
          0.24408014571948997,
          0.23958205169460245,
          0.2387686387686388,
          0.2303900980803913,
          0.2303365114165789,
          0.23031477455336044,
          0.2301066447908121,
          0.2296086525231193,
          0.22530634819129264,
          0.2240391625872305,
          0.22302802934359245,
          0.2143808454919566,
          0.20864615130764788,
          0.20687130854338245,
          0.1993163853877377,
          0.19925582808109954,
          0.19825785457490802,
          0.1935851240595187
         ],
         "yaxis": "y"
        }
       ],
       "layout": {
        "barmode": "relative",
        "coloraxis": {
         "colorbar": {
          "title": {
           "text": "Density"
          }
         },
         "colorscale": [
          [
           0,
           "rgb(230, 240, 240)"
          ],
          [
           0.09090909090909091,
           "rgb(191, 221, 229)"
          ],
          [
           0.18181818181818182,
           "rgb(156, 201, 226)"
          ],
          [
           0.2727272727272727,
           "rgb(129, 180, 227)"
          ],
          [
           0.36363636363636365,
           "rgb(115, 154, 228)"
          ],
          [
           0.45454545454545453,
           "rgb(117, 127, 221)"
          ],
          [
           0.5454545454545454,
           "rgb(120, 100, 202)"
          ],
          [
           0.6363636363636364,
           "rgb(119, 74, 175)"
          ],
          [
           0.7272727272727273,
           "rgb(113, 50, 141)"
          ],
          [
           0.8181818181818182,
           "rgb(100, 31, 104)"
          ],
          [
           0.9090909090909091,
           "rgb(80, 20, 66)"
          ],
          [
           1,
           "rgb(54, 14, 36)"
          ]
         ]
        },
        "height": 600,
        "legend": {
         "tracegroupgap": 0
        },
        "template": {
         "data": {
          "bar": [
           {
            "error_x": {
             "color": "#2a3f5f"
            },
            "error_y": {
             "color": "#2a3f5f"
            },
            "marker": {
             "line": {
              "color": "#E5ECF6",
              "width": 0.5
             }
            },
            "type": "bar"
           }
          ],
          "barpolar": [
           {
            "marker": {
             "line": {
              "color": "#E5ECF6",
              "width": 0.5
             }
            },
            "type": "barpolar"
           }
          ],
          "carpet": [
           {
            "aaxis": {
             "endlinecolor": "#2a3f5f",
             "gridcolor": "white",
             "linecolor": "white",
             "minorgridcolor": "white",
             "startlinecolor": "#2a3f5f"
            },
            "baxis": {
             "endlinecolor": "#2a3f5f",
             "gridcolor": "white",
             "linecolor": "white",
             "minorgridcolor": "white",
             "startlinecolor": "#2a3f5f"
            },
            "type": "carpet"
           }
          ],
          "choropleth": [
           {
            "colorbar": {
             "outlinewidth": 0,
             "ticks": ""
            },
            "type": "choropleth"
           }
          ],
          "contour": [
           {
            "colorbar": {
             "outlinewidth": 0,
             "ticks": ""
            },
            "colorscale": [
             [
              0,
              "#0d0887"
             ],
             [
              0.1111111111111111,
              "#46039f"
             ],
             [
              0.2222222222222222,
              "#7201a8"
             ],
             [
              0.3333333333333333,
              "#9c179e"
             ],
             [
              0.4444444444444444,
              "#bd3786"
             ],
             [
              0.5555555555555556,
              "#d8576b"
             ],
             [
              0.6666666666666666,
              "#ed7953"
             ],
             [
              0.7777777777777778,
              "#fb9f3a"
             ],
             [
              0.8888888888888888,
              "#fdca26"
             ],
             [
              1,
              "#f0f921"
             ]
            ],
            "type": "contour"
           }
          ],
          "contourcarpet": [
           {
            "colorbar": {
             "outlinewidth": 0,
             "ticks": ""
            },
            "type": "contourcarpet"
           }
          ],
          "heatmap": [
           {
            "colorbar": {
             "outlinewidth": 0,
             "ticks": ""
            },
            "colorscale": [
             [
              0,
              "#0d0887"
             ],
             [
              0.1111111111111111,
              "#46039f"
             ],
             [
              0.2222222222222222,
              "#7201a8"
             ],
             [
              0.3333333333333333,
              "#9c179e"
             ],
             [
              0.4444444444444444,
              "#bd3786"
             ],
             [
              0.5555555555555556,
              "#d8576b"
             ],
             [
              0.6666666666666666,
              "#ed7953"
             ],
             [
              0.7777777777777778,
              "#fb9f3a"
             ],
             [
              0.8888888888888888,
              "#fdca26"
             ],
             [
              1,
              "#f0f921"
             ]
            ],
            "type": "heatmap"
           }
          ],
          "heatmapgl": [
           {
            "colorbar": {
             "outlinewidth": 0,
             "ticks": ""
            },
            "colorscale": [
             [
              0,
              "#0d0887"
             ],
             [
              0.1111111111111111,
              "#46039f"
             ],
             [
              0.2222222222222222,
              "#7201a8"
             ],
             [
              0.3333333333333333,
              "#9c179e"
             ],
             [
              0.4444444444444444,
              "#bd3786"
             ],
             [
              0.5555555555555556,
              "#d8576b"
             ],
             [
              0.6666666666666666,
              "#ed7953"
             ],
             [
              0.7777777777777778,
              "#fb9f3a"
             ],
             [
              0.8888888888888888,
              "#fdca26"
             ],
             [
              1,
              "#f0f921"
             ]
            ],
            "type": "heatmapgl"
           }
          ],
          "histogram": [
           {
            "marker": {
             "colorbar": {
              "outlinewidth": 0,
              "ticks": ""
             }
            },
            "type": "histogram"
           }
          ],
          "histogram2d": [
           {
            "colorbar": {
             "outlinewidth": 0,
             "ticks": ""
            },
            "colorscale": [
             [
              0,
              "#0d0887"
             ],
             [
              0.1111111111111111,
              "#46039f"
             ],
             [
              0.2222222222222222,
              "#7201a8"
             ],
             [
              0.3333333333333333,
              "#9c179e"
             ],
             [
              0.4444444444444444,
              "#bd3786"
             ],
             [
              0.5555555555555556,
              "#d8576b"
             ],
             [
              0.6666666666666666,
              "#ed7953"
             ],
             [
              0.7777777777777778,
              "#fb9f3a"
             ],
             [
              0.8888888888888888,
              "#fdca26"
             ],
             [
              1,
              "#f0f921"
             ]
            ],
            "type": "histogram2d"
           }
          ],
          "histogram2dcontour": [
           {
            "colorbar": {
             "outlinewidth": 0,
             "ticks": ""
            },
            "colorscale": [
             [
              0,
              "#0d0887"
             ],
             [
              0.1111111111111111,
              "#46039f"
             ],
             [
              0.2222222222222222,
              "#7201a8"
             ],
             [
              0.3333333333333333,
              "#9c179e"
             ],
             [
              0.4444444444444444,
              "#bd3786"
             ],
             [
              0.5555555555555556,
              "#d8576b"
             ],
             [
              0.6666666666666666,
              "#ed7953"
             ],
             [
              0.7777777777777778,
              "#fb9f3a"
             ],
             [
              0.8888888888888888,
              "#fdca26"
             ],
             [
              1,
              "#f0f921"
             ]
            ],
            "type": "histogram2dcontour"
           }
          ],
          "mesh3d": [
           {
            "colorbar": {
             "outlinewidth": 0,
             "ticks": ""
            },
            "type": "mesh3d"
           }
          ],
          "parcoords": [
           {
            "line": {
             "colorbar": {
              "outlinewidth": 0,
              "ticks": ""
             }
            },
            "type": "parcoords"
           }
          ],
          "pie": [
           {
            "automargin": true,
            "type": "pie"
           }
          ],
          "scatter": [
           {
            "marker": {
             "colorbar": {
              "outlinewidth": 0,
              "ticks": ""
             }
            },
            "type": "scatter"
           }
          ],
          "scatter3d": [
           {
            "line": {
             "colorbar": {
              "outlinewidth": 0,
              "ticks": ""
             }
            },
            "marker": {
             "colorbar": {
              "outlinewidth": 0,
              "ticks": ""
             }
            },
            "type": "scatter3d"
           }
          ],
          "scattercarpet": [
           {
            "marker": {
             "colorbar": {
              "outlinewidth": 0,
              "ticks": ""
             }
            },
            "type": "scattercarpet"
           }
          ],
          "scattergeo": [
           {
            "marker": {
             "colorbar": {
              "outlinewidth": 0,
              "ticks": ""
             }
            },
            "type": "scattergeo"
           }
          ],
          "scattergl": [
           {
            "marker": {
             "colorbar": {
              "outlinewidth": 0,
              "ticks": ""
             }
            },
            "type": "scattergl"
           }
          ],
          "scattermapbox": [
           {
            "marker": {
             "colorbar": {
              "outlinewidth": 0,
              "ticks": ""
             }
            },
            "type": "scattermapbox"
           }
          ],
          "scatterpolar": [
           {
            "marker": {
             "colorbar": {
              "outlinewidth": 0,
              "ticks": ""
             }
            },
            "type": "scatterpolar"
           }
          ],
          "scatterpolargl": [
           {
            "marker": {
             "colorbar": {
              "outlinewidth": 0,
              "ticks": ""
             }
            },
            "type": "scatterpolargl"
           }
          ],
          "scatterternary": [
           {
            "marker": {
             "colorbar": {
              "outlinewidth": 0,
              "ticks": ""
             }
            },
            "type": "scatterternary"
           }
          ],
          "surface": [
           {
            "colorbar": {
             "outlinewidth": 0,
             "ticks": ""
            },
            "colorscale": [
             [
              0,
              "#0d0887"
             ],
             [
              0.1111111111111111,
              "#46039f"
             ],
             [
              0.2222222222222222,
              "#7201a8"
             ],
             [
              0.3333333333333333,
              "#9c179e"
             ],
             [
              0.4444444444444444,
              "#bd3786"
             ],
             [
              0.5555555555555556,
              "#d8576b"
             ],
             [
              0.6666666666666666,
              "#ed7953"
             ],
             [
              0.7777777777777778,
              "#fb9f3a"
             ],
             [
              0.8888888888888888,
              "#fdca26"
             ],
             [
              1,
              "#f0f921"
             ]
            ],
            "type": "surface"
           }
          ],
          "table": [
           {
            "cells": {
             "fill": {
              "color": "#EBF0F8"
             },
             "line": {
              "color": "white"
             }
            },
            "header": {
             "fill": {
              "color": "#C8D4E3"
             },
             "line": {
              "color": "white"
             }
            },
            "type": "table"
           }
          ]
         },
         "layout": {
          "annotationdefaults": {
           "arrowcolor": "#2a3f5f",
           "arrowhead": 0,
           "arrowwidth": 1
          },
          "coloraxis": {
           "colorbar": {
            "outlinewidth": 0,
            "ticks": ""
           }
          },
          "colorscale": {
           "diverging": [
            [
             0,
             "#8e0152"
            ],
            [
             0.1,
             "#c51b7d"
            ],
            [
             0.2,
             "#de77ae"
            ],
            [
             0.3,
             "#f1b6da"
            ],
            [
             0.4,
             "#fde0ef"
            ],
            [
             0.5,
             "#f7f7f7"
            ],
            [
             0.6,
             "#e6f5d0"
            ],
            [
             0.7,
             "#b8e186"
            ],
            [
             0.8,
             "#7fbc41"
            ],
            [
             0.9,
             "#4d9221"
            ],
            [
             1,
             "#276419"
            ]
           ],
           "sequential": [
            [
             0,
             "#0d0887"
            ],
            [
             0.1111111111111111,
             "#46039f"
            ],
            [
             0.2222222222222222,
             "#7201a8"
            ],
            [
             0.3333333333333333,
             "#9c179e"
            ],
            [
             0.4444444444444444,
             "#bd3786"
            ],
            [
             0.5555555555555556,
             "#d8576b"
            ],
            [
             0.6666666666666666,
             "#ed7953"
            ],
            [
             0.7777777777777778,
             "#fb9f3a"
            ],
            [
             0.8888888888888888,
             "#fdca26"
            ],
            [
             1,
             "#f0f921"
            ]
           ],
           "sequentialminus": [
            [
             0,
             "#0d0887"
            ],
            [
             0.1111111111111111,
             "#46039f"
            ],
            [
             0.2222222222222222,
             "#7201a8"
            ],
            [
             0.3333333333333333,
             "#9c179e"
            ],
            [
             0.4444444444444444,
             "#bd3786"
            ],
            [
             0.5555555555555556,
             "#d8576b"
            ],
            [
             0.6666666666666666,
             "#ed7953"
            ],
            [
             0.7777777777777778,
             "#fb9f3a"
            ],
            [
             0.8888888888888888,
             "#fdca26"
            ],
            [
             1,
             "#f0f921"
            ]
           ]
          },
          "colorway": [
           "#636efa",
           "#EF553B",
           "#00cc96",
           "#ab63fa",
           "#FFA15A",
           "#19d3f3",
           "#FF6692",
           "#B6E880",
           "#FF97FF",
           "#FECB52"
          ],
          "font": {
           "color": "#2a3f5f"
          },
          "geo": {
           "bgcolor": "white",
           "lakecolor": "white",
           "landcolor": "#E5ECF6",
           "showlakes": true,
           "showland": true,
           "subunitcolor": "white"
          },
          "hoverlabel": {
           "align": "left"
          },
          "hovermode": "closest",
          "mapbox": {
           "style": "light"
          },
          "paper_bgcolor": "white",
          "plot_bgcolor": "#E5ECF6",
          "polar": {
           "angularaxis": {
            "gridcolor": "white",
            "linecolor": "white",
            "ticks": ""
           },
           "bgcolor": "#E5ECF6",
           "radialaxis": {
            "gridcolor": "white",
            "linecolor": "white",
            "ticks": ""
           }
          },
          "scene": {
           "xaxis": {
            "backgroundcolor": "#E5ECF6",
            "gridcolor": "white",
            "gridwidth": 2,
            "linecolor": "white",
            "showbackground": true,
            "ticks": "",
            "zerolinecolor": "white"
           },
           "yaxis": {
            "backgroundcolor": "#E5ECF6",
            "gridcolor": "white",
            "gridwidth": 2,
            "linecolor": "white",
            "showbackground": true,
            "ticks": "",
            "zerolinecolor": "white"
           },
           "zaxis": {
            "backgroundcolor": "#E5ECF6",
            "gridcolor": "white",
            "gridwidth": 2,
            "linecolor": "white",
            "showbackground": true,
            "ticks": "",
            "zerolinecolor": "white"
           }
          },
          "shapedefaults": {
           "line": {
            "color": "#2a3f5f"
           }
          },
          "ternary": {
           "aaxis": {
            "gridcolor": "white",
            "linecolor": "white",
            "ticks": ""
           },
           "baxis": {
            "gridcolor": "white",
            "linecolor": "white",
            "ticks": ""
           },
           "bgcolor": "#E5ECF6",
           "caxis": {
            "gridcolor": "white",
            "linecolor": "white",
            "ticks": ""
           }
          },
          "title": {
           "x": 0.05
          },
          "xaxis": {
           "automargin": true,
           "gridcolor": "white",
           "linecolor": "white",
           "ticks": "",
           "title": {
            "standoff": 15
           },
           "zerolinecolor": "white",
           "zerolinewidth": 2
          },
          "yaxis": {
           "automargin": true,
           "gridcolor": "white",
           "linecolor": "white",
           "ticks": "",
           "title": {
            "standoff": 15
           },
           "zerolinecolor": "white",
           "zerolinewidth": 2
          }
         }
        },
        "title": {
         "text": "<b>Percentage of Income spent on Rent</b>"
        },
        "xaxis": {
         "anchor": "y",
         "domain": [
          0,
          1
         ],
         "dtick": 1,
         "tickfont": {
          "size": 11
         },
         "tickmode": "linear",
         "title": {
          "text": "MSA"
         }
        },
        "yaxis": {
         "anchor": "x",
         "domain": [
          0,
          1
         ],
         "range": [
          0,
          0.45
         ],
         "tickformat": ",.0%",
         "title": {
          "text": ""
         }
        }
       }
      },
      "text/html": [
       "<div>                            <div id=\"5931304f-cbe0-47d8-b252-09921b171d99\" class=\"plotly-graph-div\" style=\"height:600px; width:100%;\"></div>            <script type=\"text/javascript\">                require([\"plotly\"], function(Plotly) {                    window.PLOTLYENV=window.PLOTLYENV || {};                                    if (document.getElementById(\"5931304f-cbe0-47d8-b252-09921b171d99\")) {                    Plotly.newPlot(                        \"5931304f-cbe0-47d8-b252-09921b171d99\",                        [{\"alignmentgroup\": \"True\", \"hovertemplate\": \"MSA=%{x}<br>Affordability Rent/Median Inc=%{y}<br>Density=%{marker.color}<extra></extra>\", \"legendgroup\": \"\", \"marker\": {\"color\": [3276.0, 10715.0, 5019.0, 7256.0, 1686.0, 1574.0, 5532.0, 1941.0, 1353.0, 889.0, 1789.0, 2218.0, 4574.0, 792.0, 2029.0, 990.0, 887.0, 1022.0, 1773.0, 544.0, 1113.0, 1399.0, 1526.0, 889.0, 1441.0, 4554.0, 1231.0, 946.0, 1253.0, 1831.0, 3469.0, 470.0, 4457.0, 2830.0, 1181.0, 709.0, 1864.0, 1155.0, 935.0, 784.0, 1582.0, 3071.0, 1507.0, 417.0, 2441.0, 607.0, 2369.0, 1309.0, 1308.0], \"coloraxis\": \"coloraxis\"}, \"name\": \"\", \"offsetgroup\": \"\", \"orientation\": \"v\", \"showlegend\": false, \"textposition\": \"auto\", \"type\": \"bar\", \"x\": [\"Los Angeles, CA\", \"New York, NY\", \"Miami, FL\", \"San Francisco, CA\", \"San Diego, CA\", \"Riverside, CA\", \"Boston, MA\", \"Stockton, CA\", \"Tampa, FL\", \"New Orleans, LA\", \"Fresno, CA\", \"San Jose, CA\", \"Chicago, IL\", \"Memphis, TN\", \"Sacramento, CA\", \"Bakersfield, CA\", \"Greensboro, NC\", \"El Paso, TX\", \"Las Vegas, NV\", \"Nashville, TN\", \"Charlotte, NC\", \"Houston, TX\", \"Dallas, TX\", \"Tucson, AZ\", \"Atlanta, GA\", \"Philadelphia, PA\", \"San Antonio, TX\", \"Colorado Springs, CO\", \"Phoenix, AZ\", \"Denver, CO\", \"Seattle, WA\", \"Jacksonville, FL\", \"Washington, DC\", \"Baltimore, MD\", \"Austin, TX\", \"Virginia Beach, VA\", \"Detroit, MI\", \"Albuquerque, NM\", \"Indianapolis, IN\", \"Tulsa, OK\", \"Columbus, OH\", \"Minneapolis, MN\", \"Cincinnati, OH\", \"Oklahoma City, OK\", \"Buffalo, NY\", \"Kansas City, MO\", \"Milwaukee, WI\", \"Omaha, NE\", \"Toledo, OH\"], \"xaxis\": \"x\", \"y\": [0.38812456605035106, 0.3870731120731121, 0.3797409421193528, 0.3319296226546697, 0.3277251890218492, 0.32580263269160303, 0.3220268982314942, 0.3202892879400553, 0.3102959969605913, 0.3003769520732364, 0.2964463298445704, 0.2839338249340924, 0.28064845646665515, 0.2782405803970178, 0.2769144525851954, 0.27525580869466904, 0.2750820938767626, 0.2704463060442824, 0.2688102790345694, 0.2673422333551564, 0.26346782331059204, 0.2560952697527207, 0.2560852418183076, 0.25581726575157115, 0.25434194753421985, 0.2541424603866744, 0.2527624087883891, 0.24901904093180785, 0.2477760103687993, 0.2450228278511461, 0.24468503727652696, 0.24408014571948997, 0.23958205169460245, 0.2387686387686388, 0.2303900980803913, 0.2303365114165789, 0.23031477455336044, 0.2301066447908121, 0.2296086525231193, 0.22530634819129264, 0.2240391625872305, 0.22302802934359245, 0.2143808454919566, 0.20864615130764788, 0.20687130854338245, 0.1993163853877377, 0.19925582808109954, 0.19825785457490802, 0.1935851240595187], \"yaxis\": \"y\"}],                        {\"barmode\": \"relative\", \"coloraxis\": {\"colorbar\": {\"title\": {\"text\": \"Density\"}}, \"colorscale\": [[0.0, \"rgb(230, 240, 240)\"], [0.09090909090909091, \"rgb(191, 221, 229)\"], [0.18181818181818182, \"rgb(156, 201, 226)\"], [0.2727272727272727, \"rgb(129, 180, 227)\"], [0.36363636363636365, \"rgb(115, 154, 228)\"], [0.45454545454545453, \"rgb(117, 127, 221)\"], [0.5454545454545454, \"rgb(120, 100, 202)\"], [0.6363636363636364, \"rgb(119, 74, 175)\"], [0.7272727272727273, \"rgb(113, 50, 141)\"], [0.8181818181818182, \"rgb(100, 31, 104)\"], [0.9090909090909091, \"rgb(80, 20, 66)\"], [1.0, \"rgb(54, 14, 36)\"]]}, \"height\": 600, \"legend\": {\"tracegroupgap\": 0}, \"template\": {\"data\": {\"bar\": [{\"error_x\": {\"color\": \"#2a3f5f\"}, \"error_y\": {\"color\": \"#2a3f5f\"}, \"marker\": {\"line\": {\"color\": \"#E5ECF6\", \"width\": 0.5}}, \"type\": \"bar\"}], \"barpolar\": [{\"marker\": {\"line\": {\"color\": \"#E5ECF6\", \"width\": 0.5}}, \"type\": \"barpolar\"}], \"carpet\": [{\"aaxis\": {\"endlinecolor\": \"#2a3f5f\", \"gridcolor\": \"white\", \"linecolor\": \"white\", \"minorgridcolor\": \"white\", \"startlinecolor\": \"#2a3f5f\"}, \"baxis\": {\"endlinecolor\": \"#2a3f5f\", \"gridcolor\": \"white\", \"linecolor\": \"white\", \"minorgridcolor\": \"white\", \"startlinecolor\": \"#2a3f5f\"}, \"type\": \"carpet\"}], \"choropleth\": [{\"colorbar\": {\"outlinewidth\": 0, \"ticks\": \"\"}, \"type\": \"choropleth\"}], \"contour\": [{\"colorbar\": {\"outlinewidth\": 0, \"ticks\": \"\"}, \"colorscale\": [[0.0, \"#0d0887\"], [0.1111111111111111, \"#46039f\"], [0.2222222222222222, \"#7201a8\"], [0.3333333333333333, \"#9c179e\"], [0.4444444444444444, \"#bd3786\"], [0.5555555555555556, \"#d8576b\"], [0.6666666666666666, \"#ed7953\"], [0.7777777777777778, \"#fb9f3a\"], [0.8888888888888888, \"#fdca26\"], [1.0, \"#f0f921\"]], \"type\": \"contour\"}], \"contourcarpet\": [{\"colorbar\": {\"outlinewidth\": 0, \"ticks\": \"\"}, \"type\": \"contourcarpet\"}], \"heatmap\": [{\"colorbar\": {\"outlinewidth\": 0, \"ticks\": \"\"}, \"colorscale\": [[0.0, \"#0d0887\"], [0.1111111111111111, \"#46039f\"], [0.2222222222222222, \"#7201a8\"], [0.3333333333333333, \"#9c179e\"], [0.4444444444444444, \"#bd3786\"], [0.5555555555555556, \"#d8576b\"], [0.6666666666666666, \"#ed7953\"], [0.7777777777777778, \"#fb9f3a\"], [0.8888888888888888, \"#fdca26\"], [1.0, \"#f0f921\"]], \"type\": \"heatmap\"}], \"heatmapgl\": [{\"colorbar\": {\"outlinewidth\": 0, \"ticks\": \"\"}, \"colorscale\": [[0.0, \"#0d0887\"], [0.1111111111111111, \"#46039f\"], [0.2222222222222222, \"#7201a8\"], [0.3333333333333333, \"#9c179e\"], [0.4444444444444444, \"#bd3786\"], [0.5555555555555556, \"#d8576b\"], [0.6666666666666666, \"#ed7953\"], [0.7777777777777778, \"#fb9f3a\"], [0.8888888888888888, \"#fdca26\"], [1.0, \"#f0f921\"]], \"type\": \"heatmapgl\"}], \"histogram\": [{\"marker\": {\"colorbar\": {\"outlinewidth\": 0, \"ticks\": \"\"}}, \"type\": \"histogram\"}], \"histogram2d\": [{\"colorbar\": {\"outlinewidth\": 0, \"ticks\": \"\"}, \"colorscale\": [[0.0, \"#0d0887\"], [0.1111111111111111, \"#46039f\"], [0.2222222222222222, \"#7201a8\"], [0.3333333333333333, \"#9c179e\"], [0.4444444444444444, \"#bd3786\"], [0.5555555555555556, \"#d8576b\"], [0.6666666666666666, \"#ed7953\"], [0.7777777777777778, \"#fb9f3a\"], [0.8888888888888888, \"#fdca26\"], [1.0, \"#f0f921\"]], \"type\": \"histogram2d\"}], \"histogram2dcontour\": [{\"colorbar\": {\"outlinewidth\": 0, \"ticks\": \"\"}, \"colorscale\": [[0.0, \"#0d0887\"], [0.1111111111111111, \"#46039f\"], [0.2222222222222222, \"#7201a8\"], [0.3333333333333333, \"#9c179e\"], [0.4444444444444444, \"#bd3786\"], [0.5555555555555556, \"#d8576b\"], [0.6666666666666666, \"#ed7953\"], [0.7777777777777778, \"#fb9f3a\"], [0.8888888888888888, \"#fdca26\"], [1.0, \"#f0f921\"]], \"type\": \"histogram2dcontour\"}], \"mesh3d\": [{\"colorbar\": {\"outlinewidth\": 0, \"ticks\": \"\"}, \"type\": \"mesh3d\"}], \"parcoords\": [{\"line\": {\"colorbar\": {\"outlinewidth\": 0, \"ticks\": \"\"}}, \"type\": \"parcoords\"}], \"pie\": [{\"automargin\": true, \"type\": \"pie\"}], \"scatter\": [{\"marker\": {\"colorbar\": {\"outlinewidth\": 0, \"ticks\": \"\"}}, \"type\": \"scatter\"}], \"scatter3d\": [{\"line\": {\"colorbar\": {\"outlinewidth\": 0, \"ticks\": \"\"}}, \"marker\": {\"colorbar\": {\"outlinewidth\": 0, \"ticks\": \"\"}}, \"type\": \"scatter3d\"}], \"scattercarpet\": [{\"marker\": {\"colorbar\": {\"outlinewidth\": 0, \"ticks\": \"\"}}, \"type\": \"scattercarpet\"}], \"scattergeo\": [{\"marker\": {\"colorbar\": {\"outlinewidth\": 0, \"ticks\": \"\"}}, \"type\": \"scattergeo\"}], \"scattergl\": [{\"marker\": {\"colorbar\": {\"outlinewidth\": 0, \"ticks\": \"\"}}, \"type\": \"scattergl\"}], \"scattermapbox\": [{\"marker\": {\"colorbar\": {\"outlinewidth\": 0, \"ticks\": \"\"}}, \"type\": \"scattermapbox\"}], \"scatterpolar\": [{\"marker\": {\"colorbar\": {\"outlinewidth\": 0, \"ticks\": \"\"}}, \"type\": \"scatterpolar\"}], \"scatterpolargl\": [{\"marker\": {\"colorbar\": {\"outlinewidth\": 0, \"ticks\": \"\"}}, \"type\": \"scatterpolargl\"}], \"scatterternary\": [{\"marker\": {\"colorbar\": {\"outlinewidth\": 0, \"ticks\": \"\"}}, \"type\": \"scatterternary\"}], \"surface\": [{\"colorbar\": {\"outlinewidth\": 0, \"ticks\": \"\"}, \"colorscale\": [[0.0, \"#0d0887\"], [0.1111111111111111, \"#46039f\"], [0.2222222222222222, \"#7201a8\"], [0.3333333333333333, \"#9c179e\"], [0.4444444444444444, \"#bd3786\"], [0.5555555555555556, \"#d8576b\"], [0.6666666666666666, \"#ed7953\"], [0.7777777777777778, \"#fb9f3a\"], [0.8888888888888888, \"#fdca26\"], [1.0, \"#f0f921\"]], \"type\": \"surface\"}], \"table\": [{\"cells\": {\"fill\": {\"color\": \"#EBF0F8\"}, \"line\": {\"color\": \"white\"}}, \"header\": {\"fill\": {\"color\": \"#C8D4E3\"}, \"line\": {\"color\": \"white\"}}, \"type\": \"table\"}]}, \"layout\": {\"annotationdefaults\": {\"arrowcolor\": \"#2a3f5f\", \"arrowhead\": 0, \"arrowwidth\": 1}, \"coloraxis\": {\"colorbar\": {\"outlinewidth\": 0, \"ticks\": \"\"}}, \"colorscale\": {\"diverging\": [[0, \"#8e0152\"], [0.1, \"#c51b7d\"], [0.2, \"#de77ae\"], [0.3, \"#f1b6da\"], [0.4, \"#fde0ef\"], [0.5, \"#f7f7f7\"], [0.6, \"#e6f5d0\"], [0.7, \"#b8e186\"], [0.8, \"#7fbc41\"], [0.9, \"#4d9221\"], [1, \"#276419\"]], \"sequential\": [[0.0, \"#0d0887\"], [0.1111111111111111, \"#46039f\"], [0.2222222222222222, \"#7201a8\"], [0.3333333333333333, \"#9c179e\"], [0.4444444444444444, \"#bd3786\"], [0.5555555555555556, \"#d8576b\"], [0.6666666666666666, \"#ed7953\"], [0.7777777777777778, \"#fb9f3a\"], [0.8888888888888888, \"#fdca26\"], [1.0, \"#f0f921\"]], \"sequentialminus\": [[0.0, \"#0d0887\"], [0.1111111111111111, \"#46039f\"], [0.2222222222222222, \"#7201a8\"], [0.3333333333333333, \"#9c179e\"], [0.4444444444444444, \"#bd3786\"], [0.5555555555555556, \"#d8576b\"], [0.6666666666666666, \"#ed7953\"], [0.7777777777777778, \"#fb9f3a\"], [0.8888888888888888, \"#fdca26\"], [1.0, \"#f0f921\"]]}, \"colorway\": [\"#636efa\", \"#EF553B\", \"#00cc96\", \"#ab63fa\", \"#FFA15A\", \"#19d3f3\", \"#FF6692\", \"#B6E880\", \"#FF97FF\", \"#FECB52\"], \"font\": {\"color\": \"#2a3f5f\"}, \"geo\": {\"bgcolor\": \"white\", \"lakecolor\": \"white\", \"landcolor\": \"#E5ECF6\", \"showlakes\": true, \"showland\": true, \"subunitcolor\": \"white\"}, \"hoverlabel\": {\"align\": \"left\"}, \"hovermode\": \"closest\", \"mapbox\": {\"style\": \"light\"}, \"paper_bgcolor\": \"white\", \"plot_bgcolor\": \"#E5ECF6\", \"polar\": {\"angularaxis\": {\"gridcolor\": \"white\", \"linecolor\": \"white\", \"ticks\": \"\"}, \"bgcolor\": \"#E5ECF6\", \"radialaxis\": {\"gridcolor\": \"white\", \"linecolor\": \"white\", \"ticks\": \"\"}}, \"scene\": {\"xaxis\": {\"backgroundcolor\": \"#E5ECF6\", \"gridcolor\": \"white\", \"gridwidth\": 2, \"linecolor\": \"white\", \"showbackground\": true, \"ticks\": \"\", \"zerolinecolor\": \"white\"}, \"yaxis\": {\"backgroundcolor\": \"#E5ECF6\", \"gridcolor\": \"white\", \"gridwidth\": 2, \"linecolor\": \"white\", \"showbackground\": true, \"ticks\": \"\", \"zerolinecolor\": \"white\"}, \"zaxis\": {\"backgroundcolor\": \"#E5ECF6\", \"gridcolor\": \"white\", \"gridwidth\": 2, \"linecolor\": \"white\", \"showbackground\": true, \"ticks\": \"\", \"zerolinecolor\": \"white\"}}, \"shapedefaults\": {\"line\": {\"color\": \"#2a3f5f\"}}, \"ternary\": {\"aaxis\": {\"gridcolor\": \"white\", \"linecolor\": \"white\", \"ticks\": \"\"}, \"baxis\": {\"gridcolor\": \"white\", \"linecolor\": \"white\", \"ticks\": \"\"}, \"bgcolor\": \"#E5ECF6\", \"caxis\": {\"gridcolor\": \"white\", \"linecolor\": \"white\", \"ticks\": \"\"}}, \"title\": {\"x\": 0.05}, \"xaxis\": {\"automargin\": true, \"gridcolor\": \"white\", \"linecolor\": \"white\", \"ticks\": \"\", \"title\": {\"standoff\": 15}, \"zerolinecolor\": \"white\", \"zerolinewidth\": 2}, \"yaxis\": {\"automargin\": true, \"gridcolor\": \"white\", \"linecolor\": \"white\", \"ticks\": \"\", \"title\": {\"standoff\": 15}, \"zerolinecolor\": \"white\", \"zerolinewidth\": 2}}}, \"title\": {\"text\": \"<b>Percentage of Income spent on Rent</b>\"}, \"xaxis\": {\"anchor\": \"y\", \"domain\": [0.0, 1.0], \"dtick\": 1, \"tickfont\": {\"size\": 11}, \"tickmode\": \"linear\", \"title\": {\"text\": \"MSA\"}}, \"yaxis\": {\"anchor\": \"x\", \"domain\": [0.0, 1.0], \"range\": [0, 0.45], \"tickformat\": \",.0%\", \"title\": {\"text\": \"\"}}},                        {\"responsive\": true}                    ).then(function(){\n",
       "                            \n",
       "var gd = document.getElementById('5931304f-cbe0-47d8-b252-09921b171d99');\n",
       "var x = new MutationObserver(function (mutations, observer) {{\n",
       "        var display = window.getComputedStyle(gd).display;\n",
       "        if (!display || display === 'none') {{\n",
       "            console.log([gd, 'removed!']);\n",
       "            Plotly.purge(gd);\n",
       "            observer.disconnect();\n",
       "        }}\n",
       "}});\n",
       "\n",
       "// Listen for the removal of the full notebook cells\n",
       "var notebookContainer = gd.closest('#notebook-container');\n",
       "if (notebookContainer) {{\n",
       "    x.observe(notebookContainer, {childList: true});\n",
       "}}\n",
       "\n",
       "// Listen for the clearing of the current output cell\n",
       "var outputEl = gd.closest('.output');\n",
       "if (outputEl) {{\n",
       "    x.observe(outputEl, {childList: true});\n",
       "}}\n",
       "\n",
       "                        })                };                });            </script>        </div>"
      ]
     },
     "metadata": {},
     "output_type": "display_data"
    }
   ],
   "source": [
    "#plot for affordability bar chart (used in presentation)\n",
    "\n",
    "def affordability_bar_func():\n",
    "\n",
    "    affordability_df=combined_df.sort_values(\"Affordability Rent/Median Inc\", ascending=False).dropna()\n",
    "\n",
    "    affordability_bar = px.bar(affordability_df,\n",
    "                       x=\"MSA\",\n",
    "                       y=\"Affordability Rent/Median Inc\",\n",
    "                       color=\"Density\",\n",
    "                       color_continuous_scale='dense',\n",
    "                       title= \"<b>Percentage of Income spent on Rent</b>\",\n",
    "                       height=600\n",
    "                       )\n",
    "\n",
    "    affordability_bar .update_layout(\n",
    "        xaxis_tickfont_size=11,\n",
    "        xaxis = dict(\n",
    "            tickmode = 'linear',\n",
    "            dtick = 1,\n",
    "        ),\n",
    "        yaxis= dict(\n",
    "        tickformat=',.0%',\n",
    "        range= [0,.45],\n",
    "        title=''\n",
    "        )\n",
    "    )                        \n",
    "               \n",
    "    return affordability_bar\n",
    "                                 \n",
    "affordability_bar_func() #this line is just for show in this notebook but the above function should be used for the dashboard"
   ]
  },
  {
   "cell_type": "code",
   "execution_count": 42,
   "metadata": {},
   "outputs": [
    {
     "data": {
      "application/vnd.plotly.v1+json": {
       "config": {
        "plotlyServerURL": "https://plot.ly"
       },
       "data": [
        {
         "customdata": [
          [
           0.38812456605035106
          ],
          [
           0.3870731120731121
          ],
          [
           0.3797409421193528
          ],
          [
           0.3319296226546697
          ],
          [
           0.3277251890218492
          ],
          [
           0.32580263269160303
          ],
          [
           0.3220268982314942
          ],
          [
           0.3202892879400553
          ],
          [
           0.3102959969605913
          ],
          [
           0.3003769520732364
          ],
          [
           0.2964463298445704
          ],
          [
           0.2839338249340924
          ],
          [
           0.28064845646665515
          ],
          [
           0.2782405803970178
          ],
          [
           0.2769144525851954
          ],
          [
           0.27525580869466904
          ],
          [
           0.2750820938767626
          ],
          [
           0.2704463060442824
          ],
          [
           0.2688102790345694
          ],
          [
           0.2673422333551564
          ],
          [
           0.26346782331059204
          ],
          [
           0.2560952697527207
          ],
          [
           0.2560852418183076
          ],
          [
           0.25581726575157115
          ],
          [
           0.25434194753421985
          ],
          [
           0.2541424603866744
          ],
          [
           0.2527624087883891
          ],
          [
           0.24901904093180785
          ],
          [
           0.2477760103687993
          ],
          [
           0.2450228278511461
          ],
          [
           0.24468503727652696
          ],
          [
           0.24408014571948997
          ],
          [
           0.23958205169460245
          ],
          [
           0.2387686387686388
          ],
          [
           0.2303900980803913
          ],
          [
           0.2303365114165789
          ],
          [
           0.23031477455336044
          ],
          [
           0.2301066447908121
          ],
          [
           0.2296086525231193
          ],
          [
           0.22530634819129264
          ],
          [
           0.2240391625872305
          ],
          [
           0.22302802934359245
          ],
          [
           0.2143808454919566
          ],
          [
           0.20864615130764788
          ],
          [
           0.20687130854338245
          ],
          [
           0.1993163853877377
          ],
          [
           0.19925582808109954
          ],
          [
           0.19825785457490802
          ],
          [
           0.1935851240595187
          ]
         ],
         "hovertemplate": "<b>%{hovertext}</b><br><br>Median income (dollars)=%{x}<br>2019 Annualized Rent=%{y}<br>Affordability Rent/Median Inc=%{customdata[0]}<br>Density=%{marker.color}<extra></extra>",
         "hovertext": [
          "Los Angeles, CA",
          "New York, NY",
          "Miami, FL",
          "San Francisco, CA",
          "San Diego, CA",
          "Riverside, CA",
          "Boston, MA",
          "Stockton, CA",
          "Tampa, FL",
          "New Orleans, LA",
          "Fresno, CA",
          "San Jose, CA",
          "Chicago, IL",
          "Memphis, TN",
          "Sacramento, CA",
          "Bakersfield, CA",
          "Greensboro, NC",
          "El Paso, TX",
          "Las Vegas, NV",
          "Nashville, TN",
          "Charlotte, NC",
          "Houston, TX",
          "Dallas, TX",
          "Tucson, AZ",
          "Atlanta, GA",
          "Philadelphia, PA",
          "San Antonio, TX",
          "Colorado Springs, CO",
          "Phoenix, AZ",
          "Denver, CO",
          "Seattle, WA",
          "Jacksonville, FL",
          "Washington, DC",
          "Baltimore, MD",
          "Austin, TX",
          "Virginia Beach, VA",
          "Detroit, MI",
          "Albuquerque, NM",
          "Indianapolis, IN",
          "Tulsa, OK",
          "Columbus, OH",
          "Minneapolis, MN",
          "Cincinnati, OH",
          "Oklahoma City, OK",
          "Buffalo, NY",
          "Kansas City, MO",
          "Milwaukee, WI",
          "Omaha, NE",
          "Toledo, OH"
         ],
         "legendgroup": "",
         "marker": {
          "color": [
           3276,
           10715,
           5019,
           7256,
           1686,
           1574,
           5532,
           1941,
           1353,
           889,
           1789,
           2218,
           4574,
           792,
           2029,
           990,
           887,
           1022,
           1773,
           544,
           1113,
           1399,
           1526,
           889,
           1441,
           4554,
           1231,
           946,
           1253,
           1831,
           3469,
           470,
           4457,
           2830,
           1181,
           709,
           1864,
           1155,
           935,
           784,
           1582,
           3071,
           1507,
           417,
           2441,
           607,
           2369,
           1309,
           1308
          ],
          "coloraxis": "coloraxis",
          "size": 12,
          "symbol": "circle"
         },
         "mode": "markers",
         "name": "",
         "orientation": "v",
         "showlegend": false,
         "type": "scatter",
         "x": [
          77774,
          83160,
          60141,
          114696,
          83985,
          70954,
          94430,
          68997,
          57906,
          55710,
          57518,
          130865,
          75379,
          54859,
          76706,
          53067,
          51770,
          48823,
          62107,
          70262,
          66399,
          69193,
          72265,
          56169,
          71742,
          74533,
          62355,
          72633,
          67896,
          85641,
          94027,
          65880,
          105659,
          83160,
          80954,
          69329,
          63474,
          58512,
          62502,
          57859,
          67207,
          83698,
          66825,
          60605,
          60105,
          70215,
          65845,
          70373,
          53563
         ],
         "xaxis": "x",
         "y": [
          30186,
          32189,
          22838,
          38071,
          27524,
          23117,
          30409,
          22099,
          17968,
          16734,
          17051,
          37157,
          21155,
          15264,
          21241,
          14607,
          14241,
          13204,
          16695,
          18784,
          17494,
          17720,
          18506,
          14369,
          18247,
          18942,
          15761,
          18087,
          16823,
          20984,
          23007,
          16080,
          25314,
          19856,
          18651,
          15969,
          14619,
          13464,
          14351,
          13036,
          15057,
          18667,
          14326,
          12645,
          12434,
          13995,
          13120,
          13952,
          10369
         ],
         "yaxis": "y"
        },
        {
         "hovertemplate": "<b>OLS trendline</b><br>2019 Annualized Rent = 0.322237 * Median income (dollars) + -4030.5<br>R<sup>2</sup>=0.696202<br><br>Median income (dollars)=%{x}<br>2019 Annualized Rent=%{y} <b>(trend)</b><extra></extra>",
         "legendgroup": "",
         "line": {
          "color": "blue"
         },
         "marker": {
          "size": 12,
          "symbol": "circle"
         },
         "mode": "lines",
         "name": "",
         "showlegend": false,
         "type": "scatter",
         "x": [
          48823,
          51770,
          53067,
          53563,
          54859,
          55710,
          56169,
          57518,
          57859,
          57906,
          58512,
          60105,
          60141,
          60605,
          62107,
          62355,
          62502,
          63474,
          65845,
          65880,
          66399,
          66825,
          67207,
          67896,
          68997,
          69193,
          69329,
          70215,
          70262,
          70373,
          70954,
          71742,
          72265,
          72633,
          74533,
          75379,
          76706,
          77774,
          80954,
          83160,
          83160,
          83698,
          83985,
          85641,
          94027,
          94430,
          105659,
          114696,
          130865
         ],
         "xaxis": "x",
         "y": [
          11702.061887517832,
          12651.693136611093,
          13069.634001922926,
          13229.463353653586,
          13647.081982369184,
          13921.305325761912,
          14069.211923432022,
          14503.909091747873,
          14613.791771062703,
          14628.936891085568,
          14824.212268401656,
          15337.535166197913,
          15349.135683662234,
          15498.6534643135,
          15982.652831852722,
          16062.567507718051,
          16109.936287364033,
          16423.150258900736,
          17187.17322856484,
          17198.451509432933,
          17365.69230287691,
          17502.96509287139,
          17626.0594726317,
          17848.080487434978,
          18202.862979885496,
          18266.021352746808,
          18309.845529834245,
          18595.347154095063,
          18610.492274117925,
          18646.26053629959,
          18833.479998709903,
          19087.402436540062,
          19255.932176368966,
          19374.515243782036,
          19986.76477662126,
          20259.376937032837,
          20686.984900231604,
          21031.133585006493,
          22055.845961021623,
          22766.699892307588,
          22766.699892307588,
          22940.063181079953,
          23032.545084198304,
          23566.168887557127,
          26268.44498355173,
          26398.306331832893,
          30016.701070912728,
          32928.753191053824,
          38138.99671551565
         ],
         "yaxis": "y"
        }
       ],
       "layout": {
        "coloraxis": {
         "colorbar": {
          "title": {
           "text": "Density"
          }
         },
         "colorscale": [
          [
           0,
           "rgb(230, 240, 240)"
          ],
          [
           0.09090909090909091,
           "rgb(191, 221, 229)"
          ],
          [
           0.18181818181818182,
           "rgb(156, 201, 226)"
          ],
          [
           0.2727272727272727,
           "rgb(129, 180, 227)"
          ],
          [
           0.36363636363636365,
           "rgb(115, 154, 228)"
          ],
          [
           0.45454545454545453,
           "rgb(117, 127, 221)"
          ],
          [
           0.5454545454545454,
           "rgb(120, 100, 202)"
          ],
          [
           0.6363636363636364,
           "rgb(119, 74, 175)"
          ],
          [
           0.7272727272727273,
           "rgb(113, 50, 141)"
          ],
          [
           0.8181818181818182,
           "rgb(100, 31, 104)"
          ],
          [
           0.9090909090909091,
           "rgb(80, 20, 66)"
          ],
          [
           1,
           "rgb(54, 14, 36)"
          ]
         ]
        },
        "height": 500,
        "legend": {
         "tracegroupgap": 0
        },
        "template": {
         "data": {
          "bar": [
           {
            "error_x": {
             "color": "#2a3f5f"
            },
            "error_y": {
             "color": "#2a3f5f"
            },
            "marker": {
             "line": {
              "color": "#E5ECF6",
              "width": 0.5
             }
            },
            "type": "bar"
           }
          ],
          "barpolar": [
           {
            "marker": {
             "line": {
              "color": "#E5ECF6",
              "width": 0.5
             }
            },
            "type": "barpolar"
           }
          ],
          "carpet": [
           {
            "aaxis": {
             "endlinecolor": "#2a3f5f",
             "gridcolor": "white",
             "linecolor": "white",
             "minorgridcolor": "white",
             "startlinecolor": "#2a3f5f"
            },
            "baxis": {
             "endlinecolor": "#2a3f5f",
             "gridcolor": "white",
             "linecolor": "white",
             "minorgridcolor": "white",
             "startlinecolor": "#2a3f5f"
            },
            "type": "carpet"
           }
          ],
          "choropleth": [
           {
            "colorbar": {
             "outlinewidth": 0,
             "ticks": ""
            },
            "type": "choropleth"
           }
          ],
          "contour": [
           {
            "colorbar": {
             "outlinewidth": 0,
             "ticks": ""
            },
            "colorscale": [
             [
              0,
              "#0d0887"
             ],
             [
              0.1111111111111111,
              "#46039f"
             ],
             [
              0.2222222222222222,
              "#7201a8"
             ],
             [
              0.3333333333333333,
              "#9c179e"
             ],
             [
              0.4444444444444444,
              "#bd3786"
             ],
             [
              0.5555555555555556,
              "#d8576b"
             ],
             [
              0.6666666666666666,
              "#ed7953"
             ],
             [
              0.7777777777777778,
              "#fb9f3a"
             ],
             [
              0.8888888888888888,
              "#fdca26"
             ],
             [
              1,
              "#f0f921"
             ]
            ],
            "type": "contour"
           }
          ],
          "contourcarpet": [
           {
            "colorbar": {
             "outlinewidth": 0,
             "ticks": ""
            },
            "type": "contourcarpet"
           }
          ],
          "heatmap": [
           {
            "colorbar": {
             "outlinewidth": 0,
             "ticks": ""
            },
            "colorscale": [
             [
              0,
              "#0d0887"
             ],
             [
              0.1111111111111111,
              "#46039f"
             ],
             [
              0.2222222222222222,
              "#7201a8"
             ],
             [
              0.3333333333333333,
              "#9c179e"
             ],
             [
              0.4444444444444444,
              "#bd3786"
             ],
             [
              0.5555555555555556,
              "#d8576b"
             ],
             [
              0.6666666666666666,
              "#ed7953"
             ],
             [
              0.7777777777777778,
              "#fb9f3a"
             ],
             [
              0.8888888888888888,
              "#fdca26"
             ],
             [
              1,
              "#f0f921"
             ]
            ],
            "type": "heatmap"
           }
          ],
          "heatmapgl": [
           {
            "colorbar": {
             "outlinewidth": 0,
             "ticks": ""
            },
            "colorscale": [
             [
              0,
              "#0d0887"
             ],
             [
              0.1111111111111111,
              "#46039f"
             ],
             [
              0.2222222222222222,
              "#7201a8"
             ],
             [
              0.3333333333333333,
              "#9c179e"
             ],
             [
              0.4444444444444444,
              "#bd3786"
             ],
             [
              0.5555555555555556,
              "#d8576b"
             ],
             [
              0.6666666666666666,
              "#ed7953"
             ],
             [
              0.7777777777777778,
              "#fb9f3a"
             ],
             [
              0.8888888888888888,
              "#fdca26"
             ],
             [
              1,
              "#f0f921"
             ]
            ],
            "type": "heatmapgl"
           }
          ],
          "histogram": [
           {
            "marker": {
             "colorbar": {
              "outlinewidth": 0,
              "ticks": ""
             }
            },
            "type": "histogram"
           }
          ],
          "histogram2d": [
           {
            "colorbar": {
             "outlinewidth": 0,
             "ticks": ""
            },
            "colorscale": [
             [
              0,
              "#0d0887"
             ],
             [
              0.1111111111111111,
              "#46039f"
             ],
             [
              0.2222222222222222,
              "#7201a8"
             ],
             [
              0.3333333333333333,
              "#9c179e"
             ],
             [
              0.4444444444444444,
              "#bd3786"
             ],
             [
              0.5555555555555556,
              "#d8576b"
             ],
             [
              0.6666666666666666,
              "#ed7953"
             ],
             [
              0.7777777777777778,
              "#fb9f3a"
             ],
             [
              0.8888888888888888,
              "#fdca26"
             ],
             [
              1,
              "#f0f921"
             ]
            ],
            "type": "histogram2d"
           }
          ],
          "histogram2dcontour": [
           {
            "colorbar": {
             "outlinewidth": 0,
             "ticks": ""
            },
            "colorscale": [
             [
              0,
              "#0d0887"
             ],
             [
              0.1111111111111111,
              "#46039f"
             ],
             [
              0.2222222222222222,
              "#7201a8"
             ],
             [
              0.3333333333333333,
              "#9c179e"
             ],
             [
              0.4444444444444444,
              "#bd3786"
             ],
             [
              0.5555555555555556,
              "#d8576b"
             ],
             [
              0.6666666666666666,
              "#ed7953"
             ],
             [
              0.7777777777777778,
              "#fb9f3a"
             ],
             [
              0.8888888888888888,
              "#fdca26"
             ],
             [
              1,
              "#f0f921"
             ]
            ],
            "type": "histogram2dcontour"
           }
          ],
          "mesh3d": [
           {
            "colorbar": {
             "outlinewidth": 0,
             "ticks": ""
            },
            "type": "mesh3d"
           }
          ],
          "parcoords": [
           {
            "line": {
             "colorbar": {
              "outlinewidth": 0,
              "ticks": ""
             }
            },
            "type": "parcoords"
           }
          ],
          "pie": [
           {
            "automargin": true,
            "type": "pie"
           }
          ],
          "scatter": [
           {
            "marker": {
             "colorbar": {
              "outlinewidth": 0,
              "ticks": ""
             }
            },
            "type": "scatter"
           }
          ],
          "scatter3d": [
           {
            "line": {
             "colorbar": {
              "outlinewidth": 0,
              "ticks": ""
             }
            },
            "marker": {
             "colorbar": {
              "outlinewidth": 0,
              "ticks": ""
             }
            },
            "type": "scatter3d"
           }
          ],
          "scattercarpet": [
           {
            "marker": {
             "colorbar": {
              "outlinewidth": 0,
              "ticks": ""
             }
            },
            "type": "scattercarpet"
           }
          ],
          "scattergeo": [
           {
            "marker": {
             "colorbar": {
              "outlinewidth": 0,
              "ticks": ""
             }
            },
            "type": "scattergeo"
           }
          ],
          "scattergl": [
           {
            "marker": {
             "colorbar": {
              "outlinewidth": 0,
              "ticks": ""
             }
            },
            "type": "scattergl"
           }
          ],
          "scattermapbox": [
           {
            "marker": {
             "colorbar": {
              "outlinewidth": 0,
              "ticks": ""
             }
            },
            "type": "scattermapbox"
           }
          ],
          "scatterpolar": [
           {
            "marker": {
             "colorbar": {
              "outlinewidth": 0,
              "ticks": ""
             }
            },
            "type": "scatterpolar"
           }
          ],
          "scatterpolargl": [
           {
            "marker": {
             "colorbar": {
              "outlinewidth": 0,
              "ticks": ""
             }
            },
            "type": "scatterpolargl"
           }
          ],
          "scatterternary": [
           {
            "marker": {
             "colorbar": {
              "outlinewidth": 0,
              "ticks": ""
             }
            },
            "type": "scatterternary"
           }
          ],
          "surface": [
           {
            "colorbar": {
             "outlinewidth": 0,
             "ticks": ""
            },
            "colorscale": [
             [
              0,
              "#0d0887"
             ],
             [
              0.1111111111111111,
              "#46039f"
             ],
             [
              0.2222222222222222,
              "#7201a8"
             ],
             [
              0.3333333333333333,
              "#9c179e"
             ],
             [
              0.4444444444444444,
              "#bd3786"
             ],
             [
              0.5555555555555556,
              "#d8576b"
             ],
             [
              0.6666666666666666,
              "#ed7953"
             ],
             [
              0.7777777777777778,
              "#fb9f3a"
             ],
             [
              0.8888888888888888,
              "#fdca26"
             ],
             [
              1,
              "#f0f921"
             ]
            ],
            "type": "surface"
           }
          ],
          "table": [
           {
            "cells": {
             "fill": {
              "color": "#EBF0F8"
             },
             "line": {
              "color": "white"
             }
            },
            "header": {
             "fill": {
              "color": "#C8D4E3"
             },
             "line": {
              "color": "white"
             }
            },
            "type": "table"
           }
          ]
         },
         "layout": {
          "annotationdefaults": {
           "arrowcolor": "#2a3f5f",
           "arrowhead": 0,
           "arrowwidth": 1
          },
          "coloraxis": {
           "colorbar": {
            "outlinewidth": 0,
            "ticks": ""
           }
          },
          "colorscale": {
           "diverging": [
            [
             0,
             "#8e0152"
            ],
            [
             0.1,
             "#c51b7d"
            ],
            [
             0.2,
             "#de77ae"
            ],
            [
             0.3,
             "#f1b6da"
            ],
            [
             0.4,
             "#fde0ef"
            ],
            [
             0.5,
             "#f7f7f7"
            ],
            [
             0.6,
             "#e6f5d0"
            ],
            [
             0.7,
             "#b8e186"
            ],
            [
             0.8,
             "#7fbc41"
            ],
            [
             0.9,
             "#4d9221"
            ],
            [
             1,
             "#276419"
            ]
           ],
           "sequential": [
            [
             0,
             "#0d0887"
            ],
            [
             0.1111111111111111,
             "#46039f"
            ],
            [
             0.2222222222222222,
             "#7201a8"
            ],
            [
             0.3333333333333333,
             "#9c179e"
            ],
            [
             0.4444444444444444,
             "#bd3786"
            ],
            [
             0.5555555555555556,
             "#d8576b"
            ],
            [
             0.6666666666666666,
             "#ed7953"
            ],
            [
             0.7777777777777778,
             "#fb9f3a"
            ],
            [
             0.8888888888888888,
             "#fdca26"
            ],
            [
             1,
             "#f0f921"
            ]
           ],
           "sequentialminus": [
            [
             0,
             "#0d0887"
            ],
            [
             0.1111111111111111,
             "#46039f"
            ],
            [
             0.2222222222222222,
             "#7201a8"
            ],
            [
             0.3333333333333333,
             "#9c179e"
            ],
            [
             0.4444444444444444,
             "#bd3786"
            ],
            [
             0.5555555555555556,
             "#d8576b"
            ],
            [
             0.6666666666666666,
             "#ed7953"
            ],
            [
             0.7777777777777778,
             "#fb9f3a"
            ],
            [
             0.8888888888888888,
             "#fdca26"
            ],
            [
             1,
             "#f0f921"
            ]
           ]
          },
          "colorway": [
           "#636efa",
           "#EF553B",
           "#00cc96",
           "#ab63fa",
           "#FFA15A",
           "#19d3f3",
           "#FF6692",
           "#B6E880",
           "#FF97FF",
           "#FECB52"
          ],
          "font": {
           "color": "#2a3f5f"
          },
          "geo": {
           "bgcolor": "white",
           "lakecolor": "white",
           "landcolor": "#E5ECF6",
           "showlakes": true,
           "showland": true,
           "subunitcolor": "white"
          },
          "hoverlabel": {
           "align": "left"
          },
          "hovermode": "closest",
          "mapbox": {
           "style": "light"
          },
          "paper_bgcolor": "white",
          "plot_bgcolor": "#E5ECF6",
          "polar": {
           "angularaxis": {
            "gridcolor": "white",
            "linecolor": "white",
            "ticks": ""
           },
           "bgcolor": "#E5ECF6",
           "radialaxis": {
            "gridcolor": "white",
            "linecolor": "white",
            "ticks": ""
           }
          },
          "scene": {
           "xaxis": {
            "backgroundcolor": "#E5ECF6",
            "gridcolor": "white",
            "gridwidth": 2,
            "linecolor": "white",
            "showbackground": true,
            "ticks": "",
            "zerolinecolor": "white"
           },
           "yaxis": {
            "backgroundcolor": "#E5ECF6",
            "gridcolor": "white",
            "gridwidth": 2,
            "linecolor": "white",
            "showbackground": true,
            "ticks": "",
            "zerolinecolor": "white"
           },
           "zaxis": {
            "backgroundcolor": "#E5ECF6",
            "gridcolor": "white",
            "gridwidth": 2,
            "linecolor": "white",
            "showbackground": true,
            "ticks": "",
            "zerolinecolor": "white"
           }
          },
          "shapedefaults": {
           "line": {
            "color": "#2a3f5f"
           }
          },
          "ternary": {
           "aaxis": {
            "gridcolor": "white",
            "linecolor": "white",
            "ticks": ""
           },
           "baxis": {
            "gridcolor": "white",
            "linecolor": "white",
            "ticks": ""
           },
           "bgcolor": "#E5ECF6",
           "caxis": {
            "gridcolor": "white",
            "linecolor": "white",
            "ticks": ""
           }
          },
          "title": {
           "x": 0.05
          },
          "xaxis": {
           "automargin": true,
           "gridcolor": "white",
           "linecolor": "white",
           "ticks": "",
           "title": {
            "standoff": 15
           },
           "zerolinecolor": "white",
           "zerolinewidth": 2
          },
          "yaxis": {
           "automargin": true,
           "gridcolor": "white",
           "linecolor": "white",
           "ticks": "",
           "title": {
            "standoff": 15
           },
           "zerolinecolor": "white",
           "zerolinewidth": 2
          }
         }
        },
        "title": {
         "text": "<b>US cities: Rent, Median Income and Population Density</b>"
        },
        "width": 600,
        "xaxis": {
         "anchor": "y",
         "domain": [
          0,
          1
         ],
         "title": {
          "text": "Median income (dollars)"
         }
        },
        "yaxis": {
         "anchor": "x",
         "domain": [
          0,
          1
         ],
         "title": {
          "text": "2019 Annualized Rent"
         }
        }
       }
      },
      "text/html": [
       "<div>                            <div id=\"2ff3389e-a7c8-4df7-b7b5-1a16879687d8\" class=\"plotly-graph-div\" style=\"height:500px; width:600px;\"></div>            <script type=\"text/javascript\">                require([\"plotly\"], function(Plotly) {                    window.PLOTLYENV=window.PLOTLYENV || {};                                    if (document.getElementById(\"2ff3389e-a7c8-4df7-b7b5-1a16879687d8\")) {                    Plotly.newPlot(                        \"2ff3389e-a7c8-4df7-b7b5-1a16879687d8\",                        [{\"customdata\": [[0.38812456605035106], [0.3870731120731121], [0.3797409421193528], [0.3319296226546697], [0.3277251890218492], [0.32580263269160303], [0.3220268982314942], [0.3202892879400553], [0.3102959969605913], [0.3003769520732364], [0.2964463298445704], [0.2839338249340924], [0.28064845646665515], [0.2782405803970178], [0.2769144525851954], [0.27525580869466904], [0.2750820938767626], [0.2704463060442824], [0.2688102790345694], [0.2673422333551564], [0.26346782331059204], [0.2560952697527207], [0.2560852418183076], [0.25581726575157115], [0.25434194753421985], [0.2541424603866744], [0.2527624087883891], [0.24901904093180785], [0.2477760103687993], [0.2450228278511461], [0.24468503727652696], [0.24408014571948997], [0.23958205169460245], [0.2387686387686388], [0.2303900980803913], [0.2303365114165789], [0.23031477455336044], [0.2301066447908121], [0.2296086525231193], [0.22530634819129264], [0.2240391625872305], [0.22302802934359245], [0.2143808454919566], [0.20864615130764788], [0.20687130854338245], [0.1993163853877377], [0.19925582808109954], [0.19825785457490802], [0.1935851240595187]], \"hovertemplate\": \"<b>%{hovertext}</b><br><br>Median income (dollars)=%{x}<br>2019 Annualized Rent=%{y}<br>Affordability Rent/Median Inc=%{customdata[0]}<br>Density=%{marker.color}<extra></extra>\", \"hovertext\": [\"Los Angeles, CA\", \"New York, NY\", \"Miami, FL\", \"San Francisco, CA\", \"San Diego, CA\", \"Riverside, CA\", \"Boston, MA\", \"Stockton, CA\", \"Tampa, FL\", \"New Orleans, LA\", \"Fresno, CA\", \"San Jose, CA\", \"Chicago, IL\", \"Memphis, TN\", \"Sacramento, CA\", \"Bakersfield, CA\", \"Greensboro, NC\", \"El Paso, TX\", \"Las Vegas, NV\", \"Nashville, TN\", \"Charlotte, NC\", \"Houston, TX\", \"Dallas, TX\", \"Tucson, AZ\", \"Atlanta, GA\", \"Philadelphia, PA\", \"San Antonio, TX\", \"Colorado Springs, CO\", \"Phoenix, AZ\", \"Denver, CO\", \"Seattle, WA\", \"Jacksonville, FL\", \"Washington, DC\", \"Baltimore, MD\", \"Austin, TX\", \"Virginia Beach, VA\", \"Detroit, MI\", \"Albuquerque, NM\", \"Indianapolis, IN\", \"Tulsa, OK\", \"Columbus, OH\", \"Minneapolis, MN\", \"Cincinnati, OH\", \"Oklahoma City, OK\", \"Buffalo, NY\", \"Kansas City, MO\", \"Milwaukee, WI\", \"Omaha, NE\", \"Toledo, OH\"], \"legendgroup\": \"\", \"marker\": {\"color\": [3276.0, 10715.0, 5019.0, 7256.0, 1686.0, 1574.0, 5532.0, 1941.0, 1353.0, 889.0, 1789.0, 2218.0, 4574.0, 792.0, 2029.0, 990.0, 887.0, 1022.0, 1773.0, 544.0, 1113.0, 1399.0, 1526.0, 889.0, 1441.0, 4554.0, 1231.0, 946.0, 1253.0, 1831.0, 3469.0, 470.0, 4457.0, 2830.0, 1181.0, 709.0, 1864.0, 1155.0, 935.0, 784.0, 1582.0, 3071.0, 1507.0, 417.0, 2441.0, 607.0, 2369.0, 1309.0, 1308.0], \"coloraxis\": \"coloraxis\", \"size\": 12, \"symbol\": \"circle\"}, \"mode\": \"markers\", \"name\": \"\", \"orientation\": \"v\", \"showlegend\": false, \"type\": \"scatter\", \"x\": [77774.0, 83160.0, 60141.0, 114696.0, 83985.0, 70954.0, 94430.0, 68997.0, 57906.0, 55710.0, 57518.0, 130865.0, 75379.0, 54859.0, 76706.0, 53067.0, 51770.0, 48823.0, 62107.0, 70262.0, 66399.0, 69193.0, 72265.0, 56169.0, 71742.0, 74533.0, 62355.0, 72633.0, 67896.0, 85641.0, 94027.0, 65880.0, 105659.0, 83160.0, 80954.0, 69329.0, 63474.0, 58512.0, 62502.0, 57859.0, 67207.0, 83698.0, 66825.0, 60605.0, 60105.0, 70215.0, 65845.0, 70373.0, 53563.0], \"xaxis\": \"x\", \"y\": [30186.0, 32189.0, 22838.0, 38071.0, 27524.0, 23117.0, 30409.0, 22099.0, 17968.0, 16734.0, 17051.0, 37157.0, 21155.0, 15264.0, 21241.0, 14607.0, 14241.0, 13204.0, 16695.0, 18784.0, 17494.0, 17720.0, 18506.0, 14369.0, 18247.0, 18942.0, 15761.0, 18087.0, 16823.0, 20984.0, 23007.0, 16080.0, 25314.0, 19856.0, 18651.0, 15969.0, 14619.0, 13464.0, 14351.0, 13036.0, 15057.0, 18667.0, 14326.0, 12645.0, 12434.0, 13995.0, 13120.0, 13952.0, 10369.0], \"yaxis\": \"y\"}, {\"hovertemplate\": \"<b>OLS trendline</b><br>2019 Annualized Rent = 0.322237 * Median income (dollars) + -4030.5<br>R<sup>2</sup>=0.696202<br><br>Median income (dollars)=%{x}<br>2019 Annualized Rent=%{y} <b>(trend)</b><extra></extra>\", \"legendgroup\": \"\", \"line\": {\"color\": \"blue\"}, \"marker\": {\"size\": 12, \"symbol\": \"circle\"}, \"mode\": \"lines\", \"name\": \"\", \"showlegend\": false, \"type\": \"scatter\", \"x\": [48823.0, 51770.0, 53067.0, 53563.0, 54859.0, 55710.0, 56169.0, 57518.0, 57859.0, 57906.0, 58512.0, 60105.0, 60141.0, 60605.0, 62107.0, 62355.0, 62502.0, 63474.0, 65845.0, 65880.0, 66399.0, 66825.0, 67207.0, 67896.0, 68997.0, 69193.0, 69329.0, 70215.0, 70262.0, 70373.0, 70954.0, 71742.0, 72265.0, 72633.0, 74533.0, 75379.0, 76706.0, 77774.0, 80954.0, 83160.0, 83160.0, 83698.0, 83985.0, 85641.0, 94027.0, 94430.0, 105659.0, 114696.0, 130865.0], \"xaxis\": \"x\", \"y\": [11702.061887517832, 12651.693136611093, 13069.634001922926, 13229.463353653586, 13647.081982369184, 13921.305325761912, 14069.211923432022, 14503.909091747873, 14613.791771062703, 14628.936891085568, 14824.212268401656, 15337.535166197913, 15349.135683662234, 15498.6534643135, 15982.652831852722, 16062.567507718051, 16109.936287364033, 16423.150258900736, 17187.17322856484, 17198.451509432933, 17365.69230287691, 17502.96509287139, 17626.0594726317, 17848.080487434978, 18202.862979885496, 18266.021352746808, 18309.845529834245, 18595.347154095063, 18610.492274117925, 18646.26053629959, 18833.479998709903, 19087.402436540062, 19255.932176368966, 19374.515243782036, 19986.76477662126, 20259.376937032837, 20686.984900231604, 21031.133585006493, 22055.845961021623, 22766.699892307588, 22766.699892307588, 22940.063181079953, 23032.545084198304, 23566.168887557127, 26268.44498355173, 26398.306331832893, 30016.701070912728, 32928.753191053824, 38138.99671551565], \"yaxis\": \"y\"}],                        {\"coloraxis\": {\"colorbar\": {\"title\": {\"text\": \"Density\"}}, \"colorscale\": [[0.0, \"rgb(230, 240, 240)\"], [0.09090909090909091, \"rgb(191, 221, 229)\"], [0.18181818181818182, \"rgb(156, 201, 226)\"], [0.2727272727272727, \"rgb(129, 180, 227)\"], [0.36363636363636365, \"rgb(115, 154, 228)\"], [0.45454545454545453, \"rgb(117, 127, 221)\"], [0.5454545454545454, \"rgb(120, 100, 202)\"], [0.6363636363636364, \"rgb(119, 74, 175)\"], [0.7272727272727273, \"rgb(113, 50, 141)\"], [0.8181818181818182, \"rgb(100, 31, 104)\"], [0.9090909090909091, \"rgb(80, 20, 66)\"], [1.0, \"rgb(54, 14, 36)\"]]}, \"height\": 500, \"legend\": {\"tracegroupgap\": 0}, \"template\": {\"data\": {\"bar\": [{\"error_x\": {\"color\": \"#2a3f5f\"}, \"error_y\": {\"color\": \"#2a3f5f\"}, \"marker\": {\"line\": {\"color\": \"#E5ECF6\", \"width\": 0.5}}, \"type\": \"bar\"}], \"barpolar\": [{\"marker\": {\"line\": {\"color\": \"#E5ECF6\", \"width\": 0.5}}, \"type\": \"barpolar\"}], \"carpet\": [{\"aaxis\": {\"endlinecolor\": \"#2a3f5f\", \"gridcolor\": \"white\", \"linecolor\": \"white\", \"minorgridcolor\": \"white\", \"startlinecolor\": \"#2a3f5f\"}, \"baxis\": {\"endlinecolor\": \"#2a3f5f\", \"gridcolor\": \"white\", \"linecolor\": \"white\", \"minorgridcolor\": \"white\", \"startlinecolor\": \"#2a3f5f\"}, \"type\": \"carpet\"}], \"choropleth\": [{\"colorbar\": {\"outlinewidth\": 0, \"ticks\": \"\"}, \"type\": \"choropleth\"}], \"contour\": [{\"colorbar\": {\"outlinewidth\": 0, \"ticks\": \"\"}, \"colorscale\": [[0.0, \"#0d0887\"], [0.1111111111111111, \"#46039f\"], [0.2222222222222222, \"#7201a8\"], [0.3333333333333333, \"#9c179e\"], [0.4444444444444444, \"#bd3786\"], [0.5555555555555556, \"#d8576b\"], [0.6666666666666666, \"#ed7953\"], [0.7777777777777778, \"#fb9f3a\"], [0.8888888888888888, \"#fdca26\"], [1.0, \"#f0f921\"]], \"type\": \"contour\"}], \"contourcarpet\": [{\"colorbar\": {\"outlinewidth\": 0, \"ticks\": \"\"}, \"type\": \"contourcarpet\"}], \"heatmap\": [{\"colorbar\": {\"outlinewidth\": 0, \"ticks\": \"\"}, \"colorscale\": [[0.0, \"#0d0887\"], [0.1111111111111111, \"#46039f\"], [0.2222222222222222, \"#7201a8\"], [0.3333333333333333, \"#9c179e\"], [0.4444444444444444, \"#bd3786\"], [0.5555555555555556, \"#d8576b\"], [0.6666666666666666, \"#ed7953\"], [0.7777777777777778, \"#fb9f3a\"], [0.8888888888888888, \"#fdca26\"], [1.0, \"#f0f921\"]], \"type\": \"heatmap\"}], \"heatmapgl\": [{\"colorbar\": {\"outlinewidth\": 0, \"ticks\": \"\"}, \"colorscale\": [[0.0, \"#0d0887\"], [0.1111111111111111, \"#46039f\"], [0.2222222222222222, \"#7201a8\"], [0.3333333333333333, \"#9c179e\"], [0.4444444444444444, \"#bd3786\"], [0.5555555555555556, \"#d8576b\"], [0.6666666666666666, \"#ed7953\"], [0.7777777777777778, \"#fb9f3a\"], [0.8888888888888888, \"#fdca26\"], [1.0, \"#f0f921\"]], \"type\": \"heatmapgl\"}], \"histogram\": [{\"marker\": {\"colorbar\": {\"outlinewidth\": 0, \"ticks\": \"\"}}, \"type\": \"histogram\"}], \"histogram2d\": [{\"colorbar\": {\"outlinewidth\": 0, \"ticks\": \"\"}, \"colorscale\": [[0.0, \"#0d0887\"], [0.1111111111111111, \"#46039f\"], [0.2222222222222222, \"#7201a8\"], [0.3333333333333333, \"#9c179e\"], [0.4444444444444444, \"#bd3786\"], [0.5555555555555556, \"#d8576b\"], [0.6666666666666666, \"#ed7953\"], [0.7777777777777778, \"#fb9f3a\"], [0.8888888888888888, \"#fdca26\"], [1.0, \"#f0f921\"]], \"type\": \"histogram2d\"}], \"histogram2dcontour\": [{\"colorbar\": {\"outlinewidth\": 0, \"ticks\": \"\"}, \"colorscale\": [[0.0, \"#0d0887\"], [0.1111111111111111, \"#46039f\"], [0.2222222222222222, \"#7201a8\"], [0.3333333333333333, \"#9c179e\"], [0.4444444444444444, \"#bd3786\"], [0.5555555555555556, \"#d8576b\"], [0.6666666666666666, \"#ed7953\"], [0.7777777777777778, \"#fb9f3a\"], [0.8888888888888888, \"#fdca26\"], [1.0, \"#f0f921\"]], \"type\": \"histogram2dcontour\"}], \"mesh3d\": [{\"colorbar\": {\"outlinewidth\": 0, \"ticks\": \"\"}, \"type\": \"mesh3d\"}], \"parcoords\": [{\"line\": {\"colorbar\": {\"outlinewidth\": 0, \"ticks\": \"\"}}, \"type\": \"parcoords\"}], \"pie\": [{\"automargin\": true, \"type\": \"pie\"}], \"scatter\": [{\"marker\": {\"colorbar\": {\"outlinewidth\": 0, \"ticks\": \"\"}}, \"type\": \"scatter\"}], \"scatter3d\": [{\"line\": {\"colorbar\": {\"outlinewidth\": 0, \"ticks\": \"\"}}, \"marker\": {\"colorbar\": {\"outlinewidth\": 0, \"ticks\": \"\"}}, \"type\": \"scatter3d\"}], \"scattercarpet\": [{\"marker\": {\"colorbar\": {\"outlinewidth\": 0, \"ticks\": \"\"}}, \"type\": \"scattercarpet\"}], \"scattergeo\": [{\"marker\": {\"colorbar\": {\"outlinewidth\": 0, \"ticks\": \"\"}}, \"type\": \"scattergeo\"}], \"scattergl\": [{\"marker\": {\"colorbar\": {\"outlinewidth\": 0, \"ticks\": \"\"}}, \"type\": \"scattergl\"}], \"scattermapbox\": [{\"marker\": {\"colorbar\": {\"outlinewidth\": 0, \"ticks\": \"\"}}, \"type\": \"scattermapbox\"}], \"scatterpolar\": [{\"marker\": {\"colorbar\": {\"outlinewidth\": 0, \"ticks\": \"\"}}, \"type\": \"scatterpolar\"}], \"scatterpolargl\": [{\"marker\": {\"colorbar\": {\"outlinewidth\": 0, \"ticks\": \"\"}}, \"type\": \"scatterpolargl\"}], \"scatterternary\": [{\"marker\": {\"colorbar\": {\"outlinewidth\": 0, \"ticks\": \"\"}}, \"type\": \"scatterternary\"}], \"surface\": [{\"colorbar\": {\"outlinewidth\": 0, \"ticks\": \"\"}, \"colorscale\": [[0.0, \"#0d0887\"], [0.1111111111111111, \"#46039f\"], [0.2222222222222222, \"#7201a8\"], [0.3333333333333333, \"#9c179e\"], [0.4444444444444444, \"#bd3786\"], [0.5555555555555556, \"#d8576b\"], [0.6666666666666666, \"#ed7953\"], [0.7777777777777778, \"#fb9f3a\"], [0.8888888888888888, \"#fdca26\"], [1.0, \"#f0f921\"]], \"type\": \"surface\"}], \"table\": [{\"cells\": {\"fill\": {\"color\": \"#EBF0F8\"}, \"line\": {\"color\": \"white\"}}, \"header\": {\"fill\": {\"color\": \"#C8D4E3\"}, \"line\": {\"color\": \"white\"}}, \"type\": \"table\"}]}, \"layout\": {\"annotationdefaults\": {\"arrowcolor\": \"#2a3f5f\", \"arrowhead\": 0, \"arrowwidth\": 1}, \"coloraxis\": {\"colorbar\": {\"outlinewidth\": 0, \"ticks\": \"\"}}, \"colorscale\": {\"diverging\": [[0, \"#8e0152\"], [0.1, \"#c51b7d\"], [0.2, \"#de77ae\"], [0.3, \"#f1b6da\"], [0.4, \"#fde0ef\"], [0.5, \"#f7f7f7\"], [0.6, \"#e6f5d0\"], [0.7, \"#b8e186\"], [0.8, \"#7fbc41\"], [0.9, \"#4d9221\"], [1, \"#276419\"]], \"sequential\": [[0.0, \"#0d0887\"], [0.1111111111111111, \"#46039f\"], [0.2222222222222222, \"#7201a8\"], [0.3333333333333333, \"#9c179e\"], [0.4444444444444444, \"#bd3786\"], [0.5555555555555556, \"#d8576b\"], [0.6666666666666666, \"#ed7953\"], [0.7777777777777778, \"#fb9f3a\"], [0.8888888888888888, \"#fdca26\"], [1.0, \"#f0f921\"]], \"sequentialminus\": [[0.0, \"#0d0887\"], [0.1111111111111111, \"#46039f\"], [0.2222222222222222, \"#7201a8\"], [0.3333333333333333, \"#9c179e\"], [0.4444444444444444, \"#bd3786\"], [0.5555555555555556, \"#d8576b\"], [0.6666666666666666, \"#ed7953\"], [0.7777777777777778, \"#fb9f3a\"], [0.8888888888888888, \"#fdca26\"], [1.0, \"#f0f921\"]]}, \"colorway\": [\"#636efa\", \"#EF553B\", \"#00cc96\", \"#ab63fa\", \"#FFA15A\", \"#19d3f3\", \"#FF6692\", \"#B6E880\", \"#FF97FF\", \"#FECB52\"], \"font\": {\"color\": \"#2a3f5f\"}, \"geo\": {\"bgcolor\": \"white\", \"lakecolor\": \"white\", \"landcolor\": \"#E5ECF6\", \"showlakes\": true, \"showland\": true, \"subunitcolor\": \"white\"}, \"hoverlabel\": {\"align\": \"left\"}, \"hovermode\": \"closest\", \"mapbox\": {\"style\": \"light\"}, \"paper_bgcolor\": \"white\", \"plot_bgcolor\": \"#E5ECF6\", \"polar\": {\"angularaxis\": {\"gridcolor\": \"white\", \"linecolor\": \"white\", \"ticks\": \"\"}, \"bgcolor\": \"#E5ECF6\", \"radialaxis\": {\"gridcolor\": \"white\", \"linecolor\": \"white\", \"ticks\": \"\"}}, \"scene\": {\"xaxis\": {\"backgroundcolor\": \"#E5ECF6\", \"gridcolor\": \"white\", \"gridwidth\": 2, \"linecolor\": \"white\", \"showbackground\": true, \"ticks\": \"\", \"zerolinecolor\": \"white\"}, \"yaxis\": {\"backgroundcolor\": \"#E5ECF6\", \"gridcolor\": \"white\", \"gridwidth\": 2, \"linecolor\": \"white\", \"showbackground\": true, \"ticks\": \"\", \"zerolinecolor\": \"white\"}, \"zaxis\": {\"backgroundcolor\": \"#E5ECF6\", \"gridcolor\": \"white\", \"gridwidth\": 2, \"linecolor\": \"white\", \"showbackground\": true, \"ticks\": \"\", \"zerolinecolor\": \"white\"}}, \"shapedefaults\": {\"line\": {\"color\": \"#2a3f5f\"}}, \"ternary\": {\"aaxis\": {\"gridcolor\": \"white\", \"linecolor\": \"white\", \"ticks\": \"\"}, \"baxis\": {\"gridcolor\": \"white\", \"linecolor\": \"white\", \"ticks\": \"\"}, \"bgcolor\": \"#E5ECF6\", \"caxis\": {\"gridcolor\": \"white\", \"linecolor\": \"white\", \"ticks\": \"\"}}, \"title\": {\"x\": 0.05}, \"xaxis\": {\"automargin\": true, \"gridcolor\": \"white\", \"linecolor\": \"white\", \"ticks\": \"\", \"title\": {\"standoff\": 15}, \"zerolinecolor\": \"white\", \"zerolinewidth\": 2}, \"yaxis\": {\"automargin\": true, \"gridcolor\": \"white\", \"linecolor\": \"white\", \"ticks\": \"\", \"title\": {\"standoff\": 15}, \"zerolinecolor\": \"white\", \"zerolinewidth\": 2}}}, \"title\": {\"text\": \"<b>US cities: Rent, Median Income and Population Density</b>\"}, \"width\": 600, \"xaxis\": {\"anchor\": \"y\", \"domain\": [0.0, 1.0], \"title\": {\"text\": \"Median income (dollars)\"}}, \"yaxis\": {\"anchor\": \"x\", \"domain\": [0.0, 1.0], \"title\": {\"text\": \"2019 Annualized Rent\"}}},                        {\"responsive\": true}                    ).then(function(){\n",
       "                            \n",
       "var gd = document.getElementById('2ff3389e-a7c8-4df7-b7b5-1a16879687d8');\n",
       "var x = new MutationObserver(function (mutations, observer) {{\n",
       "        var display = window.getComputedStyle(gd).display;\n",
       "        if (!display || display === 'none') {{\n",
       "            console.log([gd, 'removed!']);\n",
       "            Plotly.purge(gd);\n",
       "            observer.disconnect();\n",
       "        }}\n",
       "}});\n",
       "\n",
       "// Listen for the removal of the full notebook cells\n",
       "var notebookContainer = gd.closest('#notebook-container');\n",
       "if (notebookContainer) {{\n",
       "    x.observe(notebookContainer, {childList: true});\n",
       "}}\n",
       "\n",
       "// Listen for the clearing of the current output cell\n",
       "var outputEl = gd.closest('.output');\n",
       "if (outputEl) {{\n",
       "    x.observe(outputEl, {childList: true});\n",
       "}}\n",
       "\n",
       "                        })                };                });            </script>        </div>"
      ]
     },
     "metadata": {},
     "output_type": "display_data"
    }
   ],
   "source": [
    "#plot for affordability scatter with trendline (used in presentation)\n",
    "\n",
    "def affordability_scatter_func():\n",
    "\n",
    "    affordability_df=combined_df.sort_values(\"Affordability Rent/Median Inc\", ascending=False).dropna()\n",
    "\n",
    "    affordability_scatter = px.scatter(affordability_df,\n",
    "                       x='Median income (dollars)',\n",
    "                       y='2019 Annualized Rent',\n",
    "                       color='Density',   \n",
    "                       width=600,\n",
    "                       height=500,\n",
    "                       trendline=\"ols\",\n",
    "                       trendline_color_override=\"blue\",\n",
    "                       title= \"<b>US cities: Rent, Median Income and Population Density</b>\",\n",
    "                       hover_name=\"MSA\",\n",
    "                       color_continuous_scale='dense',\n",
    "                       hover_data=[\"Affordability Rent/Median Inc\"])\n",
    "\n",
    "    affordability_scatter .update_traces(marker=dict(size=12))\n",
    "               \n",
    "    return affordability_scatter\n",
    "                                 \n",
    "affordability_scatter_func() #this line is just for show in this notebook but the above function should be used for the dashboard"
   ]
  },
  {
   "cell_type": "markdown",
   "metadata": {},
   "source": [
    "### Boxplot for Monte Carlo"
   ]
  },
  {
   "cell_type": "code",
   "execution_count": 43,
   "metadata": {},
   "outputs": [],
   "source": [
    "# Import the CSVs to Pandas DataFrames\n",
    "mcoutput_path = Path(\"../Data/mc_output.csv\")\n",
    "mc_data = pd.read_csv(mcoutput_path)"
   ]
  },
  {
   "cell_type": "code",
   "execution_count": 44,
   "metadata": {},
   "outputs": [
    {
     "data": {
      "application/vnd.plotly.v1+json": {
       "config": {
        "plotlyServerURL": "https://plot.ly"
       },
       "data": [
        {
         "alignmentgroup": "True",
         "hovertemplate": "variable=%{x}<br>value=%{y}<extra></extra>",
         "legendgroup": "",
         "marker": {
          "color": "#636efa"
         },
         "name": "",
         "notched": false,
         "offsetgroup": "",
         "orientation": "v",
         "showlegend": false,
         "type": "box",
         "x": [
          "1 Year Avg Return",
          "1 Year Avg Return",
          "1 Year Avg Return",
          "1 Year Avg Return",
          "1 Year Avg Return",
          "1 Year Avg Return",
          "1 Year Avg Return",
          "1 Year Avg Return",
          "1 Year Avg Return",
          "1 Year Avg Return",
          "1 Year Avg Return",
          "1 Year Avg Return",
          "1 Year Avg Return",
          "1 Year Avg Return",
          "1 Year Avg Return",
          "1 Year Avg Return",
          "1 Year Avg Return",
          "1 Year Avg Return",
          "1 Year Avg Return",
          "1 Year Avg Return",
          "1 Year Avg Return",
          "1 Year Avg Return",
          "1 Year Avg Return",
          "1 Year Avg Return",
          "1 Year Avg Return",
          "1 Year Avg Return",
          "1 Year Avg Return",
          "1 Year Avg Return",
          "1 Year Avg Return",
          "1 Year Avg Return",
          "1 Year Avg Return",
          "1 Year Avg Return",
          "1 Year Avg Return",
          "1 Year Avg Return",
          "1 Year Avg Return",
          "1 Year Avg Return",
          "1 Year Avg Return",
          "1 Year Avg Return",
          "1 Year Avg Return",
          "1 Year Avg Return",
          "1 Year Avg Return",
          "1 Year Avg Return",
          "1 Year Avg Return",
          "1 Year Avg Return",
          "1 Year Avg Return",
          "1 Year Avg Return",
          "1 Year Avg Return",
          "1 Year Avg Return",
          "1 Year Avg Return",
          "1 Year Avg Return",
          "1 Year Avg Return",
          "1 Year Avg Return",
          "1 Year Avg Return",
          "1 Year Avg Return",
          "1 Year Avg Return",
          "1 Year Avg Return",
          "1 Year Avg Return",
          "1 Year Avg Return",
          "1 Year Avg Return",
          "1 Year Avg Return",
          "1 Year Avg Return",
          "1 Year Avg Return",
          "1 Year Avg Return",
          "1 Year Avg Return",
          "1 Year Avg Return",
          "1 Year Avg Return",
          "1 Year Avg Return",
          "1 Year Avg Return",
          "1 Year Avg Return",
          "1 Year Avg Return",
          "1 Year Avg Return",
          "1 Year Avg Return",
          "1 Year Avg Return",
          "1 Year Avg Return",
          "1 Year Avg Return",
          "1 Year Avg Return",
          "1 Year Avg Return",
          "1 Year Avg Return",
          "1 Year Avg Return",
          "1 Year Avg Return",
          "1 Year Avg Return",
          "1 Year Avg Return",
          "1 Year Avg Return",
          "1 Year Avg Return",
          "1 Year Avg Return",
          "1 Year Avg Return",
          "1 Year Avg Return",
          "1 Year Avg Return",
          "1 Year Avg Return",
          "1 Year Avg Return",
          "1 Year Avg Return",
          "1 Year Avg Return",
          "1 Year Avg Return",
          "1 Year Avg Return",
          "1 Year Avg Return",
          "1 Year Avg Return",
          "1 Year Avg Return",
          "1 Year Avg Return",
          "1 Year Avg Return",
          "1 Year Avg Return",
          "1 Year Avg Return",
          "1 Year Avg Return",
          "1 Year Avg Return",
          "1 Year Avg Return",
          "1 Year Avg Return",
          "1 Year Avg Return",
          "1 Year Avg Return",
          "1 Year Avg Return",
          "1 Year Avg Return",
          "1 Year Avg Return",
          "1 Year Avg Return",
          "1 Year Avg Return",
          "1 Year Avg Return",
          "1 Year Avg Return",
          "1 Year Avg Return",
          "1 Year Avg Return",
          "1 Year Avg Return",
          "1 Year Avg Return",
          "1 Year Avg Return",
          "1 Year Avg Return",
          "1 Year Avg Return",
          "1 Year Avg Return",
          "1 Year Avg Return",
          "1 Year Avg Return",
          "1 Year Avg Return",
          "1 Year Avg Return",
          "1 Year Avg Return",
          "1 Year Avg Return",
          "1 Year Avg Return",
          "1 Year Avg Return",
          "1 Year Avg Return",
          "1 Year Avg Return",
          "1 Year Avg Return",
          "1 Year Avg Return",
          "1 Year Avg Return",
          "1 Year Avg Return",
          "1 Year Avg Return",
          "1 Year Avg Return",
          "1 Year Avg Return",
          "1 Year Avg Return",
          "1 Year Avg Return",
          "1 Year Avg Return",
          "1 Year Avg Return",
          "1 Year Avg Return",
          "1 Year Avg Return",
          "1 Year Avg Return",
          "1 Year Avg Return",
          "1 Year Avg Return",
          "1 Year Avg Return",
          "1 Year Avg Return",
          "1 Year Avg Return",
          "1 Year Avg Return",
          "1 Year Avg Return",
          "1 Year Avg Return",
          "1 Year Avg Return",
          "1 Year Avg Return",
          "1 Year Avg Return",
          "1 Year Avg Return",
          "1 Year Avg Return",
          "1 Year Avg Return",
          "1 Year Avg Return",
          "1 Year Avg Return",
          "1 Year Avg Return",
          "1 Year Avg Return",
          "1 Year Avg Return",
          "1 Year Avg Return",
          "1 Year Avg Return",
          "1 Year Avg Return",
          "1 Year Avg Return",
          "1 Year Avg Return",
          "1 Year Avg Return",
          "1 Year Avg Return",
          "1 Year Avg Return",
          "1 Year Avg Return",
          "1 Year Avg Return",
          "1 Year Avg Return",
          "1 Year Avg Return",
          "1 Year Avg Return",
          "1 Year Avg Return",
          "1 Year Avg Return",
          "1 Year Avg Return",
          "1 Year Avg Return",
          "1 Year Avg Return",
          "1 Year Avg Return",
          "1 Year Avg Return",
          "1 Year Avg Return",
          "1 Year Avg Return",
          "1 Year Avg Return",
          "1 Year Avg Return",
          "1 Year Avg Return",
          "1 Year Avg Return",
          "1 Year Avg Return",
          "1 Year Avg Return",
          "1 Year Avg Return",
          "1 Year Avg Return",
          "1 Year Avg Return",
          "1 Year Avg Return",
          "1 Year Avg Return",
          "1 Year Avg Return",
          "1 Year Avg Return",
          "1 Year Avg Return",
          "1 Year Avg Return",
          "1 Year Avg Return",
          "1 Year Avg Return",
          "1 Year Avg Return",
          "1 Year Avg Return",
          "1 Year Avg Return",
          "1 Year Avg Return",
          "1 Year Avg Return",
          "1 Year Avg Return",
          "1 Year Avg Return",
          "1 Year Avg Return",
          "1 Year Avg Return",
          "1 Year Avg Return",
          "1 Year Avg Return",
          "1 Year Avg Return",
          "1 Year Avg Return",
          "1 Year Avg Return",
          "1 Year Avg Return",
          "1 Year Avg Return",
          "1 Year Avg Return",
          "1 Year Avg Return",
          "1 Year Avg Return",
          "1 Year Avg Return",
          "1 Year Avg Return",
          "1 Year Avg Return",
          "1 Year Avg Return",
          "1 Year Avg Return",
          "1 Year Avg Return",
          "1 Year Avg Return",
          "1 Year Avg Return",
          "1 Year Avg Return",
          "1 Year Avg Return",
          "1 Year Avg Return",
          "1 Year Avg Return",
          "1 Year Avg Return",
          "1 Year Avg Return",
          "1 Year Avg Return",
          "1 Year Avg Return",
          "1 Year Avg Return",
          "1 Year Avg Return",
          "1 Year Avg Return",
          "1 Year Avg Return",
          "1 Year Avg Return",
          "1 Year Avg Return",
          "1 Year Avg Return",
          "1 Year Avg Return",
          "1 Year Avg Return",
          "1 Year Avg Return",
          "1 Year Avg Return",
          "1 Year Avg Return",
          "1 Year Avg Return",
          "1 Year Avg Return",
          "1 Year Avg Return",
          "1 Year Avg Return",
          "1 Year Avg Return",
          "1 Year Avg Return",
          "1 Year Avg Return",
          "1 Year Avg Return",
          "1 Year Avg Return",
          "1 Year Avg Return",
          "1 Year Avg Return",
          "1 Year Avg Return",
          "1 Year Avg Return",
          "1 Year Avg Return",
          "1 Year Avg Return",
          "1 Year Avg Return",
          "1 Year Avg Return",
          "1 Year Avg Return",
          "1 Year Avg Return",
          "1 Year Avg Return",
          "1 Year Avg Return",
          "1 Year Avg Return",
          "1 Year Avg Return",
          "1 Year Avg Return",
          "1 Year Avg Return",
          "1 Year Avg Return",
          "1 Year Avg Return",
          "1 Year Avg Return",
          "1 Year Avg Return",
          "1 Year Avg Return",
          "1 Year Avg Return",
          "1 Year Avg Return",
          "1 Year Avg Return",
          "1 Year Avg Return",
          "1 Year Avg Return",
          "1 Year Avg Return",
          "1 Year Avg Return",
          "1 Year Avg Return",
          "1 Year Avg Return",
          "1 Year Avg Return",
          "1 Year Avg Return",
          "1 Year Avg Return",
          "1 Year Avg Return",
          "1 Year Avg Return",
          "1 Year Avg Return",
          "1 Year Avg Return",
          "1 Year Avg Return",
          "1 Year Avg Return",
          "1 Year Avg Return",
          "1 Year Avg Return",
          "1 Year Avg Return",
          "1 Year Avg Return",
          "1 Year Avg Return",
          "1 Year Avg Return",
          "1 Year Avg Return",
          "1 Year Avg Return",
          "1 Year Avg Return",
          "1 Year Avg Return",
          "1 Year Avg Return",
          "1 Year Avg Return",
          "1 Year Avg Return",
          "1 Year Avg Return",
          "1 Year Avg Return",
          "1 Year Avg Return",
          "1 Year Avg Return",
          "1 Year Avg Return",
          "1 Year Avg Return",
          "1 Year Avg Return",
          "1 Year Avg Return",
          "1 Year Avg Return",
          "1 Year Avg Return",
          "1 Year Avg Return",
          "1 Year Avg Return",
          "1 Year Avg Return",
          "1 Year Avg Return",
          "1 Year Avg Return",
          "1 Year Avg Return",
          "1 Year Avg Return",
          "1 Year Avg Return",
          "1 Year Avg Return",
          "1 Year Avg Return",
          "1 Year Avg Return",
          "1 Year Avg Return",
          "1 Year Avg Return",
          "1 Year Avg Return",
          "1 Year Avg Return",
          "1 Year Avg Return",
          "1 Year Avg Return",
          "1 Year Avg Return",
          "1 Year Avg Return",
          "1 Year Avg Return",
          "1 Year Avg Return",
          "1 Year Avg Return",
          "1 Year Avg Return",
          "1 Year Avg Return",
          "1 Year Avg Return",
          "1 Year Avg Return",
          "1 Year Avg Return",
          "1 Year Avg Return",
          "1 Year Avg Return",
          "1 Year Avg Return",
          "1 Year Avg Return",
          "1 Year Avg Return",
          "1 Year Avg Return",
          "1 Year Avg Return",
          "1 Year Avg Return",
          "1 Year Avg Return",
          "1 Year Avg Return",
          "1 Year Avg Return",
          "1 Year Avg Return",
          "1 Year Avg Return",
          "1 Year Avg Return",
          "1 Year Avg Return",
          "1 Year Avg Return",
          "1 Year Avg Return",
          "1 Year Avg Return",
          "1 Year Avg Return",
          "1 Year Avg Return",
          "1 Year Avg Return",
          "1 Year Avg Return",
          "1 Year Avg Return",
          "1 Year Avg Return",
          "1 Year Avg Return",
          "1 Year Avg Return",
          "1 Year Avg Return",
          "1 Year Avg Return",
          "1 Year Avg Return",
          "1 Year Avg Return",
          "1 Year Avg Return",
          "1 Year Avg Return",
          "1 Year Avg Return",
          "1 Year Avg Return",
          "1 Year Avg Return",
          "1 Year Avg Return",
          "1 Year Avg Return",
          "1 Year Avg Return",
          "1 Year Avg Return",
          "1 Year Avg Return",
          "1 Year Avg Return",
          "1 Year Avg Return",
          "1 Year Avg Return",
          "1 Year Avg Return",
          "1 Year Avg Return",
          "1 Year Avg Return",
          "1 Year Avg Return",
          "1 Year Avg Return",
          "1 Year Avg Return",
          "1 Year Avg Return",
          "1 Year Avg Return",
          "1 Year Avg Return",
          "1 Year Avg Return",
          "1 Year Avg Return",
          "1 Year Avg Return",
          "1 Year Avg Return",
          "1 Year Avg Return",
          "1 Year Avg Return",
          "1 Year Avg Return",
          "1 Year Avg Return",
          "1 Year Avg Return",
          "1 Year Avg Return",
          "1 Year Avg Return",
          "1 Year Avg Return",
          "1 Year Avg Return",
          "1 Year Avg Return",
          "1 Year Avg Return",
          "1 Year Avg Return",
          "1 Year Avg Return",
          "1 Year Avg Return",
          "1 Year Avg Return",
          "1 Year Avg Return",
          "1 Year Avg Return",
          "1 Year Avg Return",
          "1 Year Avg Return",
          "1 Year Avg Return",
          "1 Year Avg Return",
          "1 Year Avg Return",
          "1 Year Avg Return",
          "1 Year Avg Return",
          "1 Year Avg Return",
          "1 Year Avg Return",
          "1 Year Avg Return",
          "1 Year Avg Return",
          "1 Year Avg Return",
          "1 Year Avg Return",
          "1 Year Avg Return",
          "1 Year Avg Return",
          "1 Year Avg Return",
          "1 Year Avg Return",
          "1 Year Avg Return",
          "1 Year Avg Return",
          "1 Year Avg Return",
          "1 Year Avg Return",
          "1 Year Avg Return",
          "1 Year Avg Return",
          "1 Year Avg Return",
          "1 Year Avg Return",
          "1 Year Avg Return",
          "1 Year Avg Return",
          "1 Year Avg Return",
          "1 Year Avg Return",
          "1 Year Avg Return",
          "1 Year Avg Return",
          "1 Year Avg Return",
          "1 Year Avg Return",
          "1 Year Avg Return",
          "1 Year Avg Return",
          "1 Year Avg Return",
          "1 Year Avg Return",
          "1 Year Avg Return",
          "1 Year Avg Return",
          "1 Year Avg Return",
          "1 Year Avg Return",
          "1 Year Avg Return",
          "1 Year Avg Return",
          "1 Year Avg Return",
          "1 Year Avg Return",
          "1 Year Avg Return",
          "1 Year Avg Return",
          "1 Year Avg Return",
          "1 Year Avg Return",
          "1 Year Avg Return",
          "1 Year Avg Return",
          "1 Year Avg Return",
          "1 Year Avg Return",
          "1 Year Avg Return",
          "1 Year Avg Return",
          "1 Year Avg Return",
          "1 Year Avg Return",
          "1 Year Avg Return",
          "1 Year Avg Return",
          "1 Year Avg Return",
          "1 Year Avg Return",
          "1 Year Avg Return",
          "1 Year Avg Return",
          "1 Year Avg Return",
          "1 Year Avg Return",
          "1 Year Avg Return",
          "1 Year Avg Return",
          "1 Year Avg Return",
          "1 Year Avg Return",
          "1 Year Avg Return",
          "1 Year Avg Return",
          "1 Year Avg Return",
          "1 Year Avg Return",
          "1 Year Avg Return",
          "1 Year Avg Return",
          "1 Year Avg Return",
          "1 Year Avg Return",
          "1 Year Avg Return",
          "1 Year Avg Return",
          "1 Year Avg Return",
          "1 Year Avg Return",
          "1 Year Avg Return",
          "1 Year Avg Return",
          "1 Year Avg Return",
          "1 Year Avg Return",
          "1 Year Avg Return",
          "1 Year Avg Return",
          "1 Year Avg Return",
          "1 Year Avg Return",
          "1 Year Avg Return",
          "1 Year Avg Return",
          "1 Year Avg Return",
          "1 Year Avg Return",
          "1 Year Avg Return",
          "1 Year Avg Return",
          "1 Year Avg Return",
          "1 Year Avg Return",
          "1 Year Avg Return",
          "1 Year Avg Return",
          "1 Year Avg Return",
          "1 Year Avg Return",
          "1 Year Avg Return",
          "1 Year Avg Return",
          "1 Year Avg Return",
          "1 Year Avg Return",
          "1 Year Avg Return",
          "1 Year Avg Return",
          "1 Year Avg Return",
          "1 Year Avg Return",
          "1 Year Avg Return",
          "1 Year Avg Return",
          "1 Year Avg Return",
          "1 Year Avg Return",
          "1 Year Avg Return",
          "1 Year Avg Return",
          "1 Year Avg Return",
          "1 Year Avg Return",
          "1 Year Avg Return",
          "1 Year Avg Return",
          "1 Year Avg Return",
          "1 Year Avg Return",
          "1 Year Avg Return",
          "1 Year Avg Return",
          "1 Year Avg Return",
          "1 Year Avg Return",
          "1 Year Avg Return",
          "1 Year Avg Return",
          "1 Year Avg Return",
          "1 Year Avg Return",
          "1 Year Avg Return",
          "1 Year Avg Return",
          "1 Year Avg Return",
          "1 Year Avg Return",
          "1 Year Avg Return",
          "1 Year Avg Return",
          "1 Year Avg Return",
          "1 Year Avg Return",
          "1 Year Avg Return",
          "1 Year Avg Return",
          "1 Year Avg Return",
          "1 Year Avg Return",
          "1 Year Avg Return",
          "1 Year Avg Return",
          "1 Year Avg Return",
          "1 Year Avg Return",
          "1 Year Avg Return",
          "1 Year Avg Return",
          "1 Year Avg Return",
          "1 Year Avg Return",
          "1 Year Avg Return",
          "1 Year Avg Return",
          "1 Year Avg Return",
          "1 Year Avg Return",
          "1 Year Avg Return",
          "1 Year Avg Return",
          "1 Year Avg Return",
          "1 Year Avg Return",
          "1 Year Avg Return",
          "1 Year Avg Return",
          "1 Year Avg Return",
          "1 Year Avg Return",
          "1 Year Avg Return",
          "1 Year Avg Return",
          "1 Year Avg Return",
          "1 Year Avg Return",
          "1 Year Avg Return",
          "1 Year Avg Return",
          "1 Year Avg Return",
          "1 Year Avg Return",
          "1 Year Avg Return",
          "1 Year Avg Return",
          "1 Year Avg Return",
          "1 Year Avg Return",
          "1 Year Avg Return",
          "1 Year Avg Return",
          "1 Year Avg Return",
          "1 Year Avg Return",
          "1 Year Avg Return",
          "1 Year Avg Return",
          "1 Year Avg Return",
          "1 Year Avg Return",
          "1 Year Avg Return",
          "1 Year Avg Return",
          "1 Year Avg Return",
          "1 Year Avg Return",
          "1 Year Avg Return",
          "1 Year Avg Return",
          "1 Year Avg Return",
          "1 Year Avg Return",
          "1 Year Avg Return",
          "1 Year Avg Return",
          "1 Year Avg Return",
          "1 Year Avg Return",
          "1 Year Avg Return",
          "1 Year Avg Return",
          "1 Year Avg Return",
          "1 Year Avg Return",
          "1 Year Avg Return",
          "1 Year Avg Return",
          "1 Year Avg Return",
          "1 Year Avg Return",
          "1 Year Avg Return",
          "1 Year Avg Return",
          "1 Year Avg Return",
          "1 Year Avg Return",
          "1 Year Avg Return",
          "1 Year Avg Return",
          "1 Year Avg Return",
          "1 Year Avg Return",
          "1 Year Avg Return",
          "1 Year Avg Return",
          "1 Year Avg Return",
          "1 Year Avg Return",
          "1 Year Avg Return",
          "1 Year Avg Return",
          "1 Year Avg Return",
          "1 Year Avg Return",
          "1 Year Avg Return",
          "1 Year Avg Return",
          "1 Year Avg Return",
          "1 Year Avg Return",
          "1 Year Avg Return",
          "1 Year Avg Return",
          "1 Year Avg Return",
          "1 Year Avg Return",
          "1 Year Avg Return",
          "1 Year Avg Return",
          "1 Year Avg Return",
          "1 Year Avg Return",
          "1 Year Avg Return",
          "1 Year Avg Return",
          "1 Year Avg Return",
          "1 Year Avg Return",
          "1 Year Avg Return",
          "1 Year Avg Return",
          "1 Year Avg Return",
          "1 Year Avg Return",
          "1 Year Avg Return",
          "1 Year Avg Return",
          "1 Year Avg Return",
          "1 Year Avg Return",
          "1 Year Avg Return",
          "1 Year Avg Return",
          "1 Year Avg Return",
          "1 Year Avg Return",
          "1 Year Avg Return",
          "1 Year Avg Return",
          "1 Year Avg Return",
          "1 Year Avg Return",
          "1 Year Avg Return",
          "1 Year Avg Return",
          "1 Year Avg Return",
          "1 Year Avg Return",
          "1 Year Avg Return",
          "1 Year Avg Return",
          "1 Year Avg Return",
          "1 Year Avg Return",
          "1 Year Avg Return",
          "1 Year Avg Return",
          "1 Year Avg Return",
          "1 Year Avg Return",
          "1 Year Avg Return",
          "1 Year Avg Return",
          "1 Year Avg Return",
          "1 Year Avg Return",
          "1 Year Avg Return",
          "1 Year Avg Return",
          "1 Year Avg Return",
          "1 Year Avg Return",
          "1 Year Avg Return",
          "1 Year Avg Return",
          "1 Year Avg Return",
          "1 Year Avg Return",
          "1 Year Avg Return",
          "1 Year Avg Return",
          "1 Year Avg Return",
          "1 Year Avg Return",
          "1 Year Avg Return",
          "1 Year Avg Return",
          "1 Year Avg Return",
          "1 Year Avg Return",
          "1 Year Avg Return",
          "1 Year Avg Return",
          "1 Year Avg Return",
          "1 Year Avg Return",
          "1 Year Avg Return",
          "1 Year Avg Return",
          "1 Year Avg Return",
          "1 Year Avg Return",
          "1 Year Avg Return",
          "1 Year Avg Return",
          "1 Year Avg Return",
          "1 Year Avg Return",
          "1 Year Avg Return",
          "1 Year Avg Return",
          "1 Year Avg Return",
          "1 Year Avg Return",
          "1 Year Avg Return",
          "1 Year Avg Return",
          "1 Year Avg Return",
          "1 Year Avg Return",
          "1 Year Avg Return",
          "1 Year Avg Return",
          "1 Year Avg Return",
          "1 Year Avg Return",
          "1 Year Avg Return",
          "1 Year Avg Return",
          "1 Year Avg Return",
          "1 Year Avg Return",
          "1 Year Avg Return",
          "1 Year Avg Return",
          "1 Year Avg Return",
          "1 Year Avg Return",
          "1 Year Avg Return",
          "1 Year Avg Return",
          "1 Year Avg Return",
          "1 Year Avg Return",
          "1 Year Avg Return",
          "1 Year Avg Return",
          "1 Year Avg Return",
          "1 Year Avg Return",
          "1 Year Avg Return",
          "1 Year Avg Return",
          "1 Year Avg Return",
          "1 Year Avg Return",
          "1 Year Avg Return",
          "1 Year Avg Return",
          "1 Year Avg Return",
          "1 Year Avg Return",
          "1 Year Avg Return",
          "1 Year Avg Return",
          "1 Year Avg Return",
          "1 Year Avg Return",
          "1 Year Avg Return",
          "1 Year Avg Return",
          "1 Year Avg Return",
          "1 Year Avg Return",
          "1 Year Avg Return",
          "1 Year Avg Return",
          "1 Year Avg Return",
          "1 Year Avg Return",
          "1 Year Avg Return",
          "1 Year Avg Return",
          "1 Year Avg Return",
          "1 Year Avg Return",
          "1 Year Avg Return",
          "1 Year Avg Return",
          "1 Year Avg Return",
          "1 Year Avg Return",
          "1 Year Avg Return",
          "1 Year Avg Return",
          "1 Year Avg Return",
          "1 Year Avg Return",
          "1 Year Avg Return",
          "1 Year Avg Return",
          "1 Year Avg Return",
          "1 Year Avg Return",
          "1 Year Avg Return",
          "1 Year Avg Return",
          "1 Year Avg Return",
          "1 Year Avg Return",
          "1 Year Avg Return",
          "1 Year Avg Return",
          "1 Year Avg Return",
          "1 Year Avg Return",
          "1 Year Avg Return",
          "1 Year Avg Return",
          "1 Year Avg Return",
          "1 Year Avg Return",
          "1 Year Avg Return",
          "1 Year Avg Return",
          "1 Year Avg Return",
          "1 Year Avg Return",
          "1 Year Avg Return",
          "1 Year Avg Return",
          "1 Year Avg Return",
          "1 Year Avg Return",
          "1 Year Avg Return",
          "1 Year Avg Return",
          "1 Year Avg Return",
          "1 Year Avg Return",
          "1 Year Avg Return",
          "1 Year Avg Return",
          "1 Year Avg Return",
          "1 Year Avg Return",
          "1 Year Avg Return",
          "1 Year Avg Return",
          "1 Year Avg Return",
          "1 Year Avg Return",
          "1 Year Avg Return",
          "1 Year Avg Return",
          "1 Year Avg Return",
          "1 Year Avg Return",
          "1 Year Avg Return",
          "1 Year Avg Return",
          "1 Year Avg Return",
          "1 Year Avg Return",
          "1 Year Avg Return",
          "1 Year Avg Return",
          "1 Year Avg Return",
          "1 Year Avg Return",
          "1 Year Avg Return",
          "1 Year Avg Return",
          "1 Year Avg Return",
          "1 Year Avg Return",
          "1 Year Avg Return",
          "1 Year Avg Return",
          "1 Year Avg Return",
          "1 Year Avg Return",
          "1 Year Avg Return",
          "1 Year Avg Return",
          "1 Year Avg Return",
          "1 Year Avg Return",
          "1 Year Avg Return",
          "1 Year Avg Return",
          "1 Year Avg Return",
          "1 Year Avg Return",
          "1 Year Avg Return",
          "1 Year Avg Return",
          "1 Year Avg Return",
          "1 Year Avg Return",
          "1 Year Avg Return",
          "1 Year Avg Return",
          "1 Year Avg Return",
          "1 Year Avg Return",
          "1 Year Avg Return",
          "1 Year Avg Return",
          "1 Year Avg Return",
          "1 Year Avg Return",
          "1 Year Avg Return",
          "1 Year Avg Return",
          "1 Year Avg Return",
          "1 Year Avg Return",
          "1 Year Avg Return",
          "1 Year Avg Return",
          "1 Year Avg Return",
          "1 Year Avg Return",
          "1 Year Avg Return",
          "1 Year Avg Return",
          "1 Year Avg Return",
          "1 Year Avg Return",
          "1 Year Avg Return",
          "1 Year Avg Return",
          "1 Year Avg Return",
          "1 Year Avg Return",
          "1 Year Avg Return",
          "1 Year Avg Return",
          "1 Year Avg Return",
          "1 Year Avg Return",
          "1 Year Avg Return",
          "1 Year Avg Return",
          "1 Year Avg Return",
          "1 Year Avg Return",
          "1 Year Avg Return",
          "1 Year Avg Return",
          "1 Year Avg Return",
          "1 Year Avg Return",
          "1 Year Avg Return",
          "1 Year Avg Return",
          "1 Year Avg Return",
          "1 Year Avg Return",
          "1 Year Avg Return",
          "1 Year Avg Return",
          "1 Year Avg Return",
          "1 Year Avg Return",
          "1 Year Avg Return",
          "1 Year Avg Return",
          "1 Year Avg Return",
          "1 Year Avg Return",
          "1 Year Avg Return",
          "1 Year Avg Return",
          "1 Year Avg Return",
          "1 Year Avg Return",
          "1 Year Avg Return",
          "1 Year Avg Return",
          "1 Year Avg Return",
          "1 Year Avg Return",
          "1 Year Avg Return",
          "1 Year Avg Return",
          "1 Year Avg Return",
          "3 Year Avg Return",
          "3 Year Avg Return",
          "3 Year Avg Return",
          "3 Year Avg Return",
          "3 Year Avg Return",
          "3 Year Avg Return",
          "3 Year Avg Return",
          "3 Year Avg Return",
          "3 Year Avg Return",
          "3 Year Avg Return",
          "3 Year Avg Return",
          "3 Year Avg Return",
          "3 Year Avg Return",
          "3 Year Avg Return",
          "3 Year Avg Return",
          "3 Year Avg Return",
          "3 Year Avg Return",
          "3 Year Avg Return",
          "3 Year Avg Return",
          "3 Year Avg Return",
          "3 Year Avg Return",
          "3 Year Avg Return",
          "3 Year Avg Return",
          "3 Year Avg Return",
          "3 Year Avg Return",
          "3 Year Avg Return",
          "3 Year Avg Return",
          "3 Year Avg Return",
          "3 Year Avg Return",
          "3 Year Avg Return",
          "3 Year Avg Return",
          "3 Year Avg Return",
          "3 Year Avg Return",
          "3 Year Avg Return",
          "3 Year Avg Return",
          "3 Year Avg Return",
          "3 Year Avg Return",
          "3 Year Avg Return",
          "3 Year Avg Return",
          "3 Year Avg Return",
          "3 Year Avg Return",
          "3 Year Avg Return",
          "3 Year Avg Return",
          "3 Year Avg Return",
          "3 Year Avg Return",
          "3 Year Avg Return",
          "3 Year Avg Return",
          "3 Year Avg Return",
          "3 Year Avg Return",
          "3 Year Avg Return",
          "3 Year Avg Return",
          "3 Year Avg Return",
          "3 Year Avg Return",
          "3 Year Avg Return",
          "3 Year Avg Return",
          "3 Year Avg Return",
          "3 Year Avg Return",
          "3 Year Avg Return",
          "3 Year Avg Return",
          "3 Year Avg Return",
          "3 Year Avg Return",
          "3 Year Avg Return",
          "3 Year Avg Return",
          "3 Year Avg Return",
          "3 Year Avg Return",
          "3 Year Avg Return",
          "3 Year Avg Return",
          "3 Year Avg Return",
          "3 Year Avg Return",
          "3 Year Avg Return",
          "3 Year Avg Return",
          "3 Year Avg Return",
          "3 Year Avg Return",
          "3 Year Avg Return",
          "3 Year Avg Return",
          "3 Year Avg Return",
          "3 Year Avg Return",
          "3 Year Avg Return",
          "3 Year Avg Return",
          "3 Year Avg Return",
          "3 Year Avg Return",
          "3 Year Avg Return",
          "3 Year Avg Return",
          "3 Year Avg Return",
          "3 Year Avg Return",
          "3 Year Avg Return",
          "3 Year Avg Return",
          "3 Year Avg Return",
          "3 Year Avg Return",
          "3 Year Avg Return",
          "3 Year Avg Return",
          "3 Year Avg Return",
          "3 Year Avg Return",
          "3 Year Avg Return",
          "3 Year Avg Return",
          "3 Year Avg Return",
          "3 Year Avg Return",
          "3 Year Avg Return",
          "3 Year Avg Return",
          "3 Year Avg Return",
          "3 Year Avg Return",
          "3 Year Avg Return",
          "3 Year Avg Return",
          "3 Year Avg Return",
          "3 Year Avg Return",
          "3 Year Avg Return",
          "3 Year Avg Return",
          "3 Year Avg Return",
          "3 Year Avg Return",
          "3 Year Avg Return",
          "3 Year Avg Return",
          "3 Year Avg Return",
          "3 Year Avg Return",
          "3 Year Avg Return",
          "3 Year Avg Return",
          "3 Year Avg Return",
          "3 Year Avg Return",
          "3 Year Avg Return",
          "3 Year Avg Return",
          "3 Year Avg Return",
          "3 Year Avg Return",
          "3 Year Avg Return",
          "3 Year Avg Return",
          "3 Year Avg Return",
          "3 Year Avg Return",
          "3 Year Avg Return",
          "3 Year Avg Return",
          "3 Year Avg Return",
          "3 Year Avg Return",
          "3 Year Avg Return",
          "3 Year Avg Return",
          "3 Year Avg Return",
          "3 Year Avg Return",
          "3 Year Avg Return",
          "3 Year Avg Return",
          "3 Year Avg Return",
          "3 Year Avg Return",
          "3 Year Avg Return",
          "3 Year Avg Return",
          "3 Year Avg Return",
          "3 Year Avg Return",
          "3 Year Avg Return",
          "3 Year Avg Return",
          "3 Year Avg Return",
          "3 Year Avg Return",
          "3 Year Avg Return",
          "3 Year Avg Return",
          "3 Year Avg Return",
          "3 Year Avg Return",
          "3 Year Avg Return",
          "3 Year Avg Return",
          "3 Year Avg Return",
          "3 Year Avg Return",
          "3 Year Avg Return",
          "3 Year Avg Return",
          "3 Year Avg Return",
          "3 Year Avg Return",
          "3 Year Avg Return",
          "3 Year Avg Return",
          "3 Year Avg Return",
          "3 Year Avg Return",
          "3 Year Avg Return",
          "3 Year Avg Return",
          "3 Year Avg Return",
          "3 Year Avg Return",
          "3 Year Avg Return",
          "3 Year Avg Return",
          "3 Year Avg Return",
          "3 Year Avg Return",
          "3 Year Avg Return",
          "3 Year Avg Return",
          "3 Year Avg Return",
          "3 Year Avg Return",
          "3 Year Avg Return",
          "3 Year Avg Return",
          "3 Year Avg Return",
          "3 Year Avg Return",
          "3 Year Avg Return",
          "3 Year Avg Return",
          "3 Year Avg Return",
          "3 Year Avg Return",
          "3 Year Avg Return",
          "3 Year Avg Return",
          "3 Year Avg Return",
          "3 Year Avg Return",
          "3 Year Avg Return",
          "3 Year Avg Return",
          "3 Year Avg Return",
          "3 Year Avg Return",
          "3 Year Avg Return",
          "3 Year Avg Return",
          "3 Year Avg Return",
          "3 Year Avg Return",
          "3 Year Avg Return",
          "3 Year Avg Return",
          "3 Year Avg Return",
          "3 Year Avg Return",
          "3 Year Avg Return",
          "3 Year Avg Return",
          "3 Year Avg Return",
          "3 Year Avg Return",
          "3 Year Avg Return",
          "3 Year Avg Return",
          "3 Year Avg Return",
          "3 Year Avg Return",
          "3 Year Avg Return",
          "3 Year Avg Return",
          "3 Year Avg Return",
          "3 Year Avg Return",
          "3 Year Avg Return",
          "3 Year Avg Return",
          "3 Year Avg Return",
          "3 Year Avg Return",
          "3 Year Avg Return",
          "3 Year Avg Return",
          "3 Year Avg Return",
          "3 Year Avg Return",
          "3 Year Avg Return",
          "3 Year Avg Return",
          "3 Year Avg Return",
          "3 Year Avg Return",
          "3 Year Avg Return",
          "3 Year Avg Return",
          "3 Year Avg Return",
          "3 Year Avg Return",
          "3 Year Avg Return",
          "3 Year Avg Return",
          "3 Year Avg Return",
          "3 Year Avg Return",
          "3 Year Avg Return",
          "3 Year Avg Return",
          "3 Year Avg Return",
          "3 Year Avg Return",
          "3 Year Avg Return",
          "3 Year Avg Return",
          "3 Year Avg Return",
          "3 Year Avg Return",
          "3 Year Avg Return",
          "3 Year Avg Return",
          "3 Year Avg Return",
          "3 Year Avg Return",
          "3 Year Avg Return",
          "3 Year Avg Return",
          "3 Year Avg Return",
          "3 Year Avg Return",
          "3 Year Avg Return",
          "3 Year Avg Return",
          "3 Year Avg Return",
          "3 Year Avg Return",
          "3 Year Avg Return",
          "3 Year Avg Return",
          "3 Year Avg Return",
          "3 Year Avg Return",
          "3 Year Avg Return",
          "3 Year Avg Return",
          "3 Year Avg Return",
          "3 Year Avg Return",
          "3 Year Avg Return",
          "3 Year Avg Return",
          "3 Year Avg Return",
          "3 Year Avg Return",
          "3 Year Avg Return",
          "3 Year Avg Return",
          "3 Year Avg Return",
          "3 Year Avg Return",
          "3 Year Avg Return",
          "3 Year Avg Return",
          "3 Year Avg Return",
          "3 Year Avg Return",
          "3 Year Avg Return",
          "3 Year Avg Return",
          "3 Year Avg Return",
          "3 Year Avg Return",
          "3 Year Avg Return",
          "3 Year Avg Return",
          "3 Year Avg Return",
          "3 Year Avg Return",
          "3 Year Avg Return",
          "3 Year Avg Return",
          "3 Year Avg Return",
          "3 Year Avg Return",
          "3 Year Avg Return",
          "3 Year Avg Return",
          "3 Year Avg Return",
          "3 Year Avg Return",
          "3 Year Avg Return",
          "3 Year Avg Return",
          "3 Year Avg Return",
          "3 Year Avg Return",
          "3 Year Avg Return",
          "3 Year Avg Return",
          "3 Year Avg Return",
          "3 Year Avg Return",
          "3 Year Avg Return",
          "3 Year Avg Return",
          "3 Year Avg Return",
          "3 Year Avg Return",
          "3 Year Avg Return",
          "3 Year Avg Return",
          "3 Year Avg Return",
          "3 Year Avg Return",
          "3 Year Avg Return",
          "3 Year Avg Return",
          "3 Year Avg Return",
          "3 Year Avg Return",
          "3 Year Avg Return",
          "3 Year Avg Return",
          "3 Year Avg Return",
          "3 Year Avg Return",
          "3 Year Avg Return",
          "3 Year Avg Return",
          "3 Year Avg Return",
          "3 Year Avg Return",
          "3 Year Avg Return",
          "3 Year Avg Return",
          "3 Year Avg Return",
          "3 Year Avg Return",
          "3 Year Avg Return",
          "3 Year Avg Return",
          "3 Year Avg Return",
          "3 Year Avg Return",
          "3 Year Avg Return",
          "3 Year Avg Return",
          "3 Year Avg Return",
          "3 Year Avg Return",
          "3 Year Avg Return",
          "3 Year Avg Return",
          "3 Year Avg Return",
          "3 Year Avg Return",
          "3 Year Avg Return",
          "3 Year Avg Return",
          "3 Year Avg Return",
          "3 Year Avg Return",
          "3 Year Avg Return",
          "3 Year Avg Return",
          "3 Year Avg Return",
          "3 Year Avg Return",
          "3 Year Avg Return",
          "3 Year Avg Return",
          "3 Year Avg Return",
          "3 Year Avg Return",
          "3 Year Avg Return",
          "3 Year Avg Return",
          "3 Year Avg Return",
          "3 Year Avg Return",
          "3 Year Avg Return",
          "3 Year Avg Return",
          "3 Year Avg Return",
          "3 Year Avg Return",
          "3 Year Avg Return",
          "3 Year Avg Return",
          "3 Year Avg Return",
          "3 Year Avg Return",
          "3 Year Avg Return",
          "3 Year Avg Return",
          "3 Year Avg Return",
          "3 Year Avg Return",
          "3 Year Avg Return",
          "3 Year Avg Return",
          "3 Year Avg Return",
          "3 Year Avg Return",
          "3 Year Avg Return",
          "3 Year Avg Return",
          "3 Year Avg Return",
          "3 Year Avg Return",
          "3 Year Avg Return",
          "3 Year Avg Return",
          "3 Year Avg Return",
          "3 Year Avg Return",
          "3 Year Avg Return",
          "3 Year Avg Return",
          "3 Year Avg Return",
          "3 Year Avg Return",
          "3 Year Avg Return",
          "3 Year Avg Return",
          "3 Year Avg Return",
          "3 Year Avg Return",
          "3 Year Avg Return",
          "3 Year Avg Return",
          "3 Year Avg Return",
          "3 Year Avg Return",
          "3 Year Avg Return",
          "3 Year Avg Return",
          "3 Year Avg Return",
          "3 Year Avg Return",
          "3 Year Avg Return",
          "3 Year Avg Return",
          "3 Year Avg Return",
          "3 Year Avg Return",
          "3 Year Avg Return",
          "3 Year Avg Return",
          "3 Year Avg Return",
          "3 Year Avg Return",
          "3 Year Avg Return",
          "3 Year Avg Return",
          "3 Year Avg Return",
          "3 Year Avg Return",
          "3 Year Avg Return",
          "3 Year Avg Return",
          "3 Year Avg Return",
          "3 Year Avg Return",
          "3 Year Avg Return",
          "3 Year Avg Return",
          "3 Year Avg Return",
          "3 Year Avg Return",
          "3 Year Avg Return",
          "3 Year Avg Return",
          "3 Year Avg Return",
          "3 Year Avg Return",
          "3 Year Avg Return",
          "3 Year Avg Return",
          "3 Year Avg Return",
          "3 Year Avg Return",
          "3 Year Avg Return",
          "3 Year Avg Return",
          "3 Year Avg Return",
          "3 Year Avg Return",
          "3 Year Avg Return",
          "3 Year Avg Return",
          "3 Year Avg Return",
          "3 Year Avg Return",
          "3 Year Avg Return",
          "3 Year Avg Return",
          "3 Year Avg Return",
          "3 Year Avg Return",
          "3 Year Avg Return",
          "3 Year Avg Return",
          "3 Year Avg Return",
          "3 Year Avg Return",
          "3 Year Avg Return",
          "3 Year Avg Return",
          "3 Year Avg Return",
          "3 Year Avg Return",
          "3 Year Avg Return",
          "3 Year Avg Return",
          "3 Year Avg Return",
          "3 Year Avg Return",
          "3 Year Avg Return",
          "3 Year Avg Return",
          "3 Year Avg Return",
          "3 Year Avg Return",
          "3 Year Avg Return",
          "3 Year Avg Return",
          "3 Year Avg Return",
          "3 Year Avg Return",
          "3 Year Avg Return",
          "3 Year Avg Return",
          "3 Year Avg Return",
          "3 Year Avg Return",
          "3 Year Avg Return",
          "3 Year Avg Return",
          "3 Year Avg Return",
          "3 Year Avg Return",
          "3 Year Avg Return",
          "3 Year Avg Return",
          "3 Year Avg Return",
          "3 Year Avg Return",
          "3 Year Avg Return",
          "3 Year Avg Return",
          "3 Year Avg Return",
          "3 Year Avg Return",
          "3 Year Avg Return",
          "3 Year Avg Return",
          "3 Year Avg Return",
          "3 Year Avg Return",
          "3 Year Avg Return",
          "3 Year Avg Return",
          "3 Year Avg Return",
          "3 Year Avg Return",
          "3 Year Avg Return",
          "3 Year Avg Return",
          "3 Year Avg Return",
          "3 Year Avg Return",
          "3 Year Avg Return",
          "3 Year Avg Return",
          "3 Year Avg Return",
          "3 Year Avg Return",
          "3 Year Avg Return",
          "3 Year Avg Return",
          "3 Year Avg Return",
          "3 Year Avg Return",
          "3 Year Avg Return",
          "3 Year Avg Return",
          "3 Year Avg Return",
          "3 Year Avg Return",
          "3 Year Avg Return",
          "3 Year Avg Return",
          "3 Year Avg Return",
          "3 Year Avg Return",
          "3 Year Avg Return",
          "3 Year Avg Return",
          "3 Year Avg Return",
          "3 Year Avg Return",
          "3 Year Avg Return",
          "3 Year Avg Return",
          "3 Year Avg Return",
          "3 Year Avg Return",
          "3 Year Avg Return",
          "3 Year Avg Return",
          "3 Year Avg Return",
          "3 Year Avg Return",
          "3 Year Avg Return",
          "3 Year Avg Return",
          "3 Year Avg Return",
          "3 Year Avg Return",
          "3 Year Avg Return",
          "3 Year Avg Return",
          "3 Year Avg Return",
          "3 Year Avg Return",
          "3 Year Avg Return",
          "3 Year Avg Return",
          "3 Year Avg Return",
          "3 Year Avg Return",
          "3 Year Avg Return",
          "3 Year Avg Return",
          "3 Year Avg Return",
          "3 Year Avg Return",
          "3 Year Avg Return",
          "3 Year Avg Return",
          "3 Year Avg Return",
          "3 Year Avg Return",
          "3 Year Avg Return",
          "3 Year Avg Return",
          "3 Year Avg Return",
          "3 Year Avg Return",
          "3 Year Avg Return",
          "3 Year Avg Return",
          "3 Year Avg Return",
          "3 Year Avg Return",
          "3 Year Avg Return",
          "3 Year Avg Return",
          "3 Year Avg Return",
          "3 Year Avg Return",
          "3 Year Avg Return",
          "3 Year Avg Return",
          "3 Year Avg Return",
          "3 Year Avg Return",
          "3 Year Avg Return",
          "3 Year Avg Return",
          "3 Year Avg Return",
          "3 Year Avg Return",
          "3 Year Avg Return",
          "3 Year Avg Return",
          "3 Year Avg Return",
          "3 Year Avg Return",
          "3 Year Avg Return",
          "3 Year Avg Return",
          "3 Year Avg Return",
          "3 Year Avg Return",
          "3 Year Avg Return",
          "3 Year Avg Return",
          "3 Year Avg Return",
          "3 Year Avg Return",
          "3 Year Avg Return",
          "3 Year Avg Return",
          "3 Year Avg Return",
          "3 Year Avg Return",
          "3 Year Avg Return",
          "3 Year Avg Return",
          "3 Year Avg Return",
          "3 Year Avg Return",
          "3 Year Avg Return",
          "3 Year Avg Return",
          "3 Year Avg Return",
          "3 Year Avg Return",
          "3 Year Avg Return",
          "3 Year Avg Return",
          "3 Year Avg Return",
          "3 Year Avg Return",
          "3 Year Avg Return",
          "3 Year Avg Return",
          "3 Year Avg Return",
          "3 Year Avg Return",
          "3 Year Avg Return",
          "3 Year Avg Return",
          "3 Year Avg Return",
          "3 Year Avg Return",
          "3 Year Avg Return",
          "3 Year Avg Return",
          "3 Year Avg Return",
          "3 Year Avg Return",
          "3 Year Avg Return",
          "3 Year Avg Return",
          "3 Year Avg Return",
          "3 Year Avg Return",
          "3 Year Avg Return",
          "3 Year Avg Return",
          "3 Year Avg Return",
          "3 Year Avg Return",
          "3 Year Avg Return",
          "3 Year Avg Return",
          "3 Year Avg Return",
          "3 Year Avg Return",
          "3 Year Avg Return",
          "3 Year Avg Return",
          "3 Year Avg Return",
          "3 Year Avg Return",
          "3 Year Avg Return",
          "3 Year Avg Return",
          "3 Year Avg Return",
          "3 Year Avg Return",
          "3 Year Avg Return",
          "3 Year Avg Return",
          "3 Year Avg Return",
          "3 Year Avg Return",
          "3 Year Avg Return",
          "3 Year Avg Return",
          "3 Year Avg Return",
          "3 Year Avg Return",
          "3 Year Avg Return",
          "3 Year Avg Return",
          "3 Year Avg Return",
          "3 Year Avg Return",
          "3 Year Avg Return",
          "3 Year Avg Return",
          "3 Year Avg Return",
          "3 Year Avg Return",
          "3 Year Avg Return",
          "3 Year Avg Return",
          "3 Year Avg Return",
          "3 Year Avg Return",
          "3 Year Avg Return",
          "3 Year Avg Return",
          "3 Year Avg Return",
          "3 Year Avg Return",
          "3 Year Avg Return",
          "3 Year Avg Return",
          "3 Year Avg Return",
          "3 Year Avg Return",
          "3 Year Avg Return",
          "3 Year Avg Return",
          "3 Year Avg Return",
          "3 Year Avg Return",
          "3 Year Avg Return",
          "3 Year Avg Return",
          "3 Year Avg Return",
          "3 Year Avg Return",
          "3 Year Avg Return",
          "3 Year Avg Return",
          "3 Year Avg Return",
          "3 Year Avg Return",
          "3 Year Avg Return",
          "3 Year Avg Return",
          "3 Year Avg Return",
          "3 Year Avg Return",
          "3 Year Avg Return",
          "3 Year Avg Return",
          "3 Year Avg Return",
          "3 Year Avg Return",
          "3 Year Avg Return",
          "3 Year Avg Return",
          "3 Year Avg Return",
          "3 Year Avg Return",
          "3 Year Avg Return",
          "3 Year Avg Return",
          "3 Year Avg Return",
          "3 Year Avg Return",
          "3 Year Avg Return",
          "3 Year Avg Return",
          "3 Year Avg Return",
          "3 Year Avg Return",
          "3 Year Avg Return",
          "3 Year Avg Return",
          "3 Year Avg Return",
          "3 Year Avg Return",
          "3 Year Avg Return",
          "3 Year Avg Return",
          "3 Year Avg Return",
          "3 Year Avg Return",
          "3 Year Avg Return",
          "3 Year Avg Return",
          "3 Year Avg Return",
          "3 Year Avg Return",
          "3 Year Avg Return",
          "3 Year Avg Return",
          "3 Year Avg Return",
          "3 Year Avg Return",
          "3 Year Avg Return",
          "3 Year Avg Return",
          "3 Year Avg Return",
          "3 Year Avg Return",
          "3 Year Avg Return",
          "3 Year Avg Return",
          "3 Year Avg Return",
          "3 Year Avg Return",
          "3 Year Avg Return",
          "3 Year Avg Return",
          "3 Year Avg Return",
          "3 Year Avg Return",
          "3 Year Avg Return",
          "3 Year Avg Return",
          "3 Year Avg Return",
          "3 Year Avg Return",
          "3 Year Avg Return",
          "3 Year Avg Return",
          "3 Year Avg Return",
          "3 Year Avg Return",
          "3 Year Avg Return",
          "3 Year Avg Return",
          "3 Year Avg Return",
          "3 Year Avg Return",
          "3 Year Avg Return",
          "3 Year Avg Return",
          "3 Year Avg Return",
          "3 Year Avg Return",
          "3 Year Avg Return",
          "3 Year Avg Return",
          "3 Year Avg Return",
          "3 Year Avg Return",
          "3 Year Avg Return",
          "3 Year Avg Return",
          "3 Year Avg Return",
          "3 Year Avg Return",
          "3 Year Avg Return",
          "3 Year Avg Return",
          "3 Year Avg Return",
          "3 Year Avg Return",
          "3 Year Avg Return",
          "3 Year Avg Return",
          "3 Year Avg Return",
          "3 Year Avg Return",
          "3 Year Avg Return",
          "3 Year Avg Return",
          "3 Year Avg Return",
          "3 Year Avg Return",
          "3 Year Avg Return",
          "3 Year Avg Return",
          "3 Year Avg Return",
          "3 Year Avg Return",
          "3 Year Avg Return",
          "3 Year Avg Return",
          "3 Year Avg Return",
          "3 Year Avg Return",
          "3 Year Avg Return",
          "3 Year Avg Return",
          "3 Year Avg Return",
          "3 Year Avg Return",
          "3 Year Avg Return",
          "3 Year Avg Return",
          "3 Year Avg Return",
          "3 Year Avg Return",
          "3 Year Avg Return",
          "3 Year Avg Return",
          "3 Year Avg Return",
          "3 Year Avg Return",
          "3 Year Avg Return",
          "3 Year Avg Return",
          "3 Year Avg Return",
          "3 Year Avg Return",
          "3 Year Avg Return",
          "3 Year Avg Return",
          "3 Year Avg Return",
          "3 Year Avg Return",
          "3 Year Avg Return",
          "3 Year Avg Return",
          "3 Year Avg Return",
          "3 Year Avg Return",
          "3 Year Avg Return",
          "3 Year Avg Return",
          "3 Year Avg Return",
          "3 Year Avg Return",
          "3 Year Avg Return",
          "3 Year Avg Return",
          "3 Year Avg Return",
          "3 Year Avg Return",
          "3 Year Avg Return",
          "3 Year Avg Return",
          "3 Year Avg Return",
          "3 Year Avg Return",
          "3 Year Avg Return",
          "3 Year Avg Return",
          "3 Year Avg Return",
          "3 Year Avg Return",
          "3 Year Avg Return",
          "3 Year Avg Return",
          "3 Year Avg Return",
          "3 Year Avg Return",
          "3 Year Avg Return",
          "3 Year Avg Return",
          "3 Year Avg Return",
          "3 Year Avg Return",
          "3 Year Avg Return",
          "3 Year Avg Return",
          "3 Year Avg Return",
          "3 Year Avg Return",
          "3 Year Avg Return",
          "3 Year Avg Return",
          "3 Year Avg Return",
          "3 Year Avg Return",
          "3 Year Avg Return",
          "3 Year Avg Return",
          "3 Year Avg Return",
          "3 Year Avg Return",
          "3 Year Avg Return",
          "3 Year Avg Return",
          "3 Year Avg Return",
          "3 Year Avg Return",
          "3 Year Avg Return",
          "3 Year Avg Return",
          "3 Year Avg Return",
          "3 Year Avg Return",
          "3 Year Avg Return",
          "3 Year Avg Return",
          "3 Year Avg Return",
          "3 Year Avg Return",
          "3 Year Avg Return",
          "3 Year Avg Return",
          "3 Year Avg Return",
          "3 Year Avg Return",
          "3 Year Avg Return",
          "3 Year Avg Return",
          "3 Year Avg Return",
          "3 Year Avg Return",
          "3 Year Avg Return",
          "3 Year Avg Return",
          "3 Year Avg Return",
          "3 Year Avg Return",
          "3 Year Avg Return",
          "3 Year Avg Return",
          "3 Year Avg Return",
          "3 Year Avg Return",
          "3 Year Avg Return",
          "3 Year Avg Return",
          "3 Year Avg Return",
          "3 Year Avg Return",
          "3 Year Avg Return",
          "3 Year Avg Return",
          "3 Year Avg Return",
          "3 Year Avg Return",
          "3 Year Avg Return",
          "3 Year Avg Return",
          "3 Year Avg Return",
          "3 Year Avg Return",
          "3 Year Avg Return",
          "3 Year Avg Return",
          "3 Year Avg Return",
          "3 Year Avg Return",
          "3 Year Avg Return",
          "3 Year Avg Return",
          "3 Year Avg Return",
          "3 Year Avg Return",
          "3 Year Avg Return",
          "3 Year Avg Return",
          "3 Year Avg Return",
          "3 Year Avg Return",
          "3 Year Avg Return",
          "3 Year Avg Return",
          "3 Year Avg Return",
          "3 Year Avg Return",
          "3 Year Avg Return",
          "3 Year Avg Return",
          "3 Year Avg Return",
          "3 Year Avg Return",
          "3 Year Avg Return",
          "3 Year Avg Return",
          "3 Year Avg Return",
          "3 Year Avg Return",
          "3 Year Avg Return",
          "3 Year Avg Return",
          "3 Year Avg Return",
          "3 Year Avg Return",
          "3 Year Avg Return",
          "3 Year Avg Return",
          "3 Year Avg Return",
          "3 Year Avg Return",
          "3 Year Avg Return",
          "3 Year Avg Return",
          "3 Year Avg Return",
          "3 Year Avg Return",
          "3 Year Avg Return",
          "3 Year Avg Return",
          "3 Year Avg Return",
          "3 Year Avg Return",
          "3 Year Avg Return",
          "3 Year Avg Return",
          "3 Year Avg Return",
          "3 Year Avg Return",
          "3 Year Avg Return",
          "3 Year Avg Return",
          "3 Year Avg Return",
          "3 Year Avg Return",
          "3 Year Avg Return",
          "3 Year Avg Return",
          "3 Year Avg Return",
          "3 Year Avg Return",
          "3 Year Avg Return",
          "3 Year Avg Return",
          "3 Year Avg Return",
          "3 Year Avg Return",
          "3 Year Avg Return",
          "3 Year Avg Return",
          "3 Year Avg Return",
          "3 Year Avg Return",
          "3 Year Avg Return",
          "3 Year Avg Return",
          "3 Year Avg Return",
          "3 Year Avg Return",
          "3 Year Avg Return",
          "3 Year Avg Return",
          "3 Year Avg Return",
          "3 Year Avg Return",
          "3 Year Avg Return",
          "5 Year Avg Return",
          "5 Year Avg Return",
          "5 Year Avg Return",
          "5 Year Avg Return",
          "5 Year Avg Return",
          "5 Year Avg Return",
          "5 Year Avg Return",
          "5 Year Avg Return",
          "5 Year Avg Return",
          "5 Year Avg Return",
          "5 Year Avg Return",
          "5 Year Avg Return",
          "5 Year Avg Return",
          "5 Year Avg Return",
          "5 Year Avg Return",
          "5 Year Avg Return",
          "5 Year Avg Return",
          "5 Year Avg Return",
          "5 Year Avg Return",
          "5 Year Avg Return",
          "5 Year Avg Return",
          "5 Year Avg Return",
          "5 Year Avg Return",
          "5 Year Avg Return",
          "5 Year Avg Return",
          "5 Year Avg Return",
          "5 Year Avg Return",
          "5 Year Avg Return",
          "5 Year Avg Return",
          "5 Year Avg Return",
          "5 Year Avg Return",
          "5 Year Avg Return",
          "5 Year Avg Return",
          "5 Year Avg Return",
          "5 Year Avg Return",
          "5 Year Avg Return",
          "5 Year Avg Return",
          "5 Year Avg Return",
          "5 Year Avg Return",
          "5 Year Avg Return",
          "5 Year Avg Return",
          "5 Year Avg Return",
          "5 Year Avg Return",
          "5 Year Avg Return",
          "5 Year Avg Return",
          "5 Year Avg Return",
          "5 Year Avg Return",
          "5 Year Avg Return",
          "5 Year Avg Return",
          "5 Year Avg Return",
          "5 Year Avg Return",
          "5 Year Avg Return",
          "5 Year Avg Return",
          "5 Year Avg Return",
          "5 Year Avg Return",
          "5 Year Avg Return",
          "5 Year Avg Return",
          "5 Year Avg Return",
          "5 Year Avg Return",
          "5 Year Avg Return",
          "5 Year Avg Return",
          "5 Year Avg Return",
          "5 Year Avg Return",
          "5 Year Avg Return",
          "5 Year Avg Return",
          "5 Year Avg Return",
          "5 Year Avg Return",
          "5 Year Avg Return",
          "5 Year Avg Return",
          "5 Year Avg Return",
          "5 Year Avg Return",
          "5 Year Avg Return",
          "5 Year Avg Return",
          "5 Year Avg Return",
          "5 Year Avg Return",
          "5 Year Avg Return",
          "5 Year Avg Return",
          "5 Year Avg Return",
          "5 Year Avg Return",
          "5 Year Avg Return",
          "5 Year Avg Return",
          "5 Year Avg Return",
          "5 Year Avg Return",
          "5 Year Avg Return",
          "5 Year Avg Return",
          "5 Year Avg Return",
          "5 Year Avg Return",
          "5 Year Avg Return",
          "5 Year Avg Return",
          "5 Year Avg Return",
          "5 Year Avg Return",
          "5 Year Avg Return",
          "5 Year Avg Return",
          "5 Year Avg Return",
          "5 Year Avg Return",
          "5 Year Avg Return",
          "5 Year Avg Return",
          "5 Year Avg Return",
          "5 Year Avg Return",
          "5 Year Avg Return",
          "5 Year Avg Return",
          "5 Year Avg Return",
          "5 Year Avg Return",
          "5 Year Avg Return",
          "5 Year Avg Return",
          "5 Year Avg Return",
          "5 Year Avg Return",
          "5 Year Avg Return",
          "5 Year Avg Return",
          "5 Year Avg Return",
          "5 Year Avg Return",
          "5 Year Avg Return",
          "5 Year Avg Return",
          "5 Year Avg Return",
          "5 Year Avg Return",
          "5 Year Avg Return",
          "5 Year Avg Return",
          "5 Year Avg Return",
          "5 Year Avg Return",
          "5 Year Avg Return",
          "5 Year Avg Return",
          "5 Year Avg Return",
          "5 Year Avg Return",
          "5 Year Avg Return",
          "5 Year Avg Return",
          "5 Year Avg Return",
          "5 Year Avg Return",
          "5 Year Avg Return",
          "5 Year Avg Return",
          "5 Year Avg Return",
          "5 Year Avg Return",
          "5 Year Avg Return",
          "5 Year Avg Return",
          "5 Year Avg Return",
          "5 Year Avg Return",
          "5 Year Avg Return",
          "5 Year Avg Return",
          "5 Year Avg Return",
          "5 Year Avg Return",
          "5 Year Avg Return",
          "5 Year Avg Return",
          "5 Year Avg Return",
          "5 Year Avg Return",
          "5 Year Avg Return",
          "5 Year Avg Return",
          "5 Year Avg Return",
          "5 Year Avg Return",
          "5 Year Avg Return",
          "5 Year Avg Return",
          "5 Year Avg Return",
          "5 Year Avg Return",
          "5 Year Avg Return",
          "5 Year Avg Return",
          "5 Year Avg Return",
          "5 Year Avg Return",
          "5 Year Avg Return",
          "5 Year Avg Return",
          "5 Year Avg Return",
          "5 Year Avg Return",
          "5 Year Avg Return",
          "5 Year Avg Return",
          "5 Year Avg Return",
          "5 Year Avg Return",
          "5 Year Avg Return",
          "5 Year Avg Return",
          "5 Year Avg Return",
          "5 Year Avg Return",
          "5 Year Avg Return",
          "5 Year Avg Return",
          "5 Year Avg Return",
          "5 Year Avg Return",
          "5 Year Avg Return",
          "5 Year Avg Return",
          "5 Year Avg Return",
          "5 Year Avg Return",
          "5 Year Avg Return",
          "5 Year Avg Return",
          "5 Year Avg Return",
          "5 Year Avg Return",
          "5 Year Avg Return",
          "5 Year Avg Return",
          "5 Year Avg Return",
          "5 Year Avg Return",
          "5 Year Avg Return",
          "5 Year Avg Return",
          "5 Year Avg Return",
          "5 Year Avg Return",
          "5 Year Avg Return",
          "5 Year Avg Return",
          "5 Year Avg Return",
          "5 Year Avg Return",
          "5 Year Avg Return",
          "5 Year Avg Return",
          "5 Year Avg Return",
          "5 Year Avg Return",
          "5 Year Avg Return",
          "5 Year Avg Return",
          "5 Year Avg Return",
          "5 Year Avg Return",
          "5 Year Avg Return",
          "5 Year Avg Return",
          "5 Year Avg Return",
          "5 Year Avg Return",
          "5 Year Avg Return",
          "5 Year Avg Return",
          "5 Year Avg Return",
          "5 Year Avg Return",
          "5 Year Avg Return",
          "5 Year Avg Return",
          "5 Year Avg Return",
          "5 Year Avg Return",
          "5 Year Avg Return",
          "5 Year Avg Return",
          "5 Year Avg Return",
          "5 Year Avg Return",
          "5 Year Avg Return",
          "5 Year Avg Return",
          "5 Year Avg Return",
          "5 Year Avg Return",
          "5 Year Avg Return",
          "5 Year Avg Return",
          "5 Year Avg Return",
          "5 Year Avg Return",
          "5 Year Avg Return",
          "5 Year Avg Return",
          "5 Year Avg Return",
          "5 Year Avg Return",
          "5 Year Avg Return",
          "5 Year Avg Return",
          "5 Year Avg Return",
          "5 Year Avg Return",
          "5 Year Avg Return",
          "5 Year Avg Return",
          "5 Year Avg Return",
          "5 Year Avg Return",
          "5 Year Avg Return",
          "5 Year Avg Return",
          "5 Year Avg Return",
          "5 Year Avg Return",
          "5 Year Avg Return",
          "5 Year Avg Return",
          "5 Year Avg Return",
          "5 Year Avg Return",
          "5 Year Avg Return",
          "5 Year Avg Return",
          "5 Year Avg Return",
          "5 Year Avg Return",
          "5 Year Avg Return",
          "5 Year Avg Return",
          "5 Year Avg Return",
          "5 Year Avg Return",
          "5 Year Avg Return",
          "5 Year Avg Return",
          "5 Year Avg Return",
          "5 Year Avg Return",
          "5 Year Avg Return",
          "5 Year Avg Return",
          "5 Year Avg Return",
          "5 Year Avg Return",
          "5 Year Avg Return",
          "5 Year Avg Return",
          "5 Year Avg Return",
          "5 Year Avg Return",
          "5 Year Avg Return",
          "5 Year Avg Return",
          "5 Year Avg Return",
          "5 Year Avg Return",
          "5 Year Avg Return",
          "5 Year Avg Return",
          "5 Year Avg Return",
          "5 Year Avg Return",
          "5 Year Avg Return",
          "5 Year Avg Return",
          "5 Year Avg Return",
          "5 Year Avg Return",
          "5 Year Avg Return",
          "5 Year Avg Return",
          "5 Year Avg Return",
          "5 Year Avg Return",
          "5 Year Avg Return",
          "5 Year Avg Return",
          "5 Year Avg Return",
          "5 Year Avg Return",
          "5 Year Avg Return",
          "5 Year Avg Return",
          "5 Year Avg Return",
          "5 Year Avg Return",
          "5 Year Avg Return",
          "5 Year Avg Return",
          "5 Year Avg Return",
          "5 Year Avg Return",
          "5 Year Avg Return",
          "5 Year Avg Return",
          "5 Year Avg Return",
          "5 Year Avg Return",
          "5 Year Avg Return",
          "5 Year Avg Return",
          "5 Year Avg Return",
          "5 Year Avg Return",
          "5 Year Avg Return",
          "5 Year Avg Return",
          "5 Year Avg Return",
          "5 Year Avg Return",
          "5 Year Avg Return",
          "5 Year Avg Return",
          "5 Year Avg Return",
          "5 Year Avg Return",
          "5 Year Avg Return",
          "5 Year Avg Return",
          "5 Year Avg Return",
          "5 Year Avg Return",
          "5 Year Avg Return",
          "5 Year Avg Return",
          "5 Year Avg Return",
          "5 Year Avg Return",
          "5 Year Avg Return",
          "5 Year Avg Return",
          "5 Year Avg Return",
          "5 Year Avg Return",
          "5 Year Avg Return",
          "5 Year Avg Return",
          "5 Year Avg Return",
          "5 Year Avg Return",
          "5 Year Avg Return",
          "5 Year Avg Return",
          "5 Year Avg Return",
          "5 Year Avg Return",
          "5 Year Avg Return",
          "5 Year Avg Return",
          "5 Year Avg Return",
          "5 Year Avg Return",
          "5 Year Avg Return",
          "5 Year Avg Return",
          "5 Year Avg Return",
          "5 Year Avg Return",
          "5 Year Avg Return",
          "5 Year Avg Return",
          "5 Year Avg Return",
          "5 Year Avg Return",
          "5 Year Avg Return",
          "5 Year Avg Return",
          "5 Year Avg Return",
          "5 Year Avg Return",
          "5 Year Avg Return",
          "5 Year Avg Return",
          "5 Year Avg Return",
          "5 Year Avg Return",
          "5 Year Avg Return",
          "5 Year Avg Return",
          "5 Year Avg Return",
          "5 Year Avg Return",
          "5 Year Avg Return",
          "5 Year Avg Return",
          "5 Year Avg Return",
          "5 Year Avg Return",
          "5 Year Avg Return",
          "5 Year Avg Return",
          "5 Year Avg Return",
          "5 Year Avg Return",
          "5 Year Avg Return",
          "5 Year Avg Return",
          "5 Year Avg Return",
          "5 Year Avg Return",
          "5 Year Avg Return",
          "5 Year Avg Return",
          "5 Year Avg Return",
          "5 Year Avg Return",
          "5 Year Avg Return",
          "5 Year Avg Return",
          "5 Year Avg Return",
          "5 Year Avg Return",
          "5 Year Avg Return",
          "5 Year Avg Return",
          "5 Year Avg Return",
          "5 Year Avg Return",
          "5 Year Avg Return",
          "5 Year Avg Return",
          "5 Year Avg Return",
          "5 Year Avg Return",
          "5 Year Avg Return",
          "5 Year Avg Return",
          "5 Year Avg Return",
          "5 Year Avg Return",
          "5 Year Avg Return",
          "5 Year Avg Return",
          "5 Year Avg Return",
          "5 Year Avg Return",
          "5 Year Avg Return",
          "5 Year Avg Return",
          "5 Year Avg Return",
          "5 Year Avg Return",
          "5 Year Avg Return",
          "5 Year Avg Return",
          "5 Year Avg Return",
          "5 Year Avg Return",
          "5 Year Avg Return",
          "5 Year Avg Return",
          "5 Year Avg Return",
          "5 Year Avg Return",
          "5 Year Avg Return",
          "5 Year Avg Return",
          "5 Year Avg Return",
          "5 Year Avg Return",
          "5 Year Avg Return",
          "5 Year Avg Return",
          "5 Year Avg Return",
          "5 Year Avg Return",
          "5 Year Avg Return",
          "5 Year Avg Return",
          "5 Year Avg Return",
          "5 Year Avg Return",
          "5 Year Avg Return",
          "5 Year Avg Return",
          "5 Year Avg Return",
          "5 Year Avg Return",
          "5 Year Avg Return",
          "5 Year Avg Return",
          "5 Year Avg Return",
          "5 Year Avg Return",
          "5 Year Avg Return",
          "5 Year Avg Return",
          "5 Year Avg Return",
          "5 Year Avg Return",
          "5 Year Avg Return",
          "5 Year Avg Return",
          "5 Year Avg Return",
          "5 Year Avg Return",
          "5 Year Avg Return",
          "5 Year Avg Return",
          "5 Year Avg Return",
          "5 Year Avg Return",
          "5 Year Avg Return",
          "5 Year Avg Return",
          "5 Year Avg Return",
          "5 Year Avg Return",
          "5 Year Avg Return",
          "5 Year Avg Return",
          "5 Year Avg Return",
          "5 Year Avg Return",
          "5 Year Avg Return",
          "5 Year Avg Return",
          "5 Year Avg Return",
          "5 Year Avg Return",
          "5 Year Avg Return",
          "5 Year Avg Return",
          "5 Year Avg Return",
          "5 Year Avg Return",
          "5 Year Avg Return",
          "5 Year Avg Return",
          "5 Year Avg Return",
          "5 Year Avg Return",
          "5 Year Avg Return",
          "5 Year Avg Return",
          "5 Year Avg Return",
          "5 Year Avg Return",
          "5 Year Avg Return",
          "5 Year Avg Return",
          "5 Year Avg Return",
          "5 Year Avg Return",
          "5 Year Avg Return",
          "5 Year Avg Return",
          "5 Year Avg Return",
          "5 Year Avg Return",
          "5 Year Avg Return",
          "5 Year Avg Return",
          "5 Year Avg Return",
          "5 Year Avg Return",
          "5 Year Avg Return",
          "5 Year Avg Return",
          "5 Year Avg Return",
          "5 Year Avg Return",
          "5 Year Avg Return",
          "5 Year Avg Return",
          "5 Year Avg Return",
          "5 Year Avg Return",
          "5 Year Avg Return",
          "5 Year Avg Return",
          "5 Year Avg Return",
          "5 Year Avg Return",
          "5 Year Avg Return",
          "5 Year Avg Return",
          "5 Year Avg Return",
          "5 Year Avg Return",
          "5 Year Avg Return",
          "5 Year Avg Return",
          "5 Year Avg Return",
          "5 Year Avg Return",
          "5 Year Avg Return",
          "5 Year Avg Return",
          "5 Year Avg Return",
          "5 Year Avg Return",
          "5 Year Avg Return",
          "5 Year Avg Return",
          "5 Year Avg Return",
          "5 Year Avg Return",
          "5 Year Avg Return",
          "5 Year Avg Return",
          "5 Year Avg Return",
          "5 Year Avg Return",
          "5 Year Avg Return",
          "5 Year Avg Return",
          "5 Year Avg Return",
          "5 Year Avg Return",
          "5 Year Avg Return",
          "5 Year Avg Return",
          "5 Year Avg Return",
          "5 Year Avg Return",
          "5 Year Avg Return",
          "5 Year Avg Return",
          "5 Year Avg Return",
          "5 Year Avg Return",
          "5 Year Avg Return",
          "5 Year Avg Return",
          "5 Year Avg Return",
          "5 Year Avg Return",
          "5 Year Avg Return",
          "5 Year Avg Return",
          "5 Year Avg Return",
          "5 Year Avg Return",
          "5 Year Avg Return",
          "5 Year Avg Return",
          "5 Year Avg Return",
          "5 Year Avg Return",
          "5 Year Avg Return",
          "5 Year Avg Return",
          "5 Year Avg Return",
          "5 Year Avg Return",
          "5 Year Avg Return",
          "5 Year Avg Return",
          "5 Year Avg Return",
          "5 Year Avg Return",
          "5 Year Avg Return",
          "5 Year Avg Return",
          "5 Year Avg Return",
          "5 Year Avg Return",
          "5 Year Avg Return",
          "5 Year Avg Return",
          "5 Year Avg Return",
          "5 Year Avg Return",
          "5 Year Avg Return",
          "5 Year Avg Return",
          "5 Year Avg Return",
          "5 Year Avg Return",
          "5 Year Avg Return",
          "5 Year Avg Return",
          "5 Year Avg Return",
          "5 Year Avg Return",
          "5 Year Avg Return",
          "5 Year Avg Return",
          "5 Year Avg Return",
          "5 Year Avg Return",
          "5 Year Avg Return",
          "5 Year Avg Return",
          "5 Year Avg Return",
          "5 Year Avg Return",
          "5 Year Avg Return",
          "5 Year Avg Return",
          "5 Year Avg Return",
          "5 Year Avg Return",
          "5 Year Avg Return",
          "5 Year Avg Return",
          "5 Year Avg Return",
          "5 Year Avg Return",
          "5 Year Avg Return",
          "5 Year Avg Return",
          "5 Year Avg Return",
          "5 Year Avg Return",
          "5 Year Avg Return",
          "5 Year Avg Return",
          "5 Year Avg Return",
          "5 Year Avg Return",
          "5 Year Avg Return",
          "5 Year Avg Return",
          "5 Year Avg Return",
          "5 Year Avg Return",
          "5 Year Avg Return",
          "5 Year Avg Return",
          "5 Year Avg Return",
          "5 Year Avg Return",
          "5 Year Avg Return",
          "5 Year Avg Return",
          "5 Year Avg Return",
          "5 Year Avg Return",
          "5 Year Avg Return",
          "5 Year Avg Return",
          "5 Year Avg Return",
          "5 Year Avg Return",
          "5 Year Avg Return",
          "5 Year Avg Return",
          "5 Year Avg Return",
          "5 Year Avg Return",
          "5 Year Avg Return",
          "5 Year Avg Return",
          "5 Year Avg Return",
          "5 Year Avg Return",
          "5 Year Avg Return",
          "5 Year Avg Return",
          "5 Year Avg Return",
          "5 Year Avg Return",
          "5 Year Avg Return",
          "5 Year Avg Return",
          "5 Year Avg Return",
          "5 Year Avg Return",
          "5 Year Avg Return",
          "5 Year Avg Return",
          "5 Year Avg Return",
          "5 Year Avg Return",
          "5 Year Avg Return",
          "5 Year Avg Return",
          "5 Year Avg Return",
          "5 Year Avg Return",
          "5 Year Avg Return",
          "5 Year Avg Return",
          "5 Year Avg Return",
          "5 Year Avg Return",
          "5 Year Avg Return",
          "5 Year Avg Return",
          "5 Year Avg Return",
          "5 Year Avg Return",
          "5 Year Avg Return",
          "5 Year Avg Return",
          "5 Year Avg Return",
          "5 Year Avg Return",
          "5 Year Avg Return",
          "5 Year Avg Return",
          "5 Year Avg Return",
          "5 Year Avg Return",
          "5 Year Avg Return",
          "5 Year Avg Return",
          "5 Year Avg Return",
          "5 Year Avg Return",
          "5 Year Avg Return",
          "5 Year Avg Return",
          "5 Year Avg Return",
          "5 Year Avg Return",
          "5 Year Avg Return",
          "5 Year Avg Return",
          "5 Year Avg Return",
          "5 Year Avg Return",
          "5 Year Avg Return",
          "5 Year Avg Return",
          "5 Year Avg Return",
          "5 Year Avg Return",
          "5 Year Avg Return",
          "5 Year Avg Return",
          "5 Year Avg Return",
          "5 Year Avg Return",
          "5 Year Avg Return",
          "5 Year Avg Return",
          "5 Year Avg Return",
          "5 Year Avg Return",
          "5 Year Avg Return",
          "5 Year Avg Return",
          "5 Year Avg Return",
          "5 Year Avg Return",
          "5 Year Avg Return",
          "5 Year Avg Return",
          "5 Year Avg Return",
          "5 Year Avg Return",
          "5 Year Avg Return",
          "5 Year Avg Return",
          "5 Year Avg Return",
          "5 Year Avg Return",
          "5 Year Avg Return",
          "5 Year Avg Return",
          "5 Year Avg Return",
          "5 Year Avg Return",
          "5 Year Avg Return",
          "5 Year Avg Return",
          "5 Year Avg Return",
          "5 Year Avg Return",
          "5 Year Avg Return",
          "5 Year Avg Return",
          "5 Year Avg Return",
          "5 Year Avg Return",
          "5 Year Avg Return",
          "5 Year Avg Return",
          "5 Year Avg Return",
          "5 Year Avg Return",
          "5 Year Avg Return",
          "5 Year Avg Return",
          "5 Year Avg Return",
          "5 Year Avg Return",
          "5 Year Avg Return",
          "5 Year Avg Return",
          "5 Year Avg Return",
          "5 Year Avg Return",
          "5 Year Avg Return",
          "5 Year Avg Return",
          "5 Year Avg Return",
          "5 Year Avg Return",
          "5 Year Avg Return",
          "5 Year Avg Return",
          "5 Year Avg Return",
          "5 Year Avg Return",
          "5 Year Avg Return",
          "5 Year Avg Return",
          "5 Year Avg Return",
          "5 Year Avg Return",
          "5 Year Avg Return",
          "5 Year Avg Return",
          "5 Year Avg Return",
          "5 Year Avg Return",
          "5 Year Avg Return",
          "5 Year Avg Return",
          "5 Year Avg Return",
          "5 Year Avg Return",
          "5 Year Avg Return",
          "5 Year Avg Return",
          "5 Year Avg Return",
          "5 Year Avg Return",
          "5 Year Avg Return",
          "5 Year Avg Return",
          "5 Year Avg Return",
          "5 Year Avg Return",
          "5 Year Avg Return",
          "5 Year Avg Return",
          "5 Year Avg Return",
          "5 Year Avg Return",
          "5 Year Avg Return",
          "5 Year Avg Return",
          "5 Year Avg Return",
          "5 Year Avg Return",
          "5 Year Avg Return",
          "5 Year Avg Return",
          "5 Year Avg Return",
          "5 Year Avg Return",
          "5 Year Avg Return",
          "5 Year Avg Return",
          "5 Year Avg Return",
          "5 Year Avg Return",
          "5 Year Avg Return",
          "5 Year Avg Return",
          "5 Year Avg Return",
          "5 Year Avg Return",
          "5 Year Avg Return",
          "5 Year Avg Return",
          "5 Year Avg Return",
          "5 Year Avg Return",
          "5 Year Avg Return",
          "5 Year Avg Return",
          "5 Year Avg Return",
          "5 Year Avg Return",
          "5 Year Avg Return",
          "5 Year Avg Return",
          "5 Year Avg Return",
          "5 Year Avg Return",
          "5 Year Avg Return",
          "5 Year Avg Return",
          "5 Year Avg Return",
          "5 Year Avg Return",
          "5 Year Avg Return",
          "5 Year Avg Return",
          "5 Year Avg Return",
          "5 Year Avg Return",
          "5 Year Avg Return",
          "5 Year Avg Return",
          "5 Year Avg Return",
          "5 Year Avg Return",
          "5 Year Avg Return",
          "5 Year Avg Return",
          "5 Year Avg Return",
          "5 Year Avg Return",
          "5 Year Avg Return",
          "5 Year Avg Return",
          "5 Year Avg Return",
          "5 Year Avg Return",
          "5 Year Avg Return",
          "5 Year Avg Return",
          "5 Year Avg Return",
          "5 Year Avg Return",
          "5 Year Avg Return",
          "5 Year Avg Return",
          "5 Year Avg Return",
          "5 Year Avg Return",
          "5 Year Avg Return",
          "5 Year Avg Return",
          "5 Year Avg Return",
          "5 Year Avg Return",
          "5 Year Avg Return",
          "5 Year Avg Return",
          "5 Year Avg Return",
          "5 Year Avg Return",
          "5 Year Avg Return",
          "5 Year Avg Return",
          "5 Year Avg Return",
          "5 Year Avg Return",
          "5 Year Avg Return",
          "5 Year Avg Return",
          "5 Year Avg Return",
          "5 Year Avg Return",
          "5 Year Avg Return",
          "5 Year Avg Return",
          "5 Year Avg Return",
          "5 Year Avg Return",
          "5 Year Avg Return",
          "5 Year Avg Return",
          "5 Year Avg Return",
          "5 Year Avg Return",
          "5 Year Avg Return",
          "5 Year Avg Return",
          "5 Year Avg Return",
          "5 Year Avg Return",
          "5 Year Avg Return",
          "5 Year Avg Return",
          "5 Year Avg Return",
          "5 Year Avg Return",
          "5 Year Avg Return",
          "5 Year Avg Return",
          "5 Year Avg Return",
          "5 Year Avg Return",
          "5 Year Avg Return",
          "5 Year Avg Return",
          "5 Year Avg Return",
          "5 Year Avg Return",
          "5 Year Avg Return",
          "5 Year Avg Return",
          "5 Year Avg Return",
          "5 Year Avg Return",
          "5 Year Avg Return",
          "5 Year Avg Return",
          "5 Year Avg Return",
          "5 Year Avg Return",
          "5 Year Avg Return",
          "5 Year Avg Return",
          "5 Year Avg Return",
          "5 Year Avg Return",
          "5 Year Avg Return",
          "5 Year Avg Return",
          "5 Year Avg Return",
          "5 Year Avg Return",
          "5 Year Avg Return",
          "5 Year Avg Return",
          "5 Year Avg Return",
          "5 Year Avg Return",
          "5 Year Avg Return",
          "5 Year Avg Return",
          "5 Year Avg Return",
          "5 Year Avg Return",
          "5 Year Avg Return",
          "5 Year Avg Return",
          "5 Year Avg Return",
          "5 Year Avg Return",
          "5 Year Avg Return",
          "5 Year Avg Return",
          "5 Year Avg Return",
          "5 Year Avg Return",
          "5 Year Avg Return",
          "5 Year Avg Return",
          "5 Year Avg Return",
          "5 Year Avg Return",
          "5 Year Avg Return",
          "5 Year Avg Return",
          "5 Year Avg Return",
          "5 Year Avg Return",
          "5 Year Avg Return",
          "5 Year Avg Return",
          "5 Year Avg Return",
          "5 Year Avg Return",
          "5 Year Avg Return",
          "5 Year Avg Return",
          "5 Year Avg Return",
          "5 Year Avg Return",
          "5 Year Avg Return",
          "5 Year Avg Return",
          "5 Year Avg Return",
          "5 Year Avg Return",
          "5 Year Avg Return",
          "5 Year Avg Return",
          "5 Year Avg Return",
          "5 Year Avg Return",
          "5 Year Avg Return",
          "5 Year Avg Return",
          "5 Year Avg Return",
          "5 Year Avg Return",
          "5 Year Avg Return",
          "5 Year Avg Return",
          "5 Year Avg Return",
          "5 Year Avg Return",
          "5 Year Avg Return",
          "5 Year Avg Return",
          "5 Year Avg Return",
          "5 Year Avg Return",
          "5 Year Avg Return",
          "5 Year Avg Return",
          "5 Year Avg Return",
          "5 Year Avg Return",
          "5 Year Avg Return",
          "5 Year Avg Return",
          "5 Year Avg Return",
          "5 Year Avg Return",
          "5 Year Avg Return",
          "5 Year Avg Return",
          "5 Year Avg Return",
          "5 Year Avg Return",
          "5 Year Avg Return",
          "5 Year Avg Return",
          "5 Year Avg Return",
          "5 Year Avg Return",
          "5 Year Avg Return",
          "5 Year Avg Return",
          "5 Year Avg Return"
         ],
         "x0": " ",
         "xaxis": "x",
         "y": [
          0.02083847235152625,
          0.012267194785073654,
          0.02229787350918655,
          0.05226295114811208,
          0.04956240344027951,
          0.02213590319440839,
          0.02787669276601079,
          0.024915804618649284,
          0.03708779032990006,
          0.02620128451572468,
          0.021168985536472285,
          0.029436866160095443,
          0.02330156989815801,
          0.02648714514283479,
          0.04274168657571642,
          0.024938834598188908,
          0.03977298408552943,
          0.04886855576734917,
          0.04101211467001065,
          0.03686354913061418,
          0.0286809859605226,
          0.035484916662720016,
          0.03206416418013736,
          0.032282168565135994,
          0.02716128590564693,
          0.003189643164073441,
          0.05004728085896937,
          0.03454265030006876,
          0.023881267066606204,
          0.03377917783198847,
          0.014999467805139275,
          0.022011578632811224,
          0.027548823949910428,
          0.009648121779899156,
          0.028580439367809293,
          0.04672978593778332,
          -0.0007314209585668198,
          0.026511310941620847,
          0.02923842060190407,
          0.025448120149394796,
          0.018751765961108058,
          0.02654093358822873,
          0.020905649268679882,
          0.045424184830150205,
          0.02628583715816135,
          0.01713087587240847,
          0.026613614089970428,
          0.040341830437516935,
          -0.018200431850075142,
          0.037578813395023225,
          0.03594754627828567,
          0.045914171492299705,
          0.02747148808772204,
          0.03182728038866367,
          0.028448629392668238,
          0.02534675510094897,
          0.03467268835791315,
          0.008840492414833312,
          0.03612755742941976,
          0.018617088211509758,
          0.04027939350115562,
          0.026753952639302803,
          0.016791568001547352,
          0.032510935087781245,
          0.05579721163536711,
          0.009871986063882066,
          0.022121016558926062,
          0.008679198608890104,
          0.04934729294503937,
          0.046550779917858616,
          0.04640269775086692,
          0.04222552547427783,
          0.032518363298555286,
          0.01851588804716875,
          0.019163661302488144,
          0.02303499013832422,
          0.030495812373141362,
          0.004951356292121067,
          -0.002300901686619672,
          0.012197421655339545,
          0.022761678469702232,
          0.023759540312013442,
          0.04312783435053058,
          0.022709610492942955,
          0.014810854415607809,
          0.021845537542811044,
          0.02394266345999374,
          0.033360369768626004,
          0.03569121647882767,
          0.02934824493646948,
          0.013381028415790695,
          0.029229728822348644,
          0.02509081270969471,
          0.002777088305234709,
          0.024295630385844147,
          0.006057404410801047,
          0.01189541053783416,
          0.02405097668920142,
          0.02978417677084133,
          0.038287763947056234,
          0.027552176499376024,
          0.026134250987159824,
          0.033007925896444856,
          0.030431013410204155,
          0.03348861134698433,
          0.010346306465493615,
          0.02438853958767906,
          0.04934478374085538,
          0.03382419250189672,
          0.006592031217803829,
          0.02607399419688039,
          0.02502013310071627,
          0.03205308378185645,
          0.023781982938503976,
          0.022655685226160568,
          0.026280578649189312,
          0.013452160309338046,
          0.002284448455412757,
          0.034715772542668555,
          0.02581278515526209,
          0.030637623004338588,
          0.0217527181200301,
          0.04305823861595859,
          0.02978575728463761,
          0.04429486755010914,
          0.03443905429305949,
          0.03803184831295292,
          0.039947798082508916,
          0.029908334651587376,
          0.021394716394217642,
          0.03618560405351623,
          0.03766379539615938,
          0.023606486002681004,
          0.015418766224734926,
          0.011786263540800146,
          -0.018846025317442283,
          0.023175506248353628,
          0.0244761930562496,
          0.03756593075909187,
          0.020895972210821512,
          0.03434522220180791,
          0.03140623006507215,
          0.00813858604374329,
          0.02623528107134732,
          0.028453815149793508,
          0.021349026121434408,
          0.02553732643181128,
          0.01847325775094077,
          0.06970814209233113,
          0.006673852099397415,
          0.02739634292894721,
          0.031967542368666724,
          0.03203685959717828,
          0.021988451732677383,
          0.02658379698321212,
          0.01877115503600746,
          0.018741089533484082,
          0.0206317537367815,
          0.029904490316186024,
          0.02560902585009428,
          0.037075189645732864,
          0.04384888529260245,
          0.02251482214871614,
          0.013232111418172376,
          0.039319466552839584,
          0.03593213370100057,
          0.020223292266770443,
          0.02708448086121762,
          0.03096126460095272,
          0.03924567835543447,
          0.03335607200482915,
          0.03479632049757253,
          0.0351117390501825,
          0.011677637952638207,
          0.061627983928311585,
          0.035421384361184804,
          0.02378131087657276,
          0.02106679740752182,
          0.046685756819981,
          0.027533716359049,
          0.022555699142652097,
          0.03522536951946331,
          0.025013215320266458,
          0.02971376082501465,
          0.022607190744714067,
          0.042941710412417684,
          0.020131437049804468,
          0.029212184627184223,
          0.019805451370732863,
          0.01862696687842713,
          0.015986832683235974,
          0.02489382641192273,
          0.04846713018273397,
          0.02457351349783821,
          0.03496467053387908,
          0.0300946247524132,
          0.01236531019013154,
          0.029350177852432987,
          0.0463930100384049,
          0.02400415973745429,
          0.027275162483851645,
          0.03751271981642601,
          0.01952154593504085,
          0.017659609461817768,
          0.016290579107481884,
          0.0085053903916823,
          0.03724958163484837,
          0.020874502826353947,
          0.026871536359485138,
          0.02253649975865657,
          0.02973852936669785,
          0.046076824413750835,
          0.025853928816165,
          0.024062639635280325,
          0.022663043934205485,
          0.02489741564252146,
          0.03313103048583055,
          0.018714696672671668,
          0.036282551556620746,
          0.03132185074724991,
          0.02614394731328717,
          0.009716039702696522,
          0.018511480056812468,
          0.018939166534188256,
          0.025401306931694508,
          0.03824792382891173,
          0.019813422661971503,
          0.010917932615335468,
          0.017460391921654272,
          0.04998280080560491,
          0.02662265609957859,
          0.0041360273973534145,
          0.0253230808424092,
          0.01477341851225922,
          0.037306560878165085,
          0.03908844209429319,
          0.02269232387918252,
          0.022244535773364937,
          0.033897900906241674,
          0.024431501526208432,
          0.0057206109674481365,
          0.029660036521736544,
          0.02418897003211451,
          0.02232953659303072,
          0.035681251612145186,
          0.029857336372034023,
          0.03046735901395325,
          0.03885815271643711,
          0.03956976076052743,
          0.0199424600164444,
          0.03177540247467303,
          0.035866545441291635,
          0.011724778251017476,
          0.027996358629236884,
          0.04291136896967807,
          0.027080267287594717,
          0.026684475343587533,
          0.02472841432124051,
          0.015512019571133571,
          0.032904425600115195,
          0.043504706365866896,
          0.017201713727314383,
          0.049483463965011916,
          0.029128620854165236,
          0.03129891240054117,
          0.04499063558256822,
          0.0396541424029806,
          0.02481289057112956,
          0.024050340160356898,
          0.018980953107823773,
          0.044540869339539935,
          0.016720099399672783,
          0.01746005193720035,
          0.031948885927462145,
          0.030611862867049533,
          0.026367904801719355,
          0.021531392717957683,
          0.03855455610839309,
          0.02548177752416758,
          0.031117293660783082,
          0.02637215138711291,
          0.011266612682504062,
          0.029589047674848164,
          0.02748189562997916,
          0.015086550472932503,
          0.008639575957466894,
          0.023800989317381168,
          0.04655691638105863,
          0.02066076456644561,
          0.03232959031403482,
          0.027006014394556962,
          0.025650043454766847,
          0.014156733441122116,
          0.03735256450650115,
          0.039666497646112735,
          0.015885560817165526,
          0.03132683128026459,
          0.0261223443976617,
          0.01870606318330914,
          0.023688251052074616,
          0.024902637218192414,
          0.014604183069308885,
          0.0224074691082714,
          0.03683536386917097,
          0.02215729150054901,
          0.021889510966614182,
          0.010580721683584704,
          0.012768119067517958,
          0.026478864814645453,
          0.03077525722003438,
          0.017737922936670536,
          0.023754920301799487,
          0.015553025822098387,
          0.029396526291597613,
          0.03936621196208523,
          0.015997945788897017,
          0.020418741284632613,
          0.03717798514662718,
          0.034080479520430584,
          0.031127619451277733,
          0.034622689567495264,
          0.02087181876945188,
          0.02767745315920167,
          0.03569537077175888,
          0.02242042213704432,
          0.015367587995151366,
          0.02100339462197409,
          0.029458403783310768,
          0.035036287861631044,
          0.009729412535090852,
          0.034122946939190824,
          0.023036453342982988,
          0.02287643330138689,
          0.05828467246323842,
          0.03806724848352872,
          0.03904342018913876,
          0.017977559212410954,
          0.012051699332425558,
          0.026946803693469024,
          0.036504876324269235,
          0.04657758535771972,
          0.02131424001054616,
          0.02270646649413988,
          0.03207330960632904,
          0.036739847960985283,
          0.026177406660959024,
          0.036327899598582285,
          0.026206144171247336,
          0.02418542163115478,
          0.0174445344213896,
          0.013969906017297529,
          0.01853033602568144,
          0.04261101155320568,
          0.013487060952832808,
          0.023489033279938454,
          0.02097674683437734,
          0.047360127847599465,
          0.02343974181751141,
          0.009296453816835415,
          0.023760463240563023,
          0.024835219620574108,
          0.02561209989972824,
          0.03564856714954279,
          0.03290842057082122,
          0.018790795415599915,
          0.02211124452979196,
          0.028843597083217043,
          0.032101490317873786,
          0.015581892233781147,
          0.03763742431537676,
          0.021511592629998244,
          0.05369015632786267,
          0.014378590122529069,
          0.024967098325270557,
          0.018079364149335087,
          0.03516425397249945,
          0.00791334661776455,
          0.03179160968969485,
          0.02327044526838273,
          0.04560596782993498,
          0.02916700811487538,
          0.021322107076909846,
          0.03509158644762556,
          0.028969747960180925,
          0.04217627059747664,
          0.032835350323657364,
          0.03681579279860658,
          0.032457912652759324,
          0.020691643943829163,
          0.020075480428970668,
          0.007602475887494632,
          0.016634317337422374,
          0.033124360761823464,
          0.02121873975872246,
          0.017070365707434032,
          0.03151127539896503,
          0.018389058620534412,
          0.04439261353914792,
          0.014502451770175284,
          0.036863273508624735,
          0.03637983045132875,
          0.029251018044667683,
          0.019369667865355208,
          0.03476084961865311,
          0.013440409552713195,
          0.020800449824128986,
          0.03037765798582748,
          0.024810814714178786,
          0.015440293029498118,
          0.037504394366808524,
          0.01930203143068443,
          0.01801748968711769,
          0.0284065116686576,
          0.02254262060407441,
          0.02589647507395809,
          0.03255259389474152,
          0.011314124295513706,
          0.018959915951663357,
          0.012738515110284343,
          0.030552194186450613,
          0.020377513796755453,
          0.03349844591318418,
          0.020320392356205863,
          0.02213991260693926,
          0.015819764787091684,
          0.020832053665325038,
          0.05276199941657822,
          0.025899823482955275,
          0.02539427183412224,
          0.01974114399213689,
          0.03147351833852796,
          0.02850803874606589,
          0.00984246001813216,
          0.03720367175879025,
          0.009689579645981272,
          0.023350669970750196,
          0.023762299406704827,
          0.024020497172623445,
          0.012756161482397443,
          0.022552445901055984,
          0.025012840907046918,
          0.048126368636395744,
          0.014572904246306306,
          0.03380081133601398,
          0.020045921897181133,
          0.019086910940251837,
          0.013706012647635156,
          0.03563435241226043,
          0.028403400795396605,
          0.024566460410412102,
          0.015562326626110682,
          0.016047762101134344,
          0.04742513070866283,
          0.032228607275199606,
          0.01787068849074691,
          0.04033589904440449,
          0.018274343217427047,
          0.04785553906573203,
          0.028864017262776095,
          0.019779002647154043,
          0.023772920727704868,
          0.028863173787672117,
          0.02004309727284159,
          0.02548235414979949,
          0.0162107072041342,
          0.016140230063565575,
          0.019048152840847262,
          0.01722608314704677,
          0.032500396353160266,
          0.04242109081596857,
          0.02541216857586748,
          0.03093091037666995,
          0.0187790880465446,
          0.1025169113555826,
          0.003954821179277035,
          0.02413463776886715,
          0.030831547708336737,
          0.029584628153520812,
          0.025909847128793292,
          0.022805720244218897,
          0.01913585904180315,
          0.004290325751483247,
          0.013821567077853423,
          0.03481745135779435,
          0.02290663019360406,
          0.019078138115146803,
          0.0173915959147386,
          0.01775451889486379,
          0.04343002536253593,
          0.024021639739530976,
          0.021221566638570225,
          0.021726051352637832,
          0.0197770320417765,
          0.03998259689359207,
          0.03265118432106684,
          0.025524028273848698,
          0.041085799578060016,
          0.026029355557849243,
          0.02388690413057537,
          0.03438371642111071,
          0.02666641841086537,
          0.045029635613770484,
          0.02306713036790731,
          0.0013304312622888224,
          0.028647771336886892,
          0.03988923161819402,
          0.03645095690169975,
          0.025838084353447144,
          0.02596895379307429,
          0.00987597472412638,
          -0.00038648504533123074,
          0.04568633600338745,
          0.03649006734566562,
          0.038684423215089365,
          0.036873012140309365,
          0.02152708719952656,
          0.05044664738730442,
          0.03540561969354505,
          0.012587230285724171,
          0.008911679929067162,
          0.027805352112298957,
          0.028349590501816287,
          0.01886414050067331,
          0.00022689516033458368,
          0.016784542182022518,
          0.026620716028471048,
          0.03406278915072192,
          0.030609610096320683,
          0.02224111365934656,
          0.028578715462131976,
          0.00985666131071672,
          0.01774662657131221,
          0.005709351558228715,
          0.044493771803899566,
          0.019235672592961883,
          0.026252745767160413,
          0.031167064157843205,
          0.028961906821976188,
          0.02472383008303236,
          0.02512404003387325,
          0.02897021079573503,
          0.03053569448557525,
          0.02598407689634397,
          0.025898188587064386,
          0.019137009058590948,
          0.02198060233576737,
          0.029904710101469112,
          0.03281764762047579,
          0.02799297647943355,
          0.012887808582080941,
          0.017430690655963144,
          0.02824920937524733,
          0.024985495011071283,
          0.02034128152354531,
          0.04447758575910021,
          0.02292295036136149,
          0.0019440797964140886,
          0.02872304865012198,
          0.03422520706809706,
          0.032562588015812244,
          0.0042740204274129825,
          0.033345976850007515,
          0.03288367753827881,
          0.019866820161335445,
          0.03806158012722105,
          0.02156725056142439,
          0.029815352506086686,
          0.020424157891598904,
          0.028477339619352726,
          0.027822576595089688,
          0.03073247800266876,
          0.03616801236027278,
          0.0190356566151364,
          0.02544621983890405,
          0.035506623989368664,
          0.026343599092996328,
          0.03658990657462069,
          0.027273217549431683,
          0.013642450525125804,
          0.03922400477467836,
          0.02809723647672113,
          0.022112429505966924,
          0.02580004976730943,
          0.023500760337280102,
          0.0220058736074944,
          0.035474940302846925,
          0.020838474937724397,
          0.03772998377413917,
          -0.014709834203185834,
          0.04053487443881032,
          0.0310628446776533,
          0.03661383169641552,
          0.048828238265119735,
          0.022277595176118714,
          0.017306881171707644,
          0.019321880122403767,
          0.028944454276479625,
          0.021606626491574188,
          0.02107500196391077,
          0.026725049865504502,
          0.02565026938834092,
          0.041714568075364784,
          0.030722337215622893,
          0.031338869220566945,
          0.027590755394357732,
          0.014078168599764853,
          0.039166332856113366,
          0.02460214721487364,
          0.00952130136078,
          0.03837134782827767,
          0.033417579589391185,
          0.0095701929168015,
          0.008344020451811707,
          0.04539672591963551,
          0.03763115060323141,
          0.03800632147402538,
          0.033150547778354245,
          0.05949182966525201,
          0.020937244146484124,
          0.03846671656163125,
          0.030345859187837613,
          0.024426789560739515,
          0.019733788833705024,
          0.0114847270369689,
          0.029286941486780908,
          0.02795243102591005,
          0.023299805401046703,
          0.0448149481001463,
          0.03570877310300724,
          0.03395836315421485,
          0.030358504710785494,
          0.03062297202625275,
          0.029125107504738512,
          0.02020205263157404,
          0.031784963958973345,
          0.02638027294577938,
          0.01582490183780605,
          0.028724569956616982,
          0.010285287933581966,
          0.012204918411972798,
          0.02267752623891295,
          0.032802105116437115,
          0.04000047825808073,
          0.0330956745269162,
          0.024491281303195226,
          0.02555574405127592,
          0.012431721817668384,
          0.005362868256687525,
          0.013843702923394652,
          0.028935264849763612,
          0.02713658246388695,
          0.026606882661466047,
          0.04802152319953201,
          0.039985824683385296,
          0.03600776734674116,
          0.032725272990868685,
          0.010451283777413556,
          0.0326394728766688,
          0.01921875642496884,
          0.032051341835628744,
          0.020981711582145124,
          0.020459651318500915,
          0.03568526489662305,
          0.017515509278225094,
          0.02612742766766996,
          0.015940321750845362,
          0.029668561975223277,
          0.026901344829761475,
          0.0048811543786349,
          0.0191869822967532,
          0.03865122536442689,
          0.04057369513074871,
          0.03454421057935053,
          0.030736713996528,
          0.03788043225502302,
          0.014244579321304627,
          0.05032861854269655,
          0.0399618943097797,
          0.027881898296429064,
          0.01478697911121274,
          0.01791660571208586,
          0.021178168433751757,
          0.03332431664173452,
          0.0243552355449983,
          0.04354834155799736,
          0.0011470293458137881,
          0.029891723165354826,
          0.034028735958065985,
          0.03878714647502912,
          0.03125253957525476,
          0.022793314847961318,
          0.007409081812112639,
          0.0041556885451869965,
          0.043598041738862385,
          0.027587418223912863,
          0.025247853950653317,
          0.024920136268927084,
          0.05239978669064915,
          0.032857723927256284,
          0.026367882527092323,
          0.01994119551494511,
          0.027655281645045937,
          0.0479432501514776,
          0.024126282689605597,
          0.02935110890609116,
          0.02539523251145281,
          0.035404890571187016,
          0.02679004415602937,
          0.014586862640432187,
          0.010938582256736272,
          0.01928196028263951,
          0.028622980358188325,
          0.02793559276785751,
          0.009471206560441205,
          0.02120609318582489,
          0.04212251888943808,
          0.02603302117171014,
          0.023411319999269157,
          0.02082432263059819,
          0.029301811723743357,
          0.016600443925579134,
          0.02707280217071117,
          0.0227413802621661,
          0.009707551059793706,
          0.021460391374794385,
          0.016380702689182236,
          0.026579226206078888,
          0.012240440448034072,
          0.02252161540149533,
          0.03286036306507833,
          0.028741860416806157,
          0.03752430322523681,
          0.02627167889362769,
          0.022566515193100708,
          0.022835202596361848,
          0.05422135267325623,
          0.03066677221519165,
          0.01819031811033911,
          0.012243607750663354,
          0.01951569987010604,
          0.026502898509600525,
          0.026665405437316325,
          0.02018678740848312,
          0.023444196137750062,
          -0.000979614547034435,
          0.020068286876778533,
          0.02856943939165424,
          0.0639984086913814,
          0.01866359265113426,
          0.012471618397736473,
          0.012398879401153806,
          0.0385964278982065,
          0.045968559100484814,
          0.04233037470407086,
          0.017749163511820543,
          -0.0011413018725419108,
          0.030500440525096595,
          0.035964285660426754,
          0.02699413443903964,
          0.029987826869474214,
          0.02356084756687582,
          0.023080065205592026,
          0.0295539897142314,
          0.0365015502750492,
          0.03409310171432356,
          0.021531836437891583,
          0.020415974886103028,
          0.01566498496858837,
          0.030283903834956494,
          0.02974615417265314,
          0.007620846063603359,
          0.018782597476041833,
          0.008255479729041504,
          0.012202538307066746,
          0.01910154559745281,
          0.016398185959587197,
          0.006871110322394625,
          0.09019117106482487,
          0.04208540415935369,
          0.025184075599331782,
          0.03951441162690328,
          0.03217431062565157,
          0.029843631453506655,
          0.020496396549925192,
          0.020894674245256702,
          0.023297268194049314,
          0.0277589077783702,
          0.01633303630022298,
          0.016738399120237446,
          0.010195871651474286,
          0.041111420504628786,
          0.006969188947576255,
          0.02790657044701184,
          0.03687661510381357,
          0.0307915578471889,
          0.025198203078988124,
          0.02466043852316924,
          0.02109320970332762,
          0.025449108784528333,
          0.03133581996943291,
          0.028351649133440127,
          0.027992388620413863,
          0.02676473578748939,
          0.03228019218240608,
          0.0516731724546593,
          0.018281150659742677,
          0.01925155758808472,
          0.026229699185108316,
          0.01504222038434655,
          0.023494890376198896,
          0.03402780394586946,
          0.028504352996315818,
          0.036148427747832335,
          0.05166853720645026,
          0.025986736921967516,
          0.034879350744295934,
          0.022447779957956104,
          0.02274245838875899,
          0.03220803572354436,
          0.015483554640098653,
          0.0373087751976775,
          0.007985568121740226,
          0.016383497277944636,
          0.03402278204828457,
          0.03015653512582883,
          0.019166419384649917,
          0.03131810431991733,
          0.011343470520081222,
          0.008328879392110133,
          0.02879682816894192,
          0.02742005467614628,
          0.024017467780628854,
          0.029793598153237788,
          0.02249611805385454,
          0.03261858853270927,
          0.019640233936205176,
          0.013331426983048232,
          0.03362818358173092,
          0.046630863154673914,
          0.026739805925639404,
          0.022797233359256763,
          0.015620308287658704,
          0.03376059329145442,
          0.031685065006617615,
          0.009762978267952915,
          0.06654002507623602,
          0.028913555706433506,
          0.02534979876650123,
          0.02213136798993776,
          0.019814603421559163,
          0.026366205661215503,
          0.035266141188898814,
          0.03904155242285756,
          0.03732392921045746,
          0.0199664574641496,
          0.03845613831607997,
          0.02530529210300725,
          0.028957930869926374,
          0.07980758909361474,
          0.03768665893285972,
          0.02098210078357443,
          0.0182361042967496,
          0.03561387146818906,
          0.05636220579747176,
          0.0264353172257199,
          0.01206773398938199,
          0.0072431041575387045,
          0.04987202426747639,
          0.015645485265418202,
          0.027026692445869305,
          0.02528140492866981,
          0.02163488011262671,
          0.03154261671599912,
          0.04599578264058524,
          0.04020734803709436,
          0.03602753726466856,
          0.03973733206130015,
          0.02026112003166292,
          0.04368277555238498,
          0.022982801414238585,
          0.025445341520661916,
          0.012808158798897741,
          0.05089653446378284,
          0.022108987979195138,
          0.03737531457462717,
          0.030155775761786737,
          0.037183928470657664,
          0.0011339075921226185,
          0.028530247176453694,
          0.03253551204365479,
          0.009346554713441035,
          0.034997127102993415,
          0.020293080983634804,
          0.04902071824560483,
          0.029256394722624087,
          0.012509349512000556,
          0.05405126680057504,
          0.02585357930930554,
          0.03646948287307539,
          0.02217662871911497,
          0.03765720236706782,
          0.02662724632279456,
          0.021971797677008853,
          0.012867867631490615,
          0.023626965521727383,
          0.05553515113052376,
          0.05233165031290255,
          0.023793102722824644,
          0.029584158941713845,
          0.026257037906660896,
          0.03985458940076714,
          0.028021806757813076,
          0.022794467581647604,
          0.030622804713580143,
          0.02444554641524577,
          0.028003581092857388,
          0.045813671673179616,
          0.026431536202756067,
          0.04262690347515497,
          0.05186113736759879,
          0.04464581032064885,
          0.0400161113256392,
          0.030339069523703133,
          0.03872793421679699,
          0.034069737681599266,
          0.03421669056097132,
          0.02883991695487853,
          0.0028062470455063604,
          0.052070631687927804,
          0.036955275406433286,
          0.02571866095205344,
          0.03591514526708983,
          0.01603943850259726,
          0.02354753215884964,
          0.029411788785288495,
          0.01037576381915506,
          0.030307180869764805,
          0.04934951205330629,
          -8.918980940531007e-05,
          0.027475154910310492,
          0.030898559736489032,
          0.02815624434525055,
          0.020572488071446404,
          0.02943785278227695,
          0.021574000621650716,
          0.047974664047045534,
          0.027556578186445743,
          0.018274993868147016,
          0.028272560009748208,
          0.0425168846768218,
          -0.019023581218924224,
          0.03937450375261209,
          0.03745170590201563,
          0.048764236004416484,
          0.028341917658243787,
          0.03371224389532235,
          0.030134368783173663,
          0.026827197594037733,
          0.036668734968116734,
          0.009528142365675452,
          0.038041882767785314,
          0.0191914010220795,
          0.04348002565353992,
          0.02848087070264893,
          0.017322636193508382,
          0.034441956487571534,
          0.05822355071015895,
          0.010390654873914551,
          0.02377466188351951,
          0.00919532465311912,
          0.05198314555952921,
          0.0492639745835135,
          0.04919731624285273,
          0.046115215238070384,
          0.03493525094288308,
          0.01997560801522114,
          0.02025985443310496,
          0.024149677409346596,
          0.03208516832708108,
          0.003824490190780239,
          -0.0017989710746971754,
          0.013121836561931666,
          0.023903933748519623,
          0.024874952262661232,
          0.046073245243702265,
          0.02401015790360761,
          0.0161024908675802,
          0.023904742078829644,
          0.02625439147293207,
          0.035159293845695716,
          0.03800406715112481,
          0.031572898928723385,
          0.013487934989385941,
          0.030892467864073406,
          0.026777858837693902,
          0.0031620604806410486,
          0.026166368687969618,
          0.006189348322756638,
          0.012646094240799988,
          0.02532723013686633,
          0.03129936463003236,
          0.041082675306473686,
          0.029456744112646982,
          0.027621625859397314,
          0.034802001778430965,
          0.032149266678175525,
          0.034676759798601735,
          0.010853429097008815,
          0.025038438964513743,
          0.051409079387107585,
          0.03614830046564843,
          0.006848179164802515,
          0.029144443849814964,
          0.026650718339163992,
          0.03489860354193297,
          0.025972829937750408,
          0.024031324546459176,
          0.02746057789940704,
          0.014598289056789502,
          0.0020865583106568497,
          0.03683374021176422,
          0.027569432574028108,
          0.032635088656881805,
          0.02287536460656869,
          0.04515873754545385,
          0.032173651169771,
          0.046859229039828636,
          0.0360676111701661,
          0.041101563268982184,
          0.04163411905254622,
          0.03174675933319193,
          0.02267646444916394,
          0.03867347319107228,
          0.04003760175473658,
          0.025259450310005427,
          0.017019637495579998,
          0.012632782680032541,
          -0.019797753160829323,
          0.02446784479335373,
          0.02555811814957676,
          0.04002731399672643,
          0.02215558311788368,
          0.03659244340273449,
          0.033379102053007426,
          0.008538225816885792,
          0.02747706064207267,
          0.03072173432041203,
          0.022610488190683675,
          0.027301184901014297,
          0.02001254797740071,
          0.07484260538140952,
          0.006922920464522253,
          0.029084140873172126,
          0.03498240018056409,
          0.03391372348820098,
          0.023273008785236412,
          0.02824854643368635,
          0.01964145284553576,
          0.020218379838589984,
          0.021611663991203626,
          0.03181292560679938,
          0.02704760507296089,
          0.039138834238267466,
          0.04637218244046415,
          0.0237712499192162,
          0.014011624858827787,
          0.04109487249086463,
          0.03793827592806665,
          0.021679555302371426,
          0.028788026182626988,
          0.033084093919169444,
          0.04172352380923683,
          0.03538145933220349,
          0.037153169705802735,
          0.035950720826593896,
          0.01273529202725232,
          0.06618021441632592,
          0.036465409207001136,
          0.025025873365453144,
          0.022340292197752017,
          0.049310516863685816,
          0.029273514795764788,
          0.02353768190332506,
          0.0379235774601554,
          0.02615948601877971,
          0.031573292935386243,
          0.023770671799730136,
          0.04569250191290575,
          0.021729002142625964,
          0.030754903490359142,
          0.020657591325444983,
          0.020574329208706832,
          0.01633869186267667,
          0.026361001862165168,
          0.05157128207953954,
          0.0263162942623536,
          0.03661917115340008,
          0.03201818235211884,
          0.012969767511259887,
          0.031706474512714015,
          0.04948560294754434,
          0.0253376421268261,
          0.028840922001829524,
          0.0395231875244868,
          0.020909680774794825,
          0.01913266375749756,
          0.016850117246528296,
          0.009358510187646552,
          0.04085520140671717,
          0.022277535586986863,
          0.028280639806555374,
          0.023947417165023133,
          0.032167505127408624,
          0.0488485360219304,
          0.026815822152862708,
          0.02492956788394607,
          0.02415540880427036,
          0.026594088111994815,
          0.03536630089091042,
          0.01993588725464224,
          0.03852580249363502,
          0.033234412277754144,
          0.02753906192119815,
          0.010360566422738636,
          0.019492558824224068,
          0.02021263548095731,
          0.027953479041675774,
          0.0415717514947378,
          0.021161264199628604,
          0.012101729150334915,
          0.01873228097672075,
          0.053544692344449814,
          0.028401019312873418,
          0.004664104317211093,
          0.02714244569790236,
          0.01562496261940649,
          0.0393799135258075,
          0.04190037715790762,
          0.02395737429339051,
          0.02348605351197808,
          0.0363384815525829,
          0.025426969803103997,
          0.0062835806185252965,
          0.03181184902754608,
          0.02543864271694041,
          0.02377401724884365,
          0.03792515466543933,
          0.03131089641489515,
          0.03270978517965073,
          0.04092567746933273,
          0.04195805966084598,
          0.021423770865204528,
          0.034026472497504345,
          0.03755805416722291,
          0.0123787054210156,
          0.029790078878227044,
          0.04597446348576839,
          0.029841321305979163,
          0.02827080317549013,
          0.026182282860344845,
          0.016388332269782868,
          0.03465201016643426,
          0.046085655235878376,
          0.018414537800980343,
          0.05215957331640508,
          0.03057910877700465,
          0.0331410240874912,
          0.047490943112319606,
          0.041268025668405935,
          0.026287144157503217,
          0.025367733952414984,
          0.019557652950272786,
          0.04715063274973108,
          0.017491620544669573,
          0.018733377373590043,
          0.0338754457475392,
          0.032227707339065326,
          0.027843203564990704,
          0.022886153557292618,
          0.04044045721415568,
          0.027374747304515838,
          0.03330677977193619,
          0.028023506600528547,
          0.012149105285352846,
          0.031190783504560393,
          0.029330561637113117,
          0.01653558962357149,
          0.009084792019372623,
          0.024551483012217323,
          0.046868687515077,
          0.02235751239516404,
          0.034421622664344564,
          0.027917904853019367,
          0.02839637777221426,
          0.01501280329007826,
          0.04004674707324463,
          0.041977171842823464,
          0.015325712443707841,
          0.033679893033508934,
          0.027584624422793302,
          0.019484883601856632,
          0.02539846738479889,
          0.026187903065647108,
          0.016164010327452738,
          0.02358480676397701,
          0.03839524219842594,
          0.02308002779703,
          0.023819237742199517,
          0.01124361359176862,
          0.013363824975941352,
          0.028594112583964607,
          0.03258331871348141,
          0.019203273650215458,
          0.02502303894604041,
          0.016170133200684944,
          0.03223465984691254,
          0.042261203714027314,
          0.017624795725148083,
          0.02150117960714804,
          0.04060532245796145,
          0.03622964198972367,
          0.034608468728505086,
          0.03673256630838795,
          0.0219153176070086,
          0.029626923133523775,
          0.03763259021925292,
          0.023576422884330928,
          0.016341806394829742,
          0.02315510042675606,
          0.030808564837226493,
          0.037082256162475284,
          0.010261838597740436,
          0.03595594986690931,
          0.023836421846520798,
          0.024562164009979792,
          0.06285657952892554,
          0.03966656645420042,
          0.04154904569073637,
          0.01887641430958831,
          0.01243816409177323,
          0.028386029358958176,
          0.03889889406297642,
          0.050586142480667284,
          0.02267653163599093,
          0.023821003477078277,
          0.03399627503254177,
          0.04081926000072533,
          0.027908848982971524,
          0.03803737835443477,
          0.027532798282065674,
          0.024954122428051173,
          0.018958934792114857,
          0.014770293312642346,
          0.019292446863232504,
          0.0452132499810185,
          0.013629662122005335,
          0.02457799648613923,
          0.022145171135292685,
          0.0504406349112827,
          0.024637307781961267,
          0.01001116013480452,
          0.02474781324263642,
          0.026679664700594463,
          0.02706141004770624,
          0.038125466280892084,
          0.03392303441822864,
          0.01993642765595016,
          0.023018645835294338,
          0.030489796462139118,
          0.0332886851323666,
          0.01660708093700714,
          0.039223618809085085,
          0.02318455864459601,
          0.057798119360454876,
          0.01511316680352359,
          0.026511114476751363,
          0.019398428128568183,
          0.038414425824225606,
          0.008005207797267877,
          0.03368328851786928,
          0.024449973764245625,
          0.04707664300090642,
          0.03093296510561872,
          0.02264106865806004,
          0.03732996242975428,
          0.030398274838937974,
          0.04692517407247965,
          0.0348981552634795,
          0.03882872634493828,
          0.03392474113855504,
          0.02222438618053668,
          0.02095575711681064,
          0.007938529570394426,
          0.017977027759596753,
          0.03536297504132402,
          0.022543530983315074,
          0.017092776224097106,
          0.03369202482881084,
          0.01961766419464195,
          0.04744371588773033,
          0.01576201810456701,
          0.0391241373148743,
          0.03889822532039311,
          0.03053889136026111,
          0.02027531405073546,
          0.03684866571065304,
          0.014080078042718602,
          0.021876081997008745,
          0.032418457580631665,
          0.026346641618828714,
          0.016990954457423157,
          0.039489701227205735,
          0.020422545183795385,
          0.019448700672195063,
          0.02989318695433973,
          0.024067572483691846,
          0.027244058940253613,
          0.034123004486974695,
          0.011543216554858793,
          0.019435414321598232,
          0.013428755277544058,
          0.0326231805662196,
          0.02136934354648901,
          0.0360152753818479,
          0.021088391607861467,
          0.023786482492812237,
          0.01672614379273818,
          0.02192088335084508,
          0.0549685870090264,
          0.027514918556309054,
          0.027860672485124468,
          0.02073699705140553,
          0.03297757408241386,
          0.032065250222053754,
          0.010676683091781712,
          0.039771787933375664,
          0.010314477923228038,
          0.02490760243333145,
          0.024943895746124326,
          0.025327979929551825,
          0.014137283765659037,
          0.024007199917062568,
          0.026620883680418483,
          0.05187230917263164,
          0.01530938191726272,
          0.03532773776880305,
          0.0216525512688448,
          0.02012333271760136,
          0.01505212310883586,
          0.0378089460097808,
          0.030315149075101244,
          0.02677871762801609,
          0.016600532038366422,
          0.0166251727566904,
          0.047860281666948216,
          0.03414070952762338,
          0.01874648202972673,
          0.042798268023231056,
          0.01914534234101062,
          0.051725991151580164,
          0.02998053656816468,
          0.02069005473765495,
          0.02533445551860836,
          0.03098685792221434,
          0.02139270846634433,
          0.027332117961721858,
          0.01765909347002137,
          0.01691635402617564,
          0.02049119437074598,
          0.018457140404250397,
          0.03468304882903661,
          0.044948331036787526,
          0.027518737282263173,
          0.032597485977307265,
          0.02045271774941404,
          0.10908775813221117,
          0.0042958240035306785,
          0.025632434929836467,
          0.03251302567538628,
          0.030731397793609894,
          0.027272102251966638,
          0.024252183569336342,
          0.01993238802824915,
          0.004818834517731796,
          0.014615171458553844,
          0.03694363965306957,
          0.024221272323872167,
          0.02069191259277248,
          0.018287776690646632,
          0.018931849662637838,
          0.04647574083415162,
          0.02578156443847424,
          0.022374791325281414,
          0.022577257851913224,
          0.02072267226099811,
          0.041786386022386816,
          0.034301653517767816,
          0.027217298446413185,
          0.04415297544887653,
          0.02753283785635308,
          0.025389656151039386,
          0.03675665260360272,
          0.028435995537592795,
          0.04791092621609505,
          0.024539698512395125,
          0.0019282338835280302,
          0.030059899495427086,
          0.042364556107018066,
          0.03805651858493042,
          0.02799060867999925,
          0.027562262776991142,
          0.011663913726795759,
          -0.00016286539068344208,
          0.048349121522861534,
          0.03887526216789672,
          0.04167941716708423,
          0.038843228002453545,
          0.023049937000513717,
          0.05398323270633254,
          0.037146831886059495,
          0.01345356923732455,
          0.009090267890200732,
          0.029537983634928544,
          0.030532153140940155,
          0.02013359745757604,
          3.6479704721648076e-05,
          0.017364242633621796,
          0.02839521968528413,
          0.035679473396090344,
          0.032722777527747215,
          0.023539878713247253,
          0.02975437819391735,
          0.010567950854538877,
          0.01857656083971904,
          0.005588883263007549,
          0.047071698696040436,
          0.019897686416051164,
          0.02795311094384956,
          0.03334185301970693,
          0.0306013567953205,
          0.02546080851840293,
          0.02642446861834724,
          0.03109098200888472,
          0.032430195492594294,
          0.02725005931850788,
          0.027267300346659917,
          0.020667781903134674,
          0.02293515648884181,
          0.03200285224988564,
          0.034708499048110575,
          0.029664758613118236,
          0.013914049364656568,
          0.018408882097279426,
          0.029907833266814787,
          0.026892830588439283,
          0.02137503160533094,
          0.04751352514910123,
          0.02448467842581037,
          0.0014779786281389207,
          0.030712620840778637,
          0.035543248745526064,
          0.034809003859866294,
          0.004563621923234562,
          0.03507022721440034,
          0.03431765430743172,
          0.021582009422892456,
          0.04024232884490342,
          0.023435210530289963,
          0.03097553497237415,
          0.02176048343387671,
          0.03038938469175512,
          0.029399108252853082,
          0.03253702212100462,
          0.03753950981338017,
          0.020315387070851232,
          0.02681462877268204,
          0.03652113659116085,
          0.02778297205573943,
          0.03958952766978796,
          0.02984268472873341,
          0.014966737431727497,
          0.041853677791706456,
          0.029353197481836624,
          0.023771997320199526,
          0.027183349149057182,
          0.024890946210637917,
          0.0230673694353114,
          0.03822235060013224,
          0.02190762688681236,
          0.04127256731984152,
          -0.01559192817279853,
          0.0417177094797192,
          0.03323982136177084,
          0.037811940781715236,
          0.05202031301729471,
          0.0233965781119454,
          0.01827240356908666,
          0.02074245584821321,
          0.030708073306407124,
          0.023217714311993157,
          0.02273164601557021,
          0.02801195384201249,
          0.027551770780469772,
          0.04312138766393003,
          0.03276995945863459,
          0.03270086399315941,
          0.02968931009496445,
          0.014603494935972794,
          0.041886383261909854,
          0.026482886961330943,
          0.010186978591122609,
          0.041102179661220095,
          0.03476900889674939,
          0.009014081225622084,
          0.008746312317279514,
          0.04857466320368586,
          0.03931107139609513,
          0.039978912170738345,
          0.03541474682735268,
          0.06260958689454132,
          0.022116088435311543,
          0.040309284686695264,
          0.030603781338570224,
          0.026775970028773962,
          0.02065963225266532,
          0.012187741826927391,
          0.0302318881017003,
          0.029845144773050336,
          0.024877056613496595,
          0.04694577456603932,
          0.0377554869578014,
          0.03600734227920088,
          0.032563148279258984,
          0.032095475040651245,
          0.031066668220592012,
          0.021433605279356668,
          0.03338363139005951,
          0.027920471818831727,
          0.017160877480657533,
          0.0312683446833506,
          0.011463676783647792,
          0.013010675864029821,
          0.023403885629770468,
          0.03434897997415387,
          0.04274229463397017,
          0.03508716094871511,
          0.02604700163365781,
          0.026818322437548225,
          0.012770098596259771,
          0.0052194301839958435,
          0.014677105632370013,
          0.03034268683773212,
          0.0283943163933198,
          0.028246491547355482,
          0.051417128565529165,
          0.04211848581655886,
          0.03969580563634412,
          0.03432630906470857,
          0.011403842236364923,
          0.03512658494165577,
          0.02013052000933824,
          0.03232217901720502,
          0.02222125007254649,
          0.022275886148739987,
          0.03794104020377409,
          0.01861646027300168,
          0.027509462368134896,
          0.017193889215720626,
          0.031151997722810743,
          0.028234678069914088,
          0.005795560563696123,
          0.02046090509029419,
          0.040898343277767424,
          0.043305172114902035,
          0.037680347733658685,
          0.032082695282114486,
          0.04033161591082024,
          0.0151889869879267,
          0.052673579950871297,
          0.042301000540836416,
          0.029896163236374337,
          0.01552441035147245,
          0.018982731152385583,
          0.02227049425043015,
          0.03514222653981758,
          0.025941849874082656,
          0.04608065117923599,
          0.0012146307279616853,
          0.03201703838569259,
          0.0369049343579797,
          0.03998458318862408,
          0.03280908770238833,
          0.024084417850162243,
          0.007534187279492287,
          0.004742797429216239,
          0.04633577580043613,
          0.029604718056484455,
          0.02703912201379399,
          0.025933688902876062,
          0.05545214634422901,
          0.0349214189102629,
          0.02797568510195836,
          0.020957711363938758,
          0.029591989429230917,
          0.0517313245659794,
          0.02580918768257812,
          0.031275374502886644,
          0.02661764998697258,
          0.03724603179431574,
          0.027561068216665152,
          0.01565586372165595,
          0.011445234135367688,
          0.0208650842135536,
          0.030729215426572812,
          0.0294798852289615,
          0.010447892946123584,
          0.022442873310794642,
          0.04499358519697872,
          0.027436736682611373,
          0.024498053537318487,
          0.021987542664502646,
          0.03102735021302694,
          0.016515781256211115,
          0.02864541274678767,
          0.024737874772356342,
          0.0104632128155433,
          0.023110273436459217,
          0.01751314031483919,
          0.028297036452750838,
          0.012671322631449431,
          0.023170675811240216,
          0.0354854843141017,
          0.030809676605358938,
          0.040855879861606985,
          0.027580847337551173,
          0.024216851891660784,
          0.023947171464812067,
          0.05702025092005258,
          0.032806189799282626,
          0.01940045564024451,
          0.012485606547682826,
          0.02065800059647649,
          0.028372766781222362,
          0.028380090842883288,
          0.021325857627093825,
          0.02470945760412913,
          -0.0012474301151508274,
          0.02110993829651053,
          0.030220526976308063,
          0.06838717596005628,
          0.020050929195466027,
          0.013344025129882198,
          0.013146464044355266,
          0.04119798260170482,
          0.04822939564646389,
          0.04575691512682512,
          0.018931621646464114,
          -0.0016796790594048039,
          0.03341546781623883,
          0.03770576713870977,
          0.02854165300968892,
          0.03142865128264116,
          0.025308864793961442,
          0.02482091538050013,
          0.03132939037605964,
          0.03980810391126388,
          0.03657292792354872,
          0.022985136672201145,
          0.0218723845258475,
          0.016934056990518753,
          0.03235199160971747,
          0.031843520032125205,
          0.008153426035232503,
          0.019866576370749067,
          0.008161418669811571,
          0.013560817115843005,
          0.01880250305586828,
          0.017765077250526232,
          0.0072598252228213145,
          0.09623104216943457,
          0.044460614393879716,
          0.02635269932187501,
          0.04171916771771733,
          0.033614034735345966,
          0.031240099555222445,
          0.022238824330507168,
          0.023065705421349447,
          0.024552566677569217,
          0.029098219580147026,
          0.017381655378696736,
          0.017767177621151653,
          0.01107017010714828,
          0.04349419173207303,
          0.007277443219965819,
          0.029554825237539276,
          0.03776661321375352,
          0.03270838964710854,
          0.02680257202908609,
          0.025304309991541984,
          0.02170236437902906,
          0.027174717005859383,
          0.03304008127291458,
          0.031029283738708505,
          0.02966810691219535,
          0.028126707703607142,
          0.03396545550141283,
          0.05490680670970649,
          0.01931372238340412,
          0.020896574168629774,
          0.02721545768624956,
          0.01617299563780894,
          0.025178054655695226,
          0.03621430028545092,
          0.02993135754672993,
          0.03849024909150334,
          0.055509774859753946,
          0.02767170509573913,
          0.03645020739602933,
          0.023799735578302398,
          0.023774287308499176,
          0.03432564014771078,
          0.016061014831639353,
          0.04050134606828682,
          0.008716063215100434,
          0.017174498940073057,
          0.03644405786189209,
          0.03123385049278271,
          0.020355762468977637,
          0.03456542362823711,
          0.011912854669018369,
          0.009411488489388995,
          0.030709474265759207,
          0.02969005157467497,
          0.025248521199834784,
          0.03126329974527775,
          0.0236560894781157,
          0.034726124232616014,
          0.0207361064799354,
          0.013169448692615715,
          0.03532999965507022,
          0.04978074977332403,
          0.02819256996875508,
          0.02543705916264649,
          0.016980180830788782,
          0.035689784269541384,
          0.03496439426625875,
          0.009898115058465828,
          0.07097155850317137,
          0.03030720207466575,
          0.02698659486467303,
          0.023832494405553902,
          0.02157143297195363,
          0.02843820042955203,
          0.03777556815819239,
          0.041545153916879414,
          0.03864147524427963,
          0.020970832411724816,
          0.040777092309327134,
          0.027256485181444967,
          0.030080431946360783,
          0.08554864270160167,
          0.039174667934331664,
          0.02144914349907889,
          0.020013218445989574,
          0.03836425968804336,
          0.06052881506871355,
          0.02869250651678712,
          0.013109724243459464,
          0.0077627029476767815,
          0.052421012608449225,
          0.01728940881871166,
          0.02877498897742692,
          0.026973910873143717,
          0.02502576245019772,
          0.0342817305979084,
          0.049169528428001374,
          0.04313270177178241,
          0.038141769136058816,
          0.04159715835361832,
          0.02129114381482955,
          0.04649060477399658,
          0.024267858638646892,
          0.026997615264894304,
          0.014007515254270464,
          0.05493265563522587,
          0.023661147232401536,
          0.03956322545280755,
          0.03211013477332792,
          0.03906574617009562,
          0.0013323046657620632,
          0.030156747834460432,
          0.0348011268925692,
          0.009665084870098315,
          0.03730164762686283,
          0.02203335480476776,
          0.052311519048645394,
          0.030801922754688068,
          0.013383368359300095,
          0.057655165774290314,
          0.027180811864920384,
          0.038830194417416315,
          0.023588640214682544,
          0.039289444120281125,
          0.0281233611835332,
          0.022676306989028342,
          0.013272360195208943,
          0.024375027111093628,
          0.0569115133488185,
          0.0541007942529752,
          0.02470644937239208,
          0.030194372960040683,
          0.027149720662353216,
          0.04141780054281696,
          0.02867036158520841,
          0.023319984194043686,
          0.03151901336337315,
          0.02524188133295291,
          0.02889589036773477,
          0.047185698102127686,
          0.026922253734860343,
          0.04356630740901868,
          0.05336939302164345,
          0.045796399124139686,
          0.0406790346496988,
          0.031307871962051204,
          0.039908670445303114,
          0.03498743289279016,
          0.035327352465076345,
          0.02972248709687042,
          0.002971855390667022,
          0.05394440428043778,
          0.038023798034706235,
          0.026550720725708517,
          0.03711613569301475,
          0.016603584904869573,
          0.024315716853789082,
          0.03001516005760285,
          0.010921919145988168,
          0.031275952601593104,
          0.05053063977220496,
          -0.00010115437158730868,
          0.028045536231229073,
          0.03175059325642193,
          0.02925637466293018,
          0.0208026771286014,
          0.030289308850549368,
          0.022658651136995944,
          0.04936030618337872,
          0.0282736349017112,
          0.01895953035381659,
          0.029128022162401512,
          0.043620000939414094,
          -0.019406002954446718,
          0.04027289381398469,
          0.03849808019786827,
          0.05018724868470215,
          0.02920452438700716,
          0.03441146509087867,
          0.0309667322667031,
          0.027658905343429296,
          0.03739661880210887,
          0.00993729356103601,
          0.03894874655700442,
          0.01995744028357138,
          0.04465524614190164,
          0.02931178333336426,
          0.017636824986653418,
          0.03518866157497835,
          0.059893480573304014,
          0.010567257360529105,
          0.024554328547105486,
          0.009625573015175526,
          0.05409713116876147,
          0.05075655877370755,
          0.05097038792576058,
          0.04751084324723598,
          0.03584081066939171,
          0.020623099097767602,
          0.020575766431403686,
          0.024913552220455548,
          0.03317925900206009,
          0.004071102435522889,
          -0.001861907345265923,
          0.01346564094480418,
          0.02433995787414434,
          0.0253183647980757,
          0.04770466717977717,
          0.024882108690890137,
          0.01673907382712292,
          0.025083075035207347,
          0.027478309483376817,
          0.03623225338535319,
          0.03907158747431483,
          0.032326604999061585,
          0.01403692920598587,
          0.03172843444720685,
          0.02758668447713597,
          0.003580587976085514,
          0.02700897684547932,
          0.006730253280913923,
          0.013002901957785308,
          0.026219814783057904,
          0.03189972189093515,
          0.042449003983854094,
          0.030039281152327787,
          0.02803570064502381,
          0.03570871571198908,
          0.03309597386839136,
          0.03556836603548619,
          0.011037587899183965,
          0.02598683479056629,
          0.05265745172130365,
          0.03711967954003082,
          0.007001247403886302,
          0.03037211808849638,
          0.0274586407523707,
          0.035491436166751315,
          0.02662837992082201,
          0.024648764235265075,
          0.028268790605792567,
          0.014974572129398568,
          0.0021901452282031553,
          0.0378586641224925,
          0.02846946601554245,
          0.033613383644755634,
          0.023328789280769868,
          0.04680434261600186,
          0.033230486120108704,
          0.04816830815610218,
          0.037760108085043376,
          0.043043908273477934,
          0.04317481511659915,
          0.0323584655733391,
          0.02318382974277577,
          0.03974893570827853,
          0.040888079506509634,
          0.025586319639460564,
          0.017631315217222717,
          0.013017887285435405,
          -0.02014417856250994,
          0.0253022716472393,
          0.02629167806032595,
          0.041185200457942495,
          0.02290245797652024,
          0.037751022958429685,
          0.034363503035623744,
          0.008819355573842502,
          0.028137150818547285,
          0.032162624331514955,
          0.02323527150221416,
          0.027900782222281432,
          0.020846936343246192,
          0.07688808798058888,
          0.007328691871626214,
          0.03008816126055436,
          0.03646070482830077,
          0.034830314212972224,
          0.02402323021258645,
          0.029393388791279836,
          0.01983479976015201,
          0.020793872869497854,
          0.022082287270146942,
          0.032775379002980554,
          0.027938698301368525,
          0.040167143986892695,
          0.04778075822773653,
          0.024306271381275838,
          0.01419172360940646,
          0.042058136116926326,
          0.039115833509297586,
          0.022251285202749882,
          0.029436697639185324,
          0.03424245329363318,
          0.04301062939622313,
          0.03653758281401975,
          0.03824336198413336,
          0.03698333404118026,
          0.012997959519506884,
          0.06852274849586792,
          0.037100736240933685,
          0.025748298540495318,
          0.02301008691359674,
          0.051284955681856204,
          0.0307342237610011,
          0.024339590818999838,
          0.039119032302116,
          0.02680232166126295,
          0.03242294740622476,
          0.02435637386095979,
          0.0470594815498111,
          0.022430434974424877,
          0.03161477840864313,
          0.021467118980567083,
          0.021627956117270752,
          0.016926884483571714,
          0.027243303448567516,
          0.05307963051148623,
          0.02709623888471846,
          0.037552214344817036,
          0.032598958096469184,
          0.013419496858533496,
          0.032837766582291435,
          0.051129218366233735,
          0.02603739601230393,
          0.02952864612125472,
          0.04048203775589898,
          0.021471420323520674,
          0.019715122894540468,
          0.017367292393373424,
          0.009837068667564177,
          0.04203384817028377,
          0.022788181459443058,
          0.0292302252196599,
          0.024898813708946088,
          0.033045481409805344,
          0.05042723176495945,
          0.027357440932478827,
          0.025807679424185714,
          0.02495646454434564,
          0.027497343679025343,
          0.03620013611685224,
          0.02038978500610411,
          0.03949728707812095,
          0.033822836058384764,
          0.028243477621294533,
          0.010492620871142222,
          0.019959326918208564,
          0.020667445182354527,
          0.028823586065349405,
          0.0423342616104061,
          0.022052175796405612,
          0.01251149785786132,
          0.019327710599867043,
          0.05528439299678234,
          0.0293987035227834,
          0.00503805209268382,
          0.02799228502994988,
          0.01603978189893951,
          0.04064903084442495,
          0.0435147224097272,
          0.02481460405049396,
          0.023905477463305846,
          0.037503500783440565,
          0.02637807780317658,
          0.006267170389333332,
          0.03268016647814975,
          0.026069414692027504,
          0.02446896845178204,
          0.038870186078769235,
          0.032022207178147744,
          0.03385262490351182,
          0.042336091090990464,
          0.04298360068048801,
          0.02164488358651173,
          0.0352325811470533,
          0.038726151451964334,
          0.012616511579946588,
          0.03098856574377828,
          0.04743667827431497,
          0.030988330069279257,
          0.02891132324458323,
          0.02677453574286792,
          0.01656624124724404,
          0.03532055924983779,
          0.047576157312178236,
          0.019008057738644668,
          0.05424021251437838,
          0.031470476147655864,
          0.03437771383865273,
          0.04905107988576307,
          0.04271579616039856,
          0.026936725264171013,
          0.02625778230108189,
          0.02040785894037378,
          0.04848388572122042,
          0.0175210635681724,
          0.01908153345976027,
          0.034858393301688606,
          0.03325492789765128,
          0.028550573963247006,
          0.023823275300794974,
          0.041182687140858265,
          0.028284161160108786,
          0.034101645166598304,
          0.028974061152585277,
          0.012551206956571416,
          0.032167535531771874,
          0.030378336638329895,
          0.01685518712344547,
          0.00941171960650733,
          0.024993722987923798,
          0.04908930397434808,
          0.022964654902238868,
          0.03536235130271925,
          0.028406371335970793,
          0.02939434991904322,
          0.015413882682007829,
          0.04040101360839987,
          0.04346638614928233,
          0.01579466295750454,
          0.03480207339548147,
          0.028366699060111914,
          0.02012388124493936,
          0.026072835372153547,
          0.026816055947364026,
          0.016822972409614056,
          0.024123675622434115,
          0.03913889067160548,
          0.02370939196739408,
          0.02430546164708325,
          0.011488784129630059,
          0.013512534950710142,
          0.029597814667986944,
          0.033258954806905994,
          0.019845216891579698,
          0.02601149350634313,
          0.016518351058307568,
          0.03316181317505884,
          0.04358895020859577,
          0.01797666269635778,
          0.02223365746887218,
          0.042243826047524635,
          0.037211445773913436,
          0.03665757002089598,
          0.037875914181657366,
          0.022566995829063075,
          0.03049687887719577,
          0.039318951251521066,
          0.024201733982788687,
          0.016699752133796153,
          0.024268945643894257,
          0.03168090835262394,
          0.038254165488427416,
          0.010498092577555074,
          0.036938982616271376,
          0.024171432275214236,
          0.02539480832120411,
          0.0647028584864362,
          0.041024675119522236,
          0.042565685172984084,
          0.01935940461792507,
          0.012838968038568543,
          0.02914765653115503,
          0.03996235841730189,
          0.05213827672865223,
          0.023343702865875168,
          0.024701467478154715,
          0.03463084059459565,
          0.042418859577920236,
          0.028742484674655344,
          0.039767295658842634,
          0.028051012274957543,
          0.02563682841937309,
          0.01945301065817007,
          0.015176491927568538,
          0.01965981203981904,
          0.04641151382758979,
          0.013878251444104928,
          0.02530030289430818,
          0.02280523825494796,
          0.0517720771989032,
          0.02526460128725838,
          0.010327778418594448,
          0.02537182341446309,
          0.02759508180052439,
          0.027977029283174915,
          0.03903718401498768,
          0.03538917274244602,
          0.020385187479240674,
          0.02389993014796365,
          0.031193168762022605,
          0.03404162085499718,
          0.016996538536935724,
          0.04062118514644242,
          0.023638830127663324,
          0.0593015408168478,
          0.015519608203013346,
          0.027432331952382597,
          0.0202252898662878,
          0.0399436355520113,
          0.007946189535960047,
          0.03480065536962251,
          0.0251234810661094,
          0.048234320780557116,
          0.03230928214359907,
          0.023354322635065428,
          0.03835523601653579,
          0.03141403073160886,
          0.048100849272266766,
          0.03594747143219457,
          0.04003115437527471,
          0.03510887749482361,
          0.023044258996557158,
          0.021635711734903532,
          0.007909395410375497,
          0.018703489631602288,
          0.03654401136628516,
          0.02295563751020824,
          0.01744058278079108,
          0.03457260034431564,
          0.02022776955568961,
          0.048802643062602964,
          0.01654256572630941,
          0.040019438414222286,
          0.04017375128175527,
          0.03144780327471386,
          0.020778870146495487,
          0.0377072078861147,
          0.014704364715635744,
          0.02218054711865469,
          0.03340070504432213,
          0.02700733038262415,
          0.017255530460274837,
          0.040383956079768746,
          0.020693561699461016,
          0.020444574306653918,
          0.030759779714000457,
          0.024642054835912308,
          0.028168425152308663,
          0.0351527959697282,
          0.011817005863034023,
          0.019825647068223876,
          0.014050446719983123,
          0.033427927903458166,
          0.02209388700485837,
          0.03737198189693358,
          0.02145510226383873,
          0.024209988127775084,
          0.017178376221844042,
          0.022346677295284282,
          0.0567840395462933,
          0.02828864492562455,
          0.029148616149843543,
          0.021317373128936667,
          0.03386078986642649,
          0.033236089545287666,
          0.01094838230995143,
          0.04105804915954448,
          0.010737765938414023,
          0.02567069546450806,
          0.02558073090991675,
          0.02596732169282534,
          0.014277074510067544,
          0.02490104230043011,
          0.02754093895063403,
          0.05327189288959522,
          0.015704513077390514,
          0.036510177392128806,
          0.022536189903418883,
          0.020576191525291557,
          0.015369170696779788,
          0.038854389759102485,
          0.030791800308550325,
          0.02776661438087213,
          0.017384774240307266,
          0.01720851971037618,
          0.048774862488402786,
          0.03563664079617124,
          0.0193330159951155,
          0.04444452217620354,
          0.019450389010300384,
          0.053666564770966214,
          0.03130665001760713,
          0.0213475267538612,
          0.0260127263166734,
          0.031754099116897194,
          0.021799804318322517,
          0.02809101876266662,
          0.018414398722409464,
          0.0176087972921406,
          0.021107520715111683,
          0.01895726957620214,
          0.035789780667257354,
          0.04630850379869567,
          0.028341574030699587,
          0.03367083676012439,
          0.020828997074814115,
          0.11239013464270586,
          0.0043786074735461256,
          0.026390763004876527,
          0.03372716111219498,
          0.032092512844992704,
          0.028000891962940862,
          0.024918716764085413,
          0.020736459973331955,
          0.004609532614685552,
          0.015084504340137306,
          0.03815596435141422,
          0.02491439170684928,
          0.021086987233566837,
          0.0187085302780714,
          0.019492219200075045,
          0.04760296646882711,
          0.026685050982296232,
          0.02281599118075639,
          0.02291997795583001,
          0.02147239046754224,
          0.04283658061551021,
          0.03513520876839382,
          0.02799577495352934,
          0.04529633868178329,
          0.02842195478097587,
          0.026121857093438058,
          0.037837628832330106,
          0.02919529937152165,
          0.049085108434361764,
          0.02499002168940456,
          0.0023182914317616547,
          0.031156492514115893,
          0.04372626618584752,
          0.03931170324155797,
          0.028866226449691057,
          0.028621080396913582,
          0.012025634837045551,
          -0.00018547468568963502,
          0.05002856120464072,
          0.040068997800556616,
          0.04253643397256402,
          0.03995248870238277,
          0.023556194155990084,
          0.05538441153887508,
          0.038036800258028025,
          0.013757368387126157,
          0.009253512898857341,
          0.030466698804769488,
          0.031166938537550593,
          0.020474570559392724,
          0.00045198430792425803,
          0.017601307499894414,
          0.02908441834108855,
          0.03677259602851657,
          0.03377891272468814,
          0.02434963858919148,
          0.030866618816852487,
          0.010997146248738154,
          0.01913917790718056,
          0.005930528043297079,
          0.048418988664689085,
          0.020929104254090447,
          0.028969645207470363,
          0.03443976796682091,
          0.031616774751457744,
          0.02601643300266621,
          0.027141833919704483,
          0.03242153700532402,
          0.033272277846694065,
          0.02809600085289721,
          0.02799928204616986,
          0.0211086468846593,
          0.023705471239354958,
          0.0327711569114395,
          0.03559073788805378,
          0.030523325773160526,
          0.01418917560579547,
          0.018749993261218508,
          0.031201898027781724,
          0.02755714919413066,
          0.02195145908082208,
          0.048671375299436326,
          0.025189844670795214,
          0.001029158251101503,
          0.03174614262035713,
          0.03644006921902498,
          0.0355768372486176,
          0.004407371502378021,
          0.035902347065700946,
          0.0351680018694025,
          0.02230192836716061,
          0.04130638897254646,
          0.023989029115936592,
          0.031787779783374326,
          0.02247064099130736,
          0.0311801459601575,
          0.030139122564375675,
          0.033479450881494184,
          0.038179265486532284,
          0.020829976676786544,
          0.02754188014885961,
          0.03761910534434998,
          0.02852016429243465,
          0.04078585115789668,
          0.030906288614203525,
          0.01546084143148341,
          0.042891211234826976,
          0.030214054647173638,
          0.0242977653587928,
          0.028051640579991318,
          0.02573680199142969,
          0.023901193683804944,
          0.03894778339169491,
          0.02259197388545675,
          0.04254287313444771,
          -0.015886226958051086,
          0.04278445564400801,
          0.03415420347535303,
          0.03828047823947567,
          0.05376518747293657,
          0.02397018890499636,
          0.018889675903157373,
          0.021315628163249608,
          0.031704428896440984,
          0.023832836636312527,
          0.0233219449389217,
          0.028782345746219736,
          0.02833235461072592,
          0.04425430779356776,
          0.0338806701885106,
          0.03362752990538742,
          0.0307549489147696,
          0.014992133571640087,
          0.04258389189967726,
          0.027120384587835836,
          0.01060289407966408,
          0.042576334071939385,
          0.03572106511673678,
          0.009327437515669336,
          0.008959173857741032,
          0.04980217491799355,
          0.04057431775092368,
          0.041017334319026766,
          0.036261657792826966,
          0.06448544917038634,
          0.0227843877493481,
          0.04184679143013415,
          0.031192958719738376,
          0.02748475139885209,
          0.021145788171422764,
          0.012387327480294584,
          0.03141133399177254,
          0.030693686412601506,
          0.025739618299795763,
          0.048159053545478336,
          0.038719728738588984,
          0.03703452923320416,
          0.03362017188938626,
          0.033215670833032895,
          0.032172120349786885,
          0.02211695386747969,
          0.03414294612677948,
          0.028908685614663417,
          0.017487364076576917,
          0.03190267187904583,
          0.011803709526931216,
          0.013421971340004557,
          0.02387520240295493,
          0.035550780215639184,
          0.04408289363782969,
          0.03638414993169703,
          0.026816002909818337,
          0.027762305342610597,
          0.01307947239861984,
          0.005366258738991103,
          0.01517073414243053,
          0.0314951754725068,
          0.029320337086138792,
          0.02900698190692985,
          0.052812092486418605,
          0.04321345979698088,
          0.0411053368547023,
          0.0353220924413733,
          0.01183323815812476,
          0.036057824384902785,
          0.020814146422848182,
          0.03400397327746196,
          0.02264519398513065,
          0.02296881270775164,
          0.03906411800024001,
          0.01912445030382393,
          0.028497994078336975,
          0.017783942589808754,
          0.031950870541178844,
          0.02886868798345144,
          0.005805113633891912,
          0.0211893951457105,
          0.04227161799865198,
          0.043748417519611886,
          0.038921433695557006,
          0.03283083607458948,
          0.04145625606252179,
          0.015483892765653097,
          0.053884927644542564,
          0.043961398477754036,
          0.030944526370445532,
          0.01594349400913031,
          0.019284972021933026,
          0.02274785723003281,
          0.03607626102252448,
          0.026414434097658868,
          0.047285182196523216,
          0.0012817866211203288,
          0.03294249221209156,
          0.03821565007045913,
          0.04076189476568404,
          0.03379664430201368,
          0.02480606912735639,
          0.0080005152363678,
          0.004641170699488439,
          0.04763509248027309,
          0.03039302891422224,
          0.027571097338540795,
          0.026910340073738936,
          0.057472641491299374,
          0.035647683963121235,
          0.02865907080341468,
          0.02112015606307649,
          0.030700179047361113,
          0.052940309381675384,
          0.02636297450172997,
          0.03245846319431056,
          0.027580315277180526,
          0.03827487151456732,
          0.02826683735176538,
          0.01603001472930221,
          0.011729000537402223,
          0.02131227509445344,
          0.031499165109038614,
          0.030024373811109676,
          0.01057277297605652,
          0.023022111265617262,
          0.046174342589693884,
          0.028209500701782412,
          0.025085448703612512,
          0.022701527817009737,
          0.03162690233841592,
          0.016790272165331688,
          0.029425876076982105,
          0.02577768496087507,
          0.010937835916991823,
          0.023779773967121498,
          0.017432308542858044,
          0.029222594442523286,
          0.012938211526696495,
          0.02402718133974591,
          0.03666475226946786,
          0.031794687230323186,
          0.0422257866501381,
          0.028324543898885283,
          0.024916952673602832,
          0.024741484208553155,
          0.05870547160716065,
          0.03384474160082651,
          0.019761462811981326,
          0.012984055021070915,
          0.02119408596577399,
          0.02918632505465668,
          0.029314339795352362,
          0.02188147130711116,
          0.025359646833826188,
          -0.0014129330917684868,
          0.0218464041241182,
          0.030861936005953664,
          0.07041618110197634,
          0.020744924710361268,
          0.0138425910988893,
          0.013734720339667827,
          0.04251750334438542,
          0.05022849340901403,
          0.046957937279744184,
          0.019469795637230947,
          -0.0015144208483558466,
          0.03383544117784965,
          0.03913511712152706,
          0.02911472040453633,
          0.03219167102523568,
          0.02584055964703702,
          0.025445825268303638,
          0.032200960583669065,
          0.040871753175026,
          0.037869629711168695,
          0.02378731017638613,
          0.022329023660467184,
          0.017590667684186382,
          0.033189542985830885,
          0.03303476783156989,
          0.008346927963109652,
          0.0203407704447931,
          0.008032291038841509,
          0.013767081006888615,
          0.019421454888247425,
          0.018228249349151016,
          0.007283682297004602,
          0.09899605310184477,
          0.04566222608175408,
          0.026864472240408777,
          0.04286733442330326,
          0.03447415558182798,
          0.0320563218397949,
          0.02275152668631941,
          0.02405080260500592,
          0.025315350687413533,
          0.02982476307957893,
          0.017968870362941036,
          0.01825875404598909,
          0.011405037488861458,
          0.04499484389009134,
          0.007569861031215819,
          0.03053395140405324,
          0.03872801546311777,
          0.03355420316088131,
          0.02750550812057151,
          0.026052544576834702,
          0.022562647909229797,
          0.02793270818981597,
          0.033834140472790875,
          0.03200626939450446,
          0.030344956447335925,
          0.028866724051373364,
          0.034731636966092834,
          0.0567116012799227,
          0.01984923881268763,
          0.021352875814398157,
          0.027942242180437612,
          0.017063986847910106,
          0.025824427409014028,
          0.036501718183783886,
          0.030745368353562338,
          0.040222690058801636,
          0.05688575215012825,
          0.028669795071216694,
          0.037787477532415625,
          0.02481919067482496,
          0.02418094122346748,
          0.03547830162434673,
          0.016558214714553543,
          0.04234906725671062,
          0.00891089265845868,
          0.017870236313141108,
          0.03728029710116476,
          0.031913897117350265,
          0.020931504211071598,
          0.03531294625819337,
          0.01222080353726196,
          0.009587482289872716,
          0.031417842446674005,
          0.030557519389938118,
          0.02579589948390182,
          0.03220136234705584,
          0.0242663595334609,
          0.03578757525977827,
          0.021475460746557703,
          0.013240856599821882,
          0.036450285924054304,
          0.051579943111433435,
          0.029004844747692937,
          0.026258589813395797,
          0.017029167126638045,
          0.036855895140656125,
          0.03679948855436388,
          0.010312685984965377,
          0.07312071607488324,
          0.030862266352919217,
          0.02770409281827257,
          0.024637081366502445,
          0.021844606289015637,
          0.029269447681892883,
          0.03861479951410396,
          0.043109352139683255,
          0.04008218241148587,
          0.021870344885015932,
          0.04178783684828602,
          0.02785923113757072,
          0.031303127664170205,
          0.088096311554972,
          0.04005231359817185,
          0.021984299103526173,
          0.02053726142713597,
          0.03944853900026035,
          0.06302857500916836,
          0.029441526219322837,
          0.01373469136579586,
          0.008205475515498772,
          0.0542144415110557,
          0.017644114933171858,
          0.02938840087490502,
          0.02762667790137296,
          0.02550809661384812,
          0.03586119167176505,
          0.050528772053068494,
          0.044403538823609034,
          0.039294184620001234,
          0.043019714821262316,
          0.021800404086600444,
          0.0476571808449453,
          0.024990147532652163,
          0.027829369233244527,
          0.014336660449319359,
          0.05667704693947151,
          0.024323025412696486,
          0.04062569385918602,
          0.033210655854063915,
          0.04001485504580371,
          0.0012848295323928394,
          0.031027345231797957,
          0.035805374036214976,
          0.009725497497286906,
          0.038520759297685066,
          0.02263550140019066,
          0.054005624409377166,
          0.03170065412031664,
          0.013968710479562496,
          0.0590601451667423,
          0.027875349802400477,
          0.03998893421959116,
          0.02414509810045096,
          0.040329467579269584,
          0.028689522564967037
         ],
         "y0": " ",
         "yaxis": "y"
        }
       ],
       "layout": {
        "boxmode": "group",
        "height": 500,
        "legend": {
         "tracegroupgap": 0
        },
        "template": {
         "data": {
          "bar": [
           {
            "error_x": {
             "color": "#2a3f5f"
            },
            "error_y": {
             "color": "#2a3f5f"
            },
            "marker": {
             "line": {
              "color": "#E5ECF6",
              "width": 0.5
             }
            },
            "type": "bar"
           }
          ],
          "barpolar": [
           {
            "marker": {
             "line": {
              "color": "#E5ECF6",
              "width": 0.5
             }
            },
            "type": "barpolar"
           }
          ],
          "carpet": [
           {
            "aaxis": {
             "endlinecolor": "#2a3f5f",
             "gridcolor": "white",
             "linecolor": "white",
             "minorgridcolor": "white",
             "startlinecolor": "#2a3f5f"
            },
            "baxis": {
             "endlinecolor": "#2a3f5f",
             "gridcolor": "white",
             "linecolor": "white",
             "minorgridcolor": "white",
             "startlinecolor": "#2a3f5f"
            },
            "type": "carpet"
           }
          ],
          "choropleth": [
           {
            "colorbar": {
             "outlinewidth": 0,
             "ticks": ""
            },
            "type": "choropleth"
           }
          ],
          "contour": [
           {
            "colorbar": {
             "outlinewidth": 0,
             "ticks": ""
            },
            "colorscale": [
             [
              0,
              "#0d0887"
             ],
             [
              0.1111111111111111,
              "#46039f"
             ],
             [
              0.2222222222222222,
              "#7201a8"
             ],
             [
              0.3333333333333333,
              "#9c179e"
             ],
             [
              0.4444444444444444,
              "#bd3786"
             ],
             [
              0.5555555555555556,
              "#d8576b"
             ],
             [
              0.6666666666666666,
              "#ed7953"
             ],
             [
              0.7777777777777778,
              "#fb9f3a"
             ],
             [
              0.8888888888888888,
              "#fdca26"
             ],
             [
              1,
              "#f0f921"
             ]
            ],
            "type": "contour"
           }
          ],
          "contourcarpet": [
           {
            "colorbar": {
             "outlinewidth": 0,
             "ticks": ""
            },
            "type": "contourcarpet"
           }
          ],
          "heatmap": [
           {
            "colorbar": {
             "outlinewidth": 0,
             "ticks": ""
            },
            "colorscale": [
             [
              0,
              "#0d0887"
             ],
             [
              0.1111111111111111,
              "#46039f"
             ],
             [
              0.2222222222222222,
              "#7201a8"
             ],
             [
              0.3333333333333333,
              "#9c179e"
             ],
             [
              0.4444444444444444,
              "#bd3786"
             ],
             [
              0.5555555555555556,
              "#d8576b"
             ],
             [
              0.6666666666666666,
              "#ed7953"
             ],
             [
              0.7777777777777778,
              "#fb9f3a"
             ],
             [
              0.8888888888888888,
              "#fdca26"
             ],
             [
              1,
              "#f0f921"
             ]
            ],
            "type": "heatmap"
           }
          ],
          "heatmapgl": [
           {
            "colorbar": {
             "outlinewidth": 0,
             "ticks": ""
            },
            "colorscale": [
             [
              0,
              "#0d0887"
             ],
             [
              0.1111111111111111,
              "#46039f"
             ],
             [
              0.2222222222222222,
              "#7201a8"
             ],
             [
              0.3333333333333333,
              "#9c179e"
             ],
             [
              0.4444444444444444,
              "#bd3786"
             ],
             [
              0.5555555555555556,
              "#d8576b"
             ],
             [
              0.6666666666666666,
              "#ed7953"
             ],
             [
              0.7777777777777778,
              "#fb9f3a"
             ],
             [
              0.8888888888888888,
              "#fdca26"
             ],
             [
              1,
              "#f0f921"
             ]
            ],
            "type": "heatmapgl"
           }
          ],
          "histogram": [
           {
            "marker": {
             "colorbar": {
              "outlinewidth": 0,
              "ticks": ""
             }
            },
            "type": "histogram"
           }
          ],
          "histogram2d": [
           {
            "colorbar": {
             "outlinewidth": 0,
             "ticks": ""
            },
            "colorscale": [
             [
              0,
              "#0d0887"
             ],
             [
              0.1111111111111111,
              "#46039f"
             ],
             [
              0.2222222222222222,
              "#7201a8"
             ],
             [
              0.3333333333333333,
              "#9c179e"
             ],
             [
              0.4444444444444444,
              "#bd3786"
             ],
             [
              0.5555555555555556,
              "#d8576b"
             ],
             [
              0.6666666666666666,
              "#ed7953"
             ],
             [
              0.7777777777777778,
              "#fb9f3a"
             ],
             [
              0.8888888888888888,
              "#fdca26"
             ],
             [
              1,
              "#f0f921"
             ]
            ],
            "type": "histogram2d"
           }
          ],
          "histogram2dcontour": [
           {
            "colorbar": {
             "outlinewidth": 0,
             "ticks": ""
            },
            "colorscale": [
             [
              0,
              "#0d0887"
             ],
             [
              0.1111111111111111,
              "#46039f"
             ],
             [
              0.2222222222222222,
              "#7201a8"
             ],
             [
              0.3333333333333333,
              "#9c179e"
             ],
             [
              0.4444444444444444,
              "#bd3786"
             ],
             [
              0.5555555555555556,
              "#d8576b"
             ],
             [
              0.6666666666666666,
              "#ed7953"
             ],
             [
              0.7777777777777778,
              "#fb9f3a"
             ],
             [
              0.8888888888888888,
              "#fdca26"
             ],
             [
              1,
              "#f0f921"
             ]
            ],
            "type": "histogram2dcontour"
           }
          ],
          "mesh3d": [
           {
            "colorbar": {
             "outlinewidth": 0,
             "ticks": ""
            },
            "type": "mesh3d"
           }
          ],
          "parcoords": [
           {
            "line": {
             "colorbar": {
              "outlinewidth": 0,
              "ticks": ""
             }
            },
            "type": "parcoords"
           }
          ],
          "pie": [
           {
            "automargin": true,
            "type": "pie"
           }
          ],
          "scatter": [
           {
            "marker": {
             "colorbar": {
              "outlinewidth": 0,
              "ticks": ""
             }
            },
            "type": "scatter"
           }
          ],
          "scatter3d": [
           {
            "line": {
             "colorbar": {
              "outlinewidth": 0,
              "ticks": ""
             }
            },
            "marker": {
             "colorbar": {
              "outlinewidth": 0,
              "ticks": ""
             }
            },
            "type": "scatter3d"
           }
          ],
          "scattercarpet": [
           {
            "marker": {
             "colorbar": {
              "outlinewidth": 0,
              "ticks": ""
             }
            },
            "type": "scattercarpet"
           }
          ],
          "scattergeo": [
           {
            "marker": {
             "colorbar": {
              "outlinewidth": 0,
              "ticks": ""
             }
            },
            "type": "scattergeo"
           }
          ],
          "scattergl": [
           {
            "marker": {
             "colorbar": {
              "outlinewidth": 0,
              "ticks": ""
             }
            },
            "type": "scattergl"
           }
          ],
          "scattermapbox": [
           {
            "marker": {
             "colorbar": {
              "outlinewidth": 0,
              "ticks": ""
             }
            },
            "type": "scattermapbox"
           }
          ],
          "scatterpolar": [
           {
            "marker": {
             "colorbar": {
              "outlinewidth": 0,
              "ticks": ""
             }
            },
            "type": "scatterpolar"
           }
          ],
          "scatterpolargl": [
           {
            "marker": {
             "colorbar": {
              "outlinewidth": 0,
              "ticks": ""
             }
            },
            "type": "scatterpolargl"
           }
          ],
          "scatterternary": [
           {
            "marker": {
             "colorbar": {
              "outlinewidth": 0,
              "ticks": ""
             }
            },
            "type": "scatterternary"
           }
          ],
          "surface": [
           {
            "colorbar": {
             "outlinewidth": 0,
             "ticks": ""
            },
            "colorscale": [
             [
              0,
              "#0d0887"
             ],
             [
              0.1111111111111111,
              "#46039f"
             ],
             [
              0.2222222222222222,
              "#7201a8"
             ],
             [
              0.3333333333333333,
              "#9c179e"
             ],
             [
              0.4444444444444444,
              "#bd3786"
             ],
             [
              0.5555555555555556,
              "#d8576b"
             ],
             [
              0.6666666666666666,
              "#ed7953"
             ],
             [
              0.7777777777777778,
              "#fb9f3a"
             ],
             [
              0.8888888888888888,
              "#fdca26"
             ],
             [
              1,
              "#f0f921"
             ]
            ],
            "type": "surface"
           }
          ],
          "table": [
           {
            "cells": {
             "fill": {
              "color": "#EBF0F8"
             },
             "line": {
              "color": "white"
             }
            },
            "header": {
             "fill": {
              "color": "#C8D4E3"
             },
             "line": {
              "color": "white"
             }
            },
            "type": "table"
           }
          ]
         },
         "layout": {
          "annotationdefaults": {
           "arrowcolor": "#2a3f5f",
           "arrowhead": 0,
           "arrowwidth": 1
          },
          "coloraxis": {
           "colorbar": {
            "outlinewidth": 0,
            "ticks": ""
           }
          },
          "colorscale": {
           "diverging": [
            [
             0,
             "#8e0152"
            ],
            [
             0.1,
             "#c51b7d"
            ],
            [
             0.2,
             "#de77ae"
            ],
            [
             0.3,
             "#f1b6da"
            ],
            [
             0.4,
             "#fde0ef"
            ],
            [
             0.5,
             "#f7f7f7"
            ],
            [
             0.6,
             "#e6f5d0"
            ],
            [
             0.7,
             "#b8e186"
            ],
            [
             0.8,
             "#7fbc41"
            ],
            [
             0.9,
             "#4d9221"
            ],
            [
             1,
             "#276419"
            ]
           ],
           "sequential": [
            [
             0,
             "#0d0887"
            ],
            [
             0.1111111111111111,
             "#46039f"
            ],
            [
             0.2222222222222222,
             "#7201a8"
            ],
            [
             0.3333333333333333,
             "#9c179e"
            ],
            [
             0.4444444444444444,
             "#bd3786"
            ],
            [
             0.5555555555555556,
             "#d8576b"
            ],
            [
             0.6666666666666666,
             "#ed7953"
            ],
            [
             0.7777777777777778,
             "#fb9f3a"
            ],
            [
             0.8888888888888888,
             "#fdca26"
            ],
            [
             1,
             "#f0f921"
            ]
           ],
           "sequentialminus": [
            [
             0,
             "#0d0887"
            ],
            [
             0.1111111111111111,
             "#46039f"
            ],
            [
             0.2222222222222222,
             "#7201a8"
            ],
            [
             0.3333333333333333,
             "#9c179e"
            ],
            [
             0.4444444444444444,
             "#bd3786"
            ],
            [
             0.5555555555555556,
             "#d8576b"
            ],
            [
             0.6666666666666666,
             "#ed7953"
            ],
            [
             0.7777777777777778,
             "#fb9f3a"
            ],
            [
             0.8888888888888888,
             "#fdca26"
            ],
            [
             1,
             "#f0f921"
            ]
           ]
          },
          "colorway": [
           "#636efa",
           "#EF553B",
           "#00cc96",
           "#ab63fa",
           "#FFA15A",
           "#19d3f3",
           "#FF6692",
           "#B6E880",
           "#FF97FF",
           "#FECB52"
          ],
          "font": {
           "color": "#2a3f5f"
          },
          "geo": {
           "bgcolor": "white",
           "lakecolor": "white",
           "landcolor": "#E5ECF6",
           "showlakes": true,
           "showland": true,
           "subunitcolor": "white"
          },
          "hoverlabel": {
           "align": "left"
          },
          "hovermode": "closest",
          "mapbox": {
           "style": "light"
          },
          "paper_bgcolor": "white",
          "plot_bgcolor": "#E5ECF6",
          "polar": {
           "angularaxis": {
            "gridcolor": "white",
            "linecolor": "white",
            "ticks": ""
           },
           "bgcolor": "#E5ECF6",
           "radialaxis": {
            "gridcolor": "white",
            "linecolor": "white",
            "ticks": ""
           }
          },
          "scene": {
           "xaxis": {
            "backgroundcolor": "#E5ECF6",
            "gridcolor": "white",
            "gridwidth": 2,
            "linecolor": "white",
            "showbackground": true,
            "ticks": "",
            "zerolinecolor": "white"
           },
           "yaxis": {
            "backgroundcolor": "#E5ECF6",
            "gridcolor": "white",
            "gridwidth": 2,
            "linecolor": "white",
            "showbackground": true,
            "ticks": "",
            "zerolinecolor": "white"
           },
           "zaxis": {
            "backgroundcolor": "#E5ECF6",
            "gridcolor": "white",
            "gridwidth": 2,
            "linecolor": "white",
            "showbackground": true,
            "ticks": "",
            "zerolinecolor": "white"
           }
          },
          "shapedefaults": {
           "line": {
            "color": "#2a3f5f"
           }
          },
          "ternary": {
           "aaxis": {
            "gridcolor": "white",
            "linecolor": "white",
            "ticks": ""
           },
           "baxis": {
            "gridcolor": "white",
            "linecolor": "white",
            "ticks": ""
           },
           "bgcolor": "#E5ECF6",
           "caxis": {
            "gridcolor": "white",
            "linecolor": "white",
            "ticks": ""
           }
          },
          "title": {
           "x": 0.05
          },
          "xaxis": {
           "automargin": true,
           "gridcolor": "white",
           "linecolor": "white",
           "ticks": "",
           "title": {
            "standoff": 15
           },
           "zerolinecolor": "white",
           "zerolinewidth": 2
          },
          "yaxis": {
           "automargin": true,
           "gridcolor": "white",
           "linecolor": "white",
           "ticks": "",
           "title": {
            "standoff": 15
           },
           "zerolinecolor": "white",
           "zerolinewidth": 2
          }
         }
        },
        "title": {
         "text": "<b>Monte Carlo Forecast on Sale Prices</b>"
        },
        "width": 600,
        "xaxis": {
         "anchor": "y",
         "domain": [
          0,
          1
         ],
         "title": {
          "text": ""
         }
        },
        "yaxis": {
         "anchor": "x",
         "domain": [
          0,
          1
         ],
         "dtick": 0.01,
         "range": [
          -0.03,
          0.12
         ],
         "tickformat": ",.0%",
         "title": {
          "text": ""
         }
        }
       }
      },
      "text/html": [
       "<div>                            <div id=\"b32040d9-69c5-414b-b22f-43e3721c8e61\" class=\"plotly-graph-div\" style=\"height:500px; width:600px;\"></div>            <script type=\"text/javascript\">                require([\"plotly\"], function(Plotly) {                    window.PLOTLYENV=window.PLOTLYENV || {};                                    if (document.getElementById(\"b32040d9-69c5-414b-b22f-43e3721c8e61\")) {                    Plotly.newPlot(                        \"b32040d9-69c5-414b-b22f-43e3721c8e61\",                        [{\"alignmentgroup\": \"True\", \"hovertemplate\": \"variable=%{x}<br>value=%{y}<extra></extra>\", \"legendgroup\": \"\", \"marker\": {\"color\": \"#636efa\"}, \"name\": \"\", \"notched\": false, \"offsetgroup\": \"\", \"orientation\": \"v\", \"showlegend\": false, \"type\": \"box\", \"x\": [\"1 Year Avg Return\", \"1 Year Avg Return\", \"1 Year Avg Return\", \"1 Year Avg Return\", \"1 Year Avg Return\", \"1 Year Avg Return\", \"1 Year Avg Return\", \"1 Year Avg Return\", \"1 Year Avg Return\", \"1 Year Avg Return\", \"1 Year Avg Return\", \"1 Year Avg Return\", \"1 Year Avg Return\", \"1 Year Avg Return\", \"1 Year Avg Return\", \"1 Year Avg Return\", \"1 Year Avg Return\", \"1 Year Avg Return\", \"1 Year Avg Return\", \"1 Year Avg Return\", \"1 Year Avg Return\", \"1 Year Avg Return\", \"1 Year Avg Return\", \"1 Year Avg Return\", \"1 Year Avg Return\", \"1 Year Avg Return\", \"1 Year Avg Return\", \"1 Year Avg Return\", \"1 Year Avg Return\", \"1 Year Avg Return\", \"1 Year Avg Return\", \"1 Year Avg Return\", \"1 Year Avg Return\", \"1 Year Avg Return\", \"1 Year Avg Return\", \"1 Year Avg Return\", \"1 Year Avg Return\", \"1 Year Avg Return\", \"1 Year Avg Return\", \"1 Year Avg Return\", \"1 Year Avg Return\", \"1 Year Avg Return\", \"1 Year Avg Return\", \"1 Year Avg Return\", \"1 Year Avg Return\", \"1 Year Avg Return\", \"1 Year Avg Return\", \"1 Year Avg Return\", \"1 Year Avg Return\", \"1 Year Avg Return\", \"1 Year Avg Return\", \"1 Year Avg Return\", \"1 Year Avg Return\", \"1 Year Avg Return\", \"1 Year Avg Return\", \"1 Year Avg Return\", \"1 Year Avg Return\", \"1 Year Avg Return\", \"1 Year Avg Return\", \"1 Year Avg Return\", \"1 Year Avg Return\", \"1 Year Avg Return\", \"1 Year Avg Return\", \"1 Year Avg Return\", \"1 Year Avg Return\", \"1 Year Avg Return\", \"1 Year Avg Return\", \"1 Year Avg Return\", \"1 Year Avg Return\", \"1 Year Avg Return\", \"1 Year Avg Return\", \"1 Year Avg Return\", \"1 Year Avg Return\", \"1 Year Avg Return\", \"1 Year Avg Return\", \"1 Year Avg Return\", \"1 Year Avg Return\", \"1 Year Avg Return\", \"1 Year Avg Return\", \"1 Year Avg Return\", \"1 Year Avg Return\", \"1 Year Avg Return\", \"1 Year Avg Return\", \"1 Year Avg Return\", \"1 Year Avg Return\", \"1 Year Avg Return\", \"1 Year Avg Return\", \"1 Year Avg Return\", \"1 Year Avg Return\", \"1 Year Avg Return\", \"1 Year Avg Return\", \"1 Year Avg Return\", \"1 Year Avg Return\", \"1 Year Avg Return\", \"1 Year Avg Return\", \"1 Year Avg Return\", \"1 Year Avg Return\", \"1 Year Avg Return\", \"1 Year Avg Return\", \"1 Year Avg Return\", \"1 Year Avg Return\", \"1 Year Avg Return\", \"1 Year Avg Return\", \"1 Year Avg Return\", \"1 Year Avg Return\", \"1 Year Avg Return\", \"1 Year Avg Return\", \"1 Year Avg Return\", \"1 Year Avg Return\", \"1 Year Avg Return\", \"1 Year Avg Return\", \"1 Year Avg Return\", \"1 Year Avg Return\", \"1 Year Avg Return\", \"1 Year Avg Return\", \"1 Year Avg Return\", \"1 Year Avg Return\", \"1 Year Avg Return\", \"1 Year Avg Return\", \"1 Year Avg Return\", \"1 Year Avg Return\", \"1 Year Avg Return\", \"1 Year Avg Return\", \"1 Year Avg Return\", \"1 Year Avg Return\", \"1 Year Avg Return\", \"1 Year Avg Return\", \"1 Year Avg Return\", \"1 Year Avg Return\", \"1 Year Avg Return\", \"1 Year Avg Return\", \"1 Year Avg Return\", \"1 Year Avg Return\", \"1 Year Avg Return\", \"1 Year Avg Return\", \"1 Year Avg Return\", \"1 Year Avg Return\", \"1 Year Avg Return\", \"1 Year Avg Return\", \"1 Year Avg Return\", \"1 Year Avg Return\", \"1 Year Avg Return\", \"1 Year Avg Return\", \"1 Year Avg Return\", \"1 Year Avg Return\", \"1 Year Avg Return\", \"1 Year Avg Return\", \"1 Year Avg Return\", \"1 Year Avg Return\", \"1 Year Avg Return\", \"1 Year Avg Return\", \"1 Year Avg Return\", \"1 Year Avg Return\", \"1 Year Avg Return\", \"1 Year Avg Return\", \"1 Year Avg Return\", \"1 Year Avg Return\", \"1 Year Avg Return\", \"1 Year Avg Return\", \"1 Year Avg Return\", \"1 Year Avg Return\", \"1 Year Avg Return\", \"1 Year Avg Return\", \"1 Year Avg Return\", \"1 Year Avg Return\", \"1 Year Avg Return\", \"1 Year Avg Return\", \"1 Year Avg Return\", \"1 Year Avg Return\", \"1 Year Avg Return\", \"1 Year Avg Return\", \"1 Year Avg Return\", \"1 Year Avg Return\", \"1 Year Avg Return\", \"1 Year Avg Return\", \"1 Year Avg Return\", \"1 Year Avg Return\", \"1 Year Avg Return\", \"1 Year Avg Return\", \"1 Year Avg Return\", \"1 Year Avg Return\", \"1 Year Avg Return\", \"1 Year Avg Return\", \"1 Year Avg Return\", \"1 Year Avg Return\", \"1 Year Avg Return\", \"1 Year Avg Return\", \"1 Year Avg Return\", \"1 Year Avg Return\", \"1 Year Avg Return\", \"1 Year Avg Return\", \"1 Year Avg Return\", \"1 Year Avg Return\", \"1 Year Avg Return\", \"1 Year Avg Return\", \"1 Year Avg Return\", \"1 Year Avg Return\", \"1 Year Avg Return\", \"1 Year Avg Return\", \"1 Year Avg Return\", \"1 Year Avg Return\", \"1 Year Avg Return\", \"1 Year Avg Return\", \"1 Year Avg Return\", \"1 Year Avg Return\", \"1 Year Avg Return\", \"1 Year Avg Return\", \"1 Year Avg Return\", \"1 Year Avg Return\", \"1 Year Avg Return\", \"1 Year Avg Return\", \"1 Year Avg Return\", \"1 Year Avg Return\", \"1 Year Avg Return\", \"1 Year Avg Return\", \"1 Year Avg Return\", \"1 Year Avg Return\", \"1 Year Avg Return\", \"1 Year Avg Return\", \"1 Year Avg Return\", \"1 Year Avg Return\", \"1 Year Avg Return\", \"1 Year Avg Return\", \"1 Year Avg Return\", \"1 Year Avg Return\", \"1 Year Avg Return\", \"1 Year Avg Return\", \"1 Year Avg Return\", \"1 Year Avg Return\", \"1 Year Avg Return\", \"1 Year Avg Return\", \"1 Year Avg Return\", \"1 Year Avg Return\", \"1 Year Avg Return\", \"1 Year Avg Return\", \"1 Year Avg Return\", \"1 Year Avg Return\", \"1 Year Avg Return\", \"1 Year Avg Return\", \"1 Year Avg Return\", \"1 Year Avg Return\", \"1 Year Avg Return\", \"1 Year Avg Return\", \"1 Year Avg Return\", \"1 Year Avg Return\", \"1 Year Avg Return\", \"1 Year Avg Return\", \"1 Year Avg Return\", \"1 Year Avg Return\", \"1 Year Avg Return\", \"1 Year Avg Return\", \"1 Year Avg Return\", \"1 Year Avg Return\", \"1 Year Avg Return\", \"1 Year Avg Return\", \"1 Year Avg Return\", \"1 Year Avg Return\", \"1 Year Avg Return\", \"1 Year Avg Return\", \"1 Year Avg Return\", \"1 Year Avg Return\", \"1 Year Avg Return\", \"1 Year Avg Return\", \"1 Year Avg Return\", \"1 Year Avg Return\", \"1 Year Avg Return\", \"1 Year Avg Return\", \"1 Year Avg Return\", \"1 Year Avg Return\", \"1 Year Avg Return\", \"1 Year Avg Return\", \"1 Year Avg Return\", \"1 Year Avg Return\", \"1 Year Avg Return\", \"1 Year Avg Return\", \"1 Year Avg Return\", \"1 Year Avg Return\", \"1 Year Avg Return\", \"1 Year Avg Return\", \"1 Year Avg Return\", \"1 Year Avg Return\", \"1 Year Avg Return\", \"1 Year Avg Return\", \"1 Year Avg Return\", \"1 Year Avg Return\", \"1 Year Avg Return\", \"1 Year Avg Return\", \"1 Year Avg Return\", \"1 Year Avg Return\", \"1 Year Avg Return\", \"1 Year Avg Return\", \"1 Year Avg Return\", \"1 Year Avg Return\", \"1 Year Avg Return\", \"1 Year Avg Return\", \"1 Year Avg Return\", \"1 Year Avg Return\", \"1 Year Avg Return\", \"1 Year Avg Return\", \"1 Year Avg Return\", \"1 Year Avg Return\", \"1 Year Avg Return\", \"1 Year Avg Return\", \"1 Year Avg Return\", \"1 Year Avg Return\", \"1 Year Avg Return\", \"1 Year Avg Return\", \"1 Year Avg Return\", \"1 Year Avg Return\", \"1 Year Avg Return\", \"1 Year Avg Return\", \"1 Year Avg Return\", \"1 Year Avg Return\", \"1 Year Avg Return\", \"1 Year Avg Return\", \"1 Year Avg Return\", \"1 Year Avg Return\", \"1 Year Avg Return\", \"1 Year Avg Return\", \"1 Year Avg Return\", \"1 Year Avg Return\", \"1 Year Avg Return\", \"1 Year Avg Return\", \"1 Year Avg Return\", \"1 Year Avg Return\", \"1 Year Avg Return\", \"1 Year Avg Return\", \"1 Year Avg Return\", \"1 Year Avg Return\", \"1 Year Avg Return\", \"1 Year Avg Return\", \"1 Year Avg Return\", \"1 Year Avg Return\", \"1 Year Avg Return\", \"1 Year Avg Return\", \"1 Year Avg Return\", \"1 Year Avg Return\", \"1 Year Avg Return\", \"1 Year Avg Return\", \"1 Year Avg Return\", \"1 Year Avg Return\", \"1 Year Avg Return\", \"1 Year Avg Return\", \"1 Year Avg Return\", \"1 Year Avg Return\", \"1 Year Avg Return\", \"1 Year Avg Return\", \"1 Year Avg Return\", \"1 Year Avg Return\", \"1 Year Avg Return\", \"1 Year Avg Return\", \"1 Year Avg Return\", \"1 Year Avg Return\", \"1 Year Avg Return\", \"1 Year Avg Return\", \"1 Year Avg Return\", \"1 Year Avg Return\", \"1 Year Avg Return\", \"1 Year Avg Return\", \"1 Year Avg Return\", \"1 Year Avg Return\", \"1 Year Avg Return\", \"1 Year Avg Return\", \"1 Year Avg Return\", \"1 Year Avg Return\", \"1 Year Avg Return\", \"1 Year Avg Return\", \"1 Year Avg Return\", \"1 Year Avg Return\", \"1 Year Avg Return\", \"1 Year Avg Return\", \"1 Year Avg Return\", \"1 Year Avg Return\", \"1 Year Avg Return\", \"1 Year Avg Return\", \"1 Year Avg Return\", \"1 Year Avg Return\", \"1 Year Avg Return\", \"1 Year Avg Return\", \"1 Year Avg Return\", \"1 Year Avg Return\", \"1 Year Avg Return\", \"1 Year Avg Return\", \"1 Year Avg Return\", \"1 Year Avg Return\", \"1 Year Avg Return\", \"1 Year Avg Return\", \"1 Year Avg Return\", \"1 Year Avg Return\", \"1 Year Avg Return\", \"1 Year Avg Return\", \"1 Year Avg Return\", \"1 Year Avg Return\", \"1 Year Avg Return\", \"1 Year Avg Return\", \"1 Year Avg Return\", \"1 Year Avg Return\", \"1 Year Avg Return\", \"1 Year Avg Return\", \"1 Year Avg Return\", \"1 Year Avg Return\", \"1 Year Avg Return\", \"1 Year Avg Return\", \"1 Year Avg Return\", \"1 Year Avg Return\", \"1 Year Avg Return\", \"1 Year Avg Return\", \"1 Year Avg Return\", \"1 Year Avg Return\", \"1 Year Avg Return\", \"1 Year Avg Return\", \"1 Year Avg Return\", \"1 Year Avg Return\", \"1 Year Avg Return\", \"1 Year Avg Return\", \"1 Year Avg Return\", \"1 Year Avg Return\", \"1 Year Avg Return\", \"1 Year Avg Return\", \"1 Year Avg Return\", \"1 Year Avg Return\", \"1 Year Avg Return\", \"1 Year Avg Return\", \"1 Year Avg Return\", \"1 Year Avg Return\", \"1 Year Avg Return\", \"1 Year Avg Return\", \"1 Year Avg Return\", \"1 Year Avg Return\", \"1 Year Avg Return\", \"1 Year Avg Return\", \"1 Year Avg Return\", \"1 Year Avg Return\", \"1 Year Avg Return\", \"1 Year Avg Return\", \"1 Year Avg Return\", \"1 Year Avg Return\", \"1 Year Avg Return\", \"1 Year Avg Return\", \"1 Year Avg Return\", \"1 Year Avg Return\", \"1 Year Avg Return\", \"1 Year Avg Return\", \"1 Year Avg Return\", \"1 Year Avg Return\", \"1 Year Avg Return\", \"1 Year Avg Return\", \"1 Year Avg Return\", \"1 Year Avg Return\", \"1 Year Avg Return\", \"1 Year Avg Return\", \"1 Year Avg Return\", \"1 Year Avg Return\", \"1 Year Avg Return\", \"1 Year Avg Return\", \"1 Year Avg Return\", \"1 Year Avg Return\", \"1 Year Avg Return\", \"1 Year Avg Return\", \"1 Year Avg Return\", \"1 Year Avg Return\", \"1 Year Avg Return\", \"1 Year Avg Return\", \"1 Year Avg Return\", \"1 Year Avg Return\", \"1 Year Avg Return\", \"1 Year Avg Return\", \"1 Year Avg Return\", \"1 Year Avg Return\", \"1 Year Avg Return\", \"1 Year Avg Return\", \"1 Year Avg Return\", \"1 Year Avg Return\", \"1 Year Avg Return\", \"1 Year Avg Return\", \"1 Year Avg Return\", \"1 Year Avg Return\", \"1 Year Avg Return\", \"1 Year Avg Return\", \"1 Year Avg Return\", \"1 Year Avg Return\", \"1 Year Avg Return\", \"1 Year Avg Return\", \"1 Year Avg Return\", \"1 Year Avg Return\", \"1 Year Avg Return\", \"1 Year Avg Return\", \"1 Year Avg Return\", \"1 Year Avg Return\", \"1 Year Avg Return\", \"1 Year Avg Return\", \"1 Year Avg Return\", \"1 Year Avg Return\", \"1 Year Avg Return\", \"1 Year Avg Return\", \"1 Year Avg Return\", \"1 Year Avg Return\", \"1 Year Avg Return\", \"1 Year Avg Return\", \"1 Year Avg Return\", \"1 Year Avg Return\", \"1 Year Avg Return\", \"1 Year Avg Return\", \"1 Year Avg Return\", \"1 Year Avg Return\", \"1 Year Avg Return\", \"1 Year Avg Return\", \"1 Year Avg Return\", \"1 Year Avg Return\", \"1 Year Avg Return\", \"1 Year Avg Return\", \"1 Year Avg Return\", \"1 Year Avg Return\", \"1 Year Avg Return\", \"1 Year Avg Return\", \"1 Year Avg Return\", \"1 Year Avg Return\", \"1 Year Avg Return\", \"1 Year Avg Return\", \"1 Year Avg Return\", \"1 Year Avg Return\", \"1 Year Avg Return\", \"1 Year Avg Return\", \"1 Year Avg Return\", \"1 Year Avg Return\", \"1 Year Avg Return\", \"1 Year Avg Return\", \"1 Year Avg Return\", \"1 Year Avg Return\", \"1 Year Avg Return\", \"1 Year Avg Return\", \"1 Year Avg Return\", \"1 Year Avg Return\", \"1 Year Avg Return\", \"1 Year Avg Return\", \"1 Year Avg Return\", \"1 Year Avg Return\", \"1 Year Avg Return\", \"1 Year Avg Return\", \"1 Year Avg Return\", \"1 Year Avg Return\", \"1 Year Avg Return\", \"1 Year Avg Return\", \"1 Year Avg Return\", \"1 Year Avg Return\", \"1 Year Avg Return\", \"1 Year Avg Return\", \"1 Year Avg Return\", \"1 Year Avg Return\", \"1 Year Avg Return\", \"1 Year Avg Return\", \"1 Year Avg Return\", \"1 Year Avg Return\", \"1 Year Avg Return\", \"1 Year Avg Return\", \"1 Year Avg Return\", \"1 Year Avg Return\", \"1 Year Avg Return\", \"1 Year Avg Return\", \"1 Year Avg Return\", \"1 Year Avg Return\", \"1 Year Avg Return\", \"1 Year Avg Return\", \"1 Year Avg Return\", \"1 Year Avg Return\", \"1 Year Avg Return\", \"1 Year Avg Return\", \"1 Year Avg Return\", \"1 Year Avg Return\", \"1 Year Avg Return\", \"1 Year Avg Return\", \"1 Year Avg Return\", \"1 Year Avg Return\", \"1 Year Avg Return\", \"1 Year Avg Return\", \"1 Year Avg Return\", \"1 Year Avg Return\", \"1 Year Avg Return\", \"1 Year Avg Return\", \"1 Year Avg Return\", \"1 Year Avg Return\", \"1 Year Avg Return\", \"1 Year Avg Return\", \"1 Year Avg Return\", \"1 Year Avg Return\", \"1 Year Avg Return\", \"1 Year Avg Return\", \"1 Year Avg Return\", \"1 Year Avg Return\", \"1 Year Avg Return\", \"1 Year Avg Return\", \"1 Year Avg Return\", \"1 Year Avg Return\", \"1 Year Avg Return\", \"1 Year Avg Return\", \"1 Year Avg Return\", \"1 Year Avg Return\", \"1 Year Avg Return\", \"1 Year Avg Return\", \"1 Year Avg Return\", \"1 Year Avg Return\", \"1 Year Avg Return\", \"1 Year Avg Return\", \"1 Year Avg Return\", \"1 Year Avg Return\", \"1 Year Avg Return\", \"1 Year Avg Return\", \"1 Year Avg Return\", \"1 Year Avg Return\", \"1 Year Avg Return\", \"1 Year Avg Return\", \"1 Year Avg Return\", \"1 Year Avg Return\", \"1 Year Avg Return\", \"1 Year Avg Return\", \"1 Year Avg Return\", \"1 Year Avg Return\", \"1 Year Avg Return\", \"1 Year Avg Return\", \"1 Year Avg Return\", \"1 Year Avg Return\", \"1 Year Avg Return\", \"1 Year Avg Return\", \"1 Year Avg Return\", \"1 Year Avg Return\", \"1 Year Avg Return\", \"1 Year Avg Return\", \"1 Year Avg Return\", \"1 Year Avg Return\", \"1 Year Avg Return\", \"1 Year Avg Return\", \"1 Year Avg Return\", \"1 Year Avg Return\", \"1 Year Avg Return\", \"1 Year Avg Return\", \"1 Year Avg Return\", \"1 Year Avg Return\", \"1 Year Avg Return\", \"1 Year Avg Return\", \"1 Year Avg Return\", \"1 Year Avg Return\", \"1 Year Avg Return\", \"1 Year Avg Return\", \"1 Year Avg Return\", \"1 Year Avg Return\", \"1 Year Avg Return\", \"1 Year Avg Return\", \"1 Year Avg Return\", \"1 Year Avg Return\", \"1 Year Avg Return\", \"1 Year Avg Return\", \"1 Year Avg Return\", \"1 Year Avg Return\", \"1 Year Avg Return\", \"1 Year Avg Return\", \"1 Year Avg Return\", \"1 Year Avg Return\", \"1 Year Avg Return\", \"1 Year Avg Return\", \"1 Year Avg Return\", \"1 Year Avg Return\", \"1 Year Avg Return\", \"1 Year Avg Return\", \"1 Year Avg Return\", \"1 Year Avg Return\", \"1 Year Avg Return\", \"1 Year Avg Return\", \"1 Year Avg Return\", \"1 Year Avg Return\", \"1 Year Avg Return\", \"1 Year Avg Return\", \"1 Year Avg Return\", \"1 Year Avg Return\", \"1 Year Avg Return\", \"1 Year Avg Return\", \"1 Year Avg Return\", \"1 Year Avg Return\", \"1 Year Avg Return\", \"1 Year Avg Return\", \"1 Year Avg Return\", \"1 Year Avg Return\", \"1 Year Avg Return\", \"1 Year Avg Return\", \"1 Year Avg Return\", \"1 Year Avg Return\", \"1 Year Avg Return\", \"1 Year Avg Return\", \"1 Year Avg Return\", \"1 Year Avg Return\", \"1 Year Avg Return\", \"1 Year Avg Return\", \"1 Year Avg Return\", \"1 Year Avg Return\", \"1 Year Avg Return\", \"1 Year Avg Return\", \"1 Year Avg Return\", \"1 Year Avg Return\", \"1 Year Avg Return\", \"1 Year Avg Return\", \"1 Year Avg Return\", \"1 Year Avg Return\", \"1 Year Avg Return\", \"1 Year Avg Return\", \"1 Year Avg Return\", \"1 Year Avg Return\", \"1 Year Avg Return\", \"1 Year Avg Return\", \"1 Year Avg Return\", \"1 Year Avg Return\", \"1 Year Avg Return\", \"1 Year Avg Return\", \"1 Year Avg Return\", \"1 Year Avg Return\", \"1 Year Avg Return\", \"1 Year Avg Return\", \"1 Year Avg Return\", \"1 Year Avg Return\", \"1 Year Avg Return\", \"1 Year Avg Return\", \"1 Year Avg Return\", \"1 Year Avg Return\", \"1 Year Avg Return\", \"1 Year Avg Return\", \"1 Year Avg Return\", \"1 Year Avg Return\", \"1 Year Avg Return\", \"1 Year Avg Return\", \"1 Year Avg Return\", \"1 Year Avg Return\", \"1 Year Avg Return\", \"1 Year Avg Return\", \"1 Year Avg Return\", \"1 Year Avg Return\", \"1 Year Avg Return\", \"1 Year Avg Return\", \"1 Year Avg Return\", \"1 Year Avg Return\", \"1 Year Avg Return\", \"1 Year Avg Return\", \"1 Year Avg Return\", \"1 Year Avg Return\", \"1 Year Avg Return\", \"1 Year Avg Return\", \"1 Year Avg Return\", \"1 Year Avg Return\", \"1 Year Avg Return\", \"1 Year Avg Return\", \"1 Year Avg Return\", \"1 Year Avg Return\", \"1 Year Avg Return\", \"1 Year Avg Return\", \"1 Year Avg Return\", \"1 Year Avg Return\", \"1 Year Avg Return\", \"1 Year Avg Return\", \"1 Year Avg Return\", \"1 Year Avg Return\", \"1 Year Avg Return\", \"1 Year Avg Return\", \"1 Year Avg Return\", \"1 Year Avg Return\", \"1 Year Avg Return\", \"1 Year Avg Return\", \"1 Year Avg Return\", \"1 Year Avg Return\", \"1 Year Avg Return\", \"1 Year Avg Return\", \"1 Year Avg Return\", \"1 Year Avg Return\", \"1 Year Avg Return\", \"1 Year Avg Return\", \"1 Year Avg Return\", \"1 Year Avg Return\", \"1 Year Avg Return\", \"1 Year Avg Return\", \"1 Year Avg Return\", \"1 Year Avg Return\", \"1 Year Avg Return\", \"1 Year Avg Return\", \"1 Year Avg Return\", \"1 Year Avg Return\", \"1 Year Avg Return\", \"1 Year Avg Return\", \"1 Year Avg Return\", \"1 Year Avg Return\", \"1 Year Avg Return\", \"1 Year Avg Return\", \"1 Year Avg Return\", \"1 Year Avg Return\", \"1 Year Avg Return\", \"1 Year Avg Return\", \"1 Year Avg Return\", \"1 Year Avg Return\", \"1 Year Avg Return\", \"1 Year Avg Return\", \"1 Year Avg Return\", \"1 Year Avg Return\", \"1 Year Avg Return\", \"1 Year Avg Return\", \"1 Year Avg Return\", \"1 Year Avg Return\", \"1 Year Avg Return\", \"1 Year Avg Return\", \"1 Year Avg Return\", \"1 Year Avg Return\", \"1 Year Avg Return\", \"1 Year Avg Return\", \"1 Year Avg Return\", \"1 Year Avg Return\", \"1 Year Avg Return\", \"1 Year Avg Return\", \"1 Year Avg Return\", \"1 Year Avg Return\", \"1 Year Avg Return\", \"1 Year Avg Return\", \"1 Year Avg Return\", \"1 Year Avg Return\", \"1 Year Avg Return\", \"1 Year Avg Return\", \"1 Year Avg Return\", \"1 Year Avg Return\", \"1 Year Avg Return\", \"1 Year Avg Return\", \"1 Year Avg Return\", \"1 Year Avg Return\", \"1 Year Avg Return\", \"1 Year Avg Return\", \"1 Year Avg Return\", \"1 Year Avg Return\", \"1 Year Avg Return\", \"1 Year Avg Return\", \"1 Year Avg Return\", \"1 Year Avg Return\", \"1 Year Avg Return\", \"1 Year Avg Return\", \"1 Year Avg Return\", \"1 Year Avg Return\", \"1 Year Avg Return\", \"1 Year Avg Return\", \"1 Year Avg Return\", \"1 Year Avg Return\", \"1 Year Avg Return\", \"1 Year Avg Return\", \"1 Year Avg Return\", \"1 Year Avg Return\", \"1 Year Avg Return\", \"1 Year Avg Return\", \"1 Year Avg Return\", \"1 Year Avg Return\", \"1 Year Avg Return\", \"1 Year Avg Return\", \"1 Year Avg Return\", \"1 Year Avg Return\", \"1 Year Avg Return\", \"1 Year Avg Return\", \"1 Year Avg Return\", \"1 Year Avg Return\", \"1 Year Avg Return\", \"1 Year Avg Return\", \"1 Year Avg Return\", \"1 Year Avg Return\", \"1 Year Avg Return\", \"1 Year Avg Return\", \"1 Year Avg Return\", \"1 Year Avg Return\", \"1 Year Avg Return\", \"1 Year Avg Return\", \"1 Year Avg Return\", \"1 Year Avg Return\", \"1 Year Avg Return\", \"1 Year Avg Return\", \"1 Year Avg Return\", \"1 Year Avg Return\", \"1 Year Avg Return\", \"1 Year Avg Return\", \"1 Year Avg Return\", \"1 Year Avg Return\", \"1 Year Avg Return\", \"1 Year Avg Return\", \"1 Year Avg Return\", \"1 Year Avg Return\", \"1 Year Avg Return\", \"1 Year Avg Return\", \"1 Year Avg Return\", \"1 Year Avg Return\", \"1 Year Avg Return\", \"1 Year Avg Return\", \"1 Year Avg Return\", \"1 Year Avg Return\", \"1 Year Avg Return\", \"1 Year Avg Return\", \"1 Year Avg Return\", \"1 Year Avg Return\", \"1 Year Avg Return\", \"1 Year Avg Return\", \"1 Year Avg Return\", \"1 Year Avg Return\", \"1 Year Avg Return\", \"1 Year Avg Return\", \"1 Year Avg Return\", \"1 Year Avg Return\", \"1 Year Avg Return\", \"3 Year Avg Return\", \"3 Year Avg Return\", \"3 Year Avg Return\", \"3 Year Avg Return\", \"3 Year Avg Return\", \"3 Year Avg Return\", \"3 Year Avg Return\", \"3 Year Avg Return\", \"3 Year Avg Return\", \"3 Year Avg Return\", \"3 Year Avg Return\", \"3 Year Avg Return\", \"3 Year Avg Return\", \"3 Year Avg Return\", \"3 Year Avg Return\", \"3 Year Avg Return\", \"3 Year Avg Return\", \"3 Year Avg Return\", \"3 Year Avg Return\", \"3 Year Avg Return\", \"3 Year Avg Return\", \"3 Year Avg Return\", \"3 Year Avg Return\", \"3 Year Avg Return\", \"3 Year Avg Return\", \"3 Year Avg Return\", \"3 Year Avg Return\", \"3 Year Avg Return\", \"3 Year Avg Return\", \"3 Year Avg Return\", \"3 Year Avg Return\", \"3 Year Avg Return\", \"3 Year Avg Return\", \"3 Year Avg Return\", \"3 Year Avg Return\", \"3 Year Avg Return\", \"3 Year Avg Return\", \"3 Year Avg Return\", \"3 Year Avg Return\", \"3 Year Avg Return\", \"3 Year Avg Return\", \"3 Year Avg Return\", \"3 Year Avg Return\", \"3 Year Avg Return\", \"3 Year Avg Return\", \"3 Year Avg Return\", \"3 Year Avg Return\", \"3 Year Avg Return\", \"3 Year Avg Return\", \"3 Year Avg Return\", \"3 Year Avg Return\", \"3 Year Avg Return\", \"3 Year Avg Return\", \"3 Year Avg Return\", \"3 Year Avg Return\", \"3 Year Avg Return\", \"3 Year Avg Return\", \"3 Year Avg Return\", \"3 Year Avg Return\", \"3 Year Avg Return\", \"3 Year Avg Return\", \"3 Year Avg Return\", \"3 Year Avg Return\", \"3 Year Avg Return\", \"3 Year Avg Return\", \"3 Year Avg Return\", \"3 Year Avg Return\", \"3 Year Avg Return\", \"3 Year Avg Return\", \"3 Year Avg Return\", \"3 Year Avg Return\", \"3 Year Avg Return\", \"3 Year Avg Return\", \"3 Year Avg Return\", \"3 Year Avg Return\", \"3 Year Avg Return\", \"3 Year Avg Return\", \"3 Year Avg Return\", \"3 Year Avg Return\", \"3 Year Avg Return\", \"3 Year Avg Return\", \"3 Year Avg Return\", \"3 Year Avg Return\", \"3 Year Avg Return\", \"3 Year Avg Return\", \"3 Year Avg Return\", \"3 Year Avg Return\", \"3 Year Avg Return\", \"3 Year Avg Return\", \"3 Year Avg Return\", \"3 Year Avg Return\", \"3 Year Avg Return\", \"3 Year Avg Return\", \"3 Year Avg Return\", \"3 Year Avg Return\", \"3 Year Avg Return\", \"3 Year Avg Return\", \"3 Year Avg Return\", \"3 Year Avg Return\", \"3 Year Avg Return\", \"3 Year Avg Return\", \"3 Year Avg Return\", \"3 Year Avg Return\", \"3 Year Avg Return\", \"3 Year Avg Return\", \"3 Year Avg Return\", \"3 Year Avg Return\", \"3 Year Avg Return\", \"3 Year Avg Return\", \"3 Year Avg Return\", \"3 Year Avg Return\", \"3 Year Avg Return\", \"3 Year Avg Return\", \"3 Year Avg Return\", \"3 Year Avg Return\", \"3 Year Avg Return\", \"3 Year Avg Return\", \"3 Year Avg Return\", \"3 Year Avg Return\", \"3 Year Avg Return\", \"3 Year Avg Return\", \"3 Year Avg Return\", \"3 Year Avg Return\", \"3 Year Avg Return\", \"3 Year Avg Return\", \"3 Year Avg Return\", \"3 Year Avg Return\", \"3 Year Avg Return\", \"3 Year Avg Return\", \"3 Year Avg Return\", \"3 Year Avg Return\", \"3 Year Avg Return\", \"3 Year Avg Return\", \"3 Year Avg Return\", \"3 Year Avg Return\", \"3 Year Avg Return\", \"3 Year Avg Return\", \"3 Year Avg Return\", \"3 Year Avg Return\", \"3 Year Avg Return\", \"3 Year Avg Return\", \"3 Year Avg Return\", \"3 Year Avg Return\", \"3 Year Avg Return\", \"3 Year Avg Return\", \"3 Year Avg Return\", \"3 Year Avg Return\", \"3 Year Avg Return\", \"3 Year Avg Return\", \"3 Year Avg Return\", \"3 Year Avg Return\", \"3 Year Avg Return\", \"3 Year Avg Return\", \"3 Year Avg Return\", \"3 Year Avg Return\", \"3 Year Avg Return\", \"3 Year Avg Return\", \"3 Year Avg Return\", \"3 Year Avg Return\", \"3 Year Avg Return\", \"3 Year Avg Return\", \"3 Year Avg Return\", \"3 Year Avg Return\", \"3 Year Avg Return\", \"3 Year Avg Return\", \"3 Year Avg Return\", \"3 Year Avg Return\", \"3 Year Avg Return\", \"3 Year Avg Return\", \"3 Year Avg Return\", \"3 Year Avg Return\", \"3 Year Avg Return\", \"3 Year Avg Return\", \"3 Year Avg Return\", \"3 Year Avg Return\", \"3 Year Avg Return\", \"3 Year Avg Return\", \"3 Year Avg Return\", \"3 Year Avg Return\", \"3 Year Avg Return\", \"3 Year Avg Return\", \"3 Year Avg Return\", \"3 Year Avg Return\", \"3 Year Avg Return\", \"3 Year Avg Return\", \"3 Year Avg Return\", \"3 Year Avg Return\", \"3 Year Avg Return\", \"3 Year Avg Return\", \"3 Year Avg Return\", \"3 Year Avg Return\", \"3 Year Avg Return\", \"3 Year Avg Return\", \"3 Year Avg Return\", \"3 Year Avg Return\", \"3 Year Avg Return\", \"3 Year Avg Return\", \"3 Year Avg Return\", \"3 Year Avg Return\", \"3 Year Avg Return\", \"3 Year Avg Return\", \"3 Year Avg Return\", \"3 Year Avg Return\", \"3 Year Avg Return\", \"3 Year Avg Return\", \"3 Year Avg Return\", \"3 Year Avg Return\", \"3 Year Avg Return\", \"3 Year Avg Return\", \"3 Year Avg Return\", \"3 Year Avg Return\", \"3 Year Avg Return\", \"3 Year Avg Return\", \"3 Year Avg Return\", \"3 Year Avg Return\", \"3 Year Avg Return\", \"3 Year Avg Return\", \"3 Year Avg Return\", \"3 Year Avg Return\", \"3 Year Avg Return\", \"3 Year Avg Return\", \"3 Year Avg Return\", \"3 Year Avg Return\", \"3 Year Avg Return\", \"3 Year Avg Return\", \"3 Year Avg Return\", \"3 Year Avg Return\", \"3 Year Avg Return\", \"3 Year Avg Return\", \"3 Year Avg Return\", \"3 Year Avg Return\", \"3 Year Avg Return\", \"3 Year Avg Return\", \"3 Year Avg Return\", \"3 Year Avg Return\", \"3 Year Avg Return\", \"3 Year Avg Return\", \"3 Year Avg Return\", \"3 Year Avg Return\", \"3 Year Avg Return\", \"3 Year Avg Return\", \"3 Year Avg Return\", \"3 Year Avg Return\", \"3 Year Avg Return\", \"3 Year Avg Return\", \"3 Year Avg Return\", \"3 Year Avg Return\", \"3 Year Avg Return\", \"3 Year Avg Return\", \"3 Year Avg Return\", \"3 Year Avg Return\", \"3 Year Avg Return\", \"3 Year Avg Return\", \"3 Year Avg Return\", \"3 Year Avg Return\", \"3 Year Avg Return\", \"3 Year Avg Return\", \"3 Year Avg Return\", \"3 Year Avg Return\", \"3 Year Avg Return\", \"3 Year Avg Return\", \"3 Year Avg Return\", \"3 Year Avg Return\", \"3 Year Avg Return\", \"3 Year Avg Return\", \"3 Year Avg Return\", \"3 Year Avg Return\", \"3 Year Avg Return\", \"3 Year Avg Return\", \"3 Year Avg Return\", \"3 Year Avg Return\", \"3 Year Avg Return\", \"3 Year Avg Return\", \"3 Year Avg Return\", \"3 Year Avg Return\", \"3 Year Avg Return\", \"3 Year Avg Return\", \"3 Year Avg Return\", \"3 Year Avg Return\", \"3 Year Avg Return\", \"3 Year Avg Return\", \"3 Year Avg Return\", \"3 Year Avg Return\", \"3 Year Avg Return\", \"3 Year Avg Return\", \"3 Year Avg Return\", \"3 Year Avg Return\", \"3 Year Avg Return\", \"3 Year Avg Return\", \"3 Year Avg Return\", \"3 Year Avg Return\", \"3 Year Avg Return\", \"3 Year Avg Return\", \"3 Year Avg Return\", \"3 Year Avg Return\", \"3 Year Avg Return\", \"3 Year Avg Return\", \"3 Year Avg Return\", \"3 Year Avg Return\", \"3 Year Avg Return\", \"3 Year Avg Return\", \"3 Year Avg Return\", \"3 Year Avg Return\", \"3 Year Avg Return\", \"3 Year Avg Return\", \"3 Year Avg Return\", \"3 Year Avg Return\", \"3 Year Avg Return\", \"3 Year Avg Return\", \"3 Year Avg Return\", \"3 Year Avg Return\", \"3 Year Avg Return\", \"3 Year Avg Return\", \"3 Year Avg Return\", \"3 Year Avg Return\", \"3 Year Avg Return\", \"3 Year Avg Return\", \"3 Year Avg Return\", \"3 Year Avg Return\", \"3 Year Avg Return\", \"3 Year Avg Return\", \"3 Year Avg Return\", \"3 Year Avg Return\", \"3 Year Avg Return\", \"3 Year Avg Return\", \"3 Year Avg Return\", \"3 Year Avg Return\", \"3 Year Avg Return\", \"3 Year Avg Return\", \"3 Year Avg Return\", \"3 Year Avg Return\", \"3 Year Avg Return\", \"3 Year Avg Return\", \"3 Year Avg Return\", \"3 Year Avg Return\", \"3 Year Avg Return\", \"3 Year Avg Return\", \"3 Year Avg Return\", \"3 Year Avg Return\", \"3 Year Avg Return\", \"3 Year Avg Return\", \"3 Year Avg Return\", \"3 Year Avg Return\", \"3 Year Avg Return\", \"3 Year Avg Return\", \"3 Year Avg Return\", \"3 Year Avg Return\", \"3 Year Avg Return\", \"3 Year Avg Return\", \"3 Year Avg Return\", \"3 Year Avg Return\", \"3 Year Avg Return\", \"3 Year Avg Return\", \"3 Year Avg Return\", \"3 Year Avg Return\", \"3 Year Avg Return\", \"3 Year Avg Return\", \"3 Year Avg Return\", \"3 Year Avg Return\", \"3 Year Avg Return\", \"3 Year Avg Return\", \"3 Year Avg Return\", \"3 Year Avg Return\", \"3 Year Avg Return\", \"3 Year Avg Return\", \"3 Year Avg Return\", \"3 Year Avg Return\", \"3 Year Avg Return\", \"3 Year Avg Return\", \"3 Year Avg Return\", \"3 Year Avg Return\", \"3 Year Avg Return\", \"3 Year Avg Return\", \"3 Year Avg Return\", \"3 Year Avg Return\", \"3 Year Avg Return\", \"3 Year Avg Return\", \"3 Year Avg Return\", \"3 Year Avg Return\", \"3 Year Avg Return\", \"3 Year Avg Return\", \"3 Year Avg Return\", \"3 Year Avg Return\", \"3 Year Avg Return\", \"3 Year Avg Return\", \"3 Year Avg Return\", \"3 Year Avg Return\", \"3 Year Avg Return\", \"3 Year Avg Return\", \"3 Year Avg Return\", \"3 Year Avg Return\", \"3 Year Avg Return\", \"3 Year Avg Return\", \"3 Year Avg Return\", \"3 Year Avg Return\", \"3 Year Avg Return\", \"3 Year Avg Return\", \"3 Year Avg Return\", \"3 Year Avg Return\", \"3 Year Avg Return\", \"3 Year Avg Return\", \"3 Year Avg Return\", \"3 Year Avg Return\", \"3 Year Avg Return\", \"3 Year Avg Return\", \"3 Year Avg Return\", \"3 Year Avg Return\", \"3 Year Avg Return\", \"3 Year Avg Return\", \"3 Year Avg Return\", \"3 Year Avg Return\", \"3 Year Avg Return\", \"3 Year Avg Return\", \"3 Year Avg Return\", \"3 Year Avg Return\", \"3 Year Avg Return\", \"3 Year Avg Return\", \"3 Year Avg Return\", \"3 Year Avg Return\", \"3 Year Avg Return\", \"3 Year Avg Return\", \"3 Year Avg Return\", \"3 Year Avg Return\", \"3 Year Avg Return\", \"3 Year Avg Return\", \"3 Year Avg Return\", \"3 Year Avg Return\", \"3 Year Avg Return\", \"3 Year Avg Return\", \"3 Year Avg Return\", \"3 Year Avg Return\", \"3 Year Avg Return\", \"3 Year Avg Return\", \"3 Year Avg Return\", \"3 Year Avg Return\", \"3 Year Avg Return\", \"3 Year Avg Return\", \"3 Year Avg Return\", \"3 Year Avg Return\", \"3 Year Avg Return\", \"3 Year Avg Return\", \"3 Year Avg Return\", \"3 Year Avg Return\", \"3 Year Avg Return\", \"3 Year Avg Return\", \"3 Year Avg Return\", \"3 Year Avg Return\", \"3 Year Avg Return\", \"3 Year Avg Return\", \"3 Year Avg Return\", \"3 Year Avg Return\", \"3 Year Avg Return\", \"3 Year Avg Return\", \"3 Year Avg Return\", \"3 Year Avg Return\", \"3 Year Avg Return\", \"3 Year Avg Return\", \"3 Year Avg Return\", \"3 Year Avg Return\", \"3 Year Avg Return\", \"3 Year Avg Return\", \"3 Year Avg Return\", \"3 Year Avg Return\", \"3 Year Avg Return\", \"3 Year Avg Return\", \"3 Year Avg Return\", \"3 Year Avg Return\", \"3 Year Avg Return\", \"3 Year Avg Return\", \"3 Year Avg Return\", \"3 Year Avg Return\", \"3 Year Avg Return\", \"3 Year Avg Return\", \"3 Year Avg Return\", \"3 Year Avg Return\", \"3 Year Avg Return\", \"3 Year Avg Return\", \"3 Year Avg Return\", \"3 Year Avg Return\", \"3 Year Avg Return\", \"3 Year Avg Return\", \"3 Year Avg Return\", \"3 Year Avg Return\", \"3 Year Avg Return\", \"3 Year Avg Return\", \"3 Year Avg Return\", \"3 Year Avg Return\", \"3 Year Avg Return\", \"3 Year Avg Return\", \"3 Year Avg Return\", \"3 Year Avg Return\", \"3 Year Avg Return\", \"3 Year Avg Return\", \"3 Year Avg Return\", \"3 Year Avg Return\", \"3 Year Avg Return\", \"3 Year Avg Return\", \"3 Year Avg Return\", \"3 Year Avg Return\", \"3 Year Avg Return\", \"3 Year Avg Return\", \"3 Year Avg Return\", \"3 Year Avg Return\", \"3 Year Avg Return\", \"3 Year Avg Return\", \"3 Year Avg Return\", \"3 Year Avg Return\", \"3 Year Avg Return\", \"3 Year Avg Return\", \"3 Year Avg Return\", \"3 Year Avg Return\", \"3 Year Avg Return\", \"3 Year Avg Return\", \"3 Year Avg Return\", \"3 Year Avg Return\", \"3 Year Avg Return\", \"3 Year Avg Return\", \"3 Year Avg Return\", \"3 Year Avg Return\", \"3 Year Avg Return\", \"3 Year Avg Return\", \"3 Year Avg Return\", \"3 Year Avg Return\", \"3 Year Avg Return\", \"3 Year Avg Return\", \"3 Year Avg Return\", \"3 Year Avg Return\", \"3 Year Avg Return\", \"3 Year Avg Return\", \"3 Year Avg Return\", \"3 Year Avg Return\", \"3 Year Avg Return\", \"3 Year Avg Return\", \"3 Year Avg Return\", \"3 Year Avg Return\", \"3 Year Avg Return\", \"3 Year Avg Return\", \"3 Year Avg Return\", \"3 Year Avg Return\", \"3 Year Avg Return\", \"3 Year Avg Return\", \"3 Year Avg Return\", \"3 Year Avg Return\", \"3 Year Avg Return\", \"3 Year Avg Return\", \"3 Year Avg Return\", \"3 Year Avg Return\", \"3 Year Avg Return\", \"3 Year Avg Return\", \"3 Year Avg Return\", \"3 Year Avg Return\", \"3 Year Avg Return\", \"3 Year Avg Return\", \"3 Year Avg Return\", \"3 Year Avg Return\", \"3 Year Avg Return\", \"3 Year Avg Return\", \"3 Year Avg Return\", \"3 Year Avg Return\", \"3 Year Avg Return\", \"3 Year Avg Return\", \"3 Year Avg Return\", \"3 Year Avg Return\", \"3 Year Avg Return\", \"3 Year Avg Return\", \"3 Year Avg Return\", \"3 Year Avg Return\", \"3 Year Avg Return\", \"3 Year Avg Return\", \"3 Year Avg Return\", \"3 Year Avg Return\", \"3 Year Avg Return\", \"3 Year Avg Return\", \"3 Year Avg Return\", \"3 Year Avg Return\", \"3 Year Avg Return\", \"3 Year Avg Return\", \"3 Year Avg Return\", \"3 Year Avg Return\", \"3 Year Avg Return\", \"3 Year Avg Return\", \"3 Year Avg Return\", \"3 Year Avg Return\", \"3 Year Avg Return\", \"3 Year Avg Return\", \"3 Year Avg Return\", \"3 Year Avg Return\", \"3 Year Avg Return\", \"3 Year Avg Return\", \"3 Year Avg Return\", \"3 Year Avg Return\", \"3 Year Avg Return\", \"3 Year Avg Return\", \"3 Year Avg Return\", \"3 Year Avg Return\", \"3 Year Avg Return\", \"3 Year Avg Return\", \"3 Year Avg Return\", \"3 Year Avg Return\", \"3 Year Avg Return\", \"3 Year Avg Return\", \"3 Year Avg Return\", \"3 Year Avg Return\", \"3 Year Avg Return\", \"3 Year Avg Return\", \"3 Year Avg Return\", \"3 Year Avg Return\", \"3 Year Avg Return\", \"3 Year Avg Return\", \"3 Year Avg Return\", \"3 Year Avg Return\", \"3 Year Avg Return\", \"3 Year Avg Return\", \"3 Year Avg Return\", \"3 Year Avg Return\", \"3 Year Avg Return\", \"3 Year Avg Return\", \"3 Year Avg Return\", \"3 Year Avg Return\", \"3 Year Avg Return\", \"3 Year Avg Return\", \"3 Year Avg Return\", \"3 Year Avg Return\", \"3 Year Avg Return\", \"3 Year Avg Return\", \"3 Year Avg Return\", \"3 Year Avg Return\", \"3 Year Avg Return\", \"3 Year Avg Return\", \"3 Year Avg Return\", \"3 Year Avg Return\", \"3 Year Avg Return\", \"3 Year Avg Return\", \"3 Year Avg Return\", \"3 Year Avg Return\", \"3 Year Avg Return\", \"3 Year Avg Return\", \"3 Year Avg Return\", \"3 Year Avg Return\", \"3 Year Avg Return\", \"3 Year Avg Return\", \"3 Year Avg Return\", \"3 Year Avg Return\", \"3 Year Avg Return\", \"3 Year Avg Return\", \"3 Year Avg Return\", \"3 Year Avg Return\", \"3 Year Avg Return\", \"3 Year Avg Return\", \"3 Year Avg Return\", \"3 Year Avg Return\", \"3 Year Avg Return\", \"3 Year Avg Return\", \"3 Year Avg Return\", \"3 Year Avg Return\", \"3 Year Avg Return\", \"3 Year Avg Return\", \"3 Year Avg Return\", \"3 Year Avg Return\", \"3 Year Avg Return\", \"3 Year Avg Return\", \"3 Year Avg Return\", \"3 Year Avg Return\", \"3 Year Avg Return\", \"3 Year Avg Return\", \"3 Year Avg Return\", \"3 Year Avg Return\", \"3 Year Avg Return\", \"3 Year Avg Return\", \"3 Year Avg Return\", \"3 Year Avg Return\", \"3 Year Avg Return\", \"3 Year Avg Return\", \"3 Year Avg Return\", \"3 Year Avg Return\", \"3 Year Avg Return\", \"3 Year Avg Return\", \"3 Year Avg Return\", \"3 Year Avg Return\", \"3 Year Avg Return\", \"3 Year Avg Return\", \"3 Year Avg Return\", \"3 Year Avg Return\", \"3 Year Avg Return\", \"3 Year Avg Return\", \"3 Year Avg Return\", \"3 Year Avg Return\", \"3 Year Avg Return\", \"3 Year Avg Return\", \"3 Year Avg Return\", \"3 Year Avg Return\", \"3 Year Avg Return\", \"3 Year Avg Return\", \"3 Year Avg Return\", \"3 Year Avg Return\", \"3 Year Avg Return\", \"3 Year Avg Return\", \"3 Year Avg Return\", \"3 Year Avg Return\", \"3 Year Avg Return\", \"3 Year Avg Return\", \"3 Year Avg Return\", \"3 Year Avg Return\", \"3 Year Avg Return\", \"3 Year Avg Return\", \"3 Year Avg Return\", \"3 Year Avg Return\", \"3 Year Avg Return\", \"3 Year Avg Return\", \"3 Year Avg Return\", \"3 Year Avg Return\", \"3 Year Avg Return\", \"3 Year Avg Return\", \"3 Year Avg Return\", \"3 Year Avg Return\", \"3 Year Avg Return\", \"3 Year Avg Return\", \"3 Year Avg Return\", \"3 Year Avg Return\", \"3 Year Avg Return\", \"3 Year Avg Return\", \"3 Year Avg Return\", \"3 Year Avg Return\", \"3 Year Avg Return\", \"3 Year Avg Return\", \"3 Year Avg Return\", \"3 Year Avg Return\", \"3 Year Avg Return\", \"3 Year Avg Return\", \"3 Year Avg Return\", \"3 Year Avg Return\", \"3 Year Avg Return\", \"3 Year Avg Return\", \"3 Year Avg Return\", \"3 Year Avg Return\", \"3 Year Avg Return\", \"3 Year Avg Return\", \"3 Year Avg Return\", \"3 Year Avg Return\", \"3 Year Avg Return\", \"3 Year Avg Return\", \"3 Year Avg Return\", \"3 Year Avg Return\", \"3 Year Avg Return\", \"3 Year Avg Return\", \"3 Year Avg Return\", \"3 Year Avg Return\", \"3 Year Avg Return\", \"3 Year Avg Return\", \"3 Year Avg Return\", \"3 Year Avg Return\", \"3 Year Avg Return\", \"3 Year Avg Return\", \"3 Year Avg Return\", \"3 Year Avg Return\", \"3 Year Avg Return\", \"3 Year Avg Return\", \"3 Year Avg Return\", \"3 Year Avg Return\", \"3 Year Avg Return\", \"3 Year Avg Return\", \"3 Year Avg Return\", \"3 Year Avg Return\", \"3 Year Avg Return\", \"3 Year Avg Return\", \"3 Year Avg Return\", \"3 Year Avg Return\", \"3 Year Avg Return\", \"3 Year Avg Return\", \"3 Year Avg Return\", \"3 Year Avg Return\", \"3 Year Avg Return\", \"3 Year Avg Return\", \"3 Year Avg Return\", \"3 Year Avg Return\", \"3 Year Avg Return\", \"3 Year Avg Return\", \"3 Year Avg Return\", \"3 Year Avg Return\", \"3 Year Avg Return\", \"3 Year Avg Return\", \"3 Year Avg Return\", \"3 Year Avg Return\", \"3 Year Avg Return\", \"3 Year Avg Return\", \"3 Year Avg Return\", \"3 Year Avg Return\", \"3 Year Avg Return\", \"3 Year Avg Return\", \"3 Year Avg Return\", \"3 Year Avg Return\", \"3 Year Avg Return\", \"3 Year Avg Return\", \"3 Year Avg Return\", \"3 Year Avg Return\", \"3 Year Avg Return\", \"3 Year Avg Return\", \"3 Year Avg Return\", \"3 Year Avg Return\", \"3 Year Avg Return\", \"3 Year Avg Return\", \"3 Year Avg Return\", \"3 Year Avg Return\", \"3 Year Avg Return\", \"3 Year Avg Return\", \"3 Year Avg Return\", \"3 Year Avg Return\", \"3 Year Avg Return\", \"3 Year Avg Return\", \"3 Year Avg Return\", \"3 Year Avg Return\", \"3 Year Avg Return\", \"3 Year Avg Return\", \"3 Year Avg Return\", \"3 Year Avg Return\", \"3 Year Avg Return\", \"3 Year Avg Return\", \"3 Year Avg Return\", \"3 Year Avg Return\", \"3 Year Avg Return\", \"3 Year Avg Return\", \"3 Year Avg Return\", \"3 Year Avg Return\", \"3 Year Avg Return\", \"3 Year Avg Return\", \"3 Year Avg Return\", \"3 Year Avg Return\", \"3 Year Avg Return\", \"3 Year Avg Return\", \"3 Year Avg Return\", \"3 Year Avg Return\", \"3 Year Avg Return\", \"3 Year Avg Return\", \"3 Year Avg Return\", \"3 Year Avg Return\", \"3 Year Avg Return\", \"3 Year Avg Return\", \"3 Year Avg Return\", \"3 Year Avg Return\", \"3 Year Avg Return\", \"3 Year Avg Return\", \"3 Year Avg Return\", \"3 Year Avg Return\", \"3 Year Avg Return\", \"3 Year Avg Return\", \"3 Year Avg Return\", \"3 Year Avg Return\", \"3 Year Avg Return\", \"3 Year Avg Return\", \"3 Year Avg Return\", \"3 Year Avg Return\", \"3 Year Avg Return\", \"3 Year Avg Return\", \"3 Year Avg Return\", \"3 Year Avg Return\", \"3 Year Avg Return\", \"3 Year Avg Return\", \"3 Year Avg Return\", \"3 Year Avg Return\", \"3 Year Avg Return\", \"3 Year Avg Return\", \"3 Year Avg Return\", \"3 Year Avg Return\", \"3 Year Avg Return\", \"3 Year Avg Return\", \"3 Year Avg Return\", \"3 Year Avg Return\", \"3 Year Avg Return\", \"3 Year Avg Return\", \"3 Year Avg Return\", \"3 Year Avg Return\", \"3 Year Avg Return\", \"3 Year Avg Return\", \"3 Year Avg Return\", \"3 Year Avg Return\", \"3 Year Avg Return\", \"3 Year Avg Return\", \"3 Year Avg Return\", \"3 Year Avg Return\", \"3 Year Avg Return\", \"3 Year Avg Return\", \"3 Year Avg Return\", \"3 Year Avg Return\", \"3 Year Avg Return\", \"3 Year Avg Return\", \"3 Year Avg Return\", \"3 Year Avg Return\", \"3 Year Avg Return\", \"3 Year Avg Return\", \"3 Year Avg Return\", \"3 Year Avg Return\", \"3 Year Avg Return\", \"3 Year Avg Return\", \"3 Year Avg Return\", \"3 Year Avg Return\", \"3 Year Avg Return\", \"3 Year Avg Return\", \"3 Year Avg Return\", \"3 Year Avg Return\", \"3 Year Avg Return\", \"3 Year Avg Return\", \"3 Year Avg Return\", \"5 Year Avg Return\", \"5 Year Avg Return\", \"5 Year Avg Return\", \"5 Year Avg Return\", \"5 Year Avg Return\", \"5 Year Avg Return\", \"5 Year Avg Return\", \"5 Year Avg Return\", \"5 Year Avg Return\", \"5 Year Avg Return\", \"5 Year Avg Return\", \"5 Year Avg Return\", \"5 Year Avg Return\", \"5 Year Avg Return\", \"5 Year Avg Return\", \"5 Year Avg Return\", \"5 Year Avg Return\", \"5 Year Avg Return\", \"5 Year Avg Return\", \"5 Year Avg Return\", \"5 Year Avg Return\", \"5 Year Avg Return\", \"5 Year Avg Return\", \"5 Year Avg Return\", \"5 Year Avg Return\", \"5 Year Avg Return\", \"5 Year Avg Return\", \"5 Year Avg Return\", \"5 Year Avg Return\", \"5 Year Avg Return\", \"5 Year Avg Return\", \"5 Year Avg Return\", \"5 Year Avg Return\", \"5 Year Avg Return\", \"5 Year Avg Return\", \"5 Year Avg Return\", \"5 Year Avg Return\", \"5 Year Avg Return\", \"5 Year Avg Return\", \"5 Year Avg Return\", \"5 Year Avg Return\", \"5 Year Avg Return\", \"5 Year Avg Return\", \"5 Year Avg Return\", \"5 Year Avg Return\", \"5 Year Avg Return\", \"5 Year Avg Return\", \"5 Year Avg Return\", \"5 Year Avg Return\", \"5 Year Avg Return\", \"5 Year Avg Return\", \"5 Year Avg Return\", \"5 Year Avg Return\", \"5 Year Avg Return\", \"5 Year Avg Return\", \"5 Year Avg Return\", \"5 Year Avg Return\", \"5 Year Avg Return\", \"5 Year Avg Return\", \"5 Year Avg Return\", \"5 Year Avg Return\", \"5 Year Avg Return\", \"5 Year Avg Return\", \"5 Year Avg Return\", \"5 Year Avg Return\", \"5 Year Avg Return\", \"5 Year Avg Return\", \"5 Year Avg Return\", \"5 Year Avg Return\", \"5 Year Avg Return\", \"5 Year Avg Return\", \"5 Year Avg Return\", \"5 Year Avg Return\", \"5 Year Avg Return\", \"5 Year Avg Return\", \"5 Year Avg Return\", \"5 Year Avg Return\", \"5 Year Avg Return\", \"5 Year Avg Return\", \"5 Year Avg Return\", \"5 Year Avg Return\", \"5 Year Avg Return\", \"5 Year Avg Return\", \"5 Year Avg Return\", \"5 Year Avg Return\", \"5 Year Avg Return\", \"5 Year Avg Return\", \"5 Year Avg Return\", \"5 Year Avg Return\", \"5 Year Avg Return\", \"5 Year Avg Return\", \"5 Year Avg Return\", \"5 Year Avg Return\", \"5 Year Avg Return\", \"5 Year Avg Return\", \"5 Year Avg Return\", \"5 Year Avg Return\", \"5 Year Avg Return\", \"5 Year Avg Return\", \"5 Year Avg Return\", \"5 Year Avg Return\", \"5 Year Avg Return\", \"5 Year Avg Return\", \"5 Year Avg Return\", \"5 Year Avg Return\", \"5 Year Avg Return\", \"5 Year Avg Return\", \"5 Year Avg Return\", \"5 Year Avg Return\", \"5 Year Avg Return\", \"5 Year Avg Return\", \"5 Year Avg Return\", \"5 Year Avg Return\", \"5 Year Avg Return\", \"5 Year Avg Return\", \"5 Year Avg Return\", \"5 Year Avg Return\", \"5 Year Avg Return\", \"5 Year Avg Return\", \"5 Year Avg Return\", \"5 Year Avg Return\", \"5 Year Avg Return\", \"5 Year Avg Return\", \"5 Year Avg Return\", \"5 Year Avg Return\", \"5 Year Avg Return\", \"5 Year Avg Return\", \"5 Year Avg Return\", \"5 Year Avg Return\", \"5 Year Avg Return\", \"5 Year Avg Return\", \"5 Year Avg Return\", \"5 Year Avg Return\", \"5 Year Avg Return\", \"5 Year Avg Return\", \"5 Year Avg Return\", \"5 Year Avg Return\", \"5 Year Avg Return\", \"5 Year Avg Return\", \"5 Year Avg Return\", \"5 Year Avg Return\", \"5 Year Avg Return\", \"5 Year Avg Return\", \"5 Year Avg Return\", \"5 Year Avg Return\", \"5 Year Avg Return\", \"5 Year Avg Return\", \"5 Year Avg Return\", \"5 Year Avg Return\", \"5 Year Avg Return\", \"5 Year Avg Return\", \"5 Year Avg Return\", \"5 Year Avg Return\", \"5 Year Avg Return\", \"5 Year Avg Return\", \"5 Year Avg Return\", \"5 Year Avg Return\", \"5 Year Avg Return\", \"5 Year Avg Return\", \"5 Year Avg Return\", \"5 Year Avg Return\", \"5 Year Avg Return\", \"5 Year Avg Return\", \"5 Year Avg Return\", \"5 Year Avg Return\", \"5 Year Avg Return\", \"5 Year Avg Return\", \"5 Year Avg Return\", \"5 Year Avg Return\", \"5 Year Avg Return\", \"5 Year Avg Return\", \"5 Year Avg Return\", \"5 Year Avg Return\", \"5 Year Avg Return\", \"5 Year Avg Return\", \"5 Year Avg Return\", \"5 Year Avg Return\", \"5 Year Avg Return\", \"5 Year Avg Return\", \"5 Year Avg Return\", \"5 Year Avg Return\", \"5 Year Avg Return\", \"5 Year Avg Return\", \"5 Year Avg Return\", \"5 Year Avg Return\", \"5 Year Avg Return\", \"5 Year Avg Return\", \"5 Year Avg Return\", \"5 Year Avg Return\", \"5 Year Avg Return\", \"5 Year Avg Return\", \"5 Year Avg Return\", \"5 Year Avg Return\", \"5 Year Avg Return\", \"5 Year Avg Return\", \"5 Year Avg Return\", \"5 Year Avg Return\", \"5 Year Avg Return\", \"5 Year Avg Return\", \"5 Year Avg Return\", \"5 Year Avg Return\", \"5 Year Avg Return\", \"5 Year Avg Return\", \"5 Year Avg Return\", \"5 Year Avg Return\", \"5 Year Avg Return\", \"5 Year Avg Return\", \"5 Year Avg Return\", \"5 Year Avg Return\", \"5 Year Avg Return\", \"5 Year Avg Return\", \"5 Year Avg Return\", \"5 Year Avg Return\", \"5 Year Avg Return\", \"5 Year Avg Return\", \"5 Year Avg Return\", \"5 Year Avg Return\", \"5 Year Avg Return\", \"5 Year Avg Return\", \"5 Year Avg Return\", \"5 Year Avg Return\", \"5 Year Avg Return\", \"5 Year Avg Return\", \"5 Year Avg Return\", \"5 Year Avg Return\", \"5 Year Avg Return\", \"5 Year Avg Return\", \"5 Year Avg Return\", \"5 Year Avg Return\", \"5 Year Avg Return\", \"5 Year Avg Return\", \"5 Year Avg Return\", \"5 Year Avg Return\", \"5 Year Avg Return\", \"5 Year Avg Return\", \"5 Year Avg Return\", \"5 Year Avg Return\", \"5 Year Avg Return\", \"5 Year Avg Return\", \"5 Year Avg Return\", \"5 Year Avg Return\", \"5 Year Avg Return\", \"5 Year Avg Return\", \"5 Year Avg Return\", \"5 Year Avg Return\", \"5 Year Avg Return\", \"5 Year Avg Return\", \"5 Year Avg Return\", \"5 Year Avg Return\", \"5 Year Avg Return\", \"5 Year Avg Return\", \"5 Year Avg Return\", \"5 Year Avg Return\", \"5 Year Avg Return\", \"5 Year Avg Return\", \"5 Year Avg Return\", \"5 Year Avg Return\", \"5 Year Avg Return\", \"5 Year Avg Return\", \"5 Year Avg Return\", \"5 Year Avg Return\", \"5 Year Avg Return\", \"5 Year Avg Return\", \"5 Year Avg Return\", \"5 Year Avg Return\", \"5 Year Avg Return\", \"5 Year Avg Return\", \"5 Year Avg Return\", \"5 Year Avg Return\", \"5 Year Avg Return\", \"5 Year Avg Return\", \"5 Year Avg Return\", \"5 Year Avg Return\", \"5 Year Avg Return\", \"5 Year Avg Return\", \"5 Year Avg Return\", \"5 Year Avg Return\", \"5 Year Avg Return\", \"5 Year Avg Return\", \"5 Year Avg Return\", \"5 Year Avg Return\", \"5 Year Avg Return\", \"5 Year Avg Return\", \"5 Year Avg Return\", \"5 Year Avg Return\", \"5 Year Avg Return\", \"5 Year Avg Return\", \"5 Year Avg Return\", \"5 Year Avg Return\", \"5 Year Avg Return\", \"5 Year Avg Return\", \"5 Year Avg Return\", \"5 Year Avg Return\", \"5 Year Avg Return\", \"5 Year Avg Return\", \"5 Year Avg Return\", \"5 Year Avg Return\", \"5 Year Avg Return\", \"5 Year Avg Return\", \"5 Year Avg Return\", \"5 Year Avg Return\", \"5 Year Avg Return\", \"5 Year Avg Return\", \"5 Year Avg Return\", \"5 Year Avg Return\", \"5 Year Avg Return\", \"5 Year Avg Return\", \"5 Year Avg Return\", \"5 Year Avg Return\", \"5 Year Avg Return\", \"5 Year Avg Return\", \"5 Year Avg Return\", \"5 Year Avg Return\", \"5 Year Avg Return\", \"5 Year Avg Return\", \"5 Year Avg Return\", \"5 Year Avg Return\", \"5 Year Avg Return\", \"5 Year Avg Return\", \"5 Year Avg Return\", \"5 Year Avg Return\", \"5 Year Avg Return\", \"5 Year Avg Return\", \"5 Year Avg Return\", \"5 Year Avg Return\", \"5 Year Avg Return\", \"5 Year Avg Return\", \"5 Year Avg Return\", \"5 Year Avg Return\", \"5 Year Avg Return\", \"5 Year Avg Return\", \"5 Year Avg Return\", \"5 Year Avg Return\", \"5 Year Avg Return\", \"5 Year Avg Return\", \"5 Year Avg Return\", \"5 Year Avg Return\", \"5 Year Avg Return\", \"5 Year Avg Return\", \"5 Year Avg Return\", \"5 Year Avg Return\", \"5 Year Avg Return\", \"5 Year Avg Return\", \"5 Year Avg Return\", \"5 Year Avg Return\", \"5 Year Avg Return\", \"5 Year Avg Return\", \"5 Year Avg Return\", \"5 Year Avg Return\", \"5 Year Avg Return\", \"5 Year Avg Return\", \"5 Year Avg Return\", \"5 Year Avg Return\", \"5 Year Avg Return\", \"5 Year Avg Return\", \"5 Year Avg Return\", \"5 Year Avg Return\", \"5 Year Avg Return\", \"5 Year Avg Return\", \"5 Year Avg Return\", \"5 Year Avg Return\", \"5 Year Avg Return\", \"5 Year Avg Return\", \"5 Year Avg Return\", \"5 Year Avg Return\", \"5 Year Avg Return\", \"5 Year Avg Return\", \"5 Year Avg Return\", \"5 Year Avg Return\", \"5 Year Avg Return\", \"5 Year Avg Return\", \"5 Year Avg Return\", \"5 Year Avg Return\", \"5 Year Avg Return\", \"5 Year Avg Return\", \"5 Year Avg Return\", \"5 Year Avg Return\", \"5 Year Avg Return\", \"5 Year Avg Return\", \"5 Year Avg Return\", \"5 Year Avg Return\", \"5 Year Avg Return\", \"5 Year Avg Return\", \"5 Year Avg Return\", \"5 Year Avg Return\", \"5 Year Avg Return\", \"5 Year Avg Return\", \"5 Year Avg Return\", \"5 Year Avg Return\", \"5 Year Avg Return\", \"5 Year Avg Return\", \"5 Year Avg Return\", \"5 Year Avg Return\", \"5 Year Avg Return\", \"5 Year Avg Return\", \"5 Year Avg Return\", \"5 Year Avg Return\", \"5 Year Avg Return\", \"5 Year Avg Return\", \"5 Year Avg Return\", \"5 Year Avg Return\", \"5 Year Avg Return\", \"5 Year Avg Return\", \"5 Year Avg Return\", \"5 Year Avg Return\", \"5 Year Avg Return\", \"5 Year Avg Return\", \"5 Year Avg Return\", \"5 Year Avg Return\", \"5 Year Avg Return\", \"5 Year Avg Return\", \"5 Year Avg Return\", \"5 Year Avg Return\", \"5 Year Avg Return\", \"5 Year Avg Return\", \"5 Year Avg Return\", \"5 Year Avg Return\", \"5 Year Avg Return\", \"5 Year Avg Return\", \"5 Year Avg Return\", \"5 Year Avg Return\", \"5 Year Avg Return\", \"5 Year Avg Return\", \"5 Year Avg Return\", \"5 Year Avg Return\", \"5 Year Avg Return\", \"5 Year Avg Return\", \"5 Year Avg Return\", \"5 Year Avg Return\", \"5 Year Avg Return\", \"5 Year Avg Return\", \"5 Year Avg Return\", \"5 Year Avg Return\", \"5 Year Avg Return\", \"5 Year Avg Return\", \"5 Year Avg Return\", \"5 Year Avg Return\", \"5 Year Avg Return\", \"5 Year Avg Return\", \"5 Year Avg Return\", \"5 Year Avg Return\", \"5 Year Avg Return\", \"5 Year Avg Return\", \"5 Year Avg Return\", \"5 Year Avg Return\", \"5 Year Avg Return\", \"5 Year Avg Return\", \"5 Year Avg Return\", \"5 Year Avg Return\", \"5 Year Avg Return\", \"5 Year Avg Return\", \"5 Year Avg Return\", \"5 Year Avg Return\", \"5 Year Avg Return\", \"5 Year Avg Return\", \"5 Year Avg Return\", \"5 Year Avg Return\", \"5 Year Avg Return\", \"5 Year Avg Return\", \"5 Year Avg Return\", \"5 Year Avg Return\", \"5 Year Avg Return\", \"5 Year Avg Return\", \"5 Year Avg Return\", \"5 Year Avg Return\", \"5 Year Avg Return\", \"5 Year Avg Return\", \"5 Year Avg Return\", \"5 Year Avg Return\", \"5 Year Avg Return\", \"5 Year Avg Return\", \"5 Year Avg Return\", \"5 Year Avg Return\", \"5 Year Avg Return\", \"5 Year Avg Return\", \"5 Year Avg Return\", \"5 Year Avg Return\", \"5 Year Avg Return\", \"5 Year Avg Return\", \"5 Year Avg Return\", \"5 Year Avg Return\", \"5 Year Avg Return\", \"5 Year Avg Return\", \"5 Year Avg Return\", \"5 Year Avg Return\", \"5 Year Avg Return\", \"5 Year Avg Return\", \"5 Year Avg Return\", \"5 Year Avg Return\", \"5 Year Avg Return\", \"5 Year Avg Return\", \"5 Year Avg Return\", \"5 Year Avg Return\", \"5 Year Avg Return\", \"5 Year Avg Return\", \"5 Year Avg Return\", \"5 Year Avg Return\", \"5 Year Avg Return\", \"5 Year Avg Return\", \"5 Year Avg Return\", \"5 Year Avg Return\", \"5 Year Avg Return\", \"5 Year Avg Return\", \"5 Year Avg Return\", \"5 Year Avg Return\", \"5 Year Avg Return\", \"5 Year Avg Return\", \"5 Year Avg Return\", \"5 Year Avg Return\", \"5 Year Avg Return\", \"5 Year Avg Return\", \"5 Year Avg Return\", \"5 Year Avg Return\", \"5 Year Avg Return\", \"5 Year Avg Return\", \"5 Year Avg Return\", \"5 Year Avg Return\", \"5 Year Avg Return\", \"5 Year Avg Return\", \"5 Year Avg Return\", \"5 Year Avg Return\", \"5 Year Avg Return\", \"5 Year Avg Return\", \"5 Year Avg Return\", \"5 Year Avg Return\", \"5 Year Avg Return\", \"5 Year Avg Return\", \"5 Year Avg Return\", \"5 Year Avg Return\", \"5 Year Avg Return\", \"5 Year Avg Return\", \"5 Year Avg Return\", \"5 Year Avg Return\", \"5 Year Avg Return\", \"5 Year Avg Return\", \"5 Year Avg Return\", \"5 Year Avg Return\", \"5 Year Avg Return\", \"5 Year Avg Return\", \"5 Year Avg Return\", \"5 Year Avg Return\", \"5 Year Avg Return\", \"5 Year Avg Return\", \"5 Year Avg Return\", \"5 Year Avg Return\", \"5 Year Avg Return\", \"5 Year Avg Return\", \"5 Year Avg Return\", \"5 Year Avg Return\", \"5 Year Avg Return\", \"5 Year Avg Return\", \"5 Year Avg Return\", \"5 Year Avg Return\", \"5 Year Avg Return\", \"5 Year Avg Return\", \"5 Year Avg Return\", \"5 Year Avg Return\", \"5 Year Avg Return\", \"5 Year Avg Return\", \"5 Year Avg Return\", \"5 Year Avg Return\", \"5 Year Avg Return\", \"5 Year Avg Return\", \"5 Year Avg Return\", \"5 Year Avg Return\", \"5 Year Avg Return\", \"5 Year Avg Return\", \"5 Year Avg Return\", \"5 Year Avg Return\", \"5 Year Avg Return\", \"5 Year Avg Return\", \"5 Year Avg Return\", \"5 Year Avg Return\", \"5 Year Avg Return\", \"5 Year Avg Return\", \"5 Year Avg Return\", \"5 Year Avg Return\", \"5 Year Avg Return\", \"5 Year Avg Return\", \"5 Year Avg Return\", \"5 Year Avg Return\", \"5 Year Avg Return\", \"5 Year Avg Return\", \"5 Year Avg Return\", \"5 Year Avg Return\", \"5 Year Avg Return\", \"5 Year Avg Return\", \"5 Year Avg Return\", \"5 Year Avg Return\", \"5 Year Avg Return\", \"5 Year Avg Return\", \"5 Year Avg Return\", \"5 Year Avg Return\", \"5 Year Avg Return\", \"5 Year Avg Return\", \"5 Year Avg Return\", \"5 Year Avg Return\", \"5 Year Avg Return\", \"5 Year Avg Return\", \"5 Year Avg Return\", \"5 Year Avg Return\", \"5 Year Avg Return\", \"5 Year Avg Return\", \"5 Year Avg Return\", \"5 Year Avg Return\", \"5 Year Avg Return\", \"5 Year Avg Return\", \"5 Year Avg Return\", \"5 Year Avg Return\", \"5 Year Avg Return\", \"5 Year Avg Return\", \"5 Year Avg Return\", \"5 Year Avg Return\", \"5 Year Avg Return\", \"5 Year Avg Return\", \"5 Year Avg Return\", \"5 Year Avg Return\", \"5 Year Avg Return\", \"5 Year Avg Return\", \"5 Year Avg Return\", \"5 Year Avg Return\", \"5 Year Avg Return\", \"5 Year Avg Return\", \"5 Year Avg Return\", \"5 Year Avg Return\", \"5 Year Avg Return\", \"5 Year Avg Return\", \"5 Year Avg Return\", \"5 Year Avg Return\", \"5 Year Avg Return\", \"5 Year Avg Return\", \"5 Year Avg Return\", \"5 Year Avg Return\", \"5 Year Avg Return\", \"5 Year Avg Return\", \"5 Year Avg Return\", \"5 Year Avg Return\", \"5 Year Avg Return\", \"5 Year Avg Return\", \"5 Year Avg Return\", \"5 Year Avg Return\", \"5 Year Avg Return\", \"5 Year Avg Return\", \"5 Year Avg Return\", \"5 Year Avg Return\", \"5 Year Avg Return\", \"5 Year Avg Return\", \"5 Year Avg Return\", \"5 Year Avg Return\", \"5 Year Avg Return\", \"5 Year Avg Return\", \"5 Year Avg Return\", \"5 Year Avg Return\", \"5 Year Avg Return\", \"5 Year Avg Return\", \"5 Year Avg Return\", \"5 Year Avg Return\", \"5 Year Avg Return\", \"5 Year Avg Return\", \"5 Year Avg Return\", \"5 Year Avg Return\", \"5 Year Avg Return\", \"5 Year Avg Return\", \"5 Year Avg Return\", \"5 Year Avg Return\", \"5 Year Avg Return\", \"5 Year Avg Return\", \"5 Year Avg Return\", \"5 Year Avg Return\", \"5 Year Avg Return\", \"5 Year Avg Return\", \"5 Year Avg Return\", \"5 Year Avg Return\", \"5 Year Avg Return\", \"5 Year Avg Return\", \"5 Year Avg Return\", \"5 Year Avg Return\", \"5 Year Avg Return\", \"5 Year Avg Return\", \"5 Year Avg Return\", \"5 Year Avg Return\", \"5 Year Avg Return\", \"5 Year Avg Return\", \"5 Year Avg Return\", \"5 Year Avg Return\", \"5 Year Avg Return\", \"5 Year Avg Return\", \"5 Year Avg Return\", \"5 Year Avg Return\", \"5 Year Avg Return\", \"5 Year Avg Return\", \"5 Year Avg Return\", \"5 Year Avg Return\", \"5 Year Avg Return\", \"5 Year Avg Return\", \"5 Year Avg Return\", \"5 Year Avg Return\", \"5 Year Avg Return\", \"5 Year Avg Return\", \"5 Year Avg Return\", \"5 Year Avg Return\", \"5 Year Avg Return\", \"5 Year Avg Return\", \"5 Year Avg Return\", \"5 Year Avg Return\", \"5 Year Avg Return\", \"5 Year Avg Return\", \"5 Year Avg Return\", \"5 Year Avg Return\", \"5 Year Avg Return\", \"5 Year Avg Return\", \"5 Year Avg Return\", \"5 Year Avg Return\", \"5 Year Avg Return\", \"5 Year Avg Return\", \"5 Year Avg Return\", \"5 Year Avg Return\", \"5 Year Avg Return\", \"5 Year Avg Return\", \"5 Year Avg Return\", \"5 Year Avg Return\", \"5 Year Avg Return\", \"5 Year Avg Return\", \"5 Year Avg Return\", \"5 Year Avg Return\", \"5 Year Avg Return\", \"5 Year Avg Return\", \"5 Year Avg Return\", \"5 Year Avg Return\", \"5 Year Avg Return\", \"5 Year Avg Return\", \"5 Year Avg Return\", \"5 Year Avg Return\", \"5 Year Avg Return\", \"5 Year Avg Return\", \"5 Year Avg Return\", \"5 Year Avg Return\", \"5 Year Avg Return\", \"5 Year Avg Return\", \"5 Year Avg Return\", \"5 Year Avg Return\", \"5 Year Avg Return\", \"5 Year Avg Return\", \"5 Year Avg Return\", \"5 Year Avg Return\", \"5 Year Avg Return\", \"5 Year Avg Return\", \"5 Year Avg Return\", \"5 Year Avg Return\", \"5 Year Avg Return\", \"5 Year Avg Return\", \"5 Year Avg Return\", \"5 Year Avg Return\", \"5 Year Avg Return\", \"5 Year Avg Return\", \"5 Year Avg Return\", \"5 Year Avg Return\", \"5 Year Avg Return\", \"5 Year Avg Return\", \"5 Year Avg Return\", \"5 Year Avg Return\", \"5 Year Avg Return\", \"5 Year Avg Return\", \"5 Year Avg Return\", \"5 Year Avg Return\", \"5 Year Avg Return\", \"5 Year Avg Return\", \"5 Year Avg Return\", \"5 Year Avg Return\", \"5 Year Avg Return\", \"5 Year Avg Return\", \"5 Year Avg Return\", \"5 Year Avg Return\", \"5 Year Avg Return\", \"5 Year Avg Return\", \"5 Year Avg Return\", \"5 Year Avg Return\", \"5 Year Avg Return\", \"5 Year Avg Return\", \"5 Year Avg Return\", \"5 Year Avg Return\", \"5 Year Avg Return\", \"5 Year Avg Return\", \"5 Year Avg Return\", \"5 Year Avg Return\", \"5 Year Avg Return\", \"5 Year Avg Return\", \"5 Year Avg Return\", \"5 Year Avg Return\", \"5 Year Avg Return\", \"5 Year Avg Return\", \"5 Year Avg Return\", \"5 Year Avg Return\", \"5 Year Avg Return\", \"5 Year Avg Return\", \"5 Year Avg Return\", \"5 Year Avg Return\", \"5 Year Avg Return\", \"5 Year Avg Return\", \"5 Year Avg Return\", \"5 Year Avg Return\", \"5 Year Avg Return\", \"5 Year Avg Return\", \"5 Year Avg Return\", \"5 Year Avg Return\", \"5 Year Avg Return\", \"5 Year Avg Return\", \"5 Year Avg Return\", \"5 Year Avg Return\", \"5 Year Avg Return\", \"5 Year Avg Return\", \"5 Year Avg Return\", \"5 Year Avg Return\", \"5 Year Avg Return\", \"5 Year Avg Return\", \"5 Year Avg Return\", \"5 Year Avg Return\", \"5 Year Avg Return\", \"5 Year Avg Return\", \"5 Year Avg Return\", \"5 Year Avg Return\", \"5 Year Avg Return\", \"5 Year Avg Return\", \"5 Year Avg Return\", \"5 Year Avg Return\", \"5 Year Avg Return\", \"5 Year Avg Return\", \"5 Year Avg Return\", \"5 Year Avg Return\", \"5 Year Avg Return\", \"5 Year Avg Return\", \"5 Year Avg Return\", \"5 Year Avg Return\", \"5 Year Avg Return\", \"5 Year Avg Return\", \"5 Year Avg Return\", \"5 Year Avg Return\", \"5 Year Avg Return\", \"5 Year Avg Return\", \"5 Year Avg Return\", \"5 Year Avg Return\", \"5 Year Avg Return\", \"5 Year Avg Return\", \"5 Year Avg Return\", \"5 Year Avg Return\", \"5 Year Avg Return\", \"5 Year Avg Return\", \"5 Year Avg Return\", \"5 Year Avg Return\", \"5 Year Avg Return\", \"5 Year Avg Return\", \"5 Year Avg Return\", \"5 Year Avg Return\", \"5 Year Avg Return\", \"5 Year Avg Return\", \"5 Year Avg Return\", \"5 Year Avg Return\", \"5 Year Avg Return\", \"5 Year Avg Return\", \"5 Year Avg Return\", \"5 Year Avg Return\", \"5 Year Avg Return\", \"5 Year Avg Return\", \"5 Year Avg Return\", \"5 Year Avg Return\", \"5 Year Avg Return\", \"5 Year Avg Return\", \"5 Year Avg Return\", \"5 Year Avg Return\", \"5 Year Avg Return\", \"5 Year Avg Return\", \"5 Year Avg Return\", \"5 Year Avg Return\", \"5 Year Avg Return\", \"5 Year Avg Return\", \"5 Year Avg Return\", \"5 Year Avg Return\", \"5 Year Avg Return\", \"5 Year Avg Return\", \"5 Year Avg Return\", \"5 Year Avg Return\", \"5 Year Avg Return\", \"5 Year Avg Return\", \"5 Year Avg Return\", \"5 Year Avg Return\", \"5 Year Avg Return\", \"5 Year Avg Return\", \"5 Year Avg Return\", \"5 Year Avg Return\", \"5 Year Avg Return\", \"5 Year Avg Return\", \"5 Year Avg Return\", \"5 Year Avg Return\", \"5 Year Avg Return\", \"5 Year Avg Return\", \"5 Year Avg Return\", \"5 Year Avg Return\", \"5 Year Avg Return\", \"5 Year Avg Return\", \"5 Year Avg Return\", \"5 Year Avg Return\", \"5 Year Avg Return\"], \"x0\": \" \", \"xaxis\": \"x\", \"y\": [0.02083847235152625, 0.012267194785073654, 0.02229787350918655, 0.05226295114811208, 0.04956240344027951, 0.02213590319440839, 0.02787669276601079, 0.024915804618649284, 0.03708779032990006, 0.02620128451572468, 0.021168985536472285, 0.029436866160095443, 0.02330156989815801, 0.02648714514283479, 0.04274168657571642, 0.024938834598188908, 0.03977298408552943, 0.04886855576734917, 0.04101211467001065, 0.03686354913061418, 0.0286809859605226, 0.035484916662720016, 0.03206416418013736, 0.032282168565135994, 0.02716128590564693, 0.003189643164073441, 0.05004728085896937, 0.03454265030006876, 0.023881267066606204, 0.03377917783198847, 0.014999467805139275, 0.022011578632811224, 0.027548823949910428, 0.009648121779899156, 0.028580439367809293, 0.04672978593778332, -0.0007314209585668198, 0.026511310941620847, 0.02923842060190407, 0.025448120149394796, 0.018751765961108058, 0.02654093358822873, 0.020905649268679882, 0.045424184830150205, 0.02628583715816135, 0.01713087587240847, 0.026613614089970428, 0.040341830437516935, -0.018200431850075142, 0.037578813395023225, 0.03594754627828567, 0.045914171492299705, 0.02747148808772204, 0.03182728038866367, 0.028448629392668238, 0.02534675510094897, 0.03467268835791315, 0.008840492414833312, 0.03612755742941976, 0.018617088211509758, 0.04027939350115562, 0.026753952639302803, 0.016791568001547352, 0.032510935087781245, 0.05579721163536711, 0.009871986063882066, 0.022121016558926062, 0.008679198608890104, 0.04934729294503937, 0.046550779917858616, 0.04640269775086692, 0.04222552547427783, 0.032518363298555286, 0.01851588804716875, 0.019163661302488144, 0.02303499013832422, 0.030495812373141362, 0.004951356292121067, -0.002300901686619672, 0.012197421655339545, 0.022761678469702232, 0.023759540312013442, 0.04312783435053058, 0.022709610492942955, 0.014810854415607809, 0.021845537542811044, 0.02394266345999374, 0.033360369768626004, 0.03569121647882767, 0.02934824493646948, 0.013381028415790695, 0.029229728822348644, 0.02509081270969471, 0.002777088305234709, 0.024295630385844147, 0.006057404410801047, 0.01189541053783416, 0.02405097668920142, 0.02978417677084133, 0.038287763947056234, 0.027552176499376024, 0.026134250987159824, 0.033007925896444856, 0.030431013410204155, 0.03348861134698433, 0.010346306465493615, 0.02438853958767906, 0.04934478374085538, 0.03382419250189672, 0.006592031217803829, 0.02607399419688039, 0.02502013310071627, 0.03205308378185645, 0.023781982938503976, 0.022655685226160568, 0.026280578649189312, 0.013452160309338046, 0.002284448455412757, 0.034715772542668555, 0.02581278515526209, 0.030637623004338588, 0.0217527181200301, 0.04305823861595859, 0.02978575728463761, 0.04429486755010914, 0.03443905429305949, 0.03803184831295292, 0.039947798082508916, 0.029908334651587376, 0.021394716394217642, 0.03618560405351623, 0.03766379539615938, 0.023606486002681004, 0.015418766224734926, 0.011786263540800146, -0.018846025317442283, 0.023175506248353628, 0.0244761930562496, 0.03756593075909187, 0.020895972210821512, 0.03434522220180791, 0.03140623006507215, 0.00813858604374329, 0.02623528107134732, 0.028453815149793508, 0.021349026121434408, 0.02553732643181128, 0.01847325775094077, 0.06970814209233113, 0.006673852099397415, 0.02739634292894721, 0.031967542368666724, 0.03203685959717828, 0.021988451732677383, 0.02658379698321212, 0.01877115503600746, 0.018741089533484082, 0.0206317537367815, 0.029904490316186024, 0.02560902585009428, 0.037075189645732864, 0.04384888529260245, 0.02251482214871614, 0.013232111418172376, 0.039319466552839584, 0.03593213370100057, 0.020223292266770443, 0.02708448086121762, 0.03096126460095272, 0.03924567835543447, 0.03335607200482915, 0.03479632049757253, 0.0351117390501825, 0.011677637952638207, 0.061627983928311585, 0.035421384361184804, 0.02378131087657276, 0.02106679740752182, 0.046685756819981, 0.027533716359049, 0.022555699142652097, 0.03522536951946331, 0.025013215320266458, 0.02971376082501465, 0.022607190744714067, 0.042941710412417684, 0.020131437049804468, 0.029212184627184223, 0.019805451370732863, 0.01862696687842713, 0.015986832683235974, 0.02489382641192273, 0.04846713018273397, 0.02457351349783821, 0.03496467053387908, 0.0300946247524132, 0.01236531019013154, 0.029350177852432987, 0.0463930100384049, 0.02400415973745429, 0.027275162483851645, 0.03751271981642601, 0.01952154593504085, 0.017659609461817768, 0.016290579107481884, 0.0085053903916823, 0.03724958163484837, 0.020874502826353947, 0.026871536359485138, 0.02253649975865657, 0.02973852936669785, 0.046076824413750835, 0.025853928816165, 0.024062639635280325, 0.022663043934205485, 0.02489741564252146, 0.03313103048583055, 0.018714696672671668, 0.036282551556620746, 0.03132185074724991, 0.02614394731328717, 0.009716039702696522, 0.018511480056812468, 0.018939166534188256, 0.025401306931694508, 0.03824792382891173, 0.019813422661971503, 0.010917932615335468, 0.017460391921654272, 0.04998280080560491, 0.02662265609957859, 0.0041360273973534145, 0.0253230808424092, 0.01477341851225922, 0.037306560878165085, 0.03908844209429319, 0.02269232387918252, 0.022244535773364937, 0.033897900906241674, 0.024431501526208432, 0.0057206109674481365, 0.029660036521736544, 0.02418897003211451, 0.02232953659303072, 0.035681251612145186, 0.029857336372034023, 0.03046735901395325, 0.03885815271643711, 0.03956976076052743, 0.0199424600164444, 0.03177540247467303, 0.035866545441291635, 0.011724778251017476, 0.027996358629236884, 0.04291136896967807, 0.027080267287594717, 0.026684475343587533, 0.02472841432124051, 0.015512019571133571, 0.032904425600115195, 0.043504706365866896, 0.017201713727314383, 0.049483463965011916, 0.029128620854165236, 0.03129891240054117, 0.04499063558256822, 0.0396541424029806, 0.02481289057112956, 0.024050340160356898, 0.018980953107823773, 0.044540869339539935, 0.016720099399672783, 0.01746005193720035, 0.031948885927462145, 0.030611862867049533, 0.026367904801719355, 0.021531392717957683, 0.03855455610839309, 0.02548177752416758, 0.031117293660783082, 0.02637215138711291, 0.011266612682504062, 0.029589047674848164, 0.02748189562997916, 0.015086550472932503, 0.008639575957466894, 0.023800989317381168, 0.04655691638105863, 0.02066076456644561, 0.03232959031403482, 0.027006014394556962, 0.025650043454766847, 0.014156733441122116, 0.03735256450650115, 0.039666497646112735, 0.015885560817165526, 0.03132683128026459, 0.0261223443976617, 0.01870606318330914, 0.023688251052074616, 0.024902637218192414, 0.014604183069308885, 0.0224074691082714, 0.03683536386917097, 0.02215729150054901, 0.021889510966614182, 0.010580721683584704, 0.012768119067517958, 0.026478864814645453, 0.03077525722003438, 0.017737922936670536, 0.023754920301799487, 0.015553025822098387, 0.029396526291597613, 0.03936621196208523, 0.015997945788897017, 0.020418741284632613, 0.03717798514662718, 0.034080479520430584, 0.031127619451277733, 0.034622689567495264, 0.02087181876945188, 0.02767745315920167, 0.03569537077175888, 0.02242042213704432, 0.015367587995151366, 0.02100339462197409, 0.029458403783310768, 0.035036287861631044, 0.009729412535090852, 0.034122946939190824, 0.023036453342982988, 0.02287643330138689, 0.05828467246323842, 0.03806724848352872, 0.03904342018913876, 0.017977559212410954, 0.012051699332425558, 0.026946803693469024, 0.036504876324269235, 0.04657758535771972, 0.02131424001054616, 0.02270646649413988, 0.03207330960632904, 0.036739847960985283, 0.026177406660959024, 0.036327899598582285, 0.026206144171247336, 0.02418542163115478, 0.0174445344213896, 0.013969906017297529, 0.01853033602568144, 0.04261101155320568, 0.013487060952832808, 0.023489033279938454, 0.02097674683437734, 0.047360127847599465, 0.02343974181751141, 0.009296453816835415, 0.023760463240563023, 0.024835219620574108, 0.02561209989972824, 0.03564856714954279, 0.03290842057082122, 0.018790795415599915, 0.02211124452979196, 0.028843597083217043, 0.032101490317873786, 0.015581892233781147, 0.03763742431537676, 0.021511592629998244, 0.05369015632786267, 0.014378590122529069, 0.024967098325270557, 0.018079364149335087, 0.03516425397249945, 0.00791334661776455, 0.03179160968969485, 0.02327044526838273, 0.04560596782993498, 0.02916700811487538, 0.021322107076909846, 0.03509158644762556, 0.028969747960180925, 0.04217627059747664, 0.032835350323657364, 0.03681579279860658, 0.032457912652759324, 0.020691643943829163, 0.020075480428970668, 0.007602475887494632, 0.016634317337422374, 0.033124360761823464, 0.02121873975872246, 0.017070365707434032, 0.03151127539896503, 0.018389058620534412, 0.04439261353914792, 0.014502451770175284, 0.036863273508624735, 0.03637983045132875, 0.029251018044667683, 0.019369667865355208, 0.03476084961865311, 0.013440409552713195, 0.020800449824128986, 0.03037765798582748, 0.024810814714178786, 0.015440293029498118, 0.037504394366808524, 0.01930203143068443, 0.01801748968711769, 0.0284065116686576, 0.02254262060407441, 0.02589647507395809, 0.03255259389474152, 0.011314124295513706, 0.018959915951663357, 0.012738515110284343, 0.030552194186450613, 0.020377513796755453, 0.03349844591318418, 0.020320392356205863, 0.02213991260693926, 0.015819764787091684, 0.020832053665325038, 0.05276199941657822, 0.025899823482955275, 0.02539427183412224, 0.01974114399213689, 0.03147351833852796, 0.02850803874606589, 0.00984246001813216, 0.03720367175879025, 0.009689579645981272, 0.023350669970750196, 0.023762299406704827, 0.024020497172623445, 0.012756161482397443, 0.022552445901055984, 0.025012840907046918, 0.048126368636395744, 0.014572904246306306, 0.03380081133601398, 0.020045921897181133, 0.019086910940251837, 0.013706012647635156, 0.03563435241226043, 0.028403400795396605, 0.024566460410412102, 0.015562326626110682, 0.016047762101134344, 0.04742513070866283, 0.032228607275199606, 0.01787068849074691, 0.04033589904440449, 0.018274343217427047, 0.04785553906573203, 0.028864017262776095, 0.019779002647154043, 0.023772920727704868, 0.028863173787672117, 0.02004309727284159, 0.02548235414979949, 0.0162107072041342, 0.016140230063565575, 0.019048152840847262, 0.01722608314704677, 0.032500396353160266, 0.04242109081596857, 0.02541216857586748, 0.03093091037666995, 0.0187790880465446, 0.1025169113555826, 0.003954821179277035, 0.02413463776886715, 0.030831547708336737, 0.029584628153520812, 0.025909847128793292, 0.022805720244218897, 0.01913585904180315, 0.004290325751483247, 0.013821567077853423, 0.03481745135779435, 0.02290663019360406, 0.019078138115146803, 0.0173915959147386, 0.01775451889486379, 0.04343002536253593, 0.024021639739530976, 0.021221566638570225, 0.021726051352637832, 0.0197770320417765, 0.03998259689359207, 0.03265118432106684, 0.025524028273848698, 0.041085799578060016, 0.026029355557849243, 0.02388690413057537, 0.03438371642111071, 0.02666641841086537, 0.045029635613770484, 0.02306713036790731, 0.0013304312622888224, 0.028647771336886892, 0.03988923161819402, 0.03645095690169975, 0.025838084353447144, 0.02596895379307429, 0.00987597472412638, -0.00038648504533123074, 0.04568633600338745, 0.03649006734566562, 0.038684423215089365, 0.036873012140309365, 0.02152708719952656, 0.05044664738730442, 0.03540561969354505, 0.012587230285724171, 0.008911679929067162, 0.027805352112298957, 0.028349590501816287, 0.01886414050067331, 0.00022689516033458368, 0.016784542182022518, 0.026620716028471048, 0.03406278915072192, 0.030609610096320683, 0.02224111365934656, 0.028578715462131976, 0.00985666131071672, 0.01774662657131221, 0.005709351558228715, 0.044493771803899566, 0.019235672592961883, 0.026252745767160413, 0.031167064157843205, 0.028961906821976188, 0.02472383008303236, 0.02512404003387325, 0.02897021079573503, 0.03053569448557525, 0.02598407689634397, 0.025898188587064386, 0.019137009058590948, 0.02198060233576737, 0.029904710101469112, 0.03281764762047579, 0.02799297647943355, 0.012887808582080941, 0.017430690655963144, 0.02824920937524733, 0.024985495011071283, 0.02034128152354531, 0.04447758575910021, 0.02292295036136149, 0.0019440797964140886, 0.02872304865012198, 0.03422520706809706, 0.032562588015812244, 0.0042740204274129825, 0.033345976850007515, 0.03288367753827881, 0.019866820161335445, 0.03806158012722105, 0.02156725056142439, 0.029815352506086686, 0.020424157891598904, 0.028477339619352726, 0.027822576595089688, 0.03073247800266876, 0.03616801236027278, 0.0190356566151364, 0.02544621983890405, 0.035506623989368664, 0.026343599092996328, 0.03658990657462069, 0.027273217549431683, 0.013642450525125804, 0.03922400477467836, 0.02809723647672113, 0.022112429505966924, 0.02580004976730943, 0.023500760337280102, 0.0220058736074944, 0.035474940302846925, 0.020838474937724397, 0.03772998377413917, -0.014709834203185834, 0.04053487443881032, 0.0310628446776533, 0.03661383169641552, 0.048828238265119735, 0.022277595176118714, 0.017306881171707644, 0.019321880122403767, 0.028944454276479625, 0.021606626491574188, 0.02107500196391077, 0.026725049865504502, 0.02565026938834092, 0.041714568075364784, 0.030722337215622893, 0.031338869220566945, 0.027590755394357732, 0.014078168599764853, 0.039166332856113366, 0.02460214721487364, 0.00952130136078, 0.03837134782827767, 0.033417579589391185, 0.0095701929168015, 0.008344020451811707, 0.04539672591963551, 0.03763115060323141, 0.03800632147402538, 0.033150547778354245, 0.05949182966525201, 0.020937244146484124, 0.03846671656163125, 0.030345859187837613, 0.024426789560739515, 0.019733788833705024, 0.0114847270369689, 0.029286941486780908, 0.02795243102591005, 0.023299805401046703, 0.0448149481001463, 0.03570877310300724, 0.03395836315421485, 0.030358504710785494, 0.03062297202625275, 0.029125107504738512, 0.02020205263157404, 0.031784963958973345, 0.02638027294577938, 0.01582490183780605, 0.028724569956616982, 0.010285287933581966, 0.012204918411972798, 0.02267752623891295, 0.032802105116437115, 0.04000047825808073, 0.0330956745269162, 0.024491281303195226, 0.02555574405127592, 0.012431721817668384, 0.005362868256687525, 0.013843702923394652, 0.028935264849763612, 0.02713658246388695, 0.026606882661466047, 0.04802152319953201, 0.039985824683385296, 0.03600776734674116, 0.032725272990868685, 0.010451283777413556, 0.0326394728766688, 0.01921875642496884, 0.032051341835628744, 0.020981711582145124, 0.020459651318500915, 0.03568526489662305, 0.017515509278225094, 0.02612742766766996, 0.015940321750845362, 0.029668561975223277, 0.026901344829761475, 0.0048811543786349, 0.0191869822967532, 0.03865122536442689, 0.04057369513074871, 0.03454421057935053, 0.030736713996528, 0.03788043225502302, 0.014244579321304627, 0.05032861854269655, 0.0399618943097797, 0.027881898296429064, 0.01478697911121274, 0.01791660571208586, 0.021178168433751757, 0.03332431664173452, 0.0243552355449983, 0.04354834155799736, 0.0011470293458137881, 0.029891723165354826, 0.034028735958065985, 0.03878714647502912, 0.03125253957525476, 0.022793314847961318, 0.007409081812112639, 0.0041556885451869965, 0.043598041738862385, 0.027587418223912863, 0.025247853950653317, 0.024920136268927084, 0.05239978669064915, 0.032857723927256284, 0.026367882527092323, 0.01994119551494511, 0.027655281645045937, 0.0479432501514776, 0.024126282689605597, 0.02935110890609116, 0.02539523251145281, 0.035404890571187016, 0.02679004415602937, 0.014586862640432187, 0.010938582256736272, 0.01928196028263951, 0.028622980358188325, 0.02793559276785751, 0.009471206560441205, 0.02120609318582489, 0.04212251888943808, 0.02603302117171014, 0.023411319999269157, 0.02082432263059819, 0.029301811723743357, 0.016600443925579134, 0.02707280217071117, 0.0227413802621661, 0.009707551059793706, 0.021460391374794385, 0.016380702689182236, 0.026579226206078888, 0.012240440448034072, 0.02252161540149533, 0.03286036306507833, 0.028741860416806157, 0.03752430322523681, 0.02627167889362769, 0.022566515193100708, 0.022835202596361848, 0.05422135267325623, 0.03066677221519165, 0.01819031811033911, 0.012243607750663354, 0.01951569987010604, 0.026502898509600525, 0.026665405437316325, 0.02018678740848312, 0.023444196137750062, -0.000979614547034435, 0.020068286876778533, 0.02856943939165424, 0.0639984086913814, 0.01866359265113426, 0.012471618397736473, 0.012398879401153806, 0.0385964278982065, 0.045968559100484814, 0.04233037470407086, 0.017749163511820543, -0.0011413018725419108, 0.030500440525096595, 0.035964285660426754, 0.02699413443903964, 0.029987826869474214, 0.02356084756687582, 0.023080065205592026, 0.0295539897142314, 0.0365015502750492, 0.03409310171432356, 0.021531836437891583, 0.020415974886103028, 0.01566498496858837, 0.030283903834956494, 0.02974615417265314, 0.007620846063603359, 0.018782597476041833, 0.008255479729041504, 0.012202538307066746, 0.01910154559745281, 0.016398185959587197, 0.006871110322394625, 0.09019117106482487, 0.04208540415935369, 0.025184075599331782, 0.03951441162690328, 0.03217431062565157, 0.029843631453506655, 0.020496396549925192, 0.020894674245256702, 0.023297268194049314, 0.0277589077783702, 0.01633303630022298, 0.016738399120237446, 0.010195871651474286, 0.041111420504628786, 0.006969188947576255, 0.02790657044701184, 0.03687661510381357, 0.0307915578471889, 0.025198203078988124, 0.02466043852316924, 0.02109320970332762, 0.025449108784528333, 0.03133581996943291, 0.028351649133440127, 0.027992388620413863, 0.02676473578748939, 0.03228019218240608, 0.0516731724546593, 0.018281150659742677, 0.01925155758808472, 0.026229699185108316, 0.01504222038434655, 0.023494890376198896, 0.03402780394586946, 0.028504352996315818, 0.036148427747832335, 0.05166853720645026, 0.025986736921967516, 0.034879350744295934, 0.022447779957956104, 0.02274245838875899, 0.03220803572354436, 0.015483554640098653, 0.0373087751976775, 0.007985568121740226, 0.016383497277944636, 0.03402278204828457, 0.03015653512582883, 0.019166419384649917, 0.03131810431991733, 0.011343470520081222, 0.008328879392110133, 0.02879682816894192, 0.02742005467614628, 0.024017467780628854, 0.029793598153237788, 0.02249611805385454, 0.03261858853270927, 0.019640233936205176, 0.013331426983048232, 0.03362818358173092, 0.046630863154673914, 0.026739805925639404, 0.022797233359256763, 0.015620308287658704, 0.03376059329145442, 0.031685065006617615, 0.009762978267952915, 0.06654002507623602, 0.028913555706433506, 0.02534979876650123, 0.02213136798993776, 0.019814603421559163, 0.026366205661215503, 0.035266141188898814, 0.03904155242285756, 0.03732392921045746, 0.0199664574641496, 0.03845613831607997, 0.02530529210300725, 0.028957930869926374, 0.07980758909361474, 0.03768665893285972, 0.02098210078357443, 0.0182361042967496, 0.03561387146818906, 0.05636220579747176, 0.0264353172257199, 0.01206773398938199, 0.0072431041575387045, 0.04987202426747639, 0.015645485265418202, 0.027026692445869305, 0.02528140492866981, 0.02163488011262671, 0.03154261671599912, 0.04599578264058524, 0.04020734803709436, 0.03602753726466856, 0.03973733206130015, 0.02026112003166292, 0.04368277555238498, 0.022982801414238585, 0.025445341520661916, 0.012808158798897741, 0.05089653446378284, 0.022108987979195138, 0.03737531457462717, 0.030155775761786737, 0.037183928470657664, 0.0011339075921226185, 0.028530247176453694, 0.03253551204365479, 0.009346554713441035, 0.034997127102993415, 0.020293080983634804, 0.04902071824560483, 0.029256394722624087, 0.012509349512000556, 0.05405126680057504, 0.02585357930930554, 0.03646948287307539, 0.02217662871911497, 0.03765720236706782, 0.02662724632279456, 0.021971797677008853, 0.012867867631490615, 0.023626965521727383, 0.05553515113052376, 0.05233165031290255, 0.023793102722824644, 0.029584158941713845, 0.026257037906660896, 0.03985458940076714, 0.028021806757813076, 0.022794467581647604, 0.030622804713580143, 0.02444554641524577, 0.028003581092857388, 0.045813671673179616, 0.026431536202756067, 0.04262690347515497, 0.05186113736759879, 0.04464581032064885, 0.0400161113256392, 0.030339069523703133, 0.03872793421679699, 0.034069737681599266, 0.03421669056097132, 0.02883991695487853, 0.0028062470455063604, 0.052070631687927804, 0.036955275406433286, 0.02571866095205344, 0.03591514526708983, 0.01603943850259726, 0.02354753215884964, 0.029411788785288495, 0.01037576381915506, 0.030307180869764805, 0.04934951205330629, -8.918980940531007e-05, 0.027475154910310492, 0.030898559736489032, 0.02815624434525055, 0.020572488071446404, 0.02943785278227695, 0.021574000621650716, 0.047974664047045534, 0.027556578186445743, 0.018274993868147016, 0.028272560009748208, 0.0425168846768218, -0.019023581218924224, 0.03937450375261209, 0.03745170590201563, 0.048764236004416484, 0.028341917658243787, 0.03371224389532235, 0.030134368783173663, 0.026827197594037733, 0.036668734968116734, 0.009528142365675452, 0.038041882767785314, 0.0191914010220795, 0.04348002565353992, 0.02848087070264893, 0.017322636193508382, 0.034441956487571534, 0.05822355071015895, 0.010390654873914551, 0.02377466188351951, 0.00919532465311912, 0.05198314555952921, 0.0492639745835135, 0.04919731624285273, 0.046115215238070384, 0.03493525094288308, 0.01997560801522114, 0.02025985443310496, 0.024149677409346596, 0.03208516832708108, 0.003824490190780239, -0.0017989710746971754, 0.013121836561931666, 0.023903933748519623, 0.024874952262661232, 0.046073245243702265, 0.02401015790360761, 0.0161024908675802, 0.023904742078829644, 0.02625439147293207, 0.035159293845695716, 0.03800406715112481, 0.031572898928723385, 0.013487934989385941, 0.030892467864073406, 0.026777858837693902, 0.0031620604806410486, 0.026166368687969618, 0.006189348322756638, 0.012646094240799988, 0.02532723013686633, 0.03129936463003236, 0.041082675306473686, 0.029456744112646982, 0.027621625859397314, 0.034802001778430965, 0.032149266678175525, 0.034676759798601735, 0.010853429097008815, 0.025038438964513743, 0.051409079387107585, 0.03614830046564843, 0.006848179164802515, 0.029144443849814964, 0.026650718339163992, 0.03489860354193297, 0.025972829937750408, 0.024031324546459176, 0.02746057789940704, 0.014598289056789502, 0.0020865583106568497, 0.03683374021176422, 0.027569432574028108, 0.032635088656881805, 0.02287536460656869, 0.04515873754545385, 0.032173651169771, 0.046859229039828636, 0.0360676111701661, 0.041101563268982184, 0.04163411905254622, 0.03174675933319193, 0.02267646444916394, 0.03867347319107228, 0.04003760175473658, 0.025259450310005427, 0.017019637495579998, 0.012632782680032541, -0.019797753160829323, 0.02446784479335373, 0.02555811814957676, 0.04002731399672643, 0.02215558311788368, 0.03659244340273449, 0.033379102053007426, 0.008538225816885792, 0.02747706064207267, 0.03072173432041203, 0.022610488190683675, 0.027301184901014297, 0.02001254797740071, 0.07484260538140952, 0.006922920464522253, 0.029084140873172126, 0.03498240018056409, 0.03391372348820098, 0.023273008785236412, 0.02824854643368635, 0.01964145284553576, 0.020218379838589984, 0.021611663991203626, 0.03181292560679938, 0.02704760507296089, 0.039138834238267466, 0.04637218244046415, 0.0237712499192162, 0.014011624858827787, 0.04109487249086463, 0.03793827592806665, 0.021679555302371426, 0.028788026182626988, 0.033084093919169444, 0.04172352380923683, 0.03538145933220349, 0.037153169705802735, 0.035950720826593896, 0.01273529202725232, 0.06618021441632592, 0.036465409207001136, 0.025025873365453144, 0.022340292197752017, 0.049310516863685816, 0.029273514795764788, 0.02353768190332506, 0.0379235774601554, 0.02615948601877971, 0.031573292935386243, 0.023770671799730136, 0.04569250191290575, 0.021729002142625964, 0.030754903490359142, 0.020657591325444983, 0.020574329208706832, 0.01633869186267667, 0.026361001862165168, 0.05157128207953954, 0.0263162942623536, 0.03661917115340008, 0.03201818235211884, 0.012969767511259887, 0.031706474512714015, 0.04948560294754434, 0.0253376421268261, 0.028840922001829524, 0.0395231875244868, 0.020909680774794825, 0.01913266375749756, 0.016850117246528296, 0.009358510187646552, 0.04085520140671717, 0.022277535586986863, 0.028280639806555374, 0.023947417165023133, 0.032167505127408624, 0.0488485360219304, 0.026815822152862708, 0.02492956788394607, 0.02415540880427036, 0.026594088111994815, 0.03536630089091042, 0.01993588725464224, 0.03852580249363502, 0.033234412277754144, 0.02753906192119815, 0.010360566422738636, 0.019492558824224068, 0.02021263548095731, 0.027953479041675774, 0.0415717514947378, 0.021161264199628604, 0.012101729150334915, 0.01873228097672075, 0.053544692344449814, 0.028401019312873418, 0.004664104317211093, 0.02714244569790236, 0.01562496261940649, 0.0393799135258075, 0.04190037715790762, 0.02395737429339051, 0.02348605351197808, 0.0363384815525829, 0.025426969803103997, 0.0062835806185252965, 0.03181184902754608, 0.02543864271694041, 0.02377401724884365, 0.03792515466543933, 0.03131089641489515, 0.03270978517965073, 0.04092567746933273, 0.04195805966084598, 0.021423770865204528, 0.034026472497504345, 0.03755805416722291, 0.0123787054210156, 0.029790078878227044, 0.04597446348576839, 0.029841321305979163, 0.02827080317549013, 0.026182282860344845, 0.016388332269782868, 0.03465201016643426, 0.046085655235878376, 0.018414537800980343, 0.05215957331640508, 0.03057910877700465, 0.0331410240874912, 0.047490943112319606, 0.041268025668405935, 0.026287144157503217, 0.025367733952414984, 0.019557652950272786, 0.04715063274973108, 0.017491620544669573, 0.018733377373590043, 0.0338754457475392, 0.032227707339065326, 0.027843203564990704, 0.022886153557292618, 0.04044045721415568, 0.027374747304515838, 0.03330677977193619, 0.028023506600528547, 0.012149105285352846, 0.031190783504560393, 0.029330561637113117, 0.01653558962357149, 0.009084792019372623, 0.024551483012217323, 0.046868687515077, 0.02235751239516404, 0.034421622664344564, 0.027917904853019367, 0.02839637777221426, 0.01501280329007826, 0.04004674707324463, 0.041977171842823464, 0.015325712443707841, 0.033679893033508934, 0.027584624422793302, 0.019484883601856632, 0.02539846738479889, 0.026187903065647108, 0.016164010327452738, 0.02358480676397701, 0.03839524219842594, 0.02308002779703, 0.023819237742199517, 0.01124361359176862, 0.013363824975941352, 0.028594112583964607, 0.03258331871348141, 0.019203273650215458, 0.02502303894604041, 0.016170133200684944, 0.03223465984691254, 0.042261203714027314, 0.017624795725148083, 0.02150117960714804, 0.04060532245796145, 0.03622964198972367, 0.034608468728505086, 0.03673256630838795, 0.0219153176070086, 0.029626923133523775, 0.03763259021925292, 0.023576422884330928, 0.016341806394829742, 0.02315510042675606, 0.030808564837226493, 0.037082256162475284, 0.010261838597740436, 0.03595594986690931, 0.023836421846520798, 0.024562164009979792, 0.06285657952892554, 0.03966656645420042, 0.04154904569073637, 0.01887641430958831, 0.01243816409177323, 0.028386029358958176, 0.03889889406297642, 0.050586142480667284, 0.02267653163599093, 0.023821003477078277, 0.03399627503254177, 0.04081926000072533, 0.027908848982971524, 0.03803737835443477, 0.027532798282065674, 0.024954122428051173, 0.018958934792114857, 0.014770293312642346, 0.019292446863232504, 0.0452132499810185, 0.013629662122005335, 0.02457799648613923, 0.022145171135292685, 0.0504406349112827, 0.024637307781961267, 0.01001116013480452, 0.02474781324263642, 0.026679664700594463, 0.02706141004770624, 0.038125466280892084, 0.03392303441822864, 0.01993642765595016, 0.023018645835294338, 0.030489796462139118, 0.0332886851323666, 0.01660708093700714, 0.039223618809085085, 0.02318455864459601, 0.057798119360454876, 0.01511316680352359, 0.026511114476751363, 0.019398428128568183, 0.038414425824225606, 0.008005207797267877, 0.03368328851786928, 0.024449973764245625, 0.04707664300090642, 0.03093296510561872, 0.02264106865806004, 0.03732996242975428, 0.030398274838937974, 0.04692517407247965, 0.0348981552634795, 0.03882872634493828, 0.03392474113855504, 0.02222438618053668, 0.02095575711681064, 0.007938529570394426, 0.017977027759596753, 0.03536297504132402, 0.022543530983315074, 0.017092776224097106, 0.03369202482881084, 0.01961766419464195, 0.04744371588773033, 0.01576201810456701, 0.0391241373148743, 0.03889822532039311, 0.03053889136026111, 0.02027531405073546, 0.03684866571065304, 0.014080078042718602, 0.021876081997008745, 0.032418457580631665, 0.026346641618828714, 0.016990954457423157, 0.039489701227205735, 0.020422545183795385, 0.019448700672195063, 0.02989318695433973, 0.024067572483691846, 0.027244058940253613, 0.034123004486974695, 0.011543216554858793, 0.019435414321598232, 0.013428755277544058, 0.0326231805662196, 0.02136934354648901, 0.0360152753818479, 0.021088391607861467, 0.023786482492812237, 0.01672614379273818, 0.02192088335084508, 0.0549685870090264, 0.027514918556309054, 0.027860672485124468, 0.02073699705140553, 0.03297757408241386, 0.032065250222053754, 0.010676683091781712, 0.039771787933375664, 0.010314477923228038, 0.02490760243333145, 0.024943895746124326, 0.025327979929551825, 0.014137283765659037, 0.024007199917062568, 0.026620883680418483, 0.05187230917263164, 0.01530938191726272, 0.03532773776880305, 0.0216525512688448, 0.02012333271760136, 0.01505212310883586, 0.0378089460097808, 0.030315149075101244, 0.02677871762801609, 0.016600532038366422, 0.0166251727566904, 0.047860281666948216, 0.03414070952762338, 0.01874648202972673, 0.042798268023231056, 0.01914534234101062, 0.051725991151580164, 0.02998053656816468, 0.02069005473765495, 0.02533445551860836, 0.03098685792221434, 0.02139270846634433, 0.027332117961721858, 0.01765909347002137, 0.01691635402617564, 0.02049119437074598, 0.018457140404250397, 0.03468304882903661, 0.044948331036787526, 0.027518737282263173, 0.032597485977307265, 0.02045271774941404, 0.10908775813221117, 0.0042958240035306785, 0.025632434929836467, 0.03251302567538628, 0.030731397793609894, 0.027272102251966638, 0.024252183569336342, 0.01993238802824915, 0.004818834517731796, 0.014615171458553844, 0.03694363965306957, 0.024221272323872167, 0.02069191259277248, 0.018287776690646632, 0.018931849662637838, 0.04647574083415162, 0.02578156443847424, 0.022374791325281414, 0.022577257851913224, 0.02072267226099811, 0.041786386022386816, 0.034301653517767816, 0.027217298446413185, 0.04415297544887653, 0.02753283785635308, 0.025389656151039386, 0.03675665260360272, 0.028435995537592795, 0.04791092621609505, 0.024539698512395125, 0.0019282338835280302, 0.030059899495427086, 0.042364556107018066, 0.03805651858493042, 0.02799060867999925, 0.027562262776991142, 0.011663913726795759, -0.00016286539068344208, 0.048349121522861534, 0.03887526216789672, 0.04167941716708423, 0.038843228002453545, 0.023049937000513717, 0.05398323270633254, 0.037146831886059495, 0.01345356923732455, 0.009090267890200732, 0.029537983634928544, 0.030532153140940155, 0.02013359745757604, 3.6479704721648076e-05, 0.017364242633621796, 0.02839521968528413, 0.035679473396090344, 0.032722777527747215, 0.023539878713247253, 0.02975437819391735, 0.010567950854538877, 0.01857656083971904, 0.005588883263007549, 0.047071698696040436, 0.019897686416051164, 0.02795311094384956, 0.03334185301970693, 0.0306013567953205, 0.02546080851840293, 0.02642446861834724, 0.03109098200888472, 0.032430195492594294, 0.02725005931850788, 0.027267300346659917, 0.020667781903134674, 0.02293515648884181, 0.03200285224988564, 0.034708499048110575, 0.029664758613118236, 0.013914049364656568, 0.018408882097279426, 0.029907833266814787, 0.026892830588439283, 0.02137503160533094, 0.04751352514910123, 0.02448467842581037, 0.0014779786281389207, 0.030712620840778637, 0.035543248745526064, 0.034809003859866294, 0.004563621923234562, 0.03507022721440034, 0.03431765430743172, 0.021582009422892456, 0.04024232884490342, 0.023435210530289963, 0.03097553497237415, 0.02176048343387671, 0.03038938469175512, 0.029399108252853082, 0.03253702212100462, 0.03753950981338017, 0.020315387070851232, 0.02681462877268204, 0.03652113659116085, 0.02778297205573943, 0.03958952766978796, 0.02984268472873341, 0.014966737431727497, 0.041853677791706456, 0.029353197481836624, 0.023771997320199526, 0.027183349149057182, 0.024890946210637917, 0.0230673694353114, 0.03822235060013224, 0.02190762688681236, 0.04127256731984152, -0.01559192817279853, 0.0417177094797192, 0.03323982136177084, 0.037811940781715236, 0.05202031301729471, 0.0233965781119454, 0.01827240356908666, 0.02074245584821321, 0.030708073306407124, 0.023217714311993157, 0.02273164601557021, 0.02801195384201249, 0.027551770780469772, 0.04312138766393003, 0.03276995945863459, 0.03270086399315941, 0.02968931009496445, 0.014603494935972794, 0.041886383261909854, 0.026482886961330943, 0.010186978591122609, 0.041102179661220095, 0.03476900889674939, 0.009014081225622084, 0.008746312317279514, 0.04857466320368586, 0.03931107139609513, 0.039978912170738345, 0.03541474682735268, 0.06260958689454132, 0.022116088435311543, 0.040309284686695264, 0.030603781338570224, 0.026775970028773962, 0.02065963225266532, 0.012187741826927391, 0.0302318881017003, 0.029845144773050336, 0.024877056613496595, 0.04694577456603932, 0.0377554869578014, 0.03600734227920088, 0.032563148279258984, 0.032095475040651245, 0.031066668220592012, 0.021433605279356668, 0.03338363139005951, 0.027920471818831727, 0.017160877480657533, 0.0312683446833506, 0.011463676783647792, 0.013010675864029821, 0.023403885629770468, 0.03434897997415387, 0.04274229463397017, 0.03508716094871511, 0.02604700163365781, 0.026818322437548225, 0.012770098596259771, 0.0052194301839958435, 0.014677105632370013, 0.03034268683773212, 0.0283943163933198, 0.028246491547355482, 0.051417128565529165, 0.04211848581655886, 0.03969580563634412, 0.03432630906470857, 0.011403842236364923, 0.03512658494165577, 0.02013052000933824, 0.03232217901720502, 0.02222125007254649, 0.022275886148739987, 0.03794104020377409, 0.01861646027300168, 0.027509462368134896, 0.017193889215720626, 0.031151997722810743, 0.028234678069914088, 0.005795560563696123, 0.02046090509029419, 0.040898343277767424, 0.043305172114902035, 0.037680347733658685, 0.032082695282114486, 0.04033161591082024, 0.0151889869879267, 0.052673579950871297, 0.042301000540836416, 0.029896163236374337, 0.01552441035147245, 0.018982731152385583, 0.02227049425043015, 0.03514222653981758, 0.025941849874082656, 0.04608065117923599, 0.0012146307279616853, 0.03201703838569259, 0.0369049343579797, 0.03998458318862408, 0.03280908770238833, 0.024084417850162243, 0.007534187279492287, 0.004742797429216239, 0.04633577580043613, 0.029604718056484455, 0.02703912201379399, 0.025933688902876062, 0.05545214634422901, 0.0349214189102629, 0.02797568510195836, 0.020957711363938758, 0.029591989429230917, 0.0517313245659794, 0.02580918768257812, 0.031275374502886644, 0.02661764998697258, 0.03724603179431574, 0.027561068216665152, 0.01565586372165595, 0.011445234135367688, 0.0208650842135536, 0.030729215426572812, 0.0294798852289615, 0.010447892946123584, 0.022442873310794642, 0.04499358519697872, 0.027436736682611373, 0.024498053537318487, 0.021987542664502646, 0.03102735021302694, 0.016515781256211115, 0.02864541274678767, 0.024737874772356342, 0.0104632128155433, 0.023110273436459217, 0.01751314031483919, 0.028297036452750838, 0.012671322631449431, 0.023170675811240216, 0.0354854843141017, 0.030809676605358938, 0.040855879861606985, 0.027580847337551173, 0.024216851891660784, 0.023947171464812067, 0.05702025092005258, 0.032806189799282626, 0.01940045564024451, 0.012485606547682826, 0.02065800059647649, 0.028372766781222362, 0.028380090842883288, 0.021325857627093825, 0.02470945760412913, -0.0012474301151508274, 0.02110993829651053, 0.030220526976308063, 0.06838717596005628, 0.020050929195466027, 0.013344025129882198, 0.013146464044355266, 0.04119798260170482, 0.04822939564646389, 0.04575691512682512, 0.018931621646464114, -0.0016796790594048039, 0.03341546781623883, 0.03770576713870977, 0.02854165300968892, 0.03142865128264116, 0.025308864793961442, 0.02482091538050013, 0.03132939037605964, 0.03980810391126388, 0.03657292792354872, 0.022985136672201145, 0.0218723845258475, 0.016934056990518753, 0.03235199160971747, 0.031843520032125205, 0.008153426035232503, 0.019866576370749067, 0.008161418669811571, 0.013560817115843005, 0.01880250305586828, 0.017765077250526232, 0.0072598252228213145, 0.09623104216943457, 0.044460614393879716, 0.02635269932187501, 0.04171916771771733, 0.033614034735345966, 0.031240099555222445, 0.022238824330507168, 0.023065705421349447, 0.024552566677569217, 0.029098219580147026, 0.017381655378696736, 0.017767177621151653, 0.01107017010714828, 0.04349419173207303, 0.007277443219965819, 0.029554825237539276, 0.03776661321375352, 0.03270838964710854, 0.02680257202908609, 0.025304309991541984, 0.02170236437902906, 0.027174717005859383, 0.03304008127291458, 0.031029283738708505, 0.02966810691219535, 0.028126707703607142, 0.03396545550141283, 0.05490680670970649, 0.01931372238340412, 0.020896574168629774, 0.02721545768624956, 0.01617299563780894, 0.025178054655695226, 0.03621430028545092, 0.02993135754672993, 0.03849024909150334, 0.055509774859753946, 0.02767170509573913, 0.03645020739602933, 0.023799735578302398, 0.023774287308499176, 0.03432564014771078, 0.016061014831639353, 0.04050134606828682, 0.008716063215100434, 0.017174498940073057, 0.03644405786189209, 0.03123385049278271, 0.020355762468977637, 0.03456542362823711, 0.011912854669018369, 0.009411488489388995, 0.030709474265759207, 0.02969005157467497, 0.025248521199834784, 0.03126329974527775, 0.0236560894781157, 0.034726124232616014, 0.0207361064799354, 0.013169448692615715, 0.03532999965507022, 0.04978074977332403, 0.02819256996875508, 0.02543705916264649, 0.016980180830788782, 0.035689784269541384, 0.03496439426625875, 0.009898115058465828, 0.07097155850317137, 0.03030720207466575, 0.02698659486467303, 0.023832494405553902, 0.02157143297195363, 0.02843820042955203, 0.03777556815819239, 0.041545153916879414, 0.03864147524427963, 0.020970832411724816, 0.040777092309327134, 0.027256485181444967, 0.030080431946360783, 0.08554864270160167, 0.039174667934331664, 0.02144914349907889, 0.020013218445989574, 0.03836425968804336, 0.06052881506871355, 0.02869250651678712, 0.013109724243459464, 0.0077627029476767815, 0.052421012608449225, 0.01728940881871166, 0.02877498897742692, 0.026973910873143717, 0.02502576245019772, 0.0342817305979084, 0.049169528428001374, 0.04313270177178241, 0.038141769136058816, 0.04159715835361832, 0.02129114381482955, 0.04649060477399658, 0.024267858638646892, 0.026997615264894304, 0.014007515254270464, 0.05493265563522587, 0.023661147232401536, 0.03956322545280755, 0.03211013477332792, 0.03906574617009562, 0.0013323046657620632, 0.030156747834460432, 0.0348011268925692, 0.009665084870098315, 0.03730164762686283, 0.02203335480476776, 0.052311519048645394, 0.030801922754688068, 0.013383368359300095, 0.057655165774290314, 0.027180811864920384, 0.038830194417416315, 0.023588640214682544, 0.039289444120281125, 0.0281233611835332, 0.022676306989028342, 0.013272360195208943, 0.024375027111093628, 0.0569115133488185, 0.0541007942529752, 0.02470644937239208, 0.030194372960040683, 0.027149720662353216, 0.04141780054281696, 0.02867036158520841, 0.023319984194043686, 0.03151901336337315, 0.02524188133295291, 0.02889589036773477, 0.047185698102127686, 0.026922253734860343, 0.04356630740901868, 0.05336939302164345, 0.045796399124139686, 0.0406790346496988, 0.031307871962051204, 0.039908670445303114, 0.03498743289279016, 0.035327352465076345, 0.02972248709687042, 0.002971855390667022, 0.05394440428043778, 0.038023798034706235, 0.026550720725708517, 0.03711613569301475, 0.016603584904869573, 0.024315716853789082, 0.03001516005760285, 0.010921919145988168, 0.031275952601593104, 0.05053063977220496, -0.00010115437158730868, 0.028045536231229073, 0.03175059325642193, 0.02925637466293018, 0.0208026771286014, 0.030289308850549368, 0.022658651136995944, 0.04936030618337872, 0.0282736349017112, 0.01895953035381659, 0.029128022162401512, 0.043620000939414094, -0.019406002954446718, 0.04027289381398469, 0.03849808019786827, 0.05018724868470215, 0.02920452438700716, 0.03441146509087867, 0.0309667322667031, 0.027658905343429296, 0.03739661880210887, 0.00993729356103601, 0.03894874655700442, 0.01995744028357138, 0.04465524614190164, 0.02931178333336426, 0.017636824986653418, 0.03518866157497835, 0.059893480573304014, 0.010567257360529105, 0.024554328547105486, 0.009625573015175526, 0.05409713116876147, 0.05075655877370755, 0.05097038792576058, 0.04751084324723598, 0.03584081066939171, 0.020623099097767602, 0.020575766431403686, 0.024913552220455548, 0.03317925900206009, 0.004071102435522889, -0.001861907345265923, 0.01346564094480418, 0.02433995787414434, 0.0253183647980757, 0.04770466717977717, 0.024882108690890137, 0.01673907382712292, 0.025083075035207347, 0.027478309483376817, 0.03623225338535319, 0.03907158747431483, 0.032326604999061585, 0.01403692920598587, 0.03172843444720685, 0.02758668447713597, 0.003580587976085514, 0.02700897684547932, 0.006730253280913923, 0.013002901957785308, 0.026219814783057904, 0.03189972189093515, 0.042449003983854094, 0.030039281152327787, 0.02803570064502381, 0.03570871571198908, 0.03309597386839136, 0.03556836603548619, 0.011037587899183965, 0.02598683479056629, 0.05265745172130365, 0.03711967954003082, 0.007001247403886302, 0.03037211808849638, 0.0274586407523707, 0.035491436166751315, 0.02662837992082201, 0.024648764235265075, 0.028268790605792567, 0.014974572129398568, 0.0021901452282031553, 0.0378586641224925, 0.02846946601554245, 0.033613383644755634, 0.023328789280769868, 0.04680434261600186, 0.033230486120108704, 0.04816830815610218, 0.037760108085043376, 0.043043908273477934, 0.04317481511659915, 0.0323584655733391, 0.02318382974277577, 0.03974893570827853, 0.040888079506509634, 0.025586319639460564, 0.017631315217222717, 0.013017887285435405, -0.02014417856250994, 0.0253022716472393, 0.02629167806032595, 0.041185200457942495, 0.02290245797652024, 0.037751022958429685, 0.034363503035623744, 0.008819355573842502, 0.028137150818547285, 0.032162624331514955, 0.02323527150221416, 0.027900782222281432, 0.020846936343246192, 0.07688808798058888, 0.007328691871626214, 0.03008816126055436, 0.03646070482830077, 0.034830314212972224, 0.02402323021258645, 0.029393388791279836, 0.01983479976015201, 0.020793872869497854, 0.022082287270146942, 0.032775379002980554, 0.027938698301368525, 0.040167143986892695, 0.04778075822773653, 0.024306271381275838, 0.01419172360940646, 0.042058136116926326, 0.039115833509297586, 0.022251285202749882, 0.029436697639185324, 0.03424245329363318, 0.04301062939622313, 0.03653758281401975, 0.03824336198413336, 0.03698333404118026, 0.012997959519506884, 0.06852274849586792, 0.037100736240933685, 0.025748298540495318, 0.02301008691359674, 0.051284955681856204, 0.0307342237610011, 0.024339590818999838, 0.039119032302116, 0.02680232166126295, 0.03242294740622476, 0.02435637386095979, 0.0470594815498111, 0.022430434974424877, 0.03161477840864313, 0.021467118980567083, 0.021627956117270752, 0.016926884483571714, 0.027243303448567516, 0.05307963051148623, 0.02709623888471846, 0.037552214344817036, 0.032598958096469184, 0.013419496858533496, 0.032837766582291435, 0.051129218366233735, 0.02603739601230393, 0.02952864612125472, 0.04048203775589898, 0.021471420323520674, 0.019715122894540468, 0.017367292393373424, 0.009837068667564177, 0.04203384817028377, 0.022788181459443058, 0.0292302252196599, 0.024898813708946088, 0.033045481409805344, 0.05042723176495945, 0.027357440932478827, 0.025807679424185714, 0.02495646454434564, 0.027497343679025343, 0.03620013611685224, 0.02038978500610411, 0.03949728707812095, 0.033822836058384764, 0.028243477621294533, 0.010492620871142222, 0.019959326918208564, 0.020667445182354527, 0.028823586065349405, 0.0423342616104061, 0.022052175796405612, 0.01251149785786132, 0.019327710599867043, 0.05528439299678234, 0.0293987035227834, 0.00503805209268382, 0.02799228502994988, 0.01603978189893951, 0.04064903084442495, 0.0435147224097272, 0.02481460405049396, 0.023905477463305846, 0.037503500783440565, 0.02637807780317658, 0.006267170389333332, 0.03268016647814975, 0.026069414692027504, 0.02446896845178204, 0.038870186078769235, 0.032022207178147744, 0.03385262490351182, 0.042336091090990464, 0.04298360068048801, 0.02164488358651173, 0.0352325811470533, 0.038726151451964334, 0.012616511579946588, 0.03098856574377828, 0.04743667827431497, 0.030988330069279257, 0.02891132324458323, 0.02677453574286792, 0.01656624124724404, 0.03532055924983779, 0.047576157312178236, 0.019008057738644668, 0.05424021251437838, 0.031470476147655864, 0.03437771383865273, 0.04905107988576307, 0.04271579616039856, 0.026936725264171013, 0.02625778230108189, 0.02040785894037378, 0.04848388572122042, 0.0175210635681724, 0.01908153345976027, 0.034858393301688606, 0.03325492789765128, 0.028550573963247006, 0.023823275300794974, 0.041182687140858265, 0.028284161160108786, 0.034101645166598304, 0.028974061152585277, 0.012551206956571416, 0.032167535531771874, 0.030378336638329895, 0.01685518712344547, 0.00941171960650733, 0.024993722987923798, 0.04908930397434808, 0.022964654902238868, 0.03536235130271925, 0.028406371335970793, 0.02939434991904322, 0.015413882682007829, 0.04040101360839987, 0.04346638614928233, 0.01579466295750454, 0.03480207339548147, 0.028366699060111914, 0.02012388124493936, 0.026072835372153547, 0.026816055947364026, 0.016822972409614056, 0.024123675622434115, 0.03913889067160548, 0.02370939196739408, 0.02430546164708325, 0.011488784129630059, 0.013512534950710142, 0.029597814667986944, 0.033258954806905994, 0.019845216891579698, 0.02601149350634313, 0.016518351058307568, 0.03316181317505884, 0.04358895020859577, 0.01797666269635778, 0.02223365746887218, 0.042243826047524635, 0.037211445773913436, 0.03665757002089598, 0.037875914181657366, 0.022566995829063075, 0.03049687887719577, 0.039318951251521066, 0.024201733982788687, 0.016699752133796153, 0.024268945643894257, 0.03168090835262394, 0.038254165488427416, 0.010498092577555074, 0.036938982616271376, 0.024171432275214236, 0.02539480832120411, 0.0647028584864362, 0.041024675119522236, 0.042565685172984084, 0.01935940461792507, 0.012838968038568543, 0.02914765653115503, 0.03996235841730189, 0.05213827672865223, 0.023343702865875168, 0.024701467478154715, 0.03463084059459565, 0.042418859577920236, 0.028742484674655344, 0.039767295658842634, 0.028051012274957543, 0.02563682841937309, 0.01945301065817007, 0.015176491927568538, 0.01965981203981904, 0.04641151382758979, 0.013878251444104928, 0.02530030289430818, 0.02280523825494796, 0.0517720771989032, 0.02526460128725838, 0.010327778418594448, 0.02537182341446309, 0.02759508180052439, 0.027977029283174915, 0.03903718401498768, 0.03538917274244602, 0.020385187479240674, 0.02389993014796365, 0.031193168762022605, 0.03404162085499718, 0.016996538536935724, 0.04062118514644242, 0.023638830127663324, 0.0593015408168478, 0.015519608203013346, 0.027432331952382597, 0.0202252898662878, 0.0399436355520113, 0.007946189535960047, 0.03480065536962251, 0.0251234810661094, 0.048234320780557116, 0.03230928214359907, 0.023354322635065428, 0.03835523601653579, 0.03141403073160886, 0.048100849272266766, 0.03594747143219457, 0.04003115437527471, 0.03510887749482361, 0.023044258996557158, 0.021635711734903532, 0.007909395410375497, 0.018703489631602288, 0.03654401136628516, 0.02295563751020824, 0.01744058278079108, 0.03457260034431564, 0.02022776955568961, 0.048802643062602964, 0.01654256572630941, 0.040019438414222286, 0.04017375128175527, 0.03144780327471386, 0.020778870146495487, 0.0377072078861147, 0.014704364715635744, 0.02218054711865469, 0.03340070504432213, 0.02700733038262415, 0.017255530460274837, 0.040383956079768746, 0.020693561699461016, 0.020444574306653918, 0.030759779714000457, 0.024642054835912308, 0.028168425152308663, 0.0351527959697282, 0.011817005863034023, 0.019825647068223876, 0.014050446719983123, 0.033427927903458166, 0.02209388700485837, 0.03737198189693358, 0.02145510226383873, 0.024209988127775084, 0.017178376221844042, 0.022346677295284282, 0.0567840395462933, 0.02828864492562455, 0.029148616149843543, 0.021317373128936667, 0.03386078986642649, 0.033236089545287666, 0.01094838230995143, 0.04105804915954448, 0.010737765938414023, 0.02567069546450806, 0.02558073090991675, 0.02596732169282534, 0.014277074510067544, 0.02490104230043011, 0.02754093895063403, 0.05327189288959522, 0.015704513077390514, 0.036510177392128806, 0.022536189903418883, 0.020576191525291557, 0.015369170696779788, 0.038854389759102485, 0.030791800308550325, 0.02776661438087213, 0.017384774240307266, 0.01720851971037618, 0.048774862488402786, 0.03563664079617124, 0.0193330159951155, 0.04444452217620354, 0.019450389010300384, 0.053666564770966214, 0.03130665001760713, 0.0213475267538612, 0.0260127263166734, 0.031754099116897194, 0.021799804318322517, 0.02809101876266662, 0.018414398722409464, 0.0176087972921406, 0.021107520715111683, 0.01895726957620214, 0.035789780667257354, 0.04630850379869567, 0.028341574030699587, 0.03367083676012439, 0.020828997074814115, 0.11239013464270586, 0.0043786074735461256, 0.026390763004876527, 0.03372716111219498, 0.032092512844992704, 0.028000891962940862, 0.024918716764085413, 0.020736459973331955, 0.004609532614685552, 0.015084504340137306, 0.03815596435141422, 0.02491439170684928, 0.021086987233566837, 0.0187085302780714, 0.019492219200075045, 0.04760296646882711, 0.026685050982296232, 0.02281599118075639, 0.02291997795583001, 0.02147239046754224, 0.04283658061551021, 0.03513520876839382, 0.02799577495352934, 0.04529633868178329, 0.02842195478097587, 0.026121857093438058, 0.037837628832330106, 0.02919529937152165, 0.049085108434361764, 0.02499002168940456, 0.0023182914317616547, 0.031156492514115893, 0.04372626618584752, 0.03931170324155797, 0.028866226449691057, 0.028621080396913582, 0.012025634837045551, -0.00018547468568963502, 0.05002856120464072, 0.040068997800556616, 0.04253643397256402, 0.03995248870238277, 0.023556194155990084, 0.05538441153887508, 0.038036800258028025, 0.013757368387126157, 0.009253512898857341, 0.030466698804769488, 0.031166938537550593, 0.020474570559392724, 0.00045198430792425803, 0.017601307499894414, 0.02908441834108855, 0.03677259602851657, 0.03377891272468814, 0.02434963858919148, 0.030866618816852487, 0.010997146248738154, 0.01913917790718056, 0.005930528043297079, 0.048418988664689085, 0.020929104254090447, 0.028969645207470363, 0.03443976796682091, 0.031616774751457744, 0.02601643300266621, 0.027141833919704483, 0.03242153700532402, 0.033272277846694065, 0.02809600085289721, 0.02799928204616986, 0.0211086468846593, 0.023705471239354958, 0.0327711569114395, 0.03559073788805378, 0.030523325773160526, 0.01418917560579547, 0.018749993261218508, 0.031201898027781724, 0.02755714919413066, 0.02195145908082208, 0.048671375299436326, 0.025189844670795214, 0.001029158251101503, 0.03174614262035713, 0.03644006921902498, 0.0355768372486176, 0.004407371502378021, 0.035902347065700946, 0.0351680018694025, 0.02230192836716061, 0.04130638897254646, 0.023989029115936592, 0.031787779783374326, 0.02247064099130736, 0.0311801459601575, 0.030139122564375675, 0.033479450881494184, 0.038179265486532284, 0.020829976676786544, 0.02754188014885961, 0.03761910534434998, 0.02852016429243465, 0.04078585115789668, 0.030906288614203525, 0.01546084143148341, 0.042891211234826976, 0.030214054647173638, 0.0242977653587928, 0.028051640579991318, 0.02573680199142969, 0.023901193683804944, 0.03894778339169491, 0.02259197388545675, 0.04254287313444771, -0.015886226958051086, 0.04278445564400801, 0.03415420347535303, 0.03828047823947567, 0.05376518747293657, 0.02397018890499636, 0.018889675903157373, 0.021315628163249608, 0.031704428896440984, 0.023832836636312527, 0.0233219449389217, 0.028782345746219736, 0.02833235461072592, 0.04425430779356776, 0.0338806701885106, 0.03362752990538742, 0.0307549489147696, 0.014992133571640087, 0.04258389189967726, 0.027120384587835836, 0.01060289407966408, 0.042576334071939385, 0.03572106511673678, 0.009327437515669336, 0.008959173857741032, 0.04980217491799355, 0.04057431775092368, 0.041017334319026766, 0.036261657792826966, 0.06448544917038634, 0.0227843877493481, 0.04184679143013415, 0.031192958719738376, 0.02748475139885209, 0.021145788171422764, 0.012387327480294584, 0.03141133399177254, 0.030693686412601506, 0.025739618299795763, 0.048159053545478336, 0.038719728738588984, 0.03703452923320416, 0.03362017188938626, 0.033215670833032895, 0.032172120349786885, 0.02211695386747969, 0.03414294612677948, 0.028908685614663417, 0.017487364076576917, 0.03190267187904583, 0.011803709526931216, 0.013421971340004557, 0.02387520240295493, 0.035550780215639184, 0.04408289363782969, 0.03638414993169703, 0.026816002909818337, 0.027762305342610597, 0.01307947239861984, 0.005366258738991103, 0.01517073414243053, 0.0314951754725068, 0.029320337086138792, 0.02900698190692985, 0.052812092486418605, 0.04321345979698088, 0.0411053368547023, 0.0353220924413733, 0.01183323815812476, 0.036057824384902785, 0.020814146422848182, 0.03400397327746196, 0.02264519398513065, 0.02296881270775164, 0.03906411800024001, 0.01912445030382393, 0.028497994078336975, 0.017783942589808754, 0.031950870541178844, 0.02886868798345144, 0.005805113633891912, 0.0211893951457105, 0.04227161799865198, 0.043748417519611886, 0.038921433695557006, 0.03283083607458948, 0.04145625606252179, 0.015483892765653097, 0.053884927644542564, 0.043961398477754036, 0.030944526370445532, 0.01594349400913031, 0.019284972021933026, 0.02274785723003281, 0.03607626102252448, 0.026414434097658868, 0.047285182196523216, 0.0012817866211203288, 0.03294249221209156, 0.03821565007045913, 0.04076189476568404, 0.03379664430201368, 0.02480606912735639, 0.0080005152363678, 0.004641170699488439, 0.04763509248027309, 0.03039302891422224, 0.027571097338540795, 0.026910340073738936, 0.057472641491299374, 0.035647683963121235, 0.02865907080341468, 0.02112015606307649, 0.030700179047361113, 0.052940309381675384, 0.02636297450172997, 0.03245846319431056, 0.027580315277180526, 0.03827487151456732, 0.02826683735176538, 0.01603001472930221, 0.011729000537402223, 0.02131227509445344, 0.031499165109038614, 0.030024373811109676, 0.01057277297605652, 0.023022111265617262, 0.046174342589693884, 0.028209500701782412, 0.025085448703612512, 0.022701527817009737, 0.03162690233841592, 0.016790272165331688, 0.029425876076982105, 0.02577768496087507, 0.010937835916991823, 0.023779773967121498, 0.017432308542858044, 0.029222594442523286, 0.012938211526696495, 0.02402718133974591, 0.03666475226946786, 0.031794687230323186, 0.0422257866501381, 0.028324543898885283, 0.024916952673602832, 0.024741484208553155, 0.05870547160716065, 0.03384474160082651, 0.019761462811981326, 0.012984055021070915, 0.02119408596577399, 0.02918632505465668, 0.029314339795352362, 0.02188147130711116, 0.025359646833826188, -0.0014129330917684868, 0.0218464041241182, 0.030861936005953664, 0.07041618110197634, 0.020744924710361268, 0.0138425910988893, 0.013734720339667827, 0.04251750334438542, 0.05022849340901403, 0.046957937279744184, 0.019469795637230947, -0.0015144208483558466, 0.03383544117784965, 0.03913511712152706, 0.02911472040453633, 0.03219167102523568, 0.02584055964703702, 0.025445825268303638, 0.032200960583669065, 0.040871753175026, 0.037869629711168695, 0.02378731017638613, 0.022329023660467184, 0.017590667684186382, 0.033189542985830885, 0.03303476783156989, 0.008346927963109652, 0.0203407704447931, 0.008032291038841509, 0.013767081006888615, 0.019421454888247425, 0.018228249349151016, 0.007283682297004602, 0.09899605310184477, 0.04566222608175408, 0.026864472240408777, 0.04286733442330326, 0.03447415558182798, 0.0320563218397949, 0.02275152668631941, 0.02405080260500592, 0.025315350687413533, 0.02982476307957893, 0.017968870362941036, 0.01825875404598909, 0.011405037488861458, 0.04499484389009134, 0.007569861031215819, 0.03053395140405324, 0.03872801546311777, 0.03355420316088131, 0.02750550812057151, 0.026052544576834702, 0.022562647909229797, 0.02793270818981597, 0.033834140472790875, 0.03200626939450446, 0.030344956447335925, 0.028866724051373364, 0.034731636966092834, 0.0567116012799227, 0.01984923881268763, 0.021352875814398157, 0.027942242180437612, 0.017063986847910106, 0.025824427409014028, 0.036501718183783886, 0.030745368353562338, 0.040222690058801636, 0.05688575215012825, 0.028669795071216694, 0.037787477532415625, 0.02481919067482496, 0.02418094122346748, 0.03547830162434673, 0.016558214714553543, 0.04234906725671062, 0.00891089265845868, 0.017870236313141108, 0.03728029710116476, 0.031913897117350265, 0.020931504211071598, 0.03531294625819337, 0.01222080353726196, 0.009587482289872716, 0.031417842446674005, 0.030557519389938118, 0.02579589948390182, 0.03220136234705584, 0.0242663595334609, 0.03578757525977827, 0.021475460746557703, 0.013240856599821882, 0.036450285924054304, 0.051579943111433435, 0.029004844747692937, 0.026258589813395797, 0.017029167126638045, 0.036855895140656125, 0.03679948855436388, 0.010312685984965377, 0.07312071607488324, 0.030862266352919217, 0.02770409281827257, 0.024637081366502445, 0.021844606289015637, 0.029269447681892883, 0.03861479951410396, 0.043109352139683255, 0.04008218241148587, 0.021870344885015932, 0.04178783684828602, 0.02785923113757072, 0.031303127664170205, 0.088096311554972, 0.04005231359817185, 0.021984299103526173, 0.02053726142713597, 0.03944853900026035, 0.06302857500916836, 0.029441526219322837, 0.01373469136579586, 0.008205475515498772, 0.0542144415110557, 0.017644114933171858, 0.02938840087490502, 0.02762667790137296, 0.02550809661384812, 0.03586119167176505, 0.050528772053068494, 0.044403538823609034, 0.039294184620001234, 0.043019714821262316, 0.021800404086600444, 0.0476571808449453, 0.024990147532652163, 0.027829369233244527, 0.014336660449319359, 0.05667704693947151, 0.024323025412696486, 0.04062569385918602, 0.033210655854063915, 0.04001485504580371, 0.0012848295323928394, 0.031027345231797957, 0.035805374036214976, 0.009725497497286906, 0.038520759297685066, 0.02263550140019066, 0.054005624409377166, 0.03170065412031664, 0.013968710479562496, 0.0590601451667423, 0.027875349802400477, 0.03998893421959116, 0.02414509810045096, 0.040329467579269584, 0.028689522564967037], \"y0\": \" \", \"yaxis\": \"y\"}],                        {\"boxmode\": \"group\", \"height\": 500, \"legend\": {\"tracegroupgap\": 0}, \"template\": {\"data\": {\"bar\": [{\"error_x\": {\"color\": \"#2a3f5f\"}, \"error_y\": {\"color\": \"#2a3f5f\"}, \"marker\": {\"line\": {\"color\": \"#E5ECF6\", \"width\": 0.5}}, \"type\": \"bar\"}], \"barpolar\": [{\"marker\": {\"line\": {\"color\": \"#E5ECF6\", \"width\": 0.5}}, \"type\": \"barpolar\"}], \"carpet\": [{\"aaxis\": {\"endlinecolor\": \"#2a3f5f\", \"gridcolor\": \"white\", \"linecolor\": \"white\", \"minorgridcolor\": \"white\", \"startlinecolor\": \"#2a3f5f\"}, \"baxis\": {\"endlinecolor\": \"#2a3f5f\", \"gridcolor\": \"white\", \"linecolor\": \"white\", \"minorgridcolor\": \"white\", \"startlinecolor\": \"#2a3f5f\"}, \"type\": \"carpet\"}], \"choropleth\": [{\"colorbar\": {\"outlinewidth\": 0, \"ticks\": \"\"}, \"type\": \"choropleth\"}], \"contour\": [{\"colorbar\": {\"outlinewidth\": 0, \"ticks\": \"\"}, \"colorscale\": [[0.0, \"#0d0887\"], [0.1111111111111111, \"#46039f\"], [0.2222222222222222, \"#7201a8\"], [0.3333333333333333, \"#9c179e\"], [0.4444444444444444, \"#bd3786\"], [0.5555555555555556, \"#d8576b\"], [0.6666666666666666, \"#ed7953\"], [0.7777777777777778, \"#fb9f3a\"], [0.8888888888888888, \"#fdca26\"], [1.0, \"#f0f921\"]], \"type\": \"contour\"}], \"contourcarpet\": [{\"colorbar\": {\"outlinewidth\": 0, \"ticks\": \"\"}, \"type\": \"contourcarpet\"}], \"heatmap\": [{\"colorbar\": {\"outlinewidth\": 0, \"ticks\": \"\"}, \"colorscale\": [[0.0, \"#0d0887\"], [0.1111111111111111, \"#46039f\"], [0.2222222222222222, \"#7201a8\"], [0.3333333333333333, \"#9c179e\"], [0.4444444444444444, \"#bd3786\"], [0.5555555555555556, \"#d8576b\"], [0.6666666666666666, \"#ed7953\"], [0.7777777777777778, \"#fb9f3a\"], [0.8888888888888888, \"#fdca26\"], [1.0, \"#f0f921\"]], \"type\": \"heatmap\"}], \"heatmapgl\": [{\"colorbar\": {\"outlinewidth\": 0, \"ticks\": \"\"}, \"colorscale\": [[0.0, \"#0d0887\"], [0.1111111111111111, \"#46039f\"], [0.2222222222222222, \"#7201a8\"], [0.3333333333333333, \"#9c179e\"], [0.4444444444444444, \"#bd3786\"], [0.5555555555555556, \"#d8576b\"], [0.6666666666666666, \"#ed7953\"], [0.7777777777777778, \"#fb9f3a\"], [0.8888888888888888, \"#fdca26\"], [1.0, \"#f0f921\"]], \"type\": \"heatmapgl\"}], \"histogram\": [{\"marker\": {\"colorbar\": {\"outlinewidth\": 0, \"ticks\": \"\"}}, \"type\": \"histogram\"}], \"histogram2d\": [{\"colorbar\": {\"outlinewidth\": 0, \"ticks\": \"\"}, \"colorscale\": [[0.0, \"#0d0887\"], [0.1111111111111111, \"#46039f\"], [0.2222222222222222, \"#7201a8\"], [0.3333333333333333, \"#9c179e\"], [0.4444444444444444, \"#bd3786\"], [0.5555555555555556, \"#d8576b\"], [0.6666666666666666, \"#ed7953\"], [0.7777777777777778, \"#fb9f3a\"], [0.8888888888888888, \"#fdca26\"], [1.0, \"#f0f921\"]], \"type\": \"histogram2d\"}], \"histogram2dcontour\": [{\"colorbar\": {\"outlinewidth\": 0, \"ticks\": \"\"}, \"colorscale\": [[0.0, \"#0d0887\"], [0.1111111111111111, \"#46039f\"], [0.2222222222222222, \"#7201a8\"], [0.3333333333333333, \"#9c179e\"], [0.4444444444444444, \"#bd3786\"], [0.5555555555555556, \"#d8576b\"], [0.6666666666666666, \"#ed7953\"], [0.7777777777777778, \"#fb9f3a\"], [0.8888888888888888, \"#fdca26\"], [1.0, \"#f0f921\"]], \"type\": \"histogram2dcontour\"}], \"mesh3d\": [{\"colorbar\": {\"outlinewidth\": 0, \"ticks\": \"\"}, \"type\": \"mesh3d\"}], \"parcoords\": [{\"line\": {\"colorbar\": {\"outlinewidth\": 0, \"ticks\": \"\"}}, \"type\": \"parcoords\"}], \"pie\": [{\"automargin\": true, \"type\": \"pie\"}], \"scatter\": [{\"marker\": {\"colorbar\": {\"outlinewidth\": 0, \"ticks\": \"\"}}, \"type\": \"scatter\"}], \"scatter3d\": [{\"line\": {\"colorbar\": {\"outlinewidth\": 0, \"ticks\": \"\"}}, \"marker\": {\"colorbar\": {\"outlinewidth\": 0, \"ticks\": \"\"}}, \"type\": \"scatter3d\"}], \"scattercarpet\": [{\"marker\": {\"colorbar\": {\"outlinewidth\": 0, \"ticks\": \"\"}}, \"type\": \"scattercarpet\"}], \"scattergeo\": [{\"marker\": {\"colorbar\": {\"outlinewidth\": 0, \"ticks\": \"\"}}, \"type\": \"scattergeo\"}], \"scattergl\": [{\"marker\": {\"colorbar\": {\"outlinewidth\": 0, \"ticks\": \"\"}}, \"type\": \"scattergl\"}], \"scattermapbox\": [{\"marker\": {\"colorbar\": {\"outlinewidth\": 0, \"ticks\": \"\"}}, \"type\": \"scattermapbox\"}], \"scatterpolar\": [{\"marker\": {\"colorbar\": {\"outlinewidth\": 0, \"ticks\": \"\"}}, \"type\": \"scatterpolar\"}], \"scatterpolargl\": [{\"marker\": {\"colorbar\": {\"outlinewidth\": 0, \"ticks\": \"\"}}, \"type\": \"scatterpolargl\"}], \"scatterternary\": [{\"marker\": {\"colorbar\": {\"outlinewidth\": 0, \"ticks\": \"\"}}, \"type\": \"scatterternary\"}], \"surface\": [{\"colorbar\": {\"outlinewidth\": 0, \"ticks\": \"\"}, \"colorscale\": [[0.0, \"#0d0887\"], [0.1111111111111111, \"#46039f\"], [0.2222222222222222, \"#7201a8\"], [0.3333333333333333, \"#9c179e\"], [0.4444444444444444, \"#bd3786\"], [0.5555555555555556, \"#d8576b\"], [0.6666666666666666, \"#ed7953\"], [0.7777777777777778, \"#fb9f3a\"], [0.8888888888888888, \"#fdca26\"], [1.0, \"#f0f921\"]], \"type\": \"surface\"}], \"table\": [{\"cells\": {\"fill\": {\"color\": \"#EBF0F8\"}, \"line\": {\"color\": \"white\"}}, \"header\": {\"fill\": {\"color\": \"#C8D4E3\"}, \"line\": {\"color\": \"white\"}}, \"type\": \"table\"}]}, \"layout\": {\"annotationdefaults\": {\"arrowcolor\": \"#2a3f5f\", \"arrowhead\": 0, \"arrowwidth\": 1}, \"coloraxis\": {\"colorbar\": {\"outlinewidth\": 0, \"ticks\": \"\"}}, \"colorscale\": {\"diverging\": [[0, \"#8e0152\"], [0.1, \"#c51b7d\"], [0.2, \"#de77ae\"], [0.3, \"#f1b6da\"], [0.4, \"#fde0ef\"], [0.5, \"#f7f7f7\"], [0.6, \"#e6f5d0\"], [0.7, \"#b8e186\"], [0.8, \"#7fbc41\"], [0.9, \"#4d9221\"], [1, \"#276419\"]], \"sequential\": [[0.0, \"#0d0887\"], [0.1111111111111111, \"#46039f\"], [0.2222222222222222, \"#7201a8\"], [0.3333333333333333, \"#9c179e\"], [0.4444444444444444, \"#bd3786\"], [0.5555555555555556, \"#d8576b\"], [0.6666666666666666, \"#ed7953\"], [0.7777777777777778, \"#fb9f3a\"], [0.8888888888888888, \"#fdca26\"], [1.0, \"#f0f921\"]], \"sequentialminus\": [[0.0, \"#0d0887\"], [0.1111111111111111, \"#46039f\"], [0.2222222222222222, \"#7201a8\"], [0.3333333333333333, \"#9c179e\"], [0.4444444444444444, \"#bd3786\"], [0.5555555555555556, \"#d8576b\"], [0.6666666666666666, \"#ed7953\"], [0.7777777777777778, \"#fb9f3a\"], [0.8888888888888888, \"#fdca26\"], [1.0, \"#f0f921\"]]}, \"colorway\": [\"#636efa\", \"#EF553B\", \"#00cc96\", \"#ab63fa\", \"#FFA15A\", \"#19d3f3\", \"#FF6692\", \"#B6E880\", \"#FF97FF\", \"#FECB52\"], \"font\": {\"color\": \"#2a3f5f\"}, \"geo\": {\"bgcolor\": \"white\", \"lakecolor\": \"white\", \"landcolor\": \"#E5ECF6\", \"showlakes\": true, \"showland\": true, \"subunitcolor\": \"white\"}, \"hoverlabel\": {\"align\": \"left\"}, \"hovermode\": \"closest\", \"mapbox\": {\"style\": \"light\"}, \"paper_bgcolor\": \"white\", \"plot_bgcolor\": \"#E5ECF6\", \"polar\": {\"angularaxis\": {\"gridcolor\": \"white\", \"linecolor\": \"white\", \"ticks\": \"\"}, \"bgcolor\": \"#E5ECF6\", \"radialaxis\": {\"gridcolor\": \"white\", \"linecolor\": \"white\", \"ticks\": \"\"}}, \"scene\": {\"xaxis\": {\"backgroundcolor\": \"#E5ECF6\", \"gridcolor\": \"white\", \"gridwidth\": 2, \"linecolor\": \"white\", \"showbackground\": true, \"ticks\": \"\", \"zerolinecolor\": \"white\"}, \"yaxis\": {\"backgroundcolor\": \"#E5ECF6\", \"gridcolor\": \"white\", \"gridwidth\": 2, \"linecolor\": \"white\", \"showbackground\": true, \"ticks\": \"\", \"zerolinecolor\": \"white\"}, \"zaxis\": {\"backgroundcolor\": \"#E5ECF6\", \"gridcolor\": \"white\", \"gridwidth\": 2, \"linecolor\": \"white\", \"showbackground\": true, \"ticks\": \"\", \"zerolinecolor\": \"white\"}}, \"shapedefaults\": {\"line\": {\"color\": \"#2a3f5f\"}}, \"ternary\": {\"aaxis\": {\"gridcolor\": \"white\", \"linecolor\": \"white\", \"ticks\": \"\"}, \"baxis\": {\"gridcolor\": \"white\", \"linecolor\": \"white\", \"ticks\": \"\"}, \"bgcolor\": \"#E5ECF6\", \"caxis\": {\"gridcolor\": \"white\", \"linecolor\": \"white\", \"ticks\": \"\"}}, \"title\": {\"x\": 0.05}, \"xaxis\": {\"automargin\": true, \"gridcolor\": \"white\", \"linecolor\": \"white\", \"ticks\": \"\", \"title\": {\"standoff\": 15}, \"zerolinecolor\": \"white\", \"zerolinewidth\": 2}, \"yaxis\": {\"automargin\": true, \"gridcolor\": \"white\", \"linecolor\": \"white\", \"ticks\": \"\", \"title\": {\"standoff\": 15}, \"zerolinecolor\": \"white\", \"zerolinewidth\": 2}}}, \"title\": {\"text\": \"<b>Monte Carlo Forecast on Sale Prices</b>\"}, \"width\": 600, \"xaxis\": {\"anchor\": \"y\", \"domain\": [0.0, 1.0], \"title\": {\"text\": \"\"}}, \"yaxis\": {\"anchor\": \"x\", \"domain\": [0.0, 1.0], \"dtick\": 0.01, \"range\": [-0.03, 0.12], \"tickformat\": \",.0%\", \"title\": {\"text\": \"\"}}},                        {\"responsive\": true}                    ).then(function(){\n",
       "                            \n",
       "var gd = document.getElementById('b32040d9-69c5-414b-b22f-43e3721c8e61');\n",
       "var x = new MutationObserver(function (mutations, observer) {{\n",
       "        var display = window.getComputedStyle(gd).display;\n",
       "        if (!display || display === 'none') {{\n",
       "            console.log([gd, 'removed!']);\n",
       "            Plotly.purge(gd);\n",
       "            observer.disconnect();\n",
       "        }}\n",
       "}});\n",
       "\n",
       "// Listen for the removal of the full notebook cells\n",
       "var notebookContainer = gd.closest('#notebook-container');\n",
       "if (notebookContainer) {{\n",
       "    x.observe(notebookContainer, {childList: true});\n",
       "}}\n",
       "\n",
       "// Listen for the clearing of the current output cell\n",
       "var outputEl = gd.closest('.output');\n",
       "if (outputEl) {{\n",
       "    x.observe(outputEl, {childList: true});\n",
       "}}\n",
       "\n",
       "                        })                };                });            </script>        </div>"
      ]
     },
     "metadata": {},
     "output_type": "display_data"
    }
   ],
   "source": [
    "# Plot for monte carlo 1,3,5 year returns (used in presentation)\n",
    "\n",
    "def mc_boxplot_func():\n",
    "    \n",
    "    mc_df = pd.DataFrame(data=mc_data)\n",
    "    \n",
    "    mc_boxplot = px.box(mc_df, title=\"<b>Monte Carlo Forecast on Sale Prices</b>\",\n",
    "                        y=[\"1 Year Avg Return\",\"3 Year Avg Return\", \"5 Year Avg Return\"],\n",
    "                        width=600,\n",
    "                        height=500\n",
    "                       )\n",
    "\n",
    "    mc_boxplot.update_layout(\n",
    "        yaxis= dict(\n",
    "        tickformat=',.0%',\n",
    "        range= [-0.03,.12],\n",
    "        title='',\n",
    "        dtick=.01\n",
    "        ),\n",
    "        xaxis= dict(\n",
    "        title='',\n",
    "        )\n",
    "    )  \n",
    "    \n",
    "    return mc_boxplot\n",
    "\n",
    "mc_boxplot_func() #this line is just for show in this notebook but the above function should be used for the dashboard"
   ]
  },
  {
   "cell_type": "markdown",
   "metadata": {},
   "source": [
    "### Other plots that may or may not be used in final dashboard"
   ]
  },
  {
   "cell_type": "code",
   "execution_count": 46,
   "metadata": {},
   "outputs": [
    {
     "data": {
      "application/vnd.plotly.v1+json": {
       "config": {
        "plotlyServerURL": "https://plot.ly"
       },
       "data": [
        {
         "dimensions": [
          {
           "label": "Murder Rate",
           "values": [
            17.51753127,
            4.116544521000002,
            55.37205514,
            13.31738763,
            43.81893126,
            7.116313366,
            17.85930693,
            59.28822593,
            41.68286961,
            24.09896642,
            17.13607549,
            24.15056629,
            10.44565303,
            20.51871307,
            8.129904349,
            7.180665545,
            23.02623935,
            11.1846763,
            20.22766887,
            6.4225812489999985,
            9.082919982,
            17.12449968,
            11.57589107,
            10.941767,
            22.11218247,
            6.94905658,
            18.57464073,
            13.6979478,
            7.766500884,
            6.1358074139999985,
            16.07137,
            10.61355174,
            11.3669618,
            7.682398909,
            8.780581437999999,
            15.88556196,
            7.487947285,
            5.712069603,
            2.641975855,
            9.33084145,
            5.85264549,
            2.908504273,
            6.9262025939999985,
            9.092498689,
            5.525960965,
            8.585164835,
            2.450123998,
            3.3640485589999995,
            5.884130767,
            4.196140875,
            2.477855984,
            3.09536191
           ]
          },
          {
           "label": "Median Income",
           "values": [
            75379,
            83160,
            83160,
            69193,
            63474,
            77774,
            74533,
            66417,
            55710,
            105659,
            62502,
            65845,
            72265,
            54859,
            62107,
            67896,
            70215,
            65880,
            71742,
            62355,
            60605,
            70262,
            66825,
            66399,
            62638,
            57859,
            85641,
            68997,
            70373,
            83698,
            58512,
            76706,
            60105,
            57518,
            94430,
            83985,
            57906,
            56169,
            130865,
            51770,
            72633,
            53563,
            80954,
            53067,
            69329,
            null,
            null,
            null,
            null,
            null,
            null,
            null
           ]
          },
          {
           "label": "Cap Rate",
           "values": [
            0.08378301618858279,
            0.06336880645355973,
            0.06513366376858698,
            0.07785594288114238,
            0.0781083458374295,
            0.042931788501197,
            0.07288125394867474,
            0.07224972861341311,
            0.07914891246832094,
            0.055590961633973424,
            0.07621931350481509,
            0.06754806131469984,
            0.06963275219909415,
            0.09955680075355948,
            0.0575110961066815,
            0.0583828418022698,
            0.06733420669311176,
            0.0688362049426571,
            0.075253576999517,
            0.0727485801857027,
            0.07075915878211739,
            0.07551689645237625,
            0.07590248834598179,
            0.06590883694470688,
            0.07456075155334899,
            0.07060706384447618,
            0.07996804057457489,
            0.08613816420245242,
            0.04590209282423215,
            0.03346790414344003,
            0.05856116645256192,
            0.07010915994304699,
            0.062274544531117734,
            0.06238847399378759,
            0.04973290598290598,
            0.07027676980224594,
            0.06393293392891165,
            0.058200020761006215,
            0.044639580934546334,
            0.07958609145552765,
            0.0649510532259023,
            0.029924352418310943,
            0.06437444857321338,
            0.0890898274836407,
            0.055223352575220236,
            0.08160010831872785,
            0.05153783577245125,
            0.04241221258653671,
            0.06426465771372421,
            0.06435980506928753,
            0.09829392059027238,
            0.06063514048278591
           ]
          },
          {
           "label": "Density",
           "values": [
            4574,
            10715,
            2830,
            1399,
            1864,
            3276,
            4554,
            1879,
            889,
            4457,
            935,
            2369,
            1526,
            792,
            1773,
            1253,
            607,
            470,
            1441,
            1231,
            1582,
            5019,
            417,
            544,
            1507,
            1113,
            2093,
            784,
            1831,
            7256,
            1941,
            1309,
            3071,
            1155,
            2029,
            2441,
            1789,
            5532,
            1686,
            1353,
            889,
            2218,
            931,
            887,
            946,
            1308,
            1181,
            3469,
            990,
            709,
            1022,
            1574
           ]
          },
          {
           "label": "Forecast Return (5yr)",
           "values": [
            0.017432308542858044,
            0.04005231359817185,
            0.031616774751457744,
            0.02972248709687042,
            0.025083075035207347,
            0.057472641491299374,
            0.03230928214359907,
            0.0277623053426106,
            0.0353220924413733,
            0.03894778339169491,
            0.02022776955568961,
            0.030024373811109683,
            0.0355768372486176,
            0.020744924710361268,
            0.031192958719738376,
            0.04234906725671062,
            0.03384474160082651,
            0.03698333404118026,
            0.0307342237610011,
            0.02886868798345144,
            0.02828864492562455,
            0.043748417519611886,
            0.033272277846694065,
            0.038726151451964334,
            0.02430627138127584,
            0.031201898027781724,
            0.03170065412031664,
            0.02809600085289721,
            0.048802643062602964,
            0.06302857500916836,
            0.05265745172130365,
            0.031307871962051204,
            0.04001485504580371,
            0.02402323021258645,
            0.04778075822773653,
            0.028284161160108783,
            0.04105804915954448,
            0.04641151382758979,
            0.05307963051148623,
            0.042058136116926326,
            0.030791800308550325,
            0.06852274849586792,
            0.02446896845178204,
            0.023022111265617262,
            0.04003115437527471,
            0.021800404086600444,
            0.03219167102523568,
            0.051284955681856204,
            0.03130665001760713,
            0.03245846319431056,
            0.0202252898662878,
            0.0517720771989032
           ]
          },
          {
           "label": "Sale Price Last",
           "values": [
            253512,
            497090,
            307675,
            228576,
            193270,
            711361,
            265912,
            188845,
            215442,
            455038,
            199477,
            200213,
            270907,
            165614,
            302133,
            309543,
            218314,
            242663,
            252586,
            221860,
            223010,
            308911,
            170113,
            295317,
            201822,
            254932,
            172719,
            158536,
            462724,
            1113664,
            402451,
            210700,
            307156,
            226965,
            449280,
            186292,
            283422,
            520206,
            632264,
            236574,
            235562,
            1219074,
            155279,
            168100,
            347679,
            132941,
            365091,
            555689,
            244240,
            257117,
            141494,
            404320
           ]
          },
          {
           "label": "Monthly Rent Last",
           "values": [
            1770,
            2625,
            1670,
            1483,
            1258,
            2545,
            1615,
            1137,
            1421,
            2108,
            1267,
            1127,
            1572,
            1374,
            1448,
            1506,
            1225,
            1392,
            1584,
            1345,
            1315,
            1944,
            1076,
            1622,
            1254,
            1500,
            1151,
            1138,
            1770,
            3106,
            1964,
            1231,
            1594,
            1180,
            1862,
            1091,
            1510,
            2523,
            2352,
            1569,
            1275,
            3040,
            833,
            1248,
            1600,
            904,
            1568,
            1964,
            1308,
            1379,
            1159,
            2043
           ]
          }
         ],
         "domain": {
          "x": [
           0,
           1
          ],
          "y": [
           0,
           1
          ]
         },
         "line": {
          "color": [
           75379,
           83160,
           83160,
           69193,
           63474,
           77774,
           74533,
           66417,
           55710,
           105659,
           62502,
           65845,
           72265,
           54859,
           62107,
           67896,
           70215,
           65880,
           71742,
           62355,
           60605,
           70262,
           66825,
           66399,
           62638,
           57859,
           85641,
           68997,
           70373,
           83698,
           58512,
           76706,
           60105,
           57518,
           94430,
           83985,
           57906,
           56169,
           130865,
           51770,
           72633,
           53563,
           80954,
           53067,
           69329,
           null,
           null,
           null,
           null,
           null,
           null,
           null
          ],
          "coloraxis": "coloraxis"
         },
         "name": "",
         "type": "parcoords"
        }
       ],
       "layout": {
        "coloraxis": {
         "colorbar": {
          "title": {
           "text": "Median Income"
          }
         },
         "colorscale": [
          [
           0,
           "#0d0887"
          ],
          [
           0.1111111111111111,
           "#46039f"
          ],
          [
           0.2222222222222222,
           "#7201a8"
          ],
          [
           0.3333333333333333,
           "#9c179e"
          ],
          [
           0.4444444444444444,
           "#bd3786"
          ],
          [
           0.5555555555555556,
           "#d8576b"
          ],
          [
           0.6666666666666666,
           "#ed7953"
          ],
          [
           0.7777777777777778,
           "#fb9f3a"
          ],
          [
           0.8888888888888888,
           "#fdca26"
          ],
          [
           1,
           "#f0f921"
          ]
         ]
        },
        "legend": {
         "tracegroupgap": 0
        },
        "template": {
         "data": {
          "bar": [
           {
            "error_x": {
             "color": "#2a3f5f"
            },
            "error_y": {
             "color": "#2a3f5f"
            },
            "marker": {
             "line": {
              "color": "#E5ECF6",
              "width": 0.5
             }
            },
            "type": "bar"
           }
          ],
          "barpolar": [
           {
            "marker": {
             "line": {
              "color": "#E5ECF6",
              "width": 0.5
             }
            },
            "type": "barpolar"
           }
          ],
          "carpet": [
           {
            "aaxis": {
             "endlinecolor": "#2a3f5f",
             "gridcolor": "white",
             "linecolor": "white",
             "minorgridcolor": "white",
             "startlinecolor": "#2a3f5f"
            },
            "baxis": {
             "endlinecolor": "#2a3f5f",
             "gridcolor": "white",
             "linecolor": "white",
             "minorgridcolor": "white",
             "startlinecolor": "#2a3f5f"
            },
            "type": "carpet"
           }
          ],
          "choropleth": [
           {
            "colorbar": {
             "outlinewidth": 0,
             "ticks": ""
            },
            "type": "choropleth"
           }
          ],
          "contour": [
           {
            "colorbar": {
             "outlinewidth": 0,
             "ticks": ""
            },
            "colorscale": [
             [
              0,
              "#0d0887"
             ],
             [
              0.1111111111111111,
              "#46039f"
             ],
             [
              0.2222222222222222,
              "#7201a8"
             ],
             [
              0.3333333333333333,
              "#9c179e"
             ],
             [
              0.4444444444444444,
              "#bd3786"
             ],
             [
              0.5555555555555556,
              "#d8576b"
             ],
             [
              0.6666666666666666,
              "#ed7953"
             ],
             [
              0.7777777777777778,
              "#fb9f3a"
             ],
             [
              0.8888888888888888,
              "#fdca26"
             ],
             [
              1,
              "#f0f921"
             ]
            ],
            "type": "contour"
           }
          ],
          "contourcarpet": [
           {
            "colorbar": {
             "outlinewidth": 0,
             "ticks": ""
            },
            "type": "contourcarpet"
           }
          ],
          "heatmap": [
           {
            "colorbar": {
             "outlinewidth": 0,
             "ticks": ""
            },
            "colorscale": [
             [
              0,
              "#0d0887"
             ],
             [
              0.1111111111111111,
              "#46039f"
             ],
             [
              0.2222222222222222,
              "#7201a8"
             ],
             [
              0.3333333333333333,
              "#9c179e"
             ],
             [
              0.4444444444444444,
              "#bd3786"
             ],
             [
              0.5555555555555556,
              "#d8576b"
             ],
             [
              0.6666666666666666,
              "#ed7953"
             ],
             [
              0.7777777777777778,
              "#fb9f3a"
             ],
             [
              0.8888888888888888,
              "#fdca26"
             ],
             [
              1,
              "#f0f921"
             ]
            ],
            "type": "heatmap"
           }
          ],
          "heatmapgl": [
           {
            "colorbar": {
             "outlinewidth": 0,
             "ticks": ""
            },
            "colorscale": [
             [
              0,
              "#0d0887"
             ],
             [
              0.1111111111111111,
              "#46039f"
             ],
             [
              0.2222222222222222,
              "#7201a8"
             ],
             [
              0.3333333333333333,
              "#9c179e"
             ],
             [
              0.4444444444444444,
              "#bd3786"
             ],
             [
              0.5555555555555556,
              "#d8576b"
             ],
             [
              0.6666666666666666,
              "#ed7953"
             ],
             [
              0.7777777777777778,
              "#fb9f3a"
             ],
             [
              0.8888888888888888,
              "#fdca26"
             ],
             [
              1,
              "#f0f921"
             ]
            ],
            "type": "heatmapgl"
           }
          ],
          "histogram": [
           {
            "marker": {
             "colorbar": {
              "outlinewidth": 0,
              "ticks": ""
             }
            },
            "type": "histogram"
           }
          ],
          "histogram2d": [
           {
            "colorbar": {
             "outlinewidth": 0,
             "ticks": ""
            },
            "colorscale": [
             [
              0,
              "#0d0887"
             ],
             [
              0.1111111111111111,
              "#46039f"
             ],
             [
              0.2222222222222222,
              "#7201a8"
             ],
             [
              0.3333333333333333,
              "#9c179e"
             ],
             [
              0.4444444444444444,
              "#bd3786"
             ],
             [
              0.5555555555555556,
              "#d8576b"
             ],
             [
              0.6666666666666666,
              "#ed7953"
             ],
             [
              0.7777777777777778,
              "#fb9f3a"
             ],
             [
              0.8888888888888888,
              "#fdca26"
             ],
             [
              1,
              "#f0f921"
             ]
            ],
            "type": "histogram2d"
           }
          ],
          "histogram2dcontour": [
           {
            "colorbar": {
             "outlinewidth": 0,
             "ticks": ""
            },
            "colorscale": [
             [
              0,
              "#0d0887"
             ],
             [
              0.1111111111111111,
              "#46039f"
             ],
             [
              0.2222222222222222,
              "#7201a8"
             ],
             [
              0.3333333333333333,
              "#9c179e"
             ],
             [
              0.4444444444444444,
              "#bd3786"
             ],
             [
              0.5555555555555556,
              "#d8576b"
             ],
             [
              0.6666666666666666,
              "#ed7953"
             ],
             [
              0.7777777777777778,
              "#fb9f3a"
             ],
             [
              0.8888888888888888,
              "#fdca26"
             ],
             [
              1,
              "#f0f921"
             ]
            ],
            "type": "histogram2dcontour"
           }
          ],
          "mesh3d": [
           {
            "colorbar": {
             "outlinewidth": 0,
             "ticks": ""
            },
            "type": "mesh3d"
           }
          ],
          "parcoords": [
           {
            "line": {
             "colorbar": {
              "outlinewidth": 0,
              "ticks": ""
             }
            },
            "type": "parcoords"
           }
          ],
          "pie": [
           {
            "automargin": true,
            "type": "pie"
           }
          ],
          "scatter": [
           {
            "marker": {
             "colorbar": {
              "outlinewidth": 0,
              "ticks": ""
             }
            },
            "type": "scatter"
           }
          ],
          "scatter3d": [
           {
            "line": {
             "colorbar": {
              "outlinewidth": 0,
              "ticks": ""
             }
            },
            "marker": {
             "colorbar": {
              "outlinewidth": 0,
              "ticks": ""
             }
            },
            "type": "scatter3d"
           }
          ],
          "scattercarpet": [
           {
            "marker": {
             "colorbar": {
              "outlinewidth": 0,
              "ticks": ""
             }
            },
            "type": "scattercarpet"
           }
          ],
          "scattergeo": [
           {
            "marker": {
             "colorbar": {
              "outlinewidth": 0,
              "ticks": ""
             }
            },
            "type": "scattergeo"
           }
          ],
          "scattergl": [
           {
            "marker": {
             "colorbar": {
              "outlinewidth": 0,
              "ticks": ""
             }
            },
            "type": "scattergl"
           }
          ],
          "scattermapbox": [
           {
            "marker": {
             "colorbar": {
              "outlinewidth": 0,
              "ticks": ""
             }
            },
            "type": "scattermapbox"
           }
          ],
          "scatterpolar": [
           {
            "marker": {
             "colorbar": {
              "outlinewidth": 0,
              "ticks": ""
             }
            },
            "type": "scatterpolar"
           }
          ],
          "scatterpolargl": [
           {
            "marker": {
             "colorbar": {
              "outlinewidth": 0,
              "ticks": ""
             }
            },
            "type": "scatterpolargl"
           }
          ],
          "scatterternary": [
           {
            "marker": {
             "colorbar": {
              "outlinewidth": 0,
              "ticks": ""
             }
            },
            "type": "scatterternary"
           }
          ],
          "surface": [
           {
            "colorbar": {
             "outlinewidth": 0,
             "ticks": ""
            },
            "colorscale": [
             [
              0,
              "#0d0887"
             ],
             [
              0.1111111111111111,
              "#46039f"
             ],
             [
              0.2222222222222222,
              "#7201a8"
             ],
             [
              0.3333333333333333,
              "#9c179e"
             ],
             [
              0.4444444444444444,
              "#bd3786"
             ],
             [
              0.5555555555555556,
              "#d8576b"
             ],
             [
              0.6666666666666666,
              "#ed7953"
             ],
             [
              0.7777777777777778,
              "#fb9f3a"
             ],
             [
              0.8888888888888888,
              "#fdca26"
             ],
             [
              1,
              "#f0f921"
             ]
            ],
            "type": "surface"
           }
          ],
          "table": [
           {
            "cells": {
             "fill": {
              "color": "#EBF0F8"
             },
             "line": {
              "color": "white"
             }
            },
            "header": {
             "fill": {
              "color": "#C8D4E3"
             },
             "line": {
              "color": "white"
             }
            },
            "type": "table"
           }
          ]
         },
         "layout": {
          "annotationdefaults": {
           "arrowcolor": "#2a3f5f",
           "arrowhead": 0,
           "arrowwidth": 1
          },
          "coloraxis": {
           "colorbar": {
            "outlinewidth": 0,
            "ticks": ""
           }
          },
          "colorscale": {
           "diverging": [
            [
             0,
             "#8e0152"
            ],
            [
             0.1,
             "#c51b7d"
            ],
            [
             0.2,
             "#de77ae"
            ],
            [
             0.3,
             "#f1b6da"
            ],
            [
             0.4,
             "#fde0ef"
            ],
            [
             0.5,
             "#f7f7f7"
            ],
            [
             0.6,
             "#e6f5d0"
            ],
            [
             0.7,
             "#b8e186"
            ],
            [
             0.8,
             "#7fbc41"
            ],
            [
             0.9,
             "#4d9221"
            ],
            [
             1,
             "#276419"
            ]
           ],
           "sequential": [
            [
             0,
             "#0d0887"
            ],
            [
             0.1111111111111111,
             "#46039f"
            ],
            [
             0.2222222222222222,
             "#7201a8"
            ],
            [
             0.3333333333333333,
             "#9c179e"
            ],
            [
             0.4444444444444444,
             "#bd3786"
            ],
            [
             0.5555555555555556,
             "#d8576b"
            ],
            [
             0.6666666666666666,
             "#ed7953"
            ],
            [
             0.7777777777777778,
             "#fb9f3a"
            ],
            [
             0.8888888888888888,
             "#fdca26"
            ],
            [
             1,
             "#f0f921"
            ]
           ],
           "sequentialminus": [
            [
             0,
             "#0d0887"
            ],
            [
             0.1111111111111111,
             "#46039f"
            ],
            [
             0.2222222222222222,
             "#7201a8"
            ],
            [
             0.3333333333333333,
             "#9c179e"
            ],
            [
             0.4444444444444444,
             "#bd3786"
            ],
            [
             0.5555555555555556,
             "#d8576b"
            ],
            [
             0.6666666666666666,
             "#ed7953"
            ],
            [
             0.7777777777777778,
             "#fb9f3a"
            ],
            [
             0.8888888888888888,
             "#fdca26"
            ],
            [
             1,
             "#f0f921"
            ]
           ]
          },
          "colorway": [
           "#636efa",
           "#EF553B",
           "#00cc96",
           "#ab63fa",
           "#FFA15A",
           "#19d3f3",
           "#FF6692",
           "#B6E880",
           "#FF97FF",
           "#FECB52"
          ],
          "font": {
           "color": "#2a3f5f"
          },
          "geo": {
           "bgcolor": "white",
           "lakecolor": "white",
           "landcolor": "#E5ECF6",
           "showlakes": true,
           "showland": true,
           "subunitcolor": "white"
          },
          "hoverlabel": {
           "align": "left"
          },
          "hovermode": "closest",
          "mapbox": {
           "style": "light"
          },
          "paper_bgcolor": "white",
          "plot_bgcolor": "#E5ECF6",
          "polar": {
           "angularaxis": {
            "gridcolor": "white",
            "linecolor": "white",
            "ticks": ""
           },
           "bgcolor": "#E5ECF6",
           "radialaxis": {
            "gridcolor": "white",
            "linecolor": "white",
            "ticks": ""
           }
          },
          "scene": {
           "xaxis": {
            "backgroundcolor": "#E5ECF6",
            "gridcolor": "white",
            "gridwidth": 2,
            "linecolor": "white",
            "showbackground": true,
            "ticks": "",
            "zerolinecolor": "white"
           },
           "yaxis": {
            "backgroundcolor": "#E5ECF6",
            "gridcolor": "white",
            "gridwidth": 2,
            "linecolor": "white",
            "showbackground": true,
            "ticks": "",
            "zerolinecolor": "white"
           },
           "zaxis": {
            "backgroundcolor": "#E5ECF6",
            "gridcolor": "white",
            "gridwidth": 2,
            "linecolor": "white",
            "showbackground": true,
            "ticks": "",
            "zerolinecolor": "white"
           }
          },
          "shapedefaults": {
           "line": {
            "color": "#2a3f5f"
           }
          },
          "ternary": {
           "aaxis": {
            "gridcolor": "white",
            "linecolor": "white",
            "ticks": ""
           },
           "baxis": {
            "gridcolor": "white",
            "linecolor": "white",
            "ticks": ""
           },
           "bgcolor": "#E5ECF6",
           "caxis": {
            "gridcolor": "white",
            "linecolor": "white",
            "ticks": ""
           }
          },
          "title": {
           "x": 0.05
          },
          "xaxis": {
           "automargin": true,
           "gridcolor": "white",
           "linecolor": "white",
           "ticks": "",
           "title": {
            "standoff": 15
           },
           "zerolinecolor": "white",
           "zerolinewidth": 2
          },
          "yaxis": {
           "automargin": true,
           "gridcolor": "white",
           "linecolor": "white",
           "ticks": "",
           "title": {
            "standoff": 15
           },
           "zerolinecolor": "white",
           "zerolinewidth": 2
          }
         }
        },
        "title": {
         "text": "Relationships between various real estate variables"
        }
       }
      },
      "text/html": [
       "<div>                            <div id=\"3f3f8573-4220-46dd-bec0-bb5a75f2d225\" class=\"plotly-graph-div\" style=\"height:525px; width:100%;\"></div>            <script type=\"text/javascript\">                require([\"plotly\"], function(Plotly) {                    window.PLOTLYENV=window.PLOTLYENV || {};                                    if (document.getElementById(\"3f3f8573-4220-46dd-bec0-bb5a75f2d225\")) {                    Plotly.newPlot(                        \"3f3f8573-4220-46dd-bec0-bb5a75f2d225\",                        [{\"dimensions\": [{\"label\": \"Murder Rate\", \"values\": [17.51753127, 4.116544521000002, 55.37205514, 13.31738763, 43.81893126, 7.116313366, 17.85930693, 59.28822593, 41.68286961, 24.09896642, 17.13607549, 24.15056629, 10.44565303, 20.51871307, 8.129904349, 7.180665545, 23.02623935, 11.1846763, 20.22766887, 6.4225812489999985, 9.082919982, 17.12449968, 11.57589107, 10.941767, 22.11218247, 6.94905658, 18.57464073, 13.6979478, 7.766500884, 6.1358074139999985, 16.07137, 10.61355174, 11.3669618, 7.682398909, 8.780581437999999, 15.88556196, 7.487947285, 5.712069603, 2.641975855, 9.33084145, 5.85264549, 2.908504273, 6.9262025939999985, 9.092498689, 5.525960965, 8.585164835, 2.450123998, 3.3640485589999995, 5.884130767, 4.196140875, 2.477855984, 3.09536191]}, {\"label\": \"Median Income\", \"values\": [75379.0, 83160.0, 83160.0, 69193.0, 63474.0, 77774.0, 74533.0, 66417.0, 55710.0, 105659.0, 62502.0, 65845.0, 72265.0, 54859.0, 62107.0, 67896.0, 70215.0, 65880.0, 71742.0, 62355.0, 60605.0, 70262.0, 66825.0, 66399.0, 62638.0, 57859.0, 85641.0, 68997.0, 70373.0, 83698.0, 58512.0, 76706.0, 60105.0, 57518.0, 94430.0, 83985.0, 57906.0, 56169.0, 130865.0, 51770.0, 72633.0, 53563.0, 80954.0, 53067.0, 69329.0, null, null, null, null, null, null, null]}, {\"label\": \"Cap Rate\", \"values\": [0.08378301618858279, 0.06336880645355973, 0.06513366376858698, 0.07785594288114238, 0.0781083458374295, 0.042931788501197, 0.07288125394867474, 0.07224972861341311, 0.07914891246832094, 0.055590961633973424, 0.07621931350481509, 0.06754806131469984, 0.06963275219909415, 0.09955680075355948, 0.0575110961066815, 0.0583828418022698, 0.06733420669311176, 0.0688362049426571, 0.075253576999517, 0.0727485801857027, 0.07075915878211739, 0.07551689645237625, 0.07590248834598179, 0.06590883694470688, 0.07456075155334899, 0.07060706384447618, 0.07996804057457489, 0.08613816420245242, 0.04590209282423215, 0.03346790414344003, 0.05856116645256192, 0.07010915994304699, 0.062274544531117734, 0.06238847399378759, 0.04973290598290598, 0.07027676980224594, 0.06393293392891165, 0.058200020761006215, 0.044639580934546334, 0.07958609145552765, 0.0649510532259023, 0.029924352418310943, 0.06437444857321338, 0.0890898274836407, 0.055223352575220236, 0.08160010831872785, 0.05153783577245125, 0.04241221258653671, 0.06426465771372421, 0.06435980506928753, 0.09829392059027238, 0.06063514048278591]}, {\"label\": \"Density\", \"values\": [4574.0, 10715.0, 2830.0, 1399.0, 1864.0, 3276.0, 4554.0, 1879.0, 889.0, 4457.0, 935.0, 2369.0, 1526.0, 792.0, 1773.0, 1253.0, 607.0, 470.0, 1441.0, 1231.0, 1582.0, 5019.0, 417.0, 544.0, 1507.0, 1113.0, 2093.0, 784.0, 1831.0, 7256.0, 1941.0, 1309.0, 3071.0, 1155.0, 2029.0, 2441.0, 1789.0, 5532.0, 1686.0, 1353.0, 889.0, 2218.0, 931.0, 887.0, 946.0, 1308.0, 1181.0, 3469.0, 990.0, 709.0, 1022.0, 1574.0]}, {\"label\": \"Forecast Return (5yr)\", \"values\": [0.017432308542858044, 0.04005231359817185, 0.031616774751457744, 0.02972248709687042, 0.025083075035207347, 0.057472641491299374, 0.03230928214359907, 0.0277623053426106, 0.0353220924413733, 0.03894778339169491, 0.02022776955568961, 0.030024373811109683, 0.0355768372486176, 0.020744924710361268, 0.031192958719738376, 0.04234906725671062, 0.03384474160082651, 0.03698333404118026, 0.0307342237610011, 0.02886868798345144, 0.02828864492562455, 0.043748417519611886, 0.033272277846694065, 0.038726151451964334, 0.02430627138127584, 0.031201898027781724, 0.03170065412031664, 0.02809600085289721, 0.048802643062602964, 0.06302857500916836, 0.05265745172130365, 0.031307871962051204, 0.04001485504580371, 0.02402323021258645, 0.04778075822773653, 0.028284161160108783, 0.04105804915954448, 0.04641151382758979, 0.05307963051148623, 0.042058136116926326, 0.030791800308550325, 0.06852274849586792, 0.02446896845178204, 0.023022111265617262, 0.04003115437527471, 0.021800404086600444, 0.03219167102523568, 0.051284955681856204, 0.03130665001760713, 0.03245846319431056, 0.0202252898662878, 0.0517720771989032]}, {\"label\": \"Sale Price Last\", \"values\": [253512.0, 497090.0, 307675.0, 228576.0, 193270.0, 711361.0, 265912.0, 188845.0, 215442.0, 455038.0, 199477.0, 200213.0, 270907.0, 165614.0, 302133.0, 309543.0, 218314.0, 242663.0, 252586.0, 221860.0, 223010.0, 308911.0, 170113.0, 295317.0, 201822.0, 254932.0, 172719.0, 158536.0, 462724.0, 1113664.0, 402451.0, 210700.0, 307156.0, 226965.0, 449280.0, 186292.0, 283422.0, 520206.0, 632264.0, 236574.0, 235562.0, 1219074.0, 155279.0, 168100.0, 347679.0, 132941.0, 365091.0, 555689.0, 244240.0, 257117.0, 141494.0, 404320.0]}, {\"label\": \"Monthly Rent Last\", \"values\": [1770.0, 2625.0, 1670.0, 1483.0, 1258.0, 2545.0, 1615.0, 1137.0, 1421.0, 2108.0, 1267.0, 1127.0, 1572.0, 1374.0, 1448.0, 1506.0, 1225.0, 1392.0, 1584.0, 1345.0, 1315.0, 1944.0, 1076.0, 1622.0, 1254.0, 1500.0, 1151.0, 1138.0, 1770.0, 3106.0, 1964.0, 1231.0, 1594.0, 1180.0, 1862.0, 1091.0, 1510.0, 2523.0, 2352.0, 1569.0, 1275.0, 3040.0, 833.0, 1248.0, 1600.0, 904.0, 1568.0, 1964.0, 1308.0, 1379.0, 1159.0, 2043.0]}], \"domain\": {\"x\": [0.0, 1.0], \"y\": [0.0, 1.0]}, \"line\": {\"color\": [75379.0, 83160.0, 83160.0, 69193.0, 63474.0, 77774.0, 74533.0, 66417.0, 55710.0, 105659.0, 62502.0, 65845.0, 72265.0, 54859.0, 62107.0, 67896.0, 70215.0, 65880.0, 71742.0, 62355.0, 60605.0, 70262.0, 66825.0, 66399.0, 62638.0, 57859.0, 85641.0, 68997.0, 70373.0, 83698.0, 58512.0, 76706.0, 60105.0, 57518.0, 94430.0, 83985.0, 57906.0, 56169.0, 130865.0, 51770.0, 72633.0, 53563.0, 80954.0, 53067.0, 69329.0, null, null, null, null, null, null, null], \"coloraxis\": \"coloraxis\"}, \"name\": \"\", \"type\": \"parcoords\"}],                        {\"coloraxis\": {\"colorbar\": {\"title\": {\"text\": \"Median Income\"}}, \"colorscale\": [[0.0, \"#0d0887\"], [0.1111111111111111, \"#46039f\"], [0.2222222222222222, \"#7201a8\"], [0.3333333333333333, \"#9c179e\"], [0.4444444444444444, \"#bd3786\"], [0.5555555555555556, \"#d8576b\"], [0.6666666666666666, \"#ed7953\"], [0.7777777777777778, \"#fb9f3a\"], [0.8888888888888888, \"#fdca26\"], [1.0, \"#f0f921\"]]}, \"legend\": {\"tracegroupgap\": 0}, \"template\": {\"data\": {\"bar\": [{\"error_x\": {\"color\": \"#2a3f5f\"}, \"error_y\": {\"color\": \"#2a3f5f\"}, \"marker\": {\"line\": {\"color\": \"#E5ECF6\", \"width\": 0.5}}, \"type\": \"bar\"}], \"barpolar\": [{\"marker\": {\"line\": {\"color\": \"#E5ECF6\", \"width\": 0.5}}, \"type\": \"barpolar\"}], \"carpet\": [{\"aaxis\": {\"endlinecolor\": \"#2a3f5f\", \"gridcolor\": \"white\", \"linecolor\": \"white\", \"minorgridcolor\": \"white\", \"startlinecolor\": \"#2a3f5f\"}, \"baxis\": {\"endlinecolor\": \"#2a3f5f\", \"gridcolor\": \"white\", \"linecolor\": \"white\", \"minorgridcolor\": \"white\", \"startlinecolor\": \"#2a3f5f\"}, \"type\": \"carpet\"}], \"choropleth\": [{\"colorbar\": {\"outlinewidth\": 0, \"ticks\": \"\"}, \"type\": \"choropleth\"}], \"contour\": [{\"colorbar\": {\"outlinewidth\": 0, \"ticks\": \"\"}, \"colorscale\": [[0.0, \"#0d0887\"], [0.1111111111111111, \"#46039f\"], [0.2222222222222222, \"#7201a8\"], [0.3333333333333333, \"#9c179e\"], [0.4444444444444444, \"#bd3786\"], [0.5555555555555556, \"#d8576b\"], [0.6666666666666666, \"#ed7953\"], [0.7777777777777778, \"#fb9f3a\"], [0.8888888888888888, \"#fdca26\"], [1.0, \"#f0f921\"]], \"type\": \"contour\"}], \"contourcarpet\": [{\"colorbar\": {\"outlinewidth\": 0, \"ticks\": \"\"}, \"type\": \"contourcarpet\"}], \"heatmap\": [{\"colorbar\": {\"outlinewidth\": 0, \"ticks\": \"\"}, \"colorscale\": [[0.0, \"#0d0887\"], [0.1111111111111111, \"#46039f\"], [0.2222222222222222, \"#7201a8\"], [0.3333333333333333, \"#9c179e\"], [0.4444444444444444, \"#bd3786\"], [0.5555555555555556, \"#d8576b\"], [0.6666666666666666, \"#ed7953\"], [0.7777777777777778, \"#fb9f3a\"], [0.8888888888888888, \"#fdca26\"], [1.0, \"#f0f921\"]], \"type\": \"heatmap\"}], \"heatmapgl\": [{\"colorbar\": {\"outlinewidth\": 0, \"ticks\": \"\"}, \"colorscale\": [[0.0, \"#0d0887\"], [0.1111111111111111, \"#46039f\"], [0.2222222222222222, \"#7201a8\"], [0.3333333333333333, \"#9c179e\"], [0.4444444444444444, \"#bd3786\"], [0.5555555555555556, \"#d8576b\"], [0.6666666666666666, \"#ed7953\"], [0.7777777777777778, \"#fb9f3a\"], [0.8888888888888888, \"#fdca26\"], [1.0, \"#f0f921\"]], \"type\": \"heatmapgl\"}], \"histogram\": [{\"marker\": {\"colorbar\": {\"outlinewidth\": 0, \"ticks\": \"\"}}, \"type\": \"histogram\"}], \"histogram2d\": [{\"colorbar\": {\"outlinewidth\": 0, \"ticks\": \"\"}, \"colorscale\": [[0.0, \"#0d0887\"], [0.1111111111111111, \"#46039f\"], [0.2222222222222222, \"#7201a8\"], [0.3333333333333333, \"#9c179e\"], [0.4444444444444444, \"#bd3786\"], [0.5555555555555556, \"#d8576b\"], [0.6666666666666666, \"#ed7953\"], [0.7777777777777778, \"#fb9f3a\"], [0.8888888888888888, \"#fdca26\"], [1.0, \"#f0f921\"]], \"type\": \"histogram2d\"}], \"histogram2dcontour\": [{\"colorbar\": {\"outlinewidth\": 0, \"ticks\": \"\"}, \"colorscale\": [[0.0, \"#0d0887\"], [0.1111111111111111, \"#46039f\"], [0.2222222222222222, \"#7201a8\"], [0.3333333333333333, \"#9c179e\"], [0.4444444444444444, \"#bd3786\"], [0.5555555555555556, \"#d8576b\"], [0.6666666666666666, \"#ed7953\"], [0.7777777777777778, \"#fb9f3a\"], [0.8888888888888888, \"#fdca26\"], [1.0, \"#f0f921\"]], \"type\": \"histogram2dcontour\"}], \"mesh3d\": [{\"colorbar\": {\"outlinewidth\": 0, \"ticks\": \"\"}, \"type\": \"mesh3d\"}], \"parcoords\": [{\"line\": {\"colorbar\": {\"outlinewidth\": 0, \"ticks\": \"\"}}, \"type\": \"parcoords\"}], \"pie\": [{\"automargin\": true, \"type\": \"pie\"}], \"scatter\": [{\"marker\": {\"colorbar\": {\"outlinewidth\": 0, \"ticks\": \"\"}}, \"type\": \"scatter\"}], \"scatter3d\": [{\"line\": {\"colorbar\": {\"outlinewidth\": 0, \"ticks\": \"\"}}, \"marker\": {\"colorbar\": {\"outlinewidth\": 0, \"ticks\": \"\"}}, \"type\": \"scatter3d\"}], \"scattercarpet\": [{\"marker\": {\"colorbar\": {\"outlinewidth\": 0, \"ticks\": \"\"}}, \"type\": \"scattercarpet\"}], \"scattergeo\": [{\"marker\": {\"colorbar\": {\"outlinewidth\": 0, \"ticks\": \"\"}}, \"type\": \"scattergeo\"}], \"scattergl\": [{\"marker\": {\"colorbar\": {\"outlinewidth\": 0, \"ticks\": \"\"}}, \"type\": \"scattergl\"}], \"scattermapbox\": [{\"marker\": {\"colorbar\": {\"outlinewidth\": 0, \"ticks\": \"\"}}, \"type\": \"scattermapbox\"}], \"scatterpolar\": [{\"marker\": {\"colorbar\": {\"outlinewidth\": 0, \"ticks\": \"\"}}, \"type\": \"scatterpolar\"}], \"scatterpolargl\": [{\"marker\": {\"colorbar\": {\"outlinewidth\": 0, \"ticks\": \"\"}}, \"type\": \"scatterpolargl\"}], \"scatterternary\": [{\"marker\": {\"colorbar\": {\"outlinewidth\": 0, \"ticks\": \"\"}}, \"type\": \"scatterternary\"}], \"surface\": [{\"colorbar\": {\"outlinewidth\": 0, \"ticks\": \"\"}, \"colorscale\": [[0.0, \"#0d0887\"], [0.1111111111111111, \"#46039f\"], [0.2222222222222222, \"#7201a8\"], [0.3333333333333333, \"#9c179e\"], [0.4444444444444444, \"#bd3786\"], [0.5555555555555556, \"#d8576b\"], [0.6666666666666666, \"#ed7953\"], [0.7777777777777778, \"#fb9f3a\"], [0.8888888888888888, \"#fdca26\"], [1.0, \"#f0f921\"]], \"type\": \"surface\"}], \"table\": [{\"cells\": {\"fill\": {\"color\": \"#EBF0F8\"}, \"line\": {\"color\": \"white\"}}, \"header\": {\"fill\": {\"color\": \"#C8D4E3\"}, \"line\": {\"color\": \"white\"}}, \"type\": \"table\"}]}, \"layout\": {\"annotationdefaults\": {\"arrowcolor\": \"#2a3f5f\", \"arrowhead\": 0, \"arrowwidth\": 1}, \"coloraxis\": {\"colorbar\": {\"outlinewidth\": 0, \"ticks\": \"\"}}, \"colorscale\": {\"diverging\": [[0, \"#8e0152\"], [0.1, \"#c51b7d\"], [0.2, \"#de77ae\"], [0.3, \"#f1b6da\"], [0.4, \"#fde0ef\"], [0.5, \"#f7f7f7\"], [0.6, \"#e6f5d0\"], [0.7, \"#b8e186\"], [0.8, \"#7fbc41\"], [0.9, \"#4d9221\"], [1, \"#276419\"]], \"sequential\": [[0.0, \"#0d0887\"], [0.1111111111111111, \"#46039f\"], [0.2222222222222222, \"#7201a8\"], [0.3333333333333333, \"#9c179e\"], [0.4444444444444444, \"#bd3786\"], [0.5555555555555556, \"#d8576b\"], [0.6666666666666666, \"#ed7953\"], [0.7777777777777778, \"#fb9f3a\"], [0.8888888888888888, \"#fdca26\"], [1.0, \"#f0f921\"]], \"sequentialminus\": [[0.0, \"#0d0887\"], [0.1111111111111111, \"#46039f\"], [0.2222222222222222, \"#7201a8\"], [0.3333333333333333, \"#9c179e\"], [0.4444444444444444, \"#bd3786\"], [0.5555555555555556, \"#d8576b\"], [0.6666666666666666, \"#ed7953\"], [0.7777777777777778, \"#fb9f3a\"], [0.8888888888888888, \"#fdca26\"], [1.0, \"#f0f921\"]]}, \"colorway\": [\"#636efa\", \"#EF553B\", \"#00cc96\", \"#ab63fa\", \"#FFA15A\", \"#19d3f3\", \"#FF6692\", \"#B6E880\", \"#FF97FF\", \"#FECB52\"], \"font\": {\"color\": \"#2a3f5f\"}, \"geo\": {\"bgcolor\": \"white\", \"lakecolor\": \"white\", \"landcolor\": \"#E5ECF6\", \"showlakes\": true, \"showland\": true, \"subunitcolor\": \"white\"}, \"hoverlabel\": {\"align\": \"left\"}, \"hovermode\": \"closest\", \"mapbox\": {\"style\": \"light\"}, \"paper_bgcolor\": \"white\", \"plot_bgcolor\": \"#E5ECF6\", \"polar\": {\"angularaxis\": {\"gridcolor\": \"white\", \"linecolor\": \"white\", \"ticks\": \"\"}, \"bgcolor\": \"#E5ECF6\", \"radialaxis\": {\"gridcolor\": \"white\", \"linecolor\": \"white\", \"ticks\": \"\"}}, \"scene\": {\"xaxis\": {\"backgroundcolor\": \"#E5ECF6\", \"gridcolor\": \"white\", \"gridwidth\": 2, \"linecolor\": \"white\", \"showbackground\": true, \"ticks\": \"\", \"zerolinecolor\": \"white\"}, \"yaxis\": {\"backgroundcolor\": \"#E5ECF6\", \"gridcolor\": \"white\", \"gridwidth\": 2, \"linecolor\": \"white\", \"showbackground\": true, \"ticks\": \"\", \"zerolinecolor\": \"white\"}, \"zaxis\": {\"backgroundcolor\": \"#E5ECF6\", \"gridcolor\": \"white\", \"gridwidth\": 2, \"linecolor\": \"white\", \"showbackground\": true, \"ticks\": \"\", \"zerolinecolor\": \"white\"}}, \"shapedefaults\": {\"line\": {\"color\": \"#2a3f5f\"}}, \"ternary\": {\"aaxis\": {\"gridcolor\": \"white\", \"linecolor\": \"white\", \"ticks\": \"\"}, \"baxis\": {\"gridcolor\": \"white\", \"linecolor\": \"white\", \"ticks\": \"\"}, \"bgcolor\": \"#E5ECF6\", \"caxis\": {\"gridcolor\": \"white\", \"linecolor\": \"white\", \"ticks\": \"\"}}, \"title\": {\"x\": 0.05}, \"xaxis\": {\"automargin\": true, \"gridcolor\": \"white\", \"linecolor\": \"white\", \"ticks\": \"\", \"title\": {\"standoff\": 15}, \"zerolinecolor\": \"white\", \"zerolinewidth\": 2}, \"yaxis\": {\"automargin\": true, \"gridcolor\": \"white\", \"linecolor\": \"white\", \"ticks\": \"\", \"title\": {\"standoff\": 15}, \"zerolinecolor\": \"white\", \"zerolinewidth\": 2}}}, \"title\": {\"text\": \"Relationships between various real estate variables\"}},                        {\"responsive\": true}                    ).then(function(){\n",
       "                            \n",
       "var gd = document.getElementById('3f3f8573-4220-46dd-bec0-bb5a75f2d225');\n",
       "var x = new MutationObserver(function (mutations, observer) {{\n",
       "        var display = window.getComputedStyle(gd).display;\n",
       "        if (!display || display === 'none') {{\n",
       "            console.log([gd, 'removed!']);\n",
       "            Plotly.purge(gd);\n",
       "            observer.disconnect();\n",
       "        }}\n",
       "}});\n",
       "\n",
       "// Listen for the removal of the full notebook cells\n",
       "var notebookContainer = gd.closest('#notebook-container');\n",
       "if (notebookContainer) {{\n",
       "    x.observe(notebookContainer, {childList: true});\n",
       "}}\n",
       "\n",
       "// Listen for the clearing of the current output cell\n",
       "var outputEl = gd.closest('.output');\n",
       "if (outputEl) {{\n",
       "    x.observe(outputEl, {childList: true});\n",
       "}}\n",
       "\n",
       "                        })                };                });            </script>        </div>"
      ]
     },
     "metadata": {},
     "output_type": "display_data"
    }
   ],
   "source": [
    "# Parallel Categories Plot\n",
    "\n",
    "def parallelcoord_func():\n",
    "\n",
    "\n",
    "    # Pulling a subset of data from combined df\n",
    "    # Min Population - leave equal to 0 if no conditions\n",
    "    min_population=0\n",
    "    columns_needed=['MSA',\n",
    "                    'Murder Rate',\n",
    "                    'Median income (dollars)',\n",
    "                    'Capitalization Rate Last',\n",
    "                    'Density',\n",
    "                    '5 Year Avg Return',\n",
    "                    'Sale Price Last',\n",
    "                    'Monthly Rent Last',\n",
    "                    ]\n",
    "    data_frame=combined_df[combined_df['Population']>min_population]\n",
    "\n",
    "    # data_frame.set_index('MSA', inplace=True)\n",
    "    \n",
    "    paralleldata_frame=data_frame[columns_needed].dropna(subset=columns_needed)\n",
    "\n",
    "\n",
    "\n",
    "    plotparallelcoord=px.parallel_coordinates(\n",
    "            paralleldata_frame,\n",
    "            labels={\"Median income (dollars)\": \"Median Income\",\n",
    "                    \"Capitalization Rate Last\": \"Cap Rate\",\n",
    "                    \"5 Year Avg Return\": \"Forecast Return (5yr)\",\n",
    "                    \"% Sale Price Change Since Feb 2019\": \"Sale Price Change\", \n",
    "                    \"% Rent Change Since Feb 2019\": \"Rent Price Change\"},\n",
    "            color=\"Median income (dollars)\",\n",
    "            title=\"Relationships between various real estate variables\")\n",
    "\n",
    "    return plotparallelcoord\n",
    "\n",
    "parallelcoord_func()"
   ]
  },
  {
   "cell_type": "code",
   "execution_count": null,
   "metadata": {},
   "outputs": [],
   "source": []
  },
  {
   "cell_type": "code",
   "execution_count": null,
   "metadata": {},
   "outputs": [],
   "source": []
  },
  {
   "cell_type": "code",
   "execution_count": null,
   "metadata": {},
   "outputs": [],
   "source": []
  }
 ],
 "metadata": {
  "kernelspec": {
   "display_name": "pyvizenv",
   "language": "python",
   "name": "pyvizenv"
  },
  "language_info": {
   "codemirror_mode": {
    "name": "ipython",
    "version": 3
   },
   "file_extension": ".py",
   "mimetype": "text/x-python",
   "name": "python",
   "nbconvert_exporter": "python",
   "pygments_lexer": "ipython3",
   "version": "3.8.3"
  }
 },
 "nbformat": 4,
 "nbformat_minor": 4
}
