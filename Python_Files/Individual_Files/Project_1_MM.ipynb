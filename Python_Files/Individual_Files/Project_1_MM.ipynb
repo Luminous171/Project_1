{
 "cells": [
  {
   "cell_type": "code",
   "execution_count": null,
   "metadata": {},
   "outputs": [],
   "source": [
    "# Importing Libraries Required to import API's and Graph/Interface with Data:\n",
    "import os\n",
    "import numpy as np\n",
    "import pandas as pd\n",
    "import json as js\n",
    "import requests\n",
    "import http.client\n",
    "from dotenv import load_dotenv\n",
    "from pathlib import Path\n",
    "from tkinter import *\n",
    "from tkinter import ttk"
   ]
  },
  {
   "cell_type": "code",
   "execution_count": null,
   "metadata": {},
   "outputs": [],
   "source": [
    "# Loading .env environment variable:\n",
    "load_dotenv()"
   ]
  },
  {
   "cell_type": "markdown",
   "metadata": {},
   "source": [
    "#### Extracting zip data and property data by Top 5 investment cities to be used in drop down list"
   ]
  },
  {
   "cell_type": "code",
   "execution_count": null,
   "metadata": {},
   "outputs": [],
   "source": [
    "# Defining csv paths to read Top Zip data and prop_type data csv which includes zip code and property type data:\n",
    "zip_csv = Path(\"../Data/zip_data.csv\")\n",
    "\n",
    "# imorting zip.csv and prop.csv to incorporate data into API, data selections:\n",
    "zip_df = pd.read_csv(zip_csv)\n",
    "zip_df.head()"
   ]
  },
  {
   "cell_type": "code",
   "execution_count": null,
   "metadata": {},
   "outputs": [],
   "source": [
    "# setting zip_string, list variable and creating zip_list which includes zip info from df above:\n",
    "zip_list = zip_df['Zip Codes'].tolist()"
   ]
  },
  {
   "cell_type": "code",
   "execution_count": null,
   "metadata": {},
   "outputs": [],
   "source": [
    "# building out dropdown of zip codes for user to make a selection and store in variable:\n",
    "# creating Tkinter window:\n",
    "master = Tk()\n",
    "master.title(\"Select a Zip Code\")\n",
    "master.geometry(\"300x200\")\n",
    "\n",
    "# defining function that will store zip selection once button is clicked:\n",
    "def selected():\n",
    "    zips = myselect.get()\n",
    "    print(zips)\n",
    "    \n",
    "    global zip_var\n",
    "    zip_var = zips\n",
    "\n",
    "# Creating combobox that stores zip data:\n",
    "myselect = ttk.Combobox(master, values=zip_list)\n",
    "myselect.current(0)\n",
    "myselect.pack()\n",
    "\n",
    "# Creating button that will print zip data and store in global variable:\n",
    "mybutton = Button(master, text=\"Select\", command=selected)\n",
    "mybutton.pack()\n",
    "\n",
    "master.mainloop()"
   ]
  },
  {
   "cell_type": "code",
   "execution_count": null,
   "metadata": {},
   "outputs": [],
   "source": [
    "# Setting API key for RAPID API Property Snapshot API:\n",
    "rapid_api_key = os.getenv('RAPID_API_KEY')\n",
    "\n",
    "# Verifying that key was passed through accurately:\n",
    "print(f\"Rapid Key type: {type(rapid_api_key)}\")"
   ]
  },
  {
   "cell_type": "code",
   "execution_count": null,
   "metadata": {},
   "outputs": [],
   "source": [
    "# Connecting Rapid API to my python code which houses sales data:\n",
    "conn = http.client.HTTPSConnection(\"realtor.p.rapidapi.com\")\n",
    "\n",
    "# Creating headers as per the Rapid API documentation:\n",
    "headers = {\n",
    "    'x-rapidapi-key': rapid_api_key,\n",
    "    'x-rapidapi-host': \"realtor.p.rapidapi.com\"\n",
    "    }\n",
    "\n",
    "# Initiating API request to pull property data from Rapid API:\n",
    "# Request for listing of Conodominiums within a specific zip code:\n",
    "conn.request(\"GET\", f\"/properties/v2/list-for-sale?limit=5&offset=0&sort=relevance&postal_code={zip_var}\",\n",
    "             headers=headers)\n",
    "\n",
    "# assigning response to variable \"res\" and reading the data and assigning to variable \"data\"_\n",
    "# Also formatting data response into JSON in order to read as JSON and format:\n",
    "res = conn.getresponse()\n",
    "data = res.read().decode('utf-8')\n",
    "json_obj = js.loads(data)\n",
    "print(js.dumps(json_obj, indent=5))\n"
   ]
  },
  {
   "cell_type": "code",
   "execution_count": null,
   "metadata": {},
   "outputs": [],
   "source": [
    "# Pulling data from top 5 properties to display useful sales data:\n",
    "df_sale1 = pd.json_normalize(json_obj['properties'][0])\n",
    "df_sale2 = pd.json_normalize(json_obj['properties'][1])\n",
    "df_sale3 = pd.json_normalize(json_obj['properties'][2])\n",
    "df_sale4 = pd.json_normalize(json_obj['properties'][3])\n",
    "df_sale5 = pd.json_normalize(json_obj['properties'][4])\n",
    "\n",
    "# combining sales data into single dataframe:\n",
    "top_5_sale = pd.concat([df_sale1, df_sale2, df_sale3, df_sale4, df_sale5])\n",
    "\n",
    "# Selecting columns that we want:\n",
    "top_5_show = top_5_sale[['prop_type','prop_status','price','baths_full','baths','beds','thumbnail','lot_size.units',\n",
    "                        'building_size.size','baths_half','mls.abbreviation']]\n",
    "top_5_show"
   ]
  },
  {
   "cell_type": "code",
   "execution_count": null,
   "metadata": {},
   "outputs": [],
   "source": [
    "# Pulling address data from top 5 properties for sale:\n",
    "df_add1 = pd.json_normalize(json_obj['properties'][0]['address'])\n",
    "df_add2 = pd.json_normalize(json_obj['properties'][1]['address'])\n",
    "df_add3 = pd.json_normalize(json_obj['properties'][2]['address'])\n",
    "df_add4 = pd.json_normalize(json_obj['properties'][3]['address'])\n",
    "df_add5 = pd.json_normalize(json_obj['properties'][4]['address'])\n",
    "\n",
    "# Updating column names for readability:\n",
    "top_5_add = pd.concat([df_add1, df_add2, df_add3, df_add4, df_add5])\n",
    "top_5_add.drop(columns=['fips_code'], inplace=True)\n",
    "top_5_add.columns = ['City', 'Address', 'Postal Code', 'State Code', 'State', 'County','Lattitude','Longitude',\n",
    "                     'Neighborhood']\n",
    "top_5_add"
   ]
  },
  {
   "cell_type": "code",
   "execution_count": null,
   "metadata": {},
   "outputs": [],
   "source": []
  }
 ],
 "metadata": {
  "kernelspec": {
   "display_name": "alpacaenv",
   "language": "python",
   "name": "alpacaenv"
  },
  "language_info": {
   "codemirror_mode": {
    "name": "ipython",
    "version": 3
   },
   "file_extension": ".py",
   "mimetype": "text/x-python",
   "name": "python",
   "nbconvert_exporter": "python",
   "pygments_lexer": "ipython3",
   "version": "3.7.7"
  }
 },
 "nbformat": 4,
 "nbformat_minor": 4
}
