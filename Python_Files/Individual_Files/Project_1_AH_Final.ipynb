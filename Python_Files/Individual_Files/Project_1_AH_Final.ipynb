{
 "cells": [
  {
   "cell_type": "code",
   "execution_count": 10,
   "metadata": {},
   "outputs": [],
   "source": [
    "# Import library\n",
    "import panel as pn\n",
    "pn.extension('plotly')\n",
    "import plotly.express as px\n",
    "import pandas as pd\n",
    "import hvplot.pandas\n",
    "import holoviews as hv\n",
    "import numpy as np\n",
    "from pathlib import Path\n",
    "import matplotlib.pyplot as plt\n",
    "import os\n",
    "from dotenv import load_dotenv\n",
    "from panel.interact import interact\n",
    "%matplotlib inline"
   ]
  },
  {
   "cell_type": "code",
   "execution_count": 11,
   "metadata": {},
   "outputs": [],
   "source": [
    "# read the csv file. This file will be used for sale price data\n",
    "# You don't need to do this each time as we are never changing the original data fram, called combined_df\n",
    "file_name='combined_df.csv'\n",
    "csv_file=Path(f\"../../Data/Clean/{file_name}\")\n",
    "combined_df= pd.read_csv(csv_file)"
   ]
  },
  {
   "cell_type": "code",
   "execution_count": 30,
   "metadata": {},
   "outputs": [
    {
     "data": {
      "text/html": [
       "<div>\n",
       "<style scoped>\n",
       "    .dataframe tbody tr th:only-of-type {\n",
       "        vertical-align: middle;\n",
       "    }\n",
       "\n",
       "    .dataframe tbody tr th {\n",
       "        vertical-align: top;\n",
       "    }\n",
       "\n",
       "    .dataframe thead th {\n",
       "        text-align: right;\n",
       "    }\n",
       "</style>\n",
       "<table border=\"1\" class=\"dataframe\">\n",
       "  <thead>\n",
       "    <tr style=\"text-align: right;\">\n",
       "      <th></th>\n",
       "      <th>% Rent Change Since Feb</th>\n",
       "    </tr>\n",
       "    <tr>\n",
       "      <th>MSA</th>\n",
       "      <th></th>\n",
       "    </tr>\n",
       "  </thead>\n",
       "  <tbody>\n",
       "    <tr>\n",
       "      <th>New York, NY</th>\n",
       "      <td>-0.022710</td>\n",
       "    </tr>\n",
       "    <tr>\n",
       "      <th>San Francisco, CA</th>\n",
       "      <td>-0.022040</td>\n",
       "    </tr>\n",
       "    <tr>\n",
       "      <th>San Jose, CA</th>\n",
       "      <td>-0.019671</td>\n",
       "    </tr>\n",
       "    <tr>\n",
       "      <th>Boston, MA</th>\n",
       "      <td>-0.011751</td>\n",
       "    </tr>\n",
       "    <tr>\n",
       "      <th>Washington, DC</th>\n",
       "      <td>-0.006598</td>\n",
       "    </tr>\n",
       "  </tbody>\n",
       "</table>\n",
       "</div>"
      ],
      "text/plain": [
       "                   % Rent Change Since Feb\n",
       "MSA                                       \n",
       "New York, NY                     -0.022710\n",
       "San Francisco, CA                -0.022040\n",
       "San Jose, CA                     -0.019671\n",
       "Boston, MA                       -0.011751\n",
       "Washington, DC                   -0.006598"
      ]
     },
     "execution_count": 30,
     "metadata": {},
     "output_type": "execute_result"
    }
   ],
   "source": [
    "# Pulling a subset of data from combined df\n",
    "# Min Population - leave equal to 0 if no conditions\n",
    "min_population=0\n",
    "columns_needed=['MSA','% Rent Change Since Feb']\n",
    "rent_price_df=combined_df[combined_df['Population']>min_population]\n",
    "# data_frame.set_index('MSA', inplace=True)\n",
    "rent_price_df=rent_price_df[columns_needed].dropna(subset=columns_needed)\n",
    "\n",
    "rent_price_df.set_index('MSA', inplace=True)\n",
    "rent_price_df.sort_values(by=['% Rent Change Since Feb']).head(5)"
   ]
  },
  {
   "cell_type": "code",
   "execution_count": 42,
   "metadata": {},
   "outputs": [
    {
     "data": {
      "application/vnd.holoviews_exec.v0+json": "",
      "text/html": [
       "<div id='1001'>\n",
       "\n",
       "\n",
       "\n",
       "\n",
       "\n",
       "  <div class=\"bk-root\" id=\"9010b577-7422-4d64-862c-c83c75893668\" data-root-id=\"1001\"></div>\n",
       "</div>\n",
       "<script type=\"application/javascript\">(function(root) {\n",
       "  function embed_document(root) {\n",
       "  var docs_json = {\"339e6d48-fd28-41b2-b9ce-814dcfbeb439\":{\"roots\":{\"references\":[{\"attributes\":{\"axis\":{\"id\":\"1018\"},\"dimension\":1,\"grid_line_color\":null,\"ticker\":null},\"id\":\"1021\",\"type\":\"Grid\"},{\"attributes\":{\"align\":null,\"below\":[{\"id\":\"1015\"}],\"center\":[{\"id\":\"1017\"},{\"id\":\"1021\"}],\"left\":[{\"id\":\"1018\"}],\"margin\":null,\"min_border_bottom\":10,\"min_border_left\":10,\"min_border_right\":10,\"min_border_top\":10,\"plot_height\":300,\"plot_width\":700,\"renderers\":[{\"id\":\"1041\"}],\"sizing_mode\":\"fixed\",\"title\":{\"id\":\"1007\"},\"toolbar\":{\"id\":\"1028\"},\"x_range\":{\"id\":\"1003\"},\"x_scale\":{\"id\":\"1011\"},\"y_range\":{\"id\":\"1004\"},\"y_scale\":{\"id\":\"1013\"}},\"id\":\"1006\",\"subtype\":\"Figure\",\"type\":\"Plot\"},{\"attributes\":{},\"id\":\"1022\",\"type\":\"SaveTool\"},{\"attributes\":{},\"id\":\"1024\",\"type\":\"WheelZoomTool\"},{\"attributes\":{\"source\":{\"id\":\"1035\"}},\"id\":\"1042\",\"type\":\"CDSView\"},{\"attributes\":{\"fill_alpha\":{\"value\":0.2},\"fill_color\":{\"value\":\"#1f77b3\"},\"line_alpha\":{\"value\":0.2},\"top\":{\"field\":\"percent_Rent_Change_Since_Feb\"},\"width\":{\"value\":0.8},\"x\":{\"field\":\"MSA\"}},\"id\":\"1040\",\"type\":\"VBar\"},{\"attributes\":{\"end\":0.0,\"reset_end\":0.0,\"reset_start\":-0.024321630010884766,\"start\":-0.024321630010884766,\"tags\":[[[\"% Rent Change Since Feb\",\"% Rent Change Since Feb\",null]]]},\"id\":\"1004\",\"type\":\"Range1d\"},{\"attributes\":{\"children\":[{\"id\":\"1002\"},{\"id\":\"1006\"},{\"id\":\"1063\"}],\"margin\":[0,0,0,0],\"name\":\"Row01523\",\"tags\":[\"embedded\"]},\"id\":\"1001\",\"type\":\"Row\"},{\"attributes\":{\"axis_label\":\"MSA\",\"bounds\":\"auto\",\"formatter\":{\"id\":\"1043\"},\"major_label_orientation\":\"horizontal\",\"ticker\":{\"id\":\"1016\"}},\"id\":\"1015\",\"type\":\"CategoricalAxis\"},{\"attributes\":{},\"id\":\"1043\",\"type\":\"CategoricalTickFormatter\"},{\"attributes\":{\"callback\":null,\"renderers\":[{\"id\":\"1041\"}],\"tags\":[\"hv_created\"],\"tooltips\":[[\"MSA\",\"@{MSA}\"],[\"% Rent Change Since Feb\",\"@{percent_Rent_Change_Since_Feb}\"]]},\"id\":\"1005\",\"type\":\"HoverTool\"},{\"attributes\":{\"margin\":[5,5,5,5],\"name\":\"HSpacer01528\",\"sizing_mode\":\"stretch_width\"},\"id\":\"1063\",\"type\":\"Spacer\"},{\"attributes\":{},\"id\":\"1046\",\"type\":\"BasicTickFormatter\"},{\"attributes\":{},\"id\":\"1011\",\"type\":\"CategoricalScale\"},{\"attributes\":{\"text\":\"Top 5 decrease in Rent prices since 02/2020\",\"text_color\":{\"value\":\"black\"},\"text_font_size\":{\"value\":\"12pt\"}},\"id\":\"1007\",\"type\":\"Title\"},{\"attributes\":{},\"id\":\"1016\",\"type\":\"CategoricalTicker\"},{\"attributes\":{\"overlay\":{\"id\":\"1027\"}},\"id\":\"1025\",\"type\":\"BoxZoomTool\"},{\"attributes\":{\"fill_alpha\":{\"value\":0.1},\"fill_color\":{\"value\":\"#1f77b3\"},\"line_alpha\":{\"value\":0.1},\"top\":{\"field\":\"percent_Rent_Change_Since_Feb\"},\"width\":{\"value\":0.8},\"x\":{\"field\":\"MSA\"}},\"id\":\"1039\",\"type\":\"VBar\"},{\"attributes\":{\"active_drag\":\"auto\",\"active_inspect\":\"auto\",\"active_multi\":null,\"active_scroll\":\"auto\",\"active_tap\":\"auto\",\"tools\":[{\"id\":\"1005\"},{\"id\":\"1022\"},{\"id\":\"1023\"},{\"id\":\"1024\"},{\"id\":\"1025\"},{\"id\":\"1026\"}]},\"id\":\"1028\",\"type\":\"Toolbar\"},{\"attributes\":{},\"id\":\"1023\",\"type\":\"PanTool\"},{\"attributes\":{\"axis\":{\"id\":\"1015\"},\"grid_line_color\":null,\"ticker\":null},\"id\":\"1017\",\"type\":\"Grid\"},{\"attributes\":{\"fill_color\":{\"value\":\"#1f77b3\"},\"top\":{\"field\":\"percent_Rent_Change_Since_Feb\"},\"width\":{\"value\":0.8},\"x\":{\"field\":\"MSA\"}},\"id\":\"1038\",\"type\":\"VBar\"},{\"attributes\":{\"bottom_units\":\"screen\",\"fill_alpha\":0.5,\"fill_color\":\"lightgrey\",\"left_units\":\"screen\",\"level\":\"overlay\",\"line_alpha\":1.0,\"line_color\":\"black\",\"line_dash\":[4,4],\"line_width\":2,\"right_units\":\"screen\",\"top_units\":\"screen\"},\"id\":\"1027\",\"type\":\"BoxAnnotation\"},{\"attributes\":{\"factors\":[\"New York, NY\",\"San Francisco, CA\",\"San Jose, CA\",\"Boston, MA\",\"Washington, DC\"],\"tags\":[[[\"MSA\",\"MSA\",null]]]},\"id\":\"1003\",\"type\":\"FactorRange\"},{\"attributes\":{},\"id\":\"1026\",\"type\":\"ResetTool\"},{\"attributes\":{},\"id\":\"1013\",\"type\":\"LinearScale\"},{\"attributes\":{\"data\":{\"MSA\":[\"New York, NY\",\"San Francisco, CA\",\"San Jose, CA\",\"Boston, MA\",\"Washington, DC\"],\"percent_Rent_Change_Since_Feb\":{\"__ndarray__\":\"ALZ7yWFBl79gEbmlu5GWvyAcZ2unJJS/gFSdl9gQiL8A6x00CAZ7vw==\",\"dtype\":\"float64\",\"order\":\"little\",\"shape\":[5]}},\"selected\":{\"id\":\"1036\"},\"selection_policy\":{\"id\":\"1053\"}},\"id\":\"1035\",\"type\":\"ColumnDataSource\"},{\"attributes\":{\"data_source\":{\"id\":\"1035\"},\"glyph\":{\"id\":\"1038\"},\"hover_glyph\":null,\"muted_glyph\":{\"id\":\"1040\"},\"nonselection_glyph\":{\"id\":\"1039\"},\"selection_glyph\":null,\"view\":{\"id\":\"1042\"}},\"id\":\"1041\",\"type\":\"GlyphRenderer\"},{\"attributes\":{\"margin\":[5,5,5,5],\"name\":\"HSpacer01527\",\"sizing_mode\":\"stretch_width\"},\"id\":\"1002\",\"type\":\"Spacer\"},{\"attributes\":{},\"id\":\"1019\",\"type\":\"BasicTicker\"},{\"attributes\":{\"axis_label\":\"% change in Rent\",\"bounds\":\"auto\",\"formatter\":{\"id\":\"1046\"},\"major_label_orientation\":\"horizontal\",\"ticker\":{\"id\":\"1019\"}},\"id\":\"1018\",\"type\":\"LinearAxis\"},{\"attributes\":{},\"id\":\"1053\",\"type\":\"UnionRenderers\"},{\"attributes\":{},\"id\":\"1036\",\"type\":\"Selection\"}],\"root_ids\":[\"1001\"]},\"title\":\"Bokeh Application\",\"version\":\"2.1.1\"}};\n",
       "  var render_items = [{\"docid\":\"339e6d48-fd28-41b2-b9ce-814dcfbeb439\",\"root_ids\":[\"1001\"],\"roots\":{\"1001\":\"9010b577-7422-4d64-862c-c83c75893668\"}}];\n",
       "  root.Bokeh.embed.embed_items_notebook(docs_json, render_items);\n",
       "  }\n",
       "if (root.Bokeh !== undefined) {\n",
       "    embed_document(root);\n",
       "  } else {\n",
       "    var attempts = 0;\n",
       "    var timer = setInterval(function(root) {\n",
       "      if (root.Bokeh !== undefined) {\n",
       "        clearInterval(timer);\n",
       "        embed_document(root);\n",
       "      } else if (document.readyState == \"complete\") {\n",
       "        attempts++;\n",
       "        if (attempts > 100) {\n",
       "          clearInterval(timer);\n",
       "          console.log(\"Bokeh: ERROR: Unable to run BokehJS code because BokehJS library is missing\");\n",
       "        }\n",
       "      }\n",
       "    }, 10, root)\n",
       "  }\n",
       "})(window);</script>"
      ],
      "text/plain": [
       ":Bars   [MSA]   (% Rent Change Since Feb)"
      ]
     },
     "execution_count": 42,
     "metadata": {
      "application/vnd.holoviews_exec.v0+json": {
       "id": "1001"
      }
     },
     "output_type": "execute_result"
    }
   ],
   "source": [
    "rent_price_df.sort_values(by=['% Rent Change Since Feb']).head(5).hvplot(kind='bar',title='Top 5 decrease in Rent prices since 02/2020',xlabel=\"MSA\",ylabel=\"% change in Rent\")"
   ]
  },
  {
   "cell_type": "code",
   "execution_count": null,
   "metadata": {},
   "outputs": [],
   "source": []
  }
 ],
 "metadata": {
  "kernelspec": {
   "display_name": "firstEnv",
   "language": "python",
   "name": "firstenv"
  },
  "language_info": {
   "codemirror_mode": {
    "name": "ipython",
    "version": 3
   },
   "file_extension": ".py",
   "mimetype": "text/x-python",
   "name": "python",
   "nbconvert_exporter": "python",
   "pygments_lexer": "ipython3",
   "version": "3.7.7"
  }
 },
 "nbformat": 4,
 "nbformat_minor": 4
}
