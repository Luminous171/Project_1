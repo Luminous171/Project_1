{
 "cells": [
  {
   "cell_type": "code",
   "execution_count": 1,
   "metadata": {},
   "outputs": [],
   "source": [
    "# Importing Libraries Required to import API's and Graph/Interface with Data:\n",
    "import os\n",
    "import numpy as np\n",
    "import pandas as pd\n",
    "import json as js\n",
    "import requests\n",
    "import http.client\n",
    "from dotenv import load_dotenv\n",
    "from pathlib import Path\n",
    "from tkinter import *\n",
    "from tkinter import ttk"
   ]
  },
  {
   "cell_type": "markdown",
   "metadata": {},
   "source": [
    "The below step was included in order to load my .env file with the API key however, for ease of grading I have simply incorporated the API key within the code below so this code is no longer relevant."
   ]
  },
  {
   "cell_type": "code",
   "execution_count": 2,
   "metadata": {},
   "outputs": [],
   "source": [
    "# Loading .env environment variable:\n",
    "#load_dotenv()"
   ]
  },
  {
   "cell_type": "markdown",
   "metadata": {},
   "source": [
    "#### Extracting zip data and property data by Top 5 investment cities to be used in drop down list"
   ]
  },
  {
   "cell_type": "code",
   "execution_count": 3,
   "metadata": {},
   "outputs": [
    {
     "data": {
      "text/html": [
       "<div>\n",
       "<style scoped>\n",
       "    .dataframe tbody tr th:only-of-type {\n",
       "        vertical-align: middle;\n",
       "    }\n",
       "\n",
       "    .dataframe tbody tr th {\n",
       "        vertical-align: top;\n",
       "    }\n",
       "\n",
       "    .dataframe thead th {\n",
       "        text-align: right;\n",
       "    }\n",
       "</style>\n",
       "<table border=\"1\" class=\"dataframe\">\n",
       "  <thead>\n",
       "    <tr style=\"text-align: right;\">\n",
       "      <th></th>\n",
       "      <th>City</th>\n",
       "      <th>State</th>\n",
       "      <th>Zip Codes</th>\n",
       "    </tr>\n",
       "  </thead>\n",
       "  <tbody>\n",
       "    <tr>\n",
       "      <th>0</th>\n",
       "      <td>Tampa</td>\n",
       "      <td>FL</td>\n",
       "      <td>33602</td>\n",
       "    </tr>\n",
       "    <tr>\n",
       "      <th>1</th>\n",
       "      <td>Tampa</td>\n",
       "      <td>FL</td>\n",
       "      <td>33603</td>\n",
       "    </tr>\n",
       "    <tr>\n",
       "      <th>2</th>\n",
       "      <td>Tampa</td>\n",
       "      <td>FL</td>\n",
       "      <td>33604</td>\n",
       "    </tr>\n",
       "    <tr>\n",
       "      <th>3</th>\n",
       "      <td>Tampa</td>\n",
       "      <td>FL</td>\n",
       "      <td>33605</td>\n",
       "    </tr>\n",
       "    <tr>\n",
       "      <th>4</th>\n",
       "      <td>Tampa</td>\n",
       "      <td>FL</td>\n",
       "      <td>33601</td>\n",
       "    </tr>\n",
       "  </tbody>\n",
       "</table>\n",
       "</div>"
      ],
      "text/plain": [
       "    City State  Zip Codes\n",
       "0  Tampa    FL      33602\n",
       "1  Tampa    FL      33603\n",
       "2  Tampa    FL      33604\n",
       "3  Tampa    FL      33605\n",
       "4  Tampa    FL      33601"
      ]
     },
     "execution_count": 3,
     "metadata": {},
     "output_type": "execute_result"
    }
   ],
   "source": [
    "# Defining csv paths to read Top Zip data and prop_type data csv which includes zip code and property type data:\n",
    "zip_csv = Path(\"../../Data/zip_data.csv\")\n",
    "\n",
    "# imorting zip.csv to incorporate data into API, data selections:\n",
    "zip_df = pd.read_csv(zip_csv)\n",
    "zip_df.head()"
   ]
  },
  {
   "cell_type": "code",
   "execution_count": 4,
   "metadata": {},
   "outputs": [],
   "source": [
    "# setting zip_string, list variable and creating zip_list which includes zip info from df above:\n",
    "zip_list = zip_df['Zip Codes'].tolist()"
   ]
  },
  {
   "cell_type": "code",
   "execution_count": 5,
   "metadata": {},
   "outputs": [
    {
     "name": "stdout",
     "output_type": "stream",
     "text": [
      "33602\n",
      "33605\n",
      "33605\n",
      "33614\n",
      "33614\n",
      "33684\n"
     ]
    }
   ],
   "source": [
    "# building out dropdown of zip codes for user to make a selection and store in variable:\n",
    "# creating Tkinter window:\n",
    "master = Tk()\n",
    "master.title(\"Select a Zip Code\")\n",
    "master.geometry(\"300x200\")\n",
    "\n",
    "# defining function that will store zip selection once button is clicked:\n",
    "def selected():\n",
    "    zips = myselect.get()\n",
    "    print(zips)\n",
    "    \n",
    "    global zip_var\n",
    "    zip_var = zips\n",
    "\n",
    "# Creating combobox that stores zip data:\n",
    "myselect = ttk.Combobox(master, values=zip_list)\n",
    "myselect.current(0)\n",
    "myselect.pack()\n",
    "\n",
    "# Creating button that will print zip data and store in global variable:\n",
    "mybutton = Button(master, text=\"Select\", command=selected)\n",
    "mybutton.pack()\n",
    "\n",
    "master.mainloop()"
   ]
  },
  {
   "cell_type": "markdown",
   "metadata": {},
   "source": [
    "The Cell below was required as I stored the API key within a .env file.\n",
    "However, for ease of use for grading I have just added the API key to the code below. That being said, the cell below is not required in order to pull the API data."
   ]
  },
  {
   "cell_type": "code",
   "execution_count": 10,
   "metadata": {},
   "outputs": [
    {
     "name": "stdout",
     "output_type": "stream",
     "text": [
      "Rapid Key type: <class 'NoneType'>\n"
     ]
    }
   ],
   "source": [
    "# Setting API key for RAPID API Property Snapshot API:\n",
    "rapid_api_key = os.getenv('RAPID_API_KEY')\n",
    "\n",
    "# Verifying that key was passed through accurately:\n",
    "print(f\"Rapid Key type: {type(rapid_api_key)}\")"
   ]
  },
  {
   "cell_type": "code",
   "execution_count": 7,
   "metadata": {},
   "outputs": [
    {
     "name": "stdout",
     "output_type": "stream",
     "text": [
      "{\n",
      "     \"meta\": {\n",
      "          \"build\": \"3.23.123\",\n",
      "          \"schema\": \"core.3\",\n",
      "          \"tracking_params\": {\n",
      "               \"channel\": \"for_sale\",\n",
      "               \"siteSection\": \"for_sale\",\n",
      "               \"city\": \"unknown\",\n",
      "               \"county\": \"unknown\",\n",
      "               \"neighborhood\": \"unknown\",\n",
      "               \"searchCityState\": \"unknown\",\n",
      "               \"state\": \"unknown\",\n",
      "               \"zip\": \"33684\",\n",
      "               \"srpPropertyStatus\": \"srp:for_sale\",\n",
      "               \"listingActivity\": \"unknown\",\n",
      "               \"propertyStatus\": \"for_sale\",\n",
      "               \"propertyType\": \"any\",\n",
      "               \"searchBathrooms\": \"any\",\n",
      "               \"searchBedrooms\": \"any\",\n",
      "               \"searchMaxPrice\": \"unknown\",\n",
      "               \"searchMinPrice\": \"unknown\",\n",
      "               \"searchRadius\": \"unknown\",\n",
      "               \"searchHouseSqft\": \"any\",\n",
      "               \"searchLotSqft\": \"any\",\n",
      "               \"searchResults\": \"unknown\",\n",
      "               \"sortResults\": \"relevance\",\n",
      "               \"searchCoordinates\": \"unknown\",\n",
      "               \"version\": \"1.0\"\n",
      "          },\n",
      "          \"tracking\": \"type|meta|data|resource_type|property_list|query|client_id|rdc_mobile_native,13.3.0.53|prop_status|for_sale|schema|core.3|limit|offset|postal_code|33684|sort|relevance|count|total^5|0^^$0|1|2|$3|4|5|$6|7|8|9|A|B|C|K|D|L|E|F|G|H]|8|9|I|-5|J|-5]]\",\n",
      "          \"returned_rows\": 0,\n",
      "          \"matching_rows\": 0\n",
      "     },\n",
      "     \"properties\": []\n",
      "}\n"
     ]
    }
   ],
   "source": [
    "# Connecting Rapid API to my python code which houses sales data:\n",
    "conn = http.client.HTTPSConnection(\"realtor.p.rapidapi.com\")\n",
    "\n",
    "# Creating headers as per the Rapid API documentation:\n",
    "headers = {\n",
    "    'x-rapidapi-key': 'faef5b5514msh2bba6e6b7604d8bp1a47a8jsn6b34037c7c72',\n",
    "    'x-rapidapi-host': \"realtor.p.rapidapi.com\"\n",
    "    }\n",
    "\n",
    "# Initiating API request to pull property data from Rapid API:\n",
    "conn.request(\"GET\", f\"/properties/v2/list-for-sale?limit=5&offset=0&sort=relevance&postal_code={zip_var}\",\n",
    "             headers=headers)\n",
    "\n",
    "# assigning response to variable \"res\" and reading the data and assigning to variable \"data\"_\n",
    "# Also formatting data response into JSON in order to read as JSON within an indented format:\n",
    "res = conn.getresponse()\n",
    "data = res.read().decode('utf-8')\n",
    "json_obj = js.loads(data)\n",
    "print(js.dumps(json_obj, indent=5))"
   ]
  },
  {
   "cell_type": "code",
   "execution_count": 8,
   "metadata": {},
   "outputs": [
    {
     "ename": "IndexError",
     "evalue": "list index out of range",
     "output_type": "error",
     "traceback": [
      "\u001b[1;31m---------------------------------------------------------------------------\u001b[0m",
      "\u001b[1;31mIndexError\u001b[0m                                Traceback (most recent call last)",
      "\u001b[1;32m<ipython-input-8-33a89197bfee>\u001b[0m in \u001b[0;36m<module>\u001b[1;34m\u001b[0m\n\u001b[0;32m      1\u001b[0m \u001b[1;31m# Pulling data from top 5 properties to display useful sales data:\u001b[0m\u001b[1;33m\u001b[0m\u001b[1;33m\u001b[0m\u001b[1;33m\u001b[0m\u001b[0m\n\u001b[1;32m----> 2\u001b[1;33m \u001b[0mdf_sale1\u001b[0m \u001b[1;33m=\u001b[0m \u001b[0mpd\u001b[0m\u001b[1;33m.\u001b[0m\u001b[0mjson_normalize\u001b[0m\u001b[1;33m(\u001b[0m\u001b[0mjson_obj\u001b[0m\u001b[1;33m[\u001b[0m\u001b[1;34m'properties'\u001b[0m\u001b[1;33m]\u001b[0m\u001b[1;33m[\u001b[0m\u001b[1;36m0\u001b[0m\u001b[1;33m]\u001b[0m\u001b[1;33m)\u001b[0m\u001b[1;33m\u001b[0m\u001b[1;33m\u001b[0m\u001b[0m\n\u001b[0m\u001b[0;32m      3\u001b[0m \u001b[0mdf_sale2\u001b[0m \u001b[1;33m=\u001b[0m \u001b[0mpd\u001b[0m\u001b[1;33m.\u001b[0m\u001b[0mjson_normalize\u001b[0m\u001b[1;33m(\u001b[0m\u001b[0mjson_obj\u001b[0m\u001b[1;33m[\u001b[0m\u001b[1;34m'properties'\u001b[0m\u001b[1;33m]\u001b[0m\u001b[1;33m[\u001b[0m\u001b[1;36m1\u001b[0m\u001b[1;33m]\u001b[0m\u001b[1;33m)\u001b[0m\u001b[1;33m\u001b[0m\u001b[1;33m\u001b[0m\u001b[0m\n\u001b[0;32m      4\u001b[0m \u001b[0mdf_sale3\u001b[0m \u001b[1;33m=\u001b[0m \u001b[0mpd\u001b[0m\u001b[1;33m.\u001b[0m\u001b[0mjson_normalize\u001b[0m\u001b[1;33m(\u001b[0m\u001b[0mjson_obj\u001b[0m\u001b[1;33m[\u001b[0m\u001b[1;34m'properties'\u001b[0m\u001b[1;33m]\u001b[0m\u001b[1;33m[\u001b[0m\u001b[1;36m2\u001b[0m\u001b[1;33m]\u001b[0m\u001b[1;33m)\u001b[0m\u001b[1;33m\u001b[0m\u001b[1;33m\u001b[0m\u001b[0m\n\u001b[0;32m      5\u001b[0m \u001b[0mdf_sale4\u001b[0m \u001b[1;33m=\u001b[0m \u001b[0mpd\u001b[0m\u001b[1;33m.\u001b[0m\u001b[0mjson_normalize\u001b[0m\u001b[1;33m(\u001b[0m\u001b[0mjson_obj\u001b[0m\u001b[1;33m[\u001b[0m\u001b[1;34m'properties'\u001b[0m\u001b[1;33m]\u001b[0m\u001b[1;33m[\u001b[0m\u001b[1;36m3\u001b[0m\u001b[1;33m]\u001b[0m\u001b[1;33m)\u001b[0m\u001b[1;33m\u001b[0m\u001b[1;33m\u001b[0m\u001b[0m\n",
      "\u001b[1;31mIndexError\u001b[0m: list index out of range"
     ]
    }
   ],
   "source": [
    "# Pulling data from top 5 properties to display useful sales data:\n",
    "df_sale1 = pd.json_normalize(json_obj['properties'][0])\n",
    "df_sale2 = pd.json_normalize(json_obj['properties'][1])\n",
    "df_sale3 = pd.json_normalize(json_obj['properties'][2])\n",
    "df_sale4 = pd.json_normalize(json_obj['properties'][3])\n",
    "df_sale5 = pd.json_normalize(json_obj['properties'][4])\n",
    "\n",
    "# combining sales data into single dataframe:\n",
    "top_5_sale = pd.concat([df_sale1, df_sale2, df_sale3, df_sale4, df_sale5])\n",
    "\n",
    "# Selecting columns that are relevant:\n",
    "top_5_show = top_5_sale[['prop_type','prop_status','price','baths_full','baths','beds','thumbnail','lot_size.units',\n",
    "                        'building_size.size','baths_half','mls.abbreviation']]\n",
    "top_5_show"
   ]
  },
  {
   "cell_type": "code",
   "execution_count": null,
   "metadata": {},
   "outputs": [],
   "source": [
    "# Pulling address data from top 5 properties for sale:\n",
    "df_add1 = pd.json_normalize(json_obj['properties'][0]['address'])\n",
    "df_add2 = pd.json_normalize(json_obj['properties'][1]['address'])\n",
    "df_add3 = pd.json_normalize(json_obj['properties'][2]['address'])\n",
    "df_add4 = pd.json_normalize(json_obj['properties'][3]['address'])\n",
    "df_add5 = pd.json_normalize(json_obj['properties'][4]['address'])\n",
    "\n",
    "# Updating column names for readability:\n",
    "top_5_add = pd.concat([df_add1, df_add2, df_add3, df_add4, df_add5])\n",
    "top_5_add.drop(columns=['fips_code'], inplace=True)\n",
    "top_5_add.columns = ['City', 'Address', 'Postal Code', 'State Code', 'State', 'County','Lattitude','Longitude',\n",
    "                     'Neighborhood']\n",
    "top_5_add"
   ]
  },
  {
   "cell_type": "code",
   "execution_count": null,
   "metadata": {},
   "outputs": [],
   "source": []
  }
 ],
 "metadata": {
  "kernelspec": {
   "display_name": "alpacaenv",
   "language": "python",
   "name": "alpacaenv"
  },
  "language_info": {
   "codemirror_mode": {
    "name": "ipython",
    "version": 3
   },
   "file_extension": ".py",
   "mimetype": "text/x-python",
   "name": "python",
   "nbconvert_exporter": "python",
   "pygments_lexer": "ipython3",
   "version": "3.8.3"
  }
 },
 "nbformat": 4,
 "nbformat_minor": 4
}
